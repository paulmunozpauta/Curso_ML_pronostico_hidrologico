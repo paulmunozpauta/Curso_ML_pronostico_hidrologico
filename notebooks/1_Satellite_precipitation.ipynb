{
  "cells": [
    {
      "cell_type": "markdown",
      "source": [
        "# Curso: Machine Leaarning para Pronóstico Hidrológico"
      ],
      "metadata": {
        "id": "MQsQRnesA61s"
      }
    },
    {
      "cell_type": "markdown",
      "metadata": {
        "id": "yxok-7bskqPv"
      },
      "source": [
        "<div style=\"text-align:center;\">\n",
        "    <img src=\"https://github.com/paulmunozpauta/Curso_ML_pronostico_hidrologico/blob/main/notebooks/static/imgs/Logo_course.png?raw=true\" width=\"300\">\n",
        "    <p style=\"margin-top:10px;\">\n",
        "        Contacto: paul.andres.munoz@gmail.com\n",
        "    </p>\n",
        "    <p><a href=\"https://paulmunozpauta.github.io/paulmunozpauta/index.html\" target=\"_blank\">Website personal</a></p>\n",
        "</div>\n",
        "\n",
        "\n"
      ]
    },
    {
      "cell_type": "markdown",
      "source": [
        "## ✅ Antes de comenzar: sigue estos 4 pasos para ejecutar el notebook en Google Colab\n"
      ],
      "metadata": {
        "id": "UTb7cPclBVf7"
      }
    },
    {
      "cell_type": "markdown",
      "source": [
        "Paso 1. Clona el repositorio de GitHub con los notebooks y datos del curso.\n"
      ],
      "metadata": {
        "id": "9u3BFkcilU51"
      }
    },
    {
      "cell_type": "code",
      "source": [
        "!git clone -- https://github.com/paulmunozpauta/Curso_ML_pronostico_hidrologico.git"
      ],
      "metadata": {
        "id": "QC5sdmsJkrm-",
        "outputId": "208ffc0b-0c15-48fa-80f7-0b98c3b5b68f",
        "colab": {
          "base_uri": "https://localhost:8080/"
        }
      },
      "execution_count": 1,
      "outputs": [
        {
          "output_type": "stream",
          "name": "stdout",
          "text": [
            "Cloning into 'Curso_ML_pronostico_hidrologico'...\n",
            "remote: Enumerating objects: 521, done.\u001b[K\n",
            "remote: Counting objects: 100% (53/53), done.\u001b[K\n",
            "remote: Compressing objects: 100% (42/42), done.\u001b[K\n",
            "remote: Total 521 (delta 33), reused 22 (delta 11), pack-reused 468 (from 2)\u001b[K\n",
            "Receiving objects: 100% (521/521), 1.04 GiB | 24.02 MiB/s, done.\n",
            "Resolving deltas: 100% (54/54), done.\n",
            "Updating files: 100% (430/430), done.\n"
          ]
        }
      ]
    },
    {
      "cell_type": "markdown",
      "source": [
        "Paso 2. Accede a la carpeta clonada.\n"
      ],
      "metadata": {
        "id": "LyG9P-Uu_qEi"
      }
    },
    {
      "cell_type": "code",
      "source": [
        "ls"
      ],
      "metadata": {
        "id": "gcw9i_9yQ6oX",
        "outputId": "eb56c8e7-d7e8-4921-f592-e0b1ecc6a2f3",
        "colab": {
          "base_uri": "https://localhost:8080/"
        }
      },
      "execution_count": 4,
      "outputs": [
        {
          "output_type": "stream",
          "name": "stdout",
          "text": [
            "\u001b[0m\u001b[01;34mCurso_ML_pronostico_hidrologico\u001b[0m/  \u001b[01;34msample_data\u001b[0m/\n"
          ]
        }
      ]
    },
    {
      "cell_type": "code",
      "source": [
        "%cd Curso_ML_pronostico_hidrologico"
      ],
      "metadata": {
        "id": "86fWT58GkyF8",
        "outputId": "5b8a5465-e105-4a5b-bde1-5e7034f7ba53",
        "colab": {
          "base_uri": "https://localhost:8080/"
        }
      },
      "execution_count": 5,
      "outputs": [
        {
          "output_type": "stream",
          "name": "stdout",
          "text": [
            "/content/Curso_ML_pronostico_hidrologico\n"
          ]
        }
      ]
    },
    {
      "cell_type": "code",
      "execution_count": 6,
      "metadata": {
        "id": "uevmoKhHkqPx",
        "outputId": "86d39492-c7ba-4427-aaf7-ec81a1343b80",
        "colab": {
          "base_uri": "https://localhost:8080/"
        }
      },
      "outputs": [
        {
          "output_type": "stream",
          "name": "stdout",
          "text": [
            "LICENSE  \u001b[0m\u001b[01;34mnotebooks\u001b[0m/  poetry.lock  \u001b[01;34mPresentaciones\u001b[0m/  pyproject.toml  README.md\n"
          ]
        }
      ],
      "source": [
        "ls"
      ]
    },
    {
      "cell_type": "markdown",
      "source": [
        "Paso 3. Configura el entorno para ejecutar el código del curso.\n"
      ],
      "metadata": {
        "id": "In8RPfUmlbBz"
      }
    },
    {
      "cell_type": "code",
      "source": [
        "# 1. Desinstala todo lo que puede estar causando conflictos binarios\n",
        "!pip uninstall -y numpy pandas dask cupy shapely geopandas rasterio rioxarray xarray fiona\n",
        "\n",
        "# 2. Instala versiones estables y probadas (compatibles entre sí)\n",
        "!pip install numpy==1.24.4 pandas==1.5.3 shapely==2.0.1 geopandas==0.13.2 \\\n",
        "             rasterio==1.3.9 rioxarray==0.14.1 xarray==2023.1.0 fiona==1.9.4 dask==2023.3.0\n"
      ],
      "metadata": {
        "id": "o44cYtwgjfmn",
        "outputId": "d85f421b-899c-43ad-d1ae-d0d3678f9852",
        "colab": {
          "base_uri": "https://localhost:8080/",
          "height": 1000
        }
      },
      "execution_count": 10,
      "outputs": [
        {
          "output_type": "stream",
          "name": "stdout",
          "text": [
            "Found existing installation: numpy 1.26.4\n",
            "Uninstalling numpy-1.26.4:\n",
            "  Successfully uninstalled numpy-1.26.4\n",
            "Found existing installation: pandas 1.5.3\n",
            "Uninstalling pandas-1.5.3:\n",
            "  Successfully uninstalled pandas-1.5.3\n",
            "Found existing installation: dask 2024.12.1\n",
            "Uninstalling dask-2024.12.1:\n",
            "  Successfully uninstalled dask-2024.12.1\n",
            "\u001b[33mWARNING: Skipping cupy as it is not installed.\u001b[0m\u001b[33m\n",
            "\u001b[0mFound existing installation: shapely 2.0.7\n",
            "Uninstalling shapely-2.0.7:\n",
            "  Successfully uninstalled shapely-2.0.7\n",
            "Found existing installation: geopandas 0.13.2\n",
            "Uninstalling geopandas-0.13.2:\n",
            "  Successfully uninstalled geopandas-0.13.2\n",
            "Found existing installation: rasterio 1.4.3\n",
            "Uninstalling rasterio-1.4.3:\n",
            "  Successfully uninstalled rasterio-1.4.3\n",
            "Found existing installation: rioxarray 0.14.1\n",
            "Uninstalling rioxarray-0.14.1:\n",
            "  Successfully uninstalled rioxarray-0.14.1\n",
            "Found existing installation: xarray 2023.1.0\n",
            "Uninstalling xarray-2023.1.0:\n",
            "  Successfully uninstalled xarray-2023.1.0\n",
            "Found existing installation: Fiona 1.9.4\n",
            "Uninstalling Fiona-1.9.4:\n",
            "  Successfully uninstalled Fiona-1.9.4\n",
            "Collecting numpy==1.24.4\n",
            "  Downloading numpy-1.24.4-cp311-cp311-manylinux_2_17_x86_64.manylinux2014_x86_64.whl.metadata (5.6 kB)\n",
            "Collecting pandas==1.5.3\n",
            "  Downloading pandas-1.5.3-cp311-cp311-manylinux_2_17_x86_64.manylinux2014_x86_64.whl.metadata (11 kB)\n",
            "Collecting shapely==2.0.1\n",
            "  Using cached shapely-2.0.1-cp311-cp311-manylinux_2_17_x86_64.manylinux2014_x86_64.whl.metadata (7.0 kB)\n",
            "Collecting geopandas==0.13.2\n",
            "  Downloading geopandas-0.13.2-py3-none-any.whl.metadata (1.5 kB)\n",
            "Collecting rasterio==1.3.9\n",
            "  Using cached rasterio-1.3.9-cp311-cp311-manylinux2014_x86_64.whl.metadata (14 kB)\n",
            "Collecting rioxarray==0.14.1\n",
            "  Downloading rioxarray-0.14.1-py3-none-any.whl.metadata (6.5 kB)\n",
            "Collecting xarray==2023.1.0\n",
            "  Downloading xarray-2023.1.0-py3-none-any.whl.metadata (6.2 kB)\n",
            "Collecting fiona==1.9.4\n",
            "  Using cached Fiona-1.9.4-cp311-cp311-manylinux_2_17_x86_64.manylinux2014_x86_64.whl.metadata (49 kB)\n",
            "Collecting dask==2023.3.0\n",
            "  Downloading dask-2023.3.0-py3-none-any.whl.metadata (3.6 kB)\n",
            "Requirement already satisfied: python-dateutil>=2.8.1 in /usr/local/lib/python3.11/dist-packages (from pandas==1.5.3) (2.9.0.post0)\n",
            "Requirement already satisfied: pytz>=2020.1 in /usr/local/lib/python3.11/dist-packages (from pandas==1.5.3) (2024.2)\n",
            "Requirement already satisfied: packaging in /usr/local/lib/python3.11/dist-packages (from geopandas==0.13.2) (24.0)\n",
            "Requirement already satisfied: pyproj>=3.0.1 in /usr/local/lib/python3.11/dist-packages (from geopandas==0.13.2) (3.7.0)\n",
            "Requirement already satisfied: affine in /usr/local/lib/python3.11/dist-packages (from rasterio==1.3.9) (2.4.0)\n",
            "Requirement already satisfied: attrs in /usr/local/lib/python3.11/dist-packages (from rasterio==1.3.9) (24.2.0)\n",
            "Requirement already satisfied: certifi in /usr/local/lib/python3.11/dist-packages (from rasterio==1.3.9) (2024.12.14)\n",
            "Requirement already satisfied: click>=4.0 in /usr/local/lib/python3.11/dist-packages (from rasterio==1.3.9) (8.1.8)\n",
            "Requirement already satisfied: cligj>=0.5 in /usr/local/lib/python3.11/dist-packages (from rasterio==1.3.9) (0.7.2)\n",
            "Requirement already satisfied: snuggs>=1.4.1 in /usr/local/lib/python3.11/dist-packages (from rasterio==1.3.9) (1.4.7)\n",
            "Requirement already satisfied: click-plugins in /usr/local/lib/python3.11/dist-packages (from rasterio==1.3.9) (1.1.1)\n",
            "Requirement already satisfied: setuptools in /usr/local/lib/python3.11/dist-packages (from rasterio==1.3.9) (68.0.0)\n",
            "Requirement already satisfied: six in /usr/local/lib/python3.11/dist-packages (from fiona==1.9.4) (1.17.0)\n",
            "Requirement already satisfied: cloudpickle>=1.1.1 in /usr/local/lib/python3.11/dist-packages (from dask==2023.3.0) (3.1.1)\n",
            "Requirement already satisfied: fsspec>=0.6.0 in /usr/local/lib/python3.11/dist-packages (from dask==2023.3.0) (2025.3.2)\n",
            "Requirement already satisfied: partd>=1.2.0 in /usr/local/lib/python3.11/dist-packages (from dask==2023.3.0) (1.4.2)\n",
            "Requirement already satisfied: pyyaml>=5.3.1 in /usr/local/lib/python3.11/dist-packages (from dask==2023.3.0) (6.0.1)\n",
            "Requirement already satisfied: toolz>=0.8.2 in /usr/local/lib/python3.11/dist-packages (from dask==2023.3.0) (0.12.1)\n",
            "Requirement already satisfied: locket in /usr/local/lib/python3.11/dist-packages (from partd>=1.2.0->dask==2023.3.0) (1.0.0)\n",
            "Requirement already satisfied: pyparsing>=2.1.6 in /usr/local/lib/python3.11/dist-packages (from snuggs>=1.4.1->rasterio==1.3.9) (3.1.4)\n",
            "Downloading numpy-1.24.4-cp311-cp311-manylinux_2_17_x86_64.manylinux2014_x86_64.whl (17.3 MB)\n",
            "\u001b[2K   \u001b[90m━━━━━━━━━━━━━━━━━━━━━━━━━━━━━━━━━━━━━━━━\u001b[0m \u001b[32m17.3/17.3 MB\u001b[0m \u001b[31m78.0 MB/s\u001b[0m eta \u001b[36m0:00:00\u001b[0m\n",
            "\u001b[?25hDownloading pandas-1.5.3-cp311-cp311-manylinux_2_17_x86_64.manylinux2014_x86_64.whl (12.0 MB)\n",
            "\u001b[2K   \u001b[90m━━━━━━━━━━━━━━━━━━━━━━━━━━━━━━━━━━━━━━━━\u001b[0m \u001b[32m12.0/12.0 MB\u001b[0m \u001b[31m73.8 MB/s\u001b[0m eta \u001b[36m0:00:00\u001b[0m\n",
            "\u001b[?25hUsing cached shapely-2.0.1-cp311-cp311-manylinux_2_17_x86_64.manylinux2014_x86_64.whl (2.3 MB)\n",
            "Downloading geopandas-0.13.2-py3-none-any.whl (1.1 MB)\n",
            "\u001b[2K   \u001b[90m━━━━━━━━━━━━━━━━━━━━━━━━━━━━━━━━━━━━━━━━\u001b[0m \u001b[32m1.1/1.1 MB\u001b[0m \u001b[31m37.4 MB/s\u001b[0m eta \u001b[36m0:00:00\u001b[0m\n",
            "\u001b[?25hUsing cached rasterio-1.3.9-cp311-cp311-manylinux2014_x86_64.whl (20.6 MB)\n",
            "Downloading rioxarray-0.14.1-py3-none-any.whl (53 kB)\n",
            "\u001b[2K   \u001b[90m━━━━━━━━━━━━━━━━━━━━━━━━━━━━━━━━━━━━━━━━\u001b[0m \u001b[32m53.5/53.5 kB\u001b[0m \u001b[31m3.7 MB/s\u001b[0m eta \u001b[36m0:00:00\u001b[0m\n",
            "\u001b[?25hDownloading xarray-2023.1.0-py3-none-any.whl (973 kB)\n",
            "\u001b[2K   \u001b[90m━━━━━━━━━━━━━━━━━━━━━━━━━━━━━━━━━━━━━━━━\u001b[0m \u001b[32m973.1/973.1 kB\u001b[0m \u001b[31m40.4 MB/s\u001b[0m eta \u001b[36m0:00:00\u001b[0m\n",
            "\u001b[?25hUsing cached Fiona-1.9.4-cp311-cp311-manylinux_2_17_x86_64.manylinux2014_x86_64.whl (16.5 MB)\n",
            "Downloading dask-2023.3.0-py3-none-any.whl (1.2 MB)\n",
            "\u001b[2K   \u001b[90m━━━━━━━━━━━━━━━━━━━━━━━━━━━━━━━━━━━━━━━━\u001b[0m \u001b[32m1.2/1.2 MB\u001b[0m \u001b[31m37.8 MB/s\u001b[0m eta \u001b[36m0:00:00\u001b[0m\n",
            "\u001b[?25hInstalling collected packages: numpy, shapely, pandas, fiona, dask, xarray, rasterio, geopandas, rioxarray\n",
            "\u001b[31mERROR: pip's dependency resolver does not currently take into account all the packages that are installed. This behaviour is the source of the following dependency conflicts.\n",
            "google-colab 1.0.0 requires ipykernel==6.17.1, but you have ipykernel 6.16.2 which is incompatible.\n",
            "google-colab 1.0.0 requires pandas==2.2.2, but you have pandas 1.5.3 which is incompatible.\n",
            "google-colab 1.0.0 requires requests==2.32.3, but you have requests 2.31.0 which is incompatible.\n",
            "google-colab 1.0.0 requires tornado==6.4.2, but you have tornado 6.2 which is incompatible.\n",
            "plotnine 0.14.5 requires pandas>=2.2.0, but you have pandas 1.5.3 which is incompatible.\n",
            "cudf-cu12 25.2.1 requires pandas<2.2.4dev0,>=2.0, but you have pandas 1.5.3 which is incompatible.\n",
            "scikit-image 0.25.2 requires pillow>=10.1, but you have pillow 9.5.0 which is incompatible.\n",
            "rapids-dask-dependency 25.2.0 requires dask==2024.12.1, but you have dask 2023.3.0 which is incompatible.\n",
            "tensorflow 2.18.0 requires numpy<2.1.0,>=1.26.0, but you have numpy 1.24.4 which is incompatible.\n",
            "distributed 2024.12.1 requires dask==2024.12.1, but you have dask 2023.3.0 which is incompatible.\n",
            "moviepy 1.0.3 requires decorator<5.0,>=4.0.2, but you have decorator 5.1.1 which is incompatible.\n",
            "treescope 0.1.9 requires numpy>=1.25.2, but you have numpy 1.24.4 which is incompatible.\n",
            "jax 0.5.2 requires numpy>=1.25, but you have numpy 1.24.4 which is incompatible.\n",
            "mizani 0.13.3 requires pandas>=2.2.0, but you have pandas 1.5.3 which is incompatible.\n",
            "dask-cudf-cu12 25.2.2 requires pandas<2.2.4dev0,>=2.0, but you have pandas 1.5.3 which is incompatible.\n",
            "blosc2 3.3.1 requires numpy>=1.26, but you have numpy 1.24.4 which is incompatible.\n",
            "dask-expr 1.1.21 requires dask==2024.12.1, but you have dask 2023.3.0 which is incompatible.\n",
            "dask-expr 1.1.21 requires pandas>=2, but you have pandas 1.5.3 which is incompatible.\n",
            "jaxlib 0.5.1 requires numpy>=1.25, but you have numpy 1.24.4 which is incompatible.\n",
            "thinc 8.3.6 requires numpy<3.0.0,>=2.0.0, but you have numpy 1.24.4 which is incompatible.\n",
            "pymc 5.22.0 requires numpy>=1.25.0, but you have numpy 1.24.4 which is incompatible.\u001b[0m\u001b[31m\n",
            "\u001b[0mSuccessfully installed dask-2023.3.0 fiona-1.9.4 geopandas-0.13.2 numpy-1.24.4 pandas-1.5.3 rasterio-1.3.9 rioxarray-0.14.1 shapely-2.0.1 xarray-2023.1.0\n"
          ]
        },
        {
          "output_type": "display_data",
          "data": {
            "application/vnd.colab-display-data+json": {
              "pip_warning": {
                "packages": [
                  "dask",
                  "geopandas",
                  "numpy",
                  "pandas",
                  "rasterio",
                  "shapely",
                  "xarray"
                ]
              },
              "id": "4845ed6c955b4339ac1ff6c7537a06b0"
            }
          },
          "metadata": {}
        }
      ]
    },
    {
      "cell_type": "code",
      "execution_count": 1,
      "metadata": {
        "id": "f9UbABMYkqPx",
        "outputId": "4cefd584-16ac-419c-e840-c70a0eb53184",
        "colab": {
          "base_uri": "https://localhost:8080/"
        }
      },
      "outputs": [
        {
          "output_type": "stream",
          "name": "stdout",
          "text": [
            "Collecting poetry\n",
            "  Downloading poetry-2.1.2-py3-none-any.whl.metadata (7.1 kB)\n",
            "Requirement already satisfied: build<2.0.0,>=1.2.1 in /usr/local/lib/python3.11/dist-packages (from poetry) (1.2.2.post1)\n",
            "Requirement already satisfied: cachecontrol<0.15.0,>=0.14.0 in /usr/local/lib/python3.11/dist-packages (from cachecontrol[filecache]<0.15.0,>=0.14.0->poetry) (0.14.2)\n",
            "Collecting cleo<3.0.0,>=2.1.0 (from poetry)\n",
            "  Downloading cleo-2.1.0-py3-none-any.whl.metadata (12 kB)\n",
            "Collecting dulwich<0.23.0,>=0.22.6 (from poetry)\n",
            "  Downloading dulwich-0.22.8-cp311-cp311-manylinux_2_17_x86_64.manylinux2014_x86_64.whl.metadata (4.9 kB)\n",
            "Requirement already satisfied: fastjsonschema<3.0.0,>=2.18.0 in /usr/local/lib/python3.11/dist-packages (from poetry) (2.21.1)\n",
            "Collecting findpython<0.7.0,>=0.6.2 (from poetry)\n",
            "  Downloading findpython-0.6.3-py3-none-any.whl.metadata (5.3 kB)\n",
            "Collecting installer<0.8.0,>=0.7.0 (from poetry)\n",
            "  Downloading installer-0.7.0-py3-none-any.whl.metadata (936 bytes)\n",
            "Requirement already satisfied: keyring<26.0.0,>=25.1.0 in /usr/local/lib/python3.11/dist-packages (from poetry) (25.6.0)\n",
            "Requirement already satisfied: packaging>=24.0 in /usr/local/lib/python3.11/dist-packages (from poetry) (24.2)\n",
            "Collecting pbs-installer<2026.0.0,>=2025.1.6 (from pbs-installer[download,install]<2026.0.0,>=2025.1.6->poetry)\n",
            "  Downloading pbs_installer-2025.4.9-py3-none-any.whl.metadata (990 bytes)\n",
            "Collecting pkginfo<2.0,>=1.12 (from poetry)\n",
            "  Downloading pkginfo-1.12.1.2-py3-none-any.whl.metadata (13 kB)\n",
            "Requirement already satisfied: platformdirs<5,>=3.0.0 in /usr/local/lib/python3.11/dist-packages (from poetry) (4.3.7)\n",
            "Collecting poetry-core==2.1.2 (from poetry)\n",
            "  Downloading poetry_core-2.1.2-py3-none-any.whl.metadata (3.5 kB)\n",
            "Requirement already satisfied: pyproject-hooks<2.0.0,>=1.0.0 in /usr/local/lib/python3.11/dist-packages (from poetry) (1.2.0)\n",
            "Requirement already satisfied: requests<3.0,>=2.26 in /usr/local/lib/python3.11/dist-packages (from poetry) (2.32.3)\n",
            "Requirement already satisfied: requests-toolbelt<2.0.0,>=1.0.0 in /usr/local/lib/python3.11/dist-packages (from poetry) (1.0.0)\n",
            "Requirement already satisfied: shellingham<2.0,>=1.5 in /usr/local/lib/python3.11/dist-packages (from poetry) (1.5.4)\n",
            "Collecting tomlkit<1.0.0,>=0.11.4 (from poetry)\n",
            "  Downloading tomlkit-0.13.2-py3-none-any.whl.metadata (2.7 kB)\n",
            "Collecting trove-classifiers>=2022.5.19 (from poetry)\n",
            "  Downloading trove_classifiers-2025.5.1.12-py3-none-any.whl.metadata (2.3 kB)\n",
            "Collecting virtualenv<21.0.0,>=20.26.6 (from poetry)\n",
            "  Downloading virtualenv-20.30.0-py3-none-any.whl.metadata (4.5 kB)\n",
            "Requirement already satisfied: msgpack<2.0.0,>=0.5.2 in /usr/local/lib/python3.11/dist-packages (from cachecontrol<0.15.0,>=0.14.0->cachecontrol[filecache]<0.15.0,>=0.14.0->poetry) (1.1.0)\n",
            "Requirement already satisfied: filelock>=3.8.0 in /usr/local/lib/python3.11/dist-packages (from cachecontrol[filecache]<0.15.0,>=0.14.0->poetry) (3.18.0)\n",
            "Collecting crashtest<0.5.0,>=0.4.1 (from cleo<3.0.0,>=2.1.0->poetry)\n",
            "  Downloading crashtest-0.4.1-py3-none-any.whl.metadata (1.1 kB)\n",
            "Collecting rapidfuzz<4.0.0,>=3.0.0 (from cleo<3.0.0,>=2.1.0->poetry)\n",
            "  Downloading rapidfuzz-3.13.0-cp311-cp311-manylinux_2_17_x86_64.manylinux2014_x86_64.whl.metadata (12 kB)\n",
            "Requirement already satisfied: urllib3>=1.25 in /usr/local/lib/python3.11/dist-packages (from dulwich<0.23.0,>=0.22.6->poetry) (2.4.0)\n",
            "Requirement already satisfied: SecretStorage>=3.2 in /usr/local/lib/python3.11/dist-packages (from keyring<26.0.0,>=25.1.0->poetry) (3.3.3)\n",
            "Requirement already satisfied: jeepney>=0.4.2 in /usr/local/lib/python3.11/dist-packages (from keyring<26.0.0,>=25.1.0->poetry) (0.9.0)\n",
            "Requirement already satisfied: importlib_metadata>=4.11.4 in /usr/local/lib/python3.11/dist-packages (from keyring<26.0.0,>=25.1.0->poetry) (8.7.0)\n",
            "Requirement already satisfied: jaraco.classes in /usr/local/lib/python3.11/dist-packages (from keyring<26.0.0,>=25.1.0->poetry) (3.4.0)\n",
            "Requirement already satisfied: jaraco.functools in /usr/local/lib/python3.11/dist-packages (from keyring<26.0.0,>=25.1.0->poetry) (4.1.0)\n",
            "Requirement already satisfied: jaraco.context in /usr/local/lib/python3.11/dist-packages (from keyring<26.0.0,>=25.1.0->poetry) (6.0.1)\n",
            "Requirement already satisfied: httpx<1,>=0.27.0 in /usr/local/lib/python3.11/dist-packages (from pbs-installer[download,install]<2026.0.0,>=2025.1.6->poetry) (0.28.1)\n",
            "Requirement already satisfied: zstandard>=0.21.0 in /usr/local/lib/python3.11/dist-packages (from pbs-installer[download,install]<2026.0.0,>=2025.1.6->poetry) (0.23.0)\n",
            "Requirement already satisfied: charset-normalizer<4,>=2 in /usr/local/lib/python3.11/dist-packages (from requests<3.0,>=2.26->poetry) (3.4.1)\n",
            "Requirement already satisfied: idna<4,>=2.5 in /usr/local/lib/python3.11/dist-packages (from requests<3.0,>=2.26->poetry) (3.10)\n",
            "Requirement already satisfied: certifi>=2017.4.17 in /usr/local/lib/python3.11/dist-packages (from requests<3.0,>=2.26->poetry) (2025.4.26)\n",
            "Collecting distlib<1,>=0.3.7 (from virtualenv<21.0.0,>=20.26.6->poetry)\n",
            "  Downloading distlib-0.3.9-py2.py3-none-any.whl.metadata (5.2 kB)\n",
            "Requirement already satisfied: anyio in /usr/local/lib/python3.11/dist-packages (from httpx<1,>=0.27.0->pbs-installer[download,install]<2026.0.0,>=2025.1.6->poetry) (4.9.0)\n",
            "Requirement already satisfied: httpcore==1.* in /usr/local/lib/python3.11/dist-packages (from httpx<1,>=0.27.0->pbs-installer[download,install]<2026.0.0,>=2025.1.6->poetry) (1.0.9)\n",
            "Requirement already satisfied: h11>=0.16 in /usr/local/lib/python3.11/dist-packages (from httpcore==1.*->httpx<1,>=0.27.0->pbs-installer[download,install]<2026.0.0,>=2025.1.6->poetry) (0.16.0)\n",
            "Requirement already satisfied: zipp>=3.20 in /usr/local/lib/python3.11/dist-packages (from importlib_metadata>=4.11.4->keyring<26.0.0,>=25.1.0->poetry) (3.21.0)\n",
            "Requirement already satisfied: cryptography>=2.0 in /usr/local/lib/python3.11/dist-packages (from SecretStorage>=3.2->keyring<26.0.0,>=25.1.0->poetry) (43.0.3)\n",
            "Requirement already satisfied: more-itertools in /usr/local/lib/python3.11/dist-packages (from jaraco.classes->keyring<26.0.0,>=25.1.0->poetry) (10.7.0)\n",
            "Requirement already satisfied: backports.tarfile in /usr/local/lib/python3.11/dist-packages (from jaraco.context->keyring<26.0.0,>=25.1.0->poetry) (1.2.0)\n",
            "Requirement already satisfied: cffi>=1.12 in /usr/local/lib/python3.11/dist-packages (from cryptography>=2.0->SecretStorage>=3.2->keyring<26.0.0,>=25.1.0->poetry) (1.17.1)\n",
            "Requirement already satisfied: sniffio>=1.1 in /usr/local/lib/python3.11/dist-packages (from anyio->httpx<1,>=0.27.0->pbs-installer[download,install]<2026.0.0,>=2025.1.6->poetry) (1.3.1)\n",
            "Requirement already satisfied: typing_extensions>=4.5 in /usr/local/lib/python3.11/dist-packages (from anyio->httpx<1,>=0.27.0->pbs-installer[download,install]<2026.0.0,>=2025.1.6->poetry) (4.13.2)\n",
            "Requirement already satisfied: pycparser in /usr/local/lib/python3.11/dist-packages (from cffi>=1.12->cryptography>=2.0->SecretStorage>=3.2->keyring<26.0.0,>=25.1.0->poetry) (2.22)\n",
            "Downloading poetry-2.1.2-py3-none-any.whl (277 kB)\n",
            "\u001b[2K   \u001b[90m━━━━━━━━━━━━━━━━━━━━━━━━━━━━━━━━━━━━━━━━\u001b[0m \u001b[32m277.8/277.8 kB\u001b[0m \u001b[31m5.6 MB/s\u001b[0m eta \u001b[36m0:00:00\u001b[0m\n",
            "\u001b[?25hDownloading poetry_core-2.1.2-py3-none-any.whl (332 kB)\n",
            "\u001b[2K   \u001b[90m━━━━━━━━━━━━━━━━━━━━━━━━━━━━━━━━━━━━━━━━\u001b[0m \u001b[32m332.3/332.3 kB\u001b[0m \u001b[31m16.3 MB/s\u001b[0m eta \u001b[36m0:00:00\u001b[0m\n",
            "\u001b[?25hDownloading cleo-2.1.0-py3-none-any.whl (78 kB)\n",
            "\u001b[2K   \u001b[90m━━━━━━━━━━━━━━━━━━━━━━━━━━━━━━━━━━━━━━━━\u001b[0m \u001b[32m78.7/78.7 kB\u001b[0m \u001b[31m6.6 MB/s\u001b[0m eta \u001b[36m0:00:00\u001b[0m\n",
            "\u001b[?25hDownloading dulwich-0.22.8-cp311-cp311-manylinux_2_17_x86_64.manylinux2014_x86_64.whl (1.0 MB)\n",
            "\u001b[2K   \u001b[90m━━━━━━━━━━━━━━━━━━━━━━━━━━━━━━━━━━━━━━━━\u001b[0m \u001b[32m1.0/1.0 MB\u001b[0m \u001b[31m37.9 MB/s\u001b[0m eta \u001b[36m0:00:00\u001b[0m\n",
            "\u001b[?25hDownloading findpython-0.6.3-py3-none-any.whl (20 kB)\n",
            "Downloading installer-0.7.0-py3-none-any.whl (453 kB)\n",
            "\u001b[2K   \u001b[90m━━━━━━━━━━━━━━━━━━━━━━━━━━━━━━━━━━━━━━━━\u001b[0m \u001b[32m453.8/453.8 kB\u001b[0m \u001b[31m27.0 MB/s\u001b[0m eta \u001b[36m0:00:00\u001b[0m\n",
            "\u001b[?25hDownloading pbs_installer-2025.4.9-py3-none-any.whl (56 kB)\n",
            "\u001b[2K   \u001b[90m━━━━━━━━━━━━━━━━━━━━━━━━━━━━━━━━━━━━━━━━\u001b[0m \u001b[32m56.5/56.5 kB\u001b[0m \u001b[31m3.5 MB/s\u001b[0m eta \u001b[36m0:00:00\u001b[0m\n",
            "\u001b[?25hDownloading pkginfo-1.12.1.2-py3-none-any.whl (32 kB)\n",
            "Downloading tomlkit-0.13.2-py3-none-any.whl (37 kB)\n",
            "Downloading trove_classifiers-2025.5.1.12-py3-none-any.whl (14 kB)\n",
            "Downloading virtualenv-20.30.0-py3-none-any.whl (4.3 MB)\n",
            "\u001b[2K   \u001b[90m━━━━━━━━━━━━━━━━━━━━━━━━━━━━━━━━━━━━━━━━\u001b[0m \u001b[32m4.3/4.3 MB\u001b[0m \u001b[31m79.3 MB/s\u001b[0m eta \u001b[36m0:00:00\u001b[0m\n",
            "\u001b[?25hDownloading crashtest-0.4.1-py3-none-any.whl (7.6 kB)\n",
            "Downloading distlib-0.3.9-py2.py3-none-any.whl (468 kB)\n",
            "\u001b[2K   \u001b[90m━━━━━━━━━━━━━━━━━━━━━━━━━━━━━━━━━━━━━━━━\u001b[0m \u001b[32m469.0/469.0 kB\u001b[0m \u001b[31m27.1 MB/s\u001b[0m eta \u001b[36m0:00:00\u001b[0m\n",
            "\u001b[?25hDownloading rapidfuzz-3.13.0-cp311-cp311-manylinux_2_17_x86_64.manylinux2014_x86_64.whl (3.1 MB)\n",
            "\u001b[2K   \u001b[90m━━━━━━━━━━━━━━━━━━━━━━━━━━━━━━━━━━━━━━━━\u001b[0m \u001b[32m3.1/3.1 MB\u001b[0m \u001b[31m80.0 MB/s\u001b[0m eta \u001b[36m0:00:00\u001b[0m\n",
            "\u001b[?25hInstalling collected packages: trove-classifiers, distlib, virtualenv, tomlkit, rapidfuzz, poetry-core, pkginfo, pbs-installer, installer, findpython, dulwich, crashtest, cleo, poetry\n",
            "Successfully installed cleo-2.1.0 crashtest-0.4.1 distlib-0.3.9 dulwich-0.22.8 findpython-0.6.3 installer-0.7.0 pbs-installer-2025.4.9 pkginfo-1.12.1.2 poetry-2.1.2 poetry-core-2.1.2 rapidfuzz-3.13.0 tomlkit-0.13.2 trove-classifiers-2025.5.1.12 virtualenv-20.30.0\n"
          ]
        }
      ],
      "source": [
        "# Install Poetry\n",
        "!pip install poetry\n",
        "# Disable virtual environment creation (needed for Colab)\n",
        "!poetry config virtualenvs.create false"
      ]
    },
    {
      "cell_type": "markdown",
      "source": [
        "🔁 Si la sesión se reinicia, repite los pasos 2 y 3.\n",
        "➡️ Si no, continúa con el paso 4.\n"
      ],
      "metadata": {
        "id": "VW4i_6hSlSNY"
      }
    },
    {
      "cell_type": "markdown",
      "source": [
        "Paso 4. Instala los paquetes necesarios para el curso.\n"
      ],
      "metadata": {
        "id": "66WCH0wJlv9G"
      }
    },
    {
      "cell_type": "code",
      "source": [],
      "metadata": {
        "id": "auCI3SGZjING"
      },
      "execution_count": null,
      "outputs": []
    },
    {
      "cell_type": "code",
      "source": [
        "!poetry lock\n"
      ],
      "metadata": {
        "id": "x4tkd1Qag1jS",
        "outputId": "24c85e5f-3ef4-4ae0-b718-a7f863d8d185",
        "colab": {
          "base_uri": "https://localhost:8080/"
        }
      },
      "execution_count": 7,
      "outputs": [
        {
          "output_type": "stream",
          "name": "stdout",
          "text": [
            "\u001b[30;43mSkipping virtualenv creation, as specified in config file.\u001b[39;49m\n",
            "\u001b[2K\u001b[34mResolving dependencies...\u001b[39m \u001b[39;2m(6.3s)\u001b[39;22m\n",
            "\n",
            "\u001b[34mWriting lock file\u001b[39m\n"
          ]
        }
      ]
    },
    {
      "cell_type": "code",
      "execution_count": 8,
      "metadata": {
        "id": "8uKlbfCykqPx",
        "outputId": "1edfe80b-d1ee-458d-a73e-7ad85e2a75f5",
        "colab": {
          "base_uri": "https://localhost:8080/"
        }
      },
      "outputs": [
        {
          "output_type": "stream",
          "name": "stdout",
          "text": [
            "\u001b[30;43mSkipping virtualenv creation, as specified in config file.\u001b[39;49m\n",
            "\u001b[34mInstalling dependencies from lock file\u001b[39m\n",
            "\n",
            "\u001b[39;1mPackage operations\u001b[39;22m: \u001b[34m23\u001b[39m installs, \u001b[34m67\u001b[39m updates, \u001b[34m0\u001b[39m removals\n",
            "\n",
            "  \u001b[34;1m-\u001b[39;22m \u001b[39mDowngrading \u001b[39m\u001b[36mattrs\u001b[39m\u001b[39m (\u001b[39m\u001b[39;1m25.3.0\u001b[39;22m\u001b[39m -> \u001b[39m\u001b[39;1m24.2.0\u001b[39;22m\u001b[39m)\u001b[39m: \u001b[34mPending...\u001b[39m\n",
            "  \u001b[34;1m-\u001b[39;22m \u001b[39mInstalling \u001b[39m\u001b[36mpyrsistent\u001b[39m\u001b[39m (\u001b[39m\u001b[39;1m0.19.3\u001b[39;22m\u001b[39m)\u001b[39m: \u001b[34mPending...\u001b[39m\n",
            "  \u001b[34;1m-\u001b[39;22m \u001b[39mUpdating \u001b[39m\u001b[36mtraitlets\u001b[39m\u001b[39m (\u001b[39m\u001b[39;1m5.7.1\u001b[39;22m\u001b[39m -> \u001b[39m\u001b[39;1m5.9.0\u001b[39;22m\u001b[39m)\u001b[39m: \u001b[34mPending...\u001b[39m\n",
            "\u001b[3A\u001b[0J  \u001b[34;1m-\u001b[39;22m \u001b[39mInstalling \u001b[39m\u001b[36mpyrsistent\u001b[39m\u001b[39m (\u001b[39m\u001b[39;1m0.19.3\u001b[39;22m\u001b[39m)\u001b[39m: \u001b[34mPending...\u001b[39m\n",
            "  \u001b[34;1m-\u001b[39;22m \u001b[39mUpdating \u001b[39m\u001b[36mtraitlets\u001b[39m\u001b[39m (\u001b[39m\u001b[39;1m5.7.1\u001b[39;22m\u001b[39m -> \u001b[39m\u001b[39;1m5.9.0\u001b[39;22m\u001b[39m)\u001b[39m: \u001b[34mPending...\u001b[39m\n",
            "\u001b[2A\u001b[0J  \u001b[34;1m-\u001b[39;22m \u001b[39mDowngrading \u001b[39m\u001b[36mattrs\u001b[39m\u001b[39m (\u001b[39m\u001b[39;1m25.3.0\u001b[39;22m\u001b[39m -> \u001b[39m\u001b[39;1m24.2.0\u001b[39;22m\u001b[39m)\u001b[39m: \u001b[34mDownloading...\u001b[39m \u001b[39;1m0%\u001b[39;22m\n",
            "  \u001b[34;1m-\u001b[39;22m \u001b[39mInstalling \u001b[39m\u001b[36mpyrsistent\u001b[39m\u001b[39m (\u001b[39m\u001b[39;1m0.19.3\u001b[39;22m\u001b[39m)\u001b[39m: \u001b[34mPending...\u001b[39m\n",
            "  \u001b[34;1m-\u001b[39;22m \u001b[39mUpdating \u001b[39m\u001b[36mtraitlets\u001b[39m\u001b[39m (\u001b[39m\u001b[39;1m5.7.1\u001b[39;22m\u001b[39m -> \u001b[39m\u001b[39;1m5.9.0\u001b[39;22m\u001b[39m)\u001b[39m: \u001b[34mPending...\u001b[39m\n",
            "\u001b[1A\u001b[0J  \u001b[34;1m-\u001b[39;22m \u001b[39mUpdating \u001b[39m\u001b[36mtraitlets\u001b[39m\u001b[39m (\u001b[39m\u001b[39;1m5.7.1\u001b[39;22m\u001b[39m -> \u001b[39m\u001b[39;1m5.9.0\u001b[39;22m\u001b[39m)\u001b[39m: \u001b[34mDownloading...\u001b[39m \u001b[39;1m0%\u001b[39;22m\n",
            "\u001b[3A\u001b[0J  \u001b[34;1m-\u001b[39;22m \u001b[39mInstalling \u001b[39m\u001b[36mpyrsistent\u001b[39m\u001b[39m (\u001b[39m\u001b[39;1m0.19.3\u001b[39;22m\u001b[39m)\u001b[39m: \u001b[34mPending...\u001b[39m\n",
            "  \u001b[34;1m-\u001b[39;22m \u001b[39mUpdating \u001b[39m\u001b[36mtraitlets\u001b[39m\u001b[39m (\u001b[39m\u001b[39;1m5.7.1\u001b[39;22m\u001b[39m -> \u001b[39m\u001b[39;1m5.9.0\u001b[39;22m\u001b[39m)\u001b[39m: \u001b[34mDownloading...\u001b[39m \u001b[39;1m0%\u001b[39;22m\n",
            "\u001b[2A\u001b[0J  \u001b[34;1m-\u001b[39;22m \u001b[39mDowngrading \u001b[39m\u001b[36mattrs\u001b[39m\u001b[39m (\u001b[39m\u001b[39;1m25.3.0\u001b[39;22m\u001b[39m -> \u001b[39m\u001b[39;1m24.2.0\u001b[39;22m\u001b[39m)\u001b[39m: \u001b[34mDownloading...\u001b[39m \u001b[39;1m100%\u001b[39;22m\n",
            "  \u001b[34;1m-\u001b[39;22m \u001b[39mInstalling \u001b[39m\u001b[36mpyrsistent\u001b[39m\u001b[39m (\u001b[39m\u001b[39;1m0.19.3\u001b[39;22m\u001b[39m)\u001b[39m: \u001b[34mPending...\u001b[39m\n",
            "  \u001b[34;1m-\u001b[39;22m \u001b[39mUpdating \u001b[39m\u001b[36mtraitlets\u001b[39m\u001b[39m (\u001b[39m\u001b[39;1m5.7.1\u001b[39;22m\u001b[39m -> \u001b[39m\u001b[39;1m5.9.0\u001b[39;22m\u001b[39m)\u001b[39m: \u001b[34mDownloading...\u001b[39m \u001b[39;1m0%\u001b[39;22m\n",
            "\u001b[3A\u001b[0J  \u001b[34;1m-\u001b[39;22m \u001b[39mInstalling \u001b[39m\u001b[36mpyrsistent\u001b[39m\u001b[39m (\u001b[39m\u001b[39;1m0.19.3\u001b[39;22m\u001b[39m)\u001b[39m: \u001b[34mPending...\u001b[39m\n",
            "  \u001b[34;1m-\u001b[39;22m \u001b[39mUpdating \u001b[39m\u001b[36mtraitlets\u001b[39m\u001b[39m (\u001b[39m\u001b[39;1m5.7.1\u001b[39;22m\u001b[39m -> \u001b[39m\u001b[39;1m5.9.0\u001b[39;22m\u001b[39m)\u001b[39m: \u001b[34mDownloading...\u001b[39m \u001b[39;1m0%\u001b[39;22m\n",
            "\u001b[2A\u001b[0J  \u001b[34;1m-\u001b[39;22m \u001b[39mDowngrading \u001b[39m\u001b[36mattrs\u001b[39m\u001b[39m (\u001b[39m\u001b[39;1m25.3.0\u001b[39;22m\u001b[39m -> \u001b[39m\u001b[39;1m24.2.0\u001b[39;22m\u001b[39m)\u001b[39m: \u001b[34mInstalling...\u001b[39m\n",
            "  \u001b[34;1m-\u001b[39;22m \u001b[39mInstalling \u001b[39m\u001b[36mpyrsistent\u001b[39m\u001b[39m (\u001b[39m\u001b[39;1m0.19.3\u001b[39;22m\u001b[39m)\u001b[39m: \u001b[34mPending...\u001b[39m\n",
            "  \u001b[34;1m-\u001b[39;22m \u001b[39mUpdating \u001b[39m\u001b[36mtraitlets\u001b[39m\u001b[39m (\u001b[39m\u001b[39;1m5.7.1\u001b[39;22m\u001b[39m -> \u001b[39m\u001b[39;1m5.9.0\u001b[39;22m\u001b[39m)\u001b[39m: \u001b[34mDownloading...\u001b[39m \u001b[39;1m0%\u001b[39;22m\n",
            "\u001b[2A\u001b[0J  \u001b[34;1m-\u001b[39;22m \u001b[39mUpdating \u001b[39m\u001b[36mtraitlets\u001b[39m\u001b[39m (\u001b[39m\u001b[39;1m5.7.1\u001b[39;22m\u001b[39m -> \u001b[39m\u001b[39;1m5.9.0\u001b[39;22m\u001b[39m)\u001b[39m: \u001b[34mDownloading...\u001b[39m \u001b[39;1m0%\u001b[39;22m\n",
            "\u001b[1A\u001b[0J  \u001b[34;1m-\u001b[39;22m \u001b[39mInstalling \u001b[39m\u001b[36mpyrsistent\u001b[39m\u001b[39m (\u001b[39m\u001b[39;1m0.19.3\u001b[39;22m\u001b[39m)\u001b[39m: \u001b[34mDownloading...\u001b[39m \u001b[39;1m0%\u001b[39;22m\n",
            "  \u001b[34;1m-\u001b[39;22m \u001b[39mUpdating \u001b[39m\u001b[36mtraitlets\u001b[39m\u001b[39m (\u001b[39m\u001b[39;1m5.7.1\u001b[39;22m\u001b[39m -> \u001b[39m\u001b[39;1m5.9.0\u001b[39;22m\u001b[39m)\u001b[39m: \u001b[34mDownloading...\u001b[39m \u001b[39;1m0%\u001b[39;22m\n",
            "\u001b[1A\u001b[0J  \u001b[34;1m-\u001b[39;22m \u001b[39mUpdating \u001b[39m\u001b[36mtraitlets\u001b[39m\u001b[39m (\u001b[39m\u001b[39;1m5.7.1\u001b[39;22m\u001b[39m -> \u001b[39m\u001b[39;1m5.9.0\u001b[39;22m\u001b[39m)\u001b[39m: \u001b[34mDownloading...\u001b[39m \u001b[39;1m100%\u001b[39;22m\n",
            "\u001b[2A\u001b[0J  \u001b[34;1m-\u001b[39;22m \u001b[39mUpdating \u001b[39m\u001b[36mtraitlets\u001b[39m\u001b[39m (\u001b[39m\u001b[39;1m5.7.1\u001b[39;22m\u001b[39m -> \u001b[39m\u001b[39;1m5.9.0\u001b[39;22m\u001b[39m)\u001b[39m: \u001b[34mDownloading...\u001b[39m \u001b[39;1m100%\u001b[39;22m\n",
            "\u001b[1A\u001b[0J  \u001b[34;1m-\u001b[39;22m \u001b[39mInstalling \u001b[39m\u001b[36mpyrsistent\u001b[39m\u001b[39m (\u001b[39m\u001b[39;1m0.19.3\u001b[39;22m\u001b[39m)\u001b[39m: \u001b[34mDownloading...\u001b[39m \u001b[39;1m100%\u001b[39;22m\n",
            "  \u001b[34;1m-\u001b[39;22m \u001b[39mUpdating \u001b[39m\u001b[36mtraitlets\u001b[39m\u001b[39m (\u001b[39m\u001b[39;1m5.7.1\u001b[39;22m\u001b[39m -> \u001b[39m\u001b[39;1m5.9.0\u001b[39;22m\u001b[39m)\u001b[39m: \u001b[34mDownloading...\u001b[39m \u001b[39;1m100%\u001b[39;22m\n",
            "\u001b[2A\u001b[0J  \u001b[34;1m-\u001b[39;22m \u001b[39mUpdating \u001b[39m\u001b[36mtraitlets\u001b[39m\u001b[39m (\u001b[39m\u001b[39;1m5.7.1\u001b[39;22m\u001b[39m -> \u001b[39m\u001b[39;1m5.9.0\u001b[39;22m\u001b[39m)\u001b[39m: \u001b[34mDownloading...\u001b[39m \u001b[39;1m100%\u001b[39;22m\n",
            "\u001b[1A\u001b[0J  \u001b[34;1m-\u001b[39;22m \u001b[39mInstalling \u001b[39m\u001b[36mpyrsistent\u001b[39m\u001b[39m (\u001b[39m\u001b[39;1m0.19.3\u001b[39;22m\u001b[39m)\u001b[39m: \u001b[34mInstalling...\u001b[39m\n",
            "  \u001b[34;1m-\u001b[39;22m \u001b[39mUpdating \u001b[39m\u001b[36mtraitlets\u001b[39m\u001b[39m (\u001b[39m\u001b[39;1m5.7.1\u001b[39;22m\u001b[39m -> \u001b[39m\u001b[39;1m5.9.0\u001b[39;22m\u001b[39m)\u001b[39m: \u001b[34mDownloading...\u001b[39m \u001b[39;1m100%\u001b[39;22m\n",
            "\u001b[1A\u001b[0J  \u001b[34;1m-\u001b[39;22m \u001b[39mUpdating \u001b[39m\u001b[36mtraitlets\u001b[39m\u001b[39m (\u001b[39m\u001b[39;1m5.7.1\u001b[39;22m\u001b[39m -> \u001b[39m\u001b[39;1m5.9.0\u001b[39;22m\u001b[39m)\u001b[39m: \u001b[34mInstalling...\u001b[39m\n",
            "\u001b[2A\u001b[0J  \u001b[34;1m-\u001b[39;22m \u001b[39mUpdating \u001b[39m\u001b[36mtraitlets\u001b[39m\u001b[39m (\u001b[39m\u001b[39;1m5.7.1\u001b[39;22m\u001b[39m -> \u001b[39m\u001b[39;1m5.9.0\u001b[39;22m\u001b[39m)\u001b[39m: \u001b[34mInstalling...\u001b[39m\n",
            "\u001b[1A\u001b[0J  \u001b[32;1m-\u001b[39;22m \u001b[39mInstalling \u001b[39m\u001b[36mpyrsistent\u001b[39m\u001b[39m (\u001b[39m\u001b[32m0.19.3\u001b[39m\u001b[39m)\u001b[39m\n",
            "  \u001b[34;1m-\u001b[39;22m \u001b[39mUpdating \u001b[39m\u001b[36mtraitlets\u001b[39m\u001b[39m (\u001b[39m\u001b[39;1m5.7.1\u001b[39;22m\u001b[39m -> \u001b[39m\u001b[39;1m5.9.0\u001b[39;22m\u001b[39m)\u001b[39m: \u001b[34mInstalling...\u001b[39m\n",
            "\u001b[3A\u001b[0J  \u001b[32;1m-\u001b[39;22m \u001b[39mInstalling \u001b[39m\u001b[36mpyrsistent\u001b[39m\u001b[39m (\u001b[39m\u001b[32m0.19.3\u001b[39m\u001b[39m)\u001b[39m\n",
            "  \u001b[34;1m-\u001b[39;22m \u001b[39mUpdating \u001b[39m\u001b[36mtraitlets\u001b[39m\u001b[39m (\u001b[39m\u001b[39;1m5.7.1\u001b[39;22m\u001b[39m -> \u001b[39m\u001b[39;1m5.9.0\u001b[39;22m\u001b[39m)\u001b[39m: \u001b[34mInstalling...\u001b[39m\n",
            "\u001b[2A\u001b[0J  \u001b[32;1m-\u001b[39;22m \u001b[39mDowngrading \u001b[39m\u001b[36mattrs\u001b[39m\u001b[39m (\u001b[39m\u001b[39;1m25.3.0\u001b[39;22m\u001b[39m -> \u001b[39m\u001b[32m24.2.0\u001b[39m\u001b[39m)\u001b[39m\n",
            "  \u001b[32;1m-\u001b[39;22m \u001b[39mInstalling \u001b[39m\u001b[36mpyrsistent\u001b[39m\u001b[39m (\u001b[39m\u001b[32m0.19.3\u001b[39m\u001b[39m)\u001b[39m\n",
            "  \u001b[34;1m-\u001b[39;22m \u001b[39mUpdating \u001b[39m\u001b[36mtraitlets\u001b[39m\u001b[39m (\u001b[39m\u001b[39;1m5.7.1\u001b[39;22m\u001b[39m -> \u001b[39m\u001b[39;1m5.9.0\u001b[39;22m\u001b[39m)\u001b[39m: \u001b[34mInstalling...\u001b[39m\n",
            "\u001b[1A\u001b[0J  \u001b[32;1m-\u001b[39;22m \u001b[39mUpdating \u001b[39m\u001b[36mtraitlets\u001b[39m\u001b[39m (\u001b[39m\u001b[39;1m5.7.1\u001b[39;22m\u001b[39m -> \u001b[39m\u001b[32m5.9.0\u001b[39m\u001b[39m)\u001b[39m\n",
            "  \u001b[34;1m-\u001b[39;22m \u001b[39mDowngrading \u001b[39m\u001b[36mjsonschema\u001b[39m\u001b[39m (\u001b[39m\u001b[39;1m4.23.0\u001b[39;22m\u001b[39m -> \u001b[39m\u001b[39;1m4.17.3\u001b[39;22m\u001b[39m)\u001b[39m: \u001b[34mPending...\u001b[39m\n",
            "  \u001b[34;1m-\u001b[39;22m \u001b[39mDowngrading \u001b[39m\u001b[36mjupyter-core\u001b[39m\u001b[39m (\u001b[39m\u001b[39;1m5.7.2\u001b[39;22m\u001b[39m -> \u001b[39m\u001b[39;1m4.12.0\u001b[39;22m\u001b[39m)\u001b[39m: \u001b[34mPending...\u001b[39m\n",
            "  \u001b[34;1m-\u001b[39;22m \u001b[39mDowngrading \u001b[39m\u001b[36mpycparser\u001b[39m\u001b[39m (\u001b[39m\u001b[39;1m2.22\u001b[39;22m\u001b[39m -> \u001b[39m\u001b[39;1m2.21\u001b[39;22m\u001b[39m)\u001b[39m: \u001b[34mPending...\u001b[39m\n",
            "  \u001b[34;1m-\u001b[39;22m \u001b[39mUpdating \u001b[39m\u001b[36mpyzmq\u001b[39m\u001b[39m (\u001b[39m\u001b[39;1m24.0.1\u001b[39;22m\u001b[39m -> \u001b[39m\u001b[39;1m26.2.0\u001b[39;22m\u001b[39m)\u001b[39m: \u001b[34mPending...\u001b[39m\n",
            "  \u001b[34;1m-\u001b[39;22m \u001b[39mDowngrading \u001b[39m\u001b[36mtornado\u001b[39m\u001b[39m (\u001b[39m\u001b[39;1m6.4.2\u001b[39;22m\u001b[39m -> \u001b[39m\u001b[39;1m6.2\u001b[39;22m\u001b[39m)\u001b[39m: \u001b[34mPending...\u001b[39m\n",
            "\u001b[5A\u001b[0J  \u001b[34;1m-\u001b[39;22m \u001b[39mDowngrading \u001b[39m\u001b[36mjupyter-core\u001b[39m\u001b[39m (\u001b[39m\u001b[39;1m5.7.2\u001b[39;22m\u001b[39m -> \u001b[39m\u001b[39;1m4.12.0\u001b[39;22m\u001b[39m)\u001b[39m: \u001b[34mPending...\u001b[39m\n",
            "  \u001b[34;1m-\u001b[39;22m \u001b[39mDowngrading \u001b[39m\u001b[36mpycparser\u001b[39m\u001b[39m (\u001b[39m\u001b[39;1m2.22\u001b[39;22m\u001b[39m -> \u001b[39m\u001b[39;1m2.21\u001b[39;22m\u001b[39m)\u001b[39m: \u001b[34mPending...\u001b[39m\n",
            "  \u001b[34;1m-\u001b[39;22m \u001b[39mUpdating \u001b[39m\u001b[36mpyzmq\u001b[39m\u001b[39m (\u001b[39m\u001b[39;1m24.0.1\u001b[39;22m\u001b[39m -> \u001b[39m\u001b[39;1m26.2.0\u001b[39;22m\u001b[39m)\u001b[39m: \u001b[34mPending...\u001b[39m\n",
            "  \u001b[34;1m-\u001b[39;22m \u001b[39mDowngrading \u001b[39m\u001b[36mtornado\u001b[39m\u001b[39m (\u001b[39m\u001b[39;1m6.4.2\u001b[39;22m\u001b[39m -> \u001b[39m\u001b[39;1m6.2\u001b[39;22m\u001b[39m)\u001b[39m: \u001b[34mPending...\u001b[39m\n",
            "\u001b[4A\u001b[0J  \u001b[34;1m-\u001b[39;22m \u001b[39mDowngrading \u001b[39m\u001b[36mjsonschema\u001b[39m\u001b[39m (\u001b[39m\u001b[39;1m4.23.0\u001b[39;22m\u001b[39m -> \u001b[39m\u001b[39;1m4.17.3\u001b[39;22m\u001b[39m)\u001b[39m: \u001b[34mDownloading...\u001b[39m \u001b[39;1m0%\u001b[39;22m\n",
            "  \u001b[34;1m-\u001b[39;22m \u001b[39mDowngrading \u001b[39m\u001b[36mjupyter-core\u001b[39m\u001b[39m (\u001b[39m\u001b[39;1m5.7.2\u001b[39;22m\u001b[39m -> \u001b[39m\u001b[39;1m4.12.0\u001b[39;22m\u001b[39m)\u001b[39m: \u001b[34mPending...\u001b[39m\n",
            "  \u001b[34;1m-\u001b[39;22m \u001b[39mDowngrading \u001b[39m\u001b[36mpycparser\u001b[39m\u001b[39m (\u001b[39m\u001b[39;1m2.22\u001b[39;22m\u001b[39m -> \u001b[39m\u001b[39;1m2.21\u001b[39;22m\u001b[39m)\u001b[39m: \u001b[34mPending...\u001b[39m\n",
            "  \u001b[34;1m-\u001b[39;22m \u001b[39mUpdating \u001b[39m\u001b[36mpyzmq\u001b[39m\u001b[39m (\u001b[39m\u001b[39;1m24.0.1\u001b[39;22m\u001b[39m -> \u001b[39m\u001b[39;1m26.2.0\u001b[39;22m\u001b[39m)\u001b[39m: \u001b[34mPending...\u001b[39m\n",
            "  \u001b[34;1m-\u001b[39;22m \u001b[39mDowngrading \u001b[39m\u001b[36mtornado\u001b[39m\u001b[39m (\u001b[39m\u001b[39;1m6.4.2\u001b[39;22m\u001b[39m -> \u001b[39m\u001b[39;1m6.2\u001b[39;22m\u001b[39m)\u001b[39m: \u001b[34mPending...\u001b[39m\n",
            "\u001b[1A\u001b[0J  \u001b[34;1m-\u001b[39;22m \u001b[39mDowngrading \u001b[39m\u001b[36mtornado\u001b[39m\u001b[39m (\u001b[39m\u001b[39;1m6.4.2\u001b[39;22m\u001b[39m -> \u001b[39m\u001b[39;1m6.2\u001b[39;22m\u001b[39m)\u001b[39m: \u001b[34mDownloading...\u001b[39m \u001b[39;1m0%\u001b[39;22m\n",
            "\u001b[3A\u001b[0J  \u001b[34;1m-\u001b[39;22m \u001b[39mUpdating \u001b[39m\u001b[36mpyzmq\u001b[39m\u001b[39m (\u001b[39m\u001b[39;1m24.0.1\u001b[39;22m\u001b[39m -> \u001b[39m\u001b[39;1m26.2.0\u001b[39;22m\u001b[39m)\u001b[39m: \u001b[34mPending...\u001b[39m\n",
            "  \u001b[34;1m-\u001b[39;22m \u001b[39mDowngrading \u001b[39m\u001b[36mtornado\u001b[39m\u001b[39m (\u001b[39m\u001b[39;1m6.4.2\u001b[39;22m\u001b[39m -> \u001b[39m\u001b[39;1m6.2\u001b[39;22m\u001b[39m)\u001b[39m: \u001b[34mDownloading...\u001b[39m \u001b[39;1m0%\u001b[39;22m\n",
            "\u001b[2A\u001b[0J  \u001b[34;1m-\u001b[39;22m \u001b[39mDowngrading \u001b[39m\u001b[36mpycparser\u001b[39m\u001b[39m (\u001b[39m\u001b[39;1m2.22\u001b[39;22m\u001b[39m -> \u001b[39m\u001b[39;1m2.21\u001b[39;22m\u001b[39m)\u001b[39m: \u001b[34mDownloading...\u001b[39m \u001b[39;1m0%\u001b[39;22m\n",
            "  \u001b[34;1m-\u001b[39;22m \u001b[39mUpdating \u001b[39m\u001b[36mpyzmq\u001b[39m\u001b[39m (\u001b[39m\u001b[39;1m24.0.1\u001b[39;22m\u001b[39m -> \u001b[39m\u001b[39;1m26.2.0\u001b[39;22m\u001b[39m)\u001b[39m: \u001b[34mPending...\u001b[39m\n",
            "  \u001b[34;1m-\u001b[39;22m \u001b[39mDowngrading \u001b[39m\u001b[36mtornado\u001b[39m\u001b[39m (\u001b[39m\u001b[39;1m6.4.2\u001b[39;22m\u001b[39m -> \u001b[39m\u001b[39;1m6.2\u001b[39;22m\u001b[39m)\u001b[39m: \u001b[34mDownloading...\u001b[39m \u001b[39;1m0%\u001b[39;22m\n",
            "\u001b[3A\u001b[0J  \u001b[34;1m-\u001b[39;22m \u001b[39mUpdating \u001b[39m\u001b[36mpyzmq\u001b[39m\u001b[39m (\u001b[39m\u001b[39;1m24.0.1\u001b[39;22m\u001b[39m -> \u001b[39m\u001b[39;1m26.2.0\u001b[39;22m\u001b[39m)\u001b[39m: \u001b[34mPending...\u001b[39m\n",
            "  \u001b[34;1m-\u001b[39;22m \u001b[39mDowngrading \u001b[39m\u001b[36mtornado\u001b[39m\u001b[39m (\u001b[39m\u001b[39;1m6.4.2\u001b[39;22m\u001b[39m -> \u001b[39m\u001b[39;1m6.2\u001b[39;22m\u001b[39m)\u001b[39m: \u001b[34mDownloading...\u001b[39m \u001b[39;1m0%\u001b[39;22m\n",
            "\u001b[2A\u001b[0J  \u001b[34;1m-\u001b[39;22m \u001b[39mDowngrading \u001b[39m\u001b[36mpycparser\u001b[39m\u001b[39m (\u001b[39m\u001b[39;1m2.22\u001b[39;22m\u001b[39m -> \u001b[39m\u001b[39;1m2.21\u001b[39;22m\u001b[39m)\u001b[39m: \u001b[34mDownloading...\u001b[39m \u001b[39;1m100%\u001b[39;22m\n",
            "  \u001b[34;1m-\u001b[39;22m \u001b[39mUpdating \u001b[39m\u001b[36mpyzmq\u001b[39m\u001b[39m (\u001b[39m\u001b[39;1m24.0.1\u001b[39;22m\u001b[39m -> \u001b[39m\u001b[39;1m26.2.0\u001b[39;22m\u001b[39m)\u001b[39m: \u001b[34mPending...\u001b[39m\n",
            "  \u001b[34;1m-\u001b[39;22m \u001b[39mDowngrading \u001b[39m\u001b[36mtornado\u001b[39m\u001b[39m (\u001b[39m\u001b[39;1m6.4.2\u001b[39;22m\u001b[39m -> \u001b[39m\u001b[39;1m6.2\u001b[39;22m\u001b[39m)\u001b[39m: \u001b[34mDownloading...\u001b[39m \u001b[39;1m0%\u001b[39;22m\n",
            "\u001b[5A\u001b[0J  \u001b[34;1m-\u001b[39;22m \u001b[39mDowngrading \u001b[39m\u001b[36mjupyter-core\u001b[39m\u001b[39m (\u001b[39m\u001b[39;1m5.7.2\u001b[39;22m\u001b[39m -> \u001b[39m\u001b[39;1m4.12.0\u001b[39;22m\u001b[39m)\u001b[39m: \u001b[34mPending...\u001b[39m\n",
            "  \u001b[34;1m-\u001b[39;22m \u001b[39mDowngrading \u001b[39m\u001b[36mpycparser\u001b[39m\u001b[39m (\u001b[39m\u001b[39;1m2.22\u001b[39;22m\u001b[39m -> \u001b[39m\u001b[39;1m2.21\u001b[39;22m\u001b[39m)\u001b[39m: \u001b[34mDownloading...\u001b[39m \u001b[39;1m100%\u001b[39;22m\n",
            "  \u001b[34;1m-\u001b[39;22m \u001b[39mUpdating \u001b[39m\u001b[36mpyzmq\u001b[39m\u001b[39m (\u001b[39m\u001b[39;1m24.0.1\u001b[39;22m\u001b[39m -> \u001b[39m\u001b[39;1m26.2.0\u001b[39;22m\u001b[39m)\u001b[39m: \u001b[34mPending...\u001b[39m\n",
            "  \u001b[34;1m-\u001b[39;22m \u001b[39mDowngrading \u001b[39m\u001b[36mtornado\u001b[39m\u001b[39m (\u001b[39m\u001b[39;1m6.4.2\u001b[39;22m\u001b[39m -> \u001b[39m\u001b[39;1m6.2\u001b[39;22m\u001b[39m)\u001b[39m: \u001b[34mDownloading...\u001b[39m \u001b[39;1m0%\u001b[39;22m\n",
            "\u001b[4A\u001b[0J  \u001b[34;1m-\u001b[39;22m \u001b[39mDowngrading \u001b[39m\u001b[36mjsonschema\u001b[39m\u001b[39m (\u001b[39m\u001b[39;1m4.23.0\u001b[39;22m\u001b[39m -> \u001b[39m\u001b[39;1m4.17.3\u001b[39;22m\u001b[39m)\u001b[39m: \u001b[34mDownloading...\u001b[39m \u001b[39;1m100%\u001b[39;22m\n",
            "  \u001b[34;1m-\u001b[39;22m \u001b[39mDowngrading \u001b[39m\u001b[36mjupyter-core\u001b[39m\u001b[39m (\u001b[39m\u001b[39;1m5.7.2\u001b[39;22m\u001b[39m -> \u001b[39m\u001b[39;1m4.12.0\u001b[39;22m\u001b[39m)\u001b[39m: \u001b[34mPending...\u001b[39m\n",
            "  \u001b[34;1m-\u001b[39;22m \u001b[39mDowngrading \u001b[39m\u001b[36mpycparser\u001b[39m\u001b[39m (\u001b[39m\u001b[39;1m2.22\u001b[39;22m\u001b[39m -> \u001b[39m\u001b[39;1m2.21\u001b[39;22m\u001b[39m)\u001b[39m: \u001b[34mDownloading...\u001b[39m \u001b[39;1m100%\u001b[39;22m\n",
            "  \u001b[34;1m-\u001b[39;22m \u001b[39mUpdating \u001b[39m\u001b[36mpyzmq\u001b[39m\u001b[39m (\u001b[39m\u001b[39;1m24.0.1\u001b[39;22m\u001b[39m -> \u001b[39m\u001b[39;1m26.2.0\u001b[39;22m\u001b[39m)\u001b[39m: \u001b[34mPending...\u001b[39m\n",
            "  \u001b[34;1m-\u001b[39;22m \u001b[39mDowngrading \u001b[39m\u001b[36mtornado\u001b[39m\u001b[39m (\u001b[39m\u001b[39;1m6.4.2\u001b[39;22m\u001b[39m -> \u001b[39m\u001b[39;1m6.2\u001b[39;22m\u001b[39m)\u001b[39m: \u001b[34mDownloading...\u001b[39m \u001b[39;1m0%\u001b[39;22m\n",
            "\u001b[5A\u001b[0J  \u001b[34;1m-\u001b[39;22m \u001b[39mDowngrading \u001b[39m\u001b[36mjupyter-core\u001b[39m\u001b[39m (\u001b[39m\u001b[39;1m5.7.2\u001b[39;22m\u001b[39m -> \u001b[39m\u001b[39;1m4.12.0\u001b[39;22m\u001b[39m)\u001b[39m: \u001b[34mPending...\u001b[39m\n",
            "  \u001b[34;1m-\u001b[39;22m \u001b[39mDowngrading \u001b[39m\u001b[36mpycparser\u001b[39m\u001b[39m (\u001b[39m\u001b[39;1m2.22\u001b[39;22m\u001b[39m -> \u001b[39m\u001b[39;1m2.21\u001b[39;22m\u001b[39m)\u001b[39m: \u001b[34mDownloading...\u001b[39m \u001b[39;1m100%\u001b[39;22m\n",
            "  \u001b[34;1m-\u001b[39;22m \u001b[39mUpdating \u001b[39m\u001b[36mpyzmq\u001b[39m\u001b[39m (\u001b[39m\u001b[39;1m24.0.1\u001b[39;22m\u001b[39m -> \u001b[39m\u001b[39;1m26.2.0\u001b[39;22m\u001b[39m)\u001b[39m: \u001b[34mPending...\u001b[39m\n",
            "  \u001b[34;1m-\u001b[39;22m \u001b[39mDowngrading \u001b[39m\u001b[36mtornado\u001b[39m\u001b[39m (\u001b[39m\u001b[39;1m6.4.2\u001b[39;22m\u001b[39m -> \u001b[39m\u001b[39;1m6.2\u001b[39;22m\u001b[39m)\u001b[39m: \u001b[34mDownloading...\u001b[39m \u001b[39;1m0%\u001b[39;22m\n",
            "\u001b[4A\u001b[0J  \u001b[34;1m-\u001b[39;22m \u001b[39mDowngrading \u001b[39m\u001b[36mjsonschema\u001b[39m\u001b[39m (\u001b[39m\u001b[39;1m4.23.0\u001b[39;22m\u001b[39m -> \u001b[39m\u001b[39;1m4.17.3\u001b[39;22m\u001b[39m)\u001b[39m: \u001b[34mInstalling...\u001b[39m\n",
            "  \u001b[34;1m-\u001b[39;22m \u001b[39mDowngrading \u001b[39m\u001b[36mjupyter-core\u001b[39m\u001b[39m (\u001b[39m\u001b[39;1m5.7.2\u001b[39;22m\u001b[39m -> \u001b[39m\u001b[39;1m4.12.0\u001b[39;22m\u001b[39m)\u001b[39m: \u001b[34mPending...\u001b[39m\n",
            "  \u001b[34;1m-\u001b[39;22m \u001b[39mDowngrading \u001b[39m\u001b[36mpycparser\u001b[39m\u001b[39m (\u001b[39m\u001b[39;1m2.22\u001b[39;22m\u001b[39m -> \u001b[39m\u001b[39;1m2.21\u001b[39;22m\u001b[39m)\u001b[39m: \u001b[34mDownloading...\u001b[39m \u001b[39;1m100%\u001b[39;22m\n",
            "  \u001b[34;1m-\u001b[39;22m \u001b[39mUpdating \u001b[39m\u001b[36mpyzmq\u001b[39m\u001b[39m (\u001b[39m\u001b[39;1m24.0.1\u001b[39;22m\u001b[39m -> \u001b[39m\u001b[39;1m26.2.0\u001b[39;22m\u001b[39m)\u001b[39m: \u001b[34mPending...\u001b[39m\n",
            "  \u001b[34;1m-\u001b[39;22m \u001b[39mDowngrading \u001b[39m\u001b[36mtornado\u001b[39m\u001b[39m (\u001b[39m\u001b[39;1m6.4.2\u001b[39;22m\u001b[39m -> \u001b[39m\u001b[39;1m6.2\u001b[39;22m\u001b[39m)\u001b[39m: \u001b[34mDownloading...\u001b[39m \u001b[39;1m0%\u001b[39;22m\n",
            "\u001b[3A\u001b[0J  \u001b[34;1m-\u001b[39;22m \u001b[39mUpdating \u001b[39m\u001b[36mpyzmq\u001b[39m\u001b[39m (\u001b[39m\u001b[39;1m24.0.1\u001b[39;22m\u001b[39m -> \u001b[39m\u001b[39;1m26.2.0\u001b[39;22m\u001b[39m)\u001b[39m: \u001b[34mPending...\u001b[39m\n",
            "  \u001b[34;1m-\u001b[39;22m \u001b[39mDowngrading \u001b[39m\u001b[36mtornado\u001b[39m\u001b[39m (\u001b[39m\u001b[39;1m6.4.2\u001b[39;22m\u001b[39m -> \u001b[39m\u001b[39;1m6.2\u001b[39;22m\u001b[39m)\u001b[39m: \u001b[34mDownloading...\u001b[39m \u001b[39;1m0%\u001b[39;22m\n",
            "\u001b[2A\u001b[0J  \u001b[34;1m-\u001b[39;22m \u001b[39mDowngrading \u001b[39m\u001b[36mpycparser\u001b[39m\u001b[39m (\u001b[39m\u001b[39;1m2.22\u001b[39;22m\u001b[39m -> \u001b[39m\u001b[39;1m2.21\u001b[39;22m\u001b[39m)\u001b[39m: \u001b[34mInstalling...\u001b[39m\n",
            "  \u001b[34;1m-\u001b[39;22m \u001b[39mUpdating \u001b[39m\u001b[36mpyzmq\u001b[39m\u001b[39m (\u001b[39m\u001b[39;1m24.0.1\u001b[39;22m\u001b[39m -> \u001b[39m\u001b[39;1m26.2.0\u001b[39;22m\u001b[39m)\u001b[39m: \u001b[34mPending...\u001b[39m\n",
            "  \u001b[34;1m-\u001b[39;22m \u001b[39mDowngrading \u001b[39m\u001b[36mtornado\u001b[39m\u001b[39m (\u001b[39m\u001b[39;1m6.4.2\u001b[39;22m\u001b[39m -> \u001b[39m\u001b[39;1m6.2\u001b[39;22m\u001b[39m)\u001b[39m: \u001b[34mDownloading...\u001b[39m \u001b[39;1m0%\u001b[39;22m\n",
            "\u001b[2A\u001b[0J  \u001b[34;1m-\u001b[39;22m \u001b[39mDowngrading \u001b[39m\u001b[36mtornado\u001b[39m\u001b[39m (\u001b[39m\u001b[39;1m6.4.2\u001b[39;22m\u001b[39m -> \u001b[39m\u001b[39;1m6.2\u001b[39;22m\u001b[39m)\u001b[39m: \u001b[34mDownloading...\u001b[39m \u001b[39;1m0%\u001b[39;22m\n",
            "\u001b[1A\u001b[0J  \u001b[34;1m-\u001b[39;22m \u001b[39mUpdating \u001b[39m\u001b[36mpyzmq\u001b[39m\u001b[39m (\u001b[39m\u001b[39;1m24.0.1\u001b[39;22m\u001b[39m -> \u001b[39m\u001b[39;1m26.2.0\u001b[39;22m\u001b[39m)\u001b[39m: \u001b[34mDownloading...\u001b[39m \u001b[39;1m0%\u001b[39;22m\n",
            "  \u001b[34;1m-\u001b[39;22m \u001b[39mDowngrading \u001b[39m\u001b[36mtornado\u001b[39m\u001b[39m (\u001b[39m\u001b[39;1m6.4.2\u001b[39;22m\u001b[39m -> \u001b[39m\u001b[39;1m6.2\u001b[39;22m\u001b[39m)\u001b[39m: \u001b[34mDownloading...\u001b[39m \u001b[39;1m0%\u001b[39;22m\n",
            "\u001b[4A\u001b[0J  \u001b[34;1m-\u001b[39;22m \u001b[39mDowngrading \u001b[39m\u001b[36mpycparser\u001b[39m\u001b[39m (\u001b[39m\u001b[39;1m2.22\u001b[39;22m\u001b[39m -> \u001b[39m\u001b[39;1m2.21\u001b[39;22m\u001b[39m)\u001b[39m: \u001b[34mInstalling...\u001b[39m\n",
            "  \u001b[34;1m-\u001b[39;22m \u001b[39mUpdating \u001b[39m\u001b[36mpyzmq\u001b[39m\u001b[39m (\u001b[39m\u001b[39;1m24.0.1\u001b[39;22m\u001b[39m -> \u001b[39m\u001b[39;1m26.2.0\u001b[39;22m\u001b[39m)\u001b[39m: \u001b[34mDownloading...\u001b[39m \u001b[39;1m0%\u001b[39;22m\n",
            "  \u001b[34;1m-\u001b[39;22m \u001b[39mDowngrading \u001b[39m\u001b[36mtornado\u001b[39m\u001b[39m (\u001b[39m\u001b[39;1m6.4.2\u001b[39;22m\u001b[39m -> \u001b[39m\u001b[39;1m6.2\u001b[39;22m\u001b[39m)\u001b[39m: \u001b[34mDownloading...\u001b[39m \u001b[39;1m0%\u001b[39;22m\n",
            "\u001b[3A\u001b[0J  \u001b[34;1m-\u001b[39;22m \u001b[39mDowngrading \u001b[39m\u001b[36mjupyter-core\u001b[39m\u001b[39m (\u001b[39m\u001b[39;1m5.7.2\u001b[39;22m\u001b[39m -> \u001b[39m\u001b[39;1m4.12.0\u001b[39;22m\u001b[39m)\u001b[39m: \u001b[34mDownloading...\u001b[39m \u001b[39;1m0%\u001b[39;22m\n",
            "  \u001b[34;1m-\u001b[39;22m \u001b[39mDowngrading \u001b[39m\u001b[36mpycparser\u001b[39m\u001b[39m (\u001b[39m\u001b[39;1m2.22\u001b[39;22m\u001b[39m -> \u001b[39m\u001b[39;1m2.21\u001b[39;22m\u001b[39m)\u001b[39m: \u001b[34mInstalling...\u001b[39m\n",
            "  \u001b[34;1m-\u001b[39;22m \u001b[39mUpdating \u001b[39m\u001b[36mpyzmq\u001b[39m\u001b[39m (\u001b[39m\u001b[39;1m24.0.1\u001b[39;22m\u001b[39m -> \u001b[39m\u001b[39;1m26.2.0\u001b[39;22m\u001b[39m)\u001b[39m: \u001b[34mDownloading...\u001b[39m \u001b[39;1m0%\u001b[39;22m\n",
            "  \u001b[34;1m-\u001b[39;22m \u001b[39mDowngrading \u001b[39m\u001b[36mtornado\u001b[39m\u001b[39m (\u001b[39m\u001b[39;1m6.4.2\u001b[39;22m\u001b[39m -> \u001b[39m\u001b[39;1m6.2\u001b[39;22m\u001b[39m)\u001b[39m: \u001b[34mDownloading...\u001b[39m \u001b[39;1m0%\u001b[39;22m\n",
            "\u001b[1A\u001b[0J  \u001b[34;1m-\u001b[39;22m \u001b[39mDowngrading \u001b[39m\u001b[36mtornado\u001b[39m\u001b[39m (\u001b[39m\u001b[39;1m6.4.2\u001b[39;22m\u001b[39m -> \u001b[39m\u001b[39;1m6.2\u001b[39;22m\u001b[39m)\u001b[39m: \u001b[34mDownloading...\u001b[39m \u001b[39;1m100%\u001b[39;22m\n",
            "\u001b[1A\u001b[0J  \u001b[34;1m-\u001b[39;22m \u001b[39mDowngrading \u001b[39m\u001b[36mtornado\u001b[39m\u001b[39m (\u001b[39m\u001b[39;1m6.4.2\u001b[39;22m\u001b[39m -> \u001b[39m\u001b[39;1m6.2\u001b[39;22m\u001b[39m)\u001b[39m: \u001b[34mInstalling...\u001b[39m\n",
            "\u001b[4A\u001b[0J  \u001b[34;1m-\u001b[39;22m \u001b[39mDowngrading \u001b[39m\u001b[36mpycparser\u001b[39m\u001b[39m (\u001b[39m\u001b[39;1m2.22\u001b[39;22m\u001b[39m -> \u001b[39m\u001b[39;1m2.21\u001b[39;22m\u001b[39m)\u001b[39m: \u001b[34mInstalling...\u001b[39m\n",
            "  \u001b[34;1m-\u001b[39;22m \u001b[39mUpdating \u001b[39m\u001b[36mpyzmq\u001b[39m\u001b[39m (\u001b[39m\u001b[39;1m24.0.1\u001b[39;22m\u001b[39m -> \u001b[39m\u001b[39;1m26.2.0\u001b[39;22m\u001b[39m)\u001b[39m: \u001b[34mDownloading...\u001b[39m \u001b[39;1m0%\u001b[39;22m\n",
            "  \u001b[34;1m-\u001b[39;22m \u001b[39mDowngrading \u001b[39m\u001b[36mtornado\u001b[39m\u001b[39m (\u001b[39m\u001b[39;1m6.4.2\u001b[39;22m\u001b[39m -> \u001b[39m\u001b[39;1m6.2\u001b[39;22m\u001b[39m)\u001b[39m: \u001b[34mInstalling...\u001b[39m\n",
            "\u001b[3A\u001b[0J  \u001b[34;1m-\u001b[39;22m \u001b[39mDowngrading \u001b[39m\u001b[36mjupyter-core\u001b[39m\u001b[39m (\u001b[39m\u001b[39;1m5.7.2\u001b[39;22m\u001b[39m -> \u001b[39m\u001b[39;1m4.12.0\u001b[39;22m\u001b[39m)\u001b[39m: \u001b[34mDownloading...\u001b[39m \u001b[39;1m100%\u001b[39;22m\n",
            "  \u001b[34;1m-\u001b[39;22m \u001b[39mDowngrading \u001b[39m\u001b[36mpycparser\u001b[39m\u001b[39m (\u001b[39m\u001b[39;1m2.22\u001b[39;22m\u001b[39m -> \u001b[39m\u001b[39;1m2.21\u001b[39;22m\u001b[39m)\u001b[39m: \u001b[34mInstalling...\u001b[39m\n",
            "  \u001b[34;1m-\u001b[39;22m \u001b[39mUpdating \u001b[39m\u001b[36mpyzmq\u001b[39m\u001b[39m (\u001b[39m\u001b[39;1m24.0.1\u001b[39;22m\u001b[39m -> \u001b[39m\u001b[39;1m26.2.0\u001b[39;22m\u001b[39m)\u001b[39m: \u001b[34mDownloading...\u001b[39m \u001b[39;1m0%\u001b[39;22m\n",
            "  \u001b[34;1m-\u001b[39;22m \u001b[39mDowngrading \u001b[39m\u001b[36mtornado\u001b[39m\u001b[39m (\u001b[39m\u001b[39;1m6.4.2\u001b[39;22m\u001b[39m -> \u001b[39m\u001b[39;1m6.2\u001b[39;22m\u001b[39m)\u001b[39m: \u001b[34mInstalling...\u001b[39m\n",
            "\u001b[4A\u001b[0J  \u001b[34;1m-\u001b[39;22m \u001b[39mDowngrading \u001b[39m\u001b[36mpycparser\u001b[39m\u001b[39m (\u001b[39m\u001b[39;1m2.22\u001b[39;22m\u001b[39m -> \u001b[39m\u001b[39;1m2.21\u001b[39;22m\u001b[39m)\u001b[39m: \u001b[34mInstalling...\u001b[39m\n",
            "  \u001b[34;1m-\u001b[39;22m \u001b[39mUpdating \u001b[39m\u001b[36mpyzmq\u001b[39m\u001b[39m (\u001b[39m\u001b[39;1m24.0.1\u001b[39;22m\u001b[39m -> \u001b[39m\u001b[39;1m26.2.0\u001b[39;22m\u001b[39m)\u001b[39m: \u001b[34mDownloading...\u001b[39m \u001b[39;1m0%\u001b[39;22m\n",
            "  \u001b[34;1m-\u001b[39;22m \u001b[39mDowngrading \u001b[39m\u001b[36mtornado\u001b[39m\u001b[39m (\u001b[39m\u001b[39;1m6.4.2\u001b[39;22m\u001b[39m -> \u001b[39m\u001b[39;1m6.2\u001b[39;22m\u001b[39m)\u001b[39m: \u001b[34mInstalling...\u001b[39m\n",
            "\u001b[3A\u001b[0J  \u001b[34;1m-\u001b[39;22m \u001b[39mDowngrading \u001b[39m\u001b[36mjupyter-core\u001b[39m\u001b[39m (\u001b[39m\u001b[39;1m5.7.2\u001b[39;22m\u001b[39m -> \u001b[39m\u001b[39;1m4.12.0\u001b[39;22m\u001b[39m)\u001b[39m: \u001b[34mInstalling...\u001b[39m\n",
            "  \u001b[34;1m-\u001b[39;22m \u001b[39mDowngrading \u001b[39m\u001b[36mpycparser\u001b[39m\u001b[39m (\u001b[39m\u001b[39;1m2.22\u001b[39;22m\u001b[39m -> \u001b[39m\u001b[39;1m2.21\u001b[39;22m\u001b[39m)\u001b[39m: \u001b[34mInstalling...\u001b[39m\n",
            "  \u001b[34;1m-\u001b[39;22m \u001b[39mUpdating \u001b[39m\u001b[36mpyzmq\u001b[39m\u001b[39m (\u001b[39m\u001b[39;1m24.0.1\u001b[39;22m\u001b[39m -> \u001b[39m\u001b[39;1m26.2.0\u001b[39;22m\u001b[39m)\u001b[39m: \u001b[34mDownloading...\u001b[39m \u001b[39;1m0%\u001b[39;22m\n",
            "  \u001b[34;1m-\u001b[39;22m \u001b[39mDowngrading \u001b[39m\u001b[36mtornado\u001b[39m\u001b[39m (\u001b[39m\u001b[39;1m6.4.2\u001b[39;22m\u001b[39m -> \u001b[39m\u001b[39;1m6.2\u001b[39;22m\u001b[39m)\u001b[39m: \u001b[34mInstalling...\u001b[39m\n",
            "\u001b[2A\u001b[0J  \u001b[34;1m-\u001b[39;22m \u001b[39mDowngrading \u001b[39m\u001b[36mtornado\u001b[39m\u001b[39m (\u001b[39m\u001b[39;1m6.4.2\u001b[39;22m\u001b[39m -> \u001b[39m\u001b[39;1m6.2\u001b[39;22m\u001b[39m)\u001b[39m: \u001b[34mInstalling...\u001b[39m\n",
            "\u001b[1A\u001b[0J  \u001b[34;1m-\u001b[39;22m \u001b[39mUpdating \u001b[39m\u001b[36mpyzmq\u001b[39m\u001b[39m (\u001b[39m\u001b[39;1m24.0.1\u001b[39;22m\u001b[39m -> \u001b[39m\u001b[39;1m26.2.0\u001b[39;22m\u001b[39m)\u001b[39m: \u001b[34mDownloading...\u001b[39m \u001b[39;1m100%\u001b[39;22m\n",
            "  \u001b[34;1m-\u001b[39;22m \u001b[39mDowngrading \u001b[39m\u001b[36mtornado\u001b[39m\u001b[39m (\u001b[39m\u001b[39;1m6.4.2\u001b[39;22m\u001b[39m -> \u001b[39m\u001b[39;1m6.2\u001b[39;22m\u001b[39m)\u001b[39m: \u001b[34mInstalling...\u001b[39m\n",
            "\u001b[2A\u001b[0J  \u001b[34;1m-\u001b[39;22m \u001b[39mDowngrading \u001b[39m\u001b[36mtornado\u001b[39m\u001b[39m (\u001b[39m\u001b[39;1m6.4.2\u001b[39;22m\u001b[39m -> \u001b[39m\u001b[39;1m6.2\u001b[39;22m\u001b[39m)\u001b[39m: \u001b[34mInstalling...\u001b[39m\n",
            "\u001b[1A\u001b[0J  \u001b[34;1m-\u001b[39;22m \u001b[39mUpdating \u001b[39m\u001b[36mpyzmq\u001b[39m\u001b[39m (\u001b[39m\u001b[39;1m24.0.1\u001b[39;22m\u001b[39m -> \u001b[39m\u001b[39;1m26.2.0\u001b[39;22m\u001b[39m)\u001b[39m: \u001b[34mInstalling...\u001b[39m\n",
            "  \u001b[34;1m-\u001b[39;22m \u001b[39mDowngrading \u001b[39m\u001b[36mtornado\u001b[39m\u001b[39m (\u001b[39m\u001b[39;1m6.4.2\u001b[39;22m\u001b[39m -> \u001b[39m\u001b[39;1m6.2\u001b[39;22m\u001b[39m)\u001b[39m: \u001b[34mInstalling...\u001b[39m\n",
            "\u001b[3A\u001b[0J  \u001b[34;1m-\u001b[39;22m \u001b[39mUpdating \u001b[39m\u001b[36mpyzmq\u001b[39m\u001b[39m (\u001b[39m\u001b[39;1m24.0.1\u001b[39;22m\u001b[39m -> \u001b[39m\u001b[39;1m26.2.0\u001b[39;22m\u001b[39m)\u001b[39m: \u001b[34mInstalling...\u001b[39m\n",
            "  \u001b[34;1m-\u001b[39;22m \u001b[39mDowngrading \u001b[39m\u001b[36mtornado\u001b[39m\u001b[39m (\u001b[39m\u001b[39;1m6.4.2\u001b[39;22m\u001b[39m -> \u001b[39m\u001b[39;1m6.2\u001b[39;22m\u001b[39m)\u001b[39m: \u001b[34mInstalling...\u001b[39m\n",
            "\u001b[2A\u001b[0J  \u001b[32;1m-\u001b[39;22m \u001b[39mDowngrading \u001b[39m\u001b[36mpycparser\u001b[39m\u001b[39m (\u001b[39m\u001b[39;1m2.22\u001b[39;22m\u001b[39m -> \u001b[39m\u001b[32m2.21\u001b[39m\u001b[39m)\u001b[39m\n",
            "  \u001b[34;1m-\u001b[39;22m \u001b[39mUpdating \u001b[39m\u001b[36mpyzmq\u001b[39m\u001b[39m (\u001b[39m\u001b[39;1m24.0.1\u001b[39;22m\u001b[39m -> \u001b[39m\u001b[39;1m26.2.0\u001b[39;22m\u001b[39m)\u001b[39m: \u001b[34mInstalling...\u001b[39m\n",
            "  \u001b[34;1m-\u001b[39;22m \u001b[39mDowngrading \u001b[39m\u001b[36mtornado\u001b[39m\u001b[39m (\u001b[39m\u001b[39;1m6.4.2\u001b[39;22m\u001b[39m -> \u001b[39m\u001b[39;1m6.2\u001b[39;22m\u001b[39m)\u001b[39m: \u001b[34mInstalling...\u001b[39m\n",
            "\u001b[5A\u001b[0J  \u001b[34;1m-\u001b[39;22m \u001b[39mDowngrading \u001b[39m\u001b[36mjupyter-core\u001b[39m\u001b[39m (\u001b[39m\u001b[39;1m5.7.2\u001b[39;22m\u001b[39m -> \u001b[39m\u001b[39;1m4.12.0\u001b[39;22m\u001b[39m)\u001b[39m: \u001b[34mInstalling...\u001b[39m\n",
            "  \u001b[32;1m-\u001b[39;22m \u001b[39mDowngrading \u001b[39m\u001b[36mpycparser\u001b[39m\u001b[39m (\u001b[39m\u001b[39;1m2.22\u001b[39;22m\u001b[39m -> \u001b[39m\u001b[32m2.21\u001b[39m\u001b[39m)\u001b[39m\n",
            "  \u001b[34;1m-\u001b[39;22m \u001b[39mUpdating \u001b[39m\u001b[36mpyzmq\u001b[39m\u001b[39m (\u001b[39m\u001b[39;1m24.0.1\u001b[39;22m\u001b[39m -> \u001b[39m\u001b[39;1m26.2.0\u001b[39;22m\u001b[39m)\u001b[39m: \u001b[34mInstalling...\u001b[39m\n",
            "  \u001b[34;1m-\u001b[39;22m \u001b[39mDowngrading \u001b[39m\u001b[36mtornado\u001b[39m\u001b[39m (\u001b[39m\u001b[39;1m6.4.2\u001b[39;22m\u001b[39m -> \u001b[39m\u001b[39;1m6.2\u001b[39;22m\u001b[39m)\u001b[39m: \u001b[34mInstalling...\u001b[39m\n",
            "\u001b[4A\u001b[0J  \u001b[32;1m-\u001b[39;22m \u001b[39mDowngrading \u001b[39m\u001b[36mjsonschema\u001b[39m\u001b[39m (\u001b[39m\u001b[39;1m4.23.0\u001b[39;22m\u001b[39m -> \u001b[39m\u001b[32m4.17.3\u001b[39m\u001b[39m)\u001b[39m\n",
            "  \u001b[34;1m-\u001b[39;22m \u001b[39mDowngrading \u001b[39m\u001b[36mjupyter-core\u001b[39m\u001b[39m (\u001b[39m\u001b[39;1m5.7.2\u001b[39;22m\u001b[39m -> \u001b[39m\u001b[39;1m4.12.0\u001b[39;22m\u001b[39m)\u001b[39m: \u001b[34mInstalling...\u001b[39m\n",
            "  \u001b[32;1m-\u001b[39;22m \u001b[39mDowngrading \u001b[39m\u001b[36mpycparser\u001b[39m\u001b[39m (\u001b[39m\u001b[39;1m2.22\u001b[39;22m\u001b[39m -> \u001b[39m\u001b[32m2.21\u001b[39m\u001b[39m)\u001b[39m\n",
            "  \u001b[34;1m-\u001b[39;22m \u001b[39mUpdating \u001b[39m\u001b[36mpyzmq\u001b[39m\u001b[39m (\u001b[39m\u001b[39;1m24.0.1\u001b[39;22m\u001b[39m -> \u001b[39m\u001b[39;1m26.2.0\u001b[39;22m\u001b[39m)\u001b[39m: \u001b[34mInstalling...\u001b[39m\n",
            "  \u001b[34;1m-\u001b[39;22m \u001b[39mDowngrading \u001b[39m\u001b[36mtornado\u001b[39m\u001b[39m (\u001b[39m\u001b[39;1m6.4.2\u001b[39;22m\u001b[39m -> \u001b[39m\u001b[39;1m6.2\u001b[39;22m\u001b[39m)\u001b[39m: \u001b[34mInstalling...\u001b[39m\n",
            "\u001b[2A\u001b[0J  \u001b[34;1m-\u001b[39;22m \u001b[39mDowngrading \u001b[39m\u001b[36mtornado\u001b[39m\u001b[39m (\u001b[39m\u001b[39;1m6.4.2\u001b[39;22m\u001b[39m -> \u001b[39m\u001b[39;1m6.2\u001b[39;22m\u001b[39m)\u001b[39m: \u001b[34mInstalling...\u001b[39m\n",
            "\u001b[1A\u001b[0J  \u001b[32;1m-\u001b[39;22m \u001b[39mUpdating \u001b[39m\u001b[36mpyzmq\u001b[39m\u001b[39m (\u001b[39m\u001b[39;1m24.0.1\u001b[39;22m\u001b[39m -> \u001b[39m\u001b[32m26.2.0\u001b[39m\u001b[39m)\u001b[39m\n",
            "  \u001b[34;1m-\u001b[39;22m \u001b[39mDowngrading \u001b[39m\u001b[36mtornado\u001b[39m\u001b[39m (\u001b[39m\u001b[39;1m6.4.2\u001b[39;22m\u001b[39m -> \u001b[39m\u001b[39;1m6.2\u001b[39;22m\u001b[39m)\u001b[39m: \u001b[34mInstalling...\u001b[39m\n",
            "\u001b[1A\u001b[0J  \u001b[32;1m-\u001b[39;22m \u001b[39mDowngrading \u001b[39m\u001b[36mtornado\u001b[39m\u001b[39m (\u001b[39m\u001b[39;1m6.4.2\u001b[39;22m\u001b[39m -> \u001b[39m\u001b[32m6.2\u001b[39m\u001b[39m)\u001b[39m\n",
            "\u001b[4A\u001b[0J  \u001b[32;1m-\u001b[39;22m \u001b[39mDowngrading \u001b[39m\u001b[36mpycparser\u001b[39m\u001b[39m (\u001b[39m\u001b[39;1m2.22\u001b[39;22m\u001b[39m -> \u001b[39m\u001b[32m2.21\u001b[39m\u001b[39m)\u001b[39m\n",
            "  \u001b[32;1m-\u001b[39;22m \u001b[39mUpdating \u001b[39m\u001b[36mpyzmq\u001b[39m\u001b[39m (\u001b[39m\u001b[39;1m24.0.1\u001b[39;22m\u001b[39m -> \u001b[39m\u001b[32m26.2.0\u001b[39m\u001b[39m)\u001b[39m\n",
            "  \u001b[32;1m-\u001b[39;22m \u001b[39mDowngrading \u001b[39m\u001b[36mtornado\u001b[39m\u001b[39m (\u001b[39m\u001b[39;1m6.4.2\u001b[39;22m\u001b[39m -> \u001b[39m\u001b[32m6.2\u001b[39m\u001b[39m)\u001b[39m\n",
            "\u001b[3A\u001b[0J  \u001b[32;1m-\u001b[39;22m \u001b[39mDowngrading \u001b[39m\u001b[36mjupyter-core\u001b[39m\u001b[39m (\u001b[39m\u001b[39;1m5.7.2\u001b[39;22m\u001b[39m -> \u001b[39m\u001b[32m4.12.0\u001b[39m\u001b[39m)\u001b[39m\n",
            "  \u001b[32;1m-\u001b[39;22m \u001b[39mDowngrading \u001b[39m\u001b[36mpycparser\u001b[39m\u001b[39m (\u001b[39m\u001b[39;1m2.22\u001b[39;22m\u001b[39m -> \u001b[39m\u001b[32m2.21\u001b[39m\u001b[39m)\u001b[39m\n",
            "  \u001b[32;1m-\u001b[39;22m \u001b[39mUpdating \u001b[39m\u001b[36mpyzmq\u001b[39m\u001b[39m (\u001b[39m\u001b[39;1m24.0.1\u001b[39;22m\u001b[39m -> \u001b[39m\u001b[32m26.2.0\u001b[39m\u001b[39m)\u001b[39m\n",
            "  \u001b[32;1m-\u001b[39;22m \u001b[39mDowngrading \u001b[39m\u001b[36mtornado\u001b[39m\u001b[39m (\u001b[39m\u001b[39;1m6.4.2\u001b[39;22m\u001b[39m -> \u001b[39m\u001b[32m6.2\u001b[39m\u001b[39m)\u001b[39m\n",
            "  \u001b[34;1m-\u001b[39;22m \u001b[39mDowngrading \u001b[39m\u001b[36mcffi\u001b[39m\u001b[39m (\u001b[39m\u001b[39;1m1.17.1\u001b[39;22m\u001b[39m -> \u001b[39m\u001b[39;1m1.15.1\u001b[39;22m\u001b[39m)\u001b[39m: \u001b[34mPending...\u001b[39m\n",
            "  \u001b[34;1m-\u001b[39;22m \u001b[39mUpdating \u001b[39m\u001b[36mjupyter-client\u001b[39m\u001b[39m (\u001b[39m\u001b[39;1m6.1.12\u001b[39;22m\u001b[39m -> \u001b[39m\u001b[39;1m7.4.9\u001b[39;22m\u001b[39m)\u001b[39m: \u001b[34mPending...\u001b[39m\n",
            "  \u001b[34;1m-\u001b[39;22m \u001b[39mDowngrading \u001b[39m\u001b[36mmarkupsafe\u001b[39m\u001b[39m (\u001b[39m\u001b[39;1m3.0.2\u001b[39;22m\u001b[39m -> \u001b[39m\u001b[39;1m2.1.5\u001b[39;22m\u001b[39m)\u001b[39m: \u001b[34mPending...\u001b[39m\n",
            "  \u001b[34;1m-\u001b[39;22m \u001b[39mDowngrading \u001b[39m\u001b[36mnbformat\u001b[39m\u001b[39m (\u001b[39m\u001b[39;1m5.10.4\u001b[39;22m\u001b[39m -> \u001b[39m\u001b[39;1m5.8.0\u001b[39;22m\u001b[39m)\u001b[39m: \u001b[34mPending...\u001b[39m\n",
            "  \u001b[34;1m-\u001b[39;22m \u001b[39mDowngrading \u001b[39m\u001b[36msoupsieve\u001b[39m\u001b[39m (\u001b[39m\u001b[39;1m2.7\u001b[39;22m\u001b[39m -> \u001b[39m\u001b[39;1m2.4.1\u001b[39;22m\u001b[39m)\u001b[39m: \u001b[34mPending...\u001b[39m\n",
            "\u001b[4A\u001b[0J  \u001b[34;1m-\u001b[39;22m \u001b[39mDowngrading \u001b[39m\u001b[36mmarkupsafe\u001b[39m\u001b[39m (\u001b[39m\u001b[39;1m3.0.2\u001b[39;22m\u001b[39m -> \u001b[39m\u001b[39;1m2.1.5\u001b[39;22m\u001b[39m)\u001b[39m: \u001b[34mPending...\u001b[39m\n",
            "  \u001b[34;1m-\u001b[39;22m \u001b[39mDowngrading \u001b[39m\u001b[36mnbformat\u001b[39m\u001b[39m (\u001b[39m\u001b[39;1m5.10.4\u001b[39;22m\u001b[39m -> \u001b[39m\u001b[39;1m5.8.0\u001b[39;22m\u001b[39m)\u001b[39m: \u001b[34mPending...\u001b[39m\n",
            "  \u001b[34;1m-\u001b[39;22m \u001b[39mDowngrading \u001b[39m\u001b[36msoupsieve\u001b[39m\u001b[39m (\u001b[39m\u001b[39;1m2.7\u001b[39;22m\u001b[39m -> \u001b[39m\u001b[39;1m2.4.1\u001b[39;22m\u001b[39m)\u001b[39m: \u001b[34mPending...\u001b[39m\n",
            "\u001b[3A\u001b[0J  \u001b[34;1m-\u001b[39;22m \u001b[39mUpdating \u001b[39m\u001b[36mjupyter-client\u001b[39m\u001b[39m (\u001b[39m\u001b[39;1m6.1.12\u001b[39;22m\u001b[39m -> \u001b[39m\u001b[39;1m7.4.9\u001b[39;22m\u001b[39m)\u001b[39m: \u001b[34mDownloading...\u001b[39m \u001b[39;1m0%\u001b[39;22m\n",
            "  \u001b[34;1m-\u001b[39;22m \u001b[39mDowngrading \u001b[39m\u001b[36mmarkupsafe\u001b[39m\u001b[39m (\u001b[39m\u001b[39;1m3.0.2\u001b[39;22m\u001b[39m -> \u001b[39m\u001b[39;1m2.1.5\u001b[39;22m\u001b[39m)\u001b[39m: \u001b[34mPending...\u001b[39m\n",
            "  \u001b[34;1m-\u001b[39;22m \u001b[39mDowngrading \u001b[39m\u001b[36mnbformat\u001b[39m\u001b[39m (\u001b[39m\u001b[39;1m5.10.4\u001b[39;22m\u001b[39m -> \u001b[39m\u001b[39;1m5.8.0\u001b[39;22m\u001b[39m)\u001b[39m: \u001b[34mPending...\u001b[39m\n",
            "  \u001b[34;1m-\u001b[39;22m \u001b[39mDowngrading \u001b[39m\u001b[36msoupsieve\u001b[39m\u001b[39m (\u001b[39m\u001b[39;1m2.7\u001b[39;22m\u001b[39m -> \u001b[39m\u001b[39;1m2.4.1\u001b[39;22m\u001b[39m)\u001b[39m: \u001b[34mPending...\u001b[39m\n",
            "\u001b[1A\u001b[0J  \u001b[34;1m-\u001b[39;22m \u001b[39mDowngrading \u001b[39m\u001b[36msoupsieve\u001b[39m\u001b[39m (\u001b[39m\u001b[39;1m2.7\u001b[39;22m\u001b[39m -> \u001b[39m\u001b[39;1m2.4.1\u001b[39;22m\u001b[39m)\u001b[39m: \u001b[34mDownloading...\u001b[39m \u001b[39;1m0%\u001b[39;22m\n",
            "\u001b[2A\u001b[0J  \u001b[34;1m-\u001b[39;22m \u001b[39mDowngrading \u001b[39m\u001b[36msoupsieve\u001b[39m\u001b[39m (\u001b[39m\u001b[39;1m2.7\u001b[39;22m\u001b[39m -> \u001b[39m\u001b[39;1m2.4.1\u001b[39;22m\u001b[39m)\u001b[39m: \u001b[34mDownloading...\u001b[39m \u001b[39;1m0%\u001b[39;22m\n",
            "\u001b[1A\u001b[0J  \u001b[34;1m-\u001b[39;22m \u001b[39mDowngrading \u001b[39m\u001b[36mnbformat\u001b[39m\u001b[39m (\u001b[39m\u001b[39;1m5.10.4\u001b[39;22m\u001b[39m -> \u001b[39m\u001b[39;1m5.8.0\u001b[39;22m\u001b[39m)\u001b[39m: \u001b[34mDownloading...\u001b[39m \u001b[39;1m0%\u001b[39;22m\n",
            "  \u001b[34;1m-\u001b[39;22m \u001b[39mDowngrading \u001b[39m\u001b[36msoupsieve\u001b[39m\u001b[39m (\u001b[39m\u001b[39;1m2.7\u001b[39;22m\u001b[39m -> \u001b[39m\u001b[39;1m2.4.1\u001b[39;22m\u001b[39m)\u001b[39m: \u001b[34mDownloading...\u001b[39m \u001b[39;1m0%\u001b[39;22m\n",
            "\u001b[5A\u001b[0J  \u001b[34;1m-\u001b[39;22m \u001b[39mUpdating \u001b[39m\u001b[36mjupyter-client\u001b[39m\u001b[39m (\u001b[39m\u001b[39;1m6.1.12\u001b[39;22m\u001b[39m -> \u001b[39m\u001b[39;1m7.4.9\u001b[39;22m\u001b[39m)\u001b[39m: \u001b[34mDownloading...\u001b[39m \u001b[39;1m0%\u001b[39;22m\n",
            "  \u001b[34;1m-\u001b[39;22m \u001b[39mDowngrading \u001b[39m\u001b[36mmarkupsafe\u001b[39m\u001b[39m (\u001b[39m\u001b[39;1m3.0.2\u001b[39;22m\u001b[39m -> \u001b[39m\u001b[39;1m2.1.5\u001b[39;22m\u001b[39m)\u001b[39m: \u001b[34mPending...\u001b[39m\n",
            "  \u001b[34;1m-\u001b[39;22m \u001b[39mDowngrading \u001b[39m\u001b[36mnbformat\u001b[39m\u001b[39m (\u001b[39m\u001b[39;1m5.10.4\u001b[39;22m\u001b[39m -> \u001b[39m\u001b[39;1m5.8.0\u001b[39;22m\u001b[39m)\u001b[39m: \u001b[34mDownloading...\u001b[39m \u001b[39;1m0%\u001b[39;22m\n",
            "  \u001b[34;1m-\u001b[39;22m \u001b[39mDowngrading \u001b[39m\u001b[36msoupsieve\u001b[39m\u001b[39m (\u001b[39m\u001b[39;1m2.7\u001b[39;22m\u001b[39m -> \u001b[39m\u001b[39;1m2.4.1\u001b[39;22m\u001b[39m)\u001b[39m: \u001b[34mDownloading...\u001b[39m \u001b[39;1m0%\u001b[39;22m\n",
            "\u001b[4A\u001b[0J  \u001b[34;1m-\u001b[39;22m \u001b[39mDowngrading \u001b[39m\u001b[36mcffi\u001b[39m\u001b[39m (\u001b[39m\u001b[39;1m1.17.1\u001b[39;22m\u001b[39m -> \u001b[39m\u001b[39;1m1.15.1\u001b[39;22m\u001b[39m)\u001b[39m: \u001b[34mDownloading...\u001b[39m \u001b[39;1m0%\u001b[39;22m\n",
            "  \u001b[34;1m-\u001b[39;22m \u001b[39mUpdating \u001b[39m\u001b[36mjupyter-client\u001b[39m\u001b[39m (\u001b[39m\u001b[39;1m6.1.12\u001b[39;22m\u001b[39m -> \u001b[39m\u001b[39;1m7.4.9\u001b[39;22m\u001b[39m)\u001b[39m: \u001b[34mDownloading...\u001b[39m \u001b[39;1m0%\u001b[39;22m\n",
            "  \u001b[34;1m-\u001b[39;22m \u001b[39mDowngrading \u001b[39m\u001b[36mmarkupsafe\u001b[39m\u001b[39m (\u001b[39m\u001b[39;1m3.0.2\u001b[39;22m\u001b[39m -> \u001b[39m\u001b[39;1m2.1.5\u001b[39;22m\u001b[39m)\u001b[39m: \u001b[34mPending...\u001b[39m\n",
            "  \u001b[34;1m-\u001b[39;22m \u001b[39mDowngrading \u001b[39m\u001b[36mnbformat\u001b[39m\u001b[39m (\u001b[39m\u001b[39;1m5.10.4\u001b[39;22m\u001b[39m -> \u001b[39m\u001b[39;1m5.8.0\u001b[39;22m\u001b[39m)\u001b[39m: \u001b[34mDownloading...\u001b[39m \u001b[39;1m0%\u001b[39;22m\n",
            "  \u001b[34;1m-\u001b[39;22m \u001b[39mDowngrading \u001b[39m\u001b[36msoupsieve\u001b[39m\u001b[39m (\u001b[39m\u001b[39;1m2.7\u001b[39;22m\u001b[39m -> \u001b[39m\u001b[39;1m2.4.1\u001b[39;22m\u001b[39m)\u001b[39m: \u001b[34mDownloading...\u001b[39m \u001b[39;1m0%\u001b[39;22m\n",
            "\u001b[3A\u001b[0J  \u001b[34;1m-\u001b[39;22m \u001b[39mDowngrading \u001b[39m\u001b[36mnbformat\u001b[39m\u001b[39m (\u001b[39m\u001b[39;1m5.10.4\u001b[39;22m\u001b[39m -> \u001b[39m\u001b[39;1m5.8.0\u001b[39;22m\u001b[39m)\u001b[39m: \u001b[34mDownloading...\u001b[39m \u001b[39;1m0%\u001b[39;22m\n",
            "  \u001b[34;1m-\u001b[39;22m \u001b[39mDowngrading \u001b[39m\u001b[36msoupsieve\u001b[39m\u001b[39m (\u001b[39m\u001b[39;1m2.7\u001b[39;22m\u001b[39m -> \u001b[39m\u001b[39;1m2.4.1\u001b[39;22m\u001b[39m)\u001b[39m: \u001b[34mDownloading...\u001b[39m \u001b[39;1m0%\u001b[39;22m\n",
            "\u001b[2A\u001b[0J  \u001b[34;1m-\u001b[39;22m \u001b[39mDowngrading \u001b[39m\u001b[36mmarkupsafe\u001b[39m\u001b[39m (\u001b[39m\u001b[39;1m3.0.2\u001b[39;22m\u001b[39m -> \u001b[39m\u001b[39;1m2.1.5\u001b[39;22m\u001b[39m)\u001b[39m: \u001b[34mDownloading...\u001b[39m \u001b[39;1m0%\u001b[39;22m\n",
            "  \u001b[34;1m-\u001b[39;22m \u001b[39mDowngrading \u001b[39m\u001b[36mnbformat\u001b[39m\u001b[39m (\u001b[39m\u001b[39;1m5.10.4\u001b[39;22m\u001b[39m -> \u001b[39m\u001b[39;1m5.8.0\u001b[39;22m\u001b[39m)\u001b[39m: \u001b[34mDownloading...\u001b[39m \u001b[39;1m0%\u001b[39;22m\n",
            "  \u001b[34;1m-\u001b[39;22m \u001b[39mDowngrading \u001b[39m\u001b[36msoupsieve\u001b[39m\u001b[39m (\u001b[39m\u001b[39;1m2.7\u001b[39;22m\u001b[39m -> \u001b[39m\u001b[39;1m2.4.1\u001b[39;22m\u001b[39m)\u001b[39m: \u001b[34mDownloading...\u001b[39m \u001b[39;1m0%\u001b[39;22m\n",
            "\u001b[3A\u001b[0J  \u001b[34;1m-\u001b[39;22m \u001b[39mDowngrading \u001b[39m\u001b[36mnbformat\u001b[39m\u001b[39m (\u001b[39m\u001b[39;1m5.10.4\u001b[39;22m\u001b[39m -> \u001b[39m\u001b[39;1m5.8.0\u001b[39;22m\u001b[39m)\u001b[39m: \u001b[34mDownloading...\u001b[39m \u001b[39;1m0%\u001b[39;22m\n",
            "  \u001b[34;1m-\u001b[39;22m \u001b[39mDowngrading \u001b[39m\u001b[36msoupsieve\u001b[39m\u001b[39m (\u001b[39m\u001b[39;1m2.7\u001b[39;22m\u001b[39m -> \u001b[39m\u001b[39;1m2.4.1\u001b[39;22m\u001b[39m)\u001b[39m: \u001b[34mDownloading...\u001b[39m \u001b[39;1m0%\u001b[39;22m\n",
            "\u001b[2A\u001b[0J  \u001b[34;1m-\u001b[39;22m \u001b[39mDowngrading \u001b[39m\u001b[36mmarkupsafe\u001b[39m\u001b[39m (\u001b[39m\u001b[39;1m3.0.2\u001b[39;22m\u001b[39m -> \u001b[39m\u001b[39;1m2.1.5\u001b[39;22m\u001b[39m)\u001b[39m: \u001b[34mDownloading...\u001b[39m \u001b[39;1m100%\u001b[39;22m\n",
            "  \u001b[34;1m-\u001b[39;22m \u001b[39mDowngrading \u001b[39m\u001b[36mnbformat\u001b[39m\u001b[39m (\u001b[39m\u001b[39;1m5.10.4\u001b[39;22m\u001b[39m -> \u001b[39m\u001b[39;1m5.8.0\u001b[39;22m\u001b[39m)\u001b[39m: \u001b[34mDownloading...\u001b[39m \u001b[39;1m0%\u001b[39;22m\n",
            "  \u001b[34;1m-\u001b[39;22m \u001b[39mDowngrading \u001b[39m\u001b[36msoupsieve\u001b[39m\u001b[39m (\u001b[39m\u001b[39;1m2.7\u001b[39;22m\u001b[39m -> \u001b[39m\u001b[39;1m2.4.1\u001b[39;22m\u001b[39m)\u001b[39m: \u001b[34mDownloading...\u001b[39m \u001b[39;1m0%\u001b[39;22m\n",
            "\u001b[1A\u001b[0J  \u001b[34;1m-\u001b[39;22m \u001b[39mDowngrading \u001b[39m\u001b[36msoupsieve\u001b[39m\u001b[39m (\u001b[39m\u001b[39;1m2.7\u001b[39;22m\u001b[39m -> \u001b[39m\u001b[39;1m2.4.1\u001b[39;22m\u001b[39m)\u001b[39m: \u001b[34mDownloading...\u001b[39m \u001b[39;1m100%\u001b[39;22m\n",
            "\u001b[2A\u001b[0J  \u001b[34;1m-\u001b[39;22m \u001b[39mDowngrading \u001b[39m\u001b[36msoupsieve\u001b[39m\u001b[39m (\u001b[39m\u001b[39;1m2.7\u001b[39;22m\u001b[39m -> \u001b[39m\u001b[39;1m2.4.1\u001b[39;22m\u001b[39m)\u001b[39m: \u001b[34mDownloading...\u001b[39m \u001b[39;1m100%\u001b[39;22m\n",
            "\u001b[1A\u001b[0J  \u001b[34;1m-\u001b[39;22m \u001b[39mDowngrading \u001b[39m\u001b[36mnbformat\u001b[39m\u001b[39m (\u001b[39m\u001b[39;1m5.10.4\u001b[39;22m\u001b[39m -> \u001b[39m\u001b[39;1m5.8.0\u001b[39;22m\u001b[39m)\u001b[39m: \u001b[34mDownloading...\u001b[39m \u001b[39;1m100%\u001b[39;22m\n",
            "  \u001b[34;1m-\u001b[39;22m \u001b[39mDowngrading \u001b[39m\u001b[36msoupsieve\u001b[39m\u001b[39m (\u001b[39m\u001b[39;1m2.7\u001b[39;22m\u001b[39m -> \u001b[39m\u001b[39;1m2.4.1\u001b[39;22m\u001b[39m)\u001b[39m: \u001b[34mDownloading...\u001b[39m \u001b[39;1m100%\u001b[39;22m\n",
            "\u001b[3A\u001b[0J  \u001b[34;1m-\u001b[39;22m \u001b[39mDowngrading \u001b[39m\u001b[36mnbformat\u001b[39m\u001b[39m (\u001b[39m\u001b[39;1m5.10.4\u001b[39;22m\u001b[39m -> \u001b[39m\u001b[39;1m5.8.0\u001b[39;22m\u001b[39m)\u001b[39m: \u001b[34mDownloading...\u001b[39m \u001b[39;1m100%\u001b[39;22m\n",
            "  \u001b[34;1m-\u001b[39;22m \u001b[39mDowngrading \u001b[39m\u001b[36msoupsieve\u001b[39m\u001b[39m (\u001b[39m\u001b[39;1m2.7\u001b[39;22m\u001b[39m -> \u001b[39m\u001b[39;1m2.4.1\u001b[39;22m\u001b[39m)\u001b[39m: \u001b[34mDownloading...\u001b[39m \u001b[39;1m100%\u001b[39;22m\n",
            "\u001b[2A\u001b[0J  \u001b[34;1m-\u001b[39;22m \u001b[39mDowngrading \u001b[39m\u001b[36mmarkupsafe\u001b[39m\u001b[39m (\u001b[39m\u001b[39;1m3.0.2\u001b[39;22m\u001b[39m -> \u001b[39m\u001b[39;1m2.1.5\u001b[39;22m\u001b[39m)\u001b[39m: \u001b[34mInstalling...\u001b[39m\n",
            "  \u001b[34;1m-\u001b[39;22m \u001b[39mDowngrading \u001b[39m\u001b[36mnbformat\u001b[39m\u001b[39m (\u001b[39m\u001b[39;1m5.10.4\u001b[39;22m\u001b[39m -> \u001b[39m\u001b[39;1m5.8.0\u001b[39;22m\u001b[39m)\u001b[39m: \u001b[34mDownloading...\u001b[39m \u001b[39;1m100%\u001b[39;22m\n",
            "  \u001b[34;1m-\u001b[39;22m \u001b[39mDowngrading \u001b[39m\u001b[36msoupsieve\u001b[39m\u001b[39m (\u001b[39m\u001b[39;1m2.7\u001b[39;22m\u001b[39m -> \u001b[39m\u001b[39;1m2.4.1\u001b[39;22m\u001b[39m)\u001b[39m: \u001b[34mDownloading...\u001b[39m \u001b[39;1m100%\u001b[39;22m\n",
            "\u001b[1A\u001b[0J  \u001b[34;1m-\u001b[39;22m \u001b[39mDowngrading \u001b[39m\u001b[36msoupsieve\u001b[39m\u001b[39m (\u001b[39m\u001b[39;1m2.7\u001b[39;22m\u001b[39m -> \u001b[39m\u001b[39;1m2.4.1\u001b[39;22m\u001b[39m)\u001b[39m: \u001b[34mInstalling...\u001b[39m\n",
            "\u001b[4A\u001b[0J  \u001b[34;1m-\u001b[39;22m \u001b[39mDowngrading \u001b[39m\u001b[36mmarkupsafe\u001b[39m\u001b[39m (\u001b[39m\u001b[39;1m3.0.2\u001b[39;22m\u001b[39m -> \u001b[39m\u001b[39;1m2.1.5\u001b[39;22m\u001b[39m)\u001b[39m: \u001b[34mInstalling...\u001b[39m\n",
            "  \u001b[34;1m-\u001b[39;22m \u001b[39mDowngrading \u001b[39m\u001b[36mnbformat\u001b[39m\u001b[39m (\u001b[39m\u001b[39;1m5.10.4\u001b[39;22m\u001b[39m -> \u001b[39m\u001b[39;1m5.8.0\u001b[39;22m\u001b[39m)\u001b[39m: \u001b[34mDownloading...\u001b[39m \u001b[39;1m100%\u001b[39;22m\n",
            "  \u001b[34;1m-\u001b[39;22m \u001b[39mDowngrading \u001b[39m\u001b[36msoupsieve\u001b[39m\u001b[39m (\u001b[39m\u001b[39;1m2.7\u001b[39;22m\u001b[39m -> \u001b[39m\u001b[39;1m2.4.1\u001b[39;22m\u001b[39m)\u001b[39m: \u001b[34mInstalling...\u001b[39m\n",
            "\u001b[3A\u001b[0J  \u001b[34;1m-\u001b[39;22m \u001b[39mUpdating \u001b[39m\u001b[36mjupyter-client\u001b[39m\u001b[39m (\u001b[39m\u001b[39;1m6.1.12\u001b[39;22m\u001b[39m -> \u001b[39m\u001b[39;1m7.4.9\u001b[39;22m\u001b[39m)\u001b[39m: \u001b[34mDownloading...\u001b[39m \u001b[39;1m100%\u001b[39;22m\n",
            "  \u001b[34;1m-\u001b[39;22m \u001b[39mDowngrading \u001b[39m\u001b[36mmarkupsafe\u001b[39m\u001b[39m (\u001b[39m\u001b[39;1m3.0.2\u001b[39;22m\u001b[39m -> \u001b[39m\u001b[39;1m2.1.5\u001b[39;22m\u001b[39m)\u001b[39m: \u001b[34mInstalling...\u001b[39m\n",
            "  \u001b[34;1m-\u001b[39;22m \u001b[39mDowngrading \u001b[39m\u001b[36mnbformat\u001b[39m\u001b[39m (\u001b[39m\u001b[39;1m5.10.4\u001b[39;22m\u001b[39m -> \u001b[39m\u001b[39;1m5.8.0\u001b[39;22m\u001b[39m)\u001b[39m: \u001b[34mDownloading...\u001b[39m \u001b[39;1m100%\u001b[39;22m\n",
            "  \u001b[34;1m-\u001b[39;22m \u001b[39mDowngrading \u001b[39m\u001b[36msoupsieve\u001b[39m\u001b[39m (\u001b[39m\u001b[39;1m2.7\u001b[39;22m\u001b[39m -> \u001b[39m\u001b[39;1m2.4.1\u001b[39;22m\u001b[39m)\u001b[39m: \u001b[34mInstalling...\u001b[39m\n",
            "\u001b[2A\u001b[0J  \u001b[34;1m-\u001b[39;22m \u001b[39mDowngrading \u001b[39m\u001b[36msoupsieve\u001b[39m\u001b[39m (\u001b[39m\u001b[39;1m2.7\u001b[39;22m\u001b[39m -> \u001b[39m\u001b[39;1m2.4.1\u001b[39;22m\u001b[39m)\u001b[39m: \u001b[34mInstalling...\u001b[39m\n",
            "\u001b[1A\u001b[0J  \u001b[34;1m-\u001b[39;22m \u001b[39mDowngrading \u001b[39m\u001b[36mnbformat\u001b[39m\u001b[39m (\u001b[39m\u001b[39;1m5.10.4\u001b[39;22m\u001b[39m -> \u001b[39m\u001b[39;1m5.8.0\u001b[39;22m\u001b[39m)\u001b[39m: \u001b[34mInstalling...\u001b[39m\n",
            "  \u001b[34;1m-\u001b[39;22m \u001b[39mDowngrading \u001b[39m\u001b[36msoupsieve\u001b[39m\u001b[39m (\u001b[39m\u001b[39;1m2.7\u001b[39;22m\u001b[39m -> \u001b[39m\u001b[39;1m2.4.1\u001b[39;22m\u001b[39m)\u001b[39m: \u001b[34mInstalling...\u001b[39m\n",
            "\u001b[4A\u001b[0J  \u001b[34;1m-\u001b[39;22m \u001b[39mDowngrading \u001b[39m\u001b[36mmarkupsafe\u001b[39m\u001b[39m (\u001b[39m\u001b[39;1m3.0.2\u001b[39;22m\u001b[39m -> \u001b[39m\u001b[39;1m2.1.5\u001b[39;22m\u001b[39m)\u001b[39m: \u001b[34mInstalling...\u001b[39m\n",
            "  \u001b[34;1m-\u001b[39;22m \u001b[39mDowngrading \u001b[39m\u001b[36mnbformat\u001b[39m\u001b[39m (\u001b[39m\u001b[39;1m5.10.4\u001b[39;22m\u001b[39m -> \u001b[39m\u001b[39;1m5.8.0\u001b[39;22m\u001b[39m)\u001b[39m: \u001b[34mInstalling...\u001b[39m\n",
            "  \u001b[34;1m-\u001b[39;22m \u001b[39mDowngrading \u001b[39m\u001b[36msoupsieve\u001b[39m\u001b[39m (\u001b[39m\u001b[39;1m2.7\u001b[39;22m\u001b[39m -> \u001b[39m\u001b[39;1m2.4.1\u001b[39;22m\u001b[39m)\u001b[39m: \u001b[34mInstalling...\u001b[39m\n",
            "\u001b[3A\u001b[0J  \u001b[34;1m-\u001b[39;22m \u001b[39mUpdating \u001b[39m\u001b[36mjupyter-client\u001b[39m\u001b[39m (\u001b[39m\u001b[39;1m6.1.12\u001b[39;22m\u001b[39m -> \u001b[39m\u001b[39;1m7.4.9\u001b[39;22m\u001b[39m)\u001b[39m: \u001b[34mInstalling...\u001b[39m\n",
            "  \u001b[34;1m-\u001b[39;22m \u001b[39mDowngrading \u001b[39m\u001b[36mmarkupsafe\u001b[39m\u001b[39m (\u001b[39m\u001b[39;1m3.0.2\u001b[39;22m\u001b[39m -> \u001b[39m\u001b[39;1m2.1.5\u001b[39;22m\u001b[39m)\u001b[39m: \u001b[34mInstalling...\u001b[39m\n",
            "  \u001b[34;1m-\u001b[39;22m \u001b[39mDowngrading \u001b[39m\u001b[36mnbformat\u001b[39m\u001b[39m (\u001b[39m\u001b[39;1m5.10.4\u001b[39;22m\u001b[39m -> \u001b[39m\u001b[39;1m5.8.0\u001b[39;22m\u001b[39m)\u001b[39m: \u001b[34mInstalling...\u001b[39m\n",
            "  \u001b[34;1m-\u001b[39;22m \u001b[39mDowngrading \u001b[39m\u001b[36msoupsieve\u001b[39m\u001b[39m (\u001b[39m\u001b[39;1m2.7\u001b[39;22m\u001b[39m -> \u001b[39m\u001b[39;1m2.4.1\u001b[39;22m\u001b[39m)\u001b[39m: \u001b[34mInstalling...\u001b[39m\n",
            "\u001b[5A\u001b[0J  \u001b[34;1m-\u001b[39;22m \u001b[39mUpdating \u001b[39m\u001b[36mjupyter-client\u001b[39m\u001b[39m (\u001b[39m\u001b[39;1m6.1.12\u001b[39;22m\u001b[39m -> \u001b[39m\u001b[39;1m7.4.9\u001b[39;22m\u001b[39m)\u001b[39m: \u001b[34mInstalling...\u001b[39m\n",
            "  \u001b[34;1m-\u001b[39;22m \u001b[39mDowngrading \u001b[39m\u001b[36mmarkupsafe\u001b[39m\u001b[39m (\u001b[39m\u001b[39;1m3.0.2\u001b[39;22m\u001b[39m -> \u001b[39m\u001b[39;1m2.1.5\u001b[39;22m\u001b[39m)\u001b[39m: \u001b[34mInstalling...\u001b[39m\n",
            "  \u001b[34;1m-\u001b[39;22m \u001b[39mDowngrading \u001b[39m\u001b[36mnbformat\u001b[39m\u001b[39m (\u001b[39m\u001b[39;1m5.10.4\u001b[39;22m\u001b[39m -> \u001b[39m\u001b[39;1m5.8.0\u001b[39;22m\u001b[39m)\u001b[39m: \u001b[34mInstalling...\u001b[39m\n",
            "  \u001b[34;1m-\u001b[39;22m \u001b[39mDowngrading \u001b[39m\u001b[36msoupsieve\u001b[39m\u001b[39m (\u001b[39m\u001b[39;1m2.7\u001b[39;22m\u001b[39m -> \u001b[39m\u001b[39;1m2.4.1\u001b[39;22m\u001b[39m)\u001b[39m: \u001b[34mInstalling...\u001b[39m\n",
            "\u001b[4A\u001b[0J  \u001b[34;1m-\u001b[39;22m \u001b[39mDowngrading \u001b[39m\u001b[36mcffi\u001b[39m\u001b[39m (\u001b[39m\u001b[39;1m1.17.1\u001b[39;22m\u001b[39m -> \u001b[39m\u001b[39;1m1.15.1\u001b[39;22m\u001b[39m)\u001b[39m: \u001b[34mDownloading...\u001b[39m \u001b[39;1m100%\u001b[39;22m\n",
            "  \u001b[34;1m-\u001b[39;22m \u001b[39mUpdating \u001b[39m\u001b[36mjupyter-client\u001b[39m\u001b[39m (\u001b[39m\u001b[39;1m6.1.12\u001b[39;22m\u001b[39m -> \u001b[39m\u001b[39;1m7.4.9\u001b[39;22m\u001b[39m)\u001b[39m: \u001b[34mInstalling...\u001b[39m\n",
            "  \u001b[34;1m-\u001b[39;22m \u001b[39mDowngrading \u001b[39m\u001b[36mmarkupsafe\u001b[39m\u001b[39m (\u001b[39m\u001b[39;1m3.0.2\u001b[39;22m\u001b[39m -> \u001b[39m\u001b[39;1m2.1.5\u001b[39;22m\u001b[39m)\u001b[39m: \u001b[34mInstalling...\u001b[39m\n",
            "  \u001b[34;1m-\u001b[39;22m \u001b[39mDowngrading \u001b[39m\u001b[36mnbformat\u001b[39m\u001b[39m (\u001b[39m\u001b[39;1m5.10.4\u001b[39;22m\u001b[39m -> \u001b[39m\u001b[39;1m5.8.0\u001b[39;22m\u001b[39m)\u001b[39m: \u001b[34mInstalling...\u001b[39m\n",
            "  \u001b[34;1m-\u001b[39;22m \u001b[39mDowngrading \u001b[39m\u001b[36msoupsieve\u001b[39m\u001b[39m (\u001b[39m\u001b[39;1m2.7\u001b[39;22m\u001b[39m -> \u001b[39m\u001b[39;1m2.4.1\u001b[39;22m\u001b[39m)\u001b[39m: \u001b[34mInstalling...\u001b[39m\n",
            "\u001b[5A\u001b[0J  \u001b[34;1m-\u001b[39;22m \u001b[39mUpdating \u001b[39m\u001b[36mjupyter-client\u001b[39m\u001b[39m (\u001b[39m\u001b[39;1m6.1.12\u001b[39;22m\u001b[39m -> \u001b[39m\u001b[39;1m7.4.9\u001b[39;22m\u001b[39m)\u001b[39m: \u001b[34mInstalling...\u001b[39m\n",
            "  \u001b[34;1m-\u001b[39;22m \u001b[39mDowngrading \u001b[39m\u001b[36mmarkupsafe\u001b[39m\u001b[39m (\u001b[39m\u001b[39;1m3.0.2\u001b[39;22m\u001b[39m -> \u001b[39m\u001b[39;1m2.1.5\u001b[39;22m\u001b[39m)\u001b[39m: \u001b[34mInstalling...\u001b[39m\n",
            "  \u001b[34;1m-\u001b[39;22m \u001b[39mDowngrading \u001b[39m\u001b[36mnbformat\u001b[39m\u001b[39m (\u001b[39m\u001b[39;1m5.10.4\u001b[39;22m\u001b[39m -> \u001b[39m\u001b[39;1m5.8.0\u001b[39;22m\u001b[39m)\u001b[39m: \u001b[34mInstalling...\u001b[39m\n",
            "  \u001b[34;1m-\u001b[39;22m \u001b[39mDowngrading \u001b[39m\u001b[36msoupsieve\u001b[39m\u001b[39m (\u001b[39m\u001b[39;1m2.7\u001b[39;22m\u001b[39m -> \u001b[39m\u001b[39;1m2.4.1\u001b[39;22m\u001b[39m)\u001b[39m: \u001b[34mInstalling...\u001b[39m\n",
            "\u001b[4A\u001b[0J  \u001b[34;1m-\u001b[39;22m \u001b[39mDowngrading \u001b[39m\u001b[36mcffi\u001b[39m\u001b[39m (\u001b[39m\u001b[39;1m1.17.1\u001b[39;22m\u001b[39m -> \u001b[39m\u001b[39;1m1.15.1\u001b[39;22m\u001b[39m)\u001b[39m: \u001b[34mInstalling...\u001b[39m\n",
            "  \u001b[34;1m-\u001b[39;22m \u001b[39mUpdating \u001b[39m\u001b[36mjupyter-client\u001b[39m\u001b[39m (\u001b[39m\u001b[39;1m6.1.12\u001b[39;22m\u001b[39m -> \u001b[39m\u001b[39;1m7.4.9\u001b[39;22m\u001b[39m)\u001b[39m: \u001b[34mInstalling...\u001b[39m\n",
            "  \u001b[34;1m-\u001b[39;22m \u001b[39mDowngrading \u001b[39m\u001b[36mmarkupsafe\u001b[39m\u001b[39m (\u001b[39m\u001b[39;1m3.0.2\u001b[39;22m\u001b[39m -> \u001b[39m\u001b[39;1m2.1.5\u001b[39;22m\u001b[39m)\u001b[39m: \u001b[34mInstalling...\u001b[39m\n",
            "  \u001b[34;1m-\u001b[39;22m \u001b[39mDowngrading \u001b[39m\u001b[36mnbformat\u001b[39m\u001b[39m (\u001b[39m\u001b[39;1m5.10.4\u001b[39;22m\u001b[39m -> \u001b[39m\u001b[39;1m5.8.0\u001b[39;22m\u001b[39m)\u001b[39m: \u001b[34mInstalling...\u001b[39m\n",
            "  \u001b[34;1m-\u001b[39;22m \u001b[39mDowngrading \u001b[39m\u001b[36msoupsieve\u001b[39m\u001b[39m (\u001b[39m\u001b[39;1m2.7\u001b[39;22m\u001b[39m -> \u001b[39m\u001b[39;1m2.4.1\u001b[39;22m\u001b[39m)\u001b[39m: \u001b[34mInstalling...\u001b[39m\n",
            "\u001b[1A\u001b[0J  \u001b[32;1m-\u001b[39;22m \u001b[39mDowngrading \u001b[39m\u001b[36msoupsieve\u001b[39m\u001b[39m (\u001b[39m\u001b[39;1m2.7\u001b[39;22m\u001b[39m -> \u001b[39m\u001b[32m2.4.1\u001b[39m\u001b[39m)\u001b[39m\n",
            "\u001b[3A\u001b[0J  \u001b[34;1m-\u001b[39;22m \u001b[39mDowngrading \u001b[39m\u001b[36mnbformat\u001b[39m\u001b[39m (\u001b[39m\u001b[39;1m5.10.4\u001b[39;22m\u001b[39m -> \u001b[39m\u001b[39;1m5.8.0\u001b[39;22m\u001b[39m)\u001b[39m: \u001b[34mInstalling...\u001b[39m\n",
            "  \u001b[32;1m-\u001b[39;22m \u001b[39mDowngrading \u001b[39m\u001b[36msoupsieve\u001b[39m\u001b[39m (\u001b[39m\u001b[39;1m2.7\u001b[39;22m\u001b[39m -> \u001b[39m\u001b[32m2.4.1\u001b[39m\u001b[39m)\u001b[39m\n",
            "\u001b[2A\u001b[0J  \u001b[32;1m-\u001b[39;22m \u001b[39mDowngrading \u001b[39m\u001b[36mmarkupsafe\u001b[39m\u001b[39m (\u001b[39m\u001b[39;1m3.0.2\u001b[39;22m\u001b[39m -> \u001b[39m\u001b[32m2.1.5\u001b[39m\u001b[39m)\u001b[39m\n",
            "  \u001b[34;1m-\u001b[39;22m \u001b[39mDowngrading \u001b[39m\u001b[36mnbformat\u001b[39m\u001b[39m (\u001b[39m\u001b[39;1m5.10.4\u001b[39;22m\u001b[39m -> \u001b[39m\u001b[39;1m5.8.0\u001b[39;22m\u001b[39m)\u001b[39m: \u001b[34mInstalling...\u001b[39m\n",
            "  \u001b[32;1m-\u001b[39;22m \u001b[39mDowngrading \u001b[39m\u001b[36msoupsieve\u001b[39m\u001b[39m (\u001b[39m\u001b[39;1m2.7\u001b[39;22m\u001b[39m -> \u001b[39m\u001b[32m2.4.1\u001b[39m\u001b[39m)\u001b[39m\n",
            "\u001b[4A\u001b[0J  \u001b[32;1m-\u001b[39;22m \u001b[39mDowngrading \u001b[39m\u001b[36mmarkupsafe\u001b[39m\u001b[39m (\u001b[39m\u001b[39;1m3.0.2\u001b[39;22m\u001b[39m -> \u001b[39m\u001b[32m2.1.5\u001b[39m\u001b[39m)\u001b[39m\n",
            "  \u001b[34;1m-\u001b[39;22m \u001b[39mDowngrading \u001b[39m\u001b[36mnbformat\u001b[39m\u001b[39m (\u001b[39m\u001b[39;1m5.10.4\u001b[39;22m\u001b[39m -> \u001b[39m\u001b[39;1m5.8.0\u001b[39;22m\u001b[39m)\u001b[39m: \u001b[34mInstalling...\u001b[39m\n",
            "  \u001b[32;1m-\u001b[39;22m \u001b[39mDowngrading \u001b[39m\u001b[36msoupsieve\u001b[39m\u001b[39m (\u001b[39m\u001b[39;1m2.7\u001b[39;22m\u001b[39m -> \u001b[39m\u001b[32m2.4.1\u001b[39m\u001b[39m)\u001b[39m\n",
            "\u001b[3A\u001b[0J  \u001b[32;1m-\u001b[39;22m \u001b[39mUpdating \u001b[39m\u001b[36mjupyter-client\u001b[39m\u001b[39m (\u001b[39m\u001b[39;1m6.1.12\u001b[39;22m\u001b[39m -> \u001b[39m\u001b[32m7.4.9\u001b[39m\u001b[39m)\u001b[39m\n",
            "  \u001b[32;1m-\u001b[39;22m \u001b[39mDowngrading \u001b[39m\u001b[36mmarkupsafe\u001b[39m\u001b[39m (\u001b[39m\u001b[39;1m3.0.2\u001b[39;22m\u001b[39m -> \u001b[39m\u001b[32m2.1.5\u001b[39m\u001b[39m)\u001b[39m\n",
            "  \u001b[34;1m-\u001b[39;22m \u001b[39mDowngrading \u001b[39m\u001b[36mnbformat\u001b[39m\u001b[39m (\u001b[39m\u001b[39;1m5.10.4\u001b[39;22m\u001b[39m -> \u001b[39m\u001b[39;1m5.8.0\u001b[39;22m\u001b[39m)\u001b[39m: \u001b[34mInstalling...\u001b[39m\n",
            "  \u001b[32;1m-\u001b[39;22m \u001b[39mDowngrading \u001b[39m\u001b[36msoupsieve\u001b[39m\u001b[39m (\u001b[39m\u001b[39;1m2.7\u001b[39;22m\u001b[39m -> \u001b[39m\u001b[32m2.4.1\u001b[39m\u001b[39m)\u001b[39m\n",
            "\u001b[2A\u001b[0J  \u001b[32;1m-\u001b[39;22m \u001b[39mDowngrading \u001b[39m\u001b[36msoupsieve\u001b[39m\u001b[39m (\u001b[39m\u001b[39;1m2.7\u001b[39;22m\u001b[39m -> \u001b[39m\u001b[32m2.4.1\u001b[39m\u001b[39m)\u001b[39m\n",
            "\u001b[1A\u001b[0J  \u001b[32;1m-\u001b[39;22m \u001b[39mDowngrading \u001b[39m\u001b[36mnbformat\u001b[39m\u001b[39m (\u001b[39m\u001b[39;1m5.10.4\u001b[39;22m\u001b[39m -> \u001b[39m\u001b[32m5.8.0\u001b[39m\u001b[39m)\u001b[39m\n",
            "  \u001b[32;1m-\u001b[39;22m \u001b[39mDowngrading \u001b[39m\u001b[36msoupsieve\u001b[39m\u001b[39m (\u001b[39m\u001b[39;1m2.7\u001b[39;22m\u001b[39m -> \u001b[39m\u001b[32m2.4.1\u001b[39m\u001b[39m)\u001b[39m\n",
            "\u001b[5A\u001b[0J  \u001b[32;1m-\u001b[39;22m \u001b[39mUpdating \u001b[39m\u001b[36mjupyter-client\u001b[39m\u001b[39m (\u001b[39m\u001b[39;1m6.1.12\u001b[39;22m\u001b[39m -> \u001b[39m\u001b[32m7.4.9\u001b[39m\u001b[39m)\u001b[39m\n",
            "  \u001b[32;1m-\u001b[39;22m \u001b[39mDowngrading \u001b[39m\u001b[36mmarkupsafe\u001b[39m\u001b[39m (\u001b[39m\u001b[39;1m3.0.2\u001b[39;22m\u001b[39m -> \u001b[39m\u001b[32m2.1.5\u001b[39m\u001b[39m)\u001b[39m\n",
            "  \u001b[32;1m-\u001b[39;22m \u001b[39mDowngrading \u001b[39m\u001b[36mnbformat\u001b[39m\u001b[39m (\u001b[39m\u001b[39;1m5.10.4\u001b[39;22m\u001b[39m -> \u001b[39m\u001b[32m5.8.0\u001b[39m\u001b[39m)\u001b[39m\n",
            "  \u001b[32;1m-\u001b[39;22m \u001b[39mDowngrading \u001b[39m\u001b[36msoupsieve\u001b[39m\u001b[39m (\u001b[39m\u001b[39;1m2.7\u001b[39;22m\u001b[39m -> \u001b[39m\u001b[32m2.4.1\u001b[39m\u001b[39m)\u001b[39m\n",
            "\u001b[4A\u001b[0J  \u001b[32;1m-\u001b[39;22m \u001b[39mDowngrading \u001b[39m\u001b[36mcffi\u001b[39m\u001b[39m (\u001b[39m\u001b[39;1m1.17.1\u001b[39;22m\u001b[39m -> \u001b[39m\u001b[32m1.15.1\u001b[39m\u001b[39m)\u001b[39m\n",
            "  \u001b[32;1m-\u001b[39;22m \u001b[39mUpdating \u001b[39m\u001b[36mjupyter-client\u001b[39m\u001b[39m (\u001b[39m\u001b[39;1m6.1.12\u001b[39;22m\u001b[39m -> \u001b[39m\u001b[32m7.4.9\u001b[39m\u001b[39m)\u001b[39m\n",
            "  \u001b[32;1m-\u001b[39;22m \u001b[39mDowngrading \u001b[39m\u001b[36mmarkupsafe\u001b[39m\u001b[39m (\u001b[39m\u001b[39;1m3.0.2\u001b[39;22m\u001b[39m -> \u001b[39m\u001b[32m2.1.5\u001b[39m\u001b[39m)\u001b[39m\n",
            "  \u001b[32;1m-\u001b[39;22m \u001b[39mDowngrading \u001b[39m\u001b[36mnbformat\u001b[39m\u001b[39m (\u001b[39m\u001b[39;1m5.10.4\u001b[39;22m\u001b[39m -> \u001b[39m\u001b[32m5.8.0\u001b[39m\u001b[39m)\u001b[39m\n",
            "  \u001b[32;1m-\u001b[39;22m \u001b[39mDowngrading \u001b[39m\u001b[36msoupsieve\u001b[39m\u001b[39m (\u001b[39m\u001b[39;1m2.7\u001b[39;22m\u001b[39m -> \u001b[39m\u001b[32m2.4.1\u001b[39m\u001b[39m)\u001b[39m\n",
            "  \u001b[34;1m-\u001b[39;22m \u001b[39mInstalling \u001b[39m\u001b[36marrow\u001b[39m\u001b[39m (\u001b[39m\u001b[39;1m1.2.3\u001b[39;22m\u001b[39m)\u001b[39m: \u001b[34mPending...\u001b[39m\n",
            "  \u001b[34;1m-\u001b[39;22m \u001b[39mDowngrading \u001b[39m\u001b[36mbeautifulsoup4\u001b[39m\u001b[39m (\u001b[39m\u001b[39;1m4.13.4\u001b[39;22m\u001b[39m -> \u001b[39m\u001b[39;1m4.12.3\u001b[39;22m\u001b[39m)\u001b[39m: \u001b[34mPending...\u001b[39m\n",
            "  \u001b[34;1m-\u001b[39;22m \u001b[39mDowngrading \u001b[39m\u001b[36mbleach\u001b[39m\u001b[39m (\u001b[39m\u001b[39;1m6.2.0\u001b[39;22m\u001b[39m -> \u001b[39m\u001b[39;1m6.0.0\u001b[39;22m\u001b[39m)\u001b[39m: \u001b[34mPending...\u001b[39m\n",
            "  \u001b[34;1m-\u001b[39;22m \u001b[39mDowngrading \u001b[39m\u001b[36mjinja2\u001b[39m\u001b[39m (\u001b[39m\u001b[39;1m3.1.6\u001b[39;22m\u001b[39m -> \u001b[39m\u001b[39;1m3.1.5\u001b[39;22m\u001b[39m)\u001b[39m: \u001b[34mPending...\u001b[39m\n",
            "  \u001b[34;1m-\u001b[39;22m \u001b[39mDowngrading \u001b[39m\u001b[36mjupyterlab-pygments\u001b[39m\u001b[39m (\u001b[39m\u001b[39;1m0.3.0\u001b[39;22m\u001b[39m -> \u001b[39m\u001b[39;1m0.2.2\u001b[39;22m\u001b[39m)\u001b[39m: \u001b[34mPending...\u001b[39m\n",
            "  \u001b[34;1m-\u001b[39;22m \u001b[39mDowngrading \u001b[39m\u001b[36mmistune\u001b[39m\u001b[39m (\u001b[39m\u001b[39;1m3.1.3\u001b[39;22m\u001b[39m -> \u001b[39m\u001b[39;1m3.0.2\u001b[39;22m\u001b[39m)\u001b[39m: \u001b[34mPending...\u001b[39m\n",
            "\u001b[3A\u001b[0J  \u001b[34;1m-\u001b[39;22m \u001b[39mDowngrading \u001b[39m\u001b[36mjupyterlab-pygments\u001b[39m\u001b[39m (\u001b[39m\u001b[39;1m0.3.0\u001b[39;22m\u001b[39m -> \u001b[39m\u001b[39;1m0.2.2\u001b[39;22m\u001b[39m)\u001b[39m: \u001b[34mPending...\u001b[39m\n",
            "  \u001b[34;1m-\u001b[39;22m \u001b[39mDowngrading \u001b[39m\u001b[36mmistune\u001b[39m\u001b[39m (\u001b[39m\u001b[39;1m3.1.3\u001b[39;22m\u001b[39m -> \u001b[39m\u001b[39;1m3.0.2\u001b[39;22m\u001b[39m)\u001b[39m: \u001b[34mPending...\u001b[39m\n",
            "\u001b[2A\u001b[0J  \u001b[34;1m-\u001b[39;22m \u001b[39mDowngrading \u001b[39m\u001b[36mjinja2\u001b[39m\u001b[39m (\u001b[39m\u001b[39;1m3.1.6\u001b[39;22m\u001b[39m -> \u001b[39m\u001b[39;1m3.1.5\u001b[39;22m\u001b[39m)\u001b[39m: \u001b[34mDownloading...\u001b[39m \u001b[39;1m0%\u001b[39;22m\n",
            "  \u001b[34;1m-\u001b[39;22m \u001b[39mDowngrading \u001b[39m\u001b[36mjupyterlab-pygments\u001b[39m\u001b[39m (\u001b[39m\u001b[39;1m0.3.0\u001b[39;22m\u001b[39m -> \u001b[39m\u001b[39;1m0.2.2\u001b[39;22m\u001b[39m)\u001b[39m: \u001b[34mPending...\u001b[39m\n",
            "  \u001b[34;1m-\u001b[39;22m \u001b[39mDowngrading \u001b[39m\u001b[36mmistune\u001b[39m\u001b[39m (\u001b[39m\u001b[39;1m3.1.3\u001b[39;22m\u001b[39m -> \u001b[39m\u001b[39;1m3.0.2\u001b[39;22m\u001b[39m)\u001b[39m: \u001b[34mPending...\u001b[39m\n",
            "\u001b[6A\u001b[0J  \u001b[34;1m-\u001b[39;22m \u001b[39mDowngrading \u001b[39m\u001b[36mbeautifulsoup4\u001b[39m\u001b[39m (\u001b[39m\u001b[39;1m4.13.4\u001b[39;22m\u001b[39m -> \u001b[39m\u001b[39;1m4.12.3\u001b[39;22m\u001b[39m)\u001b[39m: \u001b[34mPending...\u001b[39m\n",
            "  \u001b[34;1m-\u001b[39;22m \u001b[39mDowngrading \u001b[39m\u001b[36mbleach\u001b[39m\u001b[39m (\u001b[39m\u001b[39;1m6.2.0\u001b[39;22m\u001b[39m -> \u001b[39m\u001b[39;1m6.0.0\u001b[39;22m\u001b[39m)\u001b[39m: \u001b[34mPending...\u001b[39m\n",
            "  \u001b[34;1m-\u001b[39;22m \u001b[39mDowngrading \u001b[39m\u001b[36mjinja2\u001b[39m\u001b[39m (\u001b[39m\u001b[39;1m3.1.6\u001b[39;22m\u001b[39m -> \u001b[39m\u001b[39;1m3.1.5\u001b[39;22m\u001b[39m)\u001b[39m: \u001b[34mDownloading...\u001b[39m \u001b[39;1m0%\u001b[39;22m\n",
            "  \u001b[34;1m-\u001b[39;22m \u001b[39mDowngrading \u001b[39m\u001b[36mjupyterlab-pygments\u001b[39m\u001b[39m (\u001b[39m\u001b[39;1m0.3.0\u001b[39;22m\u001b[39m -> \u001b[39m\u001b[39;1m0.2.2\u001b[39;22m\u001b[39m)\u001b[39m: \u001b[34mPending...\u001b[39m\n",
            "  \u001b[34;1m-\u001b[39;22m \u001b[39mDowngrading \u001b[39m\u001b[36mmistune\u001b[39m\u001b[39m (\u001b[39m\u001b[39;1m3.1.3\u001b[39;22m\u001b[39m -> \u001b[39m\u001b[39;1m3.0.2\u001b[39;22m\u001b[39m)\u001b[39m: \u001b[34mPending...\u001b[39m\n",
            "\u001b[5A\u001b[0J  \u001b[34;1m-\u001b[39;22m \u001b[39mInstalling \u001b[39m\u001b[36marrow\u001b[39m\u001b[39m (\u001b[39m\u001b[39;1m1.2.3\u001b[39;22m\u001b[39m)\u001b[39m: \u001b[34mDownloading...\u001b[39m \u001b[39;1m0%\u001b[39;22m\n",
            "  \u001b[34;1m-\u001b[39;22m \u001b[39mDowngrading \u001b[39m\u001b[36mbeautifulsoup4\u001b[39m\u001b[39m (\u001b[39m\u001b[39;1m4.13.4\u001b[39;22m\u001b[39m -> \u001b[39m\u001b[39;1m4.12.3\u001b[39;22m\u001b[39m)\u001b[39m: \u001b[34mPending...\u001b[39m\n",
            "  \u001b[34;1m-\u001b[39;22m \u001b[39mDowngrading \u001b[39m\u001b[36mbleach\u001b[39m\u001b[39m (\u001b[39m\u001b[39;1m6.2.0\u001b[39;22m\u001b[39m -> \u001b[39m\u001b[39;1m6.0.0\u001b[39;22m\u001b[39m)\u001b[39m: \u001b[34mPending...\u001b[39m\n",
            "  \u001b[34;1m-\u001b[39;22m \u001b[39mDowngrading \u001b[39m\u001b[36mjinja2\u001b[39m\u001b[39m (\u001b[39m\u001b[39;1m3.1.6\u001b[39;22m\u001b[39m -> \u001b[39m\u001b[39;1m3.1.5\u001b[39;22m\u001b[39m)\u001b[39m: \u001b[34mDownloading...\u001b[39m \u001b[39;1m0%\u001b[39;22m\n",
            "  \u001b[34;1m-\u001b[39;22m \u001b[39mDowngrading \u001b[39m\u001b[36mjupyterlab-pygments\u001b[39m\u001b[39m (\u001b[39m\u001b[39;1m0.3.0\u001b[39;22m\u001b[39m -> \u001b[39m\u001b[39;1m0.2.2\u001b[39;22m\u001b[39m)\u001b[39m: \u001b[34mPending...\u001b[39m\n",
            "  \u001b[34;1m-\u001b[39;22m \u001b[39mDowngrading \u001b[39m\u001b[36mmistune\u001b[39m\u001b[39m (\u001b[39m\u001b[39;1m3.1.3\u001b[39;22m\u001b[39m -> \u001b[39m\u001b[39;1m3.0.2\u001b[39;22m\u001b[39m)\u001b[39m: \u001b[34mPending...\u001b[39m\n",
            "\u001b[2A\u001b[0J  \u001b[34;1m-\u001b[39;22m \u001b[39mDowngrading \u001b[39m\u001b[36mmistune\u001b[39m\u001b[39m (\u001b[39m\u001b[39;1m3.1.3\u001b[39;22m\u001b[39m -> \u001b[39m\u001b[39;1m3.0.2\u001b[39;22m\u001b[39m)\u001b[39m: \u001b[34mPending...\u001b[39m\n",
            "\u001b[1A\u001b[0J  \u001b[34;1m-\u001b[39;22m \u001b[39mDowngrading \u001b[39m\u001b[36mjupyterlab-pygments\u001b[39m\u001b[39m (\u001b[39m\u001b[39;1m0.3.0\u001b[39;22m\u001b[39m -> \u001b[39m\u001b[39;1m0.2.2\u001b[39;22m\u001b[39m)\u001b[39m: \u001b[34mDownloading...\u001b[39m \u001b[39;1m0%\u001b[39;22m\n",
            "  \u001b[34;1m-\u001b[39;22m \u001b[39mDowngrading \u001b[39m\u001b[36mmistune\u001b[39m\u001b[39m (\u001b[39m\u001b[39;1m3.1.3\u001b[39;22m\u001b[39m -> \u001b[39m\u001b[39;1m3.0.2\u001b[39;22m\u001b[39m)\u001b[39m: \u001b[34mPending...\u001b[39m\n",
            "\u001b[4A\u001b[0J  \u001b[34;1m-\u001b[39;22m \u001b[39mDowngrading \u001b[39m\u001b[36mjinja2\u001b[39m\u001b[39m (\u001b[39m\u001b[39;1m3.1.6\u001b[39;22m\u001b[39m -> \u001b[39m\u001b[39;1m3.1.5\u001b[39;22m\u001b[39m)\u001b[39m: \u001b[34mDownloading...\u001b[39m \u001b[39;1m0%\u001b[39;22m\n",
            "  \u001b[34;1m-\u001b[39;22m \u001b[39mDowngrading \u001b[39m\u001b[36mjupyterlab-pygments\u001b[39m\u001b[39m (\u001b[39m\u001b[39;1m0.3.0\u001b[39;22m\u001b[39m -> \u001b[39m\u001b[39;1m0.2.2\u001b[39;22m\u001b[39m)\u001b[39m: \u001b[34mDownloading...\u001b[39m \u001b[39;1m0%\u001b[39;22m\n",
            "  \u001b[34;1m-\u001b[39;22m \u001b[39mDowngrading \u001b[39m\u001b[36mmistune\u001b[39m\u001b[39m (\u001b[39m\u001b[39;1m3.1.3\u001b[39;22m\u001b[39m -> \u001b[39m\u001b[39;1m3.0.2\u001b[39;22m\u001b[39m)\u001b[39m: \u001b[34mPending...\u001b[39m\n",
            "\u001b[3A\u001b[0J  \u001b[34;1m-\u001b[39;22m \u001b[39mDowngrading \u001b[39m\u001b[36mbleach\u001b[39m\u001b[39m (\u001b[39m\u001b[39;1m6.2.0\u001b[39;22m\u001b[39m -> \u001b[39m\u001b[39;1m6.0.0\u001b[39;22m\u001b[39m)\u001b[39m: \u001b[34mDownloading...\u001b[39m \u001b[39;1m0%\u001b[39;22m\n",
            "  \u001b[34;1m-\u001b[39;22m \u001b[39mDowngrading \u001b[39m\u001b[36mjinja2\u001b[39m\u001b[39m (\u001b[39m\u001b[39;1m3.1.6\u001b[39;22m\u001b[39m -> \u001b[39m\u001b[39;1m3.1.5\u001b[39;22m\u001b[39m)\u001b[39m: \u001b[34mDownloading...\u001b[39m \u001b[39;1m0%\u001b[39;22m\n",
            "  \u001b[34;1m-\u001b[39;22m \u001b[39mDowngrading \u001b[39m\u001b[36mjupyterlab-pygments\u001b[39m\u001b[39m (\u001b[39m\u001b[39;1m0.3.0\u001b[39;22m\u001b[39m -> \u001b[39m\u001b[39;1m0.2.2\u001b[39;22m\u001b[39m)\u001b[39m: \u001b[34mDownloading...\u001b[39m \u001b[39;1m0%\u001b[39;22m\n",
            "  \u001b[34;1m-\u001b[39;22m \u001b[39mDowngrading \u001b[39m\u001b[36mmistune\u001b[39m\u001b[39m (\u001b[39m\u001b[39;1m3.1.3\u001b[39;22m\u001b[39m -> \u001b[39m\u001b[39;1m3.0.2\u001b[39;22m\u001b[39m)\u001b[39m: \u001b[34mPending...\u001b[39m\n",
            "\u001b[5A\u001b[0J  \u001b[34;1m-\u001b[39;22m \u001b[39mDowngrading \u001b[39m\u001b[36mbleach\u001b[39m\u001b[39m (\u001b[39m\u001b[39;1m6.2.0\u001b[39;22m\u001b[39m -> \u001b[39m\u001b[39;1m6.0.0\u001b[39;22m\u001b[39m)\u001b[39m: \u001b[34mDownloading...\u001b[39m \u001b[39;1m0%\u001b[39;22m\n",
            "  \u001b[34;1m-\u001b[39;22m \u001b[39mDowngrading \u001b[39m\u001b[36mjinja2\u001b[39m\u001b[39m (\u001b[39m\u001b[39;1m3.1.6\u001b[39;22m\u001b[39m -> \u001b[39m\u001b[39;1m3.1.5\u001b[39;22m\u001b[39m)\u001b[39m: \u001b[34mDownloading...\u001b[39m \u001b[39;1m0%\u001b[39;22m\n",
            "  \u001b[34;1m-\u001b[39;22m \u001b[39mDowngrading \u001b[39m\u001b[36mjupyterlab-pygments\u001b[39m\u001b[39m (\u001b[39m\u001b[39;1m0.3.0\u001b[39;22m\u001b[39m -> \u001b[39m\u001b[39;1m0.2.2\u001b[39;22m\u001b[39m)\u001b[39m: \u001b[34mDownloading...\u001b[39m \u001b[39;1m0%\u001b[39;22m\n",
            "  \u001b[34;1m-\u001b[39;22m \u001b[39mDowngrading \u001b[39m\u001b[36mmistune\u001b[39m\u001b[39m (\u001b[39m\u001b[39;1m3.1.3\u001b[39;22m\u001b[39m -> \u001b[39m\u001b[39;1m3.0.2\u001b[39;22m\u001b[39m)\u001b[39m: \u001b[34mPending...\u001b[39m\n",
            "\u001b[4A\u001b[0J  \u001b[34;1m-\u001b[39;22m \u001b[39mDowngrading \u001b[39m\u001b[36mbeautifulsoup4\u001b[39m\u001b[39m (\u001b[39m\u001b[39;1m4.13.4\u001b[39;22m\u001b[39m -> \u001b[39m\u001b[39;1m4.12.3\u001b[39;22m\u001b[39m)\u001b[39m: \u001b[34mDownloading...\u001b[39m \u001b[39;1m0%\u001b[39;22m\n",
            "  \u001b[34;1m-\u001b[39;22m \u001b[39mDowngrading \u001b[39m\u001b[36mbleach\u001b[39m\u001b[39m (\u001b[39m\u001b[39;1m6.2.0\u001b[39;22m\u001b[39m -> \u001b[39m\u001b[39;1m6.0.0\u001b[39;22m\u001b[39m)\u001b[39m: \u001b[34mDownloading...\u001b[39m \u001b[39;1m0%\u001b[39;22m\n",
            "  \u001b[34;1m-\u001b[39;22m \u001b[39mDowngrading \u001b[39m\u001b[36mjinja2\u001b[39m\u001b[39m (\u001b[39m\u001b[39;1m3.1.6\u001b[39;22m\u001b[39m -> \u001b[39m\u001b[39;1m3.1.5\u001b[39;22m\u001b[39m)\u001b[39m: \u001b[34mDownloading...\u001b[39m \u001b[39;1m0%\u001b[39;22m\n",
            "  \u001b[34;1m-\u001b[39;22m \u001b[39mDowngrading \u001b[39m\u001b[36mjupyterlab-pygments\u001b[39m\u001b[39m (\u001b[39m\u001b[39;1m0.3.0\u001b[39;22m\u001b[39m -> \u001b[39m\u001b[39;1m0.2.2\u001b[39;22m\u001b[39m)\u001b[39m: \u001b[34mDownloading...\u001b[39m \u001b[39;1m0%\u001b[39;22m\n",
            "  \u001b[34;1m-\u001b[39;22m \u001b[39mDowngrading \u001b[39m\u001b[36mmistune\u001b[39m\u001b[39m (\u001b[39m\u001b[39;1m3.1.3\u001b[39;22m\u001b[39m -> \u001b[39m\u001b[39;1m3.0.2\u001b[39;22m\u001b[39m)\u001b[39m: \u001b[34mPending...\u001b[39m\n",
            "\u001b[2A\u001b[0J  \u001b[34;1m-\u001b[39;22m \u001b[39mDowngrading \u001b[39m\u001b[36mmistune\u001b[39m\u001b[39m (\u001b[39m\u001b[39;1m3.1.3\u001b[39;22m\u001b[39m -> \u001b[39m\u001b[39;1m3.0.2\u001b[39;22m\u001b[39m)\u001b[39m: \u001b[34mPending...\u001b[39m\n",
            "\u001b[1A\u001b[0J  \u001b[34;1m-\u001b[39;22m \u001b[39mDowngrading \u001b[39m\u001b[36mjupyterlab-pygments\u001b[39m\u001b[39m (\u001b[39m\u001b[39;1m0.3.0\u001b[39;22m\u001b[39m -> \u001b[39m\u001b[39;1m0.2.2\u001b[39;22m\u001b[39m)\u001b[39m: \u001b[34mDownloading...\u001b[39m \u001b[39;1m100%\u001b[39;22m\n",
            "  \u001b[34;1m-\u001b[39;22m \u001b[39mDowngrading \u001b[39m\u001b[36mmistune\u001b[39m\u001b[39m (\u001b[39m\u001b[39;1m3.1.3\u001b[39;22m\u001b[39m -> \u001b[39m\u001b[39;1m3.0.2\u001b[39;22m\u001b[39m)\u001b[39m: \u001b[34mPending...\u001b[39m\n",
            "\u001b[6A\u001b[0J  \u001b[34;1m-\u001b[39;22m \u001b[39mDowngrading \u001b[39m\u001b[36mbeautifulsoup4\u001b[39m\u001b[39m (\u001b[39m\u001b[39;1m4.13.4\u001b[39;22m\u001b[39m -> \u001b[39m\u001b[39;1m4.12.3\u001b[39;22m\u001b[39m)\u001b[39m: \u001b[34mDownloading...\u001b[39m \u001b[39;1m0%\u001b[39;22m\n",
            "  \u001b[34;1m-\u001b[39;22m \u001b[39mDowngrading \u001b[39m\u001b[36mbleach\u001b[39m\u001b[39m (\u001b[39m\u001b[39;1m6.2.0\u001b[39;22m\u001b[39m -> \u001b[39m\u001b[39;1m6.0.0\u001b[39;22m\u001b[39m)\u001b[39m: \u001b[34mDownloading...\u001b[39m \u001b[39;1m0%\u001b[39;22m\n",
            "  \u001b[34;1m-\u001b[39;22m \u001b[39mDowngrading \u001b[39m\u001b[36mjinja2\u001b[39m\u001b[39m (\u001b[39m\u001b[39;1m3.1.6\u001b[39;22m\u001b[39m -> \u001b[39m\u001b[39;1m3.1.5\u001b[39;22m\u001b[39m)\u001b[39m: \u001b[34mDownloading...\u001b[39m \u001b[39;1m0%\u001b[39;22m\n",
            "  \u001b[34;1m-\u001b[39;22m \u001b[39mDowngrading \u001b[39m\u001b[36mjupyterlab-pygments\u001b[39m\u001b[39m (\u001b[39m\u001b[39;1m0.3.0\u001b[39;22m\u001b[39m -> \u001b[39m\u001b[39;1m0.2.2\u001b[39;22m\u001b[39m)\u001b[39m: \u001b[34mDownloading...\u001b[39m \u001b[39;1m100%\u001b[39;22m\n",
            "  \u001b[34;1m-\u001b[39;22m \u001b[39mDowngrading \u001b[39m\u001b[36mmistune\u001b[39m\u001b[39m (\u001b[39m\u001b[39;1m3.1.3\u001b[39;22m\u001b[39m -> \u001b[39m\u001b[39;1m3.0.2\u001b[39;22m\u001b[39m)\u001b[39m: \u001b[34mPending...\u001b[39m\n",
            "\u001b[5A\u001b[0J  \u001b[34;1m-\u001b[39;22m \u001b[39mInstalling \u001b[39m\u001b[36marrow\u001b[39m\u001b[39m (\u001b[39m\u001b[39;1m1.2.3\u001b[39;22m\u001b[39m)\u001b[39m: \u001b[34mDownloading...\u001b[39m \u001b[39;1m100%\u001b[39;22m\n",
            "  \u001b[34;1m-\u001b[39;22m \u001b[39mDowngrading \u001b[39m\u001b[36mbeautifulsoup4\u001b[39m\u001b[39m (\u001b[39m\u001b[39;1m4.13.4\u001b[39;22m\u001b[39m -> \u001b[39m\u001b[39;1m4.12.3\u001b[39;22m\u001b[39m)\u001b[39m: \u001b[34mDownloading...\u001b[39m \u001b[39;1m0%\u001b[39;22m\n",
            "  \u001b[34;1m-\u001b[39;22m \u001b[39mDowngrading \u001b[39m\u001b[36mbleach\u001b[39m\u001b[39m (\u001b[39m\u001b[39;1m6.2.0\u001b[39;22m\u001b[39m -> \u001b[39m\u001b[39;1m6.0.0\u001b[39;22m\u001b[39m)\u001b[39m: \u001b[34mDownloading...\u001b[39m \u001b[39;1m0%\u001b[39;22m\n",
            "  \u001b[34;1m-\u001b[39;22m \u001b[39mDowngrading \u001b[39m\u001b[36mjinja2\u001b[39m\u001b[39m (\u001b[39m\u001b[39;1m3.1.6\u001b[39;22m\u001b[39m -> \u001b[39m\u001b[39;1m3.1.5\u001b[39;22m\u001b[39m)\u001b[39m: \u001b[34mDownloading...\u001b[39m \u001b[39;1m0%\u001b[39;22m\n",
            "  \u001b[34;1m-\u001b[39;22m \u001b[39mDowngrading \u001b[39m\u001b[36mjupyterlab-pygments\u001b[39m\u001b[39m (\u001b[39m\u001b[39;1m0.3.0\u001b[39;22m\u001b[39m -> \u001b[39m\u001b[39;1m0.2.2\u001b[39;22m\u001b[39m)\u001b[39m: \u001b[34mDownloading...\u001b[39m \u001b[39;1m100%\u001b[39;22m\n",
            "  \u001b[34;1m-\u001b[39;22m \u001b[39mDowngrading \u001b[39m\u001b[36mmistune\u001b[39m\u001b[39m (\u001b[39m\u001b[39;1m3.1.3\u001b[39;22m\u001b[39m -> \u001b[39m\u001b[39;1m3.0.2\u001b[39;22m\u001b[39m)\u001b[39m: \u001b[34mPending...\u001b[39m\n",
            "\u001b[3A\u001b[0J  \u001b[34;1m-\u001b[39;22m \u001b[39mDowngrading \u001b[39m\u001b[36mjupyterlab-pygments\u001b[39m\u001b[39m (\u001b[39m\u001b[39;1m0.3.0\u001b[39;22m\u001b[39m -> \u001b[39m\u001b[39;1m0.2.2\u001b[39;22m\u001b[39m)\u001b[39m: \u001b[34mDownloading...\u001b[39m \u001b[39;1m100%\u001b[39;22m\n",
            "  \u001b[34;1m-\u001b[39;22m \u001b[39mDowngrading \u001b[39m\u001b[36mmistune\u001b[39m\u001b[39m (\u001b[39m\u001b[39;1m3.1.3\u001b[39;22m\u001b[39m -> \u001b[39m\u001b[39;1m3.0.2\u001b[39;22m\u001b[39m)\u001b[39m: \u001b[34mPending...\u001b[39m\n",
            "\u001b[2A\u001b[0J  \u001b[34;1m-\u001b[39;22m \u001b[39mDowngrading \u001b[39m\u001b[36mjinja2\u001b[39m\u001b[39m (\u001b[39m\u001b[39;1m3.1.6\u001b[39;22m\u001b[39m -> \u001b[39m\u001b[39;1m3.1.5\u001b[39;22m\u001b[39m)\u001b[39m: \u001b[34mDownloading...\u001b[39m \u001b[39;1m100%\u001b[39;22m\n",
            "  \u001b[34;1m-\u001b[39;22m \u001b[39mDowngrading \u001b[39m\u001b[36mjupyterlab-pygments\u001b[39m\u001b[39m (\u001b[39m\u001b[39;1m0.3.0\u001b[39;22m\u001b[39m -> \u001b[39m\u001b[39;1m0.2.2\u001b[39;22m\u001b[39m)\u001b[39m: \u001b[34mDownloading...\u001b[39m \u001b[39;1m100%\u001b[39;22m\n",
            "  \u001b[34;1m-\u001b[39;22m \u001b[39mDowngrading \u001b[39m\u001b[36mmistune\u001b[39m\u001b[39m (\u001b[39m\u001b[39;1m3.1.3\u001b[39;22m\u001b[39m -> \u001b[39m\u001b[39;1m3.0.2\u001b[39;22m\u001b[39m)\u001b[39m: \u001b[34mPending...\u001b[39m\n",
            "\u001b[3A\u001b[0J  \u001b[34;1m-\u001b[39;22m \u001b[39mDowngrading \u001b[39m\u001b[36mjupyterlab-pygments\u001b[39m\u001b[39m (\u001b[39m\u001b[39;1m0.3.0\u001b[39;22m\u001b[39m -> \u001b[39m\u001b[39;1m0.2.2\u001b[39;22m\u001b[39m)\u001b[39m: \u001b[34mDownloading...\u001b[39m \u001b[39;1m100%\u001b[39;22m\n",
            "  \u001b[34;1m-\u001b[39;22m \u001b[39mDowngrading \u001b[39m\u001b[36mmistune\u001b[39m\u001b[39m (\u001b[39m\u001b[39;1m3.1.3\u001b[39;22m\u001b[39m -> \u001b[39m\u001b[39;1m3.0.2\u001b[39;22m\u001b[39m)\u001b[39m: \u001b[34mPending...\u001b[39m\n",
            "\u001b[2A\u001b[0J  \u001b[34;1m-\u001b[39;22m \u001b[39mDowngrading \u001b[39m\u001b[36mjinja2\u001b[39m\u001b[39m (\u001b[39m\u001b[39;1m3.1.6\u001b[39;22m\u001b[39m -> \u001b[39m\u001b[39;1m3.1.5\u001b[39;22m\u001b[39m)\u001b[39m: \u001b[34mInstalling...\u001b[39m\n",
            "  \u001b[34;1m-\u001b[39;22m \u001b[39mDowngrading \u001b[39m\u001b[36mjupyterlab-pygments\u001b[39m\u001b[39m (\u001b[39m\u001b[39;1m0.3.0\u001b[39;22m\u001b[39m -> \u001b[39m\u001b[39;1m0.2.2\u001b[39;22m\u001b[39m)\u001b[39m: \u001b[34mDownloading...\u001b[39m \u001b[39;1m100%\u001b[39;22m\n",
            "  \u001b[34;1m-\u001b[39;22m \u001b[39mDowngrading \u001b[39m\u001b[36mmistune\u001b[39m\u001b[39m (\u001b[39m\u001b[39;1m3.1.3\u001b[39;22m\u001b[39m -> \u001b[39m\u001b[39;1m3.0.2\u001b[39;22m\u001b[39m)\u001b[39m: \u001b[34mPending...\u001b[39m\n",
            "\u001b[4A\u001b[0J  \u001b[34;1m-\u001b[39;22m \u001b[39mDowngrading \u001b[39m\u001b[36mjinja2\u001b[39m\u001b[39m (\u001b[39m\u001b[39;1m3.1.6\u001b[39;22m\u001b[39m -> \u001b[39m\u001b[39;1m3.1.5\u001b[39;22m\u001b[39m)\u001b[39m: \u001b[34mInstalling...\u001b[39m\n",
            "  \u001b[34;1m-\u001b[39;22m \u001b[39mDowngrading \u001b[39m\u001b[36mjupyterlab-pygments\u001b[39m\u001b[39m (\u001b[39m\u001b[39;1m0.3.0\u001b[39;22m\u001b[39m -> \u001b[39m\u001b[39;1m0.2.2\u001b[39;22m\u001b[39m)\u001b[39m: \u001b[34mDownloading...\u001b[39m \u001b[39;1m100%\u001b[39;22m\n",
            "  \u001b[34;1m-\u001b[39;22m \u001b[39mDowngrading \u001b[39m\u001b[36mmistune\u001b[39m\u001b[39m (\u001b[39m\u001b[39;1m3.1.3\u001b[39;22m\u001b[39m -> \u001b[39m\u001b[39;1m3.0.2\u001b[39;22m\u001b[39m)\u001b[39m: \u001b[34mPending...\u001b[39m\n",
            "\u001b[3A\u001b[0J  \u001b[34;1m-\u001b[39;22m \u001b[39mDowngrading \u001b[39m\u001b[36mbleach\u001b[39m\u001b[39m (\u001b[39m\u001b[39;1m6.2.0\u001b[39;22m\u001b[39m -> \u001b[39m\u001b[39;1m6.0.0\u001b[39;22m\u001b[39m)\u001b[39m: \u001b[34mDownloading...\u001b[39m \u001b[39;1m100%\u001b[39;22m\n",
            "  \u001b[34;1m-\u001b[39;22m \u001b[39mDowngrading \u001b[39m\u001b[36mjinja2\u001b[39m\u001b[39m (\u001b[39m\u001b[39;1m3.1.6\u001b[39;22m\u001b[39m -> \u001b[39m\u001b[39;1m3.1.5\u001b[39;22m\u001b[39m)\u001b[39m: \u001b[34mInstalling...\u001b[39m\n",
            "  \u001b[34;1m-\u001b[39;22m \u001b[39mDowngrading \u001b[39m\u001b[36mjupyterlab-pygments\u001b[39m\u001b[39m (\u001b[39m\u001b[39;1m0.3.0\u001b[39;22m\u001b[39m -> \u001b[39m\u001b[39;1m0.2.2\u001b[39;22m\u001b[39m)\u001b[39m: \u001b[34mDownloading...\u001b[39m \u001b[39;1m100%\u001b[39;22m\n",
            "  \u001b[34;1m-\u001b[39;22m \u001b[39mDowngrading \u001b[39m\u001b[36mmistune\u001b[39m\u001b[39m (\u001b[39m\u001b[39;1m3.1.3\u001b[39;22m\u001b[39m -> \u001b[39m\u001b[39;1m3.0.2\u001b[39;22m\u001b[39m)\u001b[39m: \u001b[34mPending...\u001b[39m\n",
            "\u001b[5A\u001b[0J  \u001b[34;1m-\u001b[39;22m \u001b[39mDowngrading \u001b[39m\u001b[36mbleach\u001b[39m\u001b[39m (\u001b[39m\u001b[39;1m6.2.0\u001b[39;22m\u001b[39m -> \u001b[39m\u001b[39;1m6.0.0\u001b[39;22m\u001b[39m)\u001b[39m: \u001b[34mDownloading...\u001b[39m \u001b[39;1m100%\u001b[39;22m\n",
            "  \u001b[34;1m-\u001b[39;22m \u001b[39mDowngrading \u001b[39m\u001b[36mjinja2\u001b[39m\u001b[39m (\u001b[39m\u001b[39;1m3.1.6\u001b[39;22m\u001b[39m -> \u001b[39m\u001b[39;1m3.1.5\u001b[39;22m\u001b[39m)\u001b[39m: \u001b[34mInstalling...\u001b[39m\n",
            "  \u001b[34;1m-\u001b[39;22m \u001b[39mDowngrading \u001b[39m\u001b[36mjupyterlab-pygments\u001b[39m\u001b[39m (\u001b[39m\u001b[39;1m0.3.0\u001b[39;22m\u001b[39m -> \u001b[39m\u001b[39;1m0.2.2\u001b[39;22m\u001b[39m)\u001b[39m: \u001b[34mDownloading...\u001b[39m \u001b[39;1m100%\u001b[39;22m\n",
            "  \u001b[34;1m-\u001b[39;22m \u001b[39mDowngrading \u001b[39m\u001b[36mmistune\u001b[39m\u001b[39m (\u001b[39m\u001b[39;1m3.1.3\u001b[39;22m\u001b[39m -> \u001b[39m\u001b[39;1m3.0.2\u001b[39;22m\u001b[39m)\u001b[39m: \u001b[34mPending...\u001b[39m\n",
            "\u001b[4A\u001b[0J  \u001b[34;1m-\u001b[39;22m \u001b[39mDowngrading \u001b[39m\u001b[36mbeautifulsoup4\u001b[39m\u001b[39m (\u001b[39m\u001b[39;1m4.13.4\u001b[39;22m\u001b[39m -> \u001b[39m\u001b[39;1m4.12.3\u001b[39;22m\u001b[39m)\u001b[39m: \u001b[34mDownloading...\u001b[39m \u001b[39;1m100%\u001b[39;22m\n",
            "  \u001b[34;1m-\u001b[39;22m \u001b[39mDowngrading \u001b[39m\u001b[36mbleach\u001b[39m\u001b[39m (\u001b[39m\u001b[39;1m6.2.0\u001b[39;22m\u001b[39m -> \u001b[39m\u001b[39;1m6.0.0\u001b[39;22m\u001b[39m)\u001b[39m: \u001b[34mDownloading...\u001b[39m \u001b[39;1m100%\u001b[39;22m\n",
            "  \u001b[34;1m-\u001b[39;22m \u001b[39mDowngrading \u001b[39m\u001b[36mjinja2\u001b[39m\u001b[39m (\u001b[39m\u001b[39;1m3.1.6\u001b[39;22m\u001b[39m -> \u001b[39m\u001b[39;1m3.1.5\u001b[39;22m\u001b[39m)\u001b[39m: \u001b[34mInstalling...\u001b[39m\n",
            "  \u001b[34;1m-\u001b[39;22m \u001b[39mDowngrading \u001b[39m\u001b[36mjupyterlab-pygments\u001b[39m\u001b[39m (\u001b[39m\u001b[39;1m0.3.0\u001b[39;22m\u001b[39m -> \u001b[39m\u001b[39;1m0.2.2\u001b[39;22m\u001b[39m)\u001b[39m: \u001b[34mDownloading...\u001b[39m \u001b[39;1m100%\u001b[39;22m\n",
            "  \u001b[34;1m-\u001b[39;22m \u001b[39mDowngrading \u001b[39m\u001b[36mmistune\u001b[39m\u001b[39m (\u001b[39m\u001b[39;1m3.1.3\u001b[39;22m\u001b[39m -> \u001b[39m\u001b[39;1m3.0.2\u001b[39;22m\u001b[39m)\u001b[39m: \u001b[34mPending...\u001b[39m\n",
            "\u001b[5A\u001b[0J  \u001b[34;1m-\u001b[39;22m \u001b[39mDowngrading \u001b[39m\u001b[36mbleach\u001b[39m\u001b[39m (\u001b[39m\u001b[39;1m6.2.0\u001b[39;22m\u001b[39m -> \u001b[39m\u001b[39;1m6.0.0\u001b[39;22m\u001b[39m)\u001b[39m: \u001b[34mDownloading...\u001b[39m \u001b[39;1m100%\u001b[39;22m\n",
            "  \u001b[34;1m-\u001b[39;22m \u001b[39mDowngrading \u001b[39m\u001b[36mjinja2\u001b[39m\u001b[39m (\u001b[39m\u001b[39;1m3.1.6\u001b[39;22m\u001b[39m -> \u001b[39m\u001b[39;1m3.1.5\u001b[39;22m\u001b[39m)\u001b[39m: \u001b[34mInstalling...\u001b[39m\n",
            "  \u001b[34;1m-\u001b[39;22m \u001b[39mDowngrading \u001b[39m\u001b[36mjupyterlab-pygments\u001b[39m\u001b[39m (\u001b[39m\u001b[39;1m0.3.0\u001b[39;22m\u001b[39m -> \u001b[39m\u001b[39;1m0.2.2\u001b[39;22m\u001b[39m)\u001b[39m: \u001b[34mDownloading...\u001b[39m \u001b[39;1m100%\u001b[39;22m\n",
            "  \u001b[34;1m-\u001b[39;22m \u001b[39mDowngrading \u001b[39m\u001b[36mmistune\u001b[39m\u001b[39m (\u001b[39m\u001b[39;1m3.1.3\u001b[39;22m\u001b[39m -> \u001b[39m\u001b[39;1m3.0.2\u001b[39;22m\u001b[39m)\u001b[39m: \u001b[34mPending...\u001b[39m\n",
            "\u001b[4A\u001b[0J  \u001b[34;1m-\u001b[39;22m \u001b[39mDowngrading \u001b[39m\u001b[36mbeautifulsoup4\u001b[39m\u001b[39m (\u001b[39m\u001b[39;1m4.13.4\u001b[39;22m\u001b[39m -> \u001b[39m\u001b[39;1m4.12.3\u001b[39;22m\u001b[39m)\u001b[39m: \u001b[34mInstalling...\u001b[39m\n",
            "  \u001b[34;1m-\u001b[39;22m \u001b[39mDowngrading \u001b[39m\u001b[36mbleach\u001b[39m\u001b[39m (\u001b[39m\u001b[39;1m6.2.0\u001b[39;22m\u001b[39m -> \u001b[39m\u001b[39;1m6.0.0\u001b[39;22m\u001b[39m)\u001b[39m: \u001b[34mDownloading...\u001b[39m \u001b[39;1m100%\u001b[39;22m\n",
            "  \u001b[34;1m-\u001b[39;22m \u001b[39mDowngrading \u001b[39m\u001b[36mjinja2\u001b[39m\u001b[39m (\u001b[39m\u001b[39;1m3.1.6\u001b[39;22m\u001b[39m -> \u001b[39m\u001b[39;1m3.1.5\u001b[39;22m\u001b[39m)\u001b[39m: \u001b[34mInstalling...\u001b[39m\n",
            "  \u001b[34;1m-\u001b[39;22m \u001b[39mDowngrading \u001b[39m\u001b[36mjupyterlab-pygments\u001b[39m\u001b[39m (\u001b[39m\u001b[39;1m0.3.0\u001b[39;22m\u001b[39m -> \u001b[39m\u001b[39;1m0.2.2\u001b[39;22m\u001b[39m)\u001b[39m: \u001b[34mDownloading...\u001b[39m \u001b[39;1m100%\u001b[39;22m\n",
            "  \u001b[34;1m-\u001b[39;22m \u001b[39mDowngrading \u001b[39m\u001b[36mmistune\u001b[39m\u001b[39m (\u001b[39m\u001b[39;1m3.1.3\u001b[39;22m\u001b[39m -> \u001b[39m\u001b[39;1m3.0.2\u001b[39;22m\u001b[39m)\u001b[39m: \u001b[34mPending...\u001b[39m\n",
            "\u001b[2A\u001b[0J  \u001b[34;1m-\u001b[39;22m \u001b[39mDowngrading \u001b[39m\u001b[36mmistune\u001b[39m\u001b[39m (\u001b[39m\u001b[39;1m3.1.3\u001b[39;22m\u001b[39m -> \u001b[39m\u001b[39;1m3.0.2\u001b[39;22m\u001b[39m)\u001b[39m: \u001b[34mPending...\u001b[39m\n",
            "\u001b[1A\u001b[0J  \u001b[34;1m-\u001b[39;22m \u001b[39mDowngrading \u001b[39m\u001b[36mjupyterlab-pygments\u001b[39m\u001b[39m (\u001b[39m\u001b[39;1m0.3.0\u001b[39;22m\u001b[39m -> \u001b[39m\u001b[39;1m0.2.2\u001b[39;22m\u001b[39m)\u001b[39m: \u001b[34mInstalling...\u001b[39m\n",
            "  \u001b[34;1m-\u001b[39;22m \u001b[39mDowngrading \u001b[39m\u001b[36mmistune\u001b[39m\u001b[39m (\u001b[39m\u001b[39;1m3.1.3\u001b[39;22m\u001b[39m -> \u001b[39m\u001b[39;1m3.0.2\u001b[39;22m\u001b[39m)\u001b[39m: \u001b[34mPending...\u001b[39m\n",
            "\u001b[6A\u001b[0J  \u001b[34;1m-\u001b[39;22m \u001b[39mDowngrading \u001b[39m\u001b[36mbeautifulsoup4\u001b[39m\u001b[39m (\u001b[39m\u001b[39;1m4.13.4\u001b[39;22m\u001b[39m -> \u001b[39m\u001b[39;1m4.12.3\u001b[39;22m\u001b[39m)\u001b[39m: \u001b[34mInstalling...\u001b[39m\n",
            "  \u001b[34;1m-\u001b[39;22m \u001b[39mDowngrading \u001b[39m\u001b[36mbleach\u001b[39m\u001b[39m (\u001b[39m\u001b[39;1m6.2.0\u001b[39;22m\u001b[39m -> \u001b[39m\u001b[39;1m6.0.0\u001b[39;22m\u001b[39m)\u001b[39m: \u001b[34mDownloading...\u001b[39m \u001b[39;1m100%\u001b[39;22m\n",
            "  \u001b[34;1m-\u001b[39;22m \u001b[39mDowngrading \u001b[39m\u001b[36mjinja2\u001b[39m\u001b[39m (\u001b[39m\u001b[39;1m3.1.6\u001b[39;22m\u001b[39m -> \u001b[39m\u001b[39;1m3.1.5\u001b[39;22m\u001b[39m)\u001b[39m: \u001b[34mInstalling...\u001b[39m\n",
            "  \u001b[34;1m-\u001b[39;22m \u001b[39mDowngrading \u001b[39m\u001b[36mjupyterlab-pygments\u001b[39m\u001b[39m (\u001b[39m\u001b[39;1m0.3.0\u001b[39;22m\u001b[39m -> \u001b[39m\u001b[39;1m0.2.2\u001b[39;22m\u001b[39m)\u001b[39m: \u001b[34mInstalling...\u001b[39m\n",
            "  \u001b[34;1m-\u001b[39;22m \u001b[39mDowngrading \u001b[39m\u001b[36mmistune\u001b[39m\u001b[39m (\u001b[39m\u001b[39;1m3.1.3\u001b[39;22m\u001b[39m -> \u001b[39m\u001b[39;1m3.0.2\u001b[39;22m\u001b[39m)\u001b[39m: \u001b[34mPending...\u001b[39m\n",
            "\u001b[5A\u001b[0J  \u001b[34;1m-\u001b[39;22m \u001b[39mInstalling \u001b[39m\u001b[36marrow\u001b[39m\u001b[39m (\u001b[39m\u001b[39;1m1.2.3\u001b[39;22m\u001b[39m)\u001b[39m: \u001b[34mInstalling...\u001b[39m\n",
            "  \u001b[34;1m-\u001b[39;22m \u001b[39mDowngrading \u001b[39m\u001b[36mbeautifulsoup4\u001b[39m\u001b[39m (\u001b[39m\u001b[39;1m4.13.4\u001b[39;22m\u001b[39m -> \u001b[39m\u001b[39;1m4.12.3\u001b[39;22m\u001b[39m)\u001b[39m: \u001b[34mInstalling...\u001b[39m\n",
            "  \u001b[34;1m-\u001b[39;22m \u001b[39mDowngrading \u001b[39m\u001b[36mbleach\u001b[39m\u001b[39m (\u001b[39m\u001b[39;1m6.2.0\u001b[39;22m\u001b[39m -> \u001b[39m\u001b[39;1m6.0.0\u001b[39;22m\u001b[39m)\u001b[39m: \u001b[34mDownloading...\u001b[39m \u001b[39;1m100%\u001b[39;22m\n",
            "  \u001b[34;1m-\u001b[39;22m \u001b[39mDowngrading \u001b[39m\u001b[36mjinja2\u001b[39m\u001b[39m (\u001b[39m\u001b[39;1m3.1.6\u001b[39;22m\u001b[39m -> \u001b[39m\u001b[39;1m3.1.5\u001b[39;22m\u001b[39m)\u001b[39m: \u001b[34mInstalling...\u001b[39m\n",
            "  \u001b[34;1m-\u001b[39;22m \u001b[39mDowngrading \u001b[39m\u001b[36mjupyterlab-pygments\u001b[39m\u001b[39m (\u001b[39m\u001b[39;1m0.3.0\u001b[39;22m\u001b[39m -> \u001b[39m\u001b[39;1m0.2.2\u001b[39;22m\u001b[39m)\u001b[39m: \u001b[34mInstalling...\u001b[39m\n",
            "  \u001b[34;1m-\u001b[39;22m \u001b[39mDowngrading \u001b[39m\u001b[36mmistune\u001b[39m\u001b[39m (\u001b[39m\u001b[39;1m3.1.3\u001b[39;22m\u001b[39m -> \u001b[39m\u001b[39;1m3.0.2\u001b[39;22m\u001b[39m)\u001b[39m: \u001b[34mPending...\u001b[39m\n",
            "\u001b[1A\u001b[0J  \u001b[34;1m-\u001b[39;22m \u001b[39mDowngrading \u001b[39m\u001b[36mmistune\u001b[39m\u001b[39m (\u001b[39m\u001b[39;1m3.1.3\u001b[39;22m\u001b[39m -> \u001b[39m\u001b[39;1m3.0.2\u001b[39;22m\u001b[39m)\u001b[39m: \u001b[34mDownloading...\u001b[39m \u001b[39;1m0%\u001b[39;22m\n",
            "\u001b[1A\u001b[0J  \u001b[34;1m-\u001b[39;22m \u001b[39mDowngrading \u001b[39m\u001b[36mmistune\u001b[39m\u001b[39m (\u001b[39m\u001b[39;1m3.1.3\u001b[39;22m\u001b[39m -> \u001b[39m\u001b[39;1m3.0.2\u001b[39;22m\u001b[39m)\u001b[39m: \u001b[34mDownloading...\u001b[39m \u001b[39;1m100%\u001b[39;22m\n",
            "\u001b[1A\u001b[0J  \u001b[34;1m-\u001b[39;22m \u001b[39mDowngrading \u001b[39m\u001b[36mmistune\u001b[39m\u001b[39m (\u001b[39m\u001b[39;1m3.1.3\u001b[39;22m\u001b[39m -> \u001b[39m\u001b[39;1m3.0.2\u001b[39;22m\u001b[39m)\u001b[39m: \u001b[34mInstalling...\u001b[39m\n",
            "\u001b[4A\u001b[0J  \u001b[34;1m-\u001b[39;22m \u001b[39mDowngrading \u001b[39m\u001b[36mjinja2\u001b[39m\u001b[39m (\u001b[39m\u001b[39;1m3.1.6\u001b[39;22m\u001b[39m -> \u001b[39m\u001b[39;1m3.1.5\u001b[39;22m\u001b[39m)\u001b[39m: \u001b[34mInstalling...\u001b[39m\n",
            "  \u001b[34;1m-\u001b[39;22m \u001b[39mDowngrading \u001b[39m\u001b[36mjupyterlab-pygments\u001b[39m\u001b[39m (\u001b[39m\u001b[39;1m0.3.0\u001b[39;22m\u001b[39m -> \u001b[39m\u001b[39;1m0.2.2\u001b[39;22m\u001b[39m)\u001b[39m: \u001b[34mInstalling...\u001b[39m\n",
            "  \u001b[34;1m-\u001b[39;22m \u001b[39mDowngrading \u001b[39m\u001b[36mmistune\u001b[39m\u001b[39m (\u001b[39m\u001b[39;1m3.1.3\u001b[39;22m\u001b[39m -> \u001b[39m\u001b[39;1m3.0.2\u001b[39;22m\u001b[39m)\u001b[39m: \u001b[34mInstalling...\u001b[39m\n",
            "\u001b[3A\u001b[0J  \u001b[34;1m-\u001b[39;22m \u001b[39mDowngrading \u001b[39m\u001b[36mbleach\u001b[39m\u001b[39m (\u001b[39m\u001b[39;1m6.2.0\u001b[39;22m\u001b[39m -> \u001b[39m\u001b[39;1m6.0.0\u001b[39;22m\u001b[39m)\u001b[39m: \u001b[34mInstalling...\u001b[39m\n",
            "  \u001b[34;1m-\u001b[39;22m \u001b[39mDowngrading \u001b[39m\u001b[36mjinja2\u001b[39m\u001b[39m (\u001b[39m\u001b[39;1m3.1.6\u001b[39;22m\u001b[39m -> \u001b[39m\u001b[39;1m3.1.5\u001b[39;22m\u001b[39m)\u001b[39m: \u001b[34mInstalling...\u001b[39m\n",
            "  \u001b[34;1m-\u001b[39;22m \u001b[39mDowngrading \u001b[39m\u001b[36mjupyterlab-pygments\u001b[39m\u001b[39m (\u001b[39m\u001b[39;1m0.3.0\u001b[39;22m\u001b[39m -> \u001b[39m\u001b[39;1m0.2.2\u001b[39;22m\u001b[39m)\u001b[39m: \u001b[34mInstalling...\u001b[39m\n",
            "  \u001b[34;1m-\u001b[39;22m \u001b[39mDowngrading \u001b[39m\u001b[36mmistune\u001b[39m\u001b[39m (\u001b[39m\u001b[39;1m3.1.3\u001b[39;22m\u001b[39m -> \u001b[39m\u001b[39;1m3.0.2\u001b[39;22m\u001b[39m)\u001b[39m: \u001b[34mInstalling...\u001b[39m\n",
            "\u001b[6A\u001b[0J  \u001b[34;1m-\u001b[39;22m \u001b[39mDowngrading \u001b[39m\u001b[36mbeautifulsoup4\u001b[39m\u001b[39m (\u001b[39m\u001b[39;1m4.13.4\u001b[39;22m\u001b[39m -> \u001b[39m\u001b[39;1m4.12.3\u001b[39;22m\u001b[39m)\u001b[39m: \u001b[34mInstalling...\u001b[39m\n",
            "  \u001b[34;1m-\u001b[39;22m \u001b[39mDowngrading \u001b[39m\u001b[36mbleach\u001b[39m\u001b[39m (\u001b[39m\u001b[39;1m6.2.0\u001b[39;22m\u001b[39m -> \u001b[39m\u001b[39;1m6.0.0\u001b[39;22m\u001b[39m)\u001b[39m: \u001b[34mInstalling...\u001b[39m\n",
            "  \u001b[34;1m-\u001b[39;22m \u001b[39mDowngrading \u001b[39m\u001b[36mjinja2\u001b[39m\u001b[39m (\u001b[39m\u001b[39;1m3.1.6\u001b[39;22m\u001b[39m -> \u001b[39m\u001b[39;1m3.1.5\u001b[39;22m\u001b[39m)\u001b[39m: \u001b[34mInstalling...\u001b[39m\n",
            "  \u001b[34;1m-\u001b[39;22m \u001b[39mDowngrading \u001b[39m\u001b[36mjupyterlab-pygments\u001b[39m\u001b[39m (\u001b[39m\u001b[39;1m0.3.0\u001b[39;22m\u001b[39m -> \u001b[39m\u001b[39;1m0.2.2\u001b[39;22m\u001b[39m)\u001b[39m: \u001b[34mInstalling...\u001b[39m\n",
            "  \u001b[34;1m-\u001b[39;22m \u001b[39mDowngrading \u001b[39m\u001b[36mmistune\u001b[39m\u001b[39m (\u001b[39m\u001b[39;1m3.1.3\u001b[39;22m\u001b[39m -> \u001b[39m\u001b[39;1m3.0.2\u001b[39;22m\u001b[39m)\u001b[39m: \u001b[34mInstalling...\u001b[39m\n",
            "\u001b[5A\u001b[0J  \u001b[32;1m-\u001b[39;22m \u001b[39mInstalling \u001b[39m\u001b[36marrow\u001b[39m\u001b[39m (\u001b[39m\u001b[32m1.2.3\u001b[39m\u001b[39m)\u001b[39m\n",
            "  \u001b[34;1m-\u001b[39;22m \u001b[39mDowngrading \u001b[39m\u001b[36mbeautifulsoup4\u001b[39m\u001b[39m (\u001b[39m\u001b[39;1m4.13.4\u001b[39;22m\u001b[39m -> \u001b[39m\u001b[39;1m4.12.3\u001b[39;22m\u001b[39m)\u001b[39m: \u001b[34mInstalling...\u001b[39m\n",
            "  \u001b[34;1m-\u001b[39;22m \u001b[39mDowngrading \u001b[39m\u001b[36mbleach\u001b[39m\u001b[39m (\u001b[39m\u001b[39;1m6.2.0\u001b[39;22m\u001b[39m -> \u001b[39m\u001b[39;1m6.0.0\u001b[39;22m\u001b[39m)\u001b[39m: \u001b[34mInstalling...\u001b[39m\n",
            "  \u001b[34;1m-\u001b[39;22m \u001b[39mDowngrading \u001b[39m\u001b[36mjinja2\u001b[39m\u001b[39m (\u001b[39m\u001b[39;1m3.1.6\u001b[39;22m\u001b[39m -> \u001b[39m\u001b[39;1m3.1.5\u001b[39;22m\u001b[39m)\u001b[39m: \u001b[34mInstalling...\u001b[39m\n",
            "  \u001b[34;1m-\u001b[39;22m \u001b[39mDowngrading \u001b[39m\u001b[36mjupyterlab-pygments\u001b[39m\u001b[39m (\u001b[39m\u001b[39;1m0.3.0\u001b[39;22m\u001b[39m -> \u001b[39m\u001b[39;1m0.2.2\u001b[39;22m\u001b[39m)\u001b[39m: \u001b[34mInstalling...\u001b[39m\n",
            "  \u001b[34;1m-\u001b[39;22m \u001b[39mDowngrading \u001b[39m\u001b[36mmistune\u001b[39m\u001b[39m (\u001b[39m\u001b[39;1m3.1.3\u001b[39;22m\u001b[39m -> \u001b[39m\u001b[39;1m3.0.2\u001b[39;22m\u001b[39m)\u001b[39m: \u001b[34mInstalling...\u001b[39m\n",
            "  \u001b[34;1m-\u001b[39;22m \u001b[39mDowngrading \u001b[39m\u001b[36mnbclient\u001b[39m\u001b[39m (\u001b[39m\u001b[39;1m0.10.2\u001b[39;22m\u001b[39m -> \u001b[39m\u001b[39;1m0.7.4\u001b[39;22m\u001b[39m)\u001b[39m: \u001b[34mPending...\u001b[39m\n",
            "\u001b[1A\u001b[0J  \u001b[34;1m-\u001b[39;22m \u001b[39mDowngrading \u001b[39m\u001b[36mnbclient\u001b[39m\u001b[39m (\u001b[39m\u001b[39;1m0.10.2\u001b[39;22m\u001b[39m -> \u001b[39m\u001b[39;1m0.7.4\u001b[39;22m\u001b[39m)\u001b[39m: \u001b[34mDownloading...\u001b[39m \u001b[39;1m0%\u001b[39;22m\n",
            "\u001b[1A\u001b[0J  \u001b[34;1m-\u001b[39;22m \u001b[39mDowngrading \u001b[39m\u001b[36mnbclient\u001b[39m\u001b[39m (\u001b[39m\u001b[39;1m0.10.2\u001b[39;22m\u001b[39m -> \u001b[39m\u001b[39;1m0.7.4\u001b[39;22m\u001b[39m)\u001b[39m: \u001b[34mDownloading...\u001b[39m \u001b[39;1m100%\u001b[39;22m\n",
            "\u001b[1A\u001b[0J  \u001b[34;1m-\u001b[39;22m \u001b[39mDowngrading \u001b[39m\u001b[36mnbclient\u001b[39m\u001b[39m (\u001b[39m\u001b[39;1m0.10.2\u001b[39;22m\u001b[39m -> \u001b[39m\u001b[39;1m0.7.4\u001b[39;22m\u001b[39m)\u001b[39m: \u001b[34mInstalling...\u001b[39m\n",
            "\u001b[2A\u001b[0J  \u001b[34;1m-\u001b[39;22m \u001b[39mDowngrading \u001b[39m\u001b[36mnbclient\u001b[39m\u001b[39m (\u001b[39m\u001b[39;1m0.10.2\u001b[39;22m\u001b[39m -> \u001b[39m\u001b[39;1m0.7.4\u001b[39;22m\u001b[39m)\u001b[39m: \u001b[34mInstalling...\u001b[39m\n",
            "\u001b[1A\u001b[0J  \u001b[32;1m-\u001b[39;22m \u001b[39mDowngrading \u001b[39m\u001b[36mmistune\u001b[39m\u001b[39m (\u001b[39m\u001b[39;1m3.1.3\u001b[39;22m\u001b[39m -> \u001b[39m\u001b[32m3.0.2\u001b[39m\u001b[39m)\u001b[39m\n",
            "  \u001b[34;1m-\u001b[39;22m \u001b[39mDowngrading \u001b[39m\u001b[36mnbclient\u001b[39m\u001b[39m (\u001b[39m\u001b[39;1m0.10.2\u001b[39;22m\u001b[39m -> \u001b[39m\u001b[39;1m0.7.4\u001b[39;22m\u001b[39m)\u001b[39m: \u001b[34mInstalling...\u001b[39m\n",
            "  \u001b[34;1m-\u001b[39;22m \u001b[39mDowngrading \u001b[39m\u001b[36mpackaging\u001b[39m\u001b[39m (\u001b[39m\u001b[39;1m24.2\u001b[39;22m\u001b[39m -> \u001b[39m\u001b[39;1m24.0\u001b[39;22m\u001b[39m)\u001b[39m: \u001b[34mPending...\u001b[39m\n",
            "\u001b[1A\u001b[0J  \u001b[34;1m-\u001b[39;22m \u001b[39mDowngrading \u001b[39m\u001b[36mpackaging\u001b[39m\u001b[39m (\u001b[39m\u001b[39;1m24.2\u001b[39;22m\u001b[39m -> \u001b[39m\u001b[39;1m24.0\u001b[39;22m\u001b[39m)\u001b[39m: \u001b[34mDownloading...\u001b[39m \u001b[39;1m0%\u001b[39;22m\n",
            "\u001b[1A\u001b[0J  \u001b[34;1m-\u001b[39;22m \u001b[39mDowngrading \u001b[39m\u001b[36mpackaging\u001b[39m\u001b[39m (\u001b[39m\u001b[39;1m24.2\u001b[39;22m\u001b[39m -> \u001b[39m\u001b[39;1m24.0\u001b[39;22m\u001b[39m)\u001b[39m: \u001b[34mDownloading...\u001b[39m \u001b[39;1m100%\u001b[39;22m\n",
            "\u001b[1A\u001b[0J  \u001b[34;1m-\u001b[39;22m \u001b[39mDowngrading \u001b[39m\u001b[36mpackaging\u001b[39m\u001b[39m (\u001b[39m\u001b[39;1m24.2\u001b[39;22m\u001b[39m -> \u001b[39m\u001b[39;1m24.0\u001b[39;22m\u001b[39m)\u001b[39m: \u001b[34mInstalling...\u001b[39m\n",
            "\u001b[4A\u001b[0J  \u001b[32;1m-\u001b[39;22m \u001b[39mDowngrading \u001b[39m\u001b[36mmistune\u001b[39m\u001b[39m (\u001b[39m\u001b[39;1m3.1.3\u001b[39;22m\u001b[39m -> \u001b[39m\u001b[32m3.0.2\u001b[39m\u001b[39m)\u001b[39m\n",
            "  \u001b[34;1m-\u001b[39;22m \u001b[39mDowngrading \u001b[39m\u001b[36mnbclient\u001b[39m\u001b[39m (\u001b[39m\u001b[39;1m0.10.2\u001b[39;22m\u001b[39m -> \u001b[39m\u001b[39;1m0.7.4\u001b[39;22m\u001b[39m)\u001b[39m: \u001b[34mInstalling...\u001b[39m\n",
            "  \u001b[34;1m-\u001b[39;22m \u001b[39mDowngrading \u001b[39m\u001b[36mpackaging\u001b[39m\u001b[39m (\u001b[39m\u001b[39;1m24.2\u001b[39;22m\u001b[39m -> \u001b[39m\u001b[39;1m24.0\u001b[39;22m\u001b[39m)\u001b[39m: \u001b[34mInstalling...\u001b[39m\n",
            "\u001b[3A\u001b[0J  \u001b[32;1m-\u001b[39;22m \u001b[39mDowngrading \u001b[39m\u001b[36mjupyterlab-pygments\u001b[39m\u001b[39m (\u001b[39m\u001b[39;1m0.3.0\u001b[39;22m\u001b[39m -> \u001b[39m\u001b[32m0.2.2\u001b[39m\u001b[39m)\u001b[39m\n",
            "  \u001b[32;1m-\u001b[39;22m \u001b[39mDowngrading \u001b[39m\u001b[36mmistune\u001b[39m\u001b[39m (\u001b[39m\u001b[39;1m3.1.3\u001b[39;22m\u001b[39m -> \u001b[39m\u001b[32m3.0.2\u001b[39m\u001b[39m)\u001b[39m\n",
            "  \u001b[34;1m-\u001b[39;22m \u001b[39mDowngrading \u001b[39m\u001b[36mnbclient\u001b[39m\u001b[39m (\u001b[39m\u001b[39;1m0.10.2\u001b[39;22m\u001b[39m -> \u001b[39m\u001b[39;1m0.7.4\u001b[39;22m\u001b[39m)\u001b[39m: \u001b[34mInstalling...\u001b[39m\n",
            "  \u001b[34;1m-\u001b[39;22m \u001b[39mDowngrading \u001b[39m\u001b[36mpackaging\u001b[39m\u001b[39m (\u001b[39m\u001b[39;1m24.2\u001b[39;22m\u001b[39m -> \u001b[39m\u001b[39;1m24.0\u001b[39;22m\u001b[39m)\u001b[39m: \u001b[34mInstalling...\u001b[39m\n",
            "  \u001b[34;1m-\u001b[39;22m \u001b[39mDowngrading \u001b[39m\u001b[36mpygments\u001b[39m\u001b[39m (\u001b[39m\u001b[39;1m2.19.1\u001b[39;22m\u001b[39m -> \u001b[39m\u001b[39;1m2.17.2\u001b[39;22m\u001b[39m)\u001b[39m: \u001b[34mPending...\u001b[39m\n",
            "\u001b[1A\u001b[0J  \u001b[34;1m-\u001b[39;22m \u001b[39mDowngrading \u001b[39m\u001b[36mpygments\u001b[39m\u001b[39m (\u001b[39m\u001b[39;1m2.19.1\u001b[39;22m\u001b[39m -> \u001b[39m\u001b[39;1m2.17.2\u001b[39;22m\u001b[39m)\u001b[39m: \u001b[34mDownloading...\u001b[39m \u001b[39;1m0%\u001b[39;22m\n",
            "\u001b[6A\u001b[0J  \u001b[32;1m-\u001b[39;22m \u001b[39mDowngrading \u001b[39m\u001b[36mjupyterlab-pygments\u001b[39m\u001b[39m (\u001b[39m\u001b[39;1m0.3.0\u001b[39;22m\u001b[39m -> \u001b[39m\u001b[32m0.2.2\u001b[39m\u001b[39m)\u001b[39m\n",
            "  \u001b[32;1m-\u001b[39;22m \u001b[39mDowngrading \u001b[39m\u001b[36mmistune\u001b[39m\u001b[39m (\u001b[39m\u001b[39;1m3.1.3\u001b[39;22m\u001b[39m -> \u001b[39m\u001b[32m3.0.2\u001b[39m\u001b[39m)\u001b[39m\n",
            "  \u001b[34;1m-\u001b[39;22m \u001b[39mDowngrading \u001b[39m\u001b[36mnbclient\u001b[39m\u001b[39m (\u001b[39m\u001b[39;1m0.10.2\u001b[39;22m\u001b[39m -> \u001b[39m\u001b[39;1m0.7.4\u001b[39;22m\u001b[39m)\u001b[39m: \u001b[34mInstalling...\u001b[39m\n",
            "  \u001b[34;1m-\u001b[39;22m \u001b[39mDowngrading \u001b[39m\u001b[36mpackaging\u001b[39m\u001b[39m (\u001b[39m\u001b[39;1m24.2\u001b[39;22m\u001b[39m -> \u001b[39m\u001b[39;1m24.0\u001b[39;22m\u001b[39m)\u001b[39m: \u001b[34mInstalling...\u001b[39m\n",
            "  \u001b[34;1m-\u001b[39;22m \u001b[39mDowngrading \u001b[39m\u001b[36mpygments\u001b[39m\u001b[39m (\u001b[39m\u001b[39;1m2.19.1\u001b[39;22m\u001b[39m -> \u001b[39m\u001b[39;1m2.17.2\u001b[39;22m\u001b[39m)\u001b[39m: \u001b[34mDownloading...\u001b[39m \u001b[39;1m0%\u001b[39;22m\n",
            "\u001b[5A\u001b[0J  \u001b[32;1m-\u001b[39;22m \u001b[39mDowngrading \u001b[39m\u001b[36mjinja2\u001b[39m\u001b[39m (\u001b[39m\u001b[39;1m3.1.6\u001b[39;22m\u001b[39m -> \u001b[39m\u001b[32m3.1.5\u001b[39m\u001b[39m)\u001b[39m\n",
            "  \u001b[32;1m-\u001b[39;22m \u001b[39mDowngrading \u001b[39m\u001b[36mjupyterlab-pygments\u001b[39m\u001b[39m (\u001b[39m\u001b[39;1m0.3.0\u001b[39;22m\u001b[39m -> \u001b[39m\u001b[32m0.2.2\u001b[39m\u001b[39m)\u001b[39m\n",
            "  \u001b[32;1m-\u001b[39;22m \u001b[39mDowngrading \u001b[39m\u001b[36mmistune\u001b[39m\u001b[39m (\u001b[39m\u001b[39;1m3.1.3\u001b[39;22m\u001b[39m -> \u001b[39m\u001b[32m3.0.2\u001b[39m\u001b[39m)\u001b[39m\n",
            "  \u001b[34;1m-\u001b[39;22m \u001b[39mDowngrading \u001b[39m\u001b[36mnbclient\u001b[39m\u001b[39m (\u001b[39m\u001b[39;1m0.10.2\u001b[39;22m\u001b[39m -> \u001b[39m\u001b[39;1m0.7.4\u001b[39;22m\u001b[39m)\u001b[39m: \u001b[34mInstalling...\u001b[39m\n",
            "  \u001b[34;1m-\u001b[39;22m \u001b[39mDowngrading \u001b[39m\u001b[36mpackaging\u001b[39m\u001b[39m (\u001b[39m\u001b[39;1m24.2\u001b[39;22m\u001b[39m -> \u001b[39m\u001b[39;1m24.0\u001b[39;22m\u001b[39m)\u001b[39m: \u001b[34mInstalling...\u001b[39m\n",
            "  \u001b[34;1m-\u001b[39;22m \u001b[39mDowngrading \u001b[39m\u001b[36mpygments\u001b[39m\u001b[39m (\u001b[39m\u001b[39;1m2.19.1\u001b[39;22m\u001b[39m -> \u001b[39m\u001b[39;1m2.17.2\u001b[39;22m\u001b[39m)\u001b[39m: \u001b[34mDownloading...\u001b[39m \u001b[39;1m0%\u001b[39;22m\n",
            "  \u001b[34;1m-\u001b[39;22m \u001b[39mDowngrading \u001b[39m\u001b[36mtinycss2\u001b[39m\u001b[39m (\u001b[39m\u001b[39;1m1.4.0\u001b[39;22m\u001b[39m -> \u001b[39m\u001b[39;1m1.2.1\u001b[39;22m\u001b[39m)\u001b[39m: \u001b[34mPending...\u001b[39m\n",
            "\u001b[4A\u001b[0J  \u001b[34;1m-\u001b[39;22m \u001b[39mDowngrading \u001b[39m\u001b[36mpackaging\u001b[39m\u001b[39m (\u001b[39m\u001b[39;1m24.2\u001b[39;22m\u001b[39m -> \u001b[39m\u001b[39;1m24.0\u001b[39;22m\u001b[39m)\u001b[39m: \u001b[34mInstalling...\u001b[39m\n",
            "  \u001b[34;1m-\u001b[39;22m \u001b[39mDowngrading \u001b[39m\u001b[36mpygments\u001b[39m\u001b[39m (\u001b[39m\u001b[39;1m2.19.1\u001b[39;22m\u001b[39m -> \u001b[39m\u001b[39;1m2.17.2\u001b[39;22m\u001b[39m)\u001b[39m: \u001b[34mDownloading...\u001b[39m \u001b[39;1m0%\u001b[39;22m\n",
            "  \u001b[34;1m-\u001b[39;22m \u001b[39mDowngrading \u001b[39m\u001b[36mtinycss2\u001b[39m\u001b[39m (\u001b[39m\u001b[39;1m1.4.0\u001b[39;22m\u001b[39m -> \u001b[39m\u001b[39;1m1.2.1\u001b[39;22m\u001b[39m)\u001b[39m: \u001b[34mPending...\u001b[39m\n",
            "\u001b[3A\u001b[0J  \u001b[32;1m-\u001b[39;22m \u001b[39mDowngrading \u001b[39m\u001b[36mnbclient\u001b[39m\u001b[39m (\u001b[39m\u001b[39;1m0.10.2\u001b[39;22m\u001b[39m -> \u001b[39m\u001b[32m0.7.4\u001b[39m\u001b[39m)\u001b[39m\n",
            "  \u001b[34;1m-\u001b[39;22m \u001b[39mDowngrading \u001b[39m\u001b[36mpackaging\u001b[39m\u001b[39m (\u001b[39m\u001b[39;1m24.2\u001b[39;22m\u001b[39m -> \u001b[39m\u001b[39;1m24.0\u001b[39;22m\u001b[39m)\u001b[39m: \u001b[34mInstalling...\u001b[39m\n",
            "  \u001b[34;1m-\u001b[39;22m \u001b[39mDowngrading \u001b[39m\u001b[36mpygments\u001b[39m\u001b[39m (\u001b[39m\u001b[39;1m2.19.1\u001b[39;22m\u001b[39m -> \u001b[39m\u001b[39;1m2.17.2\u001b[39;22m\u001b[39m)\u001b[39m: \u001b[34mDownloading...\u001b[39m \u001b[39;1m0%\u001b[39;22m\n",
            "  \u001b[34;1m-\u001b[39;22m \u001b[39mDowngrading \u001b[39m\u001b[36mtinycss2\u001b[39m\u001b[39m (\u001b[39m\u001b[39;1m1.4.0\u001b[39;22m\u001b[39m -> \u001b[39m\u001b[39;1m1.2.1\u001b[39;22m\u001b[39m)\u001b[39m: \u001b[34mPending...\u001b[39m\n",
            "\u001b[9A\u001b[0J  \u001b[34;1m-\u001b[39;22m \u001b[39mDowngrading \u001b[39m\u001b[36mbleach\u001b[39m\u001b[39m (\u001b[39m\u001b[39;1m6.2.0\u001b[39;22m\u001b[39m -> \u001b[39m\u001b[39;1m6.0.0\u001b[39;22m\u001b[39m)\u001b[39m: \u001b[34mInstalling...\u001b[39m\n",
            "  \u001b[32;1m-\u001b[39;22m \u001b[39mDowngrading \u001b[39m\u001b[36mjinja2\u001b[39m\u001b[39m (\u001b[39m\u001b[39;1m3.1.6\u001b[39;22m\u001b[39m -> \u001b[39m\u001b[32m3.1.5\u001b[39m\u001b[39m)\u001b[39m\n",
            "  \u001b[32;1m-\u001b[39;22m \u001b[39mDowngrading \u001b[39m\u001b[36mjupyterlab-pygments\u001b[39m\u001b[39m (\u001b[39m\u001b[39;1m0.3.0\u001b[39;22m\u001b[39m -> \u001b[39m\u001b[32m0.2.2\u001b[39m\u001b[39m)\u001b[39m\n",
            "  \u001b[32;1m-\u001b[39;22m \u001b[39mDowngrading \u001b[39m\u001b[36mmistune\u001b[39m\u001b[39m (\u001b[39m\u001b[39;1m3.1.3\u001b[39;22m\u001b[39m -> \u001b[39m\u001b[32m3.0.2\u001b[39m\u001b[39m)\u001b[39m\n",
            "  \u001b[32;1m-\u001b[39;22m \u001b[39mDowngrading \u001b[39m\u001b[36mnbclient\u001b[39m\u001b[39m (\u001b[39m\u001b[39;1m0.10.2\u001b[39;22m\u001b[39m -> \u001b[39m\u001b[32m0.7.4\u001b[39m\u001b[39m)\u001b[39m\n",
            "  \u001b[34;1m-\u001b[39;22m \u001b[39mDowngrading \u001b[39m\u001b[36mpackaging\u001b[39m\u001b[39m (\u001b[39m\u001b[39;1m24.2\u001b[39;22m\u001b[39m -> \u001b[39m\u001b[39;1m24.0\u001b[39;22m\u001b[39m)\u001b[39m: \u001b[34mInstalling...\u001b[39m\n",
            "  \u001b[34;1m-\u001b[39;22m \u001b[39mDowngrading \u001b[39m\u001b[36mpygments\u001b[39m\u001b[39m (\u001b[39m\u001b[39;1m2.19.1\u001b[39;22m\u001b[39m -> \u001b[39m\u001b[39;1m2.17.2\u001b[39;22m\u001b[39m)\u001b[39m: \u001b[34mDownloading...\u001b[39m \u001b[39;1m0%\u001b[39;22m\n",
            "  \u001b[34;1m-\u001b[39;22m \u001b[39mDowngrading \u001b[39m\u001b[36mtinycss2\u001b[39m\u001b[39m (\u001b[39m\u001b[39;1m1.4.0\u001b[39;22m\u001b[39m -> \u001b[39m\u001b[39;1m1.2.1\u001b[39;22m\u001b[39m)\u001b[39m: \u001b[34mPending...\u001b[39m\n",
            "\u001b[8A\u001b[0J  \u001b[32;1m-\u001b[39;22m \u001b[39mDowngrading \u001b[39m\u001b[36mbeautifulsoup4\u001b[39m\u001b[39m (\u001b[39m\u001b[39;1m4.13.4\u001b[39;22m\u001b[39m -> \u001b[39m\u001b[32m4.12.3\u001b[39m\u001b[39m)\u001b[39m\n",
            "  \u001b[34;1m-\u001b[39;22m \u001b[39mDowngrading \u001b[39m\u001b[36mbleach\u001b[39m\u001b[39m (\u001b[39m\u001b[39;1m6.2.0\u001b[39;22m\u001b[39m -> \u001b[39m\u001b[39;1m6.0.0\u001b[39;22m\u001b[39m)\u001b[39m: \u001b[34mInstalling...\u001b[39m\n",
            "  \u001b[32;1m-\u001b[39;22m \u001b[39mDowngrading \u001b[39m\u001b[36mjinja2\u001b[39m\u001b[39m (\u001b[39m\u001b[39;1m3.1.6\u001b[39;22m\u001b[39m -> \u001b[39m\u001b[32m3.1.5\u001b[39m\u001b[39m)\u001b[39m\n",
            "  \u001b[32;1m-\u001b[39;22m \u001b[39mDowngrading \u001b[39m\u001b[36mjupyterlab-pygments\u001b[39m\u001b[39m (\u001b[39m\u001b[39;1m0.3.0\u001b[39;22m\u001b[39m -> \u001b[39m\u001b[32m0.2.2\u001b[39m\u001b[39m)\u001b[39m\n",
            "  \u001b[32;1m-\u001b[39;22m \u001b[39mDowngrading \u001b[39m\u001b[36mmistune\u001b[39m\u001b[39m (\u001b[39m\u001b[39;1m3.1.3\u001b[39;22m\u001b[39m -> \u001b[39m\u001b[32m3.0.2\u001b[39m\u001b[39m)\u001b[39m\n",
            "  \u001b[32;1m-\u001b[39;22m \u001b[39mDowngrading \u001b[39m\u001b[36mnbclient\u001b[39m\u001b[39m (\u001b[39m\u001b[39;1m0.10.2\u001b[39;22m\u001b[39m -> \u001b[39m\u001b[32m0.7.4\u001b[39m\u001b[39m)\u001b[39m\n",
            "  \u001b[34;1m-\u001b[39;22m \u001b[39mDowngrading \u001b[39m\u001b[36mpackaging\u001b[39m\u001b[39m (\u001b[39m\u001b[39;1m24.2\u001b[39;22m\u001b[39m -> \u001b[39m\u001b[39;1m24.0\u001b[39;22m\u001b[39m)\u001b[39m: \u001b[34mInstalling...\u001b[39m\n",
            "  \u001b[34;1m-\u001b[39;22m \u001b[39mDowngrading \u001b[39m\u001b[36mpygments\u001b[39m\u001b[39m (\u001b[39m\u001b[39;1m2.19.1\u001b[39;22m\u001b[39m -> \u001b[39m\u001b[39;1m2.17.2\u001b[39;22m\u001b[39m)\u001b[39m: \u001b[34mDownloading...\u001b[39m \u001b[39;1m0%\u001b[39;22m\n",
            "  \u001b[34;1m-\u001b[39;22m \u001b[39mDowngrading \u001b[39m\u001b[36mtinycss2\u001b[39m\u001b[39m (\u001b[39m\u001b[39;1m1.4.0\u001b[39;22m\u001b[39m -> \u001b[39m\u001b[39;1m1.2.1\u001b[39;22m\u001b[39m)\u001b[39m: \u001b[34mPending...\u001b[39m\n",
            "\u001b[2A\u001b[0J  \u001b[34;1m-\u001b[39;22m \u001b[39mDowngrading \u001b[39m\u001b[36mtinycss2\u001b[39m\u001b[39m (\u001b[39m\u001b[39;1m1.4.0\u001b[39;22m\u001b[39m -> \u001b[39m\u001b[39;1m1.2.1\u001b[39;22m\u001b[39m)\u001b[39m: \u001b[34mPending...\u001b[39m\n",
            "\u001b[1A\u001b[0J  \u001b[34;1m-\u001b[39;22m \u001b[39mDowngrading \u001b[39m\u001b[36mpygments\u001b[39m\u001b[39m (\u001b[39m\u001b[39;1m2.19.1\u001b[39;22m\u001b[39m -> \u001b[39m\u001b[39;1m2.17.2\u001b[39;22m\u001b[39m)\u001b[39m: \u001b[34mDownloading...\u001b[39m \u001b[39;1m100%\u001b[39;22m\n",
            "  \u001b[34;1m-\u001b[39;22m \u001b[39mDowngrading \u001b[39m\u001b[36mtinycss2\u001b[39m\u001b[39m (\u001b[39m\u001b[39;1m1.4.0\u001b[39;22m\u001b[39m -> \u001b[39m\u001b[39;1m1.2.1\u001b[39;22m\u001b[39m)\u001b[39m: \u001b[34mPending...\u001b[39m\n",
            "\u001b[1A\u001b[0J  \u001b[34;1m-\u001b[39;22m \u001b[39mDowngrading \u001b[39m\u001b[36mtinycss2\u001b[39m\u001b[39m (\u001b[39m\u001b[39;1m1.4.0\u001b[39;22m\u001b[39m -> \u001b[39m\u001b[39;1m1.2.1\u001b[39;22m\u001b[39m)\u001b[39m: \u001b[34mDownloading...\u001b[39m \u001b[39;1m0%\u001b[39;22m\n",
            "\u001b[1A\u001b[0J  \u001b[34;1m-\u001b[39;22m \u001b[39mDowngrading \u001b[39m\u001b[36mtinycss2\u001b[39m\u001b[39m (\u001b[39m\u001b[39;1m1.4.0\u001b[39;22m\u001b[39m -> \u001b[39m\u001b[39;1m1.2.1\u001b[39;22m\u001b[39m)\u001b[39m: \u001b[34mDownloading...\u001b[39m \u001b[39;1m100%\u001b[39;22m\n",
            "\u001b[1A\u001b[0J  \u001b[34;1m-\u001b[39;22m \u001b[39mDowngrading \u001b[39m\u001b[36mtinycss2\u001b[39m\u001b[39m (\u001b[39m\u001b[39;1m1.4.0\u001b[39;22m\u001b[39m -> \u001b[39m\u001b[39;1m1.2.1\u001b[39;22m\u001b[39m)\u001b[39m: \u001b[34mInstalling...\u001b[39m\n",
            "\u001b[2A\u001b[0J  \u001b[34;1m-\u001b[39;22m \u001b[39mDowngrading \u001b[39m\u001b[36mtinycss2\u001b[39m\u001b[39m (\u001b[39m\u001b[39;1m1.4.0\u001b[39;22m\u001b[39m -> \u001b[39m\u001b[39;1m1.2.1\u001b[39;22m\u001b[39m)\u001b[39m: \u001b[34mInstalling...\u001b[39m\n",
            "\u001b[1A\u001b[0J  \u001b[34;1m-\u001b[39;22m \u001b[39mDowngrading \u001b[39m\u001b[36mpygments\u001b[39m\u001b[39m (\u001b[39m\u001b[39;1m2.19.1\u001b[39;22m\u001b[39m -> \u001b[39m\u001b[39;1m2.17.2\u001b[39;22m\u001b[39m)\u001b[39m: \u001b[34mInstalling...\u001b[39m\n",
            "  \u001b[34;1m-\u001b[39;22m \u001b[39mDowngrading \u001b[39m\u001b[36mtinycss2\u001b[39m\u001b[39m (\u001b[39m\u001b[39;1m1.4.0\u001b[39;22m\u001b[39m -> \u001b[39m\u001b[39;1m1.2.1\u001b[39;22m\u001b[39m)\u001b[39m: \u001b[34mInstalling...\u001b[39m\n",
            "\u001b[8A\u001b[0J  \u001b[32;1m-\u001b[39;22m \u001b[39mDowngrading \u001b[39m\u001b[36mjinja2\u001b[39m\u001b[39m (\u001b[39m\u001b[39;1m3.1.6\u001b[39;22m\u001b[39m -> \u001b[39m\u001b[32m3.1.5\u001b[39m\u001b[39m)\u001b[39m\n",
            "  \u001b[32;1m-\u001b[39;22m \u001b[39mDowngrading \u001b[39m\u001b[36mjupyterlab-pygments\u001b[39m\u001b[39m (\u001b[39m\u001b[39;1m0.3.0\u001b[39;22m\u001b[39m -> \u001b[39m\u001b[32m0.2.2\u001b[39m\u001b[39m)\u001b[39m\n",
            "  \u001b[32;1m-\u001b[39;22m \u001b[39mDowngrading \u001b[39m\u001b[36mmistune\u001b[39m\u001b[39m (\u001b[39m\u001b[39;1m3.1.3\u001b[39;22m\u001b[39m -> \u001b[39m\u001b[32m3.0.2\u001b[39m\u001b[39m)\u001b[39m\n",
            "  \u001b[32;1m-\u001b[39;22m \u001b[39mDowngrading \u001b[39m\u001b[36mnbclient\u001b[39m\u001b[39m (\u001b[39m\u001b[39;1m0.10.2\u001b[39;22m\u001b[39m -> \u001b[39m\u001b[32m0.7.4\u001b[39m\u001b[39m)\u001b[39m\n",
            "  \u001b[34;1m-\u001b[39;22m \u001b[39mDowngrading \u001b[39m\u001b[36mpackaging\u001b[39m\u001b[39m (\u001b[39m\u001b[39;1m24.2\u001b[39;22m\u001b[39m -> \u001b[39m\u001b[39;1m24.0\u001b[39;22m\u001b[39m)\u001b[39m: \u001b[34mInstalling...\u001b[39m\n",
            "  \u001b[34;1m-\u001b[39;22m \u001b[39mDowngrading \u001b[39m\u001b[36mpygments\u001b[39m\u001b[39m (\u001b[39m\u001b[39;1m2.19.1\u001b[39;22m\u001b[39m -> \u001b[39m\u001b[39;1m2.17.2\u001b[39;22m\u001b[39m)\u001b[39m: \u001b[34mInstalling...\u001b[39m\n",
            "  \u001b[34;1m-\u001b[39;22m \u001b[39mDowngrading \u001b[39m\u001b[36mtinycss2\u001b[39m\u001b[39m (\u001b[39m\u001b[39;1m1.4.0\u001b[39;22m\u001b[39m -> \u001b[39m\u001b[39;1m1.2.1\u001b[39;22m\u001b[39m)\u001b[39m: \u001b[34mInstalling...\u001b[39m\n",
            "\u001b[7A\u001b[0J  \u001b[32;1m-\u001b[39;22m \u001b[39mDowngrading \u001b[39m\u001b[36mbleach\u001b[39m\u001b[39m (\u001b[39m\u001b[39;1m6.2.0\u001b[39;22m\u001b[39m -> \u001b[39m\u001b[32m6.0.0\u001b[39m\u001b[39m)\u001b[39m\n",
            "  \u001b[32;1m-\u001b[39;22m \u001b[39mDowngrading \u001b[39m\u001b[36mjinja2\u001b[39m\u001b[39m (\u001b[39m\u001b[39;1m3.1.6\u001b[39;22m\u001b[39m -> \u001b[39m\u001b[32m3.1.5\u001b[39m\u001b[39m)\u001b[39m\n",
            "  \u001b[32;1m-\u001b[39;22m \u001b[39mDowngrading \u001b[39m\u001b[36mjupyterlab-pygments\u001b[39m\u001b[39m (\u001b[39m\u001b[39;1m0.3.0\u001b[39;22m\u001b[39m -> \u001b[39m\u001b[32m0.2.2\u001b[39m\u001b[39m)\u001b[39m\n",
            "  \u001b[32;1m-\u001b[39;22m \u001b[39mDowngrading \u001b[39m\u001b[36mmistune\u001b[39m\u001b[39m (\u001b[39m\u001b[39;1m3.1.3\u001b[39;22m\u001b[39m -> \u001b[39m\u001b[32m3.0.2\u001b[39m\u001b[39m)\u001b[39m\n",
            "  \u001b[32;1m-\u001b[39;22m \u001b[39mDowngrading \u001b[39m\u001b[36mnbclient\u001b[39m\u001b[39m (\u001b[39m\u001b[39;1m0.10.2\u001b[39;22m\u001b[39m -> \u001b[39m\u001b[32m0.7.4\u001b[39m\u001b[39m)\u001b[39m\n",
            "  \u001b[34;1m-\u001b[39;22m \u001b[39mDowngrading \u001b[39m\u001b[36mpackaging\u001b[39m\u001b[39m (\u001b[39m\u001b[39;1m24.2\u001b[39;22m\u001b[39m -> \u001b[39m\u001b[39;1m24.0\u001b[39;22m\u001b[39m)\u001b[39m: \u001b[34mInstalling...\u001b[39m\n",
            "  \u001b[34;1m-\u001b[39;22m \u001b[39mDowngrading \u001b[39m\u001b[36mpygments\u001b[39m\u001b[39m (\u001b[39m\u001b[39;1m2.19.1\u001b[39;22m\u001b[39m -> \u001b[39m\u001b[39;1m2.17.2\u001b[39;22m\u001b[39m)\u001b[39m: \u001b[34mInstalling...\u001b[39m\n",
            "  \u001b[34;1m-\u001b[39;22m \u001b[39mDowngrading \u001b[39m\u001b[36mtinycss2\u001b[39m\u001b[39m (\u001b[39m\u001b[39;1m1.4.0\u001b[39;22m\u001b[39m -> \u001b[39m\u001b[39;1m1.2.1\u001b[39;22m\u001b[39m)\u001b[39m: \u001b[34mInstalling...\u001b[39m\n",
            "\u001b[3A\u001b[0J  \u001b[34;1m-\u001b[39;22m \u001b[39mDowngrading \u001b[39m\u001b[36mpygments\u001b[39m\u001b[39m (\u001b[39m\u001b[39;1m2.19.1\u001b[39;22m\u001b[39m -> \u001b[39m\u001b[39;1m2.17.2\u001b[39;22m\u001b[39m)\u001b[39m: \u001b[34mInstalling...\u001b[39m\n",
            "  \u001b[34;1m-\u001b[39;22m \u001b[39mDowngrading \u001b[39m\u001b[36mtinycss2\u001b[39m\u001b[39m (\u001b[39m\u001b[39;1m1.4.0\u001b[39;22m\u001b[39m -> \u001b[39m\u001b[39;1m1.2.1\u001b[39;22m\u001b[39m)\u001b[39m: \u001b[34mInstalling...\u001b[39m\n",
            "\u001b[2A\u001b[0J  \u001b[32;1m-\u001b[39;22m \u001b[39mDowngrading \u001b[39m\u001b[36mpackaging\u001b[39m\u001b[39m (\u001b[39m\u001b[39;1m24.2\u001b[39;22m\u001b[39m -> \u001b[39m\u001b[32m24.0\u001b[39m\u001b[39m)\u001b[39m\n",
            "  \u001b[34;1m-\u001b[39;22m \u001b[39mDowngrading \u001b[39m\u001b[36mpygments\u001b[39m\u001b[39m (\u001b[39m\u001b[39;1m2.19.1\u001b[39;22m\u001b[39m -> \u001b[39m\u001b[39;1m2.17.2\u001b[39;22m\u001b[39m)\u001b[39m: \u001b[34mInstalling...\u001b[39m\n",
            "  \u001b[34;1m-\u001b[39;22m \u001b[39mDowngrading \u001b[39m\u001b[36mtinycss2\u001b[39m\u001b[39m (\u001b[39m\u001b[39;1m1.4.0\u001b[39;22m\u001b[39m -> \u001b[39m\u001b[39;1m1.2.1\u001b[39;22m\u001b[39m)\u001b[39m: \u001b[34mInstalling...\u001b[39m\n",
            "\u001b[1A\u001b[0J  \u001b[32;1m-\u001b[39;22m \u001b[39mDowngrading \u001b[39m\u001b[36mtinycss2\u001b[39m\u001b[39m (\u001b[39m\u001b[39;1m1.4.0\u001b[39;22m\u001b[39m -> \u001b[39m\u001b[32m1.2.1\u001b[39m\u001b[39m)\u001b[39m\n",
            "\u001b[2A\u001b[0J  \u001b[32;1m-\u001b[39;22m \u001b[39mDowngrading \u001b[39m\u001b[36mtinycss2\u001b[39m\u001b[39m (\u001b[39m\u001b[39;1m1.4.0\u001b[39;22m\u001b[39m -> \u001b[39m\u001b[32m1.2.1\u001b[39m\u001b[39m)\u001b[39m\n",
            "\u001b[1A\u001b[0J  \u001b[32;1m-\u001b[39;22m \u001b[39mDowngrading \u001b[39m\u001b[36mpygments\u001b[39m\u001b[39m (\u001b[39m\u001b[39;1m2.19.1\u001b[39;22m\u001b[39m -> \u001b[39m\u001b[32m2.17.2\u001b[39m\u001b[39m)\u001b[39m\n",
            "  \u001b[32;1m-\u001b[39;22m \u001b[39mDowngrading \u001b[39m\u001b[36mtinycss2\u001b[39m\u001b[39m (\u001b[39m\u001b[39;1m1.4.0\u001b[39;22m\u001b[39m -> \u001b[39m\u001b[32m1.2.1\u001b[39m\u001b[39m)\u001b[39m\n",
            "  \u001b[34;1m-\u001b[39;22m \u001b[39mDowngrading \u001b[39m\u001b[36manyio\u001b[39m\u001b[39m (\u001b[39m\u001b[39;1m4.9.0\u001b[39;22m\u001b[39m -> \u001b[39m\u001b[39;1m3.7.1\u001b[39;22m\u001b[39m)\u001b[39m: \u001b[34mPending...\u001b[39m\n",
            "  \u001b[34;1m-\u001b[39;22m \u001b[39mUpdating \u001b[39m\u001b[36mdecorator\u001b[39m\u001b[39m (\u001b[39m\u001b[39;1m4.4.2\u001b[39;22m\u001b[39m -> \u001b[39m\u001b[39;1m5.1.1\u001b[39;22m\u001b[39m)\u001b[39m: \u001b[34mPending...\u001b[39m\n",
            "  \u001b[34;1m-\u001b[39;22m \u001b[39mInstalling \u001b[39m\u001b[36mfqdn\u001b[39m\u001b[39m (\u001b[39m\u001b[39;1m1.5.1\u001b[39;22m\u001b[39m)\u001b[39m: \u001b[34mPending...\u001b[39m\n",
            "  \u001b[34;1m-\u001b[39;22m \u001b[39mInstalling \u001b[39m\u001b[36misoduration\u001b[39m\u001b[39m (\u001b[39m\u001b[39;1m20.11.0\u001b[39;22m\u001b[39m)\u001b[39m: \u001b[34mPending...\u001b[39m\n",
            "  \u001b[34;1m-\u001b[39;22m \u001b[39mInstalling \u001b[39m\u001b[36mjedi\u001b[39m\u001b[39m (\u001b[39m\u001b[39;1m0.19.2\u001b[39;22m\u001b[39m)\u001b[39m: \u001b[34mPending...\u001b[39m\n",
            "  \u001b[34;1m-\u001b[39;22m \u001b[39mDowngrading \u001b[39m\u001b[36mmatplotlib-inline\u001b[39m\u001b[39m (\u001b[39m\u001b[39;1m0.1.7\u001b[39;22m\u001b[39m -> \u001b[39m\u001b[39;1m0.1.6\u001b[39;22m\u001b[39m)\u001b[39m: \u001b[34mPending...\u001b[39m\n",
            "\u001b[5A\u001b[0J  \u001b[34;1m-\u001b[39;22m \u001b[39mInstalling \u001b[39m\u001b[36mfqdn\u001b[39m\u001b[39m (\u001b[39m\u001b[39;1m1.5.1\u001b[39;22m\u001b[39m)\u001b[39m: \u001b[34mPending...\u001b[39m\n",
            "  \u001b[34;1m-\u001b[39;22m \u001b[39mInstalling \u001b[39m\u001b[36misoduration\u001b[39m\u001b[39m (\u001b[39m\u001b[39;1m20.11.0\u001b[39;22m\u001b[39m)\u001b[39m: \u001b[34mPending...\u001b[39m\n",
            "  \u001b[34;1m-\u001b[39;22m \u001b[39mInstalling \u001b[39m\u001b[36mjedi\u001b[39m\u001b[39m (\u001b[39m\u001b[39;1m0.19.2\u001b[39;22m\u001b[39m)\u001b[39m: \u001b[34mPending...\u001b[39m\n",
            "  \u001b[34;1m-\u001b[39;22m \u001b[39mDowngrading \u001b[39m\u001b[36mmatplotlib-inline\u001b[39m\u001b[39m (\u001b[39m\u001b[39;1m0.1.7\u001b[39;22m\u001b[39m -> \u001b[39m\u001b[39;1m0.1.6\u001b[39;22m\u001b[39m)\u001b[39m: \u001b[34mPending...\u001b[39m\n",
            "\u001b[4A\u001b[0J  \u001b[34;1m-\u001b[39;22m \u001b[39mUpdating \u001b[39m\u001b[36mdecorator\u001b[39m\u001b[39m (\u001b[39m\u001b[39;1m4.4.2\u001b[39;22m\u001b[39m -> \u001b[39m\u001b[39;1m5.1.1\u001b[39;22m\u001b[39m)\u001b[39m: \u001b[34mDownloading...\u001b[39m \u001b[39;1m0%\u001b[39;22m\n",
            "  \u001b[34;1m-\u001b[39;22m \u001b[39mInstalling \u001b[39m\u001b[36mfqdn\u001b[39m\u001b[39m (\u001b[39m\u001b[39;1m1.5.1\u001b[39;22m\u001b[39m)\u001b[39m: \u001b[34mPending...\u001b[39m\n",
            "  \u001b[34;1m-\u001b[39;22m \u001b[39mInstalling \u001b[39m\u001b[36misoduration\u001b[39m\u001b[39m (\u001b[39m\u001b[39;1m20.11.0\u001b[39;22m\u001b[39m)\u001b[39m: \u001b[34mPending...\u001b[39m\n",
            "  \u001b[34;1m-\u001b[39;22m \u001b[39mInstalling \u001b[39m\u001b[36mjedi\u001b[39m\u001b[39m (\u001b[39m\u001b[39;1m0.19.2\u001b[39;22m\u001b[39m)\u001b[39m: \u001b[34mPending...\u001b[39m\n",
            "  \u001b[34;1m-\u001b[39;22m \u001b[39mDowngrading \u001b[39m\u001b[36mmatplotlib-inline\u001b[39m\u001b[39m (\u001b[39m\u001b[39;1m0.1.7\u001b[39;22m\u001b[39m -> \u001b[39m\u001b[39;1m0.1.6\u001b[39;22m\u001b[39m)\u001b[39m: \u001b[34mPending...\u001b[39m\n",
            "\u001b[6A\u001b[0J  \u001b[34;1m-\u001b[39;22m \u001b[39mUpdating \u001b[39m\u001b[36mdecorator\u001b[39m\u001b[39m (\u001b[39m\u001b[39;1m4.4.2\u001b[39;22m\u001b[39m -> \u001b[39m\u001b[39;1m5.1.1\u001b[39;22m\u001b[39m)\u001b[39m: \u001b[34mDownloading...\u001b[39m \u001b[39;1m0%\u001b[39;22m\n",
            "  \u001b[34;1m-\u001b[39;22m \u001b[39mInstalling \u001b[39m\u001b[36mfqdn\u001b[39m\u001b[39m (\u001b[39m\u001b[39;1m1.5.1\u001b[39;22m\u001b[39m)\u001b[39m: \u001b[34mPending...\u001b[39m\n",
            "  \u001b[34;1m-\u001b[39;22m \u001b[39mInstalling \u001b[39m\u001b[36misoduration\u001b[39m\u001b[39m (\u001b[39m\u001b[39;1m20.11.0\u001b[39;22m\u001b[39m)\u001b[39m: \u001b[34mPending...\u001b[39m\n",
            "  \u001b[34;1m-\u001b[39;22m \u001b[39mInstalling \u001b[39m\u001b[36mjedi\u001b[39m\u001b[39m (\u001b[39m\u001b[39;1m0.19.2\u001b[39;22m\u001b[39m)\u001b[39m: \u001b[34mPending...\u001b[39m\n",
            "  \u001b[34;1m-\u001b[39;22m \u001b[39mDowngrading \u001b[39m\u001b[36mmatplotlib-inline\u001b[39m\u001b[39m (\u001b[39m\u001b[39;1m0.1.7\u001b[39;22m\u001b[39m -> \u001b[39m\u001b[39;1m0.1.6\u001b[39;22m\u001b[39m)\u001b[39m: \u001b[34mPending...\u001b[39m\n",
            "\u001b[5A\u001b[0J  \u001b[34;1m-\u001b[39;22m \u001b[39mDowngrading \u001b[39m\u001b[36manyio\u001b[39m\u001b[39m (\u001b[39m\u001b[39;1m4.9.0\u001b[39;22m\u001b[39m -> \u001b[39m\u001b[39;1m3.7.1\u001b[39;22m\u001b[39m)\u001b[39m: \u001b[34mDownloading...\u001b[39m \u001b[39;1m0%\u001b[39;22m\n",
            "  \u001b[34;1m-\u001b[39;22m \u001b[39mUpdating \u001b[39m\u001b[36mdecorator\u001b[39m\u001b[39m (\u001b[39m\u001b[39;1m4.4.2\u001b[39;22m\u001b[39m -> \u001b[39m\u001b[39;1m5.1.1\u001b[39;22m\u001b[39m)\u001b[39m: \u001b[34mDownloading...\u001b[39m \u001b[39;1m0%\u001b[39;22m\n",
            "  \u001b[34;1m-\u001b[39;22m \u001b[39mInstalling \u001b[39m\u001b[36mfqdn\u001b[39m\u001b[39m (\u001b[39m\u001b[39;1m1.5.1\u001b[39;22m\u001b[39m)\u001b[39m: \u001b[34mPending...\u001b[39m\n",
            "  \u001b[34;1m-\u001b[39;22m \u001b[39mInstalling \u001b[39m\u001b[36misoduration\u001b[39m\u001b[39m (\u001b[39m\u001b[39;1m20.11.0\u001b[39;22m\u001b[39m)\u001b[39m: \u001b[34mPending...\u001b[39m\n",
            "  \u001b[34;1m-\u001b[39;22m \u001b[39mInstalling \u001b[39m\u001b[36mjedi\u001b[39m\u001b[39m (\u001b[39m\u001b[39;1m0.19.2\u001b[39;22m\u001b[39m)\u001b[39m: \u001b[34mPending...\u001b[39m\n",
            "  \u001b[34;1m-\u001b[39;22m \u001b[39mDowngrading \u001b[39m\u001b[36mmatplotlib-inline\u001b[39m\u001b[39m (\u001b[39m\u001b[39;1m0.1.7\u001b[39;22m\u001b[39m -> \u001b[39m\u001b[39;1m0.1.6\u001b[39;22m\u001b[39m)\u001b[39m: \u001b[34mPending...\u001b[39m\n",
            "\u001b[3A\u001b[0J  \u001b[34;1m-\u001b[39;22m \u001b[39mInstalling \u001b[39m\u001b[36mjedi\u001b[39m\u001b[39m (\u001b[39m\u001b[39;1m0.19.2\u001b[39;22m\u001b[39m)\u001b[39m: \u001b[34mPending...\u001b[39m\n",
            "  \u001b[34;1m-\u001b[39;22m \u001b[39mDowngrading \u001b[39m\u001b[36mmatplotlib-inline\u001b[39m\u001b[39m (\u001b[39m\u001b[39;1m0.1.7\u001b[39;22m\u001b[39m -> \u001b[39m\u001b[39;1m0.1.6\u001b[39;22m\u001b[39m)\u001b[39m: \u001b[34mPending...\u001b[39m\n",
            "\u001b[2A\u001b[0J  \u001b[34;1m-\u001b[39;22m \u001b[39mInstalling \u001b[39m\u001b[36misoduration\u001b[39m\u001b[39m (\u001b[39m\u001b[39;1m20.11.0\u001b[39;22m\u001b[39m)\u001b[39m: \u001b[34mDownloading...\u001b[39m \u001b[39;1m0%\u001b[39;22m\n",
            "  \u001b[34;1m-\u001b[39;22m \u001b[39mInstalling \u001b[39m\u001b[36mjedi\u001b[39m\u001b[39m (\u001b[39m\u001b[39;1m0.19.2\u001b[39;22m\u001b[39m)\u001b[39m: \u001b[34mPending...\u001b[39m\n",
            "  \u001b[34;1m-\u001b[39;22m \u001b[39mDowngrading \u001b[39m\u001b[36mmatplotlib-inline\u001b[39m\u001b[39m (\u001b[39m\u001b[39;1m0.1.7\u001b[39;22m\u001b[39m -> \u001b[39m\u001b[39;1m0.1.6\u001b[39;22m\u001b[39m)\u001b[39m: \u001b[34mPending...\u001b[39m\n",
            "\u001b[5A\u001b[0J  \u001b[34;1m-\u001b[39;22m \u001b[39mInstalling \u001b[39m\u001b[36mfqdn\u001b[39m\u001b[39m (\u001b[39m\u001b[39;1m1.5.1\u001b[39;22m\u001b[39m)\u001b[39m: \u001b[34mPending...\u001b[39m\n",
            "  \u001b[34;1m-\u001b[39;22m \u001b[39mInstalling \u001b[39m\u001b[36misoduration\u001b[39m\u001b[39m (\u001b[39m\u001b[39;1m20.11.0\u001b[39;22m\u001b[39m)\u001b[39m: \u001b[34mDownloading...\u001b[39m \u001b[39;1m0%\u001b[39;22m\n",
            "  \u001b[34;1m-\u001b[39;22m \u001b[39mInstalling \u001b[39m\u001b[36mjedi\u001b[39m\u001b[39m (\u001b[39m\u001b[39;1m0.19.2\u001b[39;22m\u001b[39m)\u001b[39m: \u001b[34mPending...\u001b[39m\n",
            "  \u001b[34;1m-\u001b[39;22m \u001b[39mDowngrading \u001b[39m\u001b[36mmatplotlib-inline\u001b[39m\u001b[39m (\u001b[39m\u001b[39;1m0.1.7\u001b[39;22m\u001b[39m -> \u001b[39m\u001b[39;1m0.1.6\u001b[39;22m\u001b[39m)\u001b[39m: \u001b[34mPending...\u001b[39m\n",
            "\u001b[4A\u001b[0J  \u001b[34;1m-\u001b[39;22m \u001b[39mUpdating \u001b[39m\u001b[36mdecorator\u001b[39m\u001b[39m (\u001b[39m\u001b[39;1m4.4.2\u001b[39;22m\u001b[39m -> \u001b[39m\u001b[39;1m5.1.1\u001b[39;22m\u001b[39m)\u001b[39m: \u001b[34mDownloading...\u001b[39m \u001b[39;1m100%\u001b[39;22m\n",
            "  \u001b[34;1m-\u001b[39;22m \u001b[39mInstalling \u001b[39m\u001b[36mfqdn\u001b[39m\u001b[39m (\u001b[39m\u001b[39;1m1.5.1\u001b[39;22m\u001b[39m)\u001b[39m: \u001b[34mPending...\u001b[39m\n",
            "  \u001b[34;1m-\u001b[39;22m \u001b[39mInstalling \u001b[39m\u001b[36misoduration\u001b[39m\u001b[39m (\u001b[39m\u001b[39;1m20.11.0\u001b[39;22m\u001b[39m)\u001b[39m: \u001b[34mDownloading...\u001b[39m \u001b[39;1m0%\u001b[39;22m\n",
            "  \u001b[34;1m-\u001b[39;22m \u001b[39mInstalling \u001b[39m\u001b[36mjedi\u001b[39m\u001b[39m (\u001b[39m\u001b[39;1m0.19.2\u001b[39;22m\u001b[39m)\u001b[39m: \u001b[34mPending...\u001b[39m\n",
            "  \u001b[34;1m-\u001b[39;22m \u001b[39mDowngrading \u001b[39m\u001b[36mmatplotlib-inline\u001b[39m\u001b[39m (\u001b[39m\u001b[39;1m0.1.7\u001b[39;22m\u001b[39m -> \u001b[39m\u001b[39;1m0.1.6\u001b[39;22m\u001b[39m)\u001b[39m: \u001b[34mPending...\u001b[39m\n",
            "\u001b[4A\u001b[0J  \u001b[34;1m-\u001b[39;22m \u001b[39mInstalling \u001b[39m\u001b[36misoduration\u001b[39m\u001b[39m (\u001b[39m\u001b[39;1m20.11.0\u001b[39;22m\u001b[39m)\u001b[39m: \u001b[34mDownloading...\u001b[39m \u001b[39;1m0%\u001b[39;22m\n",
            "  \u001b[34;1m-\u001b[39;22m \u001b[39mInstalling \u001b[39m\u001b[36mjedi\u001b[39m\u001b[39m (\u001b[39m\u001b[39;1m0.19.2\u001b[39;22m\u001b[39m)\u001b[39m: \u001b[34mPending...\u001b[39m\n",
            "  \u001b[34;1m-\u001b[39;22m \u001b[39mDowngrading \u001b[39m\u001b[36mmatplotlib-inline\u001b[39m\u001b[39m (\u001b[39m\u001b[39;1m0.1.7\u001b[39;22m\u001b[39m -> \u001b[39m\u001b[39;1m0.1.6\u001b[39;22m\u001b[39m)\u001b[39m: \u001b[34mPending...\u001b[39m\n",
            "\u001b[3A\u001b[0J  \u001b[34;1m-\u001b[39;22m \u001b[39mInstalling \u001b[39m\u001b[36mfqdn\u001b[39m\u001b[39m (\u001b[39m\u001b[39;1m1.5.1\u001b[39;22m\u001b[39m)\u001b[39m: \u001b[34mDownloading...\u001b[39m \u001b[39;1m0%\u001b[39;22m\n",
            "  \u001b[34;1m-\u001b[39;22m \u001b[39mInstalling \u001b[39m\u001b[36misoduration\u001b[39m\u001b[39m (\u001b[39m\u001b[39;1m20.11.0\u001b[39;22m\u001b[39m)\u001b[39m: \u001b[34mDownloading...\u001b[39m \u001b[39;1m0%\u001b[39;22m\n",
            "  \u001b[34;1m-\u001b[39;22m \u001b[39mInstalling \u001b[39m\u001b[36mjedi\u001b[39m\u001b[39m (\u001b[39m\u001b[39;1m0.19.2\u001b[39;22m\u001b[39m)\u001b[39m: \u001b[34mPending...\u001b[39m\n",
            "  \u001b[34;1m-\u001b[39;22m \u001b[39mDowngrading \u001b[39m\u001b[36mmatplotlib-inline\u001b[39m\u001b[39m (\u001b[39m\u001b[39;1m0.1.7\u001b[39;22m\u001b[39m -> \u001b[39m\u001b[39;1m0.1.6\u001b[39;22m\u001b[39m)\u001b[39m: \u001b[34mPending...\u001b[39m\n",
            "\u001b[2A\u001b[0J  \u001b[34;1m-\u001b[39;22m \u001b[39mDowngrading \u001b[39m\u001b[36mmatplotlib-inline\u001b[39m\u001b[39m (\u001b[39m\u001b[39;1m0.1.7\u001b[39;22m\u001b[39m -> \u001b[39m\u001b[39;1m0.1.6\u001b[39;22m\u001b[39m)\u001b[39m: \u001b[34mPending...\u001b[39m\n",
            "\u001b[1A\u001b[0J  \u001b[34;1m-\u001b[39;22m \u001b[39mInstalling \u001b[39m\u001b[36mjedi\u001b[39m\u001b[39m (\u001b[39m\u001b[39;1m0.19.2\u001b[39;22m\u001b[39m)\u001b[39m: \u001b[34mDownloading...\u001b[39m \u001b[39;1m0%\u001b[39;22m\n",
            "  \u001b[34;1m-\u001b[39;22m \u001b[39mDowngrading \u001b[39m\u001b[36mmatplotlib-inline\u001b[39m\u001b[39m (\u001b[39m\u001b[39;1m0.1.7\u001b[39;22m\u001b[39m -> \u001b[39m\u001b[39;1m0.1.6\u001b[39;22m\u001b[39m)\u001b[39m: \u001b[34mPending...\u001b[39m\n",
            "\u001b[3A\u001b[0J  \u001b[34;1m-\u001b[39;22m \u001b[39mInstalling \u001b[39m\u001b[36mjedi\u001b[39m\u001b[39m (\u001b[39m\u001b[39;1m0.19.2\u001b[39;22m\u001b[39m)\u001b[39m: \u001b[34mDownloading...\u001b[39m \u001b[39;1m0%\u001b[39;22m\n",
            "  \u001b[34;1m-\u001b[39;22m \u001b[39mDowngrading \u001b[39m\u001b[36mmatplotlib-inline\u001b[39m\u001b[39m (\u001b[39m\u001b[39;1m0.1.7\u001b[39;22m\u001b[39m -> \u001b[39m\u001b[39;1m0.1.6\u001b[39;22m\u001b[39m)\u001b[39m: \u001b[34mPending...\u001b[39m\n",
            "\u001b[2A\u001b[0J  \u001b[34;1m-\u001b[39;22m \u001b[39mInstalling \u001b[39m\u001b[36misoduration\u001b[39m\u001b[39m (\u001b[39m\u001b[39;1m20.11.0\u001b[39;22m\u001b[39m)\u001b[39m: \u001b[34mDownloading...\u001b[39m \u001b[39;1m100%\u001b[39;22m\n",
            "  \u001b[34;1m-\u001b[39;22m \u001b[39mInstalling \u001b[39m\u001b[36mjedi\u001b[39m\u001b[39m (\u001b[39m\u001b[39;1m0.19.2\u001b[39;22m\u001b[39m)\u001b[39m: \u001b[34mDownloading...\u001b[39m \u001b[39;1m0%\u001b[39;22m\n",
            "  \u001b[34;1m-\u001b[39;22m \u001b[39mDowngrading \u001b[39m\u001b[36mmatplotlib-inline\u001b[39m\u001b[39m (\u001b[39m\u001b[39;1m0.1.7\u001b[39;22m\u001b[39m -> \u001b[39m\u001b[39;1m0.1.6\u001b[39;22m\u001b[39m)\u001b[39m: \u001b[34mPending...\u001b[39m\n",
            "\u001b[1A\u001b[0J  \u001b[34;1m-\u001b[39;22m \u001b[39mDowngrading \u001b[39m\u001b[36mmatplotlib-inline\u001b[39m\u001b[39m (\u001b[39m\u001b[39;1m0.1.7\u001b[39;22m\u001b[39m -> \u001b[39m\u001b[39;1m0.1.6\u001b[39;22m\u001b[39m)\u001b[39m: \u001b[34mDownloading...\u001b[39m \u001b[39;1m0%\u001b[39;22m\n",
            "\u001b[6A\u001b[0J  \u001b[34;1m-\u001b[39;22m \u001b[39mUpdating \u001b[39m\u001b[36mdecorator\u001b[39m\u001b[39m (\u001b[39m\u001b[39;1m4.4.2\u001b[39;22m\u001b[39m -> \u001b[39m\u001b[39;1m5.1.1\u001b[39;22m\u001b[39m)\u001b[39m: \u001b[34mDownloading...\u001b[39m \u001b[39;1m100%\u001b[39;22m\n",
            "  \u001b[34;1m-\u001b[39;22m \u001b[39mInstalling \u001b[39m\u001b[36mfqdn\u001b[39m\u001b[39m (\u001b[39m\u001b[39;1m1.5.1\u001b[39;22m\u001b[39m)\u001b[39m: \u001b[34mDownloading...\u001b[39m \u001b[39;1m0%\u001b[39;22m\n",
            "  \u001b[34;1m-\u001b[39;22m \u001b[39mInstalling \u001b[39m\u001b[36misoduration\u001b[39m\u001b[39m (\u001b[39m\u001b[39;1m20.11.0\u001b[39;22m\u001b[39m)\u001b[39m: \u001b[34mDownloading...\u001b[39m \u001b[39;1m100%\u001b[39;22m\n",
            "  \u001b[34;1m-\u001b[39;22m \u001b[39mInstalling \u001b[39m\u001b[36mjedi\u001b[39m\u001b[39m (\u001b[39m\u001b[39;1m0.19.2\u001b[39;22m\u001b[39m)\u001b[39m: \u001b[34mDownloading...\u001b[39m \u001b[39;1m0%\u001b[39;22m\n",
            "  \u001b[34;1m-\u001b[39;22m \u001b[39mDowngrading \u001b[39m\u001b[36mmatplotlib-inline\u001b[39m\u001b[39m (\u001b[39m\u001b[39;1m0.1.7\u001b[39;22m\u001b[39m -> \u001b[39m\u001b[39;1m0.1.6\u001b[39;22m\u001b[39m)\u001b[39m: \u001b[34mDownloading...\u001b[39m \u001b[39;1m0%\u001b[39;22m\n",
            "\u001b[5A\u001b[0J  \u001b[34;1m-\u001b[39;22m \u001b[39mDowngrading \u001b[39m\u001b[36manyio\u001b[39m\u001b[39m (\u001b[39m\u001b[39;1m4.9.0\u001b[39;22m\u001b[39m -> \u001b[39m\u001b[39;1m3.7.1\u001b[39;22m\u001b[39m)\u001b[39m: \u001b[34mDownloading...\u001b[39m \u001b[39;1m100%\u001b[39;22m\n",
            "  \u001b[34;1m-\u001b[39;22m \u001b[39mUpdating \u001b[39m\u001b[36mdecorator\u001b[39m\u001b[39m (\u001b[39m\u001b[39;1m4.4.2\u001b[39;22m\u001b[39m -> \u001b[39m\u001b[39;1m5.1.1\u001b[39;22m\u001b[39m)\u001b[39m: \u001b[34mDownloading...\u001b[39m \u001b[39;1m100%\u001b[39;22m\n",
            "  \u001b[34;1m-\u001b[39;22m \u001b[39mInstalling \u001b[39m\u001b[36mfqdn\u001b[39m\u001b[39m (\u001b[39m\u001b[39;1m1.5.1\u001b[39;22m\u001b[39m)\u001b[39m: \u001b[34mDownloading...\u001b[39m \u001b[39;1m0%\u001b[39;22m\n",
            "  \u001b[34;1m-\u001b[39;22m \u001b[39mInstalling \u001b[39m\u001b[36misoduration\u001b[39m\u001b[39m (\u001b[39m\u001b[39;1m20.11.0\u001b[39;22m\u001b[39m)\u001b[39m: \u001b[34mDownloading...\u001b[39m \u001b[39;1m100%\u001b[39;22m\n",
            "  \u001b[34;1m-\u001b[39;22m \u001b[39mInstalling \u001b[39m\u001b[36mjedi\u001b[39m\u001b[39m (\u001b[39m\u001b[39;1m0.19.2\u001b[39;22m\u001b[39m)\u001b[39m: \u001b[34mDownloading...\u001b[39m \u001b[39;1m0%\u001b[39;22m\n",
            "  \u001b[34;1m-\u001b[39;22m \u001b[39mDowngrading \u001b[39m\u001b[36mmatplotlib-inline\u001b[39m\u001b[39m (\u001b[39m\u001b[39;1m0.1.7\u001b[39;22m\u001b[39m -> \u001b[39m\u001b[39;1m0.1.6\u001b[39;22m\u001b[39m)\u001b[39m: \u001b[34mDownloading...\u001b[39m \u001b[39;1m0%\u001b[39;22m\n",
            "\u001b[5A\u001b[0J  \u001b[34;1m-\u001b[39;22m \u001b[39mInstalling \u001b[39m\u001b[36mfqdn\u001b[39m\u001b[39m (\u001b[39m\u001b[39;1m1.5.1\u001b[39;22m\u001b[39m)\u001b[39m: \u001b[34mDownloading...\u001b[39m \u001b[39;1m0%\u001b[39;22m\n",
            "  \u001b[34;1m-\u001b[39;22m \u001b[39mInstalling \u001b[39m\u001b[36misoduration\u001b[39m\u001b[39m (\u001b[39m\u001b[39;1m20.11.0\u001b[39;22m\u001b[39m)\u001b[39m: \u001b[34mDownloading...\u001b[39m \u001b[39;1m100%\u001b[39;22m\n",
            "  \u001b[34;1m-\u001b[39;22m \u001b[39mInstalling \u001b[39m\u001b[36mjedi\u001b[39m\u001b[39m (\u001b[39m\u001b[39;1m0.19.2\u001b[39;22m\u001b[39m)\u001b[39m: \u001b[34mDownloading...\u001b[39m \u001b[39;1m0%\u001b[39;22m\n",
            "  \u001b[34;1m-\u001b[39;22m \u001b[39mDowngrading \u001b[39m\u001b[36mmatplotlib-inline\u001b[39m\u001b[39m (\u001b[39m\u001b[39;1m0.1.7\u001b[39;22m\u001b[39m -> \u001b[39m\u001b[39;1m0.1.6\u001b[39;22m\u001b[39m)\u001b[39m: \u001b[34mDownloading...\u001b[39m \u001b[39;1m0%\u001b[39;22m\n",
            "\u001b[4A\u001b[0J  \u001b[34;1m-\u001b[39;22m \u001b[39mUpdating \u001b[39m\u001b[36mdecorator\u001b[39m\u001b[39m (\u001b[39m\u001b[39;1m4.4.2\u001b[39;22m\u001b[39m -> \u001b[39m\u001b[39;1m5.1.1\u001b[39;22m\u001b[39m)\u001b[39m: \u001b[34mInstalling...\u001b[39m\n",
            "  \u001b[34;1m-\u001b[39;22m \u001b[39mInstalling \u001b[39m\u001b[36mfqdn\u001b[39m\u001b[39m (\u001b[39m\u001b[39;1m1.5.1\u001b[39;22m\u001b[39m)\u001b[39m: \u001b[34mDownloading...\u001b[39m \u001b[39;1m0%\u001b[39;22m\n",
            "  \u001b[34;1m-\u001b[39;22m \u001b[39mInstalling \u001b[39m\u001b[36misoduration\u001b[39m\u001b[39m (\u001b[39m\u001b[39;1m20.11.0\u001b[39;22m\u001b[39m)\u001b[39m: \u001b[34mDownloading...\u001b[39m \u001b[39;1m100%\u001b[39;22m\n",
            "  \u001b[34;1m-\u001b[39;22m \u001b[39mInstalling \u001b[39m\u001b[36mjedi\u001b[39m\u001b[39m (\u001b[39m\u001b[39;1m0.19.2\u001b[39;22m\u001b[39m)\u001b[39m: \u001b[34mDownloading...\u001b[39m \u001b[39;1m0%\u001b[39;22m\n",
            "  \u001b[34;1m-\u001b[39;22m \u001b[39mDowngrading \u001b[39m\u001b[36mmatplotlib-inline\u001b[39m\u001b[39m (\u001b[39m\u001b[39;1m0.1.7\u001b[39;22m\u001b[39m -> \u001b[39m\u001b[39;1m0.1.6\u001b[39;22m\u001b[39m)\u001b[39m: \u001b[34mDownloading...\u001b[39m \u001b[39;1m0%\u001b[39;22m\n",
            "\u001b[3A\u001b[0J  \u001b[34;1m-\u001b[39;22m \u001b[39mInstalling \u001b[39m\u001b[36mjedi\u001b[39m\u001b[39m (\u001b[39m\u001b[39;1m0.19.2\u001b[39;22m\u001b[39m)\u001b[39m: \u001b[34mDownloading...\u001b[39m \u001b[39;1m0%\u001b[39;22m\n",
            "  \u001b[34;1m-\u001b[39;22m \u001b[39mDowngrading \u001b[39m\u001b[36mmatplotlib-inline\u001b[39m\u001b[39m (\u001b[39m\u001b[39;1m0.1.7\u001b[39;22m\u001b[39m -> \u001b[39m\u001b[39;1m0.1.6\u001b[39;22m\u001b[39m)\u001b[39m: \u001b[34mDownloading...\u001b[39m \u001b[39;1m0%\u001b[39;22m\n",
            "\u001b[2A\u001b[0J  \u001b[34;1m-\u001b[39;22m \u001b[39mInstalling \u001b[39m\u001b[36misoduration\u001b[39m\u001b[39m (\u001b[39m\u001b[39;1m20.11.0\u001b[39;22m\u001b[39m)\u001b[39m: \u001b[34mInstalling...\u001b[39m\n",
            "  \u001b[34;1m-\u001b[39;22m \u001b[39mInstalling \u001b[39m\u001b[36mjedi\u001b[39m\u001b[39m (\u001b[39m\u001b[39;1m0.19.2\u001b[39;22m\u001b[39m)\u001b[39m: \u001b[34mDownloading...\u001b[39m \u001b[39;1m0%\u001b[39;22m\n",
            "  \u001b[34;1m-\u001b[39;22m \u001b[39mDowngrading \u001b[39m\u001b[36mmatplotlib-inline\u001b[39m\u001b[39m (\u001b[39m\u001b[39;1m0.1.7\u001b[39;22m\u001b[39m -> \u001b[39m\u001b[39;1m0.1.6\u001b[39;22m\u001b[39m)\u001b[39m: \u001b[34mDownloading...\u001b[39m \u001b[39;1m0%\u001b[39;22m\n",
            "\u001b[1A\u001b[0J  \u001b[34;1m-\u001b[39;22m \u001b[39mDowngrading \u001b[39m\u001b[36mmatplotlib-inline\u001b[39m\u001b[39m (\u001b[39m\u001b[39;1m0.1.7\u001b[39;22m\u001b[39m -> \u001b[39m\u001b[39;1m0.1.6\u001b[39;22m\u001b[39m)\u001b[39m: \u001b[34mDownloading...\u001b[39m \u001b[39;1m100%\u001b[39;22m\n",
            "\u001b[4A\u001b[0J  \u001b[34;1m-\u001b[39;22m \u001b[39mInstalling \u001b[39m\u001b[36misoduration\u001b[39m\u001b[39m (\u001b[39m\u001b[39;1m20.11.0\u001b[39;22m\u001b[39m)\u001b[39m: \u001b[34mInstalling...\u001b[39m\n",
            "  \u001b[34;1m-\u001b[39;22m \u001b[39mInstalling \u001b[39m\u001b[36mjedi\u001b[39m\u001b[39m (\u001b[39m\u001b[39;1m0.19.2\u001b[39;22m\u001b[39m)\u001b[39m: \u001b[34mDownloading...\u001b[39m \u001b[39;1m0%\u001b[39;22m\n",
            "  \u001b[34;1m-\u001b[39;22m \u001b[39mDowngrading \u001b[39m\u001b[36mmatplotlib-inline\u001b[39m\u001b[39m (\u001b[39m\u001b[39;1m0.1.7\u001b[39;22m\u001b[39m -> \u001b[39m\u001b[39;1m0.1.6\u001b[39;22m\u001b[39m)\u001b[39m: \u001b[34mDownloading...\u001b[39m \u001b[39;1m100%\u001b[39;22m\n",
            "\u001b[3A\u001b[0J  \u001b[34;1m-\u001b[39;22m \u001b[39mInstalling \u001b[39m\u001b[36mfqdn\u001b[39m\u001b[39m (\u001b[39m\u001b[39;1m1.5.1\u001b[39;22m\u001b[39m)\u001b[39m: \u001b[34mDownloading...\u001b[39m \u001b[39;1m100%\u001b[39;22m\n",
            "  \u001b[34;1m-\u001b[39;22m \u001b[39mInstalling \u001b[39m\u001b[36misoduration\u001b[39m\u001b[39m (\u001b[39m\u001b[39;1m20.11.0\u001b[39;22m\u001b[39m)\u001b[39m: \u001b[34mInstalling...\u001b[39m\n",
            "  \u001b[34;1m-\u001b[39;22m \u001b[39mInstalling \u001b[39m\u001b[36mjedi\u001b[39m\u001b[39m (\u001b[39m\u001b[39;1m0.19.2\u001b[39;22m\u001b[39m)\u001b[39m: \u001b[34mDownloading...\u001b[39m \u001b[39;1m0%\u001b[39;22m\n",
            "  \u001b[34;1m-\u001b[39;22m \u001b[39mDowngrading \u001b[39m\u001b[36mmatplotlib-inline\u001b[39m\u001b[39m (\u001b[39m\u001b[39;1m0.1.7\u001b[39;22m\u001b[39m -> \u001b[39m\u001b[39;1m0.1.6\u001b[39;22m\u001b[39m)\u001b[39m: \u001b[34mDownloading...\u001b[39m \u001b[39;1m100%\u001b[39;22m\n",
            "\u001b[6A\u001b[0J  \u001b[34;1m-\u001b[39;22m \u001b[39mUpdating \u001b[39m\u001b[36mdecorator\u001b[39m\u001b[39m (\u001b[39m\u001b[39;1m4.4.2\u001b[39;22m\u001b[39m -> \u001b[39m\u001b[39;1m5.1.1\u001b[39;22m\u001b[39m)\u001b[39m: \u001b[34mInstalling...\u001b[39m\n",
            "  \u001b[34;1m-\u001b[39;22m \u001b[39mInstalling \u001b[39m\u001b[36mfqdn\u001b[39m\u001b[39m (\u001b[39m\u001b[39;1m1.5.1\u001b[39;22m\u001b[39m)\u001b[39m: \u001b[34mDownloading...\u001b[39m \u001b[39;1m100%\u001b[39;22m\n",
            "  \u001b[34;1m-\u001b[39;22m \u001b[39mInstalling \u001b[39m\u001b[36misoduration\u001b[39m\u001b[39m (\u001b[39m\u001b[39;1m20.11.0\u001b[39;22m\u001b[39m)\u001b[39m: \u001b[34mInstalling...\u001b[39m\n",
            "  \u001b[34;1m-\u001b[39;22m \u001b[39mInstalling \u001b[39m\u001b[36mjedi\u001b[39m\u001b[39m (\u001b[39m\u001b[39;1m0.19.2\u001b[39;22m\u001b[39m)\u001b[39m: \u001b[34mDownloading...\u001b[39m \u001b[39;1m0%\u001b[39;22m\n",
            "  \u001b[34;1m-\u001b[39;22m \u001b[39mDowngrading \u001b[39m\u001b[36mmatplotlib-inline\u001b[39m\u001b[39m (\u001b[39m\u001b[39;1m0.1.7\u001b[39;22m\u001b[39m -> \u001b[39m\u001b[39;1m0.1.6\u001b[39;22m\u001b[39m)\u001b[39m: \u001b[34mDownloading...\u001b[39m \u001b[39;1m100%\u001b[39;22m\n",
            "\u001b[5A\u001b[0J  \u001b[34;1m-\u001b[39;22m \u001b[39mDowngrading \u001b[39m\u001b[36manyio\u001b[39m\u001b[39m (\u001b[39m\u001b[39;1m4.9.0\u001b[39;22m\u001b[39m -> \u001b[39m\u001b[39;1m3.7.1\u001b[39;22m\u001b[39m)\u001b[39m: \u001b[34mInstalling...\u001b[39m\n",
            "  \u001b[34;1m-\u001b[39;22m \u001b[39mUpdating \u001b[39m\u001b[36mdecorator\u001b[39m\u001b[39m (\u001b[39m\u001b[39;1m4.4.2\u001b[39;22m\u001b[39m -> \u001b[39m\u001b[39;1m5.1.1\u001b[39;22m\u001b[39m)\u001b[39m: \u001b[34mInstalling...\u001b[39m\n",
            "  \u001b[34;1m-\u001b[39;22m \u001b[39mInstalling \u001b[39m\u001b[36mfqdn\u001b[39m\u001b[39m (\u001b[39m\u001b[39;1m1.5.1\u001b[39;22m\u001b[39m)\u001b[39m: \u001b[34mDownloading...\u001b[39m \u001b[39;1m100%\u001b[39;22m\n",
            "  \u001b[34;1m-\u001b[39;22m \u001b[39mInstalling \u001b[39m\u001b[36misoduration\u001b[39m\u001b[39m (\u001b[39m\u001b[39;1m20.11.0\u001b[39;22m\u001b[39m)\u001b[39m: \u001b[34mInstalling...\u001b[39m\n",
            "  \u001b[34;1m-\u001b[39;22m \u001b[39mInstalling \u001b[39m\u001b[36mjedi\u001b[39m\u001b[39m (\u001b[39m\u001b[39;1m0.19.2\u001b[39;22m\u001b[39m)\u001b[39m: \u001b[34mDownloading...\u001b[39m \u001b[39;1m0%\u001b[39;22m\n",
            "  \u001b[34;1m-\u001b[39;22m \u001b[39mDowngrading \u001b[39m\u001b[36mmatplotlib-inline\u001b[39m\u001b[39m (\u001b[39m\u001b[39;1m0.1.7\u001b[39;22m\u001b[39m -> \u001b[39m\u001b[39;1m0.1.6\u001b[39;22m\u001b[39m)\u001b[39m: \u001b[34mDownloading...\u001b[39m \u001b[39;1m100%\u001b[39;22m\n",
            "\u001b[4A\u001b[0J  \u001b[34;1m-\u001b[39;22m \u001b[39mInstalling \u001b[39m\u001b[36misoduration\u001b[39m\u001b[39m (\u001b[39m\u001b[39;1m20.11.0\u001b[39;22m\u001b[39m)\u001b[39m: \u001b[34mInstalling...\u001b[39m\n",
            "  \u001b[34;1m-\u001b[39;22m \u001b[39mInstalling \u001b[39m\u001b[36mjedi\u001b[39m\u001b[39m (\u001b[39m\u001b[39;1m0.19.2\u001b[39;22m\u001b[39m)\u001b[39m: \u001b[34mDownloading...\u001b[39m \u001b[39;1m0%\u001b[39;22m\n",
            "  \u001b[34;1m-\u001b[39;22m \u001b[39mDowngrading \u001b[39m\u001b[36mmatplotlib-inline\u001b[39m\u001b[39m (\u001b[39m\u001b[39;1m0.1.7\u001b[39;22m\u001b[39m -> \u001b[39m\u001b[39;1m0.1.6\u001b[39;22m\u001b[39m)\u001b[39m: \u001b[34mDownloading...\u001b[39m \u001b[39;1m100%\u001b[39;22m\n",
            "\u001b[3A\u001b[0J  \u001b[34;1m-\u001b[39;22m \u001b[39mInstalling \u001b[39m\u001b[36mfqdn\u001b[39m\u001b[39m (\u001b[39m\u001b[39;1m1.5.1\u001b[39;22m\u001b[39m)\u001b[39m: \u001b[34mInstalling...\u001b[39m\n",
            "  \u001b[34;1m-\u001b[39;22m \u001b[39mInstalling \u001b[39m\u001b[36misoduration\u001b[39m\u001b[39m (\u001b[39m\u001b[39;1m20.11.0\u001b[39;22m\u001b[39m)\u001b[39m: \u001b[34mInstalling...\u001b[39m\n",
            "  \u001b[34;1m-\u001b[39;22m \u001b[39mInstalling \u001b[39m\u001b[36mjedi\u001b[39m\u001b[39m (\u001b[39m\u001b[39;1m0.19.2\u001b[39;22m\u001b[39m)\u001b[39m: \u001b[34mDownloading...\u001b[39m \u001b[39;1m0%\u001b[39;22m\n",
            "  \u001b[34;1m-\u001b[39;22m \u001b[39mDowngrading \u001b[39m\u001b[36mmatplotlib-inline\u001b[39m\u001b[39m (\u001b[39m\u001b[39;1m0.1.7\u001b[39;22m\u001b[39m -> \u001b[39m\u001b[39;1m0.1.6\u001b[39;22m\u001b[39m)\u001b[39m: \u001b[34mDownloading...\u001b[39m \u001b[39;1m100%\u001b[39;22m\n",
            "\u001b[1A\u001b[0J  \u001b[34;1m-\u001b[39;22m \u001b[39mDowngrading \u001b[39m\u001b[36mmatplotlib-inline\u001b[39m\u001b[39m (\u001b[39m\u001b[39;1m0.1.7\u001b[39;22m\u001b[39m -> \u001b[39m\u001b[39;1m0.1.6\u001b[39;22m\u001b[39m)\u001b[39m: \u001b[34mInstalling...\u001b[39m\n",
            "\u001b[3A\u001b[0J  \u001b[34;1m-\u001b[39;22m \u001b[39mInstalling \u001b[39m\u001b[36mjedi\u001b[39m\u001b[39m (\u001b[39m\u001b[39;1m0.19.2\u001b[39;22m\u001b[39m)\u001b[39m: \u001b[34mDownloading...\u001b[39m \u001b[39;1m0%\u001b[39;22m\n",
            "  \u001b[34;1m-\u001b[39;22m \u001b[39mDowngrading \u001b[39m\u001b[36mmatplotlib-inline\u001b[39m\u001b[39m (\u001b[39m\u001b[39;1m0.1.7\u001b[39;22m\u001b[39m -> \u001b[39m\u001b[39;1m0.1.6\u001b[39;22m\u001b[39m)\u001b[39m: \u001b[34mInstalling...\u001b[39m\n",
            "\u001b[2A\u001b[0J  \u001b[32;1m-\u001b[39;22m \u001b[39mInstalling \u001b[39m\u001b[36misoduration\u001b[39m\u001b[39m (\u001b[39m\u001b[32m20.11.0\u001b[39m\u001b[39m)\u001b[39m\n",
            "  \u001b[34;1m-\u001b[39;22m \u001b[39mInstalling \u001b[39m\u001b[36mjedi\u001b[39m\u001b[39m (\u001b[39m\u001b[39;1m0.19.2\u001b[39;22m\u001b[39m)\u001b[39m: \u001b[34mDownloading...\u001b[39m \u001b[39;1m0%\u001b[39;22m\n",
            "  \u001b[34;1m-\u001b[39;22m \u001b[39mDowngrading \u001b[39m\u001b[36mmatplotlib-inline\u001b[39m\u001b[39m (\u001b[39m\u001b[39;1m0.1.7\u001b[39;22m\u001b[39m -> \u001b[39m\u001b[39;1m0.1.6\u001b[39;22m\u001b[39m)\u001b[39m: \u001b[34mInstalling...\u001b[39m\n",
            "  \u001b[34;1m-\u001b[39;22m \u001b[39mDowngrading \u001b[39m\u001b[36mnbconvert\u001b[39m\u001b[39m (\u001b[39m\u001b[39;1m7.16.6\u001b[39;22m\u001b[39m -> \u001b[39m\u001b[39;1m7.6.0\u001b[39;22m\u001b[39m)\u001b[39m: \u001b[34mPending...\u001b[39m\n",
            "\u001b[5A\u001b[0J  \u001b[32;1m-\u001b[39;22m \u001b[39mInstalling \u001b[39m\u001b[36misoduration\u001b[39m\u001b[39m (\u001b[39m\u001b[32m20.11.0\u001b[39m\u001b[39m)\u001b[39m\n",
            "  \u001b[34;1m-\u001b[39;22m \u001b[39mInstalling \u001b[39m\u001b[36mjedi\u001b[39m\u001b[39m (\u001b[39m\u001b[39;1m0.19.2\u001b[39;22m\u001b[39m)\u001b[39m: \u001b[34mDownloading...\u001b[39m \u001b[39;1m0%\u001b[39;22m\n",
            "  \u001b[34;1m-\u001b[39;22m \u001b[39mDowngrading \u001b[39m\u001b[36mmatplotlib-inline\u001b[39m\u001b[39m (\u001b[39m\u001b[39;1m0.1.7\u001b[39;22m\u001b[39m -> \u001b[39m\u001b[39;1m0.1.6\u001b[39;22m\u001b[39m)\u001b[39m: \u001b[34mInstalling...\u001b[39m\n",
            "  \u001b[34;1m-\u001b[39;22m \u001b[39mDowngrading \u001b[39m\u001b[36mnbconvert\u001b[39m\u001b[39m (\u001b[39m\u001b[39;1m7.16.6\u001b[39;22m\u001b[39m -> \u001b[39m\u001b[39;1m7.6.0\u001b[39;22m\u001b[39m)\u001b[39m: \u001b[34mPending...\u001b[39m\n",
            "\u001b[4A\u001b[0J  \u001b[32;1m-\u001b[39;22m \u001b[39mInstalling \u001b[39m\u001b[36mfqdn\u001b[39m\u001b[39m (\u001b[39m\u001b[32m1.5.1\u001b[39m\u001b[39m)\u001b[39m\n",
            "  \u001b[32;1m-\u001b[39;22m \u001b[39mInstalling \u001b[39m\u001b[36misoduration\u001b[39m\u001b[39m (\u001b[39m\u001b[32m20.11.0\u001b[39m\u001b[39m)\u001b[39m\n",
            "  \u001b[34;1m-\u001b[39;22m \u001b[39mInstalling \u001b[39m\u001b[36mjedi\u001b[39m\u001b[39m (\u001b[39m\u001b[39;1m0.19.2\u001b[39;22m\u001b[39m)\u001b[39m: \u001b[34mDownloading...\u001b[39m \u001b[39;1m0%\u001b[39;22m\n",
            "  \u001b[34;1m-\u001b[39;22m \u001b[39mDowngrading \u001b[39m\u001b[36mmatplotlib-inline\u001b[39m\u001b[39m (\u001b[39m\u001b[39;1m0.1.7\u001b[39;22m\u001b[39m -> \u001b[39m\u001b[39;1m0.1.6\u001b[39;22m\u001b[39m)\u001b[39m: \u001b[34mInstalling...\u001b[39m\n",
            "  \u001b[34;1m-\u001b[39;22m \u001b[39mDowngrading \u001b[39m\u001b[36mnbconvert\u001b[39m\u001b[39m (\u001b[39m\u001b[39;1m7.16.6\u001b[39;22m\u001b[39m -> \u001b[39m\u001b[39;1m7.6.0\u001b[39;22m\u001b[39m)\u001b[39m: \u001b[34mPending...\u001b[39m\n",
            "  \u001b[34;1m-\u001b[39;22m \u001b[39mDowngrading \u001b[39m\u001b[36mprometheus-client\u001b[39m\u001b[39m (\u001b[39m\u001b[39;1m0.21.1\u001b[39;22m\u001b[39m -> \u001b[39m\u001b[39;1m0.17.1\u001b[39;22m\u001b[39m)\u001b[39m: \u001b[34mPending...\u001b[39m\n",
            "\u001b[4A\u001b[0J  \u001b[34;1m-\u001b[39;22m \u001b[39mDowngrading \u001b[39m\u001b[36mmatplotlib-inline\u001b[39m\u001b[39m (\u001b[39m\u001b[39;1m0.1.7\u001b[39;22m\u001b[39m -> \u001b[39m\u001b[39;1m0.1.6\u001b[39;22m\u001b[39m)\u001b[39m: \u001b[34mInstalling...\u001b[39m\n",
            "  \u001b[34;1m-\u001b[39;22m \u001b[39mDowngrading \u001b[39m\u001b[36mnbconvert\u001b[39m\u001b[39m (\u001b[39m\u001b[39;1m7.16.6\u001b[39;22m\u001b[39m -> \u001b[39m\u001b[39;1m7.6.0\u001b[39;22m\u001b[39m)\u001b[39m: \u001b[34mPending...\u001b[39m\n",
            "  \u001b[34;1m-\u001b[39;22m \u001b[39mDowngrading \u001b[39m\u001b[36mprometheus-client\u001b[39m\u001b[39m (\u001b[39m\u001b[39;1m0.21.1\u001b[39;22m\u001b[39m -> \u001b[39m\u001b[39;1m0.17.1\u001b[39;22m\u001b[39m)\u001b[39m: \u001b[34mPending...\u001b[39m\n",
            "\u001b[3A\u001b[0J  \u001b[34;1m-\u001b[39;22m \u001b[39mInstalling \u001b[39m\u001b[36mjedi\u001b[39m\u001b[39m (\u001b[39m\u001b[39;1m0.19.2\u001b[39;22m\u001b[39m)\u001b[39m: \u001b[34mDownloading...\u001b[39m \u001b[39;1m80%\u001b[39;22m\n",
            "  \u001b[34;1m-\u001b[39;22m \u001b[39mDowngrading \u001b[39m\u001b[36mmatplotlib-inline\u001b[39m\u001b[39m (\u001b[39m\u001b[39;1m0.1.7\u001b[39;22m\u001b[39m -> \u001b[39m\u001b[39;1m0.1.6\u001b[39;22m\u001b[39m)\u001b[39m: \u001b[34mInstalling...\u001b[39m\n",
            "  \u001b[34;1m-\u001b[39;22m \u001b[39mDowngrading \u001b[39m\u001b[36mnbconvert\u001b[39m\u001b[39m (\u001b[39m\u001b[39;1m7.16.6\u001b[39;22m\u001b[39m -> \u001b[39m\u001b[39;1m7.6.0\u001b[39;22m\u001b[39m)\u001b[39m: \u001b[34mPending...\u001b[39m\n",
            "  \u001b[34;1m-\u001b[39;22m \u001b[39mDowngrading \u001b[39m\u001b[36mprometheus-client\u001b[39m\u001b[39m (\u001b[39m\u001b[39;1m0.21.1\u001b[39;22m\u001b[39m -> \u001b[39m\u001b[39;1m0.17.1\u001b[39;22m\u001b[39m)\u001b[39m: \u001b[34mPending...\u001b[39m\n",
            "\u001b[1A\u001b[0J  \u001b[34;1m-\u001b[39;22m \u001b[39mDowngrading \u001b[39m\u001b[36mprometheus-client\u001b[39m\u001b[39m (\u001b[39m\u001b[39;1m0.21.1\u001b[39;22m\u001b[39m -> \u001b[39m\u001b[39;1m0.17.1\u001b[39;22m\u001b[39m)\u001b[39m: \u001b[34mDownloading...\u001b[39m \u001b[39;1m0%\u001b[39;22m\n",
            "\u001b[1A\u001b[0J  \u001b[34;1m-\u001b[39;22m \u001b[39mDowngrading \u001b[39m\u001b[36mprometheus-client\u001b[39m\u001b[39m (\u001b[39m\u001b[39;1m0.21.1\u001b[39;22m\u001b[39m -> \u001b[39m\u001b[39;1m0.17.1\u001b[39;22m\u001b[39m)\u001b[39m: \u001b[34mDownloading...\u001b[39m \u001b[39;1m100%\u001b[39;22m\n",
            "\u001b[2A\u001b[0J  \u001b[34;1m-\u001b[39;22m \u001b[39mDowngrading \u001b[39m\u001b[36mprometheus-client\u001b[39m\u001b[39m (\u001b[39m\u001b[39;1m0.21.1\u001b[39;22m\u001b[39m -> \u001b[39m\u001b[39;1m0.17.1\u001b[39;22m\u001b[39m)\u001b[39m: \u001b[34mDownloading...\u001b[39m \u001b[39;1m100%\u001b[39;22m\n",
            "\u001b[1A\u001b[0J  \u001b[34;1m-\u001b[39;22m \u001b[39mDowngrading \u001b[39m\u001b[36mnbconvert\u001b[39m\u001b[39m (\u001b[39m\u001b[39;1m7.16.6\u001b[39;22m\u001b[39m -> \u001b[39m\u001b[39;1m7.6.0\u001b[39;22m\u001b[39m)\u001b[39m: \u001b[34mDownloading...\u001b[39m \u001b[39;1m0%\u001b[39;22m\n",
            "  \u001b[34;1m-\u001b[39;22m \u001b[39mDowngrading \u001b[39m\u001b[36mprometheus-client\u001b[39m\u001b[39m (\u001b[39m\u001b[39;1m0.21.1\u001b[39;22m\u001b[39m -> \u001b[39m\u001b[39;1m0.17.1\u001b[39;22m\u001b[39m)\u001b[39m: \u001b[34mDownloading...\u001b[39m \u001b[39;1m100%\u001b[39;22m\n",
            "\u001b[1A\u001b[0J  \u001b[34;1m-\u001b[39;22m \u001b[39mDowngrading \u001b[39m\u001b[36mprometheus-client\u001b[39m\u001b[39m (\u001b[39m\u001b[39;1m0.21.1\u001b[39;22m\u001b[39m -> \u001b[39m\u001b[39;1m0.17.1\u001b[39;22m\u001b[39m)\u001b[39m: \u001b[34mInstalling...\u001b[39m\n",
            "\u001b[2A\u001b[0J  \u001b[34;1m-\u001b[39;22m \u001b[39mDowngrading \u001b[39m\u001b[36mprometheus-client\u001b[39m\u001b[39m (\u001b[39m\u001b[39;1m0.21.1\u001b[39;22m\u001b[39m -> \u001b[39m\u001b[39;1m0.17.1\u001b[39;22m\u001b[39m)\u001b[39m: \u001b[34mInstalling...\u001b[39m\n",
            "\u001b[1A\u001b[0J  \u001b[34;1m-\u001b[39;22m \u001b[39mDowngrading \u001b[39m\u001b[36mnbconvert\u001b[39m\u001b[39m (\u001b[39m\u001b[39;1m7.16.6\u001b[39;22m\u001b[39m -> \u001b[39m\u001b[39;1m7.6.0\u001b[39;22m\u001b[39m)\u001b[39m: \u001b[34mDownloading...\u001b[39m \u001b[39;1m100%\u001b[39;22m\n",
            "  \u001b[34;1m-\u001b[39;22m \u001b[39mDowngrading \u001b[39m\u001b[36mprometheus-client\u001b[39m\u001b[39m (\u001b[39m\u001b[39;1m0.21.1\u001b[39;22m\u001b[39m -> \u001b[39m\u001b[39;1m0.17.1\u001b[39;22m\u001b[39m)\u001b[39m: \u001b[34mInstalling...\u001b[39m\n",
            "\u001b[4A\u001b[0J  \u001b[34;1m-\u001b[39;22m \u001b[39mDowngrading \u001b[39m\u001b[36mmatplotlib-inline\u001b[39m\u001b[39m (\u001b[39m\u001b[39;1m0.1.7\u001b[39;22m\u001b[39m -> \u001b[39m\u001b[39;1m0.1.6\u001b[39;22m\u001b[39m)\u001b[39m: \u001b[34mInstalling...\u001b[39m\n",
            "  \u001b[34;1m-\u001b[39;22m \u001b[39mDowngrading \u001b[39m\u001b[36mnbconvert\u001b[39m\u001b[39m (\u001b[39m\u001b[39;1m7.16.6\u001b[39;22m\u001b[39m -> \u001b[39m\u001b[39;1m7.6.0\u001b[39;22m\u001b[39m)\u001b[39m: \u001b[34mDownloading...\u001b[39m \u001b[39;1m100%\u001b[39;22m\n",
            "  \u001b[34;1m-\u001b[39;22m \u001b[39mDowngrading \u001b[39m\u001b[36mprometheus-client\u001b[39m\u001b[39m (\u001b[39m\u001b[39;1m0.21.1\u001b[39;22m\u001b[39m -> \u001b[39m\u001b[39;1m0.17.1\u001b[39;22m\u001b[39m)\u001b[39m: \u001b[34mInstalling...\u001b[39m\n",
            "\u001b[3A\u001b[0J  \u001b[34;1m-\u001b[39;22m \u001b[39mInstalling \u001b[39m\u001b[36mjedi\u001b[39m\u001b[39m (\u001b[39m\u001b[39;1m0.19.2\u001b[39;22m\u001b[39m)\u001b[39m: \u001b[34mDownloading...\u001b[39m \u001b[39;1m100%\u001b[39;22m\n",
            "  \u001b[34;1m-\u001b[39;22m \u001b[39mDowngrading \u001b[39m\u001b[36mmatplotlib-inline\u001b[39m\u001b[39m (\u001b[39m\u001b[39;1m0.1.7\u001b[39;22m\u001b[39m -> \u001b[39m\u001b[39;1m0.1.6\u001b[39;22m\u001b[39m)\u001b[39m: \u001b[34mInstalling...\u001b[39m\n",
            "  \u001b[34;1m-\u001b[39;22m \u001b[39mDowngrading \u001b[39m\u001b[36mnbconvert\u001b[39m\u001b[39m (\u001b[39m\u001b[39;1m7.16.6\u001b[39;22m\u001b[39m -> \u001b[39m\u001b[39;1m7.6.0\u001b[39;22m\u001b[39m)\u001b[39m: \u001b[34mDownloading...\u001b[39m \u001b[39;1m100%\u001b[39;22m\n",
            "  \u001b[34;1m-\u001b[39;22m \u001b[39mDowngrading \u001b[39m\u001b[36mprometheus-client\u001b[39m\u001b[39m (\u001b[39m\u001b[39;1m0.21.1\u001b[39;22m\u001b[39m -> \u001b[39m\u001b[39;1m0.17.1\u001b[39;22m\u001b[39m)\u001b[39m: \u001b[34mInstalling...\u001b[39m\n",
            "\u001b[2A\u001b[0J  \u001b[34;1m-\u001b[39;22m \u001b[39mDowngrading \u001b[39m\u001b[36mprometheus-client\u001b[39m\u001b[39m (\u001b[39m\u001b[39;1m0.21.1\u001b[39;22m\u001b[39m -> \u001b[39m\u001b[39;1m0.17.1\u001b[39;22m\u001b[39m)\u001b[39m: \u001b[34mInstalling...\u001b[39m\n",
            "\u001b[1A\u001b[0J  \u001b[34;1m-\u001b[39;22m \u001b[39mDowngrading \u001b[39m\u001b[36mnbconvert\u001b[39m\u001b[39m (\u001b[39m\u001b[39;1m7.16.6\u001b[39;22m\u001b[39m -> \u001b[39m\u001b[39;1m7.6.0\u001b[39;22m\u001b[39m)\u001b[39m: \u001b[34mInstalling...\u001b[39m\n",
            "  \u001b[34;1m-\u001b[39;22m \u001b[39mDowngrading \u001b[39m\u001b[36mprometheus-client\u001b[39m\u001b[39m (\u001b[39m\u001b[39;1m0.21.1\u001b[39;22m\u001b[39m -> \u001b[39m\u001b[39;1m0.17.1\u001b[39;22m\u001b[39m)\u001b[39m: \u001b[34mInstalling...\u001b[39m\n",
            "\u001b[4A\u001b[0J  \u001b[34;1m-\u001b[39;22m \u001b[39mDowngrading \u001b[39m\u001b[36mmatplotlib-inline\u001b[39m\u001b[39m (\u001b[39m\u001b[39;1m0.1.7\u001b[39;22m\u001b[39m -> \u001b[39m\u001b[39;1m0.1.6\u001b[39;22m\u001b[39m)\u001b[39m: \u001b[34mInstalling...\u001b[39m\n",
            "  \u001b[34;1m-\u001b[39;22m \u001b[39mDowngrading \u001b[39m\u001b[36mnbconvert\u001b[39m\u001b[39m (\u001b[39m\u001b[39;1m7.16.6\u001b[39;22m\u001b[39m -> \u001b[39m\u001b[39;1m7.6.0\u001b[39;22m\u001b[39m)\u001b[39m: \u001b[34mInstalling...\u001b[39m\n",
            "  \u001b[34;1m-\u001b[39;22m \u001b[39mDowngrading \u001b[39m\u001b[36mprometheus-client\u001b[39m\u001b[39m (\u001b[39m\u001b[39;1m0.21.1\u001b[39;22m\u001b[39m -> \u001b[39m\u001b[39;1m0.17.1\u001b[39;22m\u001b[39m)\u001b[39m: \u001b[34mInstalling...\u001b[39m\n",
            "\u001b[3A\u001b[0J  \u001b[34;1m-\u001b[39;22m \u001b[39mInstalling \u001b[39m\u001b[36mjedi\u001b[39m\u001b[39m (\u001b[39m\u001b[39;1m0.19.2\u001b[39;22m\u001b[39m)\u001b[39m: \u001b[34mInstalling...\u001b[39m\n",
            "  \u001b[34;1m-\u001b[39;22m \u001b[39mDowngrading \u001b[39m\u001b[36mmatplotlib-inline\u001b[39m\u001b[39m (\u001b[39m\u001b[39;1m0.1.7\u001b[39;22m\u001b[39m -> \u001b[39m\u001b[39;1m0.1.6\u001b[39;22m\u001b[39m)\u001b[39m: \u001b[34mInstalling...\u001b[39m\n",
            "  \u001b[34;1m-\u001b[39;22m \u001b[39mDowngrading \u001b[39m\u001b[36mnbconvert\u001b[39m\u001b[39m (\u001b[39m\u001b[39;1m7.16.6\u001b[39;22m\u001b[39m -> \u001b[39m\u001b[39;1m7.6.0\u001b[39;22m\u001b[39m)\u001b[39m: \u001b[34mInstalling...\u001b[39m\n",
            "  \u001b[34;1m-\u001b[39;22m \u001b[39mDowngrading \u001b[39m\u001b[36mprometheus-client\u001b[39m\u001b[39m (\u001b[39m\u001b[39;1m0.21.1\u001b[39;22m\u001b[39m -> \u001b[39m\u001b[39;1m0.17.1\u001b[39;22m\u001b[39m)\u001b[39m: \u001b[34mInstalling...\u001b[39m\n",
            "\u001b[4A\u001b[0J  \u001b[34;1m-\u001b[39;22m \u001b[39mDowngrading \u001b[39m\u001b[36mmatplotlib-inline\u001b[39m\u001b[39m (\u001b[39m\u001b[39;1m0.1.7\u001b[39;22m\u001b[39m -> \u001b[39m\u001b[39;1m0.1.6\u001b[39;22m\u001b[39m)\u001b[39m: \u001b[34mInstalling...\u001b[39m\n",
            "  \u001b[34;1m-\u001b[39;22m \u001b[39mDowngrading \u001b[39m\u001b[36mnbconvert\u001b[39m\u001b[39m (\u001b[39m\u001b[39;1m7.16.6\u001b[39;22m\u001b[39m -> \u001b[39m\u001b[39;1m7.6.0\u001b[39;22m\u001b[39m)\u001b[39m: \u001b[34mInstalling...\u001b[39m\n",
            "  \u001b[34;1m-\u001b[39;22m \u001b[39mDowngrading \u001b[39m\u001b[36mprometheus-client\u001b[39m\u001b[39m (\u001b[39m\u001b[39;1m0.21.1\u001b[39;22m\u001b[39m -> \u001b[39m\u001b[39;1m0.17.1\u001b[39;22m\u001b[39m)\u001b[39m: \u001b[34mInstalling...\u001b[39m\n",
            "\u001b[3A\u001b[0J  \u001b[32;1m-\u001b[39;22m \u001b[39mInstalling \u001b[39m\u001b[36mjedi\u001b[39m\u001b[39m (\u001b[39m\u001b[32m0.19.2\u001b[39m\u001b[39m)\u001b[39m\n",
            "  \u001b[34;1m-\u001b[39;22m \u001b[39mDowngrading \u001b[39m\u001b[36mmatplotlib-inline\u001b[39m\u001b[39m (\u001b[39m\u001b[39;1m0.1.7\u001b[39;22m\u001b[39m -> \u001b[39m\u001b[39;1m0.1.6\u001b[39;22m\u001b[39m)\u001b[39m: \u001b[34mInstalling...\u001b[39m\n",
            "  \u001b[34;1m-\u001b[39;22m \u001b[39mDowngrading \u001b[39m\u001b[36mnbconvert\u001b[39m\u001b[39m (\u001b[39m\u001b[39;1m7.16.6\u001b[39;22m\u001b[39m -> \u001b[39m\u001b[39;1m7.6.0\u001b[39;22m\u001b[39m)\u001b[39m: \u001b[34mInstalling...\u001b[39m\n",
            "  \u001b[34;1m-\u001b[39;22m \u001b[39mDowngrading \u001b[39m\u001b[36mprometheus-client\u001b[39m\u001b[39m (\u001b[39m\u001b[39;1m0.21.1\u001b[39;22m\u001b[39m -> \u001b[39m\u001b[39;1m0.17.1\u001b[39;22m\u001b[39m)\u001b[39m: \u001b[34mInstalling...\u001b[39m\n",
            "  \u001b[34;1m-\u001b[39;22m \u001b[39mDowngrading \u001b[39m\u001b[36mprompt-toolkit\u001b[39m\u001b[39m (\u001b[39m\u001b[39;1m3.0.51\u001b[39;22m\u001b[39m -> \u001b[39m\u001b[39;1m3.0.48\u001b[39;22m\u001b[39m)\u001b[39m: \u001b[34mPending...\u001b[39m\n",
            "\u001b[1A\u001b[0J  \u001b[34;1m-\u001b[39;22m \u001b[39mDowngrading \u001b[39m\u001b[36mprompt-toolkit\u001b[39m\u001b[39m (\u001b[39m\u001b[39;1m3.0.51\u001b[39;22m\u001b[39m -> \u001b[39m\u001b[39;1m3.0.48\u001b[39;22m\u001b[39m)\u001b[39m: \u001b[34mDownloading...\u001b[39m \u001b[39;1m0%\u001b[39;22m\n",
            "\u001b[1A\u001b[0J  \u001b[34;1m-\u001b[39;22m \u001b[39mDowngrading \u001b[39m\u001b[36mprompt-toolkit\u001b[39m\u001b[39m (\u001b[39m\u001b[39;1m3.0.51\u001b[39;22m\u001b[39m -> \u001b[39m\u001b[39;1m3.0.48\u001b[39;22m\u001b[39m)\u001b[39m: \u001b[34mDownloading...\u001b[39m \u001b[39;1m100%\u001b[39;22m\n",
            "\u001b[1A\u001b[0J  \u001b[34;1m-\u001b[39;22m \u001b[39mDowngrading \u001b[39m\u001b[36mprompt-toolkit\u001b[39m\u001b[39m (\u001b[39m\u001b[39;1m3.0.51\u001b[39;22m\u001b[39m -> \u001b[39m\u001b[39;1m3.0.48\u001b[39;22m\u001b[39m)\u001b[39m: \u001b[34mInstalling...\u001b[39m\n",
            "\u001b[2A\u001b[0J  \u001b[34;1m-\u001b[39;22m \u001b[39mDowngrading \u001b[39m\u001b[36mprompt-toolkit\u001b[39m\u001b[39m (\u001b[39m\u001b[39;1m3.0.51\u001b[39;22m\u001b[39m -> \u001b[39m\u001b[39;1m3.0.48\u001b[39;22m\u001b[39m)\u001b[39m: \u001b[34mInstalling...\u001b[39m\n",
            "\u001b[1A\u001b[0J  \u001b[32;1m-\u001b[39;22m \u001b[39mDowngrading \u001b[39m\u001b[36mprometheus-client\u001b[39m\u001b[39m (\u001b[39m\u001b[39;1m0.21.1\u001b[39;22m\u001b[39m -> \u001b[39m\u001b[32m0.17.1\u001b[39m\u001b[39m)\u001b[39m\n",
            "  \u001b[34;1m-\u001b[39;22m \u001b[39mDowngrading \u001b[39m\u001b[36mprompt-toolkit\u001b[39m\u001b[39m (\u001b[39m\u001b[39;1m3.0.51\u001b[39;22m\u001b[39m -> \u001b[39m\u001b[39;1m3.0.48\u001b[39;22m\u001b[39m)\u001b[39m: \u001b[34mInstalling...\u001b[39m\n",
            "  \u001b[34;1m-\u001b[39;22m \u001b[39mInstalling \u001b[39m\u001b[36mrfc3339-validator\u001b[39m\u001b[39m (\u001b[39m\u001b[39;1m0.1.4\u001b[39;22m\u001b[39m)\u001b[39m: \u001b[34mPending...\u001b[39m\n",
            "\u001b[1A\u001b[0J  \u001b[34;1m-\u001b[39;22m \u001b[39mInstalling \u001b[39m\u001b[36mrfc3339-validator\u001b[39m\u001b[39m (\u001b[39m\u001b[39;1m0.1.4\u001b[39;22m\u001b[39m)\u001b[39m: \u001b[34mDownloading...\u001b[39m \u001b[39;1m0%\u001b[39;22m\n",
            "\u001b[1A\u001b[0J  \u001b[34;1m-\u001b[39;22m \u001b[39mInstalling \u001b[39m\u001b[36mrfc3339-validator\u001b[39m\u001b[39m (\u001b[39m\u001b[39;1m0.1.4\u001b[39;22m\u001b[39m)\u001b[39m: \u001b[34mDownloading...\u001b[39m \u001b[39;1m100%\u001b[39;22m\n",
            "\u001b[1A\u001b[0J  \u001b[34;1m-\u001b[39;22m \u001b[39mInstalling \u001b[39m\u001b[36mrfc3339-validator\u001b[39m\u001b[39m (\u001b[39m\u001b[39;1m0.1.4\u001b[39;22m\u001b[39m)\u001b[39m: \u001b[34mInstalling...\u001b[39m\n",
            "\u001b[1A\u001b[0J  \u001b[32;1m-\u001b[39;22m \u001b[39mInstalling \u001b[39m\u001b[36mrfc3339-validator\u001b[39m\u001b[39m (\u001b[39m\u001b[32m0.1.4\u001b[39m\u001b[39m)\u001b[39m\n",
            "  \u001b[34;1m-\u001b[39;22m \u001b[39mInstalling \u001b[39m\u001b[36mrfc3986-validator\u001b[39m\u001b[39m (\u001b[39m\u001b[39;1m0.1.1\u001b[39;22m\u001b[39m)\u001b[39m: \u001b[34mPending...\u001b[39m\n",
            "\u001b[1A\u001b[0J  \u001b[34;1m-\u001b[39;22m \u001b[39mInstalling \u001b[39m\u001b[36mrfc3986-validator\u001b[39m\u001b[39m (\u001b[39m\u001b[39;1m0.1.1\u001b[39;22m\u001b[39m)\u001b[39m: \u001b[34mDownloading...\u001b[39m \u001b[39;1m0%\u001b[39;22m\n",
            "\u001b[1A\u001b[0J  \u001b[34;1m-\u001b[39;22m \u001b[39mInstalling \u001b[39m\u001b[36mrfc3986-validator\u001b[39m\u001b[39m (\u001b[39m\u001b[39;1m0.1.1\u001b[39;22m\u001b[39m)\u001b[39m: \u001b[34mDownloading...\u001b[39m \u001b[39;1m100%\u001b[39;22m\n",
            "\u001b[1A\u001b[0J  \u001b[34;1m-\u001b[39;22m \u001b[39mInstalling \u001b[39m\u001b[36mrfc3986-validator\u001b[39m\u001b[39m (\u001b[39m\u001b[39;1m0.1.1\u001b[39;22m\u001b[39m)\u001b[39m: \u001b[34mInstalling...\u001b[39m\n",
            "\u001b[1A\u001b[0J  \u001b[32;1m-\u001b[39;22m \u001b[39mInstalling \u001b[39m\u001b[36mrfc3986-validator\u001b[39m\u001b[39m (\u001b[39m\u001b[32m0.1.1\u001b[39m\u001b[39m)\u001b[39m\n",
            "  \u001b[34;1m-\u001b[39;22m \u001b[39mDowngrading \u001b[39m\u001b[36msetuptools\u001b[39m\u001b[39m (\u001b[39m\u001b[39;1m75.2.0\u001b[39;22m\u001b[39m -> \u001b[39m\u001b[39;1m68.0.0\u001b[39;22m\u001b[39m)\u001b[39m: \u001b[34mPending...\u001b[39m\n",
            "\u001b[1A\u001b[0J  \u001b[34;1m-\u001b[39;22m \u001b[39mDowngrading \u001b[39m\u001b[36msetuptools\u001b[39m\u001b[39m (\u001b[39m\u001b[39;1m75.2.0\u001b[39;22m\u001b[39m -> \u001b[39m\u001b[39;1m68.0.0\u001b[39;22m\u001b[39m)\u001b[39m: \u001b[34mDownloading...\u001b[39m \u001b[39;1m0%\u001b[39;22m\n",
            "\u001b[1A\u001b[0J  \u001b[34;1m-\u001b[39;22m \u001b[39mDowngrading \u001b[39m\u001b[36msetuptools\u001b[39m\u001b[39m (\u001b[39m\u001b[39;1m75.2.0\u001b[39;22m\u001b[39m -> \u001b[39m\u001b[39;1m68.0.0\u001b[39;22m\u001b[39m)\u001b[39m: \u001b[34mDownloading...\u001b[39m \u001b[39;1m100%\u001b[39;22m\n",
            "\u001b[1A\u001b[0J  \u001b[34;1m-\u001b[39;22m \u001b[39mDowngrading \u001b[39m\u001b[36msetuptools\u001b[39m\u001b[39m (\u001b[39m\u001b[39;1m75.2.0\u001b[39;22m\u001b[39m -> \u001b[39m\u001b[39;1m68.0.0\u001b[39;22m\u001b[39m)\u001b[39m: \u001b[34mInstalling...\u001b[39m\n",
            "\u001b[6A\u001b[0J  \u001b[32;1m-\u001b[39;22m \u001b[39mDowngrading \u001b[39m\u001b[36mprometheus-client\u001b[39m\u001b[39m (\u001b[39m\u001b[39;1m0.21.1\u001b[39;22m\u001b[39m -> \u001b[39m\u001b[32m0.17.1\u001b[39m\u001b[39m)\u001b[39m\n",
            "  \u001b[34;1m-\u001b[39;22m \u001b[39mDowngrading \u001b[39m\u001b[36mprompt-toolkit\u001b[39m\u001b[39m (\u001b[39m\u001b[39;1m3.0.51\u001b[39;22m\u001b[39m -> \u001b[39m\u001b[39;1m3.0.48\u001b[39;22m\u001b[39m)\u001b[39m: \u001b[34mInstalling...\u001b[39m\n",
            "  \u001b[32;1m-\u001b[39;22m \u001b[39mInstalling \u001b[39m\u001b[36mrfc3339-validator\u001b[39m\u001b[39m (\u001b[39m\u001b[32m0.1.4\u001b[39m\u001b[39m)\u001b[39m\n",
            "  \u001b[32;1m-\u001b[39;22m \u001b[39mInstalling \u001b[39m\u001b[36mrfc3986-validator\u001b[39m\u001b[39m (\u001b[39m\u001b[32m0.1.1\u001b[39m\u001b[39m)\u001b[39m\n",
            "  \u001b[34;1m-\u001b[39;22m \u001b[39mDowngrading \u001b[39m\u001b[36msetuptools\u001b[39m\u001b[39m (\u001b[39m\u001b[39;1m75.2.0\u001b[39;22m\u001b[39m -> \u001b[39m\u001b[39;1m68.0.0\u001b[39;22m\u001b[39m)\u001b[39m: \u001b[34mInstalling...\u001b[39m\n",
            "\u001b[5A\u001b[0J  \u001b[32;1m-\u001b[39;22m \u001b[39mDowngrading \u001b[39m\u001b[36mnbconvert\u001b[39m\u001b[39m (\u001b[39m\u001b[39;1m7.16.6\u001b[39;22m\u001b[39m -> \u001b[39m\u001b[32m7.6.0\u001b[39m\u001b[39m)\u001b[39m\n",
            "  \u001b[32;1m-\u001b[39;22m \u001b[39mDowngrading \u001b[39m\u001b[36mprometheus-client\u001b[39m\u001b[39m (\u001b[39m\u001b[39;1m0.21.1\u001b[39;22m\u001b[39m -> \u001b[39m\u001b[32m0.17.1\u001b[39m\u001b[39m)\u001b[39m\n",
            "  \u001b[34;1m-\u001b[39;22m \u001b[39mDowngrading \u001b[39m\u001b[36mprompt-toolkit\u001b[39m\u001b[39m (\u001b[39m\u001b[39;1m3.0.51\u001b[39;22m\u001b[39m -> \u001b[39m\u001b[39;1m3.0.48\u001b[39;22m\u001b[39m)\u001b[39m: \u001b[34mInstalling...\u001b[39m\n",
            "  \u001b[32;1m-\u001b[39;22m \u001b[39mInstalling \u001b[39m\u001b[36mrfc3339-validator\u001b[39m\u001b[39m (\u001b[39m\u001b[32m0.1.4\u001b[39m\u001b[39m)\u001b[39m\n",
            "  \u001b[32;1m-\u001b[39;22m \u001b[39mInstalling \u001b[39m\u001b[36mrfc3986-validator\u001b[39m\u001b[39m (\u001b[39m\u001b[32m0.1.1\u001b[39m\u001b[39m)\u001b[39m\n",
            "  \u001b[34;1m-\u001b[39;22m \u001b[39mDowngrading \u001b[39m\u001b[36msetuptools\u001b[39m\u001b[39m (\u001b[39m\u001b[39;1m75.2.0\u001b[39;22m\u001b[39m -> \u001b[39m\u001b[39;1m68.0.0\u001b[39;22m\u001b[39m)\u001b[39m: \u001b[34mInstalling...\u001b[39m\n",
            "  \u001b[34;1m-\u001b[39;22m \u001b[39mDowngrading \u001b[39m\u001b[36mterminado\u001b[39m\u001b[39m (\u001b[39m\u001b[39;1m0.18.1\u001b[39;22m\u001b[39m -> \u001b[39m\u001b[39;1m0.17.1\u001b[39;22m\u001b[39m)\u001b[39m: \u001b[34mPending...\u001b[39m\n",
            "\u001b[1A\u001b[0J  \u001b[34;1m-\u001b[39;22m \u001b[39mDowngrading \u001b[39m\u001b[36mterminado\u001b[39m\u001b[39m (\u001b[39m\u001b[39;1m0.18.1\u001b[39;22m\u001b[39m -> \u001b[39m\u001b[39;1m0.17.1\u001b[39;22m\u001b[39m)\u001b[39m: \u001b[34mDownloading...\u001b[39m \u001b[39;1m0%\u001b[39;22m\n",
            "\u001b[1A\u001b[0J  \u001b[34;1m-\u001b[39;22m \u001b[39mDowngrading \u001b[39m\u001b[36mterminado\u001b[39m\u001b[39m (\u001b[39m\u001b[39;1m0.18.1\u001b[39;22m\u001b[39m -> \u001b[39m\u001b[39;1m0.17.1\u001b[39;22m\u001b[39m)\u001b[39m: \u001b[34mDownloading...\u001b[39m \u001b[39;1m100%\u001b[39;22m\n",
            "\u001b[1A\u001b[0J  \u001b[34;1m-\u001b[39;22m \u001b[39mDowngrading \u001b[39m\u001b[36mterminado\u001b[39m\u001b[39m (\u001b[39m\u001b[39;1m0.18.1\u001b[39;22m\u001b[39m -> \u001b[39m\u001b[39;1m0.17.1\u001b[39;22m\u001b[39m)\u001b[39m: \u001b[34mInstalling...\u001b[39m\n",
            "\u001b[8A\u001b[0J  \u001b[32;1m-\u001b[39;22m \u001b[39mDowngrading \u001b[39m\u001b[36mnbconvert\u001b[39m\u001b[39m (\u001b[39m\u001b[39;1m7.16.6\u001b[39;22m\u001b[39m -> \u001b[39m\u001b[32m7.6.0\u001b[39m\u001b[39m)\u001b[39m\n",
            "  \u001b[32;1m-\u001b[39;22m \u001b[39mDowngrading \u001b[39m\u001b[36mprometheus-client\u001b[39m\u001b[39m (\u001b[39m\u001b[39;1m0.21.1\u001b[39;22m\u001b[39m -> \u001b[39m\u001b[32m0.17.1\u001b[39m\u001b[39m)\u001b[39m\n",
            "  \u001b[34;1m-\u001b[39;22m \u001b[39mDowngrading \u001b[39m\u001b[36mprompt-toolkit\u001b[39m\u001b[39m (\u001b[39m\u001b[39;1m3.0.51\u001b[39;22m\u001b[39m -> \u001b[39m\u001b[39;1m3.0.48\u001b[39;22m\u001b[39m)\u001b[39m: \u001b[34mInstalling...\u001b[39m\n",
            "  \u001b[32;1m-\u001b[39;22m \u001b[39mInstalling \u001b[39m\u001b[36mrfc3339-validator\u001b[39m\u001b[39m (\u001b[39m\u001b[32m0.1.4\u001b[39m\u001b[39m)\u001b[39m\n",
            "  \u001b[32;1m-\u001b[39;22m \u001b[39mInstalling \u001b[39m\u001b[36mrfc3986-validator\u001b[39m\u001b[39m (\u001b[39m\u001b[32m0.1.1\u001b[39m\u001b[39m)\u001b[39m\n",
            "  \u001b[34;1m-\u001b[39;22m \u001b[39mDowngrading \u001b[39m\u001b[36msetuptools\u001b[39m\u001b[39m (\u001b[39m\u001b[39;1m75.2.0\u001b[39;22m\u001b[39m -> \u001b[39m\u001b[39;1m68.0.0\u001b[39;22m\u001b[39m)\u001b[39m: \u001b[34mInstalling...\u001b[39m\n",
            "  \u001b[34;1m-\u001b[39;22m \u001b[39mDowngrading \u001b[39m\u001b[36mterminado\u001b[39m\u001b[39m (\u001b[39m\u001b[39;1m0.18.1\u001b[39;22m\u001b[39m -> \u001b[39m\u001b[39;1m0.17.1\u001b[39;22m\u001b[39m)\u001b[39m: \u001b[34mInstalling...\u001b[39m\n",
            "\u001b[7A\u001b[0J  \u001b[32;1m-\u001b[39;22m \u001b[39mDowngrading \u001b[39m\u001b[36mmatplotlib-inline\u001b[39m\u001b[39m (\u001b[39m\u001b[39;1m0.1.7\u001b[39;22m\u001b[39m -> \u001b[39m\u001b[32m0.1.6\u001b[39m\u001b[39m)\u001b[39m\n",
            "  \u001b[32;1m-\u001b[39;22m \u001b[39mDowngrading \u001b[39m\u001b[36mnbconvert\u001b[39m\u001b[39m (\u001b[39m\u001b[39;1m7.16.6\u001b[39;22m\u001b[39m -> \u001b[39m\u001b[32m7.6.0\u001b[39m\u001b[39m)\u001b[39m\n",
            "  \u001b[32;1m-\u001b[39;22m \u001b[39mDowngrading \u001b[39m\u001b[36mprometheus-client\u001b[39m\u001b[39m (\u001b[39m\u001b[39;1m0.21.1\u001b[39;22m\u001b[39m -> \u001b[39m\u001b[32m0.17.1\u001b[39m\u001b[39m)\u001b[39m\n",
            "  \u001b[34;1m-\u001b[39;22m \u001b[39mDowngrading \u001b[39m\u001b[36mprompt-toolkit\u001b[39m\u001b[39m (\u001b[39m\u001b[39;1m3.0.51\u001b[39;22m\u001b[39m -> \u001b[39m\u001b[39;1m3.0.48\u001b[39;22m\u001b[39m)\u001b[39m: \u001b[34mInstalling...\u001b[39m\n",
            "  \u001b[32;1m-\u001b[39;22m \u001b[39mInstalling \u001b[39m\u001b[36mrfc3339-validator\u001b[39m\u001b[39m (\u001b[39m\u001b[32m0.1.4\u001b[39m\u001b[39m)\u001b[39m\n",
            "  \u001b[32;1m-\u001b[39;22m \u001b[39mInstalling \u001b[39m\u001b[36mrfc3986-validator\u001b[39m\u001b[39m (\u001b[39m\u001b[32m0.1.1\u001b[39m\u001b[39m)\u001b[39m\n",
            "  \u001b[34;1m-\u001b[39;22m \u001b[39mDowngrading \u001b[39m\u001b[36msetuptools\u001b[39m\u001b[39m (\u001b[39m\u001b[39;1m75.2.0\u001b[39;22m\u001b[39m -> \u001b[39m\u001b[39;1m68.0.0\u001b[39;22m\u001b[39m)\u001b[39m: \u001b[34mInstalling...\u001b[39m\n",
            "  \u001b[34;1m-\u001b[39;22m \u001b[39mDowngrading \u001b[39m\u001b[36mterminado\u001b[39m\u001b[39m (\u001b[39m\u001b[39;1m0.18.1\u001b[39;22m\u001b[39m -> \u001b[39m\u001b[39;1m0.17.1\u001b[39;22m\u001b[39m)\u001b[39m: \u001b[34mInstalling...\u001b[39m\n",
            "  \u001b[34;1m-\u001b[39;22m \u001b[39mInstalling \u001b[39m\u001b[36muri-template\u001b[39m\u001b[39m (\u001b[39m\u001b[39;1m1.3.0\u001b[39;22m\u001b[39m)\u001b[39m: \u001b[34mPending...\u001b[39m\n",
            "\u001b[1A\u001b[0J  \u001b[34;1m-\u001b[39;22m \u001b[39mInstalling \u001b[39m\u001b[36muri-template\u001b[39m\u001b[39m (\u001b[39m\u001b[39;1m1.3.0\u001b[39;22m\u001b[39m)\u001b[39m: \u001b[34mDownloading...\u001b[39m \u001b[39;1m0%\u001b[39;22m\n",
            "\u001b[1A\u001b[0J  \u001b[34;1m-\u001b[39;22m \u001b[39mInstalling \u001b[39m\u001b[36muri-template\u001b[39m\u001b[39m (\u001b[39m\u001b[39;1m1.3.0\u001b[39;22m\u001b[39m)\u001b[39m: \u001b[34mDownloading...\u001b[39m \u001b[39;1m100%\u001b[39;22m\n",
            "\u001b[1A\u001b[0J  \u001b[34;1m-\u001b[39;22m \u001b[39mInstalling \u001b[39m\u001b[36muri-template\u001b[39m\u001b[39m (\u001b[39m\u001b[39;1m1.3.0\u001b[39;22m\u001b[39m)\u001b[39m: \u001b[34mInstalling...\u001b[39m\n",
            "\u001b[1A\u001b[0J  \u001b[32;1m-\u001b[39;22m \u001b[39mInstalling \u001b[39m\u001b[36muri-template\u001b[39m\u001b[39m (\u001b[39m\u001b[32m1.3.0\u001b[39m\u001b[39m)\u001b[39m\n",
            "  \u001b[34;1m-\u001b[39;22m \u001b[39mDowngrading \u001b[39m\u001b[36mwebcolors\u001b[39m\u001b[39m (\u001b[39m\u001b[39;1m24.11.1\u001b[39;22m\u001b[39m -> \u001b[39m\u001b[39;1m1.13\u001b[39;22m\u001b[39m)\u001b[39m: \u001b[34mPending...\u001b[39m\n",
            "\u001b[1A\u001b[0J  \u001b[34;1m-\u001b[39;22m \u001b[39mDowngrading \u001b[39m\u001b[36mwebcolors\u001b[39m\u001b[39m (\u001b[39m\u001b[39;1m24.11.1\u001b[39;22m\u001b[39m -> \u001b[39m\u001b[39;1m1.13\u001b[39;22m\u001b[39m)\u001b[39m: \u001b[34mDownloading...\u001b[39m \u001b[39;1m0%\u001b[39;22m\n",
            "\u001b[1A\u001b[0J  \u001b[34;1m-\u001b[39;22m \u001b[39mDowngrading \u001b[39m\u001b[36mwebcolors\u001b[39m\u001b[39m (\u001b[39m\u001b[39;1m24.11.1\u001b[39;22m\u001b[39m -> \u001b[39m\u001b[39;1m1.13\u001b[39;22m\u001b[39m)\u001b[39m: \u001b[34mDownloading...\u001b[39m \u001b[39;1m100%\u001b[39;22m\n",
            "\u001b[1A\u001b[0J  \u001b[34;1m-\u001b[39;22m \u001b[39mDowngrading \u001b[39m\u001b[36mwebcolors\u001b[39m\u001b[39m (\u001b[39m\u001b[39;1m24.11.1\u001b[39;22m\u001b[39m -> \u001b[39m\u001b[39;1m1.13\u001b[39;22m\u001b[39m)\u001b[39m: \u001b[34mInstalling...\u001b[39m\n",
            "\u001b[15A\u001b[0J  \u001b[34;1m-\u001b[39;22m \u001b[39mUpdating \u001b[39m\u001b[36mdecorator\u001b[39m\u001b[39m (\u001b[39m\u001b[39;1m4.4.2\u001b[39;22m\u001b[39m -> \u001b[39m\u001b[39;1m5.1.1\u001b[39;22m\u001b[39m)\u001b[39m: \u001b[34mInstalling...\u001b[39m\n",
            "  \u001b[32;1m-\u001b[39;22m \u001b[39mInstalling \u001b[39m\u001b[36mfqdn\u001b[39m\u001b[39m (\u001b[39m\u001b[32m1.5.1\u001b[39m\u001b[39m)\u001b[39m\n",
            "  \u001b[32;1m-\u001b[39;22m \u001b[39mInstalling \u001b[39m\u001b[36misoduration\u001b[39m\u001b[39m (\u001b[39m\u001b[32m20.11.0\u001b[39m\u001b[39m)\u001b[39m\n",
            "  \u001b[32;1m-\u001b[39;22m \u001b[39mInstalling \u001b[39m\u001b[36mjedi\u001b[39m\u001b[39m (\u001b[39m\u001b[32m0.19.2\u001b[39m\u001b[39m)\u001b[39m\n",
            "  \u001b[32;1m-\u001b[39;22m \u001b[39mDowngrading \u001b[39m\u001b[36mmatplotlib-inline\u001b[39m\u001b[39m (\u001b[39m\u001b[39;1m0.1.7\u001b[39;22m\u001b[39m -> \u001b[39m\u001b[32m0.1.6\u001b[39m\u001b[39m)\u001b[39m\n",
            "  \u001b[32;1m-\u001b[39;22m \u001b[39mDowngrading \u001b[39m\u001b[36mnbconvert\u001b[39m\u001b[39m (\u001b[39m\u001b[39;1m7.16.6\u001b[39;22m\u001b[39m -> \u001b[39m\u001b[32m7.6.0\u001b[39m\u001b[39m)\u001b[39m\n",
            "  \u001b[32;1m-\u001b[39;22m \u001b[39mDowngrading \u001b[39m\u001b[36mprometheus-client\u001b[39m\u001b[39m (\u001b[39m\u001b[39;1m0.21.1\u001b[39;22m\u001b[39m -> \u001b[39m\u001b[32m0.17.1\u001b[39m\u001b[39m)\u001b[39m\n",
            "  \u001b[34;1m-\u001b[39;22m \u001b[39mDowngrading \u001b[39m\u001b[36mprompt-toolkit\u001b[39m\u001b[39m (\u001b[39m\u001b[39;1m3.0.51\u001b[39;22m\u001b[39m -> \u001b[39m\u001b[39;1m3.0.48\u001b[39;22m\u001b[39m)\u001b[39m: \u001b[34mInstalling...\u001b[39m\n",
            "  \u001b[32;1m-\u001b[39;22m \u001b[39mInstalling \u001b[39m\u001b[36mrfc3339-validator\u001b[39m\u001b[39m (\u001b[39m\u001b[32m0.1.4\u001b[39m\u001b[39m)\u001b[39m\n",
            "  \u001b[32;1m-\u001b[39;22m \u001b[39mInstalling \u001b[39m\u001b[36mrfc3986-validator\u001b[39m\u001b[39m (\u001b[39m\u001b[32m0.1.1\u001b[39m\u001b[39m)\u001b[39m\n",
            "  \u001b[34;1m-\u001b[39;22m \u001b[39mDowngrading \u001b[39m\u001b[36msetuptools\u001b[39m\u001b[39m (\u001b[39m\u001b[39;1m75.2.0\u001b[39;22m\u001b[39m -> \u001b[39m\u001b[39;1m68.0.0\u001b[39;22m\u001b[39m)\u001b[39m: \u001b[34mInstalling...\u001b[39m\n",
            "  \u001b[34;1m-\u001b[39;22m \u001b[39mDowngrading \u001b[39m\u001b[36mterminado\u001b[39m\u001b[39m (\u001b[39m\u001b[39;1m0.18.1\u001b[39;22m\u001b[39m -> \u001b[39m\u001b[39;1m0.17.1\u001b[39;22m\u001b[39m)\u001b[39m: \u001b[34mInstalling...\u001b[39m\n",
            "  \u001b[32;1m-\u001b[39;22m \u001b[39mInstalling \u001b[39m\u001b[36muri-template\u001b[39m\u001b[39m (\u001b[39m\u001b[32m1.3.0\u001b[39m\u001b[39m)\u001b[39m\n",
            "  \u001b[34;1m-\u001b[39;22m \u001b[39mDowngrading \u001b[39m\u001b[36mwebcolors\u001b[39m\u001b[39m (\u001b[39m\u001b[39;1m24.11.1\u001b[39;22m\u001b[39m -> \u001b[39m\u001b[39;1m1.13\u001b[39;22m\u001b[39m)\u001b[39m: \u001b[34mInstalling...\u001b[39m\n",
            "\u001b[14A\u001b[0J  \u001b[32;1m-\u001b[39;22m \u001b[39mDowngrading \u001b[39m\u001b[36manyio\u001b[39m\u001b[39m (\u001b[39m\u001b[39;1m4.9.0\u001b[39;22m\u001b[39m -> \u001b[39m\u001b[32m3.7.1\u001b[39m\u001b[39m)\u001b[39m\n",
            "  \u001b[34;1m-\u001b[39;22m \u001b[39mUpdating \u001b[39m\u001b[36mdecorator\u001b[39m\u001b[39m (\u001b[39m\u001b[39;1m4.4.2\u001b[39;22m\u001b[39m -> \u001b[39m\u001b[39;1m5.1.1\u001b[39;22m\u001b[39m)\u001b[39m: \u001b[34mInstalling...\u001b[39m\n",
            "  \u001b[32;1m-\u001b[39;22m \u001b[39mInstalling \u001b[39m\u001b[36mfqdn\u001b[39m\u001b[39m (\u001b[39m\u001b[32m1.5.1\u001b[39m\u001b[39m)\u001b[39m\n",
            "  \u001b[32;1m-\u001b[39;22m \u001b[39mInstalling \u001b[39m\u001b[36misoduration\u001b[39m\u001b[39m (\u001b[39m\u001b[32m20.11.0\u001b[39m\u001b[39m)\u001b[39m\n",
            "  \u001b[32;1m-\u001b[39;22m \u001b[39mInstalling \u001b[39m\u001b[36mjedi\u001b[39m\u001b[39m (\u001b[39m\u001b[32m0.19.2\u001b[39m\u001b[39m)\u001b[39m\n",
            "  \u001b[32;1m-\u001b[39;22m \u001b[39mDowngrading \u001b[39m\u001b[36mmatplotlib-inline\u001b[39m\u001b[39m (\u001b[39m\u001b[39;1m0.1.7\u001b[39;22m\u001b[39m -> \u001b[39m\u001b[32m0.1.6\u001b[39m\u001b[39m)\u001b[39m\n",
            "  \u001b[32;1m-\u001b[39;22m \u001b[39mDowngrading \u001b[39m\u001b[36mnbconvert\u001b[39m\u001b[39m (\u001b[39m\u001b[39;1m7.16.6\u001b[39;22m\u001b[39m -> \u001b[39m\u001b[32m7.6.0\u001b[39m\u001b[39m)\u001b[39m\n",
            "  \u001b[32;1m-\u001b[39;22m \u001b[39mDowngrading \u001b[39m\u001b[36mprometheus-client\u001b[39m\u001b[39m (\u001b[39m\u001b[39;1m0.21.1\u001b[39;22m\u001b[39m -> \u001b[39m\u001b[32m0.17.1\u001b[39m\u001b[39m)\u001b[39m\n",
            "  \u001b[34;1m-\u001b[39;22m \u001b[39mDowngrading \u001b[39m\u001b[36mprompt-toolkit\u001b[39m\u001b[39m (\u001b[39m\u001b[39;1m3.0.51\u001b[39;22m\u001b[39m -> \u001b[39m\u001b[39;1m3.0.48\u001b[39;22m\u001b[39m)\u001b[39m: \u001b[34mInstalling...\u001b[39m\n",
            "  \u001b[32;1m-\u001b[39;22m \u001b[39mInstalling \u001b[39m\u001b[36mrfc3339-validator\u001b[39m\u001b[39m (\u001b[39m\u001b[32m0.1.4\u001b[39m\u001b[39m)\u001b[39m\n",
            "  \u001b[32;1m-\u001b[39;22m \u001b[39mInstalling \u001b[39m\u001b[36mrfc3986-validator\u001b[39m\u001b[39m (\u001b[39m\u001b[32m0.1.1\u001b[39m\u001b[39m)\u001b[39m\n",
            "  \u001b[34;1m-\u001b[39;22m \u001b[39mDowngrading \u001b[39m\u001b[36msetuptools\u001b[39m\u001b[39m (\u001b[39m\u001b[39;1m75.2.0\u001b[39;22m\u001b[39m -> \u001b[39m\u001b[39;1m68.0.0\u001b[39;22m\u001b[39m)\u001b[39m: \u001b[34mInstalling...\u001b[39m\n",
            "  \u001b[34;1m-\u001b[39;22m \u001b[39mDowngrading \u001b[39m\u001b[36mterminado\u001b[39m\u001b[39m (\u001b[39m\u001b[39;1m0.18.1\u001b[39;22m\u001b[39m -> \u001b[39m\u001b[39;1m0.17.1\u001b[39;22m\u001b[39m)\u001b[39m: \u001b[34mInstalling...\u001b[39m\n",
            "  \u001b[32;1m-\u001b[39;22m \u001b[39mInstalling \u001b[39m\u001b[36muri-template\u001b[39m\u001b[39m (\u001b[39m\u001b[32m1.3.0\u001b[39m\u001b[39m)\u001b[39m\n",
            "  \u001b[34;1m-\u001b[39;22m \u001b[39mDowngrading \u001b[39m\u001b[36mwebcolors\u001b[39m\u001b[39m (\u001b[39m\u001b[39;1m24.11.1\u001b[39;22m\u001b[39m -> \u001b[39m\u001b[39;1m1.13\u001b[39;22m\u001b[39m)\u001b[39m: \u001b[34mInstalling...\u001b[39m\n",
            "  \u001b[34;1m-\u001b[39;22m \u001b[39mDowngrading \u001b[39m\u001b[36mwebsocket-client\u001b[39m\u001b[39m (\u001b[39m\u001b[39;1m1.8.0\u001b[39;22m\u001b[39m -> \u001b[39m\u001b[39;1m1.6.1\u001b[39;22m\u001b[39m)\u001b[39m: \u001b[34mPending...\u001b[39m\n",
            "\u001b[1A\u001b[0J  \u001b[34;1m-\u001b[39;22m \u001b[39mDowngrading \u001b[39m\u001b[36mwebsocket-client\u001b[39m\u001b[39m (\u001b[39m\u001b[39;1m1.8.0\u001b[39;22m\u001b[39m -> \u001b[39m\u001b[39;1m1.6.1\u001b[39;22m\u001b[39m)\u001b[39m: \u001b[34mDownloading...\u001b[39m \u001b[39;1m0%\u001b[39;22m\n",
            "\u001b[1A\u001b[0J  \u001b[34;1m-\u001b[39;22m \u001b[39mDowngrading \u001b[39m\u001b[36mwebsocket-client\u001b[39m\u001b[39m (\u001b[39m\u001b[39;1m1.8.0\u001b[39;22m\u001b[39m -> \u001b[39m\u001b[39;1m1.6.1\u001b[39;22m\u001b[39m)\u001b[39m: \u001b[34mDownloading...\u001b[39m \u001b[39;1m100%\u001b[39;22m\n",
            "\u001b[1A\u001b[0J  \u001b[34;1m-\u001b[39;22m \u001b[39mDowngrading \u001b[39m\u001b[36mwebsocket-client\u001b[39m\u001b[39m (\u001b[39m\u001b[39;1m1.8.0\u001b[39;22m\u001b[39m -> \u001b[39m\u001b[39;1m1.6.1\u001b[39;22m\u001b[39m)\u001b[39m: \u001b[34mInstalling...\u001b[39m\n",
            "\u001b[8A\u001b[0J  \u001b[32;1m-\u001b[39;22m \u001b[39mInstalling \u001b[39m\u001b[36mrfc3339-validator\u001b[39m\u001b[39m (\u001b[39m\u001b[32m0.1.4\u001b[39m\u001b[39m)\u001b[39m\n",
            "  \u001b[32;1m-\u001b[39;22m \u001b[39mInstalling \u001b[39m\u001b[36mrfc3986-validator\u001b[39m\u001b[39m (\u001b[39m\u001b[32m0.1.1\u001b[39m\u001b[39m)\u001b[39m\n",
            "  \u001b[34;1m-\u001b[39;22m \u001b[39mDowngrading \u001b[39m\u001b[36msetuptools\u001b[39m\u001b[39m (\u001b[39m\u001b[39;1m75.2.0\u001b[39;22m\u001b[39m -> \u001b[39m\u001b[39;1m68.0.0\u001b[39;22m\u001b[39m)\u001b[39m: \u001b[34mInstalling...\u001b[39m\n",
            "  \u001b[34;1m-\u001b[39;22m \u001b[39mDowngrading \u001b[39m\u001b[36mterminado\u001b[39m\u001b[39m (\u001b[39m\u001b[39;1m0.18.1\u001b[39;22m\u001b[39m -> \u001b[39m\u001b[39;1m0.17.1\u001b[39;22m\u001b[39m)\u001b[39m: \u001b[34mInstalling...\u001b[39m\n",
            "  \u001b[32;1m-\u001b[39;22m \u001b[39mInstalling \u001b[39m\u001b[36muri-template\u001b[39m\u001b[39m (\u001b[39m\u001b[32m1.3.0\u001b[39m\u001b[39m)\u001b[39m\n",
            "  \u001b[34;1m-\u001b[39;22m \u001b[39mDowngrading \u001b[39m\u001b[36mwebcolors\u001b[39m\u001b[39m (\u001b[39m\u001b[39;1m24.11.1\u001b[39;22m\u001b[39m -> \u001b[39m\u001b[39;1m1.13\u001b[39;22m\u001b[39m)\u001b[39m: \u001b[34mInstalling...\u001b[39m\n",
            "  \u001b[34;1m-\u001b[39;22m \u001b[39mDowngrading \u001b[39m\u001b[36mwebsocket-client\u001b[39m\u001b[39m (\u001b[39m\u001b[39;1m1.8.0\u001b[39;22m\u001b[39m -> \u001b[39m\u001b[39;1m1.6.1\u001b[39;22m\u001b[39m)\u001b[39m: \u001b[34mInstalling...\u001b[39m\n",
            "\u001b[7A\u001b[0J  \u001b[32;1m-\u001b[39;22m \u001b[39mDowngrading \u001b[39m\u001b[36mprompt-toolkit\u001b[39m\u001b[39m (\u001b[39m\u001b[39;1m3.0.51\u001b[39;22m\u001b[39m -> \u001b[39m\u001b[32m3.0.48\u001b[39m\u001b[39m)\u001b[39m\n",
            "  \u001b[32;1m-\u001b[39;22m \u001b[39mInstalling \u001b[39m\u001b[36mrfc3339-validator\u001b[39m\u001b[39m (\u001b[39m\u001b[32m0.1.4\u001b[39m\u001b[39m)\u001b[39m\n",
            "  \u001b[32;1m-\u001b[39;22m \u001b[39mInstalling \u001b[39m\u001b[36mrfc3986-validator\u001b[39m\u001b[39m (\u001b[39m\u001b[32m0.1.1\u001b[39m\u001b[39m)\u001b[39m\n",
            "  \u001b[34;1m-\u001b[39;22m \u001b[39mDowngrading \u001b[39m\u001b[36msetuptools\u001b[39m\u001b[39m (\u001b[39m\u001b[39;1m75.2.0\u001b[39;22m\u001b[39m -> \u001b[39m\u001b[39;1m68.0.0\u001b[39;22m\u001b[39m)\u001b[39m: \u001b[34mInstalling...\u001b[39m\n",
            "  \u001b[34;1m-\u001b[39;22m \u001b[39mDowngrading \u001b[39m\u001b[36mterminado\u001b[39m\u001b[39m (\u001b[39m\u001b[39;1m0.18.1\u001b[39;22m\u001b[39m -> \u001b[39m\u001b[39;1m0.17.1\u001b[39;22m\u001b[39m)\u001b[39m: \u001b[34mInstalling...\u001b[39m\n",
            "  \u001b[32;1m-\u001b[39;22m \u001b[39mInstalling \u001b[39m\u001b[36muri-template\u001b[39m\u001b[39m (\u001b[39m\u001b[32m1.3.0\u001b[39m\u001b[39m)\u001b[39m\n",
            "  \u001b[34;1m-\u001b[39;22m \u001b[39mDowngrading \u001b[39m\u001b[36mwebcolors\u001b[39m\u001b[39m (\u001b[39m\u001b[39;1m24.11.1\u001b[39;22m\u001b[39m -> \u001b[39m\u001b[39;1m1.13\u001b[39;22m\u001b[39m)\u001b[39m: \u001b[34mInstalling...\u001b[39m\n",
            "  \u001b[34;1m-\u001b[39;22m \u001b[39mDowngrading \u001b[39m\u001b[36mwebsocket-client\u001b[39m\u001b[39m (\u001b[39m\u001b[39;1m1.8.0\u001b[39;22m\u001b[39m -> \u001b[39m\u001b[39;1m1.6.1\u001b[39;22m\u001b[39m)\u001b[39m: \u001b[34mInstalling...\u001b[39m\n",
            "\u001b[15A\u001b[0J  \u001b[32;1m-\u001b[39;22m \u001b[39mInstalling \u001b[39m\u001b[36mfqdn\u001b[39m\u001b[39m (\u001b[39m\u001b[32m1.5.1\u001b[39m\u001b[39m)\u001b[39m\n",
            "  \u001b[32;1m-\u001b[39;22m \u001b[39mInstalling \u001b[39m\u001b[36misoduration\u001b[39m\u001b[39m (\u001b[39m\u001b[32m20.11.0\u001b[39m\u001b[39m)\u001b[39m\n",
            "  \u001b[32;1m-\u001b[39;22m \u001b[39mInstalling \u001b[39m\u001b[36mjedi\u001b[39m\u001b[39m (\u001b[39m\u001b[32m0.19.2\u001b[39m\u001b[39m)\u001b[39m\n",
            "  \u001b[32;1m-\u001b[39;22m \u001b[39mDowngrading \u001b[39m\u001b[36mmatplotlib-inline\u001b[39m\u001b[39m (\u001b[39m\u001b[39;1m0.1.7\u001b[39;22m\u001b[39m -> \u001b[39m\u001b[32m0.1.6\u001b[39m\u001b[39m)\u001b[39m\n",
            "  \u001b[32;1m-\u001b[39;22m \u001b[39mDowngrading \u001b[39m\u001b[36mnbconvert\u001b[39m\u001b[39m (\u001b[39m\u001b[39;1m7.16.6\u001b[39;22m\u001b[39m -> \u001b[39m\u001b[32m7.6.0\u001b[39m\u001b[39m)\u001b[39m\n",
            "  \u001b[32;1m-\u001b[39;22m \u001b[39mDowngrading \u001b[39m\u001b[36mprometheus-client\u001b[39m\u001b[39m (\u001b[39m\u001b[39;1m0.21.1\u001b[39;22m\u001b[39m -> \u001b[39m\u001b[32m0.17.1\u001b[39m\u001b[39m)\u001b[39m\n",
            "  \u001b[32;1m-\u001b[39;22m \u001b[39mDowngrading \u001b[39m\u001b[36mprompt-toolkit\u001b[39m\u001b[39m (\u001b[39m\u001b[39;1m3.0.51\u001b[39;22m\u001b[39m -> \u001b[39m\u001b[32m3.0.48\u001b[39m\u001b[39m)\u001b[39m\n",
            "  \u001b[32;1m-\u001b[39;22m \u001b[39mInstalling \u001b[39m\u001b[36mrfc3339-validator\u001b[39m\u001b[39m (\u001b[39m\u001b[32m0.1.4\u001b[39m\u001b[39m)\u001b[39m\n",
            "  \u001b[32;1m-\u001b[39;22m \u001b[39mInstalling \u001b[39m\u001b[36mrfc3986-validator\u001b[39m\u001b[39m (\u001b[39m\u001b[32m0.1.1\u001b[39m\u001b[39m)\u001b[39m\n",
            "  \u001b[34;1m-\u001b[39;22m \u001b[39mDowngrading \u001b[39m\u001b[36msetuptools\u001b[39m\u001b[39m (\u001b[39m\u001b[39;1m75.2.0\u001b[39;22m\u001b[39m -> \u001b[39m\u001b[39;1m68.0.0\u001b[39;22m\u001b[39m)\u001b[39m: \u001b[34mInstalling...\u001b[39m\n",
            "  \u001b[34;1m-\u001b[39;22m \u001b[39mDowngrading \u001b[39m\u001b[36mterminado\u001b[39m\u001b[39m (\u001b[39m\u001b[39;1m0.18.1\u001b[39;22m\u001b[39m -> \u001b[39m\u001b[39;1m0.17.1\u001b[39;22m\u001b[39m)\u001b[39m: \u001b[34mInstalling...\u001b[39m\n",
            "  \u001b[32;1m-\u001b[39;22m \u001b[39mInstalling \u001b[39m\u001b[36muri-template\u001b[39m\u001b[39m (\u001b[39m\u001b[32m1.3.0\u001b[39m\u001b[39m)\u001b[39m\n",
            "  \u001b[34;1m-\u001b[39;22m \u001b[39mDowngrading \u001b[39m\u001b[36mwebcolors\u001b[39m\u001b[39m (\u001b[39m\u001b[39;1m24.11.1\u001b[39;22m\u001b[39m -> \u001b[39m\u001b[39;1m1.13\u001b[39;22m\u001b[39m)\u001b[39m: \u001b[34mInstalling...\u001b[39m\n",
            "  \u001b[34;1m-\u001b[39;22m \u001b[39mDowngrading \u001b[39m\u001b[36mwebsocket-client\u001b[39m\u001b[39m (\u001b[39m\u001b[39;1m1.8.0\u001b[39;22m\u001b[39m -> \u001b[39m\u001b[39;1m1.6.1\u001b[39;22m\u001b[39m)\u001b[39m: \u001b[34mInstalling...\u001b[39m\n",
            "\u001b[14A\u001b[0J  \u001b[32;1m-\u001b[39;22m \u001b[39mUpdating \u001b[39m\u001b[36mdecorator\u001b[39m\u001b[39m (\u001b[39m\u001b[39;1m4.4.2\u001b[39;22m\u001b[39m -> \u001b[39m\u001b[32m5.1.1\u001b[39m\u001b[39m)\u001b[39m\n",
            "  \u001b[32;1m-\u001b[39;22m \u001b[39mInstalling \u001b[39m\u001b[36mfqdn\u001b[39m\u001b[39m (\u001b[39m\u001b[32m1.5.1\u001b[39m\u001b[39m)\u001b[39m\n",
            "  \u001b[32;1m-\u001b[39;22m \u001b[39mInstalling \u001b[39m\u001b[36misoduration\u001b[39m\u001b[39m (\u001b[39m\u001b[32m20.11.0\u001b[39m\u001b[39m)\u001b[39m\n",
            "  \u001b[32;1m-\u001b[39;22m \u001b[39mInstalling \u001b[39m\u001b[36mjedi\u001b[39m\u001b[39m (\u001b[39m\u001b[32m0.19.2\u001b[39m\u001b[39m)\u001b[39m\n",
            "  \u001b[32;1m-\u001b[39;22m \u001b[39mDowngrading \u001b[39m\u001b[36mmatplotlib-inline\u001b[39m\u001b[39m (\u001b[39m\u001b[39;1m0.1.7\u001b[39;22m\u001b[39m -> \u001b[39m\u001b[32m0.1.6\u001b[39m\u001b[39m)\u001b[39m\n",
            "  \u001b[32;1m-\u001b[39;22m \u001b[39mDowngrading \u001b[39m\u001b[36mnbconvert\u001b[39m\u001b[39m (\u001b[39m\u001b[39;1m7.16.6\u001b[39;22m\u001b[39m -> \u001b[39m\u001b[32m7.6.0\u001b[39m\u001b[39m)\u001b[39m\n",
            "  \u001b[32;1m-\u001b[39;22m \u001b[39mDowngrading \u001b[39m\u001b[36mprometheus-client\u001b[39m\u001b[39m (\u001b[39m\u001b[39;1m0.21.1\u001b[39;22m\u001b[39m -> \u001b[39m\u001b[32m0.17.1\u001b[39m\u001b[39m)\u001b[39m\n",
            "  \u001b[32;1m-\u001b[39;22m \u001b[39mDowngrading \u001b[39m\u001b[36mprompt-toolkit\u001b[39m\u001b[39m (\u001b[39m\u001b[39;1m3.0.51\u001b[39;22m\u001b[39m -> \u001b[39m\u001b[32m3.0.48\u001b[39m\u001b[39m)\u001b[39m\n",
            "  \u001b[32;1m-\u001b[39;22m \u001b[39mInstalling \u001b[39m\u001b[36mrfc3339-validator\u001b[39m\u001b[39m (\u001b[39m\u001b[32m0.1.4\u001b[39m\u001b[39m)\u001b[39m\n",
            "  \u001b[32;1m-\u001b[39;22m \u001b[39mInstalling \u001b[39m\u001b[36mrfc3986-validator\u001b[39m\u001b[39m (\u001b[39m\u001b[32m0.1.1\u001b[39m\u001b[39m)\u001b[39m\n",
            "  \u001b[34;1m-\u001b[39;22m \u001b[39mDowngrading \u001b[39m\u001b[36msetuptools\u001b[39m\u001b[39m (\u001b[39m\u001b[39;1m75.2.0\u001b[39;22m\u001b[39m -> \u001b[39m\u001b[39;1m68.0.0\u001b[39;22m\u001b[39m)\u001b[39m: \u001b[34mInstalling...\u001b[39m\n",
            "  \u001b[34;1m-\u001b[39;22m \u001b[39mDowngrading \u001b[39m\u001b[36mterminado\u001b[39m\u001b[39m (\u001b[39m\u001b[39;1m0.18.1\u001b[39;22m\u001b[39m -> \u001b[39m\u001b[39;1m0.17.1\u001b[39;22m\u001b[39m)\u001b[39m: \u001b[34mInstalling...\u001b[39m\n",
            "  \u001b[32;1m-\u001b[39;22m \u001b[39mInstalling \u001b[39m\u001b[36muri-template\u001b[39m\u001b[39m (\u001b[39m\u001b[32m1.3.0\u001b[39m\u001b[39m)\u001b[39m\n",
            "  \u001b[34;1m-\u001b[39;22m \u001b[39mDowngrading \u001b[39m\u001b[36mwebcolors\u001b[39m\u001b[39m (\u001b[39m\u001b[39;1m24.11.1\u001b[39;22m\u001b[39m -> \u001b[39m\u001b[39;1m1.13\u001b[39;22m\u001b[39m)\u001b[39m: \u001b[34mInstalling...\u001b[39m\n",
            "  \u001b[34;1m-\u001b[39;22m \u001b[39mDowngrading \u001b[39m\u001b[36mwebsocket-client\u001b[39m\u001b[39m (\u001b[39m\u001b[39;1m1.8.0\u001b[39;22m\u001b[39m -> \u001b[39m\u001b[39;1m1.6.1\u001b[39;22m\u001b[39m)\u001b[39m: \u001b[34mInstalling...\u001b[39m\n",
            "\u001b[2A\u001b[0J  \u001b[34;1m-\u001b[39;22m \u001b[39mDowngrading \u001b[39m\u001b[36mwebsocket-client\u001b[39m\u001b[39m (\u001b[39m\u001b[39;1m1.8.0\u001b[39;22m\u001b[39m -> \u001b[39m\u001b[39;1m1.6.1\u001b[39;22m\u001b[39m)\u001b[39m: \u001b[34mInstalling...\u001b[39m\n",
            "\u001b[1A\u001b[0J  \u001b[32;1m-\u001b[39;22m \u001b[39mDowngrading \u001b[39m\u001b[36mwebcolors\u001b[39m\u001b[39m (\u001b[39m\u001b[39;1m24.11.1\u001b[39;22m\u001b[39m -> \u001b[39m\u001b[32m1.13\u001b[39m\u001b[39m)\u001b[39m\n",
            "  \u001b[34;1m-\u001b[39;22m \u001b[39mDowngrading \u001b[39m\u001b[36mwebsocket-client\u001b[39m\u001b[39m (\u001b[39m\u001b[39;1m1.8.0\u001b[39;22m\u001b[39m -> \u001b[39m\u001b[39;1m1.6.1\u001b[39;22m\u001b[39m)\u001b[39m: \u001b[34mInstalling...\u001b[39m\n",
            "\u001b[4A\u001b[0J  \u001b[32;1m-\u001b[39;22m \u001b[39mInstalling \u001b[39m\u001b[36muri-template\u001b[39m\u001b[39m (\u001b[39m\u001b[32m1.3.0\u001b[39m\u001b[39m)\u001b[39m\n",
            "  \u001b[32;1m-\u001b[39;22m \u001b[39mDowngrading \u001b[39m\u001b[36mwebcolors\u001b[39m\u001b[39m (\u001b[39m\u001b[39;1m24.11.1\u001b[39;22m\u001b[39m -> \u001b[39m\u001b[32m1.13\u001b[39m\u001b[39m)\u001b[39m\n",
            "  \u001b[34;1m-\u001b[39;22m \u001b[39mDowngrading \u001b[39m\u001b[36mwebsocket-client\u001b[39m\u001b[39m (\u001b[39m\u001b[39;1m1.8.0\u001b[39;22m\u001b[39m -> \u001b[39m\u001b[39;1m1.6.1\u001b[39;22m\u001b[39m)\u001b[39m: \u001b[34mInstalling...\u001b[39m\n",
            "\u001b[3A\u001b[0J  \u001b[32;1m-\u001b[39;22m \u001b[39mDowngrading \u001b[39m\u001b[36mterminado\u001b[39m\u001b[39m (\u001b[39m\u001b[39;1m0.18.1\u001b[39;22m\u001b[39m -> \u001b[39m\u001b[32m0.17.1\u001b[39m\u001b[39m)\u001b[39m\n",
            "  \u001b[32;1m-\u001b[39;22m \u001b[39mInstalling \u001b[39m\u001b[36muri-template\u001b[39m\u001b[39m (\u001b[39m\u001b[32m1.3.0\u001b[39m\u001b[39m)\u001b[39m\n",
            "  \u001b[32;1m-\u001b[39;22m \u001b[39mDowngrading \u001b[39m\u001b[36mwebcolors\u001b[39m\u001b[39m (\u001b[39m\u001b[39;1m24.11.1\u001b[39;22m\u001b[39m -> \u001b[39m\u001b[32m1.13\u001b[39m\u001b[39m)\u001b[39m\n",
            "  \u001b[34;1m-\u001b[39;22m \u001b[39mDowngrading \u001b[39m\u001b[36mwebsocket-client\u001b[39m\u001b[39m (\u001b[39m\u001b[39;1m1.8.0\u001b[39;22m\u001b[39m -> \u001b[39m\u001b[39;1m1.6.1\u001b[39;22m\u001b[39m)\u001b[39m: \u001b[34mInstalling...\u001b[39m\n",
            "\u001b[1A\u001b[0J  \u001b[32;1m-\u001b[39;22m \u001b[39mDowngrading \u001b[39m\u001b[36mwebsocket-client\u001b[39m\u001b[39m (\u001b[39m\u001b[39;1m1.8.0\u001b[39;22m\u001b[39m -> \u001b[39m\u001b[32m1.6.1\u001b[39m\u001b[39m)\u001b[39m\n",
            "\u001b[5A\u001b[0J  \u001b[32;1m-\u001b[39;22m \u001b[39mDowngrading \u001b[39m\u001b[36mterminado\u001b[39m\u001b[39m (\u001b[39m\u001b[39;1m0.18.1\u001b[39;22m\u001b[39m -> \u001b[39m\u001b[32m0.17.1\u001b[39m\u001b[39m)\u001b[39m\n",
            "  \u001b[32;1m-\u001b[39;22m \u001b[39mInstalling \u001b[39m\u001b[36muri-template\u001b[39m\u001b[39m (\u001b[39m\u001b[32m1.3.0\u001b[39m\u001b[39m)\u001b[39m\n",
            "  \u001b[32;1m-\u001b[39;22m \u001b[39mDowngrading \u001b[39m\u001b[36mwebcolors\u001b[39m\u001b[39m (\u001b[39m\u001b[39;1m24.11.1\u001b[39;22m\u001b[39m -> \u001b[39m\u001b[32m1.13\u001b[39m\u001b[39m)\u001b[39m\n",
            "  \u001b[32;1m-\u001b[39;22m \u001b[39mDowngrading \u001b[39m\u001b[36mwebsocket-client\u001b[39m\u001b[39m (\u001b[39m\u001b[39;1m1.8.0\u001b[39;22m\u001b[39m -> \u001b[39m\u001b[32m1.6.1\u001b[39m\u001b[39m)\u001b[39m\n",
            "\u001b[4A\u001b[0J  \u001b[32;1m-\u001b[39;22m \u001b[39mDowngrading \u001b[39m\u001b[36msetuptools\u001b[39m\u001b[39m (\u001b[39m\u001b[39;1m75.2.0\u001b[39;22m\u001b[39m -> \u001b[39m\u001b[32m68.0.0\u001b[39m\u001b[39m)\u001b[39m\n",
            "  \u001b[32;1m-\u001b[39;22m \u001b[39mDowngrading \u001b[39m\u001b[36mterminado\u001b[39m\u001b[39m (\u001b[39m\u001b[39;1m0.18.1\u001b[39;22m\u001b[39m -> \u001b[39m\u001b[32m0.17.1\u001b[39m\u001b[39m)\u001b[39m\n",
            "  \u001b[32;1m-\u001b[39;22m \u001b[39mInstalling \u001b[39m\u001b[36muri-template\u001b[39m\u001b[39m (\u001b[39m\u001b[32m1.3.0\u001b[39m\u001b[39m)\u001b[39m\n",
            "  \u001b[32;1m-\u001b[39;22m \u001b[39mDowngrading \u001b[39m\u001b[36mwebcolors\u001b[39m\u001b[39m (\u001b[39m\u001b[39;1m24.11.1\u001b[39;22m\u001b[39m -> \u001b[39m\u001b[32m1.13\u001b[39m\u001b[39m)\u001b[39m\n",
            "  \u001b[32;1m-\u001b[39;22m \u001b[39mDowngrading \u001b[39m\u001b[36mwebsocket-client\u001b[39m\u001b[39m (\u001b[39m\u001b[39;1m1.8.0\u001b[39;22m\u001b[39m -> \u001b[39m\u001b[32m1.6.1\u001b[39m\u001b[39m)\u001b[39m\n",
            "  \u001b[34;1m-\u001b[39;22m \u001b[39mDowngrading \u001b[39m\u001b[36mdebugpy\u001b[39m\u001b[39m (\u001b[39m\u001b[39;1m1.8.0\u001b[39;22m\u001b[39m -> \u001b[39m\u001b[39;1m1.7.0\u001b[39;22m\u001b[39m)\u001b[39m: \u001b[34mPending...\u001b[39m\n",
            "  \u001b[34;1m-\u001b[39;22m \u001b[39mUpdating \u001b[39m\u001b[36mjupyter-server\u001b[39m\u001b[39m (\u001b[39m\u001b[39;1m1.16.0\u001b[39;22m\u001b[39m -> \u001b[39m\u001b[39;1m1.24.0\u001b[39;22m\u001b[39m)\u001b[39m: \u001b[34mPending...\u001b[39m\n",
            "  \u001b[34;1m-\u001b[39;22m \u001b[39mUpdating \u001b[39m\u001b[36mpsutil\u001b[39m\u001b[39m (\u001b[39m\u001b[39;1m5.9.5\u001b[39;22m\u001b[39m -> \u001b[39m\u001b[39;1m6.1.1\u001b[39;22m\u001b[39m)\u001b[39m: \u001b[34mPending...\u001b[39m\n",
            "  \u001b[34;1m-\u001b[39;22m \u001b[39mInstalling \u001b[39m\u001b[36mpython-json-logger\u001b[39m\u001b[39m (\u001b[39m\u001b[39;1m3.0.1\u001b[39;22m\u001b[39m)\u001b[39m: \u001b[34mPending...\u001b[39m\n",
            "  \u001b[34;1m-\u001b[39;22m \u001b[39mDowngrading \u001b[39m\u001b[36mpyyaml\u001b[39m\u001b[39m (\u001b[39m\u001b[39;1m6.0.2\u001b[39;22m\u001b[39m -> \u001b[39m\u001b[39;1m6.0.1\u001b[39;22m\u001b[39m)\u001b[39m: \u001b[34mPending...\u001b[39m\n",
            "\u001b[4A\u001b[0J  \u001b[34;1m-\u001b[39;22m \u001b[39mUpdating \u001b[39m\u001b[36mpsutil\u001b[39m\u001b[39m (\u001b[39m\u001b[39;1m5.9.5\u001b[39;22m\u001b[39m -> \u001b[39m\u001b[39;1m6.1.1\u001b[39;22m\u001b[39m)\u001b[39m: \u001b[34mPending...\u001b[39m\n",
            "  \u001b[34;1m-\u001b[39;22m \u001b[39mInstalling \u001b[39m\u001b[36mpython-json-logger\u001b[39m\u001b[39m (\u001b[39m\u001b[39;1m3.0.1\u001b[39;22m\u001b[39m)\u001b[39m: \u001b[34mPending...\u001b[39m\n",
            "  \u001b[34;1m-\u001b[39;22m \u001b[39mDowngrading \u001b[39m\u001b[36mpyyaml\u001b[39m\u001b[39m (\u001b[39m\u001b[39;1m6.0.2\u001b[39;22m\u001b[39m -> \u001b[39m\u001b[39;1m6.0.1\u001b[39;22m\u001b[39m)\u001b[39m: \u001b[34mPending...\u001b[39m\n",
            "\u001b[3A\u001b[0J  \u001b[34;1m-\u001b[39;22m \u001b[39mUpdating \u001b[39m\u001b[36mjupyter-server\u001b[39m\u001b[39m (\u001b[39m\u001b[39;1m1.16.0\u001b[39;22m\u001b[39m -> \u001b[39m\u001b[39;1m1.24.0\u001b[39;22m\u001b[39m)\u001b[39m: \u001b[34mDownloading...\u001b[39m \u001b[39;1m0%\u001b[39;22m\n",
            "  \u001b[34;1m-\u001b[39;22m \u001b[39mUpdating \u001b[39m\u001b[36mpsutil\u001b[39m\u001b[39m (\u001b[39m\u001b[39;1m5.9.5\u001b[39;22m\u001b[39m -> \u001b[39m\u001b[39;1m6.1.1\u001b[39;22m\u001b[39m)\u001b[39m: \u001b[34mPending...\u001b[39m\n",
            "  \u001b[34;1m-\u001b[39;22m \u001b[39mInstalling \u001b[39m\u001b[36mpython-json-logger\u001b[39m\u001b[39m (\u001b[39m\u001b[39;1m3.0.1\u001b[39;22m\u001b[39m)\u001b[39m: \u001b[34mPending...\u001b[39m\n",
            "  \u001b[34;1m-\u001b[39;22m \u001b[39mDowngrading \u001b[39m\u001b[36mpyyaml\u001b[39m\u001b[39m (\u001b[39m\u001b[39;1m6.0.2\u001b[39;22m\u001b[39m -> \u001b[39m\u001b[39;1m6.0.1\u001b[39;22m\u001b[39m)\u001b[39m: \u001b[34mPending...\u001b[39m\n",
            "\u001b[2A\u001b[0J  \u001b[34;1m-\u001b[39;22m \u001b[39mDowngrading \u001b[39m\u001b[36mpyyaml\u001b[39m\u001b[39m (\u001b[39m\u001b[39;1m6.0.2\u001b[39;22m\u001b[39m -> \u001b[39m\u001b[39;1m6.0.1\u001b[39;22m\u001b[39m)\u001b[39m: \u001b[34mPending...\u001b[39m\n",
            "\u001b[1A\u001b[0J  \u001b[34;1m-\u001b[39;22m \u001b[39mInstalling \u001b[39m\u001b[36mpython-json-logger\u001b[39m\u001b[39m (\u001b[39m\u001b[39;1m3.0.1\u001b[39;22m\u001b[39m)\u001b[39m: \u001b[34mDownloading...\u001b[39m \u001b[39;1m0%\u001b[39;22m\n",
            "  \u001b[34;1m-\u001b[39;22m \u001b[39mDowngrading \u001b[39m\u001b[36mpyyaml\u001b[39m\u001b[39m (\u001b[39m\u001b[39;1m6.0.2\u001b[39;22m\u001b[39m -> \u001b[39m\u001b[39;1m6.0.1\u001b[39;22m\u001b[39m)\u001b[39m: \u001b[34mPending...\u001b[39m\n",
            "\u001b[3A\u001b[0J  \u001b[34;1m-\u001b[39;22m \u001b[39mInstalling \u001b[39m\u001b[36mpython-json-logger\u001b[39m\u001b[39m (\u001b[39m\u001b[39;1m3.0.1\u001b[39;22m\u001b[39m)\u001b[39m: \u001b[34mDownloading...\u001b[39m \u001b[39;1m0%\u001b[39;22m\n",
            "  \u001b[34;1m-\u001b[39;22m \u001b[39mDowngrading \u001b[39m\u001b[36mpyyaml\u001b[39m\u001b[39m (\u001b[39m\u001b[39;1m6.0.2\u001b[39;22m\u001b[39m -> \u001b[39m\u001b[39;1m6.0.1\u001b[39;22m\u001b[39m)\u001b[39m: \u001b[34mPending...\u001b[39m\n",
            "\u001b[2A\u001b[0J  \u001b[34;1m-\u001b[39;22m \u001b[39mUpdating \u001b[39m\u001b[36mpsutil\u001b[39m\u001b[39m (\u001b[39m\u001b[39;1m5.9.5\u001b[39;22m\u001b[39m -> \u001b[39m\u001b[39;1m6.1.1\u001b[39;22m\u001b[39m)\u001b[39m: \u001b[34mDownloading...\u001b[39m \u001b[39;1m0%\u001b[39;22m\n",
            "  \u001b[34;1m-\u001b[39;22m \u001b[39mInstalling \u001b[39m\u001b[36mpython-json-logger\u001b[39m\u001b[39m (\u001b[39m\u001b[39;1m3.0.1\u001b[39;22m\u001b[39m)\u001b[39m: \u001b[34mDownloading...\u001b[39m \u001b[39;1m0%\u001b[39;22m\n",
            "  \u001b[34;1m-\u001b[39;22m \u001b[39mDowngrading \u001b[39m\u001b[36mpyyaml\u001b[39m\u001b[39m (\u001b[39m\u001b[39;1m6.0.2\u001b[39;22m\u001b[39m -> \u001b[39m\u001b[39;1m6.0.1\u001b[39;22m\u001b[39m)\u001b[39m: \u001b[34mPending...\u001b[39m\n",
            "\u001b[5A\u001b[0J  \u001b[34;1m-\u001b[39;22m \u001b[39mUpdating \u001b[39m\u001b[36mjupyter-server\u001b[39m\u001b[39m (\u001b[39m\u001b[39;1m1.16.0\u001b[39;22m\u001b[39m -> \u001b[39m\u001b[39;1m1.24.0\u001b[39;22m\u001b[39m)\u001b[39m: \u001b[34mDownloading...\u001b[39m \u001b[39;1m0%\u001b[39;22m\n",
            "  \u001b[34;1m-\u001b[39;22m \u001b[39mUpdating \u001b[39m\u001b[36mpsutil\u001b[39m\u001b[39m (\u001b[39m\u001b[39;1m5.9.5\u001b[39;22m\u001b[39m -> \u001b[39m\u001b[39;1m6.1.1\u001b[39;22m\u001b[39m)\u001b[39m: \u001b[34mDownloading...\u001b[39m \u001b[39;1m0%\u001b[39;22m\n",
            "  \u001b[34;1m-\u001b[39;22m \u001b[39mInstalling \u001b[39m\u001b[36mpython-json-logger\u001b[39m\u001b[39m (\u001b[39m\u001b[39;1m3.0.1\u001b[39;22m\u001b[39m)\u001b[39m: \u001b[34mDownloading...\u001b[39m \u001b[39;1m0%\u001b[39;22m\n",
            "  \u001b[34;1m-\u001b[39;22m \u001b[39mDowngrading \u001b[39m\u001b[36mpyyaml\u001b[39m\u001b[39m (\u001b[39m\u001b[39;1m6.0.2\u001b[39;22m\u001b[39m -> \u001b[39m\u001b[39;1m6.0.1\u001b[39;22m\u001b[39m)\u001b[39m: \u001b[34mPending...\u001b[39m\n",
            "\u001b[4A\u001b[0J  \u001b[34;1m-\u001b[39;22m \u001b[39mDowngrading \u001b[39m\u001b[36mdebugpy\u001b[39m\u001b[39m (\u001b[39m\u001b[39;1m1.8.0\u001b[39;22m\u001b[39m -> \u001b[39m\u001b[39;1m1.7.0\u001b[39;22m\u001b[39m)\u001b[39m: \u001b[34mDownloading...\u001b[39m \u001b[39;1m0%\u001b[39;22m\n",
            "  \u001b[34;1m-\u001b[39;22m \u001b[39mUpdating \u001b[39m\u001b[36mjupyter-server\u001b[39m\u001b[39m (\u001b[39m\u001b[39;1m1.16.0\u001b[39;22m\u001b[39m -> \u001b[39m\u001b[39;1m1.24.0\u001b[39;22m\u001b[39m)\u001b[39m: \u001b[34mDownloading...\u001b[39m \u001b[39;1m0%\u001b[39;22m\n",
            "  \u001b[34;1m-\u001b[39;22m \u001b[39mUpdating \u001b[39m\u001b[36mpsutil\u001b[39m\u001b[39m (\u001b[39m\u001b[39;1m5.9.5\u001b[39;22m\u001b[39m -> \u001b[39m\u001b[39;1m6.1.1\u001b[39;22m\u001b[39m)\u001b[39m: \u001b[34mDownloading...\u001b[39m \u001b[39;1m0%\u001b[39;22m\n",
            "  \u001b[34;1m-\u001b[39;22m \u001b[39mInstalling \u001b[39m\u001b[36mpython-json-logger\u001b[39m\u001b[39m (\u001b[39m\u001b[39;1m3.0.1\u001b[39;22m\u001b[39m)\u001b[39m: \u001b[34mDownloading...\u001b[39m \u001b[39;1m0%\u001b[39;22m\n",
            "  \u001b[34;1m-\u001b[39;22m \u001b[39mDowngrading \u001b[39m\u001b[36mpyyaml\u001b[39m\u001b[39m (\u001b[39m\u001b[39;1m6.0.2\u001b[39;22m\u001b[39m -> \u001b[39m\u001b[39;1m6.0.1\u001b[39;22m\u001b[39m)\u001b[39m: \u001b[34mPending...\u001b[39m\n",
            "\u001b[2A\u001b[0J  \u001b[34;1m-\u001b[39;22m \u001b[39mDowngrading \u001b[39m\u001b[36mpyyaml\u001b[39m\u001b[39m (\u001b[39m\u001b[39;1m6.0.2\u001b[39;22m\u001b[39m -> \u001b[39m\u001b[39;1m6.0.1\u001b[39;22m\u001b[39m)\u001b[39m: \u001b[34mPending...\u001b[39m\n",
            "\u001b[1A\u001b[0J  \u001b[34;1m-\u001b[39;22m \u001b[39mInstalling \u001b[39m\u001b[36mpython-json-logger\u001b[39m\u001b[39m (\u001b[39m\u001b[39;1m3.0.1\u001b[39;22m\u001b[39m)\u001b[39m: \u001b[34mDownloading...\u001b[39m \u001b[39;1m100%\u001b[39;22m\n",
            "  \u001b[34;1m-\u001b[39;22m \u001b[39mDowngrading \u001b[39m\u001b[36mpyyaml\u001b[39m\u001b[39m (\u001b[39m\u001b[39;1m6.0.2\u001b[39;22m\u001b[39m -> \u001b[39m\u001b[39;1m6.0.1\u001b[39;22m\u001b[39m)\u001b[39m: \u001b[34mPending...\u001b[39m\n",
            "\u001b[1A\u001b[0J  \u001b[34;1m-\u001b[39;22m \u001b[39mDowngrading \u001b[39m\u001b[36mpyyaml\u001b[39m\u001b[39m (\u001b[39m\u001b[39;1m6.0.2\u001b[39;22m\u001b[39m -> \u001b[39m\u001b[39;1m6.0.1\u001b[39;22m\u001b[39m)\u001b[39m: \u001b[34mDownloading...\u001b[39m \u001b[39;1m0%\u001b[39;22m\n",
            "\u001b[2A\u001b[0J  \u001b[34;1m-\u001b[39;22m \u001b[39mDowngrading \u001b[39m\u001b[36mpyyaml\u001b[39m\u001b[39m (\u001b[39m\u001b[39;1m6.0.2\u001b[39;22m\u001b[39m -> \u001b[39m\u001b[39;1m6.0.1\u001b[39;22m\u001b[39m)\u001b[39m: \u001b[34mDownloading...\u001b[39m \u001b[39;1m0%\u001b[39;22m\n",
            "\u001b[1A\u001b[0J  \u001b[34;1m-\u001b[39;22m \u001b[39mInstalling \u001b[39m\u001b[36mpython-json-logger\u001b[39m\u001b[39m (\u001b[39m\u001b[39;1m3.0.1\u001b[39;22m\u001b[39m)\u001b[39m: \u001b[34mInstalling...\u001b[39m\n",
            "  \u001b[34;1m-\u001b[39;22m \u001b[39mDowngrading \u001b[39m\u001b[36mpyyaml\u001b[39m\u001b[39m (\u001b[39m\u001b[39;1m6.0.2\u001b[39;22m\u001b[39m -> \u001b[39m\u001b[39;1m6.0.1\u001b[39;22m\u001b[39m)\u001b[39m: \u001b[34mDownloading...\u001b[39m \u001b[39;1m0%\u001b[39;22m\n",
            "\u001b[2A\u001b[0J  \u001b[34;1m-\u001b[39;22m \u001b[39mDowngrading \u001b[39m\u001b[36mpyyaml\u001b[39m\u001b[39m (\u001b[39m\u001b[39;1m6.0.2\u001b[39;22m\u001b[39m -> \u001b[39m\u001b[39;1m6.0.1\u001b[39;22m\u001b[39m)\u001b[39m: \u001b[34mDownloading...\u001b[39m \u001b[39;1m0%\u001b[39;22m\n",
            "\u001b[1A\u001b[0J  \u001b[32;1m-\u001b[39;22m \u001b[39mInstalling \u001b[39m\u001b[36mpython-json-logger\u001b[39m\u001b[39m (\u001b[39m\u001b[32m3.0.1\u001b[39m\u001b[39m)\u001b[39m\n",
            "  \u001b[34;1m-\u001b[39;22m \u001b[39mDowngrading \u001b[39m\u001b[36mpyyaml\u001b[39m\u001b[39m (\u001b[39m\u001b[39;1m6.0.2\u001b[39;22m\u001b[39m -> \u001b[39m\u001b[39;1m6.0.1\u001b[39;22m\u001b[39m)\u001b[39m: \u001b[34mDownloading...\u001b[39m \u001b[39;1m0%\u001b[39;22m\n",
            "\u001b[3A\u001b[0J  \u001b[32;1m-\u001b[39;22m \u001b[39mInstalling \u001b[39m\u001b[36mpython-json-logger\u001b[39m\u001b[39m (\u001b[39m\u001b[32m3.0.1\u001b[39m\u001b[39m)\u001b[39m\n",
            "  \u001b[34;1m-\u001b[39;22m \u001b[39mDowngrading \u001b[39m\u001b[36mpyyaml\u001b[39m\u001b[39m (\u001b[39m\u001b[39;1m6.0.2\u001b[39;22m\u001b[39m -> \u001b[39m\u001b[39;1m6.0.1\u001b[39;22m\u001b[39m)\u001b[39m: \u001b[34mDownloading...\u001b[39m \u001b[39;1m0%\u001b[39;22m\n",
            "\u001b[2A\u001b[0J  \u001b[34;1m-\u001b[39;22m \u001b[39mUpdating \u001b[39m\u001b[36mpsutil\u001b[39m\u001b[39m (\u001b[39m\u001b[39;1m5.9.5\u001b[39;22m\u001b[39m -> \u001b[39m\u001b[39;1m6.1.1\u001b[39;22m\u001b[39m)\u001b[39m: \u001b[34mDownloading...\u001b[39m \u001b[39;1m100%\u001b[39;22m\n",
            "  \u001b[32;1m-\u001b[39;22m \u001b[39mInstalling \u001b[39m\u001b[36mpython-json-logger\u001b[39m\u001b[39m (\u001b[39m\u001b[32m3.0.1\u001b[39m\u001b[39m)\u001b[39m\n",
            "  \u001b[34;1m-\u001b[39;22m \u001b[39mDowngrading \u001b[39m\u001b[36mpyyaml\u001b[39m\u001b[39m (\u001b[39m\u001b[39;1m6.0.2\u001b[39;22m\u001b[39m -> \u001b[39m\u001b[39;1m6.0.1\u001b[39;22m\u001b[39m)\u001b[39m: \u001b[34mDownloading...\u001b[39m \u001b[39;1m0%\u001b[39;22m\n",
            "\u001b[4A\u001b[0J  \u001b[34;1m-\u001b[39;22m \u001b[39mUpdating \u001b[39m\u001b[36mpsutil\u001b[39m\u001b[39m (\u001b[39m\u001b[39;1m5.9.5\u001b[39;22m\u001b[39m -> \u001b[39m\u001b[39;1m6.1.1\u001b[39;22m\u001b[39m)\u001b[39m: \u001b[34mDownloading...\u001b[39m \u001b[39;1m100%\u001b[39;22m\n",
            "  \u001b[32;1m-\u001b[39;22m \u001b[39mInstalling \u001b[39m\u001b[36mpython-json-logger\u001b[39m\u001b[39m (\u001b[39m\u001b[32m3.0.1\u001b[39m\u001b[39m)\u001b[39m\n",
            "  \u001b[34;1m-\u001b[39;22m \u001b[39mDowngrading \u001b[39m\u001b[36mpyyaml\u001b[39m\u001b[39m (\u001b[39m\u001b[39;1m6.0.2\u001b[39;22m\u001b[39m -> \u001b[39m\u001b[39;1m6.0.1\u001b[39;22m\u001b[39m)\u001b[39m: \u001b[34mDownloading...\u001b[39m \u001b[39;1m0%\u001b[39;22m\n",
            "\u001b[3A\u001b[0J  \u001b[34;1m-\u001b[39;22m \u001b[39mUpdating \u001b[39m\u001b[36mjupyter-server\u001b[39m\u001b[39m (\u001b[39m\u001b[39;1m1.16.0\u001b[39;22m\u001b[39m -> \u001b[39m\u001b[39;1m1.24.0\u001b[39;22m\u001b[39m)\u001b[39m: \u001b[34mDownloading...\u001b[39m \u001b[39;1m100%\u001b[39;22m\n",
            "  \u001b[34;1m-\u001b[39;22m \u001b[39mUpdating \u001b[39m\u001b[36mpsutil\u001b[39m\u001b[39m (\u001b[39m\u001b[39;1m5.9.5\u001b[39;22m\u001b[39m -> \u001b[39m\u001b[39;1m6.1.1\u001b[39;22m\u001b[39m)\u001b[39m: \u001b[34mDownloading...\u001b[39m \u001b[39;1m100%\u001b[39;22m\n",
            "  \u001b[32;1m-\u001b[39;22m \u001b[39mInstalling \u001b[39m\u001b[36mpython-json-logger\u001b[39m\u001b[39m (\u001b[39m\u001b[32m3.0.1\u001b[39m\u001b[39m)\u001b[39m\n",
            "  \u001b[34;1m-\u001b[39;22m \u001b[39mDowngrading \u001b[39m\u001b[36mpyyaml\u001b[39m\u001b[39m (\u001b[39m\u001b[39;1m6.0.2\u001b[39;22m\u001b[39m -> \u001b[39m\u001b[39;1m6.0.1\u001b[39;22m\u001b[39m)\u001b[39m: \u001b[34mDownloading...\u001b[39m \u001b[39;1m0%\u001b[39;22m\n",
            "\u001b[3A\u001b[0J  \u001b[32;1m-\u001b[39;22m \u001b[39mInstalling \u001b[39m\u001b[36mpython-json-logger\u001b[39m\u001b[39m (\u001b[39m\u001b[32m3.0.1\u001b[39m\u001b[39m)\u001b[39m\n",
            "  \u001b[34;1m-\u001b[39;22m \u001b[39mDowngrading \u001b[39m\u001b[36mpyyaml\u001b[39m\u001b[39m (\u001b[39m\u001b[39;1m6.0.2\u001b[39;22m\u001b[39m -> \u001b[39m\u001b[39;1m6.0.1\u001b[39;22m\u001b[39m)\u001b[39m: \u001b[34mDownloading...\u001b[39m \u001b[39;1m0%\u001b[39;22m\n",
            "\u001b[2A\u001b[0J  \u001b[34;1m-\u001b[39;22m \u001b[39mUpdating \u001b[39m\u001b[36mpsutil\u001b[39m\u001b[39m (\u001b[39m\u001b[39;1m5.9.5\u001b[39;22m\u001b[39m -> \u001b[39m\u001b[39;1m6.1.1\u001b[39;22m\u001b[39m)\u001b[39m: \u001b[34mInstalling...\u001b[39m\n",
            "  \u001b[32;1m-\u001b[39;22m \u001b[39mInstalling \u001b[39m\u001b[36mpython-json-logger\u001b[39m\u001b[39m (\u001b[39m\u001b[32m3.0.1\u001b[39m\u001b[39m)\u001b[39m\n",
            "  \u001b[34;1m-\u001b[39;22m \u001b[39mDowngrading \u001b[39m\u001b[36mpyyaml\u001b[39m\u001b[39m (\u001b[39m\u001b[39;1m6.0.2\u001b[39;22m\u001b[39m -> \u001b[39m\u001b[39;1m6.0.1\u001b[39;22m\u001b[39m)\u001b[39m: \u001b[34mDownloading...\u001b[39m \u001b[39;1m0%\u001b[39;22m\n",
            "\u001b[4A\u001b[0J  \u001b[34;1m-\u001b[39;22m \u001b[39mUpdating \u001b[39m\u001b[36mpsutil\u001b[39m\u001b[39m (\u001b[39m\u001b[39;1m5.9.5\u001b[39;22m\u001b[39m -> \u001b[39m\u001b[39;1m6.1.1\u001b[39;22m\u001b[39m)\u001b[39m: \u001b[34mInstalling...\u001b[39m\n",
            "  \u001b[32;1m-\u001b[39;22m \u001b[39mInstalling \u001b[39m\u001b[36mpython-json-logger\u001b[39m\u001b[39m (\u001b[39m\u001b[32m3.0.1\u001b[39m\u001b[39m)\u001b[39m\n",
            "  \u001b[34;1m-\u001b[39;22m \u001b[39mDowngrading \u001b[39m\u001b[36mpyyaml\u001b[39m\u001b[39m (\u001b[39m\u001b[39;1m6.0.2\u001b[39;22m\u001b[39m -> \u001b[39m\u001b[39;1m6.0.1\u001b[39;22m\u001b[39m)\u001b[39m: \u001b[34mDownloading...\u001b[39m \u001b[39;1m0%\u001b[39;22m\n",
            "\u001b[3A\u001b[0J  \u001b[34;1m-\u001b[39;22m \u001b[39mUpdating \u001b[39m\u001b[36mjupyter-server\u001b[39m\u001b[39m (\u001b[39m\u001b[39;1m1.16.0\u001b[39;22m\u001b[39m -> \u001b[39m\u001b[39;1m1.24.0\u001b[39;22m\u001b[39m)\u001b[39m: \u001b[34mInstalling...\u001b[39m\n",
            "  \u001b[34;1m-\u001b[39;22m \u001b[39mUpdating \u001b[39m\u001b[36mpsutil\u001b[39m\u001b[39m (\u001b[39m\u001b[39;1m5.9.5\u001b[39;22m\u001b[39m -> \u001b[39m\u001b[39;1m6.1.1\u001b[39;22m\u001b[39m)\u001b[39m: \u001b[34mInstalling...\u001b[39m\n",
            "  \u001b[32;1m-\u001b[39;22m \u001b[39mInstalling \u001b[39m\u001b[36mpython-json-logger\u001b[39m\u001b[39m (\u001b[39m\u001b[32m3.0.1\u001b[39m\u001b[39m)\u001b[39m\n",
            "  \u001b[34;1m-\u001b[39;22m \u001b[39mDowngrading \u001b[39m\u001b[36mpyyaml\u001b[39m\u001b[39m (\u001b[39m\u001b[39;1m6.0.2\u001b[39;22m\u001b[39m -> \u001b[39m\u001b[39;1m6.0.1\u001b[39;22m\u001b[39m)\u001b[39m: \u001b[34mDownloading...\u001b[39m \u001b[39;1m0%\u001b[39;22m\n",
            "\u001b[1A\u001b[0J  \u001b[34;1m-\u001b[39;22m \u001b[39mDowngrading \u001b[39m\u001b[36mpyyaml\u001b[39m\u001b[39m (\u001b[39m\u001b[39;1m6.0.2\u001b[39;22m\u001b[39m -> \u001b[39m\u001b[39;1m6.0.1\u001b[39;22m\u001b[39m)\u001b[39m: \u001b[34mDownloading...\u001b[39m \u001b[39;1m100%\u001b[39;22m\n",
            "\u001b[1A\u001b[0J  \u001b[34;1m-\u001b[39;22m \u001b[39mDowngrading \u001b[39m\u001b[36mpyyaml\u001b[39m\u001b[39m (\u001b[39m\u001b[39;1m6.0.2\u001b[39;22m\u001b[39m -> \u001b[39m\u001b[39;1m6.0.1\u001b[39;22m\u001b[39m)\u001b[39m: \u001b[34mInstalling...\u001b[39m\n",
            "\u001b[5A\u001b[0J  \u001b[34;1m-\u001b[39;22m \u001b[39mUpdating \u001b[39m\u001b[36mjupyter-server\u001b[39m\u001b[39m (\u001b[39m\u001b[39;1m1.16.0\u001b[39;22m\u001b[39m -> \u001b[39m\u001b[39;1m1.24.0\u001b[39;22m\u001b[39m)\u001b[39m: \u001b[34mInstalling...\u001b[39m\n",
            "  \u001b[34;1m-\u001b[39;22m \u001b[39mUpdating \u001b[39m\u001b[36mpsutil\u001b[39m\u001b[39m (\u001b[39m\u001b[39;1m5.9.5\u001b[39;22m\u001b[39m -> \u001b[39m\u001b[39;1m6.1.1\u001b[39;22m\u001b[39m)\u001b[39m: \u001b[34mInstalling...\u001b[39m\n",
            "  \u001b[32;1m-\u001b[39;22m \u001b[39mInstalling \u001b[39m\u001b[36mpython-json-logger\u001b[39m\u001b[39m (\u001b[39m\u001b[32m3.0.1\u001b[39m\u001b[39m)\u001b[39m\n",
            "  \u001b[34;1m-\u001b[39;22m \u001b[39mDowngrading \u001b[39m\u001b[36mpyyaml\u001b[39m\u001b[39m (\u001b[39m\u001b[39;1m6.0.2\u001b[39;22m\u001b[39m -> \u001b[39m\u001b[39;1m6.0.1\u001b[39;22m\u001b[39m)\u001b[39m: \u001b[34mInstalling...\u001b[39m\n",
            "\u001b[4A\u001b[0J  \u001b[34;1m-\u001b[39;22m \u001b[39mDowngrading \u001b[39m\u001b[36mdebugpy\u001b[39m\u001b[39m (\u001b[39m\u001b[39;1m1.8.0\u001b[39;22m\u001b[39m -> \u001b[39m\u001b[39;1m1.7.0\u001b[39;22m\u001b[39m)\u001b[39m: \u001b[34mDownloading...\u001b[39m \u001b[39;1m90%\u001b[39;22m\n",
            "  \u001b[34;1m-\u001b[39;22m \u001b[39mUpdating \u001b[39m\u001b[36mjupyter-server\u001b[39m\u001b[39m (\u001b[39m\u001b[39;1m1.16.0\u001b[39;22m\u001b[39m -> \u001b[39m\u001b[39;1m1.24.0\u001b[39;22m\u001b[39m)\u001b[39m: \u001b[34mInstalling...\u001b[39m\n",
            "  \u001b[34;1m-\u001b[39;22m \u001b[39mUpdating \u001b[39m\u001b[36mpsutil\u001b[39m\u001b[39m (\u001b[39m\u001b[39;1m5.9.5\u001b[39;22m\u001b[39m -> \u001b[39m\u001b[39;1m6.1.1\u001b[39;22m\u001b[39m)\u001b[39m: \u001b[34mInstalling...\u001b[39m\n",
            "  \u001b[32;1m-\u001b[39;22m \u001b[39mInstalling \u001b[39m\u001b[36mpython-json-logger\u001b[39m\u001b[39m (\u001b[39m\u001b[32m3.0.1\u001b[39m\u001b[39m)\u001b[39m\n",
            "  \u001b[34;1m-\u001b[39;22m \u001b[39mDowngrading \u001b[39m\u001b[36mpyyaml\u001b[39m\u001b[39m (\u001b[39m\u001b[39;1m6.0.2\u001b[39;22m\u001b[39m -> \u001b[39m\u001b[39;1m6.0.1\u001b[39;22m\u001b[39m)\u001b[39m: \u001b[34mInstalling...\u001b[39m\n",
            "\u001b[5A\u001b[0J  \u001b[34;1m-\u001b[39;22m \u001b[39mUpdating \u001b[39m\u001b[36mjupyter-server\u001b[39m\u001b[39m (\u001b[39m\u001b[39;1m1.16.0\u001b[39;22m\u001b[39m -> \u001b[39m\u001b[39;1m1.24.0\u001b[39;22m\u001b[39m)\u001b[39m: \u001b[34mInstalling...\u001b[39m\n",
            "  \u001b[34;1m-\u001b[39;22m \u001b[39mUpdating \u001b[39m\u001b[36mpsutil\u001b[39m\u001b[39m (\u001b[39m\u001b[39;1m5.9.5\u001b[39;22m\u001b[39m -> \u001b[39m\u001b[39;1m6.1.1\u001b[39;22m\u001b[39m)\u001b[39m: \u001b[34mInstalling...\u001b[39m\n",
            "  \u001b[32;1m-\u001b[39;22m \u001b[39mInstalling \u001b[39m\u001b[36mpython-json-logger\u001b[39m\u001b[39m (\u001b[39m\u001b[32m3.0.1\u001b[39m\u001b[39m)\u001b[39m\n",
            "  \u001b[34;1m-\u001b[39;22m \u001b[39mDowngrading \u001b[39m\u001b[36mpyyaml\u001b[39m\u001b[39m (\u001b[39m\u001b[39;1m6.0.2\u001b[39;22m\u001b[39m -> \u001b[39m\u001b[39;1m6.0.1\u001b[39;22m\u001b[39m)\u001b[39m: \u001b[34mInstalling...\u001b[39m\n",
            "\u001b[4A\u001b[0J  \u001b[34;1m-\u001b[39;22m \u001b[39mDowngrading \u001b[39m\u001b[36mdebugpy\u001b[39m\u001b[39m (\u001b[39m\u001b[39;1m1.8.0\u001b[39;22m\u001b[39m -> \u001b[39m\u001b[39;1m1.7.0\u001b[39;22m\u001b[39m)\u001b[39m: \u001b[34mDownloading...\u001b[39m \u001b[39;1m100%\u001b[39;22m\n",
            "  \u001b[34;1m-\u001b[39;22m \u001b[39mUpdating \u001b[39m\u001b[36mjupyter-server\u001b[39m\u001b[39m (\u001b[39m\u001b[39;1m1.16.0\u001b[39;22m\u001b[39m -> \u001b[39m\u001b[39;1m1.24.0\u001b[39;22m\u001b[39m)\u001b[39m: \u001b[34mInstalling...\u001b[39m\n",
            "  \u001b[34;1m-\u001b[39;22m \u001b[39mUpdating \u001b[39m\u001b[36mpsutil\u001b[39m\u001b[39m (\u001b[39m\u001b[39;1m5.9.5\u001b[39;22m\u001b[39m -> \u001b[39m\u001b[39;1m6.1.1\u001b[39;22m\u001b[39m)\u001b[39m: \u001b[34mInstalling...\u001b[39m\n",
            "  \u001b[32;1m-\u001b[39;22m \u001b[39mInstalling \u001b[39m\u001b[36mpython-json-logger\u001b[39m\u001b[39m (\u001b[39m\u001b[32m3.0.1\u001b[39m\u001b[39m)\u001b[39m\n",
            "  \u001b[34;1m-\u001b[39;22m \u001b[39mDowngrading \u001b[39m\u001b[36mpyyaml\u001b[39m\u001b[39m (\u001b[39m\u001b[39;1m6.0.2\u001b[39;22m\u001b[39m -> \u001b[39m\u001b[39;1m6.0.1\u001b[39;22m\u001b[39m)\u001b[39m: \u001b[34mInstalling...\u001b[39m\n",
            "\u001b[5A\u001b[0J  \u001b[34;1m-\u001b[39;22m \u001b[39mUpdating \u001b[39m\u001b[36mjupyter-server\u001b[39m\u001b[39m (\u001b[39m\u001b[39;1m1.16.0\u001b[39;22m\u001b[39m -> \u001b[39m\u001b[39;1m1.24.0\u001b[39;22m\u001b[39m)\u001b[39m: \u001b[34mInstalling...\u001b[39m\n",
            "  \u001b[34;1m-\u001b[39;22m \u001b[39mUpdating \u001b[39m\u001b[36mpsutil\u001b[39m\u001b[39m (\u001b[39m\u001b[39;1m5.9.5\u001b[39;22m\u001b[39m -> \u001b[39m\u001b[39;1m6.1.1\u001b[39;22m\u001b[39m)\u001b[39m: \u001b[34mInstalling...\u001b[39m\n",
            "  \u001b[32;1m-\u001b[39;22m \u001b[39mInstalling \u001b[39m\u001b[36mpython-json-logger\u001b[39m\u001b[39m (\u001b[39m\u001b[32m3.0.1\u001b[39m\u001b[39m)\u001b[39m\n",
            "  \u001b[34;1m-\u001b[39;22m \u001b[39mDowngrading \u001b[39m\u001b[36mpyyaml\u001b[39m\u001b[39m (\u001b[39m\u001b[39;1m6.0.2\u001b[39;22m\u001b[39m -> \u001b[39m\u001b[39;1m6.0.1\u001b[39;22m\u001b[39m)\u001b[39m: \u001b[34mInstalling...\u001b[39m\n",
            "\u001b[4A\u001b[0J  \u001b[34;1m-\u001b[39;22m \u001b[39mDowngrading \u001b[39m\u001b[36mdebugpy\u001b[39m\u001b[39m (\u001b[39m\u001b[39;1m1.8.0\u001b[39;22m\u001b[39m -> \u001b[39m\u001b[39;1m1.7.0\u001b[39;22m\u001b[39m)\u001b[39m: \u001b[34mInstalling...\u001b[39m\n",
            "  \u001b[34;1m-\u001b[39;22m \u001b[39mUpdating \u001b[39m\u001b[36mjupyter-server\u001b[39m\u001b[39m (\u001b[39m\u001b[39;1m1.16.0\u001b[39;22m\u001b[39m -> \u001b[39m\u001b[39;1m1.24.0\u001b[39;22m\u001b[39m)\u001b[39m: \u001b[34mInstalling...\u001b[39m\n",
            "  \u001b[34;1m-\u001b[39;22m \u001b[39mUpdating \u001b[39m\u001b[36mpsutil\u001b[39m\u001b[39m (\u001b[39m\u001b[39;1m5.9.5\u001b[39;22m\u001b[39m -> \u001b[39m\u001b[39;1m6.1.1\u001b[39;22m\u001b[39m)\u001b[39m: \u001b[34mInstalling...\u001b[39m\n",
            "  \u001b[32;1m-\u001b[39;22m \u001b[39mInstalling \u001b[39m\u001b[36mpython-json-logger\u001b[39m\u001b[39m (\u001b[39m\u001b[32m3.0.1\u001b[39m\u001b[39m)\u001b[39m\n",
            "  \u001b[34;1m-\u001b[39;22m \u001b[39mDowngrading \u001b[39m\u001b[36mpyyaml\u001b[39m\u001b[39m (\u001b[39m\u001b[39;1m6.0.2\u001b[39;22m\u001b[39m -> \u001b[39m\u001b[39;1m6.0.1\u001b[39;22m\u001b[39m)\u001b[39m: \u001b[34mInstalling...\u001b[39m\n",
            "\u001b[3A\u001b[0J  \u001b[32;1m-\u001b[39;22m \u001b[39mInstalling \u001b[39m\u001b[36mpython-json-logger\u001b[39m\u001b[39m (\u001b[39m\u001b[32m3.0.1\u001b[39m\u001b[39m)\u001b[39m\n",
            "  \u001b[34;1m-\u001b[39;22m \u001b[39mDowngrading \u001b[39m\u001b[36mpyyaml\u001b[39m\u001b[39m (\u001b[39m\u001b[39;1m6.0.2\u001b[39;22m\u001b[39m -> \u001b[39m\u001b[39;1m6.0.1\u001b[39;22m\u001b[39m)\u001b[39m: \u001b[34mInstalling...\u001b[39m\n",
            "\u001b[2A\u001b[0J  \u001b[32;1m-\u001b[39;22m \u001b[39mUpdating \u001b[39m\u001b[36mpsutil\u001b[39m\u001b[39m (\u001b[39m\u001b[39;1m5.9.5\u001b[39;22m\u001b[39m -> \u001b[39m\u001b[32m6.1.1\u001b[39m\u001b[39m)\u001b[39m\n",
            "  \u001b[32;1m-\u001b[39;22m \u001b[39mInstalling \u001b[39m\u001b[36mpython-json-logger\u001b[39m\u001b[39m (\u001b[39m\u001b[32m3.0.1\u001b[39m\u001b[39m)\u001b[39m\n",
            "  \u001b[34;1m-\u001b[39;22m \u001b[39mDowngrading \u001b[39m\u001b[36mpyyaml\u001b[39m\u001b[39m (\u001b[39m\u001b[39;1m6.0.2\u001b[39;22m\u001b[39m -> \u001b[39m\u001b[39;1m6.0.1\u001b[39;22m\u001b[39m)\u001b[39m: \u001b[34mInstalling...\u001b[39m\n",
            "\u001b[1A\u001b[0J  \u001b[32;1m-\u001b[39;22m \u001b[39mDowngrading \u001b[39m\u001b[36mpyyaml\u001b[39m\u001b[39m (\u001b[39m\u001b[39;1m6.0.2\u001b[39;22m\u001b[39m -> \u001b[39m\u001b[32m6.0.1\u001b[39m\u001b[39m)\u001b[39m\n",
            "\u001b[4A\u001b[0J  \u001b[32;1m-\u001b[39;22m \u001b[39mUpdating \u001b[39m\u001b[36mpsutil\u001b[39m\u001b[39m (\u001b[39m\u001b[39;1m5.9.5\u001b[39;22m\u001b[39m -> \u001b[39m\u001b[32m6.1.1\u001b[39m\u001b[39m)\u001b[39m\n",
            "  \u001b[32;1m-\u001b[39;22m \u001b[39mInstalling \u001b[39m\u001b[36mpython-json-logger\u001b[39m\u001b[39m (\u001b[39m\u001b[32m3.0.1\u001b[39m\u001b[39m)\u001b[39m\n",
            "  \u001b[32;1m-\u001b[39;22m \u001b[39mDowngrading \u001b[39m\u001b[36mpyyaml\u001b[39m\u001b[39m (\u001b[39m\u001b[39;1m6.0.2\u001b[39;22m\u001b[39m -> \u001b[39m\u001b[32m6.0.1\u001b[39m\u001b[39m)\u001b[39m\n",
            "\u001b[3A\u001b[0J  \u001b[32;1m-\u001b[39;22m \u001b[39mUpdating \u001b[39m\u001b[36mjupyter-server\u001b[39m\u001b[39m (\u001b[39m\u001b[39;1m1.16.0\u001b[39;22m\u001b[39m -> \u001b[39m\u001b[32m1.24.0\u001b[39m\u001b[39m)\u001b[39m\n",
            "  \u001b[32;1m-\u001b[39;22m \u001b[39mUpdating \u001b[39m\u001b[36mpsutil\u001b[39m\u001b[39m (\u001b[39m\u001b[39;1m5.9.5\u001b[39;22m\u001b[39m -> \u001b[39m\u001b[32m6.1.1\u001b[39m\u001b[39m)\u001b[39m\n",
            "  \u001b[32;1m-\u001b[39;22m \u001b[39mInstalling \u001b[39m\u001b[36mpython-json-logger\u001b[39m\u001b[39m (\u001b[39m\u001b[32m3.0.1\u001b[39m\u001b[39m)\u001b[39m\n",
            "  \u001b[32;1m-\u001b[39;22m \u001b[39mDowngrading \u001b[39m\u001b[36mpyyaml\u001b[39m\u001b[39m (\u001b[39m\u001b[39;1m6.0.2\u001b[39;22m\u001b[39m -> \u001b[39m\u001b[32m6.0.1\u001b[39m\u001b[39m)\u001b[39m\n",
            "\u001b[5A\u001b[0J  \u001b[32;1m-\u001b[39;22m \u001b[39mUpdating \u001b[39m\u001b[36mjupyter-server\u001b[39m\u001b[39m (\u001b[39m\u001b[39;1m1.16.0\u001b[39;22m\u001b[39m -> \u001b[39m\u001b[32m1.24.0\u001b[39m\u001b[39m)\u001b[39m\n",
            "  \u001b[32;1m-\u001b[39;22m \u001b[39mUpdating \u001b[39m\u001b[36mpsutil\u001b[39m\u001b[39m (\u001b[39m\u001b[39;1m5.9.5\u001b[39;22m\u001b[39m -> \u001b[39m\u001b[32m6.1.1\u001b[39m\u001b[39m)\u001b[39m\n",
            "  \u001b[32;1m-\u001b[39;22m \u001b[39mInstalling \u001b[39m\u001b[36mpython-json-logger\u001b[39m\u001b[39m (\u001b[39m\u001b[32m3.0.1\u001b[39m\u001b[39m)\u001b[39m\n",
            "  \u001b[32;1m-\u001b[39;22m \u001b[39mDowngrading \u001b[39m\u001b[36mpyyaml\u001b[39m\u001b[39m (\u001b[39m\u001b[39;1m6.0.2\u001b[39;22m\u001b[39m -> \u001b[39m\u001b[32m6.0.1\u001b[39m\u001b[39m)\u001b[39m\n",
            "\u001b[4A\u001b[0J  \u001b[32;1m-\u001b[39;22m \u001b[39mDowngrading \u001b[39m\u001b[36mdebugpy\u001b[39m\u001b[39m (\u001b[39m\u001b[39;1m1.8.0\u001b[39;22m\u001b[39m -> \u001b[39m\u001b[32m1.7.0\u001b[39m\u001b[39m)\u001b[39m\n",
            "  \u001b[32;1m-\u001b[39;22m \u001b[39mUpdating \u001b[39m\u001b[36mjupyter-server\u001b[39m\u001b[39m (\u001b[39m\u001b[39;1m1.16.0\u001b[39;22m\u001b[39m -> \u001b[39m\u001b[32m1.24.0\u001b[39m\u001b[39m)\u001b[39m\n",
            "  \u001b[32;1m-\u001b[39;22m \u001b[39mUpdating \u001b[39m\u001b[36mpsutil\u001b[39m\u001b[39m (\u001b[39m\u001b[39;1m5.9.5\u001b[39;22m\u001b[39m -> \u001b[39m\u001b[32m6.1.1\u001b[39m\u001b[39m)\u001b[39m\n",
            "  \u001b[32;1m-\u001b[39;22m \u001b[39mInstalling \u001b[39m\u001b[36mpython-json-logger\u001b[39m\u001b[39m (\u001b[39m\u001b[32m3.0.1\u001b[39m\u001b[39m)\u001b[39m\n",
            "  \u001b[32;1m-\u001b[39;22m \u001b[39mDowngrading \u001b[39m\u001b[36mpyyaml\u001b[39m\u001b[39m (\u001b[39m\u001b[39;1m6.0.2\u001b[39;22m\u001b[39m -> \u001b[39m\u001b[32m6.0.1\u001b[39m\u001b[39m)\u001b[39m\n",
            "  \u001b[34;1m-\u001b[39;22m \u001b[39mInstalling \u001b[39m\u001b[36maiofiles\u001b[39m\u001b[39m (\u001b[39m\u001b[39;1m22.1.0\u001b[39;22m\u001b[39m)\u001b[39m: \u001b[34mPending...\u001b[39m\n",
            "  \u001b[34;1m-\u001b[39;22m \u001b[39mInstalling \u001b[39m\u001b[36maiosqlite\u001b[39m\u001b[39m (\u001b[39m\u001b[39;1m0.19.0\u001b[39;22m\u001b[39m)\u001b[39m: \u001b[34mPending...\u001b[39m\n",
            "  \u001b[34;1m-\u001b[39;22m \u001b[39mDowngrading \u001b[39m\u001b[36mcertifi\u001b[39m\u001b[39m (\u001b[39m\u001b[39;1m2025.4.26\u001b[39;22m\u001b[39m -> \u001b[39m\u001b[39;1m2024.12.14\u001b[39;22m\u001b[39m)\u001b[39m: \u001b[34mPending...\u001b[39m\n",
            "  \u001b[34;1m-\u001b[39;22m \u001b[39mDowngrading \u001b[39m\u001b[36mipykernel\u001b[39m\u001b[39m (\u001b[39m\u001b[39;1m6.17.1\u001b[39;22m\u001b[39m -> \u001b[39m\u001b[39;1m6.16.2\u001b[39;22m\u001b[39m)\u001b[39m: \u001b[34mPending...\u001b[39m\n",
            "  \u001b[34;1m-\u001b[39;22m \u001b[39mInstalling \u001b[39m\u001b[36mjupyter-events\u001b[39m\u001b[39m (\u001b[39m\u001b[39;1m0.6.3\u001b[39;22m\u001b[39m)\u001b[39m: \u001b[34mPending...\u001b[39m\n",
            "  \u001b[34;1m-\u001b[39;22m \u001b[39mDowngrading \u001b[39m\u001b[36murllib3\u001b[39m\u001b[39m (\u001b[39m\u001b[39;1m2.4.0\u001b[39;22m\u001b[39m -> \u001b[39m\u001b[39;1m2.0.7\u001b[39;22m\u001b[39m)\u001b[39m: \u001b[34mPending...\u001b[39m\n",
            "\u001b[3A\u001b[0J  \u001b[34;1m-\u001b[39;22m \u001b[39mInstalling \u001b[39m\u001b[36mjupyter-events\u001b[39m\u001b[39m (\u001b[39m\u001b[39;1m0.6.3\u001b[39;22m\u001b[39m)\u001b[39m: \u001b[34mPending...\u001b[39m\n",
            "  \u001b[34;1m-\u001b[39;22m \u001b[39mDowngrading \u001b[39m\u001b[36murllib3\u001b[39m\u001b[39m (\u001b[39m\u001b[39;1m2.4.0\u001b[39;22m\u001b[39m -> \u001b[39m\u001b[39;1m2.0.7\u001b[39;22m\u001b[39m)\u001b[39m: \u001b[34mPending...\u001b[39m\n",
            "\u001b[2A\u001b[0J  \u001b[34;1m-\u001b[39;22m \u001b[39mDowngrading \u001b[39m\u001b[36mipykernel\u001b[39m\u001b[39m (\u001b[39m\u001b[39;1m6.17.1\u001b[39;22m\u001b[39m -> \u001b[39m\u001b[39;1m6.16.2\u001b[39;22m\u001b[39m)\u001b[39m: \u001b[34mDownloading...\u001b[39m \u001b[39;1m0%\u001b[39;22m\n",
            "  \u001b[34;1m-\u001b[39;22m \u001b[39mInstalling \u001b[39m\u001b[36mjupyter-events\u001b[39m\u001b[39m (\u001b[39m\u001b[39;1m0.6.3\u001b[39;22m\u001b[39m)\u001b[39m: \u001b[34mPending...\u001b[39m\n",
            "  \u001b[34;1m-\u001b[39;22m \u001b[39mDowngrading \u001b[39m\u001b[36murllib3\u001b[39m\u001b[39m (\u001b[39m\u001b[39;1m2.4.0\u001b[39;22m\u001b[39m -> \u001b[39m\u001b[39;1m2.0.7\u001b[39;22m\u001b[39m)\u001b[39m: \u001b[34mPending...\u001b[39m\n",
            "\u001b[4A\u001b[0J  \u001b[34;1m-\u001b[39;22m \u001b[39mDowngrading \u001b[39m\u001b[36mipykernel\u001b[39m\u001b[39m (\u001b[39m\u001b[39;1m6.17.1\u001b[39;22m\u001b[39m -> \u001b[39m\u001b[39;1m6.16.2\u001b[39;22m\u001b[39m)\u001b[39m: \u001b[34mDownloading...\u001b[39m \u001b[39;1m0%\u001b[39;22m\n",
            "  \u001b[34;1m-\u001b[39;22m \u001b[39mInstalling \u001b[39m\u001b[36mjupyter-events\u001b[39m\u001b[39m (\u001b[39m\u001b[39;1m0.6.3\u001b[39;22m\u001b[39m)\u001b[39m: \u001b[34mPending...\u001b[39m\n",
            "  \u001b[34;1m-\u001b[39;22m \u001b[39mDowngrading \u001b[39m\u001b[36murllib3\u001b[39m\u001b[39m (\u001b[39m\u001b[39;1m2.4.0\u001b[39;22m\u001b[39m -> \u001b[39m\u001b[39;1m2.0.7\u001b[39;22m\u001b[39m)\u001b[39m: \u001b[34mPending...\u001b[39m\n",
            "\u001b[3A\u001b[0J  \u001b[34;1m-\u001b[39;22m \u001b[39mDowngrading \u001b[39m\u001b[36mcertifi\u001b[39m\u001b[39m (\u001b[39m\u001b[39;1m2025.4.26\u001b[39;22m\u001b[39m -> \u001b[39m\u001b[39;1m2024.12.14\u001b[39;22m\u001b[39m)\u001b[39m: \u001b[34mDownloading...\u001b[39m \u001b[39;1m0%\u001b[39;22m\n",
            "  \u001b[34;1m-\u001b[39;22m \u001b[39mDowngrading \u001b[39m\u001b[36mipykernel\u001b[39m\u001b[39m (\u001b[39m\u001b[39;1m6.17.1\u001b[39;22m\u001b[39m -> \u001b[39m\u001b[39;1m6.16.2\u001b[39;22m\u001b[39m)\u001b[39m: \u001b[34mDownloading...\u001b[39m \u001b[39;1m0%\u001b[39;22m\n",
            "  \u001b[34;1m-\u001b[39;22m \u001b[39mInstalling \u001b[39m\u001b[36mjupyter-events\u001b[39m\u001b[39m (\u001b[39m\u001b[39;1m0.6.3\u001b[39;22m\u001b[39m)\u001b[39m: \u001b[34mPending...\u001b[39m\n",
            "  \u001b[34;1m-\u001b[39;22m \u001b[39mDowngrading \u001b[39m\u001b[36murllib3\u001b[39m\u001b[39m (\u001b[39m\u001b[39;1m2.4.0\u001b[39;22m\u001b[39m -> \u001b[39m\u001b[39;1m2.0.7\u001b[39;22m\u001b[39m)\u001b[39m: \u001b[34mPending...\u001b[39m\n",
            "\u001b[6A\u001b[0J  \u001b[34;1m-\u001b[39;22m \u001b[39mInstalling \u001b[39m\u001b[36maiosqlite\u001b[39m\u001b[39m (\u001b[39m\u001b[39;1m0.19.0\u001b[39;22m\u001b[39m)\u001b[39m: \u001b[34mPending...\u001b[39m\n",
            "  \u001b[34;1m-\u001b[39;22m \u001b[39mDowngrading \u001b[39m\u001b[36mcertifi\u001b[39m\u001b[39m (\u001b[39m\u001b[39;1m2025.4.26\u001b[39;22m\u001b[39m -> \u001b[39m\u001b[39;1m2024.12.14\u001b[39;22m\u001b[39m)\u001b[39m: \u001b[34mDownloading...\u001b[39m \u001b[39;1m0%\u001b[39;22m\n",
            "  \u001b[34;1m-\u001b[39;22m \u001b[39mDowngrading \u001b[39m\u001b[36mipykernel\u001b[39m\u001b[39m (\u001b[39m\u001b[39;1m6.17.1\u001b[39;22m\u001b[39m -> \u001b[39m\u001b[39;1m6.16.2\u001b[39;22m\u001b[39m)\u001b[39m: \u001b[34mDownloading...\u001b[39m \u001b[39;1m0%\u001b[39;22m\n",
            "  \u001b[34;1m-\u001b[39;22m \u001b[39mInstalling \u001b[39m\u001b[36mjupyter-events\u001b[39m\u001b[39m (\u001b[39m\u001b[39;1m0.6.3\u001b[39;22m\u001b[39m)\u001b[39m: \u001b[34mPending...\u001b[39m\n",
            "  \u001b[34;1m-\u001b[39;22m \u001b[39mDowngrading \u001b[39m\u001b[36murllib3\u001b[39m\u001b[39m (\u001b[39m\u001b[39;1m2.4.0\u001b[39;22m\u001b[39m -> \u001b[39m\u001b[39;1m2.0.7\u001b[39;22m\u001b[39m)\u001b[39m: \u001b[34mPending...\u001b[39m\n",
            "\u001b[5A\u001b[0J  \u001b[34;1m-\u001b[39;22m \u001b[39mInstalling \u001b[39m\u001b[36maiofiles\u001b[39m\u001b[39m (\u001b[39m\u001b[39;1m22.1.0\u001b[39;22m\u001b[39m)\u001b[39m: \u001b[34mDownloading...\u001b[39m \u001b[39;1m0%\u001b[39;22m\n",
            "  \u001b[34;1m-\u001b[39;22m \u001b[39mInstalling \u001b[39m\u001b[36maiosqlite\u001b[39m\u001b[39m (\u001b[39m\u001b[39;1m0.19.0\u001b[39;22m\u001b[39m)\u001b[39m: \u001b[34mPending...\u001b[39m\n",
            "  \u001b[34;1m-\u001b[39;22m \u001b[39mDowngrading \u001b[39m\u001b[36mcertifi\u001b[39m\u001b[39m (\u001b[39m\u001b[39;1m2025.4.26\u001b[39;22m\u001b[39m -> \u001b[39m\u001b[39;1m2024.12.14\u001b[39;22m\u001b[39m)\u001b[39m: \u001b[34mDownloading...\u001b[39m \u001b[39;1m0%\u001b[39;22m\n",
            "  \u001b[34;1m-\u001b[39;22m \u001b[39mDowngrading \u001b[39m\u001b[36mipykernel\u001b[39m\u001b[39m (\u001b[39m\u001b[39;1m6.17.1\u001b[39;22m\u001b[39m -> \u001b[39m\u001b[39;1m6.16.2\u001b[39;22m\u001b[39m)\u001b[39m: \u001b[34mDownloading...\u001b[39m \u001b[39;1m0%\u001b[39;22m\n",
            "  \u001b[34;1m-\u001b[39;22m \u001b[39mInstalling \u001b[39m\u001b[36mjupyter-events\u001b[39m\u001b[39m (\u001b[39m\u001b[39;1m0.6.3\u001b[39;22m\u001b[39m)\u001b[39m: \u001b[34mPending...\u001b[39m\n",
            "  \u001b[34;1m-\u001b[39;22m \u001b[39mDowngrading \u001b[39m\u001b[36murllib3\u001b[39m\u001b[39m (\u001b[39m\u001b[39;1m2.4.0\u001b[39;22m\u001b[39m -> \u001b[39m\u001b[39;1m2.0.7\u001b[39;22m\u001b[39m)\u001b[39m: \u001b[34mPending...\u001b[39m\n",
            "\u001b[2A\u001b[0J  \u001b[34;1m-\u001b[39;22m \u001b[39mDowngrading \u001b[39m\u001b[36murllib3\u001b[39m\u001b[39m (\u001b[39m\u001b[39;1m2.4.0\u001b[39;22m\u001b[39m -> \u001b[39m\u001b[39;1m2.0.7\u001b[39;22m\u001b[39m)\u001b[39m: \u001b[34mPending...\u001b[39m\n",
            "\u001b[1A\u001b[0J  \u001b[34;1m-\u001b[39;22m \u001b[39mInstalling \u001b[39m\u001b[36mjupyter-events\u001b[39m\u001b[39m (\u001b[39m\u001b[39;1m0.6.3\u001b[39;22m\u001b[39m)\u001b[39m: \u001b[34mDownloading...\u001b[39m \u001b[39;1m0%\u001b[39;22m\n",
            "  \u001b[34;1m-\u001b[39;22m \u001b[39mDowngrading \u001b[39m\u001b[36murllib3\u001b[39m\u001b[39m (\u001b[39m\u001b[39;1m2.4.0\u001b[39;22m\u001b[39m -> \u001b[39m\u001b[39;1m2.0.7\u001b[39;22m\u001b[39m)\u001b[39m: \u001b[34mPending...\u001b[39m\n",
            "\u001b[5A\u001b[0J  \u001b[34;1m-\u001b[39;22m \u001b[39mDowngrading \u001b[39m\u001b[36mcertifi\u001b[39m\u001b[39m (\u001b[39m\u001b[39;1m2025.4.26\u001b[39;22m\u001b[39m -> \u001b[39m\u001b[39;1m2024.12.14\u001b[39;22m\u001b[39m)\u001b[39m: \u001b[34mDownloading...\u001b[39m \u001b[39;1m0%\u001b[39;22m\n",
            "  \u001b[34;1m-\u001b[39;22m \u001b[39mDowngrading \u001b[39m\u001b[36mipykernel\u001b[39m\u001b[39m (\u001b[39m\u001b[39;1m6.17.1\u001b[39;22m\u001b[39m -> \u001b[39m\u001b[39;1m6.16.2\u001b[39;22m\u001b[39m)\u001b[39m: \u001b[34mDownloading...\u001b[39m \u001b[39;1m0%\u001b[39;22m\n",
            "  \u001b[34;1m-\u001b[39;22m \u001b[39mInstalling \u001b[39m\u001b[36mjupyter-events\u001b[39m\u001b[39m (\u001b[39m\u001b[39;1m0.6.3\u001b[39;22m\u001b[39m)\u001b[39m: \u001b[34mDownloading...\u001b[39m \u001b[39;1m0%\u001b[39;22m\n",
            "  \u001b[34;1m-\u001b[39;22m \u001b[39mDowngrading \u001b[39m\u001b[36murllib3\u001b[39m\u001b[39m (\u001b[39m\u001b[39;1m2.4.0\u001b[39;22m\u001b[39m -> \u001b[39m\u001b[39;1m2.0.7\u001b[39;22m\u001b[39m)\u001b[39m: \u001b[34mPending...\u001b[39m\n",
            "\u001b[4A\u001b[0J  \u001b[34;1m-\u001b[39;22m \u001b[39mInstalling \u001b[39m\u001b[36maiosqlite\u001b[39m\u001b[39m (\u001b[39m\u001b[39;1m0.19.0\u001b[39;22m\u001b[39m)\u001b[39m: \u001b[34mDownloading...\u001b[39m \u001b[39;1m0%\u001b[39;22m\n",
            "  \u001b[34;1m-\u001b[39;22m \u001b[39mDowngrading \u001b[39m\u001b[36mcertifi\u001b[39m\u001b[39m (\u001b[39m\u001b[39;1m2025.4.26\u001b[39;22m\u001b[39m -> \u001b[39m\u001b[39;1m2024.12.14\u001b[39;22m\u001b[39m)\u001b[39m: \u001b[34mDownloading...\u001b[39m \u001b[39;1m0%\u001b[39;22m\n",
            "  \u001b[34;1m-\u001b[39;22m \u001b[39mDowngrading \u001b[39m\u001b[36mipykernel\u001b[39m\u001b[39m (\u001b[39m\u001b[39;1m6.17.1\u001b[39;22m\u001b[39m -> \u001b[39m\u001b[39;1m6.16.2\u001b[39;22m\u001b[39m)\u001b[39m: \u001b[34mDownloading...\u001b[39m \u001b[39;1m0%\u001b[39;22m\n",
            "  \u001b[34;1m-\u001b[39;22m \u001b[39mInstalling \u001b[39m\u001b[36mjupyter-events\u001b[39m\u001b[39m (\u001b[39m\u001b[39;1m0.6.3\u001b[39;22m\u001b[39m)\u001b[39m: \u001b[34mDownloading...\u001b[39m \u001b[39;1m0%\u001b[39;22m\n",
            "  \u001b[34;1m-\u001b[39;22m \u001b[39mDowngrading \u001b[39m\u001b[36murllib3\u001b[39m\u001b[39m (\u001b[39m\u001b[39;1m2.4.0\u001b[39;22m\u001b[39m -> \u001b[39m\u001b[39;1m2.0.7\u001b[39;22m\u001b[39m)\u001b[39m: \u001b[34mPending...\u001b[39m\n",
            "\u001b[1A\u001b[0J  \u001b[34;1m-\u001b[39;22m \u001b[39mDowngrading \u001b[39m\u001b[36murllib3\u001b[39m\u001b[39m (\u001b[39m\u001b[39;1m2.4.0\u001b[39;22m\u001b[39m -> \u001b[39m\u001b[39;1m2.0.7\u001b[39;22m\u001b[39m)\u001b[39m: \u001b[34mDownloading...\u001b[39m \u001b[39;1m0%\u001b[39;22m\n",
            "\u001b[3A\u001b[0J  \u001b[34;1m-\u001b[39;22m \u001b[39mInstalling \u001b[39m\u001b[36mjupyter-events\u001b[39m\u001b[39m (\u001b[39m\u001b[39;1m0.6.3\u001b[39;22m\u001b[39m)\u001b[39m: \u001b[34mDownloading...\u001b[39m \u001b[39;1m0%\u001b[39;22m\n",
            "  \u001b[34;1m-\u001b[39;22m \u001b[39mDowngrading \u001b[39m\u001b[36murllib3\u001b[39m\u001b[39m (\u001b[39m\u001b[39;1m2.4.0\u001b[39;22m\u001b[39m -> \u001b[39m\u001b[39;1m2.0.7\u001b[39;22m\u001b[39m)\u001b[39m: \u001b[34mDownloading...\u001b[39m \u001b[39;1m0%\u001b[39;22m\n",
            "\u001b[2A\u001b[0J  \u001b[34;1m-\u001b[39;22m \u001b[39mDowngrading \u001b[39m\u001b[36mipykernel\u001b[39m\u001b[39m (\u001b[39m\u001b[39;1m6.17.1\u001b[39;22m\u001b[39m -> \u001b[39m\u001b[39;1m6.16.2\u001b[39;22m\u001b[39m)\u001b[39m: \u001b[34mDownloading...\u001b[39m \u001b[39;1m100%\u001b[39;22m\n",
            "  \u001b[34;1m-\u001b[39;22m \u001b[39mInstalling \u001b[39m\u001b[36mjupyter-events\u001b[39m\u001b[39m (\u001b[39m\u001b[39;1m0.6.3\u001b[39;22m\u001b[39m)\u001b[39m: \u001b[34mDownloading...\u001b[39m \u001b[39;1m0%\u001b[39;22m\n",
            "  \u001b[34;1m-\u001b[39;22m \u001b[39mDowngrading \u001b[39m\u001b[36murllib3\u001b[39m\u001b[39m (\u001b[39m\u001b[39;1m2.4.0\u001b[39;22m\u001b[39m -> \u001b[39m\u001b[39;1m2.0.7\u001b[39;22m\u001b[39m)\u001b[39m: \u001b[34mDownloading...\u001b[39m \u001b[39;1m0%\u001b[39;22m\n",
            "\u001b[2A\u001b[0J  \u001b[34;1m-\u001b[39;22m \u001b[39mDowngrading \u001b[39m\u001b[36murllib3\u001b[39m\u001b[39m (\u001b[39m\u001b[39;1m2.4.0\u001b[39;22m\u001b[39m -> \u001b[39m\u001b[39;1m2.0.7\u001b[39;22m\u001b[39m)\u001b[39m: \u001b[34mDownloading...\u001b[39m \u001b[39;1m0%\u001b[39;22m\n",
            "\u001b[1A\u001b[0J  \u001b[34;1m-\u001b[39;22m \u001b[39mInstalling \u001b[39m\u001b[36mjupyter-events\u001b[39m\u001b[39m (\u001b[39m\u001b[39;1m0.6.3\u001b[39;22m\u001b[39m)\u001b[39m: \u001b[34mDownloading...\u001b[39m \u001b[39;1m100%\u001b[39;22m\n",
            "  \u001b[34;1m-\u001b[39;22m \u001b[39mDowngrading \u001b[39m\u001b[36murllib3\u001b[39m\u001b[39m (\u001b[39m\u001b[39;1m2.4.0\u001b[39;22m\u001b[39m -> \u001b[39m\u001b[39;1m2.0.7\u001b[39;22m\u001b[39m)\u001b[39m: \u001b[34mDownloading...\u001b[39m \u001b[39;1m0%\u001b[39;22m\n",
            "\u001b[6A\u001b[0J  \u001b[34;1m-\u001b[39;22m \u001b[39mInstalling \u001b[39m\u001b[36maiosqlite\u001b[39m\u001b[39m (\u001b[39m\u001b[39;1m0.19.0\u001b[39;22m\u001b[39m)\u001b[39m: \u001b[34mDownloading...\u001b[39m \u001b[39;1m0%\u001b[39;22m\n",
            "  \u001b[34;1m-\u001b[39;22m \u001b[39mDowngrading \u001b[39m\u001b[36mcertifi\u001b[39m\u001b[39m (\u001b[39m\u001b[39;1m2025.4.26\u001b[39;22m\u001b[39m -> \u001b[39m\u001b[39;1m2024.12.14\u001b[39;22m\u001b[39m)\u001b[39m: \u001b[34mDownloading...\u001b[39m \u001b[39;1m0%\u001b[39;22m\n",
            "  \u001b[34;1m-\u001b[39;22m \u001b[39mDowngrading \u001b[39m\u001b[36mipykernel\u001b[39m\u001b[39m (\u001b[39m\u001b[39;1m6.17.1\u001b[39;22m\u001b[39m -> \u001b[39m\u001b[39;1m6.16.2\u001b[39;22m\u001b[39m)\u001b[39m: \u001b[34mDownloading...\u001b[39m \u001b[39;1m100%\u001b[39;22m\n",
            "  \u001b[34;1m-\u001b[39;22m \u001b[39mInstalling \u001b[39m\u001b[36mjupyter-events\u001b[39m\u001b[39m (\u001b[39m\u001b[39;1m0.6.3\u001b[39;22m\u001b[39m)\u001b[39m: \u001b[34mDownloading...\u001b[39m \u001b[39;1m100%\u001b[39;22m\n",
            "  \u001b[34;1m-\u001b[39;22m \u001b[39mDowngrading \u001b[39m\u001b[36murllib3\u001b[39m\u001b[39m (\u001b[39m\u001b[39;1m2.4.0\u001b[39;22m\u001b[39m -> \u001b[39m\u001b[39;1m2.0.7\u001b[39;22m\u001b[39m)\u001b[39m: \u001b[34mDownloading...\u001b[39m \u001b[39;1m0%\u001b[39;22m\n",
            "\u001b[5A\u001b[0J  \u001b[34;1m-\u001b[39;22m \u001b[39mInstalling \u001b[39m\u001b[36maiofiles\u001b[39m\u001b[39m (\u001b[39m\u001b[39;1m22.1.0\u001b[39;22m\u001b[39m)\u001b[39m: \u001b[34mDownloading...\u001b[39m \u001b[39;1m100%\u001b[39;22m\n",
            "  \u001b[34;1m-\u001b[39;22m \u001b[39mInstalling \u001b[39m\u001b[36maiosqlite\u001b[39m\u001b[39m (\u001b[39m\u001b[39;1m0.19.0\u001b[39;22m\u001b[39m)\u001b[39m: \u001b[34mDownloading...\u001b[39m \u001b[39;1m0%\u001b[39;22m\n",
            "  \u001b[34;1m-\u001b[39;22m \u001b[39mDowngrading \u001b[39m\u001b[36mcertifi\u001b[39m\u001b[39m (\u001b[39m\u001b[39;1m2025.4.26\u001b[39;22m\u001b[39m -> \u001b[39m\u001b[39;1m2024.12.14\u001b[39;22m\u001b[39m)\u001b[39m: \u001b[34mDownloading...\u001b[39m \u001b[39;1m0%\u001b[39;22m\n",
            "  \u001b[34;1m-\u001b[39;22m \u001b[39mDowngrading \u001b[39m\u001b[36mipykernel\u001b[39m\u001b[39m (\u001b[39m\u001b[39;1m6.17.1\u001b[39;22m\u001b[39m -> \u001b[39m\u001b[39;1m6.16.2\u001b[39;22m\u001b[39m)\u001b[39m: \u001b[34mDownloading...\u001b[39m \u001b[39;1m100%\u001b[39;22m\n",
            "  \u001b[34;1m-\u001b[39;22m \u001b[39mInstalling \u001b[39m\u001b[36mjupyter-events\u001b[39m\u001b[39m (\u001b[39m\u001b[39;1m0.6.3\u001b[39;22m\u001b[39m)\u001b[39m: \u001b[34mDownloading...\u001b[39m \u001b[39;1m100%\u001b[39;22m\n",
            "  \u001b[34;1m-\u001b[39;22m \u001b[39mDowngrading \u001b[39m\u001b[36murllib3\u001b[39m\u001b[39m (\u001b[39m\u001b[39;1m2.4.0\u001b[39;22m\u001b[39m -> \u001b[39m\u001b[39;1m2.0.7\u001b[39;22m\u001b[39m)\u001b[39m: \u001b[34mDownloading...\u001b[39m \u001b[39;1m0%\u001b[39;22m\n",
            "\u001b[2A\u001b[0J  \u001b[34;1m-\u001b[39;22m \u001b[39mDowngrading \u001b[39m\u001b[36murllib3\u001b[39m\u001b[39m (\u001b[39m\u001b[39;1m2.4.0\u001b[39;22m\u001b[39m -> \u001b[39m\u001b[39;1m2.0.7\u001b[39;22m\u001b[39m)\u001b[39m: \u001b[34mDownloading...\u001b[39m \u001b[39;1m0%\u001b[39;22m\n",
            "\u001b[1A\u001b[0J  \u001b[34;1m-\u001b[39;22m \u001b[39mInstalling \u001b[39m\u001b[36mjupyter-events\u001b[39m\u001b[39m (\u001b[39m\u001b[39;1m0.6.3\u001b[39;22m\u001b[39m)\u001b[39m: \u001b[34mInstalling...\u001b[39m\n",
            "  \u001b[34;1m-\u001b[39;22m \u001b[39mDowngrading \u001b[39m\u001b[36murllib3\u001b[39m\u001b[39m (\u001b[39m\u001b[39;1m2.4.0\u001b[39;22m\u001b[39m -> \u001b[39m\u001b[39;1m2.0.7\u001b[39;22m\u001b[39m)\u001b[39m: \u001b[34mDownloading...\u001b[39m \u001b[39;1m0%\u001b[39;22m\n",
            "\u001b[5A\u001b[0J  \u001b[34;1m-\u001b[39;22m \u001b[39mDowngrading \u001b[39m\u001b[36mcertifi\u001b[39m\u001b[39m (\u001b[39m\u001b[39;1m2025.4.26\u001b[39;22m\u001b[39m -> \u001b[39m\u001b[39;1m2024.12.14\u001b[39;22m\u001b[39m)\u001b[39m: \u001b[34mDownloading...\u001b[39m \u001b[39;1m0%\u001b[39;22m\n",
            "  \u001b[34;1m-\u001b[39;22m \u001b[39mDowngrading \u001b[39m\u001b[36mipykernel\u001b[39m\u001b[39m (\u001b[39m\u001b[39;1m6.17.1\u001b[39;22m\u001b[39m -> \u001b[39m\u001b[39;1m6.16.2\u001b[39;22m\u001b[39m)\u001b[39m: \u001b[34mDownloading...\u001b[39m \u001b[39;1m100%\u001b[39;22m\n",
            "  \u001b[34;1m-\u001b[39;22m \u001b[39mInstalling \u001b[39m\u001b[36mjupyter-events\u001b[39m\u001b[39m (\u001b[39m\u001b[39;1m0.6.3\u001b[39;22m\u001b[39m)\u001b[39m: \u001b[34mInstalling...\u001b[39m\n",
            "  \u001b[34;1m-\u001b[39;22m \u001b[39mDowngrading \u001b[39m\u001b[36murllib3\u001b[39m\u001b[39m (\u001b[39m\u001b[39;1m2.4.0\u001b[39;22m\u001b[39m -> \u001b[39m\u001b[39;1m2.0.7\u001b[39;22m\u001b[39m)\u001b[39m: \u001b[34mDownloading...\u001b[39m \u001b[39;1m0%\u001b[39;22m\n",
            "\u001b[4A\u001b[0J  \u001b[34;1m-\u001b[39;22m \u001b[39mInstalling \u001b[39m\u001b[36maiosqlite\u001b[39m\u001b[39m (\u001b[39m\u001b[39;1m0.19.0\u001b[39;22m\u001b[39m)\u001b[39m: \u001b[34mDownloading...\u001b[39m \u001b[39;1m100%\u001b[39;22m\n",
            "  \u001b[34;1m-\u001b[39;22m \u001b[39mDowngrading \u001b[39m\u001b[36mcertifi\u001b[39m\u001b[39m (\u001b[39m\u001b[39;1m2025.4.26\u001b[39;22m\u001b[39m -> \u001b[39m\u001b[39;1m2024.12.14\u001b[39;22m\u001b[39m)\u001b[39m: \u001b[34mDownloading...\u001b[39m \u001b[39;1m0%\u001b[39;22m\n",
            "  \u001b[34;1m-\u001b[39;22m \u001b[39mDowngrading \u001b[39m\u001b[36mipykernel\u001b[39m\u001b[39m (\u001b[39m\u001b[39;1m6.17.1\u001b[39;22m\u001b[39m -> \u001b[39m\u001b[39;1m6.16.2\u001b[39;22m\u001b[39m)\u001b[39m: \u001b[34mDownloading...\u001b[39m \u001b[39;1m100%\u001b[39;22m\n",
            "  \u001b[34;1m-\u001b[39;22m \u001b[39mInstalling \u001b[39m\u001b[36mjupyter-events\u001b[39m\u001b[39m (\u001b[39m\u001b[39;1m0.6.3\u001b[39;22m\u001b[39m)\u001b[39m: \u001b[34mInstalling...\u001b[39m\n",
            "  \u001b[34;1m-\u001b[39;22m \u001b[39mDowngrading \u001b[39m\u001b[36murllib3\u001b[39m\u001b[39m (\u001b[39m\u001b[39;1m2.4.0\u001b[39;22m\u001b[39m -> \u001b[39m\u001b[39;1m2.0.7\u001b[39;22m\u001b[39m)\u001b[39m: \u001b[34mDownloading...\u001b[39m \u001b[39;1m0%\u001b[39;22m\n",
            "\u001b[6A\u001b[0J  \u001b[34;1m-\u001b[39;22m \u001b[39mInstalling \u001b[39m\u001b[36maiosqlite\u001b[39m\u001b[39m (\u001b[39m\u001b[39;1m0.19.0\u001b[39;22m\u001b[39m)\u001b[39m: \u001b[34mDownloading...\u001b[39m \u001b[39;1m100%\u001b[39;22m\n",
            "  \u001b[34;1m-\u001b[39;22m \u001b[39mDowngrading \u001b[39m\u001b[36mcertifi\u001b[39m\u001b[39m (\u001b[39m\u001b[39;1m2025.4.26\u001b[39;22m\u001b[39m -> \u001b[39m\u001b[39;1m2024.12.14\u001b[39;22m\u001b[39m)\u001b[39m: \u001b[34mDownloading...\u001b[39m \u001b[39;1m0%\u001b[39;22m\n",
            "  \u001b[34;1m-\u001b[39;22m \u001b[39mDowngrading \u001b[39m\u001b[36mipykernel\u001b[39m\u001b[39m (\u001b[39m\u001b[39;1m6.17.1\u001b[39;22m\u001b[39m -> \u001b[39m\u001b[39;1m6.16.2\u001b[39;22m\u001b[39m)\u001b[39m: \u001b[34mDownloading...\u001b[39m \u001b[39;1m100%\u001b[39;22m\n",
            "  \u001b[34;1m-\u001b[39;22m \u001b[39mInstalling \u001b[39m\u001b[36mjupyter-events\u001b[39m\u001b[39m (\u001b[39m\u001b[39;1m0.6.3\u001b[39;22m\u001b[39m)\u001b[39m: \u001b[34mInstalling...\u001b[39m\n",
            "  \u001b[34;1m-\u001b[39;22m \u001b[39mDowngrading \u001b[39m\u001b[36murllib3\u001b[39m\u001b[39m (\u001b[39m\u001b[39;1m2.4.0\u001b[39;22m\u001b[39m -> \u001b[39m\u001b[39;1m2.0.7\u001b[39;22m\u001b[39m)\u001b[39m: \u001b[34mDownloading...\u001b[39m \u001b[39;1m0%\u001b[39;22m\n",
            "\u001b[5A\u001b[0J  \u001b[34;1m-\u001b[39;22m \u001b[39mInstalling \u001b[39m\u001b[36maiofiles\u001b[39m\u001b[39m (\u001b[39m\u001b[39;1m22.1.0\u001b[39;22m\u001b[39m)\u001b[39m: \u001b[34mInstalling...\u001b[39m\n",
            "  \u001b[34;1m-\u001b[39;22m \u001b[39mInstalling \u001b[39m\u001b[36maiosqlite\u001b[39m\u001b[39m (\u001b[39m\u001b[39;1m0.19.0\u001b[39;22m\u001b[39m)\u001b[39m: \u001b[34mDownloading...\u001b[39m \u001b[39;1m100%\u001b[39;22m\n",
            "  \u001b[34;1m-\u001b[39;22m \u001b[39mDowngrading \u001b[39m\u001b[36mcertifi\u001b[39m\u001b[39m (\u001b[39m\u001b[39;1m2025.4.26\u001b[39;22m\u001b[39m -> \u001b[39m\u001b[39;1m2024.12.14\u001b[39;22m\u001b[39m)\u001b[39m: \u001b[34mDownloading...\u001b[39m \u001b[39;1m0%\u001b[39;22m\n",
            "  \u001b[34;1m-\u001b[39;22m \u001b[39mDowngrading \u001b[39m\u001b[36mipykernel\u001b[39m\u001b[39m (\u001b[39m\u001b[39;1m6.17.1\u001b[39;22m\u001b[39m -> \u001b[39m\u001b[39;1m6.16.2\u001b[39;22m\u001b[39m)\u001b[39m: \u001b[34mDownloading...\u001b[39m \u001b[39;1m100%\u001b[39;22m\n",
            "  \u001b[34;1m-\u001b[39;22m \u001b[39mInstalling \u001b[39m\u001b[36mjupyter-events\u001b[39m\u001b[39m (\u001b[39m\u001b[39;1m0.6.3\u001b[39;22m\u001b[39m)\u001b[39m: \u001b[34mInstalling...\u001b[39m\n",
            "  \u001b[34;1m-\u001b[39;22m \u001b[39mDowngrading \u001b[39m\u001b[36murllib3\u001b[39m\u001b[39m (\u001b[39m\u001b[39;1m2.4.0\u001b[39;22m\u001b[39m -> \u001b[39m\u001b[39;1m2.0.7\u001b[39;22m\u001b[39m)\u001b[39m: \u001b[34mDownloading...\u001b[39m \u001b[39;1m0%\u001b[39;22m\n",
            "\u001b[3A\u001b[0J  \u001b[34;1m-\u001b[39;22m \u001b[39mInstalling \u001b[39m\u001b[36mjupyter-events\u001b[39m\u001b[39m (\u001b[39m\u001b[39;1m0.6.3\u001b[39;22m\u001b[39m)\u001b[39m: \u001b[34mInstalling...\u001b[39m\n",
            "  \u001b[34;1m-\u001b[39;22m \u001b[39mDowngrading \u001b[39m\u001b[36murllib3\u001b[39m\u001b[39m (\u001b[39m\u001b[39;1m2.4.0\u001b[39;22m\u001b[39m -> \u001b[39m\u001b[39;1m2.0.7\u001b[39;22m\u001b[39m)\u001b[39m: \u001b[34mDownloading...\u001b[39m \u001b[39;1m0%\u001b[39;22m\n",
            "\u001b[2A\u001b[0J  \u001b[34;1m-\u001b[39;22m \u001b[39mDowngrading \u001b[39m\u001b[36mipykernel\u001b[39m\u001b[39m (\u001b[39m\u001b[39;1m6.17.1\u001b[39;22m\u001b[39m -> \u001b[39m\u001b[39;1m6.16.2\u001b[39;22m\u001b[39m)\u001b[39m: \u001b[34mInstalling...\u001b[39m\n",
            "  \u001b[34;1m-\u001b[39;22m \u001b[39mInstalling \u001b[39m\u001b[36mjupyter-events\u001b[39m\u001b[39m (\u001b[39m\u001b[39;1m0.6.3\u001b[39;22m\u001b[39m)\u001b[39m: \u001b[34mInstalling...\u001b[39m\n",
            "  \u001b[34;1m-\u001b[39;22m \u001b[39mDowngrading \u001b[39m\u001b[36murllib3\u001b[39m\u001b[39m (\u001b[39m\u001b[39;1m2.4.0\u001b[39;22m\u001b[39m -> \u001b[39m\u001b[39;1m2.0.7\u001b[39;22m\u001b[39m)\u001b[39m: \u001b[34mDownloading...\u001b[39m \u001b[39;1m0%\u001b[39;22m\n",
            "\u001b[4A\u001b[0J  \u001b[34;1m-\u001b[39;22m \u001b[39mDowngrading \u001b[39m\u001b[36mipykernel\u001b[39m\u001b[39m (\u001b[39m\u001b[39;1m6.17.1\u001b[39;22m\u001b[39m -> \u001b[39m\u001b[39;1m6.16.2\u001b[39;22m\u001b[39m)\u001b[39m: \u001b[34mInstalling...\u001b[39m\n",
            "  \u001b[34;1m-\u001b[39;22m \u001b[39mInstalling \u001b[39m\u001b[36mjupyter-events\u001b[39m\u001b[39m (\u001b[39m\u001b[39;1m0.6.3\u001b[39;22m\u001b[39m)\u001b[39m: \u001b[34mInstalling...\u001b[39m\n",
            "  \u001b[34;1m-\u001b[39;22m \u001b[39mDowngrading \u001b[39m\u001b[36murllib3\u001b[39m\u001b[39m (\u001b[39m\u001b[39;1m2.4.0\u001b[39;22m\u001b[39m -> \u001b[39m\u001b[39;1m2.0.7\u001b[39;22m\u001b[39m)\u001b[39m: \u001b[34mDownloading...\u001b[39m \u001b[39;1m0%\u001b[39;22m\n",
            "\u001b[3A\u001b[0J  \u001b[34;1m-\u001b[39;22m \u001b[39mDowngrading \u001b[39m\u001b[36mcertifi\u001b[39m\u001b[39m (\u001b[39m\u001b[39;1m2025.4.26\u001b[39;22m\u001b[39m -> \u001b[39m\u001b[39;1m2024.12.14\u001b[39;22m\u001b[39m)\u001b[39m: \u001b[34mDownloading...\u001b[39m \u001b[39;1m100%\u001b[39;22m\n",
            "  \u001b[34;1m-\u001b[39;22m \u001b[39mDowngrading \u001b[39m\u001b[36mipykernel\u001b[39m\u001b[39m (\u001b[39m\u001b[39;1m6.17.1\u001b[39;22m\u001b[39m -> \u001b[39m\u001b[39;1m6.16.2\u001b[39;22m\u001b[39m)\u001b[39m: \u001b[34mInstalling...\u001b[39m\n",
            "  \u001b[34;1m-\u001b[39;22m \u001b[39mInstalling \u001b[39m\u001b[36mjupyter-events\u001b[39m\u001b[39m (\u001b[39m\u001b[39;1m0.6.3\u001b[39;22m\u001b[39m)\u001b[39m: \u001b[34mInstalling...\u001b[39m\n",
            "  \u001b[34;1m-\u001b[39;22m \u001b[39mDowngrading \u001b[39m\u001b[36murllib3\u001b[39m\u001b[39m (\u001b[39m\u001b[39;1m2.4.0\u001b[39;22m\u001b[39m -> \u001b[39m\u001b[39;1m2.0.7\u001b[39;22m\u001b[39m)\u001b[39m: \u001b[34mDownloading...\u001b[39m \u001b[39;1m0%\u001b[39;22m\n",
            "\u001b[5A\u001b[0J  \u001b[34;1m-\u001b[39;22m \u001b[39mDowngrading \u001b[39m\u001b[36mcertifi\u001b[39m\u001b[39m (\u001b[39m\u001b[39;1m2025.4.26\u001b[39;22m\u001b[39m -> \u001b[39m\u001b[39;1m2024.12.14\u001b[39;22m\u001b[39m)\u001b[39m: \u001b[34mDownloading...\u001b[39m \u001b[39;1m100%\u001b[39;22m\n",
            "  \u001b[34;1m-\u001b[39;22m \u001b[39mDowngrading \u001b[39m\u001b[36mipykernel\u001b[39m\u001b[39m (\u001b[39m\u001b[39;1m6.17.1\u001b[39;22m\u001b[39m -> \u001b[39m\u001b[39;1m6.16.2\u001b[39;22m\u001b[39m)\u001b[39m: \u001b[34mInstalling...\u001b[39m\n",
            "  \u001b[34;1m-\u001b[39;22m \u001b[39mInstalling \u001b[39m\u001b[36mjupyter-events\u001b[39m\u001b[39m (\u001b[39m\u001b[39;1m0.6.3\u001b[39;22m\u001b[39m)\u001b[39m: \u001b[34mInstalling...\u001b[39m\n",
            "  \u001b[34;1m-\u001b[39;22m \u001b[39mDowngrading \u001b[39m\u001b[36murllib3\u001b[39m\u001b[39m (\u001b[39m\u001b[39;1m2.4.0\u001b[39;22m\u001b[39m -> \u001b[39m\u001b[39;1m2.0.7\u001b[39;22m\u001b[39m)\u001b[39m: \u001b[34mDownloading...\u001b[39m \u001b[39;1m0%\u001b[39;22m\n",
            "\u001b[4A\u001b[0J  \u001b[34;1m-\u001b[39;22m \u001b[39mInstalling \u001b[39m\u001b[36maiosqlite\u001b[39m\u001b[39m (\u001b[39m\u001b[39;1m0.19.0\u001b[39;22m\u001b[39m)\u001b[39m: \u001b[34mInstalling...\u001b[39m\n",
            "  \u001b[34;1m-\u001b[39;22m \u001b[39mDowngrading \u001b[39m\u001b[36mcertifi\u001b[39m\u001b[39m (\u001b[39m\u001b[39;1m2025.4.26\u001b[39;22m\u001b[39m -> \u001b[39m\u001b[39;1m2024.12.14\u001b[39;22m\u001b[39m)\u001b[39m: \u001b[34mDownloading...\u001b[39m \u001b[39;1m100%\u001b[39;22m\n",
            "  \u001b[34;1m-\u001b[39;22m \u001b[39mDowngrading \u001b[39m\u001b[36mipykernel\u001b[39m\u001b[39m (\u001b[39m\u001b[39;1m6.17.1\u001b[39;22m\u001b[39m -> \u001b[39m\u001b[39;1m6.16.2\u001b[39;22m\u001b[39m)\u001b[39m: \u001b[34mInstalling...\u001b[39m\n",
            "  \u001b[34;1m-\u001b[39;22m \u001b[39mInstalling \u001b[39m\u001b[36mjupyter-events\u001b[39m\u001b[39m (\u001b[39m\u001b[39;1m0.6.3\u001b[39;22m\u001b[39m)\u001b[39m: \u001b[34mInstalling...\u001b[39m\n",
            "  \u001b[34;1m-\u001b[39;22m \u001b[39mDowngrading \u001b[39m\u001b[36murllib3\u001b[39m\u001b[39m (\u001b[39m\u001b[39;1m2.4.0\u001b[39;22m\u001b[39m -> \u001b[39m\u001b[39;1m2.0.7\u001b[39;22m\u001b[39m)\u001b[39m: \u001b[34mDownloading...\u001b[39m \u001b[39;1m0%\u001b[39;22m\n",
            "\u001b[1A\u001b[0J  \u001b[34;1m-\u001b[39;22m \u001b[39mDowngrading \u001b[39m\u001b[36murllib3\u001b[39m\u001b[39m (\u001b[39m\u001b[39;1m2.4.0\u001b[39;22m\u001b[39m -> \u001b[39m\u001b[39;1m2.0.7\u001b[39;22m\u001b[39m)\u001b[39m: \u001b[34mDownloading...\u001b[39m \u001b[39;1m100%\u001b[39;22m\n",
            "\u001b[4A\u001b[0J  \u001b[34;1m-\u001b[39;22m \u001b[39mDowngrading \u001b[39m\u001b[36mipykernel\u001b[39m\u001b[39m (\u001b[39m\u001b[39;1m6.17.1\u001b[39;22m\u001b[39m -> \u001b[39m\u001b[39;1m6.16.2\u001b[39;22m\u001b[39m)\u001b[39m: \u001b[34mInstalling...\u001b[39m\n",
            "  \u001b[34;1m-\u001b[39;22m \u001b[39mInstalling \u001b[39m\u001b[36mjupyter-events\u001b[39m\u001b[39m (\u001b[39m\u001b[39;1m0.6.3\u001b[39;22m\u001b[39m)\u001b[39m: \u001b[34mInstalling...\u001b[39m\n",
            "  \u001b[34;1m-\u001b[39;22m \u001b[39mDowngrading \u001b[39m\u001b[36murllib3\u001b[39m\u001b[39m (\u001b[39m\u001b[39;1m2.4.0\u001b[39;22m\u001b[39m -> \u001b[39m\u001b[39;1m2.0.7\u001b[39;22m\u001b[39m)\u001b[39m: \u001b[34mDownloading...\u001b[39m \u001b[39;1m100%\u001b[39;22m\n",
            "\u001b[3A\u001b[0J  \u001b[34;1m-\u001b[39;22m \u001b[39mDowngrading \u001b[39m\u001b[36mcertifi\u001b[39m\u001b[39m (\u001b[39m\u001b[39;1m2025.4.26\u001b[39;22m\u001b[39m -> \u001b[39m\u001b[39;1m2024.12.14\u001b[39;22m\u001b[39m)\u001b[39m: \u001b[34mInstalling...\u001b[39m\n",
            "  \u001b[34;1m-\u001b[39;22m \u001b[39mDowngrading \u001b[39m\u001b[36mipykernel\u001b[39m\u001b[39m (\u001b[39m\u001b[39;1m6.17.1\u001b[39;22m\u001b[39m -> \u001b[39m\u001b[39;1m6.16.2\u001b[39;22m\u001b[39m)\u001b[39m: \u001b[34mInstalling...\u001b[39m\n",
            "  \u001b[34;1m-\u001b[39;22m \u001b[39mInstalling \u001b[39m\u001b[36mjupyter-events\u001b[39m\u001b[39m (\u001b[39m\u001b[39;1m0.6.3\u001b[39;22m\u001b[39m)\u001b[39m: \u001b[34mInstalling...\u001b[39m\n",
            "  \u001b[34;1m-\u001b[39;22m \u001b[39mDowngrading \u001b[39m\u001b[36murllib3\u001b[39m\u001b[39m (\u001b[39m\u001b[39;1m2.4.0\u001b[39;22m\u001b[39m -> \u001b[39m\u001b[39;1m2.0.7\u001b[39;22m\u001b[39m)\u001b[39m: \u001b[34mDownloading...\u001b[39m \u001b[39;1m100%\u001b[39;22m\n",
            "\u001b[1A\u001b[0J  \u001b[34;1m-\u001b[39;22m \u001b[39mDowngrading \u001b[39m\u001b[36murllib3\u001b[39m\u001b[39m (\u001b[39m\u001b[39;1m2.4.0\u001b[39;22m\u001b[39m -> \u001b[39m\u001b[39;1m2.0.7\u001b[39;22m\u001b[39m)\u001b[39m: \u001b[34mInstalling...\u001b[39m\n",
            "\u001b[2A\u001b[0J  \u001b[34;1m-\u001b[39;22m \u001b[39mDowngrading \u001b[39m\u001b[36murllib3\u001b[39m\u001b[39m (\u001b[39m\u001b[39;1m2.4.0\u001b[39;22m\u001b[39m -> \u001b[39m\u001b[39;1m2.0.7\u001b[39;22m\u001b[39m)\u001b[39m: \u001b[34mInstalling...\u001b[39m\n",
            "\u001b[1A\u001b[0J  \u001b[32;1m-\u001b[39;22m \u001b[39mInstalling \u001b[39m\u001b[36mjupyter-events\u001b[39m\u001b[39m (\u001b[39m\u001b[32m0.6.3\u001b[39m\u001b[39m)\u001b[39m\n",
            "  \u001b[34;1m-\u001b[39;22m \u001b[39mDowngrading \u001b[39m\u001b[36murllib3\u001b[39m\u001b[39m (\u001b[39m\u001b[39;1m2.4.0\u001b[39;22m\u001b[39m -> \u001b[39m\u001b[39;1m2.0.7\u001b[39;22m\u001b[39m)\u001b[39m: \u001b[34mInstalling...\u001b[39m\n",
            "  \u001b[34;1m-\u001b[39;22m \u001b[39mInstalling \u001b[39m\u001b[36my-py\u001b[39m\u001b[39m (\u001b[39m\u001b[39;1m0.6.2\u001b[39;22m\u001b[39m)\u001b[39m: \u001b[34mPending...\u001b[39m\n",
            "\u001b[7A\u001b[0J  \u001b[34;1m-\u001b[39;22m \u001b[39mInstalling \u001b[39m\u001b[36maiosqlite\u001b[39m\u001b[39m (\u001b[39m\u001b[39;1m0.19.0\u001b[39;22m\u001b[39m)\u001b[39m: \u001b[34mInstalling...\u001b[39m\n",
            "  \u001b[34;1m-\u001b[39;22m \u001b[39mDowngrading \u001b[39m\u001b[36mcertifi\u001b[39m\u001b[39m (\u001b[39m\u001b[39;1m2025.4.26\u001b[39;22m\u001b[39m -> \u001b[39m\u001b[39;1m2024.12.14\u001b[39;22m\u001b[39m)\u001b[39m: \u001b[34mInstalling...\u001b[39m\n",
            "  \u001b[34;1m-\u001b[39;22m \u001b[39mDowngrading \u001b[39m\u001b[36mipykernel\u001b[39m\u001b[39m (\u001b[39m\u001b[39;1m6.17.1\u001b[39;22m\u001b[39m -> \u001b[39m\u001b[39;1m6.16.2\u001b[39;22m\u001b[39m)\u001b[39m: \u001b[34mInstalling...\u001b[39m\n",
            "  \u001b[32;1m-\u001b[39;22m \u001b[39mInstalling \u001b[39m\u001b[36mjupyter-events\u001b[39m\u001b[39m (\u001b[39m\u001b[32m0.6.3\u001b[39m\u001b[39m)\u001b[39m\n",
            "  \u001b[34;1m-\u001b[39;22m \u001b[39mDowngrading \u001b[39m\u001b[36murllib3\u001b[39m\u001b[39m (\u001b[39m\u001b[39;1m2.4.0\u001b[39;22m\u001b[39m -> \u001b[39m\u001b[39;1m2.0.7\u001b[39;22m\u001b[39m)\u001b[39m: \u001b[34mInstalling...\u001b[39m\n",
            "  \u001b[34;1m-\u001b[39;22m \u001b[39mInstalling \u001b[39m\u001b[36my-py\u001b[39m\u001b[39m (\u001b[39m\u001b[39;1m0.6.2\u001b[39;22m\u001b[39m)\u001b[39m: \u001b[34mPending...\u001b[39m\n",
            "\u001b[6A\u001b[0J  \u001b[32;1m-\u001b[39;22m \u001b[39mInstalling \u001b[39m\u001b[36maiofiles\u001b[39m\u001b[39m (\u001b[39m\u001b[32m22.1.0\u001b[39m\u001b[39m)\u001b[39m\n",
            "  \u001b[34;1m-\u001b[39;22m \u001b[39mInstalling \u001b[39m\u001b[36maiosqlite\u001b[39m\u001b[39m (\u001b[39m\u001b[39;1m0.19.0\u001b[39;22m\u001b[39m)\u001b[39m: \u001b[34mInstalling...\u001b[39m\n",
            "  \u001b[34;1m-\u001b[39;22m \u001b[39mDowngrading \u001b[39m\u001b[36mcertifi\u001b[39m\u001b[39m (\u001b[39m\u001b[39;1m2025.4.26\u001b[39;22m\u001b[39m -> \u001b[39m\u001b[39;1m2024.12.14\u001b[39;22m\u001b[39m)\u001b[39m: \u001b[34mInstalling...\u001b[39m\n",
            "  \u001b[34;1m-\u001b[39;22m \u001b[39mDowngrading \u001b[39m\u001b[36mipykernel\u001b[39m\u001b[39m (\u001b[39m\u001b[39;1m6.17.1\u001b[39;22m\u001b[39m -> \u001b[39m\u001b[39;1m6.16.2\u001b[39;22m\u001b[39m)\u001b[39m: \u001b[34mInstalling...\u001b[39m\n",
            "  \u001b[32;1m-\u001b[39;22m \u001b[39mInstalling \u001b[39m\u001b[36mjupyter-events\u001b[39m\u001b[39m (\u001b[39m\u001b[32m0.6.3\u001b[39m\u001b[39m)\u001b[39m\n",
            "  \u001b[34;1m-\u001b[39;22m \u001b[39mDowngrading \u001b[39m\u001b[36murllib3\u001b[39m\u001b[39m (\u001b[39m\u001b[39;1m2.4.0\u001b[39;22m\u001b[39m -> \u001b[39m\u001b[39;1m2.0.7\u001b[39;22m\u001b[39m)\u001b[39m: \u001b[34mInstalling...\u001b[39m\n",
            "  \u001b[34;1m-\u001b[39;22m \u001b[39mInstalling \u001b[39m\u001b[36my-py\u001b[39m\u001b[39m (\u001b[39m\u001b[39;1m0.6.2\u001b[39;22m\u001b[39m)\u001b[39m: \u001b[34mPending...\u001b[39m\n",
            "\u001b[6A\u001b[0J  \u001b[34;1m-\u001b[39;22m \u001b[39mDowngrading \u001b[39m\u001b[36mcertifi\u001b[39m\u001b[39m (\u001b[39m\u001b[39;1m2025.4.26\u001b[39;22m\u001b[39m -> \u001b[39m\u001b[39;1m2024.12.14\u001b[39;22m\u001b[39m)\u001b[39m: \u001b[34mInstalling...\u001b[39m\n",
            "  \u001b[34;1m-\u001b[39;22m \u001b[39mDowngrading \u001b[39m\u001b[36mipykernel\u001b[39m\u001b[39m (\u001b[39m\u001b[39;1m6.17.1\u001b[39;22m\u001b[39m -> \u001b[39m\u001b[39;1m6.16.2\u001b[39;22m\u001b[39m)\u001b[39m: \u001b[34mInstalling...\u001b[39m\n",
            "  \u001b[32;1m-\u001b[39;22m \u001b[39mInstalling \u001b[39m\u001b[36mjupyter-events\u001b[39m\u001b[39m (\u001b[39m\u001b[32m0.6.3\u001b[39m\u001b[39m)\u001b[39m\n",
            "  \u001b[34;1m-\u001b[39;22m \u001b[39mDowngrading \u001b[39m\u001b[36murllib3\u001b[39m\u001b[39m (\u001b[39m\u001b[39;1m2.4.0\u001b[39;22m\u001b[39m -> \u001b[39m\u001b[39;1m2.0.7\u001b[39;22m\u001b[39m)\u001b[39m: \u001b[34mInstalling...\u001b[39m\n",
            "  \u001b[34;1m-\u001b[39;22m \u001b[39mInstalling \u001b[39m\u001b[36my-py\u001b[39m\u001b[39m (\u001b[39m\u001b[39;1m0.6.2\u001b[39;22m\u001b[39m)\u001b[39m: \u001b[34mPending...\u001b[39m\n",
            "\u001b[5A\u001b[0J  \u001b[32;1m-\u001b[39;22m \u001b[39mInstalling \u001b[39m\u001b[36maiosqlite\u001b[39m\u001b[39m (\u001b[39m\u001b[32m0.19.0\u001b[39m\u001b[39m)\u001b[39m\n",
            "  \u001b[34;1m-\u001b[39;22m \u001b[39mDowngrading \u001b[39m\u001b[36mcertifi\u001b[39m\u001b[39m (\u001b[39m\u001b[39;1m2025.4.26\u001b[39;22m\u001b[39m -> \u001b[39m\u001b[39;1m2024.12.14\u001b[39;22m\u001b[39m)\u001b[39m: \u001b[34mInstalling...\u001b[39m\n",
            "  \u001b[34;1m-\u001b[39;22m \u001b[39mDowngrading \u001b[39m\u001b[36mipykernel\u001b[39m\u001b[39m (\u001b[39m\u001b[39;1m6.17.1\u001b[39;22m\u001b[39m -> \u001b[39m\u001b[39;1m6.16.2\u001b[39;22m\u001b[39m)\u001b[39m: \u001b[34mInstalling...\u001b[39m\n",
            "  \u001b[32;1m-\u001b[39;22m \u001b[39mInstalling \u001b[39m\u001b[36mjupyter-events\u001b[39m\u001b[39m (\u001b[39m\u001b[32m0.6.3\u001b[39m\u001b[39m)\u001b[39m\n",
            "  \u001b[34;1m-\u001b[39;22m \u001b[39mDowngrading \u001b[39m\u001b[36murllib3\u001b[39m\u001b[39m (\u001b[39m\u001b[39;1m2.4.0\u001b[39;22m\u001b[39m -> \u001b[39m\u001b[39;1m2.0.7\u001b[39;22m\u001b[39m)\u001b[39m: \u001b[34mInstalling...\u001b[39m\n",
            "  \u001b[34;1m-\u001b[39;22m \u001b[39mInstalling \u001b[39m\u001b[36my-py\u001b[39m\u001b[39m (\u001b[39m\u001b[39;1m0.6.2\u001b[39;22m\u001b[39m)\u001b[39m: \u001b[34mPending...\u001b[39m\n",
            "\u001b[1A\u001b[0J  \u001b[34;1m-\u001b[39;22m \u001b[39mInstalling \u001b[39m\u001b[36my-py\u001b[39m\u001b[39m (\u001b[39m\u001b[39;1m0.6.2\u001b[39;22m\u001b[39m)\u001b[39m: \u001b[34mDownloading...\u001b[39m \u001b[39;1m0%\u001b[39;22m\n",
            "\u001b[1A\u001b[0J  \u001b[34;1m-\u001b[39;22m \u001b[39mInstalling \u001b[39m\u001b[36my-py\u001b[39m\u001b[39m (\u001b[39m\u001b[39;1m0.6.2\u001b[39;22m\u001b[39m)\u001b[39m: \u001b[34mDownloading...\u001b[39m \u001b[39;1m100%\u001b[39;22m\n",
            "\u001b[1A\u001b[0J  \u001b[34;1m-\u001b[39;22m \u001b[39mInstalling \u001b[39m\u001b[36my-py\u001b[39m\u001b[39m (\u001b[39m\u001b[39;1m0.6.2\u001b[39;22m\u001b[39m)\u001b[39m: \u001b[34mInstalling...\u001b[39m\n",
            "\u001b[1A\u001b[0J  \u001b[32;1m-\u001b[39;22m \u001b[39mInstalling \u001b[39m\u001b[36my-py\u001b[39m\u001b[39m (\u001b[39m\u001b[32m0.6.2\u001b[39m\u001b[39m)\u001b[39m\n",
            "\u001b[2A\u001b[0J  \u001b[32;1m-\u001b[39;22m \u001b[39mInstalling \u001b[39m\u001b[36my-py\u001b[39m\u001b[39m (\u001b[39m\u001b[32m0.6.2\u001b[39m\u001b[39m)\u001b[39m\n",
            "\u001b[1A\u001b[0J  \u001b[32;1m-\u001b[39;22m \u001b[39mDowngrading \u001b[39m\u001b[36murllib3\u001b[39m\u001b[39m (\u001b[39m\u001b[39;1m2.4.0\u001b[39;22m\u001b[39m -> \u001b[39m\u001b[32m2.0.7\u001b[39m\u001b[39m)\u001b[39m\n",
            "  \u001b[32;1m-\u001b[39;22m \u001b[39mInstalling \u001b[39m\u001b[36my-py\u001b[39m\u001b[39m (\u001b[39m\u001b[32m0.6.2\u001b[39m\u001b[39m)\u001b[39m\n",
            "\u001b[5A\u001b[0J  \u001b[34;1m-\u001b[39;22m \u001b[39mDowngrading \u001b[39m\u001b[36mipykernel\u001b[39m\u001b[39m (\u001b[39m\u001b[39;1m6.17.1\u001b[39;22m\u001b[39m -> \u001b[39m\u001b[39;1m6.16.2\u001b[39;22m\u001b[39m)\u001b[39m: \u001b[34mInstalling...\u001b[39m\n",
            "  \u001b[32;1m-\u001b[39;22m \u001b[39mInstalling \u001b[39m\u001b[36mjupyter-events\u001b[39m\u001b[39m (\u001b[39m\u001b[32m0.6.3\u001b[39m\u001b[39m)\u001b[39m\n",
            "  \u001b[32;1m-\u001b[39;22m \u001b[39mDowngrading \u001b[39m\u001b[36murllib3\u001b[39m\u001b[39m (\u001b[39m\u001b[39;1m2.4.0\u001b[39;22m\u001b[39m -> \u001b[39m\u001b[32m2.0.7\u001b[39m\u001b[39m)\u001b[39m\n",
            "  \u001b[32;1m-\u001b[39;22m \u001b[39mInstalling \u001b[39m\u001b[36my-py\u001b[39m\u001b[39m (\u001b[39m\u001b[32m0.6.2\u001b[39m\u001b[39m)\u001b[39m\n",
            "\u001b[4A\u001b[0J  \u001b[32;1m-\u001b[39;22m \u001b[39mDowngrading \u001b[39m\u001b[36mcertifi\u001b[39m\u001b[39m (\u001b[39m\u001b[39;1m2025.4.26\u001b[39;22m\u001b[39m -> \u001b[39m\u001b[32m2024.12.14\u001b[39m\u001b[39m)\u001b[39m\n",
            "  \u001b[34;1m-\u001b[39;22m \u001b[39mDowngrading \u001b[39m\u001b[36mipykernel\u001b[39m\u001b[39m (\u001b[39m\u001b[39;1m6.17.1\u001b[39;22m\u001b[39m -> \u001b[39m\u001b[39;1m6.16.2\u001b[39;22m\u001b[39m)\u001b[39m: \u001b[34mInstalling...\u001b[39m\n",
            "  \u001b[32;1m-\u001b[39;22m \u001b[39mInstalling \u001b[39m\u001b[36mjupyter-events\u001b[39m\u001b[39m (\u001b[39m\u001b[32m0.6.3\u001b[39m\u001b[39m)\u001b[39m\n",
            "  \u001b[32;1m-\u001b[39;22m \u001b[39mDowngrading \u001b[39m\u001b[36murllib3\u001b[39m\u001b[39m (\u001b[39m\u001b[39;1m2.4.0\u001b[39;22m\u001b[39m -> \u001b[39m\u001b[32m2.0.7\u001b[39m\u001b[39m)\u001b[39m\n",
            "  \u001b[32;1m-\u001b[39;22m \u001b[39mInstalling \u001b[39m\u001b[36my-py\u001b[39m\u001b[39m (\u001b[39m\u001b[32m0.6.2\u001b[39m\u001b[39m)\u001b[39m\n",
            "\u001b[4A\u001b[0J  \u001b[32;1m-\u001b[39;22m \u001b[39mInstalling \u001b[39m\u001b[36mjupyter-events\u001b[39m\u001b[39m (\u001b[39m\u001b[32m0.6.3\u001b[39m\u001b[39m)\u001b[39m\n",
            "  \u001b[32;1m-\u001b[39;22m \u001b[39mDowngrading \u001b[39m\u001b[36murllib3\u001b[39m\u001b[39m (\u001b[39m\u001b[39;1m2.4.0\u001b[39;22m\u001b[39m -> \u001b[39m\u001b[32m2.0.7\u001b[39m\u001b[39m)\u001b[39m\n",
            "  \u001b[32;1m-\u001b[39;22m \u001b[39mInstalling \u001b[39m\u001b[36my-py\u001b[39m\u001b[39m (\u001b[39m\u001b[32m0.6.2\u001b[39m\u001b[39m)\u001b[39m\n",
            "\u001b[3A\u001b[0J  \u001b[32;1m-\u001b[39;22m \u001b[39mDowngrading \u001b[39m\u001b[36mipykernel\u001b[39m\u001b[39m (\u001b[39m\u001b[39;1m6.17.1\u001b[39;22m\u001b[39m -> \u001b[39m\u001b[32m6.16.2\u001b[39m\u001b[39m)\u001b[39m\n",
            "  \u001b[32;1m-\u001b[39;22m \u001b[39mInstalling \u001b[39m\u001b[36mjupyter-events\u001b[39m\u001b[39m (\u001b[39m\u001b[32m0.6.3\u001b[39m\u001b[39m)\u001b[39m\n",
            "  \u001b[32;1m-\u001b[39;22m \u001b[39mDowngrading \u001b[39m\u001b[36murllib3\u001b[39m\u001b[39m (\u001b[39m\u001b[39;1m2.4.0\u001b[39;22m\u001b[39m -> \u001b[39m\u001b[32m2.0.7\u001b[39m\u001b[39m)\u001b[39m\n",
            "  \u001b[32;1m-\u001b[39;22m \u001b[39mInstalling \u001b[39m\u001b[36my-py\u001b[39m\u001b[39m (\u001b[39m\u001b[32m0.6.2\u001b[39m\u001b[39m)\u001b[39m\n",
            "  \u001b[34;1m-\u001b[39;22m \u001b[39mDowngrading \u001b[39m\u001b[36mbabel\u001b[39m\u001b[39m (\u001b[39m\u001b[39;1m2.17.0\u001b[39;22m\u001b[39m -> \u001b[39m\u001b[39;1m2.14.0\u001b[39;22m\u001b[39m)\u001b[39m: \u001b[34mPending...\u001b[39m\n",
            "  \u001b[34;1m-\u001b[39;22m \u001b[39mInstalling \u001b[39m\u001b[36mjson5\u001b[39m\u001b[39m (\u001b[39m\u001b[39;1m0.9.16\u001b[39;22m\u001b[39m)\u001b[39m: \u001b[34mPending...\u001b[39m\n",
            "  \u001b[34;1m-\u001b[39;22m \u001b[39mInstalling \u001b[39m\u001b[36mjupyter-server-fileid\u001b[39m\u001b[39m (\u001b[39m\u001b[39;1m0.9.3\u001b[39;22m\u001b[39m)\u001b[39m: \u001b[34mPending...\u001b[39m\n",
            "  \u001b[34;1m-\u001b[39;22m \u001b[39mInstalling \u001b[39m\u001b[36mjupyter-ydoc\u001b[39m\u001b[39m (\u001b[39m\u001b[39;1m0.2.5\u001b[39;22m\u001b[39m)\u001b[39m: \u001b[34mPending...\u001b[39m\n",
            "  \u001b[34;1m-\u001b[39;22m \u001b[39mDowngrading \u001b[39m\u001b[36mnbclassic\u001b[39m\u001b[39m (\u001b[39m\u001b[39;1m1.3.0\u001b[39;22m\u001b[39m -> \u001b[39m\u001b[39;1m1.1.0\u001b[39;22m\u001b[39m)\u001b[39m: \u001b[34mPending...\u001b[39m\n",
            "  \u001b[34;1m-\u001b[39;22m \u001b[39mUpdating \u001b[39m\u001b[36mnumpy\u001b[39m\u001b[39m (\u001b[39m\u001b[39;1m1.25.0\u001b[39;22m\u001b[39m -> \u001b[39m\u001b[39;1m1.26.4\u001b[39;22m\u001b[39m)\u001b[39m: \u001b[34mPending...\u001b[39m\n",
            "\u001b[6A\u001b[0J  \u001b[34;1m-\u001b[39;22m \u001b[39mInstalling \u001b[39m\u001b[36mjson5\u001b[39m\u001b[39m (\u001b[39m\u001b[39;1m0.9.16\u001b[39;22m\u001b[39m)\u001b[39m: \u001b[34mPending...\u001b[39m\n",
            "  \u001b[34;1m-\u001b[39;22m \u001b[39mInstalling \u001b[39m\u001b[36mjupyter-server-fileid\u001b[39m\u001b[39m (\u001b[39m\u001b[39;1m0.9.3\u001b[39;22m\u001b[39m)\u001b[39m: \u001b[34mPending...\u001b[39m\n",
            "  \u001b[34;1m-\u001b[39;22m \u001b[39mInstalling \u001b[39m\u001b[36mjupyter-ydoc\u001b[39m\u001b[39m (\u001b[39m\u001b[39;1m0.2.5\u001b[39;22m\u001b[39m)\u001b[39m: \u001b[34mPending...\u001b[39m\n",
            "  \u001b[34;1m-\u001b[39;22m \u001b[39mDowngrading \u001b[39m\u001b[36mnbclassic\u001b[39m\u001b[39m (\u001b[39m\u001b[39;1m1.3.0\u001b[39;22m\u001b[39m -> \u001b[39m\u001b[39;1m1.1.0\u001b[39;22m\u001b[39m)\u001b[39m: \u001b[34mPending...\u001b[39m\n",
            "  \u001b[34;1m-\u001b[39;22m \u001b[39mUpdating \u001b[39m\u001b[36mnumpy\u001b[39m\u001b[39m (\u001b[39m\u001b[39;1m1.25.0\u001b[39;22m\u001b[39m -> \u001b[39m\u001b[39;1m1.26.4\u001b[39;22m\u001b[39m)\u001b[39m: \u001b[34mPending...\u001b[39m\n",
            "\u001b[5A\u001b[0J  \u001b[34;1m-\u001b[39;22m \u001b[39mDowngrading \u001b[39m\u001b[36mbabel\u001b[39m\u001b[39m (\u001b[39m\u001b[39;1m2.17.0\u001b[39;22m\u001b[39m -> \u001b[39m\u001b[39;1m2.14.0\u001b[39;22m\u001b[39m)\u001b[39m: \u001b[34mDownloading...\u001b[39m \u001b[39;1m0%\u001b[39;22m\n",
            "  \u001b[34;1m-\u001b[39;22m \u001b[39mInstalling \u001b[39m\u001b[36mjson5\u001b[39m\u001b[39m (\u001b[39m\u001b[39;1m0.9.16\u001b[39;22m\u001b[39m)\u001b[39m: \u001b[34mPending...\u001b[39m\n",
            "  \u001b[34;1m-\u001b[39;22m \u001b[39mInstalling \u001b[39m\u001b[36mjupyter-server-fileid\u001b[39m\u001b[39m (\u001b[39m\u001b[39;1m0.9.3\u001b[39;22m\u001b[39m)\u001b[39m: \u001b[34mPending...\u001b[39m\n",
            "  \u001b[34;1m-\u001b[39;22m \u001b[39mInstalling \u001b[39m\u001b[36mjupyter-ydoc\u001b[39m\u001b[39m (\u001b[39m\u001b[39;1m0.2.5\u001b[39;22m\u001b[39m)\u001b[39m: \u001b[34mPending...\u001b[39m\n",
            "  \u001b[34;1m-\u001b[39;22m \u001b[39mDowngrading \u001b[39m\u001b[36mnbclassic\u001b[39m\u001b[39m (\u001b[39m\u001b[39;1m1.3.0\u001b[39;22m\u001b[39m -> \u001b[39m\u001b[39;1m1.1.0\u001b[39;22m\u001b[39m)\u001b[39m: \u001b[34mPending...\u001b[39m\n",
            "  \u001b[34;1m-\u001b[39;22m \u001b[39mUpdating \u001b[39m\u001b[36mnumpy\u001b[39m\u001b[39m (\u001b[39m\u001b[39;1m1.25.0\u001b[39;22m\u001b[39m -> \u001b[39m\u001b[39;1m1.26.4\u001b[39;22m\u001b[39m)\u001b[39m: \u001b[34mPending...\u001b[39m\n",
            "\u001b[3A\u001b[0J  \u001b[34;1m-\u001b[39;22m \u001b[39mDowngrading \u001b[39m\u001b[36mnbclassic\u001b[39m\u001b[39m (\u001b[39m\u001b[39;1m1.3.0\u001b[39;22m\u001b[39m -> \u001b[39m\u001b[39;1m1.1.0\u001b[39;22m\u001b[39m)\u001b[39m: \u001b[34mPending...\u001b[39m\n",
            "  \u001b[34;1m-\u001b[39;22m \u001b[39mUpdating \u001b[39m\u001b[36mnumpy\u001b[39m\u001b[39m (\u001b[39m\u001b[39;1m1.25.0\u001b[39;22m\u001b[39m -> \u001b[39m\u001b[39;1m1.26.4\u001b[39;22m\u001b[39m)\u001b[39m: \u001b[34mPending...\u001b[39m\n",
            "\u001b[2A\u001b[0J  \u001b[34;1m-\u001b[39;22m \u001b[39mInstalling \u001b[39m\u001b[36mjupyter-ydoc\u001b[39m\u001b[39m (\u001b[39m\u001b[39;1m0.2.5\u001b[39;22m\u001b[39m)\u001b[39m: \u001b[34mDownloading...\u001b[39m \u001b[39;1m0%\u001b[39;22m\n",
            "  \u001b[34;1m-\u001b[39;22m \u001b[39mDowngrading \u001b[39m\u001b[36mnbclassic\u001b[39m\u001b[39m (\u001b[39m\u001b[39;1m1.3.0\u001b[39;22m\u001b[39m -> \u001b[39m\u001b[39;1m1.1.0\u001b[39;22m\u001b[39m)\u001b[39m: \u001b[34mPending...\u001b[39m\n",
            "  \u001b[34;1m-\u001b[39;22m \u001b[39mUpdating \u001b[39m\u001b[36mnumpy\u001b[39m\u001b[39m (\u001b[39m\u001b[39;1m1.25.0\u001b[39;22m\u001b[39m -> \u001b[39m\u001b[39;1m1.26.4\u001b[39;22m\u001b[39m)\u001b[39m: \u001b[34mPending...\u001b[39m\n",
            "\u001b[4A\u001b[0J  \u001b[34;1m-\u001b[39;22m \u001b[39mInstalling \u001b[39m\u001b[36mjupyter-ydoc\u001b[39m\u001b[39m (\u001b[39m\u001b[39;1m0.2.5\u001b[39;22m\u001b[39m)\u001b[39m: \u001b[34mDownloading...\u001b[39m \u001b[39;1m0%\u001b[39;22m\n",
            "  \u001b[34;1m-\u001b[39;22m \u001b[39mDowngrading \u001b[39m\u001b[36mnbclassic\u001b[39m\u001b[39m (\u001b[39m\u001b[39;1m1.3.0\u001b[39;22m\u001b[39m -> \u001b[39m\u001b[39;1m1.1.0\u001b[39;22m\u001b[39m)\u001b[39m: \u001b[34mPending...\u001b[39m\n",
            "  \u001b[34;1m-\u001b[39;22m \u001b[39mUpdating \u001b[39m\u001b[36mnumpy\u001b[39m\u001b[39m (\u001b[39m\u001b[39;1m1.25.0\u001b[39;22m\u001b[39m -> \u001b[39m\u001b[39;1m1.26.4\u001b[39;22m\u001b[39m)\u001b[39m: \u001b[34mPending...\u001b[39m\n",
            "\u001b[3A\u001b[0J  \u001b[34;1m-\u001b[39;22m \u001b[39mInstalling \u001b[39m\u001b[36mjupyter-server-fileid\u001b[39m\u001b[39m (\u001b[39m\u001b[39;1m0.9.3\u001b[39;22m\u001b[39m)\u001b[39m: \u001b[34mDownloading...\u001b[39m \u001b[39;1m0%\u001b[39;22m\n",
            "  \u001b[34;1m-\u001b[39;22m \u001b[39mInstalling \u001b[39m\u001b[36mjupyter-ydoc\u001b[39m\u001b[39m (\u001b[39m\u001b[39;1m0.2.5\u001b[39;22m\u001b[39m)\u001b[39m: \u001b[34mDownloading...\u001b[39m \u001b[39;1m0%\u001b[39;22m\n",
            "  \u001b[34;1m-\u001b[39;22m \u001b[39mDowngrading \u001b[39m\u001b[36mnbclassic\u001b[39m\u001b[39m (\u001b[39m\u001b[39;1m1.3.0\u001b[39;22m\u001b[39m -> \u001b[39m\u001b[39;1m1.1.0\u001b[39;22m\u001b[39m)\u001b[39m: \u001b[34mPending...\u001b[39m\n",
            "  \u001b[34;1m-\u001b[39;22m \u001b[39mUpdating \u001b[39m\u001b[36mnumpy\u001b[39m\u001b[39m (\u001b[39m\u001b[39;1m1.25.0\u001b[39;22m\u001b[39m -> \u001b[39m\u001b[39;1m1.26.4\u001b[39;22m\u001b[39m)\u001b[39m: \u001b[34mPending...\u001b[39m\n",
            "\u001b[5A\u001b[0J  \u001b[34;1m-\u001b[39;22m \u001b[39mInstalling \u001b[39m\u001b[36mjupyter-server-fileid\u001b[39m\u001b[39m (\u001b[39m\u001b[39;1m0.9.3\u001b[39;22m\u001b[39m)\u001b[39m: \u001b[34mDownloading...\u001b[39m \u001b[39;1m0%\u001b[39;22m\n",
            "  \u001b[34;1m-\u001b[39;22m \u001b[39mInstalling \u001b[39m\u001b[36mjupyter-ydoc\u001b[39m\u001b[39m (\u001b[39m\u001b[39;1m0.2.5\u001b[39;22m\u001b[39m)\u001b[39m: \u001b[34mDownloading...\u001b[39m \u001b[39;1m0%\u001b[39;22m\n",
            "  \u001b[34;1m-\u001b[39;22m \u001b[39mDowngrading \u001b[39m\u001b[36mnbclassic\u001b[39m\u001b[39m (\u001b[39m\u001b[39;1m1.3.0\u001b[39;22m\u001b[39m -> \u001b[39m\u001b[39;1m1.1.0\u001b[39;22m\u001b[39m)\u001b[39m: \u001b[34mPending...\u001b[39m\n",
            "  \u001b[34;1m-\u001b[39;22m \u001b[39mUpdating \u001b[39m\u001b[36mnumpy\u001b[39m\u001b[39m (\u001b[39m\u001b[39;1m1.25.0\u001b[39;22m\u001b[39m -> \u001b[39m\u001b[39;1m1.26.4\u001b[39;22m\u001b[39m)\u001b[39m: \u001b[34mPending...\u001b[39m\n",
            "\u001b[4A\u001b[0J  \u001b[34;1m-\u001b[39;22m \u001b[39mInstalling \u001b[39m\u001b[36mjson5\u001b[39m\u001b[39m (\u001b[39m\u001b[39;1m0.9.16\u001b[39;22m\u001b[39m)\u001b[39m: \u001b[34mDownloading...\u001b[39m \u001b[39;1m0%\u001b[39;22m\n",
            "  \u001b[34;1m-\u001b[39;22m \u001b[39mInstalling \u001b[39m\u001b[36mjupyter-server-fileid\u001b[39m\u001b[39m (\u001b[39m\u001b[39;1m0.9.3\u001b[39;22m\u001b[39m)\u001b[39m: \u001b[34mDownloading...\u001b[39m \u001b[39;1m0%\u001b[39;22m\n",
            "  \u001b[34;1m-\u001b[39;22m \u001b[39mInstalling \u001b[39m\u001b[36mjupyter-ydoc\u001b[39m\u001b[39m (\u001b[39m\u001b[39;1m0.2.5\u001b[39;22m\u001b[39m)\u001b[39m: \u001b[34mDownloading...\u001b[39m \u001b[39;1m0%\u001b[39;22m\n",
            "  \u001b[34;1m-\u001b[39;22m \u001b[39mDowngrading \u001b[39m\u001b[36mnbclassic\u001b[39m\u001b[39m (\u001b[39m\u001b[39;1m1.3.0\u001b[39;22m\u001b[39m -> \u001b[39m\u001b[39;1m1.1.0\u001b[39;22m\u001b[39m)\u001b[39m: \u001b[34mPending...\u001b[39m\n",
            "  \u001b[34;1m-\u001b[39;22m \u001b[39mUpdating \u001b[39m\u001b[36mnumpy\u001b[39m\u001b[39m (\u001b[39m\u001b[39;1m1.25.0\u001b[39;22m\u001b[39m -> \u001b[39m\u001b[39;1m1.26.4\u001b[39;22m\u001b[39m)\u001b[39m: \u001b[34mPending...\u001b[39m\n",
            "\u001b[2A\u001b[0J  \u001b[34;1m-\u001b[39;22m \u001b[39mUpdating \u001b[39m\u001b[36mnumpy\u001b[39m\u001b[39m (\u001b[39m\u001b[39;1m1.25.0\u001b[39;22m\u001b[39m -> \u001b[39m\u001b[39;1m1.26.4\u001b[39;22m\u001b[39m)\u001b[39m: \u001b[34mPending...\u001b[39m\n",
            "\u001b[1A\u001b[0J  \u001b[34;1m-\u001b[39;22m \u001b[39mDowngrading \u001b[39m\u001b[36mnbclassic\u001b[39m\u001b[39m (\u001b[39m\u001b[39;1m1.3.0\u001b[39;22m\u001b[39m -> \u001b[39m\u001b[39;1m1.1.0\u001b[39;22m\u001b[39m)\u001b[39m: \u001b[34mDownloading...\u001b[39m \u001b[39;1m0%\u001b[39;22m\n",
            "  \u001b[34;1m-\u001b[39;22m \u001b[39mUpdating \u001b[39m\u001b[36mnumpy\u001b[39m\u001b[39m (\u001b[39m\u001b[39;1m1.25.0\u001b[39;22m\u001b[39m -> \u001b[39m\u001b[39;1m1.26.4\u001b[39;22m\u001b[39m)\u001b[39m: \u001b[34mPending...\u001b[39m\n",
            "\u001b[3A\u001b[0J  \u001b[34;1m-\u001b[39;22m \u001b[39mDowngrading \u001b[39m\u001b[36mnbclassic\u001b[39m\u001b[39m (\u001b[39m\u001b[39;1m1.3.0\u001b[39;22m\u001b[39m -> \u001b[39m\u001b[39;1m1.1.0\u001b[39;22m\u001b[39m)\u001b[39m: \u001b[34mDownloading...\u001b[39m \u001b[39;1m0%\u001b[39;22m\n",
            "  \u001b[34;1m-\u001b[39;22m \u001b[39mUpdating \u001b[39m\u001b[36mnumpy\u001b[39m\u001b[39m (\u001b[39m\u001b[39;1m1.25.0\u001b[39;22m\u001b[39m -> \u001b[39m\u001b[39;1m1.26.4\u001b[39;22m\u001b[39m)\u001b[39m: \u001b[34mPending...\u001b[39m\n",
            "\u001b[2A\u001b[0J  \u001b[34;1m-\u001b[39;22m \u001b[39mInstalling \u001b[39m\u001b[36mjupyter-ydoc\u001b[39m\u001b[39m (\u001b[39m\u001b[39;1m0.2.5\u001b[39;22m\u001b[39m)\u001b[39m: \u001b[34mDownloading...\u001b[39m \u001b[39;1m100%\u001b[39;22m\n",
            "  \u001b[34;1m-\u001b[39;22m \u001b[39mDowngrading \u001b[39m\u001b[36mnbclassic\u001b[39m\u001b[39m (\u001b[39m\u001b[39;1m1.3.0\u001b[39;22m\u001b[39m -> \u001b[39m\u001b[39;1m1.1.0\u001b[39;22m\u001b[39m)\u001b[39m: \u001b[34mDownloading...\u001b[39m \u001b[39;1m0%\u001b[39;22m\n",
            "  \u001b[34;1m-\u001b[39;22m \u001b[39mUpdating \u001b[39m\u001b[36mnumpy\u001b[39m\u001b[39m (\u001b[39m\u001b[39;1m1.25.0\u001b[39;22m\u001b[39m -> \u001b[39m\u001b[39;1m1.26.4\u001b[39;22m\u001b[39m)\u001b[39m: \u001b[34mPending...\u001b[39m\n",
            "\u001b[5A\u001b[0J  \u001b[34;1m-\u001b[39;22m \u001b[39mInstalling \u001b[39m\u001b[36mjupyter-server-fileid\u001b[39m\u001b[39m (\u001b[39m\u001b[39;1m0.9.3\u001b[39;22m\u001b[39m)\u001b[39m: \u001b[34mDownloading...\u001b[39m \u001b[39;1m0%\u001b[39;22m\n",
            "  \u001b[34;1m-\u001b[39;22m \u001b[39mInstalling \u001b[39m\u001b[36mjupyter-ydoc\u001b[39m\u001b[39m (\u001b[39m\u001b[39;1m0.2.5\u001b[39;22m\u001b[39m)\u001b[39m: \u001b[34mDownloading...\u001b[39m \u001b[39;1m100%\u001b[39;22m\n",
            "  \u001b[34;1m-\u001b[39;22m \u001b[39mDowngrading \u001b[39m\u001b[36mnbclassic\u001b[39m\u001b[39m (\u001b[39m\u001b[39;1m1.3.0\u001b[39;22m\u001b[39m -> \u001b[39m\u001b[39;1m1.1.0\u001b[39;22m\u001b[39m)\u001b[39m: \u001b[34mDownloading...\u001b[39m \u001b[39;1m0%\u001b[39;22m\n",
            "  \u001b[34;1m-\u001b[39;22m \u001b[39mUpdating \u001b[39m\u001b[36mnumpy\u001b[39m\u001b[39m (\u001b[39m\u001b[39;1m1.25.0\u001b[39;22m\u001b[39m -> \u001b[39m\u001b[39;1m1.26.4\u001b[39;22m\u001b[39m)\u001b[39m: \u001b[34mPending...\u001b[39m\n",
            "\u001b[4A\u001b[0J  \u001b[34;1m-\u001b[39;22m \u001b[39mInstalling \u001b[39m\u001b[36mjson5\u001b[39m\u001b[39m (\u001b[39m\u001b[39;1m0.9.16\u001b[39;22m\u001b[39m)\u001b[39m: \u001b[34mDownloading...\u001b[39m \u001b[39;1m100%\u001b[39;22m\n",
            "  \u001b[34;1m-\u001b[39;22m \u001b[39mInstalling \u001b[39m\u001b[36mjupyter-server-fileid\u001b[39m\u001b[39m (\u001b[39m\u001b[39;1m0.9.3\u001b[39;22m\u001b[39m)\u001b[39m: \u001b[34mDownloading...\u001b[39m \u001b[39;1m0%\u001b[39;22m\n",
            "  \u001b[34;1m-\u001b[39;22m \u001b[39mInstalling \u001b[39m\u001b[36mjupyter-ydoc\u001b[39m\u001b[39m (\u001b[39m\u001b[39;1m0.2.5\u001b[39;22m\u001b[39m)\u001b[39m: \u001b[34mDownloading...\u001b[39m \u001b[39;1m100%\u001b[39;22m\n",
            "  \u001b[34;1m-\u001b[39;22m \u001b[39mDowngrading \u001b[39m\u001b[36mnbclassic\u001b[39m\u001b[39m (\u001b[39m\u001b[39;1m1.3.0\u001b[39;22m\u001b[39m -> \u001b[39m\u001b[39;1m1.1.0\u001b[39;22m\u001b[39m)\u001b[39m: \u001b[34mDownloading...\u001b[39m \u001b[39;1m0%\u001b[39;22m\n",
            "  \u001b[34;1m-\u001b[39;22m \u001b[39mUpdating \u001b[39m\u001b[36mnumpy\u001b[39m\u001b[39m (\u001b[39m\u001b[39;1m1.25.0\u001b[39;22m\u001b[39m -> \u001b[39m\u001b[39;1m1.26.4\u001b[39;22m\u001b[39m)\u001b[39m: \u001b[34mPending...\u001b[39m\n",
            "\u001b[4A\u001b[0J  \u001b[34;1m-\u001b[39;22m \u001b[39mInstalling \u001b[39m\u001b[36mjupyter-ydoc\u001b[39m\u001b[39m (\u001b[39m\u001b[39;1m0.2.5\u001b[39;22m\u001b[39m)\u001b[39m: \u001b[34mDownloading...\u001b[39m \u001b[39;1m100%\u001b[39;22m\n",
            "  \u001b[34;1m-\u001b[39;22m \u001b[39mDowngrading \u001b[39m\u001b[36mnbclassic\u001b[39m\u001b[39m (\u001b[39m\u001b[39;1m1.3.0\u001b[39;22m\u001b[39m -> \u001b[39m\u001b[39;1m1.1.0\u001b[39;22m\u001b[39m)\u001b[39m: \u001b[34mDownloading...\u001b[39m \u001b[39;1m0%\u001b[39;22m\n",
            "  \u001b[34;1m-\u001b[39;22m \u001b[39mUpdating \u001b[39m\u001b[36mnumpy\u001b[39m\u001b[39m (\u001b[39m\u001b[39;1m1.25.0\u001b[39;22m\u001b[39m -> \u001b[39m\u001b[39;1m1.26.4\u001b[39;22m\u001b[39m)\u001b[39m: \u001b[34mPending...\u001b[39m\n",
            "\u001b[3A\u001b[0J  \u001b[34;1m-\u001b[39;22m \u001b[39mInstalling \u001b[39m\u001b[36mjupyter-server-fileid\u001b[39m\u001b[39m (\u001b[39m\u001b[39;1m0.9.3\u001b[39;22m\u001b[39m)\u001b[39m: \u001b[34mDownloading...\u001b[39m \u001b[39;1m100%\u001b[39;22m\n",
            "  \u001b[34;1m-\u001b[39;22m \u001b[39mInstalling \u001b[39m\u001b[36mjupyter-ydoc\u001b[39m\u001b[39m (\u001b[39m\u001b[39;1m0.2.5\u001b[39;22m\u001b[39m)\u001b[39m: \u001b[34mDownloading...\u001b[39m \u001b[39;1m100%\u001b[39;22m\n",
            "  \u001b[34;1m-\u001b[39;22m \u001b[39mDowngrading \u001b[39m\u001b[36mnbclassic\u001b[39m\u001b[39m (\u001b[39m\u001b[39;1m1.3.0\u001b[39;22m\u001b[39m -> \u001b[39m\u001b[39;1m1.1.0\u001b[39;22m\u001b[39m)\u001b[39m: \u001b[34mDownloading...\u001b[39m \u001b[39;1m0%\u001b[39;22m\n",
            "  \u001b[34;1m-\u001b[39;22m \u001b[39mUpdating \u001b[39m\u001b[36mnumpy\u001b[39m\u001b[39m (\u001b[39m\u001b[39;1m1.25.0\u001b[39;22m\u001b[39m -> \u001b[39m\u001b[39;1m1.26.4\u001b[39;22m\u001b[39m)\u001b[39m: \u001b[34mPending...\u001b[39m\n",
            "\u001b[1A\u001b[0J  \u001b[34;1m-\u001b[39;22m \u001b[39mUpdating \u001b[39m\u001b[36mnumpy\u001b[39m\u001b[39m (\u001b[39m\u001b[39;1m1.25.0\u001b[39;22m\u001b[39m -> \u001b[39m\u001b[39;1m1.26.4\u001b[39;22m\u001b[39m)\u001b[39m: \u001b[34mDownloading...\u001b[39m \u001b[39;1m0%\u001b[39;22m\n",
            "\u001b[3A\u001b[0J  \u001b[34;1m-\u001b[39;22m \u001b[39mDowngrading \u001b[39m\u001b[36mnbclassic\u001b[39m\u001b[39m (\u001b[39m\u001b[39;1m1.3.0\u001b[39;22m\u001b[39m -> \u001b[39m\u001b[39;1m1.1.0\u001b[39;22m\u001b[39m)\u001b[39m: \u001b[34mDownloading...\u001b[39m \u001b[39;1m0%\u001b[39;22m\n",
            "  \u001b[34;1m-\u001b[39;22m \u001b[39mUpdating \u001b[39m\u001b[36mnumpy\u001b[39m\u001b[39m (\u001b[39m\u001b[39;1m1.25.0\u001b[39;22m\u001b[39m -> \u001b[39m\u001b[39;1m1.26.4\u001b[39;22m\u001b[39m)\u001b[39m: \u001b[34mDownloading...\u001b[39m \u001b[39;1m0%\u001b[39;22m\n",
            "\u001b[2A\u001b[0J  \u001b[34;1m-\u001b[39;22m \u001b[39mInstalling \u001b[39m\u001b[36mjupyter-ydoc\u001b[39m\u001b[39m (\u001b[39m\u001b[39;1m0.2.5\u001b[39;22m\u001b[39m)\u001b[39m: \u001b[34mInstalling...\u001b[39m\n",
            "  \u001b[34;1m-\u001b[39;22m \u001b[39mDowngrading \u001b[39m\u001b[36mnbclassic\u001b[39m\u001b[39m (\u001b[39m\u001b[39;1m1.3.0\u001b[39;22m\u001b[39m -> \u001b[39m\u001b[39;1m1.1.0\u001b[39;22m\u001b[39m)\u001b[39m: \u001b[34mDownloading...\u001b[39m \u001b[39;1m0%\u001b[39;22m\n",
            "  \u001b[34;1m-\u001b[39;22m \u001b[39mUpdating \u001b[39m\u001b[36mnumpy\u001b[39m\u001b[39m (\u001b[39m\u001b[39;1m1.25.0\u001b[39;22m\u001b[39m -> \u001b[39m\u001b[39;1m1.26.4\u001b[39;22m\u001b[39m)\u001b[39m: \u001b[34mDownloading...\u001b[39m \u001b[39;1m0%\u001b[39;22m\n",
            "\u001b[4A\u001b[0J  \u001b[34;1m-\u001b[39;22m \u001b[39mInstalling \u001b[39m\u001b[36mjupyter-ydoc\u001b[39m\u001b[39m (\u001b[39m\u001b[39;1m0.2.5\u001b[39;22m\u001b[39m)\u001b[39m: \u001b[34mInstalling...\u001b[39m\n",
            "  \u001b[34;1m-\u001b[39;22m \u001b[39mDowngrading \u001b[39m\u001b[36mnbclassic\u001b[39m\u001b[39m (\u001b[39m\u001b[39;1m1.3.0\u001b[39;22m\u001b[39m -> \u001b[39m\u001b[39;1m1.1.0\u001b[39;22m\u001b[39m)\u001b[39m: \u001b[34mDownloading...\u001b[39m \u001b[39;1m0%\u001b[39;22m\n",
            "  \u001b[34;1m-\u001b[39;22m \u001b[39mUpdating \u001b[39m\u001b[36mnumpy\u001b[39m\u001b[39m (\u001b[39m\u001b[39;1m1.25.0\u001b[39;22m\u001b[39m -> \u001b[39m\u001b[39;1m1.26.4\u001b[39;22m\u001b[39m)\u001b[39m: \u001b[34mDownloading...\u001b[39m \u001b[39;1m0%\u001b[39;22m\n",
            "\u001b[3A\u001b[0J  \u001b[34;1m-\u001b[39;22m \u001b[39mInstalling \u001b[39m\u001b[36mjupyter-server-fileid\u001b[39m\u001b[39m (\u001b[39m\u001b[39;1m0.9.3\u001b[39;22m\u001b[39m)\u001b[39m: \u001b[34mInstalling...\u001b[39m\n",
            "  \u001b[34;1m-\u001b[39;22m \u001b[39mInstalling \u001b[39m\u001b[36mjupyter-ydoc\u001b[39m\u001b[39m (\u001b[39m\u001b[39;1m0.2.5\u001b[39;22m\u001b[39m)\u001b[39m: \u001b[34mInstalling...\u001b[39m\n",
            "  \u001b[34;1m-\u001b[39;22m \u001b[39mDowngrading \u001b[39m\u001b[36mnbclassic\u001b[39m\u001b[39m (\u001b[39m\u001b[39;1m1.3.0\u001b[39;22m\u001b[39m -> \u001b[39m\u001b[39;1m1.1.0\u001b[39;22m\u001b[39m)\u001b[39m: \u001b[34mDownloading...\u001b[39m \u001b[39;1m0%\u001b[39;22m\n",
            "  \u001b[34;1m-\u001b[39;22m \u001b[39mUpdating \u001b[39m\u001b[36mnumpy\u001b[39m\u001b[39m (\u001b[39m\u001b[39;1m1.25.0\u001b[39;22m\u001b[39m -> \u001b[39m\u001b[39;1m1.26.4\u001b[39;22m\u001b[39m)\u001b[39m: \u001b[34mDownloading...\u001b[39m \u001b[39;1m0%\u001b[39;22m\n",
            "\u001b[5A\u001b[0J  \u001b[34;1m-\u001b[39;22m \u001b[39mInstalling \u001b[39m\u001b[36mjupyter-server-fileid\u001b[39m\u001b[39m (\u001b[39m\u001b[39;1m0.9.3\u001b[39;22m\u001b[39m)\u001b[39m: \u001b[34mInstalling...\u001b[39m\n",
            "  \u001b[34;1m-\u001b[39;22m \u001b[39mInstalling \u001b[39m\u001b[36mjupyter-ydoc\u001b[39m\u001b[39m (\u001b[39m\u001b[39;1m0.2.5\u001b[39;22m\u001b[39m)\u001b[39m: \u001b[34mInstalling...\u001b[39m\n",
            "  \u001b[34;1m-\u001b[39;22m \u001b[39mDowngrading \u001b[39m\u001b[36mnbclassic\u001b[39m\u001b[39m (\u001b[39m\u001b[39;1m1.3.0\u001b[39;22m\u001b[39m -> \u001b[39m\u001b[39;1m1.1.0\u001b[39;22m\u001b[39m)\u001b[39m: \u001b[34mDownloading...\u001b[39m \u001b[39;1m0%\u001b[39;22m\n",
            "  \u001b[34;1m-\u001b[39;22m \u001b[39mUpdating \u001b[39m\u001b[36mnumpy\u001b[39m\u001b[39m (\u001b[39m\u001b[39;1m1.25.0\u001b[39;22m\u001b[39m -> \u001b[39m\u001b[39;1m1.26.4\u001b[39;22m\u001b[39m)\u001b[39m: \u001b[34mDownloading...\u001b[39m \u001b[39;1m0%\u001b[39;22m\n",
            "\u001b[4A\u001b[0J  \u001b[34;1m-\u001b[39;22m \u001b[39mInstalling \u001b[39m\u001b[36mjson5\u001b[39m\u001b[39m (\u001b[39m\u001b[39;1m0.9.16\u001b[39;22m\u001b[39m)\u001b[39m: \u001b[34mInstalling...\u001b[39m\n",
            "  \u001b[34;1m-\u001b[39;22m \u001b[39mInstalling \u001b[39m\u001b[36mjupyter-server-fileid\u001b[39m\u001b[39m (\u001b[39m\u001b[39;1m0.9.3\u001b[39;22m\u001b[39m)\u001b[39m: \u001b[34mInstalling...\u001b[39m\n",
            "  \u001b[34;1m-\u001b[39;22m \u001b[39mInstalling \u001b[39m\u001b[36mjupyter-ydoc\u001b[39m\u001b[39m (\u001b[39m\u001b[39;1m0.2.5\u001b[39;22m\u001b[39m)\u001b[39m: \u001b[34mInstalling...\u001b[39m\n",
            "  \u001b[34;1m-\u001b[39;22m \u001b[39mDowngrading \u001b[39m\u001b[36mnbclassic\u001b[39m\u001b[39m (\u001b[39m\u001b[39;1m1.3.0\u001b[39;22m\u001b[39m -> \u001b[39m\u001b[39;1m1.1.0\u001b[39;22m\u001b[39m)\u001b[39m: \u001b[34mDownloading...\u001b[39m \u001b[39;1m0%\u001b[39;22m\n",
            "  \u001b[34;1m-\u001b[39;22m \u001b[39mUpdating \u001b[39m\u001b[36mnumpy\u001b[39m\u001b[39m (\u001b[39m\u001b[39;1m1.25.0\u001b[39;22m\u001b[39m -> \u001b[39m\u001b[39;1m1.26.4\u001b[39;22m\u001b[39m)\u001b[39m: \u001b[34mDownloading...\u001b[39m \u001b[39;1m0%\u001b[39;22m\n",
            "\u001b[3A\u001b[0J  \u001b[34;1m-\u001b[39;22m \u001b[39mDowngrading \u001b[39m\u001b[36mnbclassic\u001b[39m\u001b[39m (\u001b[39m\u001b[39;1m1.3.0\u001b[39;22m\u001b[39m -> \u001b[39m\u001b[39;1m1.1.0\u001b[39;22m\u001b[39m)\u001b[39m: \u001b[34mDownloading...\u001b[39m \u001b[39;1m0%\u001b[39;22m\n",
            "  \u001b[34;1m-\u001b[39;22m \u001b[39mUpdating \u001b[39m\u001b[36mnumpy\u001b[39m\u001b[39m (\u001b[39m\u001b[39;1m1.25.0\u001b[39;22m\u001b[39m -> \u001b[39m\u001b[39;1m1.26.4\u001b[39;22m\u001b[39m)\u001b[39m: \u001b[34mDownloading...\u001b[39m \u001b[39;1m0%\u001b[39;22m\n",
            "\u001b[2A\u001b[0J  \u001b[32;1m-\u001b[39;22m \u001b[39mInstalling \u001b[39m\u001b[36mjupyter-ydoc\u001b[39m\u001b[39m (\u001b[39m\u001b[32m0.2.5\u001b[39m\u001b[39m)\u001b[39m\n",
            "  \u001b[34;1m-\u001b[39;22m \u001b[39mDowngrading \u001b[39m\u001b[36mnbclassic\u001b[39m\u001b[39m (\u001b[39m\u001b[39;1m1.3.0\u001b[39;22m\u001b[39m -> \u001b[39m\u001b[39;1m1.1.0\u001b[39;22m\u001b[39m)\u001b[39m: \u001b[34mDownloading...\u001b[39m \u001b[39;1m0%\u001b[39;22m\n",
            "  \u001b[34;1m-\u001b[39;22m \u001b[39mUpdating \u001b[39m\u001b[36mnumpy\u001b[39m\u001b[39m (\u001b[39m\u001b[39;1m1.25.0\u001b[39;22m\u001b[39m -> \u001b[39m\u001b[39;1m1.26.4\u001b[39;22m\u001b[39m)\u001b[39m: \u001b[34mDownloading...\u001b[39m \u001b[39;1m0%\u001b[39;22m\n",
            "  \u001b[34;1m-\u001b[39;22m \u001b[39mDowngrading \u001b[39m\u001b[36mpytz\u001b[39m\u001b[39m (\u001b[39m\u001b[39;1m2025.2\u001b[39;22m\u001b[39m -> \u001b[39m\u001b[39;1m2024.2\u001b[39;22m\u001b[39m)\u001b[39m: \u001b[34mPending...\u001b[39m\n",
            "\u001b[5A\u001b[0J  \u001b[32;1m-\u001b[39;22m \u001b[39mInstalling \u001b[39m\u001b[36mjupyter-ydoc\u001b[39m\u001b[39m (\u001b[39m\u001b[32m0.2.5\u001b[39m\u001b[39m)\u001b[39m\n",
            "  \u001b[34;1m-\u001b[39;22m \u001b[39mDowngrading \u001b[39m\u001b[36mnbclassic\u001b[39m\u001b[39m (\u001b[39m\u001b[39;1m1.3.0\u001b[39;22m\u001b[39m -> \u001b[39m\u001b[39;1m1.1.0\u001b[39;22m\u001b[39m)\u001b[39m: \u001b[34mDownloading...\u001b[39m \u001b[39;1m0%\u001b[39;22m\n",
            "  \u001b[34;1m-\u001b[39;22m \u001b[39mUpdating \u001b[39m\u001b[36mnumpy\u001b[39m\u001b[39m (\u001b[39m\u001b[39;1m1.25.0\u001b[39;22m\u001b[39m -> \u001b[39m\u001b[39;1m1.26.4\u001b[39;22m\u001b[39m)\u001b[39m: \u001b[34mDownloading...\u001b[39m \u001b[39;1m0%\u001b[39;22m\n",
            "  \u001b[34;1m-\u001b[39;22m \u001b[39mDowngrading \u001b[39m\u001b[36mpytz\u001b[39m\u001b[39m (\u001b[39m\u001b[39;1m2025.2\u001b[39;22m\u001b[39m -> \u001b[39m\u001b[39;1m2024.2\u001b[39;22m\u001b[39m)\u001b[39m: \u001b[34mPending...\u001b[39m\n",
            "\u001b[4A\u001b[0J  \u001b[32;1m-\u001b[39;22m \u001b[39mInstalling \u001b[39m\u001b[36mjupyter-server-fileid\u001b[39m\u001b[39m (\u001b[39m\u001b[32m0.9.3\u001b[39m\u001b[39m)\u001b[39m\n",
            "  \u001b[32;1m-\u001b[39;22m \u001b[39mInstalling \u001b[39m\u001b[36mjupyter-ydoc\u001b[39m\u001b[39m (\u001b[39m\u001b[32m0.2.5\u001b[39m\u001b[39m)\u001b[39m\n",
            "  \u001b[34;1m-\u001b[39;22m \u001b[39mDowngrading \u001b[39m\u001b[36mnbclassic\u001b[39m\u001b[39m (\u001b[39m\u001b[39;1m1.3.0\u001b[39;22m\u001b[39m -> \u001b[39m\u001b[39;1m1.1.0\u001b[39;22m\u001b[39m)\u001b[39m: \u001b[34mDownloading...\u001b[39m \u001b[39;1m0%\u001b[39;22m\n",
            "  \u001b[34;1m-\u001b[39;22m \u001b[39mUpdating \u001b[39m\u001b[36mnumpy\u001b[39m\u001b[39m (\u001b[39m\u001b[39;1m1.25.0\u001b[39;22m\u001b[39m -> \u001b[39m\u001b[39;1m1.26.4\u001b[39;22m\u001b[39m)\u001b[39m: \u001b[34mDownloading...\u001b[39m \u001b[39;1m0%\u001b[39;22m\n",
            "  \u001b[34;1m-\u001b[39;22m \u001b[39mDowngrading \u001b[39m\u001b[36mpytz\u001b[39m\u001b[39m (\u001b[39m\u001b[39;1m2025.2\u001b[39;22m\u001b[39m -> \u001b[39m\u001b[39;1m2024.2\u001b[39;22m\u001b[39m)\u001b[39m: \u001b[34mPending...\u001b[39m\n",
            "  \u001b[34;1m-\u001b[39;22m \u001b[39mDowngrading \u001b[39m\u001b[36mrequests\u001b[39m\u001b[39m (\u001b[39m\u001b[39;1m2.32.3\u001b[39;22m\u001b[39m -> \u001b[39m\u001b[39;1m2.31.0\u001b[39;22m\u001b[39m)\u001b[39m: \u001b[34mPending...\u001b[39m\n",
            "\u001b[7A\u001b[0J  \u001b[32;1m-\u001b[39;22m \u001b[39mInstalling \u001b[39m\u001b[36mjupyter-server-fileid\u001b[39m\u001b[39m (\u001b[39m\u001b[32m0.9.3\u001b[39m\u001b[39m)\u001b[39m\n",
            "  \u001b[32;1m-\u001b[39;22m \u001b[39mInstalling \u001b[39m\u001b[36mjupyter-ydoc\u001b[39m\u001b[39m (\u001b[39m\u001b[32m0.2.5\u001b[39m\u001b[39m)\u001b[39m\n",
            "  \u001b[34;1m-\u001b[39;22m \u001b[39mDowngrading \u001b[39m\u001b[36mnbclassic\u001b[39m\u001b[39m (\u001b[39m\u001b[39;1m1.3.0\u001b[39;22m\u001b[39m -> \u001b[39m\u001b[39;1m1.1.0\u001b[39;22m\u001b[39m)\u001b[39m: \u001b[34mDownloading...\u001b[39m \u001b[39;1m0%\u001b[39;22m\n",
            "  \u001b[34;1m-\u001b[39;22m \u001b[39mUpdating \u001b[39m\u001b[36mnumpy\u001b[39m\u001b[39m (\u001b[39m\u001b[39;1m1.25.0\u001b[39;22m\u001b[39m -> \u001b[39m\u001b[39;1m1.26.4\u001b[39;22m\u001b[39m)\u001b[39m: \u001b[34mDownloading...\u001b[39m \u001b[39;1m0%\u001b[39;22m\n",
            "  \u001b[34;1m-\u001b[39;22m \u001b[39mDowngrading \u001b[39m\u001b[36mpytz\u001b[39m\u001b[39m (\u001b[39m\u001b[39;1m2025.2\u001b[39;22m\u001b[39m -> \u001b[39m\u001b[39;1m2024.2\u001b[39;22m\u001b[39m)\u001b[39m: \u001b[34mPending...\u001b[39m\n",
            "  \u001b[34;1m-\u001b[39;22m \u001b[39mDowngrading \u001b[39m\u001b[36mrequests\u001b[39m\u001b[39m (\u001b[39m\u001b[39;1m2.32.3\u001b[39;22m\u001b[39m -> \u001b[39m\u001b[39;1m2.31.0\u001b[39;22m\u001b[39m)\u001b[39m: \u001b[34mPending...\u001b[39m\n",
            "\u001b[6A\u001b[0J  \u001b[32;1m-\u001b[39;22m \u001b[39mInstalling \u001b[39m\u001b[36mjson5\u001b[39m\u001b[39m (\u001b[39m\u001b[32m0.9.16\u001b[39m\u001b[39m)\u001b[39m\n",
            "  \u001b[32;1m-\u001b[39;22m \u001b[39mInstalling \u001b[39m\u001b[36mjupyter-server-fileid\u001b[39m\u001b[39m (\u001b[39m\u001b[32m0.9.3\u001b[39m\u001b[39m)\u001b[39m\n",
            "  \u001b[32;1m-\u001b[39;22m \u001b[39mInstalling \u001b[39m\u001b[36mjupyter-ydoc\u001b[39m\u001b[39m (\u001b[39m\u001b[32m0.2.5\u001b[39m\u001b[39m)\u001b[39m\n",
            "  \u001b[34;1m-\u001b[39;22m \u001b[39mDowngrading \u001b[39m\u001b[36mnbclassic\u001b[39m\u001b[39m (\u001b[39m\u001b[39;1m1.3.0\u001b[39;22m\u001b[39m -> \u001b[39m\u001b[39;1m1.1.0\u001b[39;22m\u001b[39m)\u001b[39m: \u001b[34mDownloading...\u001b[39m \u001b[39;1m0%\u001b[39;22m\n",
            "  \u001b[34;1m-\u001b[39;22m \u001b[39mUpdating \u001b[39m\u001b[36mnumpy\u001b[39m\u001b[39m (\u001b[39m\u001b[39;1m1.25.0\u001b[39;22m\u001b[39m -> \u001b[39m\u001b[39;1m1.26.4\u001b[39;22m\u001b[39m)\u001b[39m: \u001b[34mDownloading...\u001b[39m \u001b[39;1m0%\u001b[39;22m\n",
            "  \u001b[34;1m-\u001b[39;22m \u001b[39mDowngrading \u001b[39m\u001b[36mpytz\u001b[39m\u001b[39m (\u001b[39m\u001b[39;1m2025.2\u001b[39;22m\u001b[39m -> \u001b[39m\u001b[39;1m2024.2\u001b[39;22m\u001b[39m)\u001b[39m: \u001b[34mPending...\u001b[39m\n",
            "  \u001b[34;1m-\u001b[39;22m \u001b[39mDowngrading \u001b[39m\u001b[36mrequests\u001b[39m\u001b[39m (\u001b[39m\u001b[39;1m2.32.3\u001b[39;22m\u001b[39m -> \u001b[39m\u001b[39;1m2.31.0\u001b[39;22m\u001b[39m)\u001b[39m: \u001b[34mPending...\u001b[39m\n",
            "  \u001b[34;1m-\u001b[39;22m \u001b[39mInstalling \u001b[39m\u001b[36mypy-websocket\u001b[39m\u001b[39m (\u001b[39m\u001b[39;1m0.8.4\u001b[39;22m\u001b[39m)\u001b[39m: \u001b[34mPending...\u001b[39m\n",
            "\u001b[3A\u001b[0J  \u001b[34;1m-\u001b[39;22m \u001b[39mDowngrading \u001b[39m\u001b[36mrequests\u001b[39m\u001b[39m (\u001b[39m\u001b[39;1m2.32.3\u001b[39;22m\u001b[39m -> \u001b[39m\u001b[39;1m2.31.0\u001b[39;22m\u001b[39m)\u001b[39m: \u001b[34mPending...\u001b[39m\n",
            "  \u001b[34;1m-\u001b[39;22m \u001b[39mInstalling \u001b[39m\u001b[36mypy-websocket\u001b[39m\u001b[39m (\u001b[39m\u001b[39;1m0.8.4\u001b[39;22m\u001b[39m)\u001b[39m: \u001b[34mPending...\u001b[39m\n",
            "\u001b[2A\u001b[0J  \u001b[34;1m-\u001b[39;22m \u001b[39mDowngrading \u001b[39m\u001b[36mpytz\u001b[39m\u001b[39m (\u001b[39m\u001b[39;1m2025.2\u001b[39;22m\u001b[39m -> \u001b[39m\u001b[39;1m2024.2\u001b[39;22m\u001b[39m)\u001b[39m: \u001b[34mDownloading...\u001b[39m \u001b[39;1m0%\u001b[39;22m\n",
            "  \u001b[34;1m-\u001b[39;22m \u001b[39mDowngrading \u001b[39m\u001b[36mrequests\u001b[39m\u001b[39m (\u001b[39m\u001b[39;1m2.32.3\u001b[39;22m\u001b[39m -> \u001b[39m\u001b[39;1m2.31.0\u001b[39;22m\u001b[39m)\u001b[39m: \u001b[34mPending...\u001b[39m\n",
            "  \u001b[34;1m-\u001b[39;22m \u001b[39mInstalling \u001b[39m\u001b[36mypy-websocket\u001b[39m\u001b[39m (\u001b[39m\u001b[39;1m0.8.4\u001b[39;22m\u001b[39m)\u001b[39m: \u001b[34mPending...\u001b[39m\n",
            "\u001b[2A\u001b[0J  \u001b[34;1m-\u001b[39;22m \u001b[39mInstalling \u001b[39m\u001b[36mypy-websocket\u001b[39m\u001b[39m (\u001b[39m\u001b[39;1m0.8.4\u001b[39;22m\u001b[39m)\u001b[39m: \u001b[34mPending...\u001b[39m\n",
            "\u001b[1A\u001b[0J  \u001b[34;1m-\u001b[39;22m \u001b[39mDowngrading \u001b[39m\u001b[36mrequests\u001b[39m\u001b[39m (\u001b[39m\u001b[39;1m2.32.3\u001b[39;22m\u001b[39m -> \u001b[39m\u001b[39;1m2.31.0\u001b[39;22m\u001b[39m)\u001b[39m: \u001b[34mDownloading...\u001b[39m \u001b[39;1m0%\u001b[39;22m\n",
            "  \u001b[34;1m-\u001b[39;22m \u001b[39mInstalling \u001b[39m\u001b[36mypy-websocket\u001b[39m\u001b[39m (\u001b[39m\u001b[39;1m0.8.4\u001b[39;22m\u001b[39m)\u001b[39m: \u001b[34mPending...\u001b[39m\n",
            "\u001b[1A\u001b[0J  \u001b[34;1m-\u001b[39;22m \u001b[39mInstalling \u001b[39m\u001b[36mypy-websocket\u001b[39m\u001b[39m (\u001b[39m\u001b[39;1m0.8.4\u001b[39;22m\u001b[39m)\u001b[39m: \u001b[34mDownloading...\u001b[39m \u001b[39;1m0%\u001b[39;22m\n",
            "\u001b[2A\u001b[0J  \u001b[34;1m-\u001b[39;22m \u001b[39mInstalling \u001b[39m\u001b[36mypy-websocket\u001b[39m\u001b[39m (\u001b[39m\u001b[39;1m0.8.4\u001b[39;22m\u001b[39m)\u001b[39m: \u001b[34mDownloading...\u001b[39m \u001b[39;1m0%\u001b[39;22m\n",
            "\u001b[1A\u001b[0J  \u001b[34;1m-\u001b[39;22m \u001b[39mDowngrading \u001b[39m\u001b[36mrequests\u001b[39m\u001b[39m (\u001b[39m\u001b[39;1m2.32.3\u001b[39;22m\u001b[39m -> \u001b[39m\u001b[39;1m2.31.0\u001b[39;22m\u001b[39m)\u001b[39m: \u001b[34mDownloading...\u001b[39m \u001b[39;1m100%\u001b[39;22m\n",
            "  \u001b[34;1m-\u001b[39;22m \u001b[39mInstalling \u001b[39m\u001b[36mypy-websocket\u001b[39m\u001b[39m (\u001b[39m\u001b[39;1m0.8.4\u001b[39;22m\u001b[39m)\u001b[39m: \u001b[34mDownloading...\u001b[39m \u001b[39;1m0%\u001b[39;22m\n",
            "\u001b[1A\u001b[0J  \u001b[34;1m-\u001b[39;22m \u001b[39mInstalling \u001b[39m\u001b[36mypy-websocket\u001b[39m\u001b[39m (\u001b[39m\u001b[39;1m0.8.4\u001b[39;22m\u001b[39m)\u001b[39m: \u001b[34mDownloading...\u001b[39m \u001b[39;1m100%\u001b[39;22m\n",
            "\u001b[1A\u001b[0J  \u001b[34;1m-\u001b[39;22m \u001b[39mInstalling \u001b[39m\u001b[36mypy-websocket\u001b[39m\u001b[39m (\u001b[39m\u001b[39;1m0.8.4\u001b[39;22m\u001b[39m)\u001b[39m: \u001b[34mInstalling...\u001b[39m\n",
            "\u001b[2A\u001b[0J  \u001b[34;1m-\u001b[39;22m \u001b[39mInstalling \u001b[39m\u001b[36mypy-websocket\u001b[39m\u001b[39m (\u001b[39m\u001b[39;1m0.8.4\u001b[39;22m\u001b[39m)\u001b[39m: \u001b[34mInstalling...\u001b[39m\n",
            "\u001b[1A\u001b[0J  \u001b[34;1m-\u001b[39;22m \u001b[39mDowngrading \u001b[39m\u001b[36mrequests\u001b[39m\u001b[39m (\u001b[39m\u001b[39;1m2.32.3\u001b[39;22m\u001b[39m -> \u001b[39m\u001b[39;1m2.31.0\u001b[39;22m\u001b[39m)\u001b[39m: \u001b[34mInstalling...\u001b[39m\n",
            "  \u001b[34;1m-\u001b[39;22m \u001b[39mInstalling \u001b[39m\u001b[36mypy-websocket\u001b[39m\u001b[39m (\u001b[39m\u001b[39;1m0.8.4\u001b[39;22m\u001b[39m)\u001b[39m: \u001b[34mInstalling...\u001b[39m\n",
            "\u001b[3A\u001b[0J  \u001b[34;1m-\u001b[39;22m \u001b[39mDowngrading \u001b[39m\u001b[36mrequests\u001b[39m\u001b[39m (\u001b[39m\u001b[39;1m2.32.3\u001b[39;22m\u001b[39m -> \u001b[39m\u001b[39;1m2.31.0\u001b[39;22m\u001b[39m)\u001b[39m: \u001b[34mInstalling...\u001b[39m\n",
            "  \u001b[34;1m-\u001b[39;22m \u001b[39mInstalling \u001b[39m\u001b[36mypy-websocket\u001b[39m\u001b[39m (\u001b[39m\u001b[39;1m0.8.4\u001b[39;22m\u001b[39m)\u001b[39m: \u001b[34mInstalling...\u001b[39m\n",
            "\u001b[2A\u001b[0J  \u001b[34;1m-\u001b[39;22m \u001b[39mDowngrading \u001b[39m\u001b[36mpytz\u001b[39m\u001b[39m (\u001b[39m\u001b[39;1m2025.2\u001b[39;22m\u001b[39m -> \u001b[39m\u001b[39;1m2024.2\u001b[39;22m\u001b[39m)\u001b[39m: \u001b[34mDownloading...\u001b[39m \u001b[39;1m100%\u001b[39;22m\n",
            "  \u001b[34;1m-\u001b[39;22m \u001b[39mDowngrading \u001b[39m\u001b[36mrequests\u001b[39m\u001b[39m (\u001b[39m\u001b[39;1m2.32.3\u001b[39;22m\u001b[39m -> \u001b[39m\u001b[39;1m2.31.0\u001b[39;22m\u001b[39m)\u001b[39m: \u001b[34mInstalling...\u001b[39m\n",
            "  \u001b[34;1m-\u001b[39;22m \u001b[39mInstalling \u001b[39m\u001b[36mypy-websocket\u001b[39m\u001b[39m (\u001b[39m\u001b[39;1m0.8.4\u001b[39;22m\u001b[39m)\u001b[39m: \u001b[34mInstalling...\u001b[39m\n",
            "\u001b[9A\u001b[0J  \u001b[32;1m-\u001b[39;22m \u001b[39mInstalling \u001b[39m\u001b[36mjson5\u001b[39m\u001b[39m (\u001b[39m\u001b[32m0.9.16\u001b[39m\u001b[39m)\u001b[39m\n",
            "  \u001b[32;1m-\u001b[39;22m \u001b[39mInstalling \u001b[39m\u001b[36mjupyter-server-fileid\u001b[39m\u001b[39m (\u001b[39m\u001b[32m0.9.3\u001b[39m\u001b[39m)\u001b[39m\n",
            "  \u001b[32;1m-\u001b[39;22m \u001b[39mInstalling \u001b[39m\u001b[36mjupyter-ydoc\u001b[39m\u001b[39m (\u001b[39m\u001b[32m0.2.5\u001b[39m\u001b[39m)\u001b[39m\n",
            "  \u001b[34;1m-\u001b[39;22m \u001b[39mDowngrading \u001b[39m\u001b[36mnbclassic\u001b[39m\u001b[39m (\u001b[39m\u001b[39;1m1.3.0\u001b[39;22m\u001b[39m -> \u001b[39m\u001b[39;1m1.1.0\u001b[39;22m\u001b[39m)\u001b[39m: \u001b[34mDownloading...\u001b[39m \u001b[39;1m0%\u001b[39;22m\n",
            "  \u001b[34;1m-\u001b[39;22m \u001b[39mUpdating \u001b[39m\u001b[36mnumpy\u001b[39m\u001b[39m (\u001b[39m\u001b[39;1m1.25.0\u001b[39;22m\u001b[39m -> \u001b[39m\u001b[39;1m1.26.4\u001b[39;22m\u001b[39m)\u001b[39m: \u001b[34mDownloading...\u001b[39m \u001b[39;1m0%\u001b[39;22m\n",
            "  \u001b[34;1m-\u001b[39;22m \u001b[39mDowngrading \u001b[39m\u001b[36mpytz\u001b[39m\u001b[39m (\u001b[39m\u001b[39;1m2025.2\u001b[39;22m\u001b[39m -> \u001b[39m\u001b[39;1m2024.2\u001b[39;22m\u001b[39m)\u001b[39m: \u001b[34mDownloading...\u001b[39m \u001b[39;1m100%\u001b[39;22m\n",
            "  \u001b[34;1m-\u001b[39;22m \u001b[39mDowngrading \u001b[39m\u001b[36mrequests\u001b[39m\u001b[39m (\u001b[39m\u001b[39;1m2.32.3\u001b[39;22m\u001b[39m -> \u001b[39m\u001b[39;1m2.31.0\u001b[39;22m\u001b[39m)\u001b[39m: \u001b[34mInstalling...\u001b[39m\n",
            "  \u001b[34;1m-\u001b[39;22m \u001b[39mInstalling \u001b[39m\u001b[36mypy-websocket\u001b[39m\u001b[39m (\u001b[39m\u001b[39;1m0.8.4\u001b[39;22m\u001b[39m)\u001b[39m: \u001b[34mInstalling...\u001b[39m\n",
            "\u001b[8A\u001b[0J  \u001b[34;1m-\u001b[39;22m \u001b[39mDowngrading \u001b[39m\u001b[36mbabel\u001b[39m\u001b[39m (\u001b[39m\u001b[39;1m2.17.0\u001b[39;22m\u001b[39m -> \u001b[39m\u001b[39;1m2.14.0\u001b[39;22m\u001b[39m)\u001b[39m: \u001b[34mDownloading...\u001b[39m \u001b[39;1m10%\u001b[39;22m\n",
            "  \u001b[32;1m-\u001b[39;22m \u001b[39mInstalling \u001b[39m\u001b[36mjson5\u001b[39m\u001b[39m (\u001b[39m\u001b[32m0.9.16\u001b[39m\u001b[39m)\u001b[39m\n",
            "  \u001b[32;1m-\u001b[39;22m \u001b[39mInstalling \u001b[39m\u001b[36mjupyter-server-fileid\u001b[39m\u001b[39m (\u001b[39m\u001b[32m0.9.3\u001b[39m\u001b[39m)\u001b[39m\n",
            "  \u001b[32;1m-\u001b[39;22m \u001b[39mInstalling \u001b[39m\u001b[36mjupyter-ydoc\u001b[39m\u001b[39m (\u001b[39m\u001b[32m0.2.5\u001b[39m\u001b[39m)\u001b[39m\n",
            "  \u001b[34;1m-\u001b[39;22m \u001b[39mDowngrading \u001b[39m\u001b[36mnbclassic\u001b[39m\u001b[39m (\u001b[39m\u001b[39;1m1.3.0\u001b[39;22m\u001b[39m -> \u001b[39m\u001b[39;1m1.1.0\u001b[39;22m\u001b[39m)\u001b[39m: \u001b[34mDownloading...\u001b[39m \u001b[39;1m0%\u001b[39;22m\n",
            "  \u001b[34;1m-\u001b[39;22m \u001b[39mUpdating \u001b[39m\u001b[36mnumpy\u001b[39m\u001b[39m (\u001b[39m\u001b[39;1m1.25.0\u001b[39;22m\u001b[39m -> \u001b[39m\u001b[39;1m1.26.4\u001b[39;22m\u001b[39m)\u001b[39m: \u001b[34mDownloading...\u001b[39m \u001b[39;1m0%\u001b[39;22m\n",
            "  \u001b[34;1m-\u001b[39;22m \u001b[39mDowngrading \u001b[39m\u001b[36mpytz\u001b[39m\u001b[39m (\u001b[39m\u001b[39;1m2025.2\u001b[39;22m\u001b[39m -> \u001b[39m\u001b[39;1m2024.2\u001b[39;22m\u001b[39m)\u001b[39m: \u001b[34mDownloading...\u001b[39m \u001b[39;1m100%\u001b[39;22m\n",
            "  \u001b[34;1m-\u001b[39;22m \u001b[39mDowngrading \u001b[39m\u001b[36mrequests\u001b[39m\u001b[39m (\u001b[39m\u001b[39;1m2.32.3\u001b[39;22m\u001b[39m -> \u001b[39m\u001b[39;1m2.31.0\u001b[39;22m\u001b[39m)\u001b[39m: \u001b[34mInstalling...\u001b[39m\n",
            "  \u001b[34;1m-\u001b[39;22m \u001b[39mInstalling \u001b[39m\u001b[36mypy-websocket\u001b[39m\u001b[39m (\u001b[39m\u001b[39;1m0.8.4\u001b[39;22m\u001b[39m)\u001b[39m: \u001b[34mInstalling...\u001b[39m\n",
            "\u001b[5A\u001b[0J  \u001b[34;1m-\u001b[39;22m \u001b[39mUpdating \u001b[39m\u001b[36mnumpy\u001b[39m\u001b[39m (\u001b[39m\u001b[39;1m1.25.0\u001b[39;22m\u001b[39m -> \u001b[39m\u001b[39;1m1.26.4\u001b[39;22m\u001b[39m)\u001b[39m: \u001b[34mDownloading...\u001b[39m \u001b[39;1m0%\u001b[39;22m\n",
            "  \u001b[34;1m-\u001b[39;22m \u001b[39mDowngrading \u001b[39m\u001b[36mpytz\u001b[39m\u001b[39m (\u001b[39m\u001b[39;1m2025.2\u001b[39;22m\u001b[39m -> \u001b[39m\u001b[39;1m2024.2\u001b[39;22m\u001b[39m)\u001b[39m: \u001b[34mDownloading...\u001b[39m \u001b[39;1m100%\u001b[39;22m\n",
            "  \u001b[34;1m-\u001b[39;22m \u001b[39mDowngrading \u001b[39m\u001b[36mrequests\u001b[39m\u001b[39m (\u001b[39m\u001b[39;1m2.32.3\u001b[39;22m\u001b[39m -> \u001b[39m\u001b[39;1m2.31.0\u001b[39;22m\u001b[39m)\u001b[39m: \u001b[34mInstalling...\u001b[39m\n",
            "  \u001b[34;1m-\u001b[39;22m \u001b[39mInstalling \u001b[39m\u001b[36mypy-websocket\u001b[39m\u001b[39m (\u001b[39m\u001b[39;1m0.8.4\u001b[39;22m\u001b[39m)\u001b[39m: \u001b[34mInstalling...\u001b[39m\n",
            "\u001b[4A\u001b[0J  \u001b[34;1m-\u001b[39;22m \u001b[39mDowngrading \u001b[39m\u001b[36mnbclassic\u001b[39m\u001b[39m (\u001b[39m\u001b[39;1m1.3.0\u001b[39;22m\u001b[39m -> \u001b[39m\u001b[39;1m1.1.0\u001b[39;22m\u001b[39m)\u001b[39m: \u001b[34mDownloading...\u001b[39m \u001b[39;1m10%\u001b[39;22m\n",
            "  \u001b[34;1m-\u001b[39;22m \u001b[39mUpdating \u001b[39m\u001b[36mnumpy\u001b[39m\u001b[39m (\u001b[39m\u001b[39;1m1.25.0\u001b[39;22m\u001b[39m -> \u001b[39m\u001b[39;1m1.26.4\u001b[39;22m\u001b[39m)\u001b[39m: \u001b[34mDownloading...\u001b[39m \u001b[39;1m0%\u001b[39;22m\n",
            "  \u001b[34;1m-\u001b[39;22m \u001b[39mDowngrading \u001b[39m\u001b[36mpytz\u001b[39m\u001b[39m (\u001b[39m\u001b[39;1m2025.2\u001b[39;22m\u001b[39m -> \u001b[39m\u001b[39;1m2024.2\u001b[39;22m\u001b[39m)\u001b[39m: \u001b[34mDownloading...\u001b[39m \u001b[39;1m100%\u001b[39;22m\n",
            "  \u001b[34;1m-\u001b[39;22m \u001b[39mDowngrading \u001b[39m\u001b[36mrequests\u001b[39m\u001b[39m (\u001b[39m\u001b[39;1m2.32.3\u001b[39;22m\u001b[39m -> \u001b[39m\u001b[39;1m2.31.0\u001b[39;22m\u001b[39m)\u001b[39m: \u001b[34mInstalling...\u001b[39m\n",
            "  \u001b[34;1m-\u001b[39;22m \u001b[39mInstalling \u001b[39m\u001b[36mypy-websocket\u001b[39m\u001b[39m (\u001b[39m\u001b[39;1m0.8.4\u001b[39;22m\u001b[39m)\u001b[39m: \u001b[34mInstalling...\u001b[39m\n",
            "\u001b[1A\u001b[0J  \u001b[32;1m-\u001b[39;22m \u001b[39mInstalling \u001b[39m\u001b[36mypy-websocket\u001b[39m\u001b[39m (\u001b[39m\u001b[32m0.8.4\u001b[39m\u001b[39m)\u001b[39m\n",
            "\u001b[3A\u001b[0J  \u001b[34;1m-\u001b[39;22m \u001b[39mDowngrading \u001b[39m\u001b[36mrequests\u001b[39m\u001b[39m (\u001b[39m\u001b[39;1m2.32.3\u001b[39;22m\u001b[39m -> \u001b[39m\u001b[39;1m2.31.0\u001b[39;22m\u001b[39m)\u001b[39m: \u001b[34mInstalling...\u001b[39m\n",
            "  \u001b[32;1m-\u001b[39;22m \u001b[39mInstalling \u001b[39m\u001b[36mypy-websocket\u001b[39m\u001b[39m (\u001b[39m\u001b[32m0.8.4\u001b[39m\u001b[39m)\u001b[39m\n",
            "\u001b[2A\u001b[0J  \u001b[34;1m-\u001b[39;22m \u001b[39mDowngrading \u001b[39m\u001b[36mpytz\u001b[39m\u001b[39m (\u001b[39m\u001b[39;1m2025.2\u001b[39;22m\u001b[39m -> \u001b[39m\u001b[39;1m2024.2\u001b[39;22m\u001b[39m)\u001b[39m: \u001b[34mInstalling...\u001b[39m\n",
            "  \u001b[34;1m-\u001b[39;22m \u001b[39mDowngrading \u001b[39m\u001b[36mrequests\u001b[39m\u001b[39m (\u001b[39m\u001b[39;1m2.32.3\u001b[39;22m\u001b[39m -> \u001b[39m\u001b[39;1m2.31.0\u001b[39;22m\u001b[39m)\u001b[39m: \u001b[34mInstalling...\u001b[39m\n",
            "  \u001b[32;1m-\u001b[39;22m \u001b[39mInstalling \u001b[39m\u001b[36mypy-websocket\u001b[39m\u001b[39m (\u001b[39m\u001b[32m0.8.4\u001b[39m\u001b[39m)\u001b[39m\n",
            "\u001b[4A\u001b[0J  \u001b[34;1m-\u001b[39;22m \u001b[39mDowngrading \u001b[39m\u001b[36mpytz\u001b[39m\u001b[39m (\u001b[39m\u001b[39;1m2025.2\u001b[39;22m\u001b[39m -> \u001b[39m\u001b[39;1m2024.2\u001b[39;22m\u001b[39m)\u001b[39m: \u001b[34mInstalling...\u001b[39m\n",
            "  \u001b[34;1m-\u001b[39;22m \u001b[39mDowngrading \u001b[39m\u001b[36mrequests\u001b[39m\u001b[39m (\u001b[39m\u001b[39;1m2.32.3\u001b[39;22m\u001b[39m -> \u001b[39m\u001b[39;1m2.31.0\u001b[39;22m\u001b[39m)\u001b[39m: \u001b[34mInstalling...\u001b[39m\n",
            "  \u001b[32;1m-\u001b[39;22m \u001b[39mInstalling \u001b[39m\u001b[36mypy-websocket\u001b[39m\u001b[39m (\u001b[39m\u001b[32m0.8.4\u001b[39m\u001b[39m)\u001b[39m\n",
            "\u001b[3A\u001b[0J  \u001b[34;1m-\u001b[39;22m \u001b[39mUpdating \u001b[39m\u001b[36mnumpy\u001b[39m\u001b[39m (\u001b[39m\u001b[39;1m1.25.0\u001b[39;22m\u001b[39m -> \u001b[39m\u001b[39;1m1.26.4\u001b[39;22m\u001b[39m)\u001b[39m: \u001b[34mDownloading...\u001b[39m \u001b[39;1m10%\u001b[39;22m\n",
            "  \u001b[34;1m-\u001b[39;22m \u001b[39mDowngrading \u001b[39m\u001b[36mpytz\u001b[39m\u001b[39m (\u001b[39m\u001b[39;1m2025.2\u001b[39;22m\u001b[39m -> \u001b[39m\u001b[39;1m2024.2\u001b[39;22m\u001b[39m)\u001b[39m: \u001b[34mInstalling...\u001b[39m\n",
            "  \u001b[34;1m-\u001b[39;22m \u001b[39mDowngrading \u001b[39m\u001b[36mrequests\u001b[39m\u001b[39m (\u001b[39m\u001b[39;1m2.32.3\u001b[39;22m\u001b[39m -> \u001b[39m\u001b[39;1m2.31.0\u001b[39;22m\u001b[39m)\u001b[39m: \u001b[34mInstalling...\u001b[39m\n",
            "  \u001b[32;1m-\u001b[39;22m \u001b[39mInstalling \u001b[39m\u001b[36mypy-websocket\u001b[39m\u001b[39m (\u001b[39m\u001b[32m0.8.4\u001b[39m\u001b[39m)\u001b[39m\n",
            "\u001b[4A\u001b[0J  \u001b[34;1m-\u001b[39;22m \u001b[39mDowngrading \u001b[39m\u001b[36mpytz\u001b[39m\u001b[39m (\u001b[39m\u001b[39;1m2025.2\u001b[39;22m\u001b[39m -> \u001b[39m\u001b[39;1m2024.2\u001b[39;22m\u001b[39m)\u001b[39m: \u001b[34mInstalling...\u001b[39m\n",
            "  \u001b[34;1m-\u001b[39;22m \u001b[39mDowngrading \u001b[39m\u001b[36mrequests\u001b[39m\u001b[39m (\u001b[39m\u001b[39;1m2.32.3\u001b[39;22m\u001b[39m -> \u001b[39m\u001b[39;1m2.31.0\u001b[39;22m\u001b[39m)\u001b[39m: \u001b[34mInstalling...\u001b[39m\n",
            "  \u001b[32;1m-\u001b[39;22m \u001b[39mInstalling \u001b[39m\u001b[36mypy-websocket\u001b[39m\u001b[39m (\u001b[39m\u001b[32m0.8.4\u001b[39m\u001b[39m)\u001b[39m\n",
            "\u001b[3A\u001b[0J  \u001b[34;1m-\u001b[39;22m \u001b[39mUpdating \u001b[39m\u001b[36mnumpy\u001b[39m\u001b[39m (\u001b[39m\u001b[39;1m1.25.0\u001b[39;22m\u001b[39m -> \u001b[39m\u001b[39;1m1.26.4\u001b[39;22m\u001b[39m)\u001b[39m: \u001b[34mDownloading...\u001b[39m \u001b[39;1m20%\u001b[39;22m\n",
            "  \u001b[34;1m-\u001b[39;22m \u001b[39mDowngrading \u001b[39m\u001b[36mpytz\u001b[39m\u001b[39m (\u001b[39m\u001b[39;1m2025.2\u001b[39;22m\u001b[39m -> \u001b[39m\u001b[39;1m2024.2\u001b[39;22m\u001b[39m)\u001b[39m: \u001b[34mInstalling...\u001b[39m\n",
            "  \u001b[34;1m-\u001b[39;22m \u001b[39mDowngrading \u001b[39m\u001b[36mrequests\u001b[39m\u001b[39m (\u001b[39m\u001b[39;1m2.32.3\u001b[39;22m\u001b[39m -> \u001b[39m\u001b[39;1m2.31.0\u001b[39;22m\u001b[39m)\u001b[39m: \u001b[34mInstalling...\u001b[39m\n",
            "  \u001b[32;1m-\u001b[39;22m \u001b[39mInstalling \u001b[39m\u001b[36mypy-websocket\u001b[39m\u001b[39m (\u001b[39m\u001b[32m0.8.4\u001b[39m\u001b[39m)\u001b[39m\n",
            "\u001b[5A\u001b[0J  \u001b[34;1m-\u001b[39;22m \u001b[39mUpdating \u001b[39m\u001b[36mnumpy\u001b[39m\u001b[39m (\u001b[39m\u001b[39;1m1.25.0\u001b[39;22m\u001b[39m -> \u001b[39m\u001b[39;1m1.26.4\u001b[39;22m\u001b[39m)\u001b[39m: \u001b[34mDownloading...\u001b[39m \u001b[39;1m20%\u001b[39;22m\n",
            "  \u001b[34;1m-\u001b[39;22m \u001b[39mDowngrading \u001b[39m\u001b[36mpytz\u001b[39m\u001b[39m (\u001b[39m\u001b[39;1m2025.2\u001b[39;22m\u001b[39m -> \u001b[39m\u001b[39;1m2024.2\u001b[39;22m\u001b[39m)\u001b[39m: \u001b[34mInstalling...\u001b[39m\n",
            "  \u001b[34;1m-\u001b[39;22m \u001b[39mDowngrading \u001b[39m\u001b[36mrequests\u001b[39m\u001b[39m (\u001b[39m\u001b[39;1m2.32.3\u001b[39;22m\u001b[39m -> \u001b[39m\u001b[39;1m2.31.0\u001b[39;22m\u001b[39m)\u001b[39m: \u001b[34mInstalling...\u001b[39m\n",
            "  \u001b[32;1m-\u001b[39;22m \u001b[39mInstalling \u001b[39m\u001b[36mypy-websocket\u001b[39m\u001b[39m (\u001b[39m\u001b[32m0.8.4\u001b[39m\u001b[39m)\u001b[39m\n",
            "\u001b[4A\u001b[0J  \u001b[34;1m-\u001b[39;22m \u001b[39mDowngrading \u001b[39m\u001b[36mnbclassic\u001b[39m\u001b[39m (\u001b[39m\u001b[39;1m1.3.0\u001b[39;22m\u001b[39m -> \u001b[39m\u001b[39;1m1.1.0\u001b[39;22m\u001b[39m)\u001b[39m: \u001b[34mDownloading...\u001b[39m \u001b[39;1m30%\u001b[39;22m\n",
            "  \u001b[34;1m-\u001b[39;22m \u001b[39mUpdating \u001b[39m\u001b[36mnumpy\u001b[39m\u001b[39m (\u001b[39m\u001b[39;1m1.25.0\u001b[39;22m\u001b[39m -> \u001b[39m\u001b[39;1m1.26.4\u001b[39;22m\u001b[39m)\u001b[39m: \u001b[34mDownloading...\u001b[39m \u001b[39;1m20%\u001b[39;22m\n",
            "  \u001b[34;1m-\u001b[39;22m \u001b[39mDowngrading \u001b[39m\u001b[36mpytz\u001b[39m\u001b[39m (\u001b[39m\u001b[39;1m2025.2\u001b[39;22m\u001b[39m -> \u001b[39m\u001b[39;1m2024.2\u001b[39;22m\u001b[39m)\u001b[39m: \u001b[34mInstalling...\u001b[39m\n",
            "  \u001b[34;1m-\u001b[39;22m \u001b[39mDowngrading \u001b[39m\u001b[36mrequests\u001b[39m\u001b[39m (\u001b[39m\u001b[39;1m2.32.3\u001b[39;22m\u001b[39m -> \u001b[39m\u001b[39;1m2.31.0\u001b[39;22m\u001b[39m)\u001b[39m: \u001b[34mInstalling...\u001b[39m\n",
            "  \u001b[32;1m-\u001b[39;22m \u001b[39mInstalling \u001b[39m\u001b[36mypy-websocket\u001b[39m\u001b[39m (\u001b[39m\u001b[32m0.8.4\u001b[39m\u001b[39m)\u001b[39m\n",
            "\u001b[9A\u001b[0J  \u001b[32;1m-\u001b[39;22m \u001b[39mInstalling \u001b[39m\u001b[36mjson5\u001b[39m\u001b[39m (\u001b[39m\u001b[32m0.9.16\u001b[39m\u001b[39m)\u001b[39m\n",
            "  \u001b[32;1m-\u001b[39;22m \u001b[39mInstalling \u001b[39m\u001b[36mjupyter-server-fileid\u001b[39m\u001b[39m (\u001b[39m\u001b[32m0.9.3\u001b[39m\u001b[39m)\u001b[39m\n",
            "  \u001b[32;1m-\u001b[39;22m \u001b[39mInstalling \u001b[39m\u001b[36mjupyter-ydoc\u001b[39m\u001b[39m (\u001b[39m\u001b[32m0.2.5\u001b[39m\u001b[39m)\u001b[39m\n",
            "  \u001b[34;1m-\u001b[39;22m \u001b[39mDowngrading \u001b[39m\u001b[36mnbclassic\u001b[39m\u001b[39m (\u001b[39m\u001b[39;1m1.3.0\u001b[39;22m\u001b[39m -> \u001b[39m\u001b[39;1m1.1.0\u001b[39;22m\u001b[39m)\u001b[39m: \u001b[34mDownloading...\u001b[39m \u001b[39;1m30%\u001b[39;22m\n",
            "  \u001b[34;1m-\u001b[39;22m \u001b[39mUpdating \u001b[39m\u001b[36mnumpy\u001b[39m\u001b[39m (\u001b[39m\u001b[39;1m1.25.0\u001b[39;22m\u001b[39m -> \u001b[39m\u001b[39;1m1.26.4\u001b[39;22m\u001b[39m)\u001b[39m: \u001b[34mDownloading...\u001b[39m \u001b[39;1m20%\u001b[39;22m\n",
            "  \u001b[34;1m-\u001b[39;22m \u001b[39mDowngrading \u001b[39m\u001b[36mpytz\u001b[39m\u001b[39m (\u001b[39m\u001b[39;1m2025.2\u001b[39;22m\u001b[39m -> \u001b[39m\u001b[39;1m2024.2\u001b[39;22m\u001b[39m)\u001b[39m: \u001b[34mInstalling...\u001b[39m\n",
            "  \u001b[34;1m-\u001b[39;22m \u001b[39mDowngrading \u001b[39m\u001b[36mrequests\u001b[39m\u001b[39m (\u001b[39m\u001b[39;1m2.32.3\u001b[39;22m\u001b[39m -> \u001b[39m\u001b[39;1m2.31.0\u001b[39;22m\u001b[39m)\u001b[39m: \u001b[34mInstalling...\u001b[39m\n",
            "  \u001b[32;1m-\u001b[39;22m \u001b[39mInstalling \u001b[39m\u001b[36mypy-websocket\u001b[39m\u001b[39m (\u001b[39m\u001b[32m0.8.4\u001b[39m\u001b[39m)\u001b[39m\n",
            "\u001b[8A\u001b[0J  \u001b[34;1m-\u001b[39;22m \u001b[39mDowngrading \u001b[39m\u001b[36mbabel\u001b[39m\u001b[39m (\u001b[39m\u001b[39;1m2.17.0\u001b[39;22m\u001b[39m -> \u001b[39m\u001b[39;1m2.14.0\u001b[39;22m\u001b[39m)\u001b[39m: \u001b[34mDownloading...\u001b[39m \u001b[39;1m30%\u001b[39;22m\n",
            "  \u001b[32;1m-\u001b[39;22m \u001b[39mInstalling \u001b[39m\u001b[36mjson5\u001b[39m\u001b[39m (\u001b[39m\u001b[32m0.9.16\u001b[39m\u001b[39m)\u001b[39m\n",
            "  \u001b[32;1m-\u001b[39;22m \u001b[39mInstalling \u001b[39m\u001b[36mjupyter-server-fileid\u001b[39m\u001b[39m (\u001b[39m\u001b[32m0.9.3\u001b[39m\u001b[39m)\u001b[39m\n",
            "  \u001b[32;1m-\u001b[39;22m \u001b[39mInstalling \u001b[39m\u001b[36mjupyter-ydoc\u001b[39m\u001b[39m (\u001b[39m\u001b[32m0.2.5\u001b[39m\u001b[39m)\u001b[39m\n",
            "  \u001b[34;1m-\u001b[39;22m \u001b[39mDowngrading \u001b[39m\u001b[36mnbclassic\u001b[39m\u001b[39m (\u001b[39m\u001b[39;1m1.3.0\u001b[39;22m\u001b[39m -> \u001b[39m\u001b[39;1m1.1.0\u001b[39;22m\u001b[39m)\u001b[39m: \u001b[34mDownloading...\u001b[39m \u001b[39;1m30%\u001b[39;22m\n",
            "  \u001b[34;1m-\u001b[39;22m \u001b[39mUpdating \u001b[39m\u001b[36mnumpy\u001b[39m\u001b[39m (\u001b[39m\u001b[39;1m1.25.0\u001b[39;22m\u001b[39m -> \u001b[39m\u001b[39;1m1.26.4\u001b[39;22m\u001b[39m)\u001b[39m: \u001b[34mDownloading...\u001b[39m \u001b[39;1m20%\u001b[39;22m\n",
            "  \u001b[34;1m-\u001b[39;22m \u001b[39mDowngrading \u001b[39m\u001b[36mpytz\u001b[39m\u001b[39m (\u001b[39m\u001b[39;1m2025.2\u001b[39;22m\u001b[39m -> \u001b[39m\u001b[39;1m2024.2\u001b[39;22m\u001b[39m)\u001b[39m: \u001b[34mInstalling...\u001b[39m\n",
            "  \u001b[34;1m-\u001b[39;22m \u001b[39mDowngrading \u001b[39m\u001b[36mrequests\u001b[39m\u001b[39m (\u001b[39m\u001b[39;1m2.32.3\u001b[39;22m\u001b[39m -> \u001b[39m\u001b[39;1m2.31.0\u001b[39;22m\u001b[39m)\u001b[39m: \u001b[34mInstalling...\u001b[39m\n",
            "  \u001b[32;1m-\u001b[39;22m \u001b[39mInstalling \u001b[39m\u001b[36mypy-websocket\u001b[39m\u001b[39m (\u001b[39m\u001b[32m0.8.4\u001b[39m\u001b[39m)\u001b[39m\n",
            "\u001b[4A\u001b[0J  \u001b[34;1m-\u001b[39;22m \u001b[39mDowngrading \u001b[39m\u001b[36mpytz\u001b[39m\u001b[39m (\u001b[39m\u001b[39;1m2025.2\u001b[39;22m\u001b[39m -> \u001b[39m\u001b[39;1m2024.2\u001b[39;22m\u001b[39m)\u001b[39m: \u001b[34mInstalling...\u001b[39m\n",
            "  \u001b[34;1m-\u001b[39;22m \u001b[39mDowngrading \u001b[39m\u001b[36mrequests\u001b[39m\u001b[39m (\u001b[39m\u001b[39;1m2.32.3\u001b[39;22m\u001b[39m -> \u001b[39m\u001b[39;1m2.31.0\u001b[39;22m\u001b[39m)\u001b[39m: \u001b[34mInstalling...\u001b[39m\n",
            "  \u001b[32;1m-\u001b[39;22m \u001b[39mInstalling \u001b[39m\u001b[36mypy-websocket\u001b[39m\u001b[39m (\u001b[39m\u001b[32m0.8.4\u001b[39m\u001b[39m)\u001b[39m\n",
            "\u001b[3A\u001b[0J  \u001b[34;1m-\u001b[39;22m \u001b[39mUpdating \u001b[39m\u001b[36mnumpy\u001b[39m\u001b[39m (\u001b[39m\u001b[39;1m1.25.0\u001b[39;22m\u001b[39m -> \u001b[39m\u001b[39;1m1.26.4\u001b[39;22m\u001b[39m)\u001b[39m: \u001b[34mDownloading...\u001b[39m \u001b[39;1m30%\u001b[39;22m\n",
            "  \u001b[34;1m-\u001b[39;22m \u001b[39mDowngrading \u001b[39m\u001b[36mpytz\u001b[39m\u001b[39m (\u001b[39m\u001b[39;1m2025.2\u001b[39;22m\u001b[39m -> \u001b[39m\u001b[39;1m2024.2\u001b[39;22m\u001b[39m)\u001b[39m: \u001b[34mInstalling...\u001b[39m\n",
            "  \u001b[34;1m-\u001b[39;22m \u001b[39mDowngrading \u001b[39m\u001b[36mrequests\u001b[39m\u001b[39m (\u001b[39m\u001b[39;1m2.32.3\u001b[39;22m\u001b[39m -> \u001b[39m\u001b[39;1m2.31.0\u001b[39;22m\u001b[39m)\u001b[39m: \u001b[34mInstalling...\u001b[39m\n",
            "  \u001b[32;1m-\u001b[39;22m \u001b[39mInstalling \u001b[39m\u001b[36mypy-websocket\u001b[39m\u001b[39m (\u001b[39m\u001b[32m0.8.4\u001b[39m\u001b[39m)\u001b[39m\n",
            "\u001b[5A\u001b[0J  \u001b[34;1m-\u001b[39;22m \u001b[39mUpdating \u001b[39m\u001b[36mnumpy\u001b[39m\u001b[39m (\u001b[39m\u001b[39;1m1.25.0\u001b[39;22m\u001b[39m -> \u001b[39m\u001b[39;1m1.26.4\u001b[39;22m\u001b[39m)\u001b[39m: \u001b[34mDownloading...\u001b[39m \u001b[39;1m30%\u001b[39;22m\n",
            "  \u001b[34;1m-\u001b[39;22m \u001b[39mDowngrading \u001b[39m\u001b[36mpytz\u001b[39m\u001b[39m (\u001b[39m\u001b[39;1m2025.2\u001b[39;22m\u001b[39m -> \u001b[39m\u001b[39;1m2024.2\u001b[39;22m\u001b[39m)\u001b[39m: \u001b[34mInstalling...\u001b[39m\n",
            "  \u001b[34;1m-\u001b[39;22m \u001b[39mDowngrading \u001b[39m\u001b[36mrequests\u001b[39m\u001b[39m (\u001b[39m\u001b[39;1m2.32.3\u001b[39;22m\u001b[39m -> \u001b[39m\u001b[39;1m2.31.0\u001b[39;22m\u001b[39m)\u001b[39m: \u001b[34mInstalling...\u001b[39m\n",
            "  \u001b[32;1m-\u001b[39;22m \u001b[39mInstalling \u001b[39m\u001b[36mypy-websocket\u001b[39m\u001b[39m (\u001b[39m\u001b[32m0.8.4\u001b[39m\u001b[39m)\u001b[39m\n",
            "\u001b[4A\u001b[0J  \u001b[34;1m-\u001b[39;22m \u001b[39mDowngrading \u001b[39m\u001b[36mnbclassic\u001b[39m\u001b[39m (\u001b[39m\u001b[39;1m1.3.0\u001b[39;22m\u001b[39m -> \u001b[39m\u001b[39;1m1.1.0\u001b[39;22m\u001b[39m)\u001b[39m: \u001b[34mDownloading...\u001b[39m \u001b[39;1m50%\u001b[39;22m\n",
            "  \u001b[34;1m-\u001b[39;22m \u001b[39mUpdating \u001b[39m\u001b[36mnumpy\u001b[39m\u001b[39m (\u001b[39m\u001b[39;1m1.25.0\u001b[39;22m\u001b[39m -> \u001b[39m\u001b[39;1m1.26.4\u001b[39;22m\u001b[39m)\u001b[39m: \u001b[34mDownloading...\u001b[39m \u001b[39;1m30%\u001b[39;22m\n",
            "  \u001b[34;1m-\u001b[39;22m \u001b[39mDowngrading \u001b[39m\u001b[36mpytz\u001b[39m\u001b[39m (\u001b[39m\u001b[39;1m2025.2\u001b[39;22m\u001b[39m -> \u001b[39m\u001b[39;1m2024.2\u001b[39;22m\u001b[39m)\u001b[39m: \u001b[34mInstalling...\u001b[39m\n",
            "  \u001b[34;1m-\u001b[39;22m \u001b[39mDowngrading \u001b[39m\u001b[36mrequests\u001b[39m\u001b[39m (\u001b[39m\u001b[39;1m2.32.3\u001b[39;22m\u001b[39m -> \u001b[39m\u001b[39;1m2.31.0\u001b[39;22m\u001b[39m)\u001b[39m: \u001b[34mInstalling...\u001b[39m\n",
            "  \u001b[32;1m-\u001b[39;22m \u001b[39mInstalling \u001b[39m\u001b[36mypy-websocket\u001b[39m\u001b[39m (\u001b[39m\u001b[32m0.8.4\u001b[39m\u001b[39m)\u001b[39m\n",
            "\u001b[9A\u001b[0J  \u001b[32;1m-\u001b[39;22m \u001b[39mInstalling \u001b[39m\u001b[36mjson5\u001b[39m\u001b[39m (\u001b[39m\u001b[32m0.9.16\u001b[39m\u001b[39m)\u001b[39m\n",
            "  \u001b[32;1m-\u001b[39;22m \u001b[39mInstalling \u001b[39m\u001b[36mjupyter-server-fileid\u001b[39m\u001b[39m (\u001b[39m\u001b[32m0.9.3\u001b[39m\u001b[39m)\u001b[39m\n",
            "  \u001b[32;1m-\u001b[39;22m \u001b[39mInstalling \u001b[39m\u001b[36mjupyter-ydoc\u001b[39m\u001b[39m (\u001b[39m\u001b[32m0.2.5\u001b[39m\u001b[39m)\u001b[39m\n",
            "  \u001b[34;1m-\u001b[39;22m \u001b[39mDowngrading \u001b[39m\u001b[36mnbclassic\u001b[39m\u001b[39m (\u001b[39m\u001b[39;1m1.3.0\u001b[39;22m\u001b[39m -> \u001b[39m\u001b[39;1m1.1.0\u001b[39;22m\u001b[39m)\u001b[39m: \u001b[34mDownloading...\u001b[39m \u001b[39;1m50%\u001b[39;22m\n",
            "  \u001b[34;1m-\u001b[39;22m \u001b[39mUpdating \u001b[39m\u001b[36mnumpy\u001b[39m\u001b[39m (\u001b[39m\u001b[39;1m1.25.0\u001b[39;22m\u001b[39m -> \u001b[39m\u001b[39;1m1.26.4\u001b[39;22m\u001b[39m)\u001b[39m: \u001b[34mDownloading...\u001b[39m \u001b[39;1m30%\u001b[39;22m\n",
            "  \u001b[34;1m-\u001b[39;22m \u001b[39mDowngrading \u001b[39m\u001b[36mpytz\u001b[39m\u001b[39m (\u001b[39m\u001b[39;1m2025.2\u001b[39;22m\u001b[39m -> \u001b[39m\u001b[39;1m2024.2\u001b[39;22m\u001b[39m)\u001b[39m: \u001b[34mInstalling...\u001b[39m\n",
            "  \u001b[34;1m-\u001b[39;22m \u001b[39mDowngrading \u001b[39m\u001b[36mrequests\u001b[39m\u001b[39m (\u001b[39m\u001b[39;1m2.32.3\u001b[39;22m\u001b[39m -> \u001b[39m\u001b[39;1m2.31.0\u001b[39;22m\u001b[39m)\u001b[39m: \u001b[34mInstalling...\u001b[39m\n",
            "  \u001b[32;1m-\u001b[39;22m \u001b[39mInstalling \u001b[39m\u001b[36mypy-websocket\u001b[39m\u001b[39m (\u001b[39m\u001b[32m0.8.4\u001b[39m\u001b[39m)\u001b[39m\n",
            "\u001b[8A\u001b[0J  \u001b[34;1m-\u001b[39;22m \u001b[39mDowngrading \u001b[39m\u001b[36mbabel\u001b[39m\u001b[39m (\u001b[39m\u001b[39;1m2.17.0\u001b[39;22m\u001b[39m -> \u001b[39m\u001b[39;1m2.14.0\u001b[39;22m\u001b[39m)\u001b[39m: \u001b[34mDownloading...\u001b[39m \u001b[39;1m50%\u001b[39;22m\n",
            "  \u001b[32;1m-\u001b[39;22m \u001b[39mInstalling \u001b[39m\u001b[36mjson5\u001b[39m\u001b[39m (\u001b[39m\u001b[32m0.9.16\u001b[39m\u001b[39m)\u001b[39m\n",
            "  \u001b[32;1m-\u001b[39;22m \u001b[39mInstalling \u001b[39m\u001b[36mjupyter-server-fileid\u001b[39m\u001b[39m (\u001b[39m\u001b[32m0.9.3\u001b[39m\u001b[39m)\u001b[39m\n",
            "  \u001b[32;1m-\u001b[39;22m \u001b[39mInstalling \u001b[39m\u001b[36mjupyter-ydoc\u001b[39m\u001b[39m (\u001b[39m\u001b[32m0.2.5\u001b[39m\u001b[39m)\u001b[39m\n",
            "  \u001b[34;1m-\u001b[39;22m \u001b[39mDowngrading \u001b[39m\u001b[36mnbclassic\u001b[39m\u001b[39m (\u001b[39m\u001b[39;1m1.3.0\u001b[39;22m\u001b[39m -> \u001b[39m\u001b[39;1m1.1.0\u001b[39;22m\u001b[39m)\u001b[39m: \u001b[34mDownloading...\u001b[39m \u001b[39;1m50%\u001b[39;22m\n",
            "  \u001b[34;1m-\u001b[39;22m \u001b[39mUpdating \u001b[39m\u001b[36mnumpy\u001b[39m\u001b[39m (\u001b[39m\u001b[39;1m1.25.0\u001b[39;22m\u001b[39m -> \u001b[39m\u001b[39;1m1.26.4\u001b[39;22m\u001b[39m)\u001b[39m: \u001b[34mDownloading...\u001b[39m \u001b[39;1m30%\u001b[39;22m\n",
            "  \u001b[34;1m-\u001b[39;22m \u001b[39mDowngrading \u001b[39m\u001b[36mpytz\u001b[39m\u001b[39m (\u001b[39m\u001b[39;1m2025.2\u001b[39;22m\u001b[39m -> \u001b[39m\u001b[39;1m2024.2\u001b[39;22m\u001b[39m)\u001b[39m: \u001b[34mInstalling...\u001b[39m\n",
            "  \u001b[34;1m-\u001b[39;22m \u001b[39mDowngrading \u001b[39m\u001b[36mrequests\u001b[39m\u001b[39m (\u001b[39m\u001b[39;1m2.32.3\u001b[39;22m\u001b[39m -> \u001b[39m\u001b[39;1m2.31.0\u001b[39;22m\u001b[39m)\u001b[39m: \u001b[34mInstalling...\u001b[39m\n",
            "  \u001b[32;1m-\u001b[39;22m \u001b[39mInstalling \u001b[39m\u001b[36mypy-websocket\u001b[39m\u001b[39m (\u001b[39m\u001b[32m0.8.4\u001b[39m\u001b[39m)\u001b[39m\n",
            "\u001b[4A\u001b[0J  \u001b[34;1m-\u001b[39;22m \u001b[39mDowngrading \u001b[39m\u001b[36mpytz\u001b[39m\u001b[39m (\u001b[39m\u001b[39;1m2025.2\u001b[39;22m\u001b[39m -> \u001b[39m\u001b[39;1m2024.2\u001b[39;22m\u001b[39m)\u001b[39m: \u001b[34mInstalling...\u001b[39m\n",
            "  \u001b[34;1m-\u001b[39;22m \u001b[39mDowngrading \u001b[39m\u001b[36mrequests\u001b[39m\u001b[39m (\u001b[39m\u001b[39;1m2.32.3\u001b[39;22m\u001b[39m -> \u001b[39m\u001b[39;1m2.31.0\u001b[39;22m\u001b[39m)\u001b[39m: \u001b[34mInstalling...\u001b[39m\n",
            "  \u001b[32;1m-\u001b[39;22m \u001b[39mInstalling \u001b[39m\u001b[36mypy-websocket\u001b[39m\u001b[39m (\u001b[39m\u001b[32m0.8.4\u001b[39m\u001b[39m)\u001b[39m\n",
            "\u001b[3A\u001b[0J  \u001b[34;1m-\u001b[39;22m \u001b[39mUpdating \u001b[39m\u001b[36mnumpy\u001b[39m\u001b[39m (\u001b[39m\u001b[39;1m1.25.0\u001b[39;22m\u001b[39m -> \u001b[39m\u001b[39;1m1.26.4\u001b[39;22m\u001b[39m)\u001b[39m: \u001b[34mDownloading...\u001b[39m \u001b[39;1m40%\u001b[39;22m\n",
            "  \u001b[34;1m-\u001b[39;22m \u001b[39mDowngrading \u001b[39m\u001b[36mpytz\u001b[39m\u001b[39m (\u001b[39m\u001b[39;1m2025.2\u001b[39;22m\u001b[39m -> \u001b[39m\u001b[39;1m2024.2\u001b[39;22m\u001b[39m)\u001b[39m: \u001b[34mInstalling...\u001b[39m\n",
            "  \u001b[34;1m-\u001b[39;22m \u001b[39mDowngrading \u001b[39m\u001b[36mrequests\u001b[39m\u001b[39m (\u001b[39m\u001b[39;1m2.32.3\u001b[39;22m\u001b[39m -> \u001b[39m\u001b[39;1m2.31.0\u001b[39;22m\u001b[39m)\u001b[39m: \u001b[34mInstalling...\u001b[39m\n",
            "  \u001b[32;1m-\u001b[39;22m \u001b[39mInstalling \u001b[39m\u001b[36mypy-websocket\u001b[39m\u001b[39m (\u001b[39m\u001b[32m0.8.4\u001b[39m\u001b[39m)\u001b[39m\n",
            "\u001b[5A\u001b[0J  \u001b[34;1m-\u001b[39;22m \u001b[39mUpdating \u001b[39m\u001b[36mnumpy\u001b[39m\u001b[39m (\u001b[39m\u001b[39;1m1.25.0\u001b[39;22m\u001b[39m -> \u001b[39m\u001b[39;1m1.26.4\u001b[39;22m\u001b[39m)\u001b[39m: \u001b[34mDownloading...\u001b[39m \u001b[39;1m40%\u001b[39;22m\n",
            "  \u001b[34;1m-\u001b[39;22m \u001b[39mDowngrading \u001b[39m\u001b[36mpytz\u001b[39m\u001b[39m (\u001b[39m\u001b[39;1m2025.2\u001b[39;22m\u001b[39m -> \u001b[39m\u001b[39;1m2024.2\u001b[39;22m\u001b[39m)\u001b[39m: \u001b[34mInstalling...\u001b[39m\n",
            "  \u001b[34;1m-\u001b[39;22m \u001b[39mDowngrading \u001b[39m\u001b[36mrequests\u001b[39m\u001b[39m (\u001b[39m\u001b[39;1m2.32.3\u001b[39;22m\u001b[39m -> \u001b[39m\u001b[39;1m2.31.0\u001b[39;22m\u001b[39m)\u001b[39m: \u001b[34mInstalling...\u001b[39m\n",
            "  \u001b[32;1m-\u001b[39;22m \u001b[39mInstalling \u001b[39m\u001b[36mypy-websocket\u001b[39m\u001b[39m (\u001b[39m\u001b[32m0.8.4\u001b[39m\u001b[39m)\u001b[39m\n",
            "\u001b[4A\u001b[0J  \u001b[34;1m-\u001b[39;22m \u001b[39mDowngrading \u001b[39m\u001b[36mnbclassic\u001b[39m\u001b[39m (\u001b[39m\u001b[39;1m1.3.0\u001b[39;22m\u001b[39m -> \u001b[39m\u001b[39;1m1.1.0\u001b[39;22m\u001b[39m)\u001b[39m: \u001b[34mDownloading...\u001b[39m \u001b[39;1m70%\u001b[39;22m\n",
            "  \u001b[34;1m-\u001b[39;22m \u001b[39mUpdating \u001b[39m\u001b[36mnumpy\u001b[39m\u001b[39m (\u001b[39m\u001b[39;1m1.25.0\u001b[39;22m\u001b[39m -> \u001b[39m\u001b[39;1m1.26.4\u001b[39;22m\u001b[39m)\u001b[39m: \u001b[34mDownloading...\u001b[39m \u001b[39;1m40%\u001b[39;22m\n",
            "  \u001b[34;1m-\u001b[39;22m \u001b[39mDowngrading \u001b[39m\u001b[36mpytz\u001b[39m\u001b[39m (\u001b[39m\u001b[39;1m2025.2\u001b[39;22m\u001b[39m -> \u001b[39m\u001b[39;1m2024.2\u001b[39;22m\u001b[39m)\u001b[39m: \u001b[34mInstalling...\u001b[39m\n",
            "  \u001b[34;1m-\u001b[39;22m \u001b[39mDowngrading \u001b[39m\u001b[36mrequests\u001b[39m\u001b[39m (\u001b[39m\u001b[39;1m2.32.3\u001b[39;22m\u001b[39m -> \u001b[39m\u001b[39;1m2.31.0\u001b[39;22m\u001b[39m)\u001b[39m: \u001b[34mInstalling...\u001b[39m\n",
            "  \u001b[32;1m-\u001b[39;22m \u001b[39mInstalling \u001b[39m\u001b[36mypy-websocket\u001b[39m\u001b[39m (\u001b[39m\u001b[32m0.8.4\u001b[39m\u001b[39m)\u001b[39m\n",
            "\u001b[9A\u001b[0J  \u001b[32;1m-\u001b[39;22m \u001b[39mInstalling \u001b[39m\u001b[36mjson5\u001b[39m\u001b[39m (\u001b[39m\u001b[32m0.9.16\u001b[39m\u001b[39m)\u001b[39m\n",
            "  \u001b[32;1m-\u001b[39;22m \u001b[39mInstalling \u001b[39m\u001b[36mjupyter-server-fileid\u001b[39m\u001b[39m (\u001b[39m\u001b[32m0.9.3\u001b[39m\u001b[39m)\u001b[39m\n",
            "  \u001b[32;1m-\u001b[39;22m \u001b[39mInstalling \u001b[39m\u001b[36mjupyter-ydoc\u001b[39m\u001b[39m (\u001b[39m\u001b[32m0.2.5\u001b[39m\u001b[39m)\u001b[39m\n",
            "  \u001b[34;1m-\u001b[39;22m \u001b[39mDowngrading \u001b[39m\u001b[36mnbclassic\u001b[39m\u001b[39m (\u001b[39m\u001b[39;1m1.3.0\u001b[39;22m\u001b[39m -> \u001b[39m\u001b[39;1m1.1.0\u001b[39;22m\u001b[39m)\u001b[39m: \u001b[34mDownloading...\u001b[39m \u001b[39;1m70%\u001b[39;22m\n",
            "  \u001b[34;1m-\u001b[39;22m \u001b[39mUpdating \u001b[39m\u001b[36mnumpy\u001b[39m\u001b[39m (\u001b[39m\u001b[39;1m1.25.0\u001b[39;22m\u001b[39m -> \u001b[39m\u001b[39;1m1.26.4\u001b[39;22m\u001b[39m)\u001b[39m: \u001b[34mDownloading...\u001b[39m \u001b[39;1m40%\u001b[39;22m\n",
            "  \u001b[34;1m-\u001b[39;22m \u001b[39mDowngrading \u001b[39m\u001b[36mpytz\u001b[39m\u001b[39m (\u001b[39m\u001b[39;1m2025.2\u001b[39;22m\u001b[39m -> \u001b[39m\u001b[39;1m2024.2\u001b[39;22m\u001b[39m)\u001b[39m: \u001b[34mInstalling...\u001b[39m\n",
            "  \u001b[34;1m-\u001b[39;22m \u001b[39mDowngrading \u001b[39m\u001b[36mrequests\u001b[39m\u001b[39m (\u001b[39m\u001b[39;1m2.32.3\u001b[39;22m\u001b[39m -> \u001b[39m\u001b[39;1m2.31.0\u001b[39;22m\u001b[39m)\u001b[39m: \u001b[34mInstalling...\u001b[39m\n",
            "  \u001b[32;1m-\u001b[39;22m \u001b[39mInstalling \u001b[39m\u001b[36mypy-websocket\u001b[39m\u001b[39m (\u001b[39m\u001b[32m0.8.4\u001b[39m\u001b[39m)\u001b[39m\n",
            "\u001b[8A\u001b[0J  \u001b[34;1m-\u001b[39;22m \u001b[39mDowngrading \u001b[39m\u001b[36mbabel\u001b[39m\u001b[39m (\u001b[39m\u001b[39;1m2.17.0\u001b[39;22m\u001b[39m -> \u001b[39m\u001b[39;1m2.14.0\u001b[39;22m\u001b[39m)\u001b[39m: \u001b[34mDownloading...\u001b[39m \u001b[39;1m70%\u001b[39;22m\n",
            "  \u001b[32;1m-\u001b[39;22m \u001b[39mInstalling \u001b[39m\u001b[36mjson5\u001b[39m\u001b[39m (\u001b[39m\u001b[32m0.9.16\u001b[39m\u001b[39m)\u001b[39m\n",
            "  \u001b[32;1m-\u001b[39;22m \u001b[39mInstalling \u001b[39m\u001b[36mjupyter-server-fileid\u001b[39m\u001b[39m (\u001b[39m\u001b[32m0.9.3\u001b[39m\u001b[39m)\u001b[39m\n",
            "  \u001b[32;1m-\u001b[39;22m \u001b[39mInstalling \u001b[39m\u001b[36mjupyter-ydoc\u001b[39m\u001b[39m (\u001b[39m\u001b[32m0.2.5\u001b[39m\u001b[39m)\u001b[39m\n",
            "  \u001b[34;1m-\u001b[39;22m \u001b[39mDowngrading \u001b[39m\u001b[36mnbclassic\u001b[39m\u001b[39m (\u001b[39m\u001b[39;1m1.3.0\u001b[39;22m\u001b[39m -> \u001b[39m\u001b[39;1m1.1.0\u001b[39;22m\u001b[39m)\u001b[39m: \u001b[34mDownloading...\u001b[39m \u001b[39;1m70%\u001b[39;22m\n",
            "  \u001b[34;1m-\u001b[39;22m \u001b[39mUpdating \u001b[39m\u001b[36mnumpy\u001b[39m\u001b[39m (\u001b[39m\u001b[39;1m1.25.0\u001b[39;22m\u001b[39m -> \u001b[39m\u001b[39;1m1.26.4\u001b[39;22m\u001b[39m)\u001b[39m: \u001b[34mDownloading...\u001b[39m \u001b[39;1m40%\u001b[39;22m\n",
            "  \u001b[34;1m-\u001b[39;22m \u001b[39mDowngrading \u001b[39m\u001b[36mpytz\u001b[39m\u001b[39m (\u001b[39m\u001b[39;1m2025.2\u001b[39;22m\u001b[39m -> \u001b[39m\u001b[39;1m2024.2\u001b[39;22m\u001b[39m)\u001b[39m: \u001b[34mInstalling...\u001b[39m\n",
            "  \u001b[34;1m-\u001b[39;22m \u001b[39mDowngrading \u001b[39m\u001b[36mrequests\u001b[39m\u001b[39m (\u001b[39m\u001b[39;1m2.32.3\u001b[39;22m\u001b[39m -> \u001b[39m\u001b[39;1m2.31.0\u001b[39;22m\u001b[39m)\u001b[39m: \u001b[34mInstalling...\u001b[39m\n",
            "  \u001b[32;1m-\u001b[39;22m \u001b[39mInstalling \u001b[39m\u001b[36mypy-websocket\u001b[39m\u001b[39m (\u001b[39m\u001b[32m0.8.4\u001b[39m\u001b[39m)\u001b[39m\n",
            "\u001b[4A\u001b[0J  \u001b[34;1m-\u001b[39;22m \u001b[39mDowngrading \u001b[39m\u001b[36mpytz\u001b[39m\u001b[39m (\u001b[39m\u001b[39;1m2025.2\u001b[39;22m\u001b[39m -> \u001b[39m\u001b[39;1m2024.2\u001b[39;22m\u001b[39m)\u001b[39m: \u001b[34mInstalling...\u001b[39m\n",
            "  \u001b[34;1m-\u001b[39;22m \u001b[39mDowngrading \u001b[39m\u001b[36mrequests\u001b[39m\u001b[39m (\u001b[39m\u001b[39;1m2.32.3\u001b[39;22m\u001b[39m -> \u001b[39m\u001b[39;1m2.31.0\u001b[39;22m\u001b[39m)\u001b[39m: \u001b[34mInstalling...\u001b[39m\n",
            "  \u001b[32;1m-\u001b[39;22m \u001b[39mInstalling \u001b[39m\u001b[36mypy-websocket\u001b[39m\u001b[39m (\u001b[39m\u001b[32m0.8.4\u001b[39m\u001b[39m)\u001b[39m\n",
            "\u001b[3A\u001b[0J  \u001b[34;1m-\u001b[39;22m \u001b[39mUpdating \u001b[39m\u001b[36mnumpy\u001b[39m\u001b[39m (\u001b[39m\u001b[39;1m1.25.0\u001b[39;22m\u001b[39m -> \u001b[39m\u001b[39;1m1.26.4\u001b[39;22m\u001b[39m)\u001b[39m: \u001b[34mDownloading...\u001b[39m \u001b[39;1m60%\u001b[39;22m\n",
            "  \u001b[34;1m-\u001b[39;22m \u001b[39mDowngrading \u001b[39m\u001b[36mpytz\u001b[39m\u001b[39m (\u001b[39m\u001b[39;1m2025.2\u001b[39;22m\u001b[39m -> \u001b[39m\u001b[39;1m2024.2\u001b[39;22m\u001b[39m)\u001b[39m: \u001b[34mInstalling...\u001b[39m\n",
            "  \u001b[34;1m-\u001b[39;22m \u001b[39mDowngrading \u001b[39m\u001b[36mrequests\u001b[39m\u001b[39m (\u001b[39m\u001b[39;1m2.32.3\u001b[39;22m\u001b[39m -> \u001b[39m\u001b[39;1m2.31.0\u001b[39;22m\u001b[39m)\u001b[39m: \u001b[34mInstalling...\u001b[39m\n",
            "  \u001b[32;1m-\u001b[39;22m \u001b[39mInstalling \u001b[39m\u001b[36mypy-websocket\u001b[39m\u001b[39m (\u001b[39m\u001b[32m0.8.4\u001b[39m\u001b[39m)\u001b[39m\n",
            "\u001b[9A\u001b[0J  \u001b[32;1m-\u001b[39;22m \u001b[39mInstalling \u001b[39m\u001b[36mjson5\u001b[39m\u001b[39m (\u001b[39m\u001b[32m0.9.16\u001b[39m\u001b[39m)\u001b[39m\n",
            "  \u001b[32;1m-\u001b[39;22m \u001b[39mInstalling \u001b[39m\u001b[36mjupyter-server-fileid\u001b[39m\u001b[39m (\u001b[39m\u001b[32m0.9.3\u001b[39m\u001b[39m)\u001b[39m\n",
            "  \u001b[32;1m-\u001b[39;22m \u001b[39mInstalling \u001b[39m\u001b[36mjupyter-ydoc\u001b[39m\u001b[39m (\u001b[39m\u001b[32m0.2.5\u001b[39m\u001b[39m)\u001b[39m\n",
            "  \u001b[34;1m-\u001b[39;22m \u001b[39mDowngrading \u001b[39m\u001b[36mnbclassic\u001b[39m\u001b[39m (\u001b[39m\u001b[39;1m1.3.0\u001b[39;22m\u001b[39m -> \u001b[39m\u001b[39;1m1.1.0\u001b[39;22m\u001b[39m)\u001b[39m: \u001b[34mDownloading...\u001b[39m \u001b[39;1m70%\u001b[39;22m\n",
            "  \u001b[34;1m-\u001b[39;22m \u001b[39mUpdating \u001b[39m\u001b[36mnumpy\u001b[39m\u001b[39m (\u001b[39m\u001b[39;1m1.25.0\u001b[39;22m\u001b[39m -> \u001b[39m\u001b[39;1m1.26.4\u001b[39;22m\u001b[39m)\u001b[39m: \u001b[34mDownloading...\u001b[39m \u001b[39;1m60%\u001b[39;22m\n",
            "  \u001b[34;1m-\u001b[39;22m \u001b[39mDowngrading \u001b[39m\u001b[36mpytz\u001b[39m\u001b[39m (\u001b[39m\u001b[39;1m2025.2\u001b[39;22m\u001b[39m -> \u001b[39m\u001b[39;1m2024.2\u001b[39;22m\u001b[39m)\u001b[39m: \u001b[34mInstalling...\u001b[39m\n",
            "  \u001b[34;1m-\u001b[39;22m \u001b[39mDowngrading \u001b[39m\u001b[36mrequests\u001b[39m\u001b[39m (\u001b[39m\u001b[39;1m2.32.3\u001b[39;22m\u001b[39m -> \u001b[39m\u001b[39;1m2.31.0\u001b[39;22m\u001b[39m)\u001b[39m: \u001b[34mInstalling...\u001b[39m\n",
            "  \u001b[32;1m-\u001b[39;22m \u001b[39mInstalling \u001b[39m\u001b[36mypy-websocket\u001b[39m\u001b[39m (\u001b[39m\u001b[32m0.8.4\u001b[39m\u001b[39m)\u001b[39m\n",
            "\u001b[8A\u001b[0J  \u001b[34;1m-\u001b[39;22m \u001b[39mDowngrading \u001b[39m\u001b[36mbabel\u001b[39m\u001b[39m (\u001b[39m\u001b[39;1m2.17.0\u001b[39;22m\u001b[39m -> \u001b[39m\u001b[39;1m2.14.0\u001b[39;22m\u001b[39m)\u001b[39m: \u001b[34mDownloading...\u001b[39m \u001b[39;1m90%\u001b[39;22m\n",
            "  \u001b[32;1m-\u001b[39;22m \u001b[39mInstalling \u001b[39m\u001b[36mjson5\u001b[39m\u001b[39m (\u001b[39m\u001b[32m0.9.16\u001b[39m\u001b[39m)\u001b[39m\n",
            "  \u001b[32;1m-\u001b[39;22m \u001b[39mInstalling \u001b[39m\u001b[36mjupyter-server-fileid\u001b[39m\u001b[39m (\u001b[39m\u001b[32m0.9.3\u001b[39m\u001b[39m)\u001b[39m\n",
            "  \u001b[32;1m-\u001b[39;22m \u001b[39mInstalling \u001b[39m\u001b[36mjupyter-ydoc\u001b[39m\u001b[39m (\u001b[39m\u001b[32m0.2.5\u001b[39m\u001b[39m)\u001b[39m\n",
            "  \u001b[34;1m-\u001b[39;22m \u001b[39mDowngrading \u001b[39m\u001b[36mnbclassic\u001b[39m\u001b[39m (\u001b[39m\u001b[39;1m1.3.0\u001b[39;22m\u001b[39m -> \u001b[39m\u001b[39;1m1.1.0\u001b[39;22m\u001b[39m)\u001b[39m: \u001b[34mDownloading...\u001b[39m \u001b[39;1m70%\u001b[39;22m\n",
            "  \u001b[34;1m-\u001b[39;22m \u001b[39mUpdating \u001b[39m\u001b[36mnumpy\u001b[39m\u001b[39m (\u001b[39m\u001b[39;1m1.25.0\u001b[39;22m\u001b[39m -> \u001b[39m\u001b[39;1m1.26.4\u001b[39;22m\u001b[39m)\u001b[39m: \u001b[34mDownloading...\u001b[39m \u001b[39;1m60%\u001b[39;22m\n",
            "  \u001b[34;1m-\u001b[39;22m \u001b[39mDowngrading \u001b[39m\u001b[36mpytz\u001b[39m\u001b[39m (\u001b[39m\u001b[39;1m2025.2\u001b[39;22m\u001b[39m -> \u001b[39m\u001b[39;1m2024.2\u001b[39;22m\u001b[39m)\u001b[39m: \u001b[34mInstalling...\u001b[39m\n",
            "  \u001b[34;1m-\u001b[39;22m \u001b[39mDowngrading \u001b[39m\u001b[36mrequests\u001b[39m\u001b[39m (\u001b[39m\u001b[39;1m2.32.3\u001b[39;22m\u001b[39m -> \u001b[39m\u001b[39;1m2.31.0\u001b[39;22m\u001b[39m)\u001b[39m: \u001b[34mInstalling...\u001b[39m\n",
            "  \u001b[32;1m-\u001b[39;22m \u001b[39mInstalling \u001b[39m\u001b[36mypy-websocket\u001b[39m\u001b[39m (\u001b[39m\u001b[32m0.8.4\u001b[39m\u001b[39m)\u001b[39m\n",
            "\u001b[5A\u001b[0J  \u001b[34;1m-\u001b[39;22m \u001b[39mUpdating \u001b[39m\u001b[36mnumpy\u001b[39m\u001b[39m (\u001b[39m\u001b[39;1m1.25.0\u001b[39;22m\u001b[39m -> \u001b[39m\u001b[39;1m1.26.4\u001b[39;22m\u001b[39m)\u001b[39m: \u001b[34mDownloading...\u001b[39m \u001b[39;1m60%\u001b[39;22m\n",
            "  \u001b[34;1m-\u001b[39;22m \u001b[39mDowngrading \u001b[39m\u001b[36mpytz\u001b[39m\u001b[39m (\u001b[39m\u001b[39;1m2025.2\u001b[39;22m\u001b[39m -> \u001b[39m\u001b[39;1m2024.2\u001b[39;22m\u001b[39m)\u001b[39m: \u001b[34mInstalling...\u001b[39m\n",
            "  \u001b[34;1m-\u001b[39;22m \u001b[39mDowngrading \u001b[39m\u001b[36mrequests\u001b[39m\u001b[39m (\u001b[39m\u001b[39;1m2.32.3\u001b[39;22m\u001b[39m -> \u001b[39m\u001b[39;1m2.31.0\u001b[39;22m\u001b[39m)\u001b[39m: \u001b[34mInstalling...\u001b[39m\n",
            "  \u001b[32;1m-\u001b[39;22m \u001b[39mInstalling \u001b[39m\u001b[36mypy-websocket\u001b[39m\u001b[39m (\u001b[39m\u001b[32m0.8.4\u001b[39m\u001b[39m)\u001b[39m\n",
            "\u001b[4A\u001b[0J  \u001b[34;1m-\u001b[39;22m \u001b[39mDowngrading \u001b[39m\u001b[36mnbclassic\u001b[39m\u001b[39m (\u001b[39m\u001b[39;1m1.3.0\u001b[39;22m\u001b[39m -> \u001b[39m\u001b[39;1m1.1.0\u001b[39;22m\u001b[39m)\u001b[39m: \u001b[34mDownloading...\u001b[39m \u001b[39;1m100%\u001b[39;22m\n",
            "  \u001b[34;1m-\u001b[39;22m \u001b[39mUpdating \u001b[39m\u001b[36mnumpy\u001b[39m\u001b[39m (\u001b[39m\u001b[39;1m1.25.0\u001b[39;22m\u001b[39m -> \u001b[39m\u001b[39;1m1.26.4\u001b[39;22m\u001b[39m)\u001b[39m: \u001b[34mDownloading...\u001b[39m \u001b[39;1m60%\u001b[39;22m\n",
            "  \u001b[34;1m-\u001b[39;22m \u001b[39mDowngrading \u001b[39m\u001b[36mpytz\u001b[39m\u001b[39m (\u001b[39m\u001b[39;1m2025.2\u001b[39;22m\u001b[39m -> \u001b[39m\u001b[39;1m2024.2\u001b[39;22m\u001b[39m)\u001b[39m: \u001b[34mInstalling...\u001b[39m\n",
            "  \u001b[34;1m-\u001b[39;22m \u001b[39mDowngrading \u001b[39m\u001b[36mrequests\u001b[39m\u001b[39m (\u001b[39m\u001b[39;1m2.32.3\u001b[39;22m\u001b[39m -> \u001b[39m\u001b[39;1m2.31.0\u001b[39;22m\u001b[39m)\u001b[39m: \u001b[34mInstalling...\u001b[39m\n",
            "  \u001b[32;1m-\u001b[39;22m \u001b[39mInstalling \u001b[39m\u001b[36mypy-websocket\u001b[39m\u001b[39m (\u001b[39m\u001b[32m0.8.4\u001b[39m\u001b[39m)\u001b[39m\n",
            "\u001b[4A\u001b[0J  \u001b[34;1m-\u001b[39;22m \u001b[39mDowngrading \u001b[39m\u001b[36mpytz\u001b[39m\u001b[39m (\u001b[39m\u001b[39;1m2025.2\u001b[39;22m\u001b[39m -> \u001b[39m\u001b[39;1m2024.2\u001b[39;22m\u001b[39m)\u001b[39m: \u001b[34mInstalling...\u001b[39m\n",
            "  \u001b[34;1m-\u001b[39;22m \u001b[39mDowngrading \u001b[39m\u001b[36mrequests\u001b[39m\u001b[39m (\u001b[39m\u001b[39;1m2.32.3\u001b[39;22m\u001b[39m -> \u001b[39m\u001b[39;1m2.31.0\u001b[39;22m\u001b[39m)\u001b[39m: \u001b[34mInstalling...\u001b[39m\n",
            "  \u001b[32;1m-\u001b[39;22m \u001b[39mInstalling \u001b[39m\u001b[36mypy-websocket\u001b[39m\u001b[39m (\u001b[39m\u001b[32m0.8.4\u001b[39m\u001b[39m)\u001b[39m\n",
            "\u001b[3A\u001b[0J  \u001b[34;1m-\u001b[39;22m \u001b[39mUpdating \u001b[39m\u001b[36mnumpy\u001b[39m\u001b[39m (\u001b[39m\u001b[39;1m1.25.0\u001b[39;22m\u001b[39m -> \u001b[39m\u001b[39;1m1.26.4\u001b[39;22m\u001b[39m)\u001b[39m: \u001b[34mDownloading...\u001b[39m \u001b[39;1m70%\u001b[39;22m\n",
            "  \u001b[34;1m-\u001b[39;22m \u001b[39mDowngrading \u001b[39m\u001b[36mpytz\u001b[39m\u001b[39m (\u001b[39m\u001b[39;1m2025.2\u001b[39;22m\u001b[39m -> \u001b[39m\u001b[39;1m2024.2\u001b[39;22m\u001b[39m)\u001b[39m: \u001b[34mInstalling...\u001b[39m\n",
            "  \u001b[34;1m-\u001b[39;22m \u001b[39mDowngrading \u001b[39m\u001b[36mrequests\u001b[39m\u001b[39m (\u001b[39m\u001b[39;1m2.32.3\u001b[39;22m\u001b[39m -> \u001b[39m\u001b[39;1m2.31.0\u001b[39;22m\u001b[39m)\u001b[39m: \u001b[34mInstalling...\u001b[39m\n",
            "  \u001b[32;1m-\u001b[39;22m \u001b[39mInstalling \u001b[39m\u001b[36mypy-websocket\u001b[39m\u001b[39m (\u001b[39m\u001b[32m0.8.4\u001b[39m\u001b[39m)\u001b[39m\n",
            "\u001b[9A\u001b[0J  \u001b[32;1m-\u001b[39;22m \u001b[39mInstalling \u001b[39m\u001b[36mjson5\u001b[39m\u001b[39m (\u001b[39m\u001b[32m0.9.16\u001b[39m\u001b[39m)\u001b[39m\n",
            "  \u001b[32;1m-\u001b[39;22m \u001b[39mInstalling \u001b[39m\u001b[36mjupyter-server-fileid\u001b[39m\u001b[39m (\u001b[39m\u001b[32m0.9.3\u001b[39m\u001b[39m)\u001b[39m\n",
            "  \u001b[32;1m-\u001b[39;22m \u001b[39mInstalling \u001b[39m\u001b[36mjupyter-ydoc\u001b[39m\u001b[39m (\u001b[39m\u001b[32m0.2.5\u001b[39m\u001b[39m)\u001b[39m\n",
            "  \u001b[34;1m-\u001b[39;22m \u001b[39mDowngrading \u001b[39m\u001b[36mnbclassic\u001b[39m\u001b[39m (\u001b[39m\u001b[39;1m1.3.0\u001b[39;22m\u001b[39m -> \u001b[39m\u001b[39;1m1.1.0\u001b[39;22m\u001b[39m)\u001b[39m: \u001b[34mDownloading...\u001b[39m \u001b[39;1m100%\u001b[39;22m\n",
            "  \u001b[34;1m-\u001b[39;22m \u001b[39mUpdating \u001b[39m\u001b[36mnumpy\u001b[39m\u001b[39m (\u001b[39m\u001b[39;1m1.25.0\u001b[39;22m\u001b[39m -> \u001b[39m\u001b[39;1m1.26.4\u001b[39;22m\u001b[39m)\u001b[39m: \u001b[34mDownloading...\u001b[39m \u001b[39;1m70%\u001b[39;22m\n",
            "  \u001b[34;1m-\u001b[39;22m \u001b[39mDowngrading \u001b[39m\u001b[36mpytz\u001b[39m\u001b[39m (\u001b[39m\u001b[39;1m2025.2\u001b[39;22m\u001b[39m -> \u001b[39m\u001b[39;1m2024.2\u001b[39;22m\u001b[39m)\u001b[39m: \u001b[34mInstalling...\u001b[39m\n",
            "  \u001b[34;1m-\u001b[39;22m \u001b[39mDowngrading \u001b[39m\u001b[36mrequests\u001b[39m\u001b[39m (\u001b[39m\u001b[39;1m2.32.3\u001b[39;22m\u001b[39m -> \u001b[39m\u001b[39;1m2.31.0\u001b[39;22m\u001b[39m)\u001b[39m: \u001b[34mInstalling...\u001b[39m\n",
            "  \u001b[32;1m-\u001b[39;22m \u001b[39mInstalling \u001b[39m\u001b[36mypy-websocket\u001b[39m\u001b[39m (\u001b[39m\u001b[32m0.8.4\u001b[39m\u001b[39m)\u001b[39m\n",
            "\u001b[8A\u001b[0J  \u001b[34;1m-\u001b[39;22m \u001b[39mDowngrading \u001b[39m\u001b[36mbabel\u001b[39m\u001b[39m (\u001b[39m\u001b[39;1m2.17.0\u001b[39;22m\u001b[39m -> \u001b[39m\u001b[39;1m2.14.0\u001b[39;22m\u001b[39m)\u001b[39m: \u001b[34mDownloading...\u001b[39m \u001b[39;1m100%\u001b[39;22m\n",
            "  \u001b[32;1m-\u001b[39;22m \u001b[39mInstalling \u001b[39m\u001b[36mjson5\u001b[39m\u001b[39m (\u001b[39m\u001b[32m0.9.16\u001b[39m\u001b[39m)\u001b[39m\n",
            "  \u001b[32;1m-\u001b[39;22m \u001b[39mInstalling \u001b[39m\u001b[36mjupyter-server-fileid\u001b[39m\u001b[39m (\u001b[39m\u001b[32m0.9.3\u001b[39m\u001b[39m)\u001b[39m\n",
            "  \u001b[32;1m-\u001b[39;22m \u001b[39mInstalling \u001b[39m\u001b[36mjupyter-ydoc\u001b[39m\u001b[39m (\u001b[39m\u001b[32m0.2.5\u001b[39m\u001b[39m)\u001b[39m\n",
            "  \u001b[34;1m-\u001b[39;22m \u001b[39mDowngrading \u001b[39m\u001b[36mnbclassic\u001b[39m\u001b[39m (\u001b[39m\u001b[39;1m1.3.0\u001b[39;22m\u001b[39m -> \u001b[39m\u001b[39;1m1.1.0\u001b[39;22m\u001b[39m)\u001b[39m: \u001b[34mDownloading...\u001b[39m \u001b[39;1m100%\u001b[39;22m\n",
            "  \u001b[34;1m-\u001b[39;22m \u001b[39mUpdating \u001b[39m\u001b[36mnumpy\u001b[39m\u001b[39m (\u001b[39m\u001b[39;1m1.25.0\u001b[39;22m\u001b[39m -> \u001b[39m\u001b[39;1m1.26.4\u001b[39;22m\u001b[39m)\u001b[39m: \u001b[34mDownloading...\u001b[39m \u001b[39;1m70%\u001b[39;22m\n",
            "  \u001b[34;1m-\u001b[39;22m \u001b[39mDowngrading \u001b[39m\u001b[36mpytz\u001b[39m\u001b[39m (\u001b[39m\u001b[39;1m2025.2\u001b[39;22m\u001b[39m -> \u001b[39m\u001b[39;1m2024.2\u001b[39;22m\u001b[39m)\u001b[39m: \u001b[34mInstalling...\u001b[39m\n",
            "  \u001b[34;1m-\u001b[39;22m \u001b[39mDowngrading \u001b[39m\u001b[36mrequests\u001b[39m\u001b[39m (\u001b[39m\u001b[39;1m2.32.3\u001b[39;22m\u001b[39m -> \u001b[39m\u001b[39;1m2.31.0\u001b[39;22m\u001b[39m)\u001b[39m: \u001b[34mInstalling...\u001b[39m\n",
            "  \u001b[32;1m-\u001b[39;22m \u001b[39mInstalling \u001b[39m\u001b[36mypy-websocket\u001b[39m\u001b[39m (\u001b[39m\u001b[32m0.8.4\u001b[39m\u001b[39m)\u001b[39m\n",
            "\u001b[4A\u001b[0J  \u001b[34;1m-\u001b[39;22m \u001b[39mDowngrading \u001b[39m\u001b[36mpytz\u001b[39m\u001b[39m (\u001b[39m\u001b[39;1m2025.2\u001b[39;22m\u001b[39m -> \u001b[39m\u001b[39;1m2024.2\u001b[39;22m\u001b[39m)\u001b[39m: \u001b[34mInstalling...\u001b[39m\n",
            "  \u001b[34;1m-\u001b[39;22m \u001b[39mDowngrading \u001b[39m\u001b[36mrequests\u001b[39m\u001b[39m (\u001b[39m\u001b[39;1m2.32.3\u001b[39;22m\u001b[39m -> \u001b[39m\u001b[39;1m2.31.0\u001b[39;22m\u001b[39m)\u001b[39m: \u001b[34mInstalling...\u001b[39m\n",
            "  \u001b[32;1m-\u001b[39;22m \u001b[39mInstalling \u001b[39m\u001b[36mypy-websocket\u001b[39m\u001b[39m (\u001b[39m\u001b[32m0.8.4\u001b[39m\u001b[39m)\u001b[39m\n",
            "\u001b[3A\u001b[0J  \u001b[34;1m-\u001b[39;22m \u001b[39mUpdating \u001b[39m\u001b[36mnumpy\u001b[39m\u001b[39m (\u001b[39m\u001b[39;1m1.25.0\u001b[39;22m\u001b[39m -> \u001b[39m\u001b[39;1m1.26.4\u001b[39;22m\u001b[39m)\u001b[39m: \u001b[34mDownloading...\u001b[39m \u001b[39;1m90%\u001b[39;22m\n",
            "  \u001b[34;1m-\u001b[39;22m \u001b[39mDowngrading \u001b[39m\u001b[36mpytz\u001b[39m\u001b[39m (\u001b[39m\u001b[39;1m2025.2\u001b[39;22m\u001b[39m -> \u001b[39m\u001b[39;1m2024.2\u001b[39;22m\u001b[39m)\u001b[39m: \u001b[34mInstalling...\u001b[39m\n",
            "  \u001b[34;1m-\u001b[39;22m \u001b[39mDowngrading \u001b[39m\u001b[36mrequests\u001b[39m\u001b[39m (\u001b[39m\u001b[39;1m2.32.3\u001b[39;22m\u001b[39m -> \u001b[39m\u001b[39;1m2.31.0\u001b[39;22m\u001b[39m)\u001b[39m: \u001b[34mInstalling...\u001b[39m\n",
            "  \u001b[32;1m-\u001b[39;22m \u001b[39mInstalling \u001b[39m\u001b[36mypy-websocket\u001b[39m\u001b[39m (\u001b[39m\u001b[32m0.8.4\u001b[39m\u001b[39m)\u001b[39m\n",
            "\u001b[5A\u001b[0J  \u001b[34;1m-\u001b[39;22m \u001b[39mUpdating \u001b[39m\u001b[36mnumpy\u001b[39m\u001b[39m (\u001b[39m\u001b[39;1m1.25.0\u001b[39;22m\u001b[39m -> \u001b[39m\u001b[39;1m1.26.4\u001b[39;22m\u001b[39m)\u001b[39m: \u001b[34mDownloading...\u001b[39m \u001b[39;1m90%\u001b[39;22m\n",
            "  \u001b[34;1m-\u001b[39;22m \u001b[39mDowngrading \u001b[39m\u001b[36mpytz\u001b[39m\u001b[39m (\u001b[39m\u001b[39;1m2025.2\u001b[39;22m\u001b[39m -> \u001b[39m\u001b[39;1m2024.2\u001b[39;22m\u001b[39m)\u001b[39m: \u001b[34mInstalling...\u001b[39m\n",
            "  \u001b[34;1m-\u001b[39;22m \u001b[39mDowngrading \u001b[39m\u001b[36mrequests\u001b[39m\u001b[39m (\u001b[39m\u001b[39;1m2.32.3\u001b[39;22m\u001b[39m -> \u001b[39m\u001b[39;1m2.31.0\u001b[39;22m\u001b[39m)\u001b[39m: \u001b[34mInstalling...\u001b[39m\n",
            "  \u001b[32;1m-\u001b[39;22m \u001b[39mInstalling \u001b[39m\u001b[36mypy-websocket\u001b[39m\u001b[39m (\u001b[39m\u001b[32m0.8.4\u001b[39m\u001b[39m)\u001b[39m\n",
            "\u001b[4A\u001b[0J  \u001b[34;1m-\u001b[39;22m \u001b[39mDowngrading \u001b[39m\u001b[36mnbclassic\u001b[39m\u001b[39m (\u001b[39m\u001b[39;1m1.3.0\u001b[39;22m\u001b[39m -> \u001b[39m\u001b[39;1m1.1.0\u001b[39;22m\u001b[39m)\u001b[39m: \u001b[34mInstalling...\u001b[39m\n",
            "  \u001b[34;1m-\u001b[39;22m \u001b[39mUpdating \u001b[39m\u001b[36mnumpy\u001b[39m\u001b[39m (\u001b[39m\u001b[39;1m1.25.0\u001b[39;22m\u001b[39m -> \u001b[39m\u001b[39;1m1.26.4\u001b[39;22m\u001b[39m)\u001b[39m: \u001b[34mDownloading...\u001b[39m \u001b[39;1m90%\u001b[39;22m\n",
            "  \u001b[34;1m-\u001b[39;22m \u001b[39mDowngrading \u001b[39m\u001b[36mpytz\u001b[39m\u001b[39m (\u001b[39m\u001b[39;1m2025.2\u001b[39;22m\u001b[39m -> \u001b[39m\u001b[39;1m2024.2\u001b[39;22m\u001b[39m)\u001b[39m: \u001b[34mInstalling...\u001b[39m\n",
            "  \u001b[34;1m-\u001b[39;22m \u001b[39mDowngrading \u001b[39m\u001b[36mrequests\u001b[39m\u001b[39m (\u001b[39m\u001b[39;1m2.32.3\u001b[39;22m\u001b[39m -> \u001b[39m\u001b[39;1m2.31.0\u001b[39;22m\u001b[39m)\u001b[39m: \u001b[34mInstalling...\u001b[39m\n",
            "  \u001b[32;1m-\u001b[39;22m \u001b[39mInstalling \u001b[39m\u001b[36mypy-websocket\u001b[39m\u001b[39m (\u001b[39m\u001b[32m0.8.4\u001b[39m\u001b[39m)\u001b[39m\n",
            "\u001b[9A\u001b[0J  \u001b[32;1m-\u001b[39;22m \u001b[39mInstalling \u001b[39m\u001b[36mjson5\u001b[39m\u001b[39m (\u001b[39m\u001b[32m0.9.16\u001b[39m\u001b[39m)\u001b[39m\n",
            "  \u001b[32;1m-\u001b[39;22m \u001b[39mInstalling \u001b[39m\u001b[36mjupyter-server-fileid\u001b[39m\u001b[39m (\u001b[39m\u001b[32m0.9.3\u001b[39m\u001b[39m)\u001b[39m\n",
            "  \u001b[32;1m-\u001b[39;22m \u001b[39mInstalling \u001b[39m\u001b[36mjupyter-ydoc\u001b[39m\u001b[39m (\u001b[39m\u001b[32m0.2.5\u001b[39m\u001b[39m)\u001b[39m\n",
            "  \u001b[34;1m-\u001b[39;22m \u001b[39mDowngrading \u001b[39m\u001b[36mnbclassic\u001b[39m\u001b[39m (\u001b[39m\u001b[39;1m1.3.0\u001b[39;22m\u001b[39m -> \u001b[39m\u001b[39;1m1.1.0\u001b[39;22m\u001b[39m)\u001b[39m: \u001b[34mInstalling...\u001b[39m\n",
            "  \u001b[34;1m-\u001b[39;22m \u001b[39mUpdating \u001b[39m\u001b[36mnumpy\u001b[39m\u001b[39m (\u001b[39m\u001b[39;1m1.25.0\u001b[39;22m\u001b[39m -> \u001b[39m\u001b[39;1m1.26.4\u001b[39;22m\u001b[39m)\u001b[39m: \u001b[34mDownloading...\u001b[39m \u001b[39;1m90%\u001b[39;22m\n",
            "  \u001b[34;1m-\u001b[39;22m \u001b[39mDowngrading \u001b[39m\u001b[36mpytz\u001b[39m\u001b[39m (\u001b[39m\u001b[39;1m2025.2\u001b[39;22m\u001b[39m -> \u001b[39m\u001b[39;1m2024.2\u001b[39;22m\u001b[39m)\u001b[39m: \u001b[34mInstalling...\u001b[39m\n",
            "  \u001b[34;1m-\u001b[39;22m \u001b[39mDowngrading \u001b[39m\u001b[36mrequests\u001b[39m\u001b[39m (\u001b[39m\u001b[39;1m2.32.3\u001b[39;22m\u001b[39m -> \u001b[39m\u001b[39;1m2.31.0\u001b[39;22m\u001b[39m)\u001b[39m: \u001b[34mInstalling...\u001b[39m\n",
            "  \u001b[32;1m-\u001b[39;22m \u001b[39mInstalling \u001b[39m\u001b[36mypy-websocket\u001b[39m\u001b[39m (\u001b[39m\u001b[32m0.8.4\u001b[39m\u001b[39m)\u001b[39m\n",
            "\u001b[8A\u001b[0J  \u001b[34;1m-\u001b[39;22m \u001b[39mDowngrading \u001b[39m\u001b[36mbabel\u001b[39m\u001b[39m (\u001b[39m\u001b[39;1m2.17.0\u001b[39;22m\u001b[39m -> \u001b[39m\u001b[39;1m2.14.0\u001b[39;22m\u001b[39m)\u001b[39m: \u001b[34mInstalling...\u001b[39m\n",
            "  \u001b[32;1m-\u001b[39;22m \u001b[39mInstalling \u001b[39m\u001b[36mjson5\u001b[39m\u001b[39m (\u001b[39m\u001b[32m0.9.16\u001b[39m\u001b[39m)\u001b[39m\n",
            "  \u001b[32;1m-\u001b[39;22m \u001b[39mInstalling \u001b[39m\u001b[36mjupyter-server-fileid\u001b[39m\u001b[39m (\u001b[39m\u001b[32m0.9.3\u001b[39m\u001b[39m)\u001b[39m\n",
            "  \u001b[32;1m-\u001b[39;22m \u001b[39mInstalling \u001b[39m\u001b[36mjupyter-ydoc\u001b[39m\u001b[39m (\u001b[39m\u001b[32m0.2.5\u001b[39m\u001b[39m)\u001b[39m\n",
            "  \u001b[34;1m-\u001b[39;22m \u001b[39mDowngrading \u001b[39m\u001b[36mnbclassic\u001b[39m\u001b[39m (\u001b[39m\u001b[39;1m1.3.0\u001b[39;22m\u001b[39m -> \u001b[39m\u001b[39;1m1.1.0\u001b[39;22m\u001b[39m)\u001b[39m: \u001b[34mInstalling...\u001b[39m\n",
            "  \u001b[34;1m-\u001b[39;22m \u001b[39mUpdating \u001b[39m\u001b[36mnumpy\u001b[39m\u001b[39m (\u001b[39m\u001b[39;1m1.25.0\u001b[39;22m\u001b[39m -> \u001b[39m\u001b[39;1m1.26.4\u001b[39;22m\u001b[39m)\u001b[39m: \u001b[34mDownloading...\u001b[39m \u001b[39;1m90%\u001b[39;22m\n",
            "  \u001b[34;1m-\u001b[39;22m \u001b[39mDowngrading \u001b[39m\u001b[36mpytz\u001b[39m\u001b[39m (\u001b[39m\u001b[39;1m2025.2\u001b[39;22m\u001b[39m -> \u001b[39m\u001b[39;1m2024.2\u001b[39;22m\u001b[39m)\u001b[39m: \u001b[34mInstalling...\u001b[39m\n",
            "  \u001b[34;1m-\u001b[39;22m \u001b[39mDowngrading \u001b[39m\u001b[36mrequests\u001b[39m\u001b[39m (\u001b[39m\u001b[39;1m2.32.3\u001b[39;22m\u001b[39m -> \u001b[39m\u001b[39;1m2.31.0\u001b[39;22m\u001b[39m)\u001b[39m: \u001b[34mInstalling...\u001b[39m\n",
            "  \u001b[32;1m-\u001b[39;22m \u001b[39mInstalling \u001b[39m\u001b[36mypy-websocket\u001b[39m\u001b[39m (\u001b[39m\u001b[32m0.8.4\u001b[39m\u001b[39m)\u001b[39m\n",
            "\u001b[4A\u001b[0J  \u001b[34;1m-\u001b[39;22m \u001b[39mDowngrading \u001b[39m\u001b[36mpytz\u001b[39m\u001b[39m (\u001b[39m\u001b[39;1m2025.2\u001b[39;22m\u001b[39m -> \u001b[39m\u001b[39;1m2024.2\u001b[39;22m\u001b[39m)\u001b[39m: \u001b[34mInstalling...\u001b[39m\n",
            "  \u001b[34;1m-\u001b[39;22m \u001b[39mDowngrading \u001b[39m\u001b[36mrequests\u001b[39m\u001b[39m (\u001b[39m\u001b[39;1m2.32.3\u001b[39;22m\u001b[39m -> \u001b[39m\u001b[39;1m2.31.0\u001b[39;22m\u001b[39m)\u001b[39m: \u001b[34mInstalling...\u001b[39m\n",
            "  \u001b[32;1m-\u001b[39;22m \u001b[39mInstalling \u001b[39m\u001b[36mypy-websocket\u001b[39m\u001b[39m (\u001b[39m\u001b[32m0.8.4\u001b[39m\u001b[39m)\u001b[39m\n",
            "\u001b[3A\u001b[0J  \u001b[34;1m-\u001b[39;22m \u001b[39mUpdating \u001b[39m\u001b[36mnumpy\u001b[39m\u001b[39m (\u001b[39m\u001b[39;1m1.25.0\u001b[39;22m\u001b[39m -> \u001b[39m\u001b[39;1m1.26.4\u001b[39;22m\u001b[39m)\u001b[39m: \u001b[34mDownloading...\u001b[39m \u001b[39;1m100%\u001b[39;22m\n",
            "  \u001b[34;1m-\u001b[39;22m \u001b[39mDowngrading \u001b[39m\u001b[36mpytz\u001b[39m\u001b[39m (\u001b[39m\u001b[39;1m2025.2\u001b[39;22m\u001b[39m -> \u001b[39m\u001b[39;1m2024.2\u001b[39;22m\u001b[39m)\u001b[39m: \u001b[34mInstalling...\u001b[39m\n",
            "  \u001b[34;1m-\u001b[39;22m \u001b[39mDowngrading \u001b[39m\u001b[36mrequests\u001b[39m\u001b[39m (\u001b[39m\u001b[39;1m2.32.3\u001b[39;22m\u001b[39m -> \u001b[39m\u001b[39;1m2.31.0\u001b[39;22m\u001b[39m)\u001b[39m: \u001b[34mInstalling...\u001b[39m\n",
            "  \u001b[32;1m-\u001b[39;22m \u001b[39mInstalling \u001b[39m\u001b[36mypy-websocket\u001b[39m\u001b[39m (\u001b[39m\u001b[32m0.8.4\u001b[39m\u001b[39m)\u001b[39m\n",
            "\u001b[4A\u001b[0J  \u001b[34;1m-\u001b[39;22m \u001b[39mDowngrading \u001b[39m\u001b[36mpytz\u001b[39m\u001b[39m (\u001b[39m\u001b[39;1m2025.2\u001b[39;22m\u001b[39m -> \u001b[39m\u001b[39;1m2024.2\u001b[39;22m\u001b[39m)\u001b[39m: \u001b[34mInstalling...\u001b[39m\n",
            "  \u001b[34;1m-\u001b[39;22m \u001b[39mDowngrading \u001b[39m\u001b[36mrequests\u001b[39m\u001b[39m (\u001b[39m\u001b[39;1m2.32.3\u001b[39;22m\u001b[39m -> \u001b[39m\u001b[39;1m2.31.0\u001b[39;22m\u001b[39m)\u001b[39m: \u001b[34mInstalling...\u001b[39m\n",
            "  \u001b[32;1m-\u001b[39;22m \u001b[39mInstalling \u001b[39m\u001b[36mypy-websocket\u001b[39m\u001b[39m (\u001b[39m\u001b[32m0.8.4\u001b[39m\u001b[39m)\u001b[39m\n",
            "\u001b[3A\u001b[0J  \u001b[34;1m-\u001b[39;22m \u001b[39mUpdating \u001b[39m\u001b[36mnumpy\u001b[39m\u001b[39m (\u001b[39m\u001b[39;1m1.25.0\u001b[39;22m\u001b[39m -> \u001b[39m\u001b[39;1m1.26.4\u001b[39;22m\u001b[39m)\u001b[39m: \u001b[34mInstalling...\u001b[39m\n",
            "  \u001b[34;1m-\u001b[39;22m \u001b[39mDowngrading \u001b[39m\u001b[36mpytz\u001b[39m\u001b[39m (\u001b[39m\u001b[39;1m2025.2\u001b[39;22m\u001b[39m -> \u001b[39m\u001b[39;1m2024.2\u001b[39;22m\u001b[39m)\u001b[39m: \u001b[34mInstalling...\u001b[39m\n",
            "  \u001b[34;1m-\u001b[39;22m \u001b[39mDowngrading \u001b[39m\u001b[36mrequests\u001b[39m\u001b[39m (\u001b[39m\u001b[39;1m2.32.3\u001b[39;22m\u001b[39m -> \u001b[39m\u001b[39;1m2.31.0\u001b[39;22m\u001b[39m)\u001b[39m: \u001b[34mInstalling...\u001b[39m\n",
            "  \u001b[32;1m-\u001b[39;22m \u001b[39mInstalling \u001b[39m\u001b[36mypy-websocket\u001b[39m\u001b[39m (\u001b[39m\u001b[32m0.8.4\u001b[39m\u001b[39m)\u001b[39m\n",
            "\u001b[2A\u001b[0J  \u001b[32;1m-\u001b[39;22m \u001b[39mInstalling \u001b[39m\u001b[36mypy-websocket\u001b[39m\u001b[39m (\u001b[39m\u001b[32m0.8.4\u001b[39m\u001b[39m)\u001b[39m\n",
            "\u001b[1A\u001b[0J  \u001b[32;1m-\u001b[39;22m \u001b[39mDowngrading \u001b[39m\u001b[36mrequests\u001b[39m\u001b[39m (\u001b[39m\u001b[39;1m2.32.3\u001b[39;22m\u001b[39m -> \u001b[39m\u001b[32m2.31.0\u001b[39m\u001b[39m)\u001b[39m\n",
            "  \u001b[32;1m-\u001b[39;22m \u001b[39mInstalling \u001b[39m\u001b[36mypy-websocket\u001b[39m\u001b[39m (\u001b[39m\u001b[32m0.8.4\u001b[39m\u001b[39m)\u001b[39m\n",
            "\u001b[3A\u001b[0J  \u001b[32;1m-\u001b[39;22m \u001b[39mDowngrading \u001b[39m\u001b[36mrequests\u001b[39m\u001b[39m (\u001b[39m\u001b[39;1m2.32.3\u001b[39;22m\u001b[39m -> \u001b[39m\u001b[32m2.31.0\u001b[39m\u001b[39m)\u001b[39m\n",
            "  \u001b[32;1m-\u001b[39;22m \u001b[39mInstalling \u001b[39m\u001b[36mypy-websocket\u001b[39m\u001b[39m (\u001b[39m\u001b[32m0.8.4\u001b[39m\u001b[39m)\u001b[39m\n",
            "\u001b[2A\u001b[0J  \u001b[32;1m-\u001b[39;22m \u001b[39mDowngrading \u001b[39m\u001b[36mpytz\u001b[39m\u001b[39m (\u001b[39m\u001b[39;1m2025.2\u001b[39;22m\u001b[39m -> \u001b[39m\u001b[32m2024.2\u001b[39m\u001b[39m)\u001b[39m\n",
            "  \u001b[32;1m-\u001b[39;22m \u001b[39mDowngrading \u001b[39m\u001b[36mrequests\u001b[39m\u001b[39m (\u001b[39m\u001b[39;1m2.32.3\u001b[39;22m\u001b[39m -> \u001b[39m\u001b[32m2.31.0\u001b[39m\u001b[39m)\u001b[39m\n",
            "  \u001b[32;1m-\u001b[39;22m \u001b[39mInstalling \u001b[39m\u001b[36mypy-websocket\u001b[39m\u001b[39m (\u001b[39m\u001b[32m0.8.4\u001b[39m\u001b[39m)\u001b[39m\n",
            "\u001b[4A\u001b[0J  \u001b[32;1m-\u001b[39;22m \u001b[39mDowngrading \u001b[39m\u001b[36mpytz\u001b[39m\u001b[39m (\u001b[39m\u001b[39;1m2025.2\u001b[39;22m\u001b[39m -> \u001b[39m\u001b[32m2024.2\u001b[39m\u001b[39m)\u001b[39m\n",
            "  \u001b[32;1m-\u001b[39;22m \u001b[39mDowngrading \u001b[39m\u001b[36mrequests\u001b[39m\u001b[39m (\u001b[39m\u001b[39;1m2.32.3\u001b[39;22m\u001b[39m -> \u001b[39m\u001b[32m2.31.0\u001b[39m\u001b[39m)\u001b[39m\n",
            "  \u001b[32;1m-\u001b[39;22m \u001b[39mInstalling \u001b[39m\u001b[36mypy-websocket\u001b[39m\u001b[39m (\u001b[39m\u001b[32m0.8.4\u001b[39m\u001b[39m)\u001b[39m\n",
            "\u001b[3A\u001b[0J  \u001b[32;1m-\u001b[39;22m \u001b[39mUpdating \u001b[39m\u001b[36mnumpy\u001b[39m\u001b[39m (\u001b[39m\u001b[39;1m1.25.0\u001b[39;22m\u001b[39m -> \u001b[39m\u001b[32m1.26.4\u001b[39m\u001b[39m)\u001b[39m\n",
            "  \u001b[32;1m-\u001b[39;22m \u001b[39mDowngrading \u001b[39m\u001b[36mpytz\u001b[39m\u001b[39m (\u001b[39m\u001b[39;1m2025.2\u001b[39;22m\u001b[39m -> \u001b[39m\u001b[32m2024.2\u001b[39m\u001b[39m)\u001b[39m\n",
            "  \u001b[32;1m-\u001b[39;22m \u001b[39mDowngrading \u001b[39m\u001b[36mrequests\u001b[39m\u001b[39m (\u001b[39m\u001b[39;1m2.32.3\u001b[39;22m\u001b[39m -> \u001b[39m\u001b[32m2.31.0\u001b[39m\u001b[39m)\u001b[39m\n",
            "  \u001b[32;1m-\u001b[39;22m \u001b[39mInstalling \u001b[39m\u001b[36mypy-websocket\u001b[39m\u001b[39m (\u001b[39m\u001b[32m0.8.4\u001b[39m\u001b[39m)\u001b[39m\n",
            "\u001b[9A\u001b[0J  \u001b[32;1m-\u001b[39;22m \u001b[39mInstalling \u001b[39m\u001b[36mjson5\u001b[39m\u001b[39m (\u001b[39m\u001b[32m0.9.16\u001b[39m\u001b[39m)\u001b[39m\n",
            "  \u001b[32;1m-\u001b[39;22m \u001b[39mInstalling \u001b[39m\u001b[36mjupyter-server-fileid\u001b[39m\u001b[39m (\u001b[39m\u001b[32m0.9.3\u001b[39m\u001b[39m)\u001b[39m\n",
            "  \u001b[32;1m-\u001b[39;22m \u001b[39mInstalling \u001b[39m\u001b[36mjupyter-ydoc\u001b[39m\u001b[39m (\u001b[39m\u001b[32m0.2.5\u001b[39m\u001b[39m)\u001b[39m\n",
            "  \u001b[34;1m-\u001b[39;22m \u001b[39mDowngrading \u001b[39m\u001b[36mnbclassic\u001b[39m\u001b[39m (\u001b[39m\u001b[39;1m1.3.0\u001b[39;22m\u001b[39m -> \u001b[39m\u001b[39;1m1.1.0\u001b[39;22m\u001b[39m)\u001b[39m: \u001b[34mInstalling...\u001b[39m\n",
            "  \u001b[32;1m-\u001b[39;22m \u001b[39mUpdating \u001b[39m\u001b[36mnumpy\u001b[39m\u001b[39m (\u001b[39m\u001b[39;1m1.25.0\u001b[39;22m\u001b[39m -> \u001b[39m\u001b[32m1.26.4\u001b[39m\u001b[39m)\u001b[39m\n",
            "  \u001b[32;1m-\u001b[39;22m \u001b[39mDowngrading \u001b[39m\u001b[36mpytz\u001b[39m\u001b[39m (\u001b[39m\u001b[39;1m2025.2\u001b[39;22m\u001b[39m -> \u001b[39m\u001b[32m2024.2\u001b[39m\u001b[39m)\u001b[39m\n",
            "  \u001b[32;1m-\u001b[39;22m \u001b[39mDowngrading \u001b[39m\u001b[36mrequests\u001b[39m\u001b[39m (\u001b[39m\u001b[39;1m2.32.3\u001b[39;22m\u001b[39m -> \u001b[39m\u001b[32m2.31.0\u001b[39m\u001b[39m)\u001b[39m\n",
            "  \u001b[32;1m-\u001b[39;22m \u001b[39mInstalling \u001b[39m\u001b[36mypy-websocket\u001b[39m\u001b[39m (\u001b[39m\u001b[32m0.8.4\u001b[39m\u001b[39m)\u001b[39m\n",
            "\u001b[8A\u001b[0J  \u001b[32;1m-\u001b[39;22m \u001b[39mDowngrading \u001b[39m\u001b[36mbabel\u001b[39m\u001b[39m (\u001b[39m\u001b[39;1m2.17.0\u001b[39;22m\u001b[39m -> \u001b[39m\u001b[32m2.14.0\u001b[39m\u001b[39m)\u001b[39m\n",
            "  \u001b[32;1m-\u001b[39;22m \u001b[39mInstalling \u001b[39m\u001b[36mjson5\u001b[39m\u001b[39m (\u001b[39m\u001b[32m0.9.16\u001b[39m\u001b[39m)\u001b[39m\n",
            "  \u001b[32;1m-\u001b[39;22m \u001b[39mInstalling \u001b[39m\u001b[36mjupyter-server-fileid\u001b[39m\u001b[39m (\u001b[39m\u001b[32m0.9.3\u001b[39m\u001b[39m)\u001b[39m\n",
            "  \u001b[32;1m-\u001b[39;22m \u001b[39mInstalling \u001b[39m\u001b[36mjupyter-ydoc\u001b[39m\u001b[39m (\u001b[39m\u001b[32m0.2.5\u001b[39m\u001b[39m)\u001b[39m\n",
            "  \u001b[34;1m-\u001b[39;22m \u001b[39mDowngrading \u001b[39m\u001b[36mnbclassic\u001b[39m\u001b[39m (\u001b[39m\u001b[39;1m1.3.0\u001b[39;22m\u001b[39m -> \u001b[39m\u001b[39;1m1.1.0\u001b[39;22m\u001b[39m)\u001b[39m: \u001b[34mInstalling...\u001b[39m\n",
            "  \u001b[32;1m-\u001b[39;22m \u001b[39mUpdating \u001b[39m\u001b[36mnumpy\u001b[39m\u001b[39m (\u001b[39m\u001b[39;1m1.25.0\u001b[39;22m\u001b[39m -> \u001b[39m\u001b[32m1.26.4\u001b[39m\u001b[39m)\u001b[39m\n",
            "  \u001b[32;1m-\u001b[39;22m \u001b[39mDowngrading \u001b[39m\u001b[36mpytz\u001b[39m\u001b[39m (\u001b[39m\u001b[39;1m2025.2\u001b[39;22m\u001b[39m -> \u001b[39m\u001b[32m2024.2\u001b[39m\u001b[39m)\u001b[39m\n",
            "  \u001b[32;1m-\u001b[39;22m \u001b[39mDowngrading \u001b[39m\u001b[36mrequests\u001b[39m\u001b[39m (\u001b[39m\u001b[39;1m2.32.3\u001b[39;22m\u001b[39m -> \u001b[39m\u001b[32m2.31.0\u001b[39m\u001b[39m)\u001b[39m\n",
            "  \u001b[32;1m-\u001b[39;22m \u001b[39mInstalling \u001b[39m\u001b[36mypy-websocket\u001b[39m\u001b[39m (\u001b[39m\u001b[32m0.8.4\u001b[39m\u001b[39m)\u001b[39m\n",
            "\u001b[5A\u001b[0J  \u001b[32;1m-\u001b[39;22m \u001b[39mUpdating \u001b[39m\u001b[36mnumpy\u001b[39m\u001b[39m (\u001b[39m\u001b[39;1m1.25.0\u001b[39;22m\u001b[39m -> \u001b[39m\u001b[32m1.26.4\u001b[39m\u001b[39m)\u001b[39m\n",
            "  \u001b[32;1m-\u001b[39;22m \u001b[39mDowngrading \u001b[39m\u001b[36mpytz\u001b[39m\u001b[39m (\u001b[39m\u001b[39;1m2025.2\u001b[39;22m\u001b[39m -> \u001b[39m\u001b[32m2024.2\u001b[39m\u001b[39m)\u001b[39m\n",
            "  \u001b[32;1m-\u001b[39;22m \u001b[39mDowngrading \u001b[39m\u001b[36mrequests\u001b[39m\u001b[39m (\u001b[39m\u001b[39;1m2.32.3\u001b[39;22m\u001b[39m -> \u001b[39m\u001b[32m2.31.0\u001b[39m\u001b[39m)\u001b[39m\n",
            "  \u001b[32;1m-\u001b[39;22m \u001b[39mInstalling \u001b[39m\u001b[36mypy-websocket\u001b[39m\u001b[39m (\u001b[39m\u001b[32m0.8.4\u001b[39m\u001b[39m)\u001b[39m\n",
            "\u001b[4A\u001b[0J  \u001b[32;1m-\u001b[39;22m \u001b[39mDowngrading \u001b[39m\u001b[36mnbclassic\u001b[39m\u001b[39m (\u001b[39m\u001b[39;1m1.3.0\u001b[39;22m\u001b[39m -> \u001b[39m\u001b[32m1.1.0\u001b[39m\u001b[39m)\u001b[39m\n",
            "  \u001b[32;1m-\u001b[39;22m \u001b[39mUpdating \u001b[39m\u001b[36mnumpy\u001b[39m\u001b[39m (\u001b[39m\u001b[39;1m1.25.0\u001b[39;22m\u001b[39m -> \u001b[39m\u001b[32m1.26.4\u001b[39m\u001b[39m)\u001b[39m\n",
            "  \u001b[32;1m-\u001b[39;22m \u001b[39mDowngrading \u001b[39m\u001b[36mpytz\u001b[39m\u001b[39m (\u001b[39m\u001b[39;1m2025.2\u001b[39;22m\u001b[39m -> \u001b[39m\u001b[32m2024.2\u001b[39m\u001b[39m)\u001b[39m\n",
            "  \u001b[32;1m-\u001b[39;22m \u001b[39mDowngrading \u001b[39m\u001b[36mrequests\u001b[39m\u001b[39m (\u001b[39m\u001b[39;1m2.32.3\u001b[39;22m\u001b[39m -> \u001b[39m\u001b[32m2.31.0\u001b[39m\u001b[39m)\u001b[39m\n",
            "  \u001b[32;1m-\u001b[39;22m \u001b[39mInstalling \u001b[39m\u001b[36mypy-websocket\u001b[39m\u001b[39m (\u001b[39m\u001b[32m0.8.4\u001b[39m\u001b[39m)\u001b[39m\n",
            "  \u001b[34;1m-\u001b[39;22m \u001b[39mInstalling \u001b[39m\u001b[36mcomm\u001b[39m\u001b[39m (\u001b[39m\u001b[39;1m0.1.4\u001b[39;22m\u001b[39m)\u001b[39m: \u001b[34mPending...\u001b[39m\n",
            "  \u001b[34;1m-\u001b[39;22m \u001b[39mDowngrading \u001b[39m\u001b[36mcontourpy\u001b[39m\u001b[39m (\u001b[39m\u001b[39;1m1.3.2\u001b[39;22m\u001b[39m -> \u001b[39m\u001b[39;1m1.3.1\u001b[39;22m\u001b[39m)\u001b[39m: \u001b[34mPending...\u001b[39m\n",
            "  \u001b[34;1m-\u001b[39;22m \u001b[39mDowngrading \u001b[39m\u001b[36mcycler\u001b[39m\u001b[39m (\u001b[39m\u001b[39;1m0.12.1\u001b[39;22m\u001b[39m -> \u001b[39m\u001b[39;1m0.11.0\u001b[39;22m\u001b[39m)\u001b[39m: \u001b[34mPending...\u001b[39m\n",
            "  \u001b[34;1m-\u001b[39;22m \u001b[39mDowngrading \u001b[39m\u001b[36mfonttools\u001b[39m\u001b[39m (\u001b[39m\u001b[39;1m4.57.0\u001b[39;22m\u001b[39m -> \u001b[39m\u001b[39;1m4.38.0\u001b[39;22m\u001b[39m)\u001b[39m: \u001b[34mPending...\u001b[39m\n",
            "  \u001b[34;1m-\u001b[39;22m \u001b[39mInstalling \u001b[39m\u001b[36mjupyter-server-ydoc\u001b[39m\u001b[39m (\u001b[39m\u001b[39;1m0.8.0\u001b[39;22m\u001b[39m)\u001b[39m: \u001b[34mPending...\u001b[39m\n",
            "  \u001b[34;1m-\u001b[39;22m \u001b[39mInstalling \u001b[39m\u001b[36mjupyterlab-server\u001b[39m\u001b[39m (\u001b[39m\u001b[39;1m2.24.0\u001b[39;22m\u001b[39m)\u001b[39m: \u001b[34mPending...\u001b[39m\n",
            "\u001b[4A\u001b[0J  \u001b[34;1m-\u001b[39;22m \u001b[39mDowngrading \u001b[39m\u001b[36mfonttools\u001b[39m\u001b[39m (\u001b[39m\u001b[39;1m4.57.0\u001b[39;22m\u001b[39m -> \u001b[39m\u001b[39;1m4.38.0\u001b[39;22m\u001b[39m)\u001b[39m: \u001b[34mPending...\u001b[39m\n",
            "  \u001b[34;1m-\u001b[39;22m \u001b[39mInstalling \u001b[39m\u001b[36mjupyter-server-ydoc\u001b[39m\u001b[39m (\u001b[39m\u001b[39;1m0.8.0\u001b[39;22m\u001b[39m)\u001b[39m: \u001b[34mPending...\u001b[39m\n",
            "  \u001b[34;1m-\u001b[39;22m \u001b[39mInstalling \u001b[39m\u001b[36mjupyterlab-server\u001b[39m\u001b[39m (\u001b[39m\u001b[39;1m2.24.0\u001b[39;22m\u001b[39m)\u001b[39m: \u001b[34mPending...\u001b[39m\n",
            "\u001b[3A\u001b[0J  \u001b[34;1m-\u001b[39;22m \u001b[39mDowngrading \u001b[39m\u001b[36mcycler\u001b[39m\u001b[39m (\u001b[39m\u001b[39;1m0.12.1\u001b[39;22m\u001b[39m -> \u001b[39m\u001b[39;1m0.11.0\u001b[39;22m\u001b[39m)\u001b[39m: \u001b[34mDownloading...\u001b[39m \u001b[39;1m0%\u001b[39;22m\n",
            "  \u001b[34;1m-\u001b[39;22m \u001b[39mDowngrading \u001b[39m\u001b[36mfonttools\u001b[39m\u001b[39m (\u001b[39m\u001b[39;1m4.57.0\u001b[39;22m\u001b[39m -> \u001b[39m\u001b[39;1m4.38.0\u001b[39;22m\u001b[39m)\u001b[39m: \u001b[34mPending...\u001b[39m\n",
            "  \u001b[34;1m-\u001b[39;22m \u001b[39mInstalling \u001b[39m\u001b[36mjupyter-server-ydoc\u001b[39m\u001b[39m (\u001b[39m\u001b[39;1m0.8.0\u001b[39;22m\u001b[39m)\u001b[39m: \u001b[34mPending...\u001b[39m\n",
            "  \u001b[34;1m-\u001b[39;22m \u001b[39mInstalling \u001b[39m\u001b[36mjupyterlab-server\u001b[39m\u001b[39m (\u001b[39m\u001b[39;1m2.24.0\u001b[39;22m\u001b[39m)\u001b[39m: \u001b[34mPending...\u001b[39m\n",
            "\u001b[2A\u001b[0J  \u001b[34;1m-\u001b[39;22m \u001b[39mInstalling \u001b[39m\u001b[36mjupyterlab-server\u001b[39m\u001b[39m (\u001b[39m\u001b[39;1m2.24.0\u001b[39;22m\u001b[39m)\u001b[39m: \u001b[34mPending...\u001b[39m\n",
            "\u001b[1A\u001b[0J  \u001b[34;1m-\u001b[39;22m \u001b[39mInstalling \u001b[39m\u001b[36mjupyter-server-ydoc\u001b[39m\u001b[39m (\u001b[39m\u001b[39;1m0.8.0\u001b[39;22m\u001b[39m)\u001b[39m: \u001b[34mDownloading...\u001b[39m \u001b[39;1m0%\u001b[39;22m\n",
            "  \u001b[34;1m-\u001b[39;22m \u001b[39mInstalling \u001b[39m\u001b[36mjupyterlab-server\u001b[39m\u001b[39m (\u001b[39m\u001b[39;1m2.24.0\u001b[39;22m\u001b[39m)\u001b[39m: \u001b[34mPending...\u001b[39m\n",
            "\u001b[6A\u001b[0J  \u001b[34;1m-\u001b[39;22m \u001b[39mDowngrading \u001b[39m\u001b[36mcontourpy\u001b[39m\u001b[39m (\u001b[39m\u001b[39;1m1.3.2\u001b[39;22m\u001b[39m -> \u001b[39m\u001b[39;1m1.3.1\u001b[39;22m\u001b[39m)\u001b[39m: \u001b[34mPending...\u001b[39m\n",
            "  \u001b[34;1m-\u001b[39;22m \u001b[39mDowngrading \u001b[39m\u001b[36mcycler\u001b[39m\u001b[39m (\u001b[39m\u001b[39;1m0.12.1\u001b[39;22m\u001b[39m -> \u001b[39m\u001b[39;1m0.11.0\u001b[39;22m\u001b[39m)\u001b[39m: \u001b[34mDownloading...\u001b[39m \u001b[39;1m0%\u001b[39;22m\n",
            "  \u001b[34;1m-\u001b[39;22m \u001b[39mDowngrading \u001b[39m\u001b[36mfonttools\u001b[39m\u001b[39m (\u001b[39m\u001b[39;1m4.57.0\u001b[39;22m\u001b[39m -> \u001b[39m\u001b[39;1m4.38.0\u001b[39;22m\u001b[39m)\u001b[39m: \u001b[34mPending...\u001b[39m\n",
            "  \u001b[34;1m-\u001b[39;22m \u001b[39mInstalling \u001b[39m\u001b[36mjupyter-server-ydoc\u001b[39m\u001b[39m (\u001b[39m\u001b[39;1m0.8.0\u001b[39;22m\u001b[39m)\u001b[39m: \u001b[34mDownloading...\u001b[39m \u001b[39;1m0%\u001b[39;22m\n",
            "  \u001b[34;1m-\u001b[39;22m \u001b[39mInstalling \u001b[39m\u001b[36mjupyterlab-server\u001b[39m\u001b[39m (\u001b[39m\u001b[39;1m2.24.0\u001b[39;22m\u001b[39m)\u001b[39m: \u001b[34mPending...\u001b[39m\n",
            "\u001b[5A\u001b[0J  \u001b[34;1m-\u001b[39;22m \u001b[39mInstalling \u001b[39m\u001b[36mcomm\u001b[39m\u001b[39m (\u001b[39m\u001b[39;1m0.1.4\u001b[39;22m\u001b[39m)\u001b[39m: \u001b[34mDownloading...\u001b[39m \u001b[39;1m0%\u001b[39;22m\n",
            "  \u001b[34;1m-\u001b[39;22m \u001b[39mDowngrading \u001b[39m\u001b[36mcontourpy\u001b[39m\u001b[39m (\u001b[39m\u001b[39;1m1.3.2\u001b[39;22m\u001b[39m -> \u001b[39m\u001b[39;1m1.3.1\u001b[39;22m\u001b[39m)\u001b[39m: \u001b[34mPending...\u001b[39m\n",
            "  \u001b[34;1m-\u001b[39;22m \u001b[39mDowngrading \u001b[39m\u001b[36mcycler\u001b[39m\u001b[39m (\u001b[39m\u001b[39;1m0.12.1\u001b[39;22m\u001b[39m -> \u001b[39m\u001b[39;1m0.11.0\u001b[39;22m\u001b[39m)\u001b[39m: \u001b[34mDownloading...\u001b[39m \u001b[39;1m0%\u001b[39;22m\n",
            "  \u001b[34;1m-\u001b[39;22m \u001b[39mDowngrading \u001b[39m\u001b[36mfonttools\u001b[39m\u001b[39m (\u001b[39m\u001b[39;1m4.57.0\u001b[39;22m\u001b[39m -> \u001b[39m\u001b[39;1m4.38.0\u001b[39;22m\u001b[39m)\u001b[39m: \u001b[34mPending...\u001b[39m\n",
            "  \u001b[34;1m-\u001b[39;22m \u001b[39mInstalling \u001b[39m\u001b[36mjupyter-server-ydoc\u001b[39m\u001b[39m (\u001b[39m\u001b[39;1m0.8.0\u001b[39;22m\u001b[39m)\u001b[39m: \u001b[34mDownloading...\u001b[39m \u001b[39;1m0%\u001b[39;22m\n",
            "  \u001b[34;1m-\u001b[39;22m \u001b[39mInstalling \u001b[39m\u001b[36mjupyterlab-server\u001b[39m\u001b[39m (\u001b[39m\u001b[39;1m2.24.0\u001b[39;22m\u001b[39m)\u001b[39m: \u001b[34mPending...\u001b[39m\n",
            "\u001b[4A\u001b[0J  \u001b[34;1m-\u001b[39;22m \u001b[39mDowngrading \u001b[39m\u001b[36mfonttools\u001b[39m\u001b[39m (\u001b[39m\u001b[39;1m4.57.0\u001b[39;22m\u001b[39m -> \u001b[39m\u001b[39;1m4.38.0\u001b[39;22m\u001b[39m)\u001b[39m: \u001b[34mPending...\u001b[39m\n",
            "  \u001b[34;1m-\u001b[39;22m \u001b[39mInstalling \u001b[39m\u001b[36mjupyter-server-ydoc\u001b[39m\u001b[39m (\u001b[39m\u001b[39;1m0.8.0\u001b[39;22m\u001b[39m)\u001b[39m: \u001b[34mDownloading...\u001b[39m \u001b[39;1m0%\u001b[39;22m\n",
            "  \u001b[34;1m-\u001b[39;22m \u001b[39mInstalling \u001b[39m\u001b[36mjupyterlab-server\u001b[39m\u001b[39m (\u001b[39m\u001b[39;1m2.24.0\u001b[39;22m\u001b[39m)\u001b[39m: \u001b[34mPending...\u001b[39m\n",
            "\u001b[3A\u001b[0J  \u001b[34;1m-\u001b[39;22m \u001b[39mDowngrading \u001b[39m\u001b[36mcycler\u001b[39m\u001b[39m (\u001b[39m\u001b[39;1m0.12.1\u001b[39;22m\u001b[39m -> \u001b[39m\u001b[39;1m0.11.0\u001b[39;22m\u001b[39m)\u001b[39m: \u001b[34mDownloading...\u001b[39m \u001b[39;1m100%\u001b[39;22m\n",
            "  \u001b[34;1m-\u001b[39;22m \u001b[39mDowngrading \u001b[39m\u001b[36mfonttools\u001b[39m\u001b[39m (\u001b[39m\u001b[39;1m4.57.0\u001b[39;22m\u001b[39m -> \u001b[39m\u001b[39;1m4.38.0\u001b[39;22m\u001b[39m)\u001b[39m: \u001b[34mPending...\u001b[39m\n",
            "  \u001b[34;1m-\u001b[39;22m \u001b[39mInstalling \u001b[39m\u001b[36mjupyter-server-ydoc\u001b[39m\u001b[39m (\u001b[39m\u001b[39;1m0.8.0\u001b[39;22m\u001b[39m)\u001b[39m: \u001b[34mDownloading...\u001b[39m \u001b[39;1m0%\u001b[39;22m\n",
            "  \u001b[34;1m-\u001b[39;22m \u001b[39mInstalling \u001b[39m\u001b[36mjupyterlab-server\u001b[39m\u001b[39m (\u001b[39m\u001b[39;1m2.24.0\u001b[39;22m\u001b[39m)\u001b[39m: \u001b[34mPending...\u001b[39m\n",
            "\u001b[2A\u001b[0J  \u001b[34;1m-\u001b[39;22m \u001b[39mInstalling \u001b[39m\u001b[36mjupyterlab-server\u001b[39m\u001b[39m (\u001b[39m\u001b[39;1m2.24.0\u001b[39;22m\u001b[39m)\u001b[39m: \u001b[34mPending...\u001b[39m\n",
            "\u001b[1A\u001b[0J  \u001b[34;1m-\u001b[39;22m \u001b[39mInstalling \u001b[39m\u001b[36mjupyter-server-ydoc\u001b[39m\u001b[39m (\u001b[39m\u001b[39;1m0.8.0\u001b[39;22m\u001b[39m)\u001b[39m: \u001b[34mDownloading...\u001b[39m \u001b[39;1m100%\u001b[39;22m\n",
            "  \u001b[34;1m-\u001b[39;22m \u001b[39mInstalling \u001b[39m\u001b[36mjupyterlab-server\u001b[39m\u001b[39m (\u001b[39m\u001b[39;1m2.24.0\u001b[39;22m\u001b[39m)\u001b[39m: \u001b[34mPending...\u001b[39m\n",
            "\u001b[5A\u001b[0J  \u001b[34;1m-\u001b[39;22m \u001b[39mDowngrading \u001b[39m\u001b[36mcycler\u001b[39m\u001b[39m (\u001b[39m\u001b[39;1m0.12.1\u001b[39;22m\u001b[39m -> \u001b[39m\u001b[39;1m0.11.0\u001b[39;22m\u001b[39m)\u001b[39m: \u001b[34mDownloading...\u001b[39m \u001b[39;1m100%\u001b[39;22m\n",
            "  \u001b[34;1m-\u001b[39;22m \u001b[39mDowngrading \u001b[39m\u001b[36mfonttools\u001b[39m\u001b[39m (\u001b[39m\u001b[39;1m4.57.0\u001b[39;22m\u001b[39m -> \u001b[39m\u001b[39;1m4.38.0\u001b[39;22m\u001b[39m)\u001b[39m: \u001b[34mPending...\u001b[39m\n",
            "  \u001b[34;1m-\u001b[39;22m \u001b[39mInstalling \u001b[39m\u001b[36mjupyter-server-ydoc\u001b[39m\u001b[39m (\u001b[39m\u001b[39;1m0.8.0\u001b[39;22m\u001b[39m)\u001b[39m: \u001b[34mDownloading...\u001b[39m \u001b[39;1m100%\u001b[39;22m\n",
            "  \u001b[34;1m-\u001b[39;22m \u001b[39mInstalling \u001b[39m\u001b[36mjupyterlab-server\u001b[39m\u001b[39m (\u001b[39m\u001b[39;1m2.24.0\u001b[39;22m\u001b[39m)\u001b[39m: \u001b[34mPending...\u001b[39m\n",
            "\u001b[4A\u001b[0J  \u001b[34;1m-\u001b[39;22m \u001b[39mDowngrading \u001b[39m\u001b[36mcontourpy\u001b[39m\u001b[39m (\u001b[39m\u001b[39;1m1.3.2\u001b[39;22m\u001b[39m -> \u001b[39m\u001b[39;1m1.3.1\u001b[39;22m\u001b[39m)\u001b[39m: \u001b[34mDownloading...\u001b[39m \u001b[39;1m0%\u001b[39;22m\n",
            "  \u001b[34;1m-\u001b[39;22m \u001b[39mDowngrading \u001b[39m\u001b[36mcycler\u001b[39m\u001b[39m (\u001b[39m\u001b[39;1m0.12.1\u001b[39;22m\u001b[39m -> \u001b[39m\u001b[39;1m0.11.0\u001b[39;22m\u001b[39m)\u001b[39m: \u001b[34mDownloading...\u001b[39m \u001b[39;1m100%\u001b[39;22m\n",
            "  \u001b[34;1m-\u001b[39;22m \u001b[39mDowngrading \u001b[39m\u001b[36mfonttools\u001b[39m\u001b[39m (\u001b[39m\u001b[39;1m4.57.0\u001b[39;22m\u001b[39m -> \u001b[39m\u001b[39;1m4.38.0\u001b[39;22m\u001b[39m)\u001b[39m: \u001b[34mPending...\u001b[39m\n",
            "  \u001b[34;1m-\u001b[39;22m \u001b[39mInstalling \u001b[39m\u001b[36mjupyter-server-ydoc\u001b[39m\u001b[39m (\u001b[39m\u001b[39;1m0.8.0\u001b[39;22m\u001b[39m)\u001b[39m: \u001b[34mDownloading...\u001b[39m \u001b[39;1m100%\u001b[39;22m\n",
            "  \u001b[34;1m-\u001b[39;22m \u001b[39mInstalling \u001b[39m\u001b[36mjupyterlab-server\u001b[39m\u001b[39m (\u001b[39m\u001b[39;1m2.24.0\u001b[39;22m\u001b[39m)\u001b[39m: \u001b[34mPending...\u001b[39m\n",
            "\u001b[6A\u001b[0J  \u001b[34;1m-\u001b[39;22m \u001b[39mDowngrading \u001b[39m\u001b[36mcontourpy\u001b[39m\u001b[39m (\u001b[39m\u001b[39;1m1.3.2\u001b[39;22m\u001b[39m -> \u001b[39m\u001b[39;1m1.3.1\u001b[39;22m\u001b[39m)\u001b[39m: \u001b[34mDownloading...\u001b[39m \u001b[39;1m0%\u001b[39;22m\n",
            "  \u001b[34;1m-\u001b[39;22m \u001b[39mDowngrading \u001b[39m\u001b[36mcycler\u001b[39m\u001b[39m (\u001b[39m\u001b[39;1m0.12.1\u001b[39;22m\u001b[39m -> \u001b[39m\u001b[39;1m0.11.0\u001b[39;22m\u001b[39m)\u001b[39m: \u001b[34mDownloading...\u001b[39m \u001b[39;1m100%\u001b[39;22m\n",
            "  \u001b[34;1m-\u001b[39;22m \u001b[39mDowngrading \u001b[39m\u001b[36mfonttools\u001b[39m\u001b[39m (\u001b[39m\u001b[39;1m4.57.0\u001b[39;22m\u001b[39m -> \u001b[39m\u001b[39;1m4.38.0\u001b[39;22m\u001b[39m)\u001b[39m: \u001b[34mPending...\u001b[39m\n",
            "  \u001b[34;1m-\u001b[39;22m \u001b[39mInstalling \u001b[39m\u001b[36mjupyter-server-ydoc\u001b[39m\u001b[39m (\u001b[39m\u001b[39;1m0.8.0\u001b[39;22m\u001b[39m)\u001b[39m: \u001b[34mDownloading...\u001b[39m \u001b[39;1m100%\u001b[39;22m\n",
            "  \u001b[34;1m-\u001b[39;22m \u001b[39mInstalling \u001b[39m\u001b[36mjupyterlab-server\u001b[39m\u001b[39m (\u001b[39m\u001b[39;1m2.24.0\u001b[39;22m\u001b[39m)\u001b[39m: \u001b[34mPending...\u001b[39m\n",
            "\u001b[5A\u001b[0J  \u001b[34;1m-\u001b[39;22m \u001b[39mInstalling \u001b[39m\u001b[36mcomm\u001b[39m\u001b[39m (\u001b[39m\u001b[39;1m0.1.4\u001b[39;22m\u001b[39m)\u001b[39m: \u001b[34mDownloading...\u001b[39m \u001b[39;1m100%\u001b[39;22m\n",
            "  \u001b[34;1m-\u001b[39;22m \u001b[39mDowngrading \u001b[39m\u001b[36mcontourpy\u001b[39m\u001b[39m (\u001b[39m\u001b[39;1m1.3.2\u001b[39;22m\u001b[39m -> \u001b[39m\u001b[39;1m1.3.1\u001b[39;22m\u001b[39m)\u001b[39m: \u001b[34mDownloading...\u001b[39m \u001b[39;1m0%\u001b[39;22m\n",
            "  \u001b[34;1m-\u001b[39;22m \u001b[39mDowngrading \u001b[39m\u001b[36mcycler\u001b[39m\u001b[39m (\u001b[39m\u001b[39;1m0.12.1\u001b[39;22m\u001b[39m -> \u001b[39m\u001b[39;1m0.11.0\u001b[39;22m\u001b[39m)\u001b[39m: \u001b[34mDownloading...\u001b[39m \u001b[39;1m100%\u001b[39;22m\n",
            "  \u001b[34;1m-\u001b[39;22m \u001b[39mDowngrading \u001b[39m\u001b[36mfonttools\u001b[39m\u001b[39m (\u001b[39m\u001b[39;1m4.57.0\u001b[39;22m\u001b[39m -> \u001b[39m\u001b[39;1m4.38.0\u001b[39;22m\u001b[39m)\u001b[39m: \u001b[34mPending...\u001b[39m\n",
            "  \u001b[34;1m-\u001b[39;22m \u001b[39mInstalling \u001b[39m\u001b[36mjupyter-server-ydoc\u001b[39m\u001b[39m (\u001b[39m\u001b[39;1m0.8.0\u001b[39;22m\u001b[39m)\u001b[39m: \u001b[34mDownloading...\u001b[39m \u001b[39;1m100%\u001b[39;22m\n",
            "  \u001b[34;1m-\u001b[39;22m \u001b[39mInstalling \u001b[39m\u001b[36mjupyterlab-server\u001b[39m\u001b[39m (\u001b[39m\u001b[39;1m2.24.0\u001b[39;22m\u001b[39m)\u001b[39m: \u001b[34mPending...\u001b[39m\n",
            "\u001b[3A\u001b[0J  \u001b[34;1m-\u001b[39;22m \u001b[39mInstalling \u001b[39m\u001b[36mjupyter-server-ydoc\u001b[39m\u001b[39m (\u001b[39m\u001b[39;1m0.8.0\u001b[39;22m\u001b[39m)\u001b[39m: \u001b[34mDownloading...\u001b[39m \u001b[39;1m100%\u001b[39;22m\n",
            "  \u001b[34;1m-\u001b[39;22m \u001b[39mInstalling \u001b[39m\u001b[36mjupyterlab-server\u001b[39m\u001b[39m (\u001b[39m\u001b[39;1m2.24.0\u001b[39;22m\u001b[39m)\u001b[39m: \u001b[34mPending...\u001b[39m\n",
            "\u001b[2A\u001b[0J  \u001b[34;1m-\u001b[39;22m \u001b[39mDowngrading \u001b[39m\u001b[36mfonttools\u001b[39m\u001b[39m (\u001b[39m\u001b[39;1m4.57.0\u001b[39;22m\u001b[39m -> \u001b[39m\u001b[39;1m4.38.0\u001b[39;22m\u001b[39m)\u001b[39m: \u001b[34mDownloading...\u001b[39m \u001b[39;1m0%\u001b[39;22m\n",
            "  \u001b[34;1m-\u001b[39;22m \u001b[39mInstalling \u001b[39m\u001b[36mjupyter-server-ydoc\u001b[39m\u001b[39m (\u001b[39m\u001b[39;1m0.8.0\u001b[39;22m\u001b[39m)\u001b[39m: \u001b[34mDownloading...\u001b[39m \u001b[39;1m100%\u001b[39;22m\n",
            "  \u001b[34;1m-\u001b[39;22m \u001b[39mInstalling \u001b[39m\u001b[36mjupyterlab-server\u001b[39m\u001b[39m (\u001b[39m\u001b[39;1m2.24.0\u001b[39;22m\u001b[39m)\u001b[39m: \u001b[34mPending...\u001b[39m\n",
            "\u001b[1A\u001b[0J  \u001b[34;1m-\u001b[39;22m \u001b[39mInstalling \u001b[39m\u001b[36mjupyterlab-server\u001b[39m\u001b[39m (\u001b[39m\u001b[39;1m2.24.0\u001b[39;22m\u001b[39m)\u001b[39m: \u001b[34mDownloading...\u001b[39m \u001b[39;1m0%\u001b[39;22m\n",
            "\u001b[4A\u001b[0J  \u001b[34;1m-\u001b[39;22m \u001b[39mDowngrading \u001b[39m\u001b[36mfonttools\u001b[39m\u001b[39m (\u001b[39m\u001b[39;1m4.57.0\u001b[39;22m\u001b[39m -> \u001b[39m\u001b[39;1m4.38.0\u001b[39;22m\u001b[39m)\u001b[39m: \u001b[34mDownloading...\u001b[39m \u001b[39;1m0%\u001b[39;22m\n",
            "  \u001b[34;1m-\u001b[39;22m \u001b[39mInstalling \u001b[39m\u001b[36mjupyter-server-ydoc\u001b[39m\u001b[39m (\u001b[39m\u001b[39;1m0.8.0\u001b[39;22m\u001b[39m)\u001b[39m: \u001b[34mDownloading...\u001b[39m \u001b[39;1m100%\u001b[39;22m\n",
            "  \u001b[34;1m-\u001b[39;22m \u001b[39mInstalling \u001b[39m\u001b[36mjupyterlab-server\u001b[39m\u001b[39m (\u001b[39m\u001b[39;1m2.24.0\u001b[39;22m\u001b[39m)\u001b[39m: \u001b[34mDownloading...\u001b[39m \u001b[39;1m0%\u001b[39;22m\n",
            "\u001b[3A\u001b[0J  \u001b[34;1m-\u001b[39;22m \u001b[39mDowngrading \u001b[39m\u001b[36mcycler\u001b[39m\u001b[39m (\u001b[39m\u001b[39;1m0.12.1\u001b[39;22m\u001b[39m -> \u001b[39m\u001b[39;1m0.11.0\u001b[39;22m\u001b[39m)\u001b[39m: \u001b[34mInstalling...\u001b[39m\n",
            "  \u001b[34;1m-\u001b[39;22m \u001b[39mDowngrading \u001b[39m\u001b[36mfonttools\u001b[39m\u001b[39m (\u001b[39m\u001b[39;1m4.57.0\u001b[39;22m\u001b[39m -> \u001b[39m\u001b[39;1m4.38.0\u001b[39;22m\u001b[39m)\u001b[39m: \u001b[34mDownloading...\u001b[39m \u001b[39;1m0%\u001b[39;22m\n",
            "  \u001b[34;1m-\u001b[39;22m \u001b[39mInstalling \u001b[39m\u001b[36mjupyter-server-ydoc\u001b[39m\u001b[39m (\u001b[39m\u001b[39;1m0.8.0\u001b[39;22m\u001b[39m)\u001b[39m: \u001b[34mDownloading...\u001b[39m \u001b[39;1m100%\u001b[39;22m\n",
            "  \u001b[34;1m-\u001b[39;22m \u001b[39mInstalling \u001b[39m\u001b[36mjupyterlab-server\u001b[39m\u001b[39m (\u001b[39m\u001b[39;1m2.24.0\u001b[39;22m\u001b[39m)\u001b[39m: \u001b[34mDownloading...\u001b[39m \u001b[39;1m0%\u001b[39;22m\n",
            "\u001b[2A\u001b[0J  \u001b[34;1m-\u001b[39;22m \u001b[39mInstalling \u001b[39m\u001b[36mjupyterlab-server\u001b[39m\u001b[39m (\u001b[39m\u001b[39;1m2.24.0\u001b[39;22m\u001b[39m)\u001b[39m: \u001b[34mDownloading...\u001b[39m \u001b[39;1m0%\u001b[39;22m\n",
            "\u001b[1A\u001b[0J  \u001b[34;1m-\u001b[39;22m \u001b[39mInstalling \u001b[39m\u001b[36mjupyter-server-ydoc\u001b[39m\u001b[39m (\u001b[39m\u001b[39;1m0.8.0\u001b[39;22m\u001b[39m)\u001b[39m: \u001b[34mInstalling...\u001b[39m\n",
            "  \u001b[34;1m-\u001b[39;22m \u001b[39mInstalling \u001b[39m\u001b[36mjupyterlab-server\u001b[39m\u001b[39m (\u001b[39m\u001b[39;1m2.24.0\u001b[39;22m\u001b[39m)\u001b[39m: \u001b[34mDownloading...\u001b[39m \u001b[39;1m0%\u001b[39;22m\n",
            "\u001b[6A\u001b[0J  \u001b[34;1m-\u001b[39;22m \u001b[39mDowngrading \u001b[39m\u001b[36mcontourpy\u001b[39m\u001b[39m (\u001b[39m\u001b[39;1m1.3.2\u001b[39;22m\u001b[39m -> \u001b[39m\u001b[39;1m1.3.1\u001b[39;22m\u001b[39m)\u001b[39m: \u001b[34mDownloading...\u001b[39m \u001b[39;1m0%\u001b[39;22m\n",
            "  \u001b[34;1m-\u001b[39;22m \u001b[39mDowngrading \u001b[39m\u001b[36mcycler\u001b[39m\u001b[39m (\u001b[39m\u001b[39;1m0.12.1\u001b[39;22m\u001b[39m -> \u001b[39m\u001b[39;1m0.11.0\u001b[39;22m\u001b[39m)\u001b[39m: \u001b[34mInstalling...\u001b[39m\n",
            "  \u001b[34;1m-\u001b[39;22m \u001b[39mDowngrading \u001b[39m\u001b[36mfonttools\u001b[39m\u001b[39m (\u001b[39m\u001b[39;1m4.57.0\u001b[39;22m\u001b[39m -> \u001b[39m\u001b[39;1m4.38.0\u001b[39;22m\u001b[39m)\u001b[39m: \u001b[34mDownloading...\u001b[39m \u001b[39;1m0%\u001b[39;22m\n",
            "  \u001b[34;1m-\u001b[39;22m \u001b[39mInstalling \u001b[39m\u001b[36mjupyter-server-ydoc\u001b[39m\u001b[39m (\u001b[39m\u001b[39;1m0.8.0\u001b[39;22m\u001b[39m)\u001b[39m: \u001b[34mInstalling...\u001b[39m\n",
            "  \u001b[34;1m-\u001b[39;22m \u001b[39mInstalling \u001b[39m\u001b[36mjupyterlab-server\u001b[39m\u001b[39m (\u001b[39m\u001b[39;1m2.24.0\u001b[39;22m\u001b[39m)\u001b[39m: \u001b[34mDownloading...\u001b[39m \u001b[39;1m0%\u001b[39;22m\n",
            "\u001b[5A\u001b[0J  \u001b[34;1m-\u001b[39;22m \u001b[39mInstalling \u001b[39m\u001b[36mcomm\u001b[39m\u001b[39m (\u001b[39m\u001b[39;1m0.1.4\u001b[39;22m\u001b[39m)\u001b[39m: \u001b[34mInstalling...\u001b[39m\n",
            "  \u001b[34;1m-\u001b[39;22m \u001b[39mDowngrading \u001b[39m\u001b[36mcontourpy\u001b[39m\u001b[39m (\u001b[39m\u001b[39;1m1.3.2\u001b[39;22m\u001b[39m -> \u001b[39m\u001b[39;1m1.3.1\u001b[39;22m\u001b[39m)\u001b[39m: \u001b[34mDownloading...\u001b[39m \u001b[39;1m0%\u001b[39;22m\n",
            "  \u001b[34;1m-\u001b[39;22m \u001b[39mDowngrading \u001b[39m\u001b[36mcycler\u001b[39m\u001b[39m (\u001b[39m\u001b[39;1m0.12.1\u001b[39;22m\u001b[39m -> \u001b[39m\u001b[39;1m0.11.0\u001b[39;22m\u001b[39m)\u001b[39m: \u001b[34mInstalling...\u001b[39m\n",
            "  \u001b[34;1m-\u001b[39;22m \u001b[39mDowngrading \u001b[39m\u001b[36mfonttools\u001b[39m\u001b[39m (\u001b[39m\u001b[39;1m4.57.0\u001b[39;22m\u001b[39m -> \u001b[39m\u001b[39;1m4.38.0\u001b[39;22m\u001b[39m)\u001b[39m: \u001b[34mDownloading...\u001b[39m \u001b[39;1m0%\u001b[39;22m\n",
            "  \u001b[34;1m-\u001b[39;22m \u001b[39mInstalling \u001b[39m\u001b[36mjupyter-server-ydoc\u001b[39m\u001b[39m (\u001b[39m\u001b[39;1m0.8.0\u001b[39;22m\u001b[39m)\u001b[39m: \u001b[34mInstalling...\u001b[39m\n",
            "  \u001b[34;1m-\u001b[39;22m \u001b[39mInstalling \u001b[39m\u001b[36mjupyterlab-server\u001b[39m\u001b[39m (\u001b[39m\u001b[39;1m2.24.0\u001b[39;22m\u001b[39m)\u001b[39m: \u001b[34mDownloading...\u001b[39m \u001b[39;1m0%\u001b[39;22m\n",
            "\u001b[6A\u001b[0J  \u001b[34;1m-\u001b[39;22m \u001b[39mDowngrading \u001b[39m\u001b[36mcontourpy\u001b[39m\u001b[39m (\u001b[39m\u001b[39;1m1.3.2\u001b[39;22m\u001b[39m -> \u001b[39m\u001b[39;1m1.3.1\u001b[39;22m\u001b[39m)\u001b[39m: \u001b[34mDownloading...\u001b[39m \u001b[39;1m0%\u001b[39;22m\n",
            "  \u001b[34;1m-\u001b[39;22m \u001b[39mDowngrading \u001b[39m\u001b[36mcycler\u001b[39m\u001b[39m (\u001b[39m\u001b[39;1m0.12.1\u001b[39;22m\u001b[39m -> \u001b[39m\u001b[39;1m0.11.0\u001b[39;22m\u001b[39m)\u001b[39m: \u001b[34mInstalling...\u001b[39m\n",
            "  \u001b[34;1m-\u001b[39;22m \u001b[39mDowngrading \u001b[39m\u001b[36mfonttools\u001b[39m\u001b[39m (\u001b[39m\u001b[39;1m4.57.0\u001b[39;22m\u001b[39m -> \u001b[39m\u001b[39;1m4.38.0\u001b[39;22m\u001b[39m)\u001b[39m: \u001b[34mDownloading...\u001b[39m \u001b[39;1m0%\u001b[39;22m\n",
            "  \u001b[34;1m-\u001b[39;22m \u001b[39mInstalling \u001b[39m\u001b[36mjupyter-server-ydoc\u001b[39m\u001b[39m (\u001b[39m\u001b[39;1m0.8.0\u001b[39;22m\u001b[39m)\u001b[39m: \u001b[34mInstalling...\u001b[39m\n",
            "  \u001b[34;1m-\u001b[39;22m \u001b[39mInstalling \u001b[39m\u001b[36mjupyterlab-server\u001b[39m\u001b[39m (\u001b[39m\u001b[39;1m2.24.0\u001b[39;22m\u001b[39m)\u001b[39m: \u001b[34mDownloading...\u001b[39m \u001b[39;1m0%\u001b[39;22m\n",
            "\u001b[5A\u001b[0J  \u001b[32;1m-\u001b[39;22m \u001b[39mInstalling \u001b[39m\u001b[36mcomm\u001b[39m\u001b[39m (\u001b[39m\u001b[32m0.1.4\u001b[39m\u001b[39m)\u001b[39m\n",
            "  \u001b[34;1m-\u001b[39;22m \u001b[39mDowngrading \u001b[39m\u001b[36mcontourpy\u001b[39m\u001b[39m (\u001b[39m\u001b[39;1m1.3.2\u001b[39;22m\u001b[39m -> \u001b[39m\u001b[39;1m1.3.1\u001b[39;22m\u001b[39m)\u001b[39m: \u001b[34mDownloading...\u001b[39m \u001b[39;1m0%\u001b[39;22m\n",
            "  \u001b[34;1m-\u001b[39;22m \u001b[39mDowngrading \u001b[39m\u001b[36mcycler\u001b[39m\u001b[39m (\u001b[39m\u001b[39;1m0.12.1\u001b[39;22m\u001b[39m -> \u001b[39m\u001b[39;1m0.11.0\u001b[39;22m\u001b[39m)\u001b[39m: \u001b[34mInstalling...\u001b[39m\n",
            "  \u001b[34;1m-\u001b[39;22m \u001b[39mDowngrading \u001b[39m\u001b[36mfonttools\u001b[39m\u001b[39m (\u001b[39m\u001b[39;1m4.57.0\u001b[39;22m\u001b[39m -> \u001b[39m\u001b[39;1m4.38.0\u001b[39;22m\u001b[39m)\u001b[39m: \u001b[34mDownloading...\u001b[39m \u001b[39;1m0%\u001b[39;22m\n",
            "  \u001b[34;1m-\u001b[39;22m \u001b[39mInstalling \u001b[39m\u001b[36mjupyter-server-ydoc\u001b[39m\u001b[39m (\u001b[39m\u001b[39;1m0.8.0\u001b[39;22m\u001b[39m)\u001b[39m: \u001b[34mInstalling...\u001b[39m\n",
            "  \u001b[34;1m-\u001b[39;22m \u001b[39mInstalling \u001b[39m\u001b[36mjupyterlab-server\u001b[39m\u001b[39m (\u001b[39m\u001b[39;1m2.24.0\u001b[39;22m\u001b[39m)\u001b[39m: \u001b[34mDownloading...\u001b[39m \u001b[39;1m0%\u001b[39;22m\n",
            "  \u001b[34;1m-\u001b[39;22m \u001b[39mDowngrading \u001b[39m\u001b[36mjupyterlab-widgets\u001b[39m\u001b[39m (\u001b[39m\u001b[39;1m3.0.14\u001b[39;22m\u001b[39m -> \u001b[39m\u001b[39;1m3.0.13\u001b[39;22m\u001b[39m)\u001b[39m: \u001b[34mPending...\u001b[39m\n",
            "\u001b[2A\u001b[0J  \u001b[34;1m-\u001b[39;22m \u001b[39mDowngrading \u001b[39m\u001b[36mjupyterlab-widgets\u001b[39m\u001b[39m (\u001b[39m\u001b[39;1m3.0.14\u001b[39;22m\u001b[39m -> \u001b[39m\u001b[39;1m3.0.13\u001b[39;22m\u001b[39m)\u001b[39m: \u001b[34mPending...\u001b[39m\n",
            "\u001b[1A\u001b[0J  \u001b[34;1m-\u001b[39;22m \u001b[39mInstalling \u001b[39m\u001b[36mjupyterlab-server\u001b[39m\u001b[39m (\u001b[39m\u001b[39;1m2.24.0\u001b[39;22m\u001b[39m)\u001b[39m: \u001b[34mDownloading...\u001b[39m \u001b[39;1m100%\u001b[39;22m\n",
            "  \u001b[34;1m-\u001b[39;22m \u001b[39mDowngrading \u001b[39m\u001b[36mjupyterlab-widgets\u001b[39m\u001b[39m (\u001b[39m\u001b[39;1m3.0.14\u001b[39;22m\u001b[39m -> \u001b[39m\u001b[39;1m3.0.13\u001b[39;22m\u001b[39m)\u001b[39m: \u001b[34mPending...\u001b[39m\n",
            "\u001b[2A\u001b[0J  \u001b[34;1m-\u001b[39;22m \u001b[39mDowngrading \u001b[39m\u001b[36mjupyterlab-widgets\u001b[39m\u001b[39m (\u001b[39m\u001b[39;1m3.0.14\u001b[39;22m\u001b[39m -> \u001b[39m\u001b[39;1m3.0.13\u001b[39;22m\u001b[39m)\u001b[39m: \u001b[34mPending...\u001b[39m\n",
            "\u001b[1A\u001b[0J  \u001b[34;1m-\u001b[39;22m \u001b[39mInstalling \u001b[39m\u001b[36mjupyterlab-server\u001b[39m\u001b[39m (\u001b[39m\u001b[39;1m2.24.0\u001b[39;22m\u001b[39m)\u001b[39m: \u001b[34mInstalling...\u001b[39m\n",
            "  \u001b[34;1m-\u001b[39;22m \u001b[39mDowngrading \u001b[39m\u001b[36mjupyterlab-widgets\u001b[39m\u001b[39m (\u001b[39m\u001b[39;1m3.0.14\u001b[39;22m\u001b[39m -> \u001b[39m\u001b[39;1m3.0.13\u001b[39;22m\u001b[39m)\u001b[39m: \u001b[34mPending...\u001b[39m\n",
            "\u001b[1A\u001b[0J  \u001b[34;1m-\u001b[39;22m \u001b[39mDowngrading \u001b[39m\u001b[36mjupyterlab-widgets\u001b[39m\u001b[39m (\u001b[39m\u001b[39;1m3.0.14\u001b[39;22m\u001b[39m -> \u001b[39m\u001b[39;1m3.0.13\u001b[39;22m\u001b[39m)\u001b[39m: \u001b[34mDownloading...\u001b[39m \u001b[39;1m0%\u001b[39;22m\n",
            "\u001b[3A\u001b[0J  \u001b[34;1m-\u001b[39;22m \u001b[39mInstalling \u001b[39m\u001b[36mjupyterlab-server\u001b[39m\u001b[39m (\u001b[39m\u001b[39;1m2.24.0\u001b[39;22m\u001b[39m)\u001b[39m: \u001b[34mInstalling...\u001b[39m\n",
            "  \u001b[34;1m-\u001b[39;22m \u001b[39mDowngrading \u001b[39m\u001b[36mjupyterlab-widgets\u001b[39m\u001b[39m (\u001b[39m\u001b[39;1m3.0.14\u001b[39;22m\u001b[39m -> \u001b[39m\u001b[39;1m3.0.13\u001b[39;22m\u001b[39m)\u001b[39m: \u001b[34mDownloading...\u001b[39m \u001b[39;1m0%\u001b[39;22m\n",
            "\u001b[2A\u001b[0J  \u001b[32;1m-\u001b[39;22m \u001b[39mInstalling \u001b[39m\u001b[36mjupyter-server-ydoc\u001b[39m\u001b[39m (\u001b[39m\u001b[32m0.8.0\u001b[39m\u001b[39m)\u001b[39m\n",
            "  \u001b[34;1m-\u001b[39;22m \u001b[39mInstalling \u001b[39m\u001b[36mjupyterlab-server\u001b[39m\u001b[39m (\u001b[39m\u001b[39;1m2.24.0\u001b[39;22m\u001b[39m)\u001b[39m: \u001b[34mInstalling...\u001b[39m\n",
            "  \u001b[34;1m-\u001b[39;22m \u001b[39mDowngrading \u001b[39m\u001b[36mjupyterlab-widgets\u001b[39m\u001b[39m (\u001b[39m\u001b[39;1m3.0.14\u001b[39;22m\u001b[39m -> \u001b[39m\u001b[39;1m3.0.13\u001b[39;22m\u001b[39m)\u001b[39m: \u001b[34mDownloading...\u001b[39m \u001b[39;1m0%\u001b[39;22m\n",
            "  \u001b[34;1m-\u001b[39;22m \u001b[39mDowngrading \u001b[39m\u001b[36mkiwisolver\u001b[39m\u001b[39m (\u001b[39m\u001b[39;1m1.4.8\u001b[39;22m\u001b[39m -> \u001b[39m\u001b[39;1m1.4.5\u001b[39;22m\u001b[39m)\u001b[39m: \u001b[34mPending...\u001b[39m\n",
            "\u001b[2A\u001b[0J  \u001b[34;1m-\u001b[39;22m \u001b[39mDowngrading \u001b[39m\u001b[36mkiwisolver\u001b[39m\u001b[39m (\u001b[39m\u001b[39;1m1.4.8\u001b[39;22m\u001b[39m -> \u001b[39m\u001b[39;1m1.4.5\u001b[39;22m\u001b[39m)\u001b[39m: \u001b[34mPending...\u001b[39m\n",
            "\u001b[1A\u001b[0J  \u001b[34;1m-\u001b[39;22m \u001b[39mDowngrading \u001b[39m\u001b[36mjupyterlab-widgets\u001b[39m\u001b[39m (\u001b[39m\u001b[39;1m3.0.14\u001b[39;22m\u001b[39m -> \u001b[39m\u001b[39;1m3.0.13\u001b[39;22m\u001b[39m)\u001b[39m: \u001b[34mDownloading...\u001b[39m \u001b[39;1m100%\u001b[39;22m\n",
            "  \u001b[34;1m-\u001b[39;22m \u001b[39mDowngrading \u001b[39m\u001b[36mkiwisolver\u001b[39m\u001b[39m (\u001b[39m\u001b[39;1m1.4.8\u001b[39;22m\u001b[39m -> \u001b[39m\u001b[39;1m1.4.5\u001b[39;22m\u001b[39m)\u001b[39m: \u001b[34mPending...\u001b[39m\n",
            "\u001b[7A\u001b[0J  \u001b[34;1m-\u001b[39;22m \u001b[39mDowngrading \u001b[39m\u001b[36mcycler\u001b[39m\u001b[39m (\u001b[39m\u001b[39;1m0.12.1\u001b[39;22m\u001b[39m -> \u001b[39m\u001b[39;1m0.11.0\u001b[39;22m\u001b[39m)\u001b[39m: \u001b[34mInstalling...\u001b[39m\n",
            "  \u001b[34;1m-\u001b[39;22m \u001b[39mDowngrading \u001b[39m\u001b[36mfonttools\u001b[39m\u001b[39m (\u001b[39m\u001b[39;1m4.57.0\u001b[39;22m\u001b[39m -> \u001b[39m\u001b[39;1m4.38.0\u001b[39;22m\u001b[39m)\u001b[39m: \u001b[34mDownloading...\u001b[39m \u001b[39;1m0%\u001b[39;22m\n",
            "  \u001b[32;1m-\u001b[39;22m \u001b[39mInstalling \u001b[39m\u001b[36mjupyter-server-ydoc\u001b[39m\u001b[39m (\u001b[39m\u001b[32m0.8.0\u001b[39m\u001b[39m)\u001b[39m\n",
            "  \u001b[34;1m-\u001b[39;22m \u001b[39mInstalling \u001b[39m\u001b[36mjupyterlab-server\u001b[39m\u001b[39m (\u001b[39m\u001b[39;1m2.24.0\u001b[39;22m\u001b[39m)\u001b[39m: \u001b[34mInstalling...\u001b[39m\n",
            "  \u001b[34;1m-\u001b[39;22m \u001b[39mDowngrading \u001b[39m\u001b[36mjupyterlab-widgets\u001b[39m\u001b[39m (\u001b[39m\u001b[39;1m3.0.14\u001b[39;22m\u001b[39m -> \u001b[39m\u001b[39;1m3.0.13\u001b[39;22m\u001b[39m)\u001b[39m: \u001b[34mDownloading...\u001b[39m \u001b[39;1m100%\u001b[39;22m\n",
            "  \u001b[34;1m-\u001b[39;22m \u001b[39mDowngrading \u001b[39m\u001b[36mkiwisolver\u001b[39m\u001b[39m (\u001b[39m\u001b[39;1m1.4.8\u001b[39;22m\u001b[39m -> \u001b[39m\u001b[39;1m1.4.5\u001b[39;22m\u001b[39m)\u001b[39m: \u001b[34mPending...\u001b[39m\n",
            "\u001b[6A\u001b[0J  \u001b[34;1m-\u001b[39;22m \u001b[39mDowngrading \u001b[39m\u001b[36mcontourpy\u001b[39m\u001b[39m (\u001b[39m\u001b[39;1m1.3.2\u001b[39;22m\u001b[39m -> \u001b[39m\u001b[39;1m1.3.1\u001b[39;22m\u001b[39m)\u001b[39m: \u001b[34mDownloading...\u001b[39m \u001b[39;1m100%\u001b[39;22m\n",
            "  \u001b[34;1m-\u001b[39;22m \u001b[39mDowngrading \u001b[39m\u001b[36mcycler\u001b[39m\u001b[39m (\u001b[39m\u001b[39;1m0.12.1\u001b[39;22m\u001b[39m -> \u001b[39m\u001b[39;1m0.11.0\u001b[39;22m\u001b[39m)\u001b[39m: \u001b[34mInstalling...\u001b[39m\n",
            "  \u001b[34;1m-\u001b[39;22m \u001b[39mDowngrading \u001b[39m\u001b[36mfonttools\u001b[39m\u001b[39m (\u001b[39m\u001b[39;1m4.57.0\u001b[39;22m\u001b[39m -> \u001b[39m\u001b[39;1m4.38.0\u001b[39;22m\u001b[39m)\u001b[39m: \u001b[34mDownloading...\u001b[39m \u001b[39;1m0%\u001b[39;22m\n",
            "  \u001b[32;1m-\u001b[39;22m \u001b[39mInstalling \u001b[39m\u001b[36mjupyter-server-ydoc\u001b[39m\u001b[39m (\u001b[39m\u001b[32m0.8.0\u001b[39m\u001b[39m)\u001b[39m\n",
            "  \u001b[34;1m-\u001b[39;22m \u001b[39mInstalling \u001b[39m\u001b[36mjupyterlab-server\u001b[39m\u001b[39m (\u001b[39m\u001b[39;1m2.24.0\u001b[39;22m\u001b[39m)\u001b[39m: \u001b[34mInstalling...\u001b[39m\n",
            "  \u001b[34;1m-\u001b[39;22m \u001b[39mDowngrading \u001b[39m\u001b[36mjupyterlab-widgets\u001b[39m\u001b[39m (\u001b[39m\u001b[39;1m3.0.14\u001b[39;22m\u001b[39m -> \u001b[39m\u001b[39;1m3.0.13\u001b[39;22m\u001b[39m)\u001b[39m: \u001b[34mDownloading...\u001b[39m \u001b[39;1m100%\u001b[39;22m\n",
            "  \u001b[34;1m-\u001b[39;22m \u001b[39mDowngrading \u001b[39m\u001b[36mkiwisolver\u001b[39m\u001b[39m (\u001b[39m\u001b[39;1m1.4.8\u001b[39;22m\u001b[39m -> \u001b[39m\u001b[39;1m1.4.5\u001b[39;22m\u001b[39m)\u001b[39m: \u001b[34mPending...\u001b[39m\n",
            "\u001b[2A\u001b[0J  \u001b[34;1m-\u001b[39;22m \u001b[39mDowngrading \u001b[39m\u001b[36mkiwisolver\u001b[39m\u001b[39m (\u001b[39m\u001b[39;1m1.4.8\u001b[39;22m\u001b[39m -> \u001b[39m\u001b[39;1m1.4.5\u001b[39;22m\u001b[39m)\u001b[39m: \u001b[34mPending...\u001b[39m\n",
            "\u001b[1A\u001b[0J  \u001b[34;1m-\u001b[39;22m \u001b[39mDowngrading \u001b[39m\u001b[36mjupyterlab-widgets\u001b[39m\u001b[39m (\u001b[39m\u001b[39;1m3.0.14\u001b[39;22m\u001b[39m -> \u001b[39m\u001b[39;1m3.0.13\u001b[39;22m\u001b[39m)\u001b[39m: \u001b[34mInstalling...\u001b[39m\n",
            "  \u001b[34;1m-\u001b[39;22m \u001b[39mDowngrading \u001b[39m\u001b[36mkiwisolver\u001b[39m\u001b[39m (\u001b[39m\u001b[39;1m1.4.8\u001b[39;22m\u001b[39m -> \u001b[39m\u001b[39;1m1.4.5\u001b[39;22m\u001b[39m)\u001b[39m: \u001b[34mPending...\u001b[39m\n",
            "\u001b[3A\u001b[0J  \u001b[34;1m-\u001b[39;22m \u001b[39mDowngrading \u001b[39m\u001b[36mjupyterlab-widgets\u001b[39m\u001b[39m (\u001b[39m\u001b[39;1m3.0.14\u001b[39;22m\u001b[39m -> \u001b[39m\u001b[39;1m3.0.13\u001b[39;22m\u001b[39m)\u001b[39m: \u001b[34mInstalling...\u001b[39m\n",
            "  \u001b[34;1m-\u001b[39;22m \u001b[39mDowngrading \u001b[39m\u001b[36mkiwisolver\u001b[39m\u001b[39m (\u001b[39m\u001b[39;1m1.4.8\u001b[39;22m\u001b[39m -> \u001b[39m\u001b[39;1m1.4.5\u001b[39;22m\u001b[39m)\u001b[39m: \u001b[34mPending...\u001b[39m\n",
            "\u001b[2A\u001b[0J  \u001b[32;1m-\u001b[39;22m \u001b[39mInstalling \u001b[39m\u001b[36mjupyterlab-server\u001b[39m\u001b[39m (\u001b[39m\u001b[32m2.24.0\u001b[39m\u001b[39m)\u001b[39m\n",
            "  \u001b[34;1m-\u001b[39;22m \u001b[39mDowngrading \u001b[39m\u001b[36mjupyterlab-widgets\u001b[39m\u001b[39m (\u001b[39m\u001b[39;1m3.0.14\u001b[39;22m\u001b[39m -> \u001b[39m\u001b[39;1m3.0.13\u001b[39;22m\u001b[39m)\u001b[39m: \u001b[34mInstalling...\u001b[39m\n",
            "  \u001b[34;1m-\u001b[39;22m \u001b[39mDowngrading \u001b[39m\u001b[36mkiwisolver\u001b[39m\u001b[39m (\u001b[39m\u001b[39;1m1.4.8\u001b[39;22m\u001b[39m -> \u001b[39m\u001b[39;1m1.4.5\u001b[39;22m\u001b[39m)\u001b[39m: \u001b[34mPending...\u001b[39m\n",
            "  \u001b[34;1m-\u001b[39;22m \u001b[39mDowngrading \u001b[39m\u001b[36mpandas\u001b[39m\u001b[39m (\u001b[39m\u001b[39;1m2.0.3\u001b[39;22m\u001b[39m -> \u001b[39m\u001b[39;1m1.5.3\u001b[39;22m\u001b[39m)\u001b[39m: \u001b[34mPending...\u001b[39m\n",
            "\u001b[6A\u001b[0J  \u001b[32;1m-\u001b[39;22m \u001b[39mInstalling \u001b[39m\u001b[36mjupyter-server-ydoc\u001b[39m\u001b[39m (\u001b[39m\u001b[32m0.8.0\u001b[39m\u001b[39m)\u001b[39m\n",
            "  \u001b[32;1m-\u001b[39;22m \u001b[39mInstalling \u001b[39m\u001b[36mjupyterlab-server\u001b[39m\u001b[39m (\u001b[39m\u001b[32m2.24.0\u001b[39m\u001b[39m)\u001b[39m\n",
            "  \u001b[34;1m-\u001b[39;22m \u001b[39mDowngrading \u001b[39m\u001b[36mjupyterlab-widgets\u001b[39m\u001b[39m (\u001b[39m\u001b[39;1m3.0.14\u001b[39;22m\u001b[39m -> \u001b[39m\u001b[39;1m3.0.13\u001b[39;22m\u001b[39m)\u001b[39m: \u001b[34mInstalling...\u001b[39m\n",
            "  \u001b[34;1m-\u001b[39;22m \u001b[39mDowngrading \u001b[39m\u001b[36mkiwisolver\u001b[39m\u001b[39m (\u001b[39m\u001b[39;1m1.4.8\u001b[39;22m\u001b[39m -> \u001b[39m\u001b[39;1m1.4.5\u001b[39;22m\u001b[39m)\u001b[39m: \u001b[34mPending...\u001b[39m\n",
            "  \u001b[34;1m-\u001b[39;22m \u001b[39mDowngrading \u001b[39m\u001b[36mpandas\u001b[39m\u001b[39m (\u001b[39m\u001b[39;1m2.0.3\u001b[39;22m\u001b[39m -> \u001b[39m\u001b[39;1m1.5.3\u001b[39;22m\u001b[39m)\u001b[39m: \u001b[34mPending...\u001b[39m\n",
            "\u001b[5A\u001b[0J  \u001b[34;1m-\u001b[39;22m \u001b[39mDowngrading \u001b[39m\u001b[36mfonttools\u001b[39m\u001b[39m (\u001b[39m\u001b[39;1m4.57.0\u001b[39;22m\u001b[39m -> \u001b[39m\u001b[39;1m4.38.0\u001b[39;22m\u001b[39m)\u001b[39m: \u001b[34mDownloading...\u001b[39m \u001b[39;1m90%\u001b[39;22m\n",
            "  \u001b[32;1m-\u001b[39;22m \u001b[39mInstalling \u001b[39m\u001b[36mjupyter-server-ydoc\u001b[39m\u001b[39m (\u001b[39m\u001b[32m0.8.0\u001b[39m\u001b[39m)\u001b[39m\n",
            "  \u001b[32;1m-\u001b[39;22m \u001b[39mInstalling \u001b[39m\u001b[36mjupyterlab-server\u001b[39m\u001b[39m (\u001b[39m\u001b[32m2.24.0\u001b[39m\u001b[39m)\u001b[39m\n",
            "  \u001b[34;1m-\u001b[39;22m \u001b[39mDowngrading \u001b[39m\u001b[36mjupyterlab-widgets\u001b[39m\u001b[39m (\u001b[39m\u001b[39;1m3.0.14\u001b[39;22m\u001b[39m -> \u001b[39m\u001b[39;1m3.0.13\u001b[39;22m\u001b[39m)\u001b[39m: \u001b[34mInstalling...\u001b[39m\n",
            "  \u001b[34;1m-\u001b[39;22m \u001b[39mDowngrading \u001b[39m\u001b[36mkiwisolver\u001b[39m\u001b[39m (\u001b[39m\u001b[39;1m1.4.8\u001b[39;22m\u001b[39m -> \u001b[39m\u001b[39;1m1.4.5\u001b[39;22m\u001b[39m)\u001b[39m: \u001b[34mPending...\u001b[39m\n",
            "  \u001b[34;1m-\u001b[39;22m \u001b[39mDowngrading \u001b[39m\u001b[36mpandas\u001b[39m\u001b[39m (\u001b[39m\u001b[39;1m2.0.3\u001b[39;22m\u001b[39m -> \u001b[39m\u001b[39;1m1.5.3\u001b[39;22m\u001b[39m)\u001b[39m: \u001b[34mPending...\u001b[39m\n",
            "\u001b[8A\u001b[0J  \u001b[34;1m-\u001b[39;22m \u001b[39mDowngrading \u001b[39m\u001b[36mcycler\u001b[39m\u001b[39m (\u001b[39m\u001b[39;1m0.12.1\u001b[39;22m\u001b[39m -> \u001b[39m\u001b[39;1m0.11.0\u001b[39;22m\u001b[39m)\u001b[39m: \u001b[34mInstalling...\u001b[39m\n",
            "  \u001b[34;1m-\u001b[39;22m \u001b[39mDowngrading \u001b[39m\u001b[36mfonttools\u001b[39m\u001b[39m (\u001b[39m\u001b[39;1m4.57.0\u001b[39;22m\u001b[39m -> \u001b[39m\u001b[39;1m4.38.0\u001b[39;22m\u001b[39m)\u001b[39m: \u001b[34mDownloading...\u001b[39m \u001b[39;1m90%\u001b[39;22m\n",
            "  \u001b[32;1m-\u001b[39;22m \u001b[39mInstalling \u001b[39m\u001b[36mjupyter-server-ydoc\u001b[39m\u001b[39m (\u001b[39m\u001b[32m0.8.0\u001b[39m\u001b[39m)\u001b[39m\n",
            "  \u001b[32;1m-\u001b[39;22m \u001b[39mInstalling \u001b[39m\u001b[36mjupyterlab-server\u001b[39m\u001b[39m (\u001b[39m\u001b[32m2.24.0\u001b[39m\u001b[39m)\u001b[39m\n",
            "  \u001b[34;1m-\u001b[39;22m \u001b[39mDowngrading \u001b[39m\u001b[36mjupyterlab-widgets\u001b[39m\u001b[39m (\u001b[39m\u001b[39;1m3.0.14\u001b[39;22m\u001b[39m -> \u001b[39m\u001b[39;1m3.0.13\u001b[39;22m\u001b[39m)\u001b[39m: \u001b[34mInstalling...\u001b[39m\n",
            "  \u001b[34;1m-\u001b[39;22m \u001b[39mDowngrading \u001b[39m\u001b[36mkiwisolver\u001b[39m\u001b[39m (\u001b[39m\u001b[39;1m1.4.8\u001b[39;22m\u001b[39m -> \u001b[39m\u001b[39;1m1.4.5\u001b[39;22m\u001b[39m)\u001b[39m: \u001b[34mPending...\u001b[39m\n",
            "  \u001b[34;1m-\u001b[39;22m \u001b[39mDowngrading \u001b[39m\u001b[36mpandas\u001b[39m\u001b[39m (\u001b[39m\u001b[39;1m2.0.3\u001b[39;22m\u001b[39m -> \u001b[39m\u001b[39;1m1.5.3\u001b[39;22m\u001b[39m)\u001b[39m: \u001b[34mPending...\u001b[39m\n",
            "\u001b[7A\u001b[0J  \u001b[34;1m-\u001b[39;22m \u001b[39mDowngrading \u001b[39m\u001b[36mcontourpy\u001b[39m\u001b[39m (\u001b[39m\u001b[39;1m1.3.2\u001b[39;22m\u001b[39m -> \u001b[39m\u001b[39;1m1.3.1\u001b[39;22m\u001b[39m)\u001b[39m: \u001b[34mInstalling...\u001b[39m\n",
            "  \u001b[34;1m-\u001b[39;22m \u001b[39mDowngrading \u001b[39m\u001b[36mcycler\u001b[39m\u001b[39m (\u001b[39m\u001b[39;1m0.12.1\u001b[39;22m\u001b[39m -> \u001b[39m\u001b[39;1m0.11.0\u001b[39;22m\u001b[39m)\u001b[39m: \u001b[34mInstalling...\u001b[39m\n",
            "  \u001b[34;1m-\u001b[39;22m \u001b[39mDowngrading \u001b[39m\u001b[36mfonttools\u001b[39m\u001b[39m (\u001b[39m\u001b[39;1m4.57.0\u001b[39;22m\u001b[39m -> \u001b[39m\u001b[39;1m4.38.0\u001b[39;22m\u001b[39m)\u001b[39m: \u001b[34mDownloading...\u001b[39m \u001b[39;1m90%\u001b[39;22m\n",
            "  \u001b[32;1m-\u001b[39;22m \u001b[39mInstalling \u001b[39m\u001b[36mjupyter-server-ydoc\u001b[39m\u001b[39m (\u001b[39m\u001b[32m0.8.0\u001b[39m\u001b[39m)\u001b[39m\n",
            "  \u001b[32;1m-\u001b[39;22m \u001b[39mInstalling \u001b[39m\u001b[36mjupyterlab-server\u001b[39m\u001b[39m (\u001b[39m\u001b[32m2.24.0\u001b[39m\u001b[39m)\u001b[39m\n",
            "  \u001b[34;1m-\u001b[39;22m \u001b[39mDowngrading \u001b[39m\u001b[36mjupyterlab-widgets\u001b[39m\u001b[39m (\u001b[39m\u001b[39;1m3.0.14\u001b[39;22m\u001b[39m -> \u001b[39m\u001b[39;1m3.0.13\u001b[39;22m\u001b[39m)\u001b[39m: \u001b[34mInstalling...\u001b[39m\n",
            "  \u001b[34;1m-\u001b[39;22m \u001b[39mDowngrading \u001b[39m\u001b[36mkiwisolver\u001b[39m\u001b[39m (\u001b[39m\u001b[39;1m1.4.8\u001b[39;22m\u001b[39m -> \u001b[39m\u001b[39;1m1.4.5\u001b[39;22m\u001b[39m)\u001b[39m: \u001b[34mPending...\u001b[39m\n",
            "  \u001b[34;1m-\u001b[39;22m \u001b[39mDowngrading \u001b[39m\u001b[36mpandas\u001b[39m\u001b[39m (\u001b[39m\u001b[39;1m2.0.3\u001b[39;22m\u001b[39m -> \u001b[39m\u001b[39;1m1.5.3\u001b[39;22m\u001b[39m)\u001b[39m: \u001b[34mPending...\u001b[39m\n",
            "\u001b[6A\u001b[0J  \u001b[32;1m-\u001b[39;22m \u001b[39mInstalling \u001b[39m\u001b[36mjupyter-server-ydoc\u001b[39m\u001b[39m (\u001b[39m\u001b[32m0.8.0\u001b[39m\u001b[39m)\u001b[39m\n",
            "  \u001b[32;1m-\u001b[39;22m \u001b[39mInstalling \u001b[39m\u001b[36mjupyterlab-server\u001b[39m\u001b[39m (\u001b[39m\u001b[32m2.24.0\u001b[39m\u001b[39m)\u001b[39m\n",
            "  \u001b[34;1m-\u001b[39;22m \u001b[39mDowngrading \u001b[39m\u001b[36mjupyterlab-widgets\u001b[39m\u001b[39m (\u001b[39m\u001b[39;1m3.0.14\u001b[39;22m\u001b[39m -> \u001b[39m\u001b[39;1m3.0.13\u001b[39;22m\u001b[39m)\u001b[39m: \u001b[34mInstalling...\u001b[39m\n",
            "  \u001b[34;1m-\u001b[39;22m \u001b[39mDowngrading \u001b[39m\u001b[36mkiwisolver\u001b[39m\u001b[39m (\u001b[39m\u001b[39;1m1.4.8\u001b[39;22m\u001b[39m -> \u001b[39m\u001b[39;1m1.4.5\u001b[39;22m\u001b[39m)\u001b[39m: \u001b[34mPending...\u001b[39m\n",
            "  \u001b[34;1m-\u001b[39;22m \u001b[39mDowngrading \u001b[39m\u001b[36mpandas\u001b[39m\u001b[39m (\u001b[39m\u001b[39;1m2.0.3\u001b[39;22m\u001b[39m -> \u001b[39m\u001b[39;1m1.5.3\u001b[39;22m\u001b[39m)\u001b[39m: \u001b[34mPending...\u001b[39m\n",
            "\u001b[5A\u001b[0J  \u001b[34;1m-\u001b[39;22m \u001b[39mDowngrading \u001b[39m\u001b[36mfonttools\u001b[39m\u001b[39m (\u001b[39m\u001b[39;1m4.57.0\u001b[39;22m\u001b[39m -> \u001b[39m\u001b[39;1m4.38.0\u001b[39;22m\u001b[39m)\u001b[39m: \u001b[34mDownloading...\u001b[39m \u001b[39;1m100%\u001b[39;22m\n",
            "  \u001b[32;1m-\u001b[39;22m \u001b[39mInstalling \u001b[39m\u001b[36mjupyter-server-ydoc\u001b[39m\u001b[39m (\u001b[39m\u001b[32m0.8.0\u001b[39m\u001b[39m)\u001b[39m\n",
            "  \u001b[32;1m-\u001b[39;22m \u001b[39mInstalling \u001b[39m\u001b[36mjupyterlab-server\u001b[39m\u001b[39m (\u001b[39m\u001b[32m2.24.0\u001b[39m\u001b[39m)\u001b[39m\n",
            "  \u001b[34;1m-\u001b[39;22m \u001b[39mDowngrading \u001b[39m\u001b[36mjupyterlab-widgets\u001b[39m\u001b[39m (\u001b[39m\u001b[39;1m3.0.14\u001b[39;22m\u001b[39m -> \u001b[39m\u001b[39;1m3.0.13\u001b[39;22m\u001b[39m)\u001b[39m: \u001b[34mInstalling...\u001b[39m\n",
            "  \u001b[34;1m-\u001b[39;22m \u001b[39mDowngrading \u001b[39m\u001b[36mkiwisolver\u001b[39m\u001b[39m (\u001b[39m\u001b[39;1m1.4.8\u001b[39;22m\u001b[39m -> \u001b[39m\u001b[39;1m1.4.5\u001b[39;22m\u001b[39m)\u001b[39m: \u001b[34mPending...\u001b[39m\n",
            "  \u001b[34;1m-\u001b[39;22m \u001b[39mDowngrading \u001b[39m\u001b[36mpandas\u001b[39m\u001b[39m (\u001b[39m\u001b[39;1m2.0.3\u001b[39;22m\u001b[39m -> \u001b[39m\u001b[39;1m1.5.3\u001b[39;22m\u001b[39m)\u001b[39m: \u001b[34mPending...\u001b[39m\n",
            "\u001b[6A\u001b[0J  \u001b[32;1m-\u001b[39;22m \u001b[39mInstalling \u001b[39m\u001b[36mjupyter-server-ydoc\u001b[39m\u001b[39m (\u001b[39m\u001b[32m0.8.0\u001b[39m\u001b[39m)\u001b[39m\n",
            "  \u001b[32;1m-\u001b[39;22m \u001b[39mInstalling \u001b[39m\u001b[36mjupyterlab-server\u001b[39m\u001b[39m (\u001b[39m\u001b[32m2.24.0\u001b[39m\u001b[39m)\u001b[39m\n",
            "  \u001b[34;1m-\u001b[39;22m \u001b[39mDowngrading \u001b[39m\u001b[36mjupyterlab-widgets\u001b[39m\u001b[39m (\u001b[39m\u001b[39;1m3.0.14\u001b[39;22m\u001b[39m -> \u001b[39m\u001b[39;1m3.0.13\u001b[39;22m\u001b[39m)\u001b[39m: \u001b[34mInstalling...\u001b[39m\n",
            "  \u001b[34;1m-\u001b[39;22m \u001b[39mDowngrading \u001b[39m\u001b[36mkiwisolver\u001b[39m\u001b[39m (\u001b[39m\u001b[39;1m1.4.8\u001b[39;22m\u001b[39m -> \u001b[39m\u001b[39;1m1.4.5\u001b[39;22m\u001b[39m)\u001b[39m: \u001b[34mPending...\u001b[39m\n",
            "  \u001b[34;1m-\u001b[39;22m \u001b[39mDowngrading \u001b[39m\u001b[36mpandas\u001b[39m\u001b[39m (\u001b[39m\u001b[39;1m2.0.3\u001b[39;22m\u001b[39m -> \u001b[39m\u001b[39;1m1.5.3\u001b[39;22m\u001b[39m)\u001b[39m: \u001b[34mPending...\u001b[39m\n",
            "\u001b[5A\u001b[0J  \u001b[34;1m-\u001b[39;22m \u001b[39mDowngrading \u001b[39m\u001b[36mfonttools\u001b[39m\u001b[39m (\u001b[39m\u001b[39;1m4.57.0\u001b[39;22m\u001b[39m -> \u001b[39m\u001b[39;1m4.38.0\u001b[39;22m\u001b[39m)\u001b[39m: \u001b[34mInstalling...\u001b[39m\n",
            "  \u001b[32;1m-\u001b[39;22m \u001b[39mInstalling \u001b[39m\u001b[36mjupyter-server-ydoc\u001b[39m\u001b[39m (\u001b[39m\u001b[32m0.8.0\u001b[39m\u001b[39m)\u001b[39m\n",
            "  \u001b[32;1m-\u001b[39;22m \u001b[39mInstalling \u001b[39m\u001b[36mjupyterlab-server\u001b[39m\u001b[39m (\u001b[39m\u001b[32m2.24.0\u001b[39m\u001b[39m)\u001b[39m\n",
            "  \u001b[34;1m-\u001b[39;22m \u001b[39mDowngrading \u001b[39m\u001b[36mjupyterlab-widgets\u001b[39m\u001b[39m (\u001b[39m\u001b[39;1m3.0.14\u001b[39;22m\u001b[39m -> \u001b[39m\u001b[39;1m3.0.13\u001b[39;22m\u001b[39m)\u001b[39m: \u001b[34mInstalling...\u001b[39m\n",
            "  \u001b[34;1m-\u001b[39;22m \u001b[39mDowngrading \u001b[39m\u001b[36mkiwisolver\u001b[39m\u001b[39m (\u001b[39m\u001b[39;1m1.4.8\u001b[39;22m\u001b[39m -> \u001b[39m\u001b[39;1m1.4.5\u001b[39;22m\u001b[39m)\u001b[39m: \u001b[34mPending...\u001b[39m\n",
            "  \u001b[34;1m-\u001b[39;22m \u001b[39mDowngrading \u001b[39m\u001b[36mpandas\u001b[39m\u001b[39m (\u001b[39m\u001b[39;1m2.0.3\u001b[39;22m\u001b[39m -> \u001b[39m\u001b[39;1m1.5.3\u001b[39;22m\u001b[39m)\u001b[39m: \u001b[34mPending...\u001b[39m\n",
            "\u001b[1A\u001b[0J  \u001b[34;1m-\u001b[39;22m \u001b[39mDowngrading \u001b[39m\u001b[36mpandas\u001b[39m\u001b[39m (\u001b[39m\u001b[39;1m2.0.3\u001b[39;22m\u001b[39m -> \u001b[39m\u001b[39;1m1.5.3\u001b[39;22m\u001b[39m)\u001b[39m: \u001b[34mDownloading...\u001b[39m \u001b[39;1m0%\u001b[39;22m\n",
            "\u001b[2A\u001b[0J  \u001b[34;1m-\u001b[39;22m \u001b[39mDowngrading \u001b[39m\u001b[36mpandas\u001b[39m\u001b[39m (\u001b[39m\u001b[39;1m2.0.3\u001b[39;22m\u001b[39m -> \u001b[39m\u001b[39;1m1.5.3\u001b[39;22m\u001b[39m)\u001b[39m: \u001b[34mDownloading...\u001b[39m \u001b[39;1m0%\u001b[39;22m\n",
            "\u001b[1A\u001b[0J  \u001b[34;1m-\u001b[39;22m \u001b[39mDowngrading \u001b[39m\u001b[36mkiwisolver\u001b[39m\u001b[39m (\u001b[39m\u001b[39;1m1.4.8\u001b[39;22m\u001b[39m -> \u001b[39m\u001b[39;1m1.4.5\u001b[39;22m\u001b[39m)\u001b[39m: \u001b[34mDownloading...\u001b[39m \u001b[39;1m0%\u001b[39;22m\n",
            "  \u001b[34;1m-\u001b[39;22m \u001b[39mDowngrading \u001b[39m\u001b[36mpandas\u001b[39m\u001b[39m (\u001b[39m\u001b[39;1m2.0.3\u001b[39;22m\u001b[39m -> \u001b[39m\u001b[39;1m1.5.3\u001b[39;22m\u001b[39m)\u001b[39m: \u001b[34mDownloading...\u001b[39m \u001b[39;1m0%\u001b[39;22m\n",
            "\u001b[1A\u001b[0J  \u001b[34;1m-\u001b[39;22m \u001b[39mDowngrading \u001b[39m\u001b[36mpandas\u001b[39m\u001b[39m (\u001b[39m\u001b[39;1m2.0.3\u001b[39;22m\u001b[39m -> \u001b[39m\u001b[39;1m1.5.3\u001b[39;22m\u001b[39m)\u001b[39m: \u001b[34mDownloading...\u001b[39m \u001b[39;1m20%\u001b[39;22m\n",
            "\u001b[2A\u001b[0J  \u001b[34;1m-\u001b[39;22m \u001b[39mDowngrading \u001b[39m\u001b[36mpandas\u001b[39m\u001b[39m (\u001b[39m\u001b[39;1m2.0.3\u001b[39;22m\u001b[39m -> \u001b[39m\u001b[39;1m1.5.3\u001b[39;22m\u001b[39m)\u001b[39m: \u001b[34mDownloading...\u001b[39m \u001b[39;1m20%\u001b[39;22m\n",
            "\u001b[1A\u001b[0J  \u001b[34;1m-\u001b[39;22m \u001b[39mDowngrading \u001b[39m\u001b[36mkiwisolver\u001b[39m\u001b[39m (\u001b[39m\u001b[39;1m1.4.8\u001b[39;22m\u001b[39m -> \u001b[39m\u001b[39;1m1.4.5\u001b[39;22m\u001b[39m)\u001b[39m: \u001b[34mDownloading...\u001b[39m \u001b[39;1m100%\u001b[39;22m\n",
            "  \u001b[34;1m-\u001b[39;22m \u001b[39mDowngrading \u001b[39m\u001b[36mpandas\u001b[39m\u001b[39m (\u001b[39m\u001b[39;1m2.0.3\u001b[39;22m\u001b[39m -> \u001b[39m\u001b[39;1m1.5.3\u001b[39;22m\u001b[39m)\u001b[39m: \u001b[34mDownloading...\u001b[39m \u001b[39;1m20%\u001b[39;22m\n",
            "\u001b[2A\u001b[0J  \u001b[34;1m-\u001b[39;22m \u001b[39mDowngrading \u001b[39m\u001b[36mpandas\u001b[39m\u001b[39m (\u001b[39m\u001b[39;1m2.0.3\u001b[39;22m\u001b[39m -> \u001b[39m\u001b[39;1m1.5.3\u001b[39;22m\u001b[39m)\u001b[39m: \u001b[34mDownloading...\u001b[39m \u001b[39;1m20%\u001b[39;22m\n",
            "\u001b[1A\u001b[0J  \u001b[34;1m-\u001b[39;22m \u001b[39mDowngrading \u001b[39m\u001b[36mkiwisolver\u001b[39m\u001b[39m (\u001b[39m\u001b[39;1m1.4.8\u001b[39;22m\u001b[39m -> \u001b[39m\u001b[39;1m1.4.5\u001b[39;22m\u001b[39m)\u001b[39m: \u001b[34mInstalling...\u001b[39m\n",
            "  \u001b[34;1m-\u001b[39;22m \u001b[39mDowngrading \u001b[39m\u001b[36mpandas\u001b[39m\u001b[39m (\u001b[39m\u001b[39;1m2.0.3\u001b[39;22m\u001b[39m -> \u001b[39m\u001b[39;1m1.5.3\u001b[39;22m\u001b[39m)\u001b[39m: \u001b[34mDownloading...\u001b[39m \u001b[39;1m20%\u001b[39;22m\n",
            "\u001b[1A\u001b[0J  \u001b[34;1m-\u001b[39;22m \u001b[39mDowngrading \u001b[39m\u001b[36mpandas\u001b[39m\u001b[39m (\u001b[39m\u001b[39;1m2.0.3\u001b[39;22m\u001b[39m -> \u001b[39m\u001b[39;1m1.5.3\u001b[39;22m\u001b[39m)\u001b[39m: \u001b[34mDownloading...\u001b[39m \u001b[39;1m40%\u001b[39;22m\n",
            "\u001b[1A\u001b[0J  \u001b[34;1m-\u001b[39;22m \u001b[39mDowngrading \u001b[39m\u001b[36mpandas\u001b[39m\u001b[39m (\u001b[39m\u001b[39;1m2.0.3\u001b[39;22m\u001b[39m -> \u001b[39m\u001b[39;1m1.5.3\u001b[39;22m\u001b[39m)\u001b[39m: \u001b[34mDownloading...\u001b[39m \u001b[39;1m60%\u001b[39;22m\n",
            "\u001b[1A\u001b[0J  \u001b[34;1m-\u001b[39;22m \u001b[39mDowngrading \u001b[39m\u001b[36mpandas\u001b[39m\u001b[39m (\u001b[39m\u001b[39;1m2.0.3\u001b[39;22m\u001b[39m -> \u001b[39m\u001b[39;1m1.5.3\u001b[39;22m\u001b[39m)\u001b[39m: \u001b[34mDownloading...\u001b[39m \u001b[39;1m80%\u001b[39;22m\n",
            "\u001b[1A\u001b[0J  \u001b[34;1m-\u001b[39;22m \u001b[39mDowngrading \u001b[39m\u001b[36mpandas\u001b[39m\u001b[39m (\u001b[39m\u001b[39;1m2.0.3\u001b[39;22m\u001b[39m -> \u001b[39m\u001b[39;1m1.5.3\u001b[39;22m\u001b[39m)\u001b[39m: \u001b[34mDownloading...\u001b[39m \u001b[39;1m100%\u001b[39;22m\n",
            "\u001b[1A\u001b[0J  \u001b[34;1m-\u001b[39;22m \u001b[39mDowngrading \u001b[39m\u001b[36mpandas\u001b[39m\u001b[39m (\u001b[39m\u001b[39;1m2.0.3\u001b[39;22m\u001b[39m -> \u001b[39m\u001b[39;1m1.5.3\u001b[39;22m\u001b[39m)\u001b[39m: \u001b[34mInstalling...\u001b[39m\n",
            "\u001b[7A\u001b[0J  \u001b[34;1m-\u001b[39;22m \u001b[39mDowngrading \u001b[39m\u001b[36mfonttools\u001b[39m\u001b[39m (\u001b[39m\u001b[39;1m4.57.0\u001b[39;22m\u001b[39m -> \u001b[39m\u001b[39;1m4.38.0\u001b[39;22m\u001b[39m)\u001b[39m: \u001b[34mInstalling...\u001b[39m\n",
            "  \u001b[32;1m-\u001b[39;22m \u001b[39mInstalling \u001b[39m\u001b[36mjupyter-server-ydoc\u001b[39m\u001b[39m (\u001b[39m\u001b[32m0.8.0\u001b[39m\u001b[39m)\u001b[39m\n",
            "  \u001b[32;1m-\u001b[39;22m \u001b[39mInstalling \u001b[39m\u001b[36mjupyterlab-server\u001b[39m\u001b[39m (\u001b[39m\u001b[32m2.24.0\u001b[39m\u001b[39m)\u001b[39m\n",
            "  \u001b[34;1m-\u001b[39;22m \u001b[39mDowngrading \u001b[39m\u001b[36mjupyterlab-widgets\u001b[39m\u001b[39m (\u001b[39m\u001b[39;1m3.0.14\u001b[39;22m\u001b[39m -> \u001b[39m\u001b[39;1m3.0.13\u001b[39;22m\u001b[39m)\u001b[39m: \u001b[34mInstalling...\u001b[39m\n",
            "  \u001b[34;1m-\u001b[39;22m \u001b[39mDowngrading \u001b[39m\u001b[36mkiwisolver\u001b[39m\u001b[39m (\u001b[39m\u001b[39;1m1.4.8\u001b[39;22m\u001b[39m -> \u001b[39m\u001b[39;1m1.4.5\u001b[39;22m\u001b[39m)\u001b[39m: \u001b[34mInstalling...\u001b[39m\n",
            "  \u001b[34;1m-\u001b[39;22m \u001b[39mDowngrading \u001b[39m\u001b[36mpandas\u001b[39m\u001b[39m (\u001b[39m\u001b[39;1m2.0.3\u001b[39;22m\u001b[39m -> \u001b[39m\u001b[39;1m1.5.3\u001b[39;22m\u001b[39m)\u001b[39m: \u001b[34mInstalling...\u001b[39m\n",
            "\u001b[6A\u001b[0J  \u001b[32;1m-\u001b[39;22m \u001b[39mDowngrading \u001b[39m\u001b[36mcycler\u001b[39m\u001b[39m (\u001b[39m\u001b[39;1m0.12.1\u001b[39;22m\u001b[39m -> \u001b[39m\u001b[32m0.11.0\u001b[39m\u001b[39m)\u001b[39m\n",
            "  \u001b[34;1m-\u001b[39;22m \u001b[39mDowngrading \u001b[39m\u001b[36mfonttools\u001b[39m\u001b[39m (\u001b[39m\u001b[39;1m4.57.0\u001b[39;22m\u001b[39m -> \u001b[39m\u001b[39;1m4.38.0\u001b[39;22m\u001b[39m)\u001b[39m: \u001b[34mInstalling...\u001b[39m\n",
            "  \u001b[32;1m-\u001b[39;22m \u001b[39mInstalling \u001b[39m\u001b[36mjupyter-server-ydoc\u001b[39m\u001b[39m (\u001b[39m\u001b[32m0.8.0\u001b[39m\u001b[39m)\u001b[39m\n",
            "  \u001b[32;1m-\u001b[39;22m \u001b[39mInstalling \u001b[39m\u001b[36mjupyterlab-server\u001b[39m\u001b[39m (\u001b[39m\u001b[32m2.24.0\u001b[39m\u001b[39m)\u001b[39m\n",
            "  \u001b[34;1m-\u001b[39;22m \u001b[39mDowngrading \u001b[39m\u001b[36mjupyterlab-widgets\u001b[39m\u001b[39m (\u001b[39m\u001b[39;1m3.0.14\u001b[39;22m\u001b[39m -> \u001b[39m\u001b[39;1m3.0.13\u001b[39;22m\u001b[39m)\u001b[39m: \u001b[34mInstalling...\u001b[39m\n",
            "  \u001b[34;1m-\u001b[39;22m \u001b[39mDowngrading \u001b[39m\u001b[36mkiwisolver\u001b[39m\u001b[39m (\u001b[39m\u001b[39;1m1.4.8\u001b[39;22m\u001b[39m -> \u001b[39m\u001b[39;1m1.4.5\u001b[39;22m\u001b[39m)\u001b[39m: \u001b[34mInstalling...\u001b[39m\n",
            "  \u001b[34;1m-\u001b[39;22m \u001b[39mDowngrading \u001b[39m\u001b[36mpandas\u001b[39m\u001b[39m (\u001b[39m\u001b[39;1m2.0.3\u001b[39;22m\u001b[39m -> \u001b[39m\u001b[39;1m1.5.3\u001b[39;22m\u001b[39m)\u001b[39m: \u001b[34mInstalling...\u001b[39m\n",
            "  \u001b[34;1m-\u001b[39;22m \u001b[39mDowngrading \u001b[39m\u001b[36mpillow\u001b[39m\u001b[39m (\u001b[39m\u001b[39;1m11.2.1\u001b[39;22m\u001b[39m -> \u001b[39m\u001b[39;1m9.5.0\u001b[39;22m\u001b[39m)\u001b[39m: \u001b[34mPending...\u001b[39m\n",
            "\u001b[1A\u001b[0J  \u001b[34;1m-\u001b[39;22m \u001b[39mDowngrading \u001b[39m\u001b[36mpillow\u001b[39m\u001b[39m (\u001b[39m\u001b[39;1m11.2.1\u001b[39;22m\u001b[39m -> \u001b[39m\u001b[39;1m9.5.0\u001b[39;22m\u001b[39m)\u001b[39m: \u001b[34mDownloading...\u001b[39m \u001b[39;1m0%\u001b[39;22m\n",
            "\u001b[1A\u001b[0J  \u001b[34;1m-\u001b[39;22m \u001b[39mDowngrading \u001b[39m\u001b[36mpillow\u001b[39m\u001b[39m (\u001b[39m\u001b[39;1m11.2.1\u001b[39;22m\u001b[39m -> \u001b[39m\u001b[39;1m9.5.0\u001b[39;22m\u001b[39m)\u001b[39m: \u001b[34mDownloading...\u001b[39m \u001b[39;1m50%\u001b[39;22m\n",
            "\u001b[1A\u001b[0J  \u001b[34;1m-\u001b[39;22m \u001b[39mDowngrading \u001b[39m\u001b[36mpillow\u001b[39m\u001b[39m (\u001b[39m\u001b[39;1m11.2.1\u001b[39;22m\u001b[39m -> \u001b[39m\u001b[39;1m9.5.0\u001b[39;22m\u001b[39m)\u001b[39m: \u001b[34mDownloading...\u001b[39m \u001b[39;1m90%\u001b[39;22m\n",
            "\u001b[1A\u001b[0J  \u001b[34;1m-\u001b[39;22m \u001b[39mDowngrading \u001b[39m\u001b[36mpillow\u001b[39m\u001b[39m (\u001b[39m\u001b[39;1m11.2.1\u001b[39;22m\u001b[39m -> \u001b[39m\u001b[39;1m9.5.0\u001b[39;22m\u001b[39m)\u001b[39m: \u001b[34mDownloading...\u001b[39m \u001b[39;1m100%\u001b[39;22m\n",
            "\u001b[1A\u001b[0J  \u001b[34;1m-\u001b[39;22m \u001b[39mDowngrading \u001b[39m\u001b[36mpillow\u001b[39m\u001b[39m (\u001b[39m\u001b[39;1m11.2.1\u001b[39;22m\u001b[39m -> \u001b[39m\u001b[39;1m9.5.0\u001b[39;22m\u001b[39m)\u001b[39m: \u001b[34mInstalling...\u001b[39m\n",
            "\u001b[4A\u001b[0J  \u001b[34;1m-\u001b[39;22m \u001b[39mDowngrading \u001b[39m\u001b[36mkiwisolver\u001b[39m\u001b[39m (\u001b[39m\u001b[39;1m1.4.8\u001b[39;22m\u001b[39m -> \u001b[39m\u001b[39;1m1.4.5\u001b[39;22m\u001b[39m)\u001b[39m: \u001b[34mInstalling...\u001b[39m\n",
            "  \u001b[34;1m-\u001b[39;22m \u001b[39mDowngrading \u001b[39m\u001b[36mpandas\u001b[39m\u001b[39m (\u001b[39m\u001b[39;1m2.0.3\u001b[39;22m\u001b[39m -> \u001b[39m\u001b[39;1m1.5.3\u001b[39;22m\u001b[39m)\u001b[39m: \u001b[34mInstalling...\u001b[39m\n",
            "  \u001b[34;1m-\u001b[39;22m \u001b[39mDowngrading \u001b[39m\u001b[36mpillow\u001b[39m\u001b[39m (\u001b[39m\u001b[39;1m11.2.1\u001b[39;22m\u001b[39m -> \u001b[39m\u001b[39;1m9.5.0\u001b[39;22m\u001b[39m)\u001b[39m: \u001b[34mInstalling...\u001b[39m\n",
            "\u001b[3A\u001b[0J  \u001b[32;1m-\u001b[39;22m \u001b[39mDowngrading \u001b[39m\u001b[36mjupyterlab-widgets\u001b[39m\u001b[39m (\u001b[39m\u001b[39;1m3.0.14\u001b[39;22m\u001b[39m -> \u001b[39m\u001b[32m3.0.13\u001b[39m\u001b[39m)\u001b[39m\n",
            "  \u001b[34;1m-\u001b[39;22m \u001b[39mDowngrading \u001b[39m\u001b[36mkiwisolver\u001b[39m\u001b[39m (\u001b[39m\u001b[39;1m1.4.8\u001b[39;22m\u001b[39m -> \u001b[39m\u001b[39;1m1.4.5\u001b[39;22m\u001b[39m)\u001b[39m: \u001b[34mInstalling...\u001b[39m\n",
            "  \u001b[34;1m-\u001b[39;22m \u001b[39mDowngrading \u001b[39m\u001b[36mpandas\u001b[39m\u001b[39m (\u001b[39m\u001b[39;1m2.0.3\u001b[39;22m\u001b[39m -> \u001b[39m\u001b[39;1m1.5.3\u001b[39;22m\u001b[39m)\u001b[39m: \u001b[34mInstalling...\u001b[39m\n",
            "  \u001b[34;1m-\u001b[39;22m \u001b[39mDowngrading \u001b[39m\u001b[36mpillow\u001b[39m\u001b[39m (\u001b[39m\u001b[39;1m11.2.1\u001b[39;22m\u001b[39m -> \u001b[39m\u001b[39;1m9.5.0\u001b[39;22m\u001b[39m)\u001b[39m: \u001b[34mInstalling...\u001b[39m\n",
            "  \u001b[34;1m-\u001b[39;22m \u001b[39mDowngrading \u001b[39m\u001b[36mpyparsing\u001b[39m\u001b[39m (\u001b[39m\u001b[39;1m3.2.3\u001b[39;22m\u001b[39m -> \u001b[39m\u001b[39;1m3.1.4\u001b[39;22m\u001b[39m)\u001b[39m: \u001b[34mPending...\u001b[39m\n",
            "\u001b[1A\u001b[0J  \u001b[34;1m-\u001b[39;22m \u001b[39mDowngrading \u001b[39m\u001b[36mpyparsing\u001b[39m\u001b[39m (\u001b[39m\u001b[39;1m3.2.3\u001b[39;22m\u001b[39m -> \u001b[39m\u001b[39;1m3.1.4\u001b[39;22m\u001b[39m)\u001b[39m: \u001b[34mDownloading...\u001b[39m \u001b[39;1m0%\u001b[39;22m\n",
            "\u001b[1A\u001b[0J  \u001b[34;1m-\u001b[39;22m \u001b[39mDowngrading \u001b[39m\u001b[36mpyparsing\u001b[39m\u001b[39m (\u001b[39m\u001b[39;1m3.2.3\u001b[39;22m\u001b[39m -> \u001b[39m\u001b[39;1m3.1.4\u001b[39;22m\u001b[39m)\u001b[39m: \u001b[34mDownloading...\u001b[39m \u001b[39;1m100%\u001b[39;22m\n",
            "\u001b[1A\u001b[0J  \u001b[34;1m-\u001b[39;22m \u001b[39mDowngrading \u001b[39m\u001b[36mpyparsing\u001b[39m\u001b[39m (\u001b[39m\u001b[39;1m3.2.3\u001b[39;22m\u001b[39m -> \u001b[39m\u001b[39;1m3.1.4\u001b[39;22m\u001b[39m)\u001b[39m: \u001b[34mInstalling...\u001b[39m\n",
            "\u001b[10A\u001b[0J  \u001b[32;1m-\u001b[39;22m \u001b[39mDowngrading \u001b[39m\u001b[36mcycler\u001b[39m\u001b[39m (\u001b[39m\u001b[39;1m0.12.1\u001b[39;22m\u001b[39m -> \u001b[39m\u001b[32m0.11.0\u001b[39m\u001b[39m)\u001b[39m\n",
            "  \u001b[34;1m-\u001b[39;22m \u001b[39mDowngrading \u001b[39m\u001b[36mfonttools\u001b[39m\u001b[39m (\u001b[39m\u001b[39;1m4.57.0\u001b[39;22m\u001b[39m -> \u001b[39m\u001b[39;1m4.38.0\u001b[39;22m\u001b[39m)\u001b[39m: \u001b[34mInstalling...\u001b[39m\n",
            "  \u001b[32;1m-\u001b[39;22m \u001b[39mInstalling \u001b[39m\u001b[36mjupyter-server-ydoc\u001b[39m\u001b[39m (\u001b[39m\u001b[32m0.8.0\u001b[39m\u001b[39m)\u001b[39m\n",
            "  \u001b[32;1m-\u001b[39;22m \u001b[39mInstalling \u001b[39m\u001b[36mjupyterlab-server\u001b[39m\u001b[39m (\u001b[39m\u001b[32m2.24.0\u001b[39m\u001b[39m)\u001b[39m\n",
            "  \u001b[32;1m-\u001b[39;22m \u001b[39mDowngrading \u001b[39m\u001b[36mjupyterlab-widgets\u001b[39m\u001b[39m (\u001b[39m\u001b[39;1m3.0.14\u001b[39;22m\u001b[39m -> \u001b[39m\u001b[32m3.0.13\u001b[39m\u001b[39m)\u001b[39m\n",
            "  \u001b[34;1m-\u001b[39;22m \u001b[39mDowngrading \u001b[39m\u001b[36mkiwisolver\u001b[39m\u001b[39m (\u001b[39m\u001b[39;1m1.4.8\u001b[39;22m\u001b[39m -> \u001b[39m\u001b[39;1m1.4.5\u001b[39;22m\u001b[39m)\u001b[39m: \u001b[34mInstalling...\u001b[39m\n",
            "  \u001b[34;1m-\u001b[39;22m \u001b[39mDowngrading \u001b[39m\u001b[36mpandas\u001b[39m\u001b[39m (\u001b[39m\u001b[39;1m2.0.3\u001b[39;22m\u001b[39m -> \u001b[39m\u001b[39;1m1.5.3\u001b[39;22m\u001b[39m)\u001b[39m: \u001b[34mInstalling...\u001b[39m\n",
            "  \u001b[34;1m-\u001b[39;22m \u001b[39mDowngrading \u001b[39m\u001b[36mpillow\u001b[39m\u001b[39m (\u001b[39m\u001b[39;1m11.2.1\u001b[39;22m\u001b[39m -> \u001b[39m\u001b[39;1m9.5.0\u001b[39;22m\u001b[39m)\u001b[39m: \u001b[34mInstalling...\u001b[39m\n",
            "  \u001b[34;1m-\u001b[39;22m \u001b[39mDowngrading \u001b[39m\u001b[36mpyparsing\u001b[39m\u001b[39m (\u001b[39m\u001b[39;1m3.2.3\u001b[39;22m\u001b[39m -> \u001b[39m\u001b[39;1m3.1.4\u001b[39;22m\u001b[39m)\u001b[39m: \u001b[34mInstalling...\u001b[39m\n",
            "\u001b[9A\u001b[0J  \u001b[32;1m-\u001b[39;22m \u001b[39mDowngrading \u001b[39m\u001b[36mcontourpy\u001b[39m\u001b[39m (\u001b[39m\u001b[39;1m1.3.2\u001b[39;22m\u001b[39m -> \u001b[39m\u001b[32m1.3.1\u001b[39m\u001b[39m)\u001b[39m\n",
            "  \u001b[32;1m-\u001b[39;22m \u001b[39mDowngrading \u001b[39m\u001b[36mcycler\u001b[39m\u001b[39m (\u001b[39m\u001b[39;1m0.12.1\u001b[39;22m\u001b[39m -> \u001b[39m\u001b[32m0.11.0\u001b[39m\u001b[39m)\u001b[39m\n",
            "  \u001b[34;1m-\u001b[39;22m \u001b[39mDowngrading \u001b[39m\u001b[36mfonttools\u001b[39m\u001b[39m (\u001b[39m\u001b[39;1m4.57.0\u001b[39;22m\u001b[39m -> \u001b[39m\u001b[39;1m4.38.0\u001b[39;22m\u001b[39m)\u001b[39m: \u001b[34mInstalling...\u001b[39m\n",
            "  \u001b[32;1m-\u001b[39;22m \u001b[39mInstalling \u001b[39m\u001b[36mjupyter-server-ydoc\u001b[39m\u001b[39m (\u001b[39m\u001b[32m0.8.0\u001b[39m\u001b[39m)\u001b[39m\n",
            "  \u001b[32;1m-\u001b[39;22m \u001b[39mInstalling \u001b[39m\u001b[36mjupyterlab-server\u001b[39m\u001b[39m (\u001b[39m\u001b[32m2.24.0\u001b[39m\u001b[39m)\u001b[39m\n",
            "  \u001b[32;1m-\u001b[39;22m \u001b[39mDowngrading \u001b[39m\u001b[36mjupyterlab-widgets\u001b[39m\u001b[39m (\u001b[39m\u001b[39;1m3.0.14\u001b[39;22m\u001b[39m -> \u001b[39m\u001b[32m3.0.13\u001b[39m\u001b[39m)\u001b[39m\n",
            "  \u001b[34;1m-\u001b[39;22m \u001b[39mDowngrading \u001b[39m\u001b[36mkiwisolver\u001b[39m\u001b[39m (\u001b[39m\u001b[39;1m1.4.8\u001b[39;22m\u001b[39m -> \u001b[39m\u001b[39;1m1.4.5\u001b[39;22m\u001b[39m)\u001b[39m: \u001b[34mInstalling...\u001b[39m\n",
            "  \u001b[34;1m-\u001b[39;22m \u001b[39mDowngrading \u001b[39m\u001b[36mpandas\u001b[39m\u001b[39m (\u001b[39m\u001b[39;1m2.0.3\u001b[39;22m\u001b[39m -> \u001b[39m\u001b[39;1m1.5.3\u001b[39;22m\u001b[39m)\u001b[39m: \u001b[34mInstalling...\u001b[39m\n",
            "  \u001b[34;1m-\u001b[39;22m \u001b[39mDowngrading \u001b[39m\u001b[36mpillow\u001b[39m\u001b[39m (\u001b[39m\u001b[39;1m11.2.1\u001b[39;22m\u001b[39m -> \u001b[39m\u001b[39;1m9.5.0\u001b[39;22m\u001b[39m)\u001b[39m: \u001b[34mInstalling...\u001b[39m\n",
            "  \u001b[34;1m-\u001b[39;22m \u001b[39mDowngrading \u001b[39m\u001b[36mpyparsing\u001b[39m\u001b[39m (\u001b[39m\u001b[39;1m3.2.3\u001b[39;22m\u001b[39m -> \u001b[39m\u001b[39;1m3.1.4\u001b[39;22m\u001b[39m)\u001b[39m: \u001b[34mInstalling...\u001b[39m\n",
            "  \u001b[34;1m-\u001b[39;22m \u001b[39mUpdating \u001b[39m\u001b[36mwidgetsnbextension\u001b[39m\u001b[39m (\u001b[39m\u001b[39;1m3.6.10\u001b[39;22m\u001b[39m -> \u001b[39m\u001b[39;1m4.0.13\u001b[39;22m\u001b[39m)\u001b[39m: \u001b[34mPending...\u001b[39m\n",
            "\u001b[1A\u001b[0J  \u001b[34;1m-\u001b[39;22m \u001b[39mUpdating \u001b[39m\u001b[36mwidgetsnbextension\u001b[39m\u001b[39m (\u001b[39m\u001b[39;1m3.6.10\u001b[39;22m\u001b[39m -> \u001b[39m\u001b[39;1m4.0.13\u001b[39;22m\u001b[39m)\u001b[39m: \u001b[34mDownloading...\u001b[39m \u001b[39;1m0%\u001b[39;22m\n",
            "\u001b[1A\u001b[0J  \u001b[34;1m-\u001b[39;22m \u001b[39mUpdating \u001b[39m\u001b[36mwidgetsnbextension\u001b[39m\u001b[39m (\u001b[39m\u001b[39;1m3.6.10\u001b[39;22m\u001b[39m -> \u001b[39m\u001b[39;1m4.0.13\u001b[39;22m\u001b[39m)\u001b[39m: \u001b[34mDownloading...\u001b[39m \u001b[39;1m100%\u001b[39;22m\n",
            "\u001b[1A\u001b[0J  \u001b[34;1m-\u001b[39;22m \u001b[39mUpdating \u001b[39m\u001b[36mwidgetsnbextension\u001b[39m\u001b[39m (\u001b[39m\u001b[39;1m3.6.10\u001b[39;22m\u001b[39m -> \u001b[39m\u001b[39;1m4.0.13\u001b[39;22m\u001b[39m)\u001b[39m: \u001b[34mInstalling...\u001b[39m\n",
            "\u001b[5A\u001b[0J  \u001b[34;1m-\u001b[39;22m \u001b[39mDowngrading \u001b[39m\u001b[36mpandas\u001b[39m\u001b[39m (\u001b[39m\u001b[39;1m2.0.3\u001b[39;22m\u001b[39m -> \u001b[39m\u001b[39;1m1.5.3\u001b[39;22m\u001b[39m)\u001b[39m: \u001b[34mInstalling...\u001b[39m\n",
            "  \u001b[34;1m-\u001b[39;22m \u001b[39mDowngrading \u001b[39m\u001b[36mpillow\u001b[39m\u001b[39m (\u001b[39m\u001b[39;1m11.2.1\u001b[39;22m\u001b[39m -> \u001b[39m\u001b[39;1m9.5.0\u001b[39;22m\u001b[39m)\u001b[39m: \u001b[34mInstalling...\u001b[39m\n",
            "  \u001b[34;1m-\u001b[39;22m \u001b[39mDowngrading \u001b[39m\u001b[36mpyparsing\u001b[39m\u001b[39m (\u001b[39m\u001b[39;1m3.2.3\u001b[39;22m\u001b[39m -> \u001b[39m\u001b[39;1m3.1.4\u001b[39;22m\u001b[39m)\u001b[39m: \u001b[34mInstalling...\u001b[39m\n",
            "  \u001b[34;1m-\u001b[39;22m \u001b[39mUpdating \u001b[39m\u001b[36mwidgetsnbextension\u001b[39m\u001b[39m (\u001b[39m\u001b[39;1m3.6.10\u001b[39;22m\u001b[39m -> \u001b[39m\u001b[39;1m4.0.13\u001b[39;22m\u001b[39m)\u001b[39m: \u001b[34mInstalling...\u001b[39m\n",
            "\u001b[4A\u001b[0J  \u001b[32;1m-\u001b[39;22m \u001b[39mDowngrading \u001b[39m\u001b[36mkiwisolver\u001b[39m\u001b[39m (\u001b[39m\u001b[39;1m1.4.8\u001b[39;22m\u001b[39m -> \u001b[39m\u001b[32m1.4.5\u001b[39m\u001b[39m)\u001b[39m\n",
            "  \u001b[34;1m-\u001b[39;22m \u001b[39mDowngrading \u001b[39m\u001b[36mpandas\u001b[39m\u001b[39m (\u001b[39m\u001b[39;1m2.0.3\u001b[39;22m\u001b[39m -> \u001b[39m\u001b[39;1m1.5.3\u001b[39;22m\u001b[39m)\u001b[39m: \u001b[34mInstalling...\u001b[39m\n",
            "  \u001b[34;1m-\u001b[39;22m \u001b[39mDowngrading \u001b[39m\u001b[36mpillow\u001b[39m\u001b[39m (\u001b[39m\u001b[39;1m11.2.1\u001b[39;22m\u001b[39m -> \u001b[39m\u001b[39;1m9.5.0\u001b[39;22m\u001b[39m)\u001b[39m: \u001b[34mInstalling...\u001b[39m\n",
            "  \u001b[34;1m-\u001b[39;22m \u001b[39mDowngrading \u001b[39m\u001b[36mpyparsing\u001b[39m\u001b[39m (\u001b[39m\u001b[39;1m3.2.3\u001b[39;22m\u001b[39m -> \u001b[39m\u001b[39;1m3.1.4\u001b[39;22m\u001b[39m)\u001b[39m: \u001b[34mInstalling...\u001b[39m\n",
            "  \u001b[34;1m-\u001b[39;22m \u001b[39mUpdating \u001b[39m\u001b[36mwidgetsnbextension\u001b[39m\u001b[39m (\u001b[39m\u001b[39;1m3.6.10\u001b[39;22m\u001b[39m -> \u001b[39m\u001b[39;1m4.0.13\u001b[39;22m\u001b[39m)\u001b[39m: \u001b[34mInstalling...\u001b[39m\n",
            "\u001b[9A\u001b[0J  \u001b[32;1m-\u001b[39;22m \u001b[39mInstalling \u001b[39m\u001b[36mjupyter-server-ydoc\u001b[39m\u001b[39m (\u001b[39m\u001b[32m0.8.0\u001b[39m\u001b[39m)\u001b[39m\n",
            "  \u001b[32;1m-\u001b[39;22m \u001b[39mInstalling \u001b[39m\u001b[36mjupyterlab-server\u001b[39m\u001b[39m (\u001b[39m\u001b[32m2.24.0\u001b[39m\u001b[39m)\u001b[39m\n",
            "  \u001b[32;1m-\u001b[39;22m \u001b[39mDowngrading \u001b[39m\u001b[36mjupyterlab-widgets\u001b[39m\u001b[39m (\u001b[39m\u001b[39;1m3.0.14\u001b[39;22m\u001b[39m -> \u001b[39m\u001b[32m3.0.13\u001b[39m\u001b[39m)\u001b[39m\n",
            "  \u001b[32;1m-\u001b[39;22m \u001b[39mDowngrading \u001b[39m\u001b[36mkiwisolver\u001b[39m\u001b[39m (\u001b[39m\u001b[39;1m1.4.8\u001b[39;22m\u001b[39m -> \u001b[39m\u001b[32m1.4.5\u001b[39m\u001b[39m)\u001b[39m\n",
            "  \u001b[34;1m-\u001b[39;22m \u001b[39mDowngrading \u001b[39m\u001b[36mpandas\u001b[39m\u001b[39m (\u001b[39m\u001b[39;1m2.0.3\u001b[39;22m\u001b[39m -> \u001b[39m\u001b[39;1m1.5.3\u001b[39;22m\u001b[39m)\u001b[39m: \u001b[34mInstalling...\u001b[39m\n",
            "  \u001b[34;1m-\u001b[39;22m \u001b[39mDowngrading \u001b[39m\u001b[36mpillow\u001b[39m\u001b[39m (\u001b[39m\u001b[39;1m11.2.1\u001b[39;22m\u001b[39m -> \u001b[39m\u001b[39;1m9.5.0\u001b[39;22m\u001b[39m)\u001b[39m: \u001b[34mInstalling...\u001b[39m\n",
            "  \u001b[34;1m-\u001b[39;22m \u001b[39mDowngrading \u001b[39m\u001b[36mpyparsing\u001b[39m\u001b[39m (\u001b[39m\u001b[39;1m3.2.3\u001b[39;22m\u001b[39m -> \u001b[39m\u001b[39;1m3.1.4\u001b[39;22m\u001b[39m)\u001b[39m: \u001b[34mInstalling...\u001b[39m\n",
            "  \u001b[34;1m-\u001b[39;22m \u001b[39mUpdating \u001b[39m\u001b[36mwidgetsnbextension\u001b[39m\u001b[39m (\u001b[39m\u001b[39;1m3.6.10\u001b[39;22m\u001b[39m -> \u001b[39m\u001b[39;1m4.0.13\u001b[39;22m\u001b[39m)\u001b[39m: \u001b[34mInstalling...\u001b[39m\n",
            "\u001b[8A\u001b[0J  \u001b[32;1m-\u001b[39;22m \u001b[39mDowngrading \u001b[39m\u001b[36mfonttools\u001b[39m\u001b[39m (\u001b[39m\u001b[39;1m4.57.0\u001b[39;22m\u001b[39m -> \u001b[39m\u001b[32m4.38.0\u001b[39m\u001b[39m)\u001b[39m\n",
            "  \u001b[32;1m-\u001b[39;22m \u001b[39mInstalling \u001b[39m\u001b[36mjupyter-server-ydoc\u001b[39m\u001b[39m (\u001b[39m\u001b[32m0.8.0\u001b[39m\u001b[39m)\u001b[39m\n",
            "  \u001b[32;1m-\u001b[39;22m \u001b[39mInstalling \u001b[39m\u001b[36mjupyterlab-server\u001b[39m\u001b[39m (\u001b[39m\u001b[32m2.24.0\u001b[39m\u001b[39m)\u001b[39m\n",
            "  \u001b[32;1m-\u001b[39;22m \u001b[39mDowngrading \u001b[39m\u001b[36mjupyterlab-widgets\u001b[39m\u001b[39m (\u001b[39m\u001b[39;1m3.0.14\u001b[39;22m\u001b[39m -> \u001b[39m\u001b[32m3.0.13\u001b[39m\u001b[39m)\u001b[39m\n",
            "  \u001b[32;1m-\u001b[39;22m \u001b[39mDowngrading \u001b[39m\u001b[36mkiwisolver\u001b[39m\u001b[39m (\u001b[39m\u001b[39;1m1.4.8\u001b[39;22m\u001b[39m -> \u001b[39m\u001b[32m1.4.5\u001b[39m\u001b[39m)\u001b[39m\n",
            "  \u001b[34;1m-\u001b[39;22m \u001b[39mDowngrading \u001b[39m\u001b[36mpandas\u001b[39m\u001b[39m (\u001b[39m\u001b[39;1m2.0.3\u001b[39;22m\u001b[39m -> \u001b[39m\u001b[39;1m1.5.3\u001b[39;22m\u001b[39m)\u001b[39m: \u001b[34mInstalling...\u001b[39m\n",
            "  \u001b[34;1m-\u001b[39;22m \u001b[39mDowngrading \u001b[39m\u001b[36mpillow\u001b[39m\u001b[39m (\u001b[39m\u001b[39;1m11.2.1\u001b[39;22m\u001b[39m -> \u001b[39m\u001b[39;1m9.5.0\u001b[39;22m\u001b[39m)\u001b[39m: \u001b[34mInstalling...\u001b[39m\n",
            "  \u001b[34;1m-\u001b[39;22m \u001b[39mDowngrading \u001b[39m\u001b[36mpyparsing\u001b[39m\u001b[39m (\u001b[39m\u001b[39;1m3.2.3\u001b[39;22m\u001b[39m -> \u001b[39m\u001b[39;1m3.1.4\u001b[39;22m\u001b[39m)\u001b[39m: \u001b[34mInstalling...\u001b[39m\n",
            "  \u001b[34;1m-\u001b[39;22m \u001b[39mUpdating \u001b[39m\u001b[36mwidgetsnbextension\u001b[39m\u001b[39m (\u001b[39m\u001b[39;1m3.6.10\u001b[39;22m\u001b[39m -> \u001b[39m\u001b[39;1m4.0.13\u001b[39;22m\u001b[39m)\u001b[39m: \u001b[34mInstalling...\u001b[39m\n",
            "\u001b[4A\u001b[0J  \u001b[34;1m-\u001b[39;22m \u001b[39mDowngrading \u001b[39m\u001b[36mpillow\u001b[39m\u001b[39m (\u001b[39m\u001b[39;1m11.2.1\u001b[39;22m\u001b[39m -> \u001b[39m\u001b[39;1m9.5.0\u001b[39;22m\u001b[39m)\u001b[39m: \u001b[34mInstalling...\u001b[39m\n",
            "  \u001b[34;1m-\u001b[39;22m \u001b[39mDowngrading \u001b[39m\u001b[36mpyparsing\u001b[39m\u001b[39m (\u001b[39m\u001b[39;1m3.2.3\u001b[39;22m\u001b[39m -> \u001b[39m\u001b[39;1m3.1.4\u001b[39;22m\u001b[39m)\u001b[39m: \u001b[34mInstalling...\u001b[39m\n",
            "  \u001b[34;1m-\u001b[39;22m \u001b[39mUpdating \u001b[39m\u001b[36mwidgetsnbextension\u001b[39m\u001b[39m (\u001b[39m\u001b[39;1m3.6.10\u001b[39;22m\u001b[39m -> \u001b[39m\u001b[39;1m4.0.13\u001b[39;22m\u001b[39m)\u001b[39m: \u001b[34mInstalling...\u001b[39m\n",
            "\u001b[3A\u001b[0J  \u001b[32;1m-\u001b[39;22m \u001b[39mDowngrading \u001b[39m\u001b[36mpandas\u001b[39m\u001b[39m (\u001b[39m\u001b[39;1m2.0.3\u001b[39;22m\u001b[39m -> \u001b[39m\u001b[32m1.5.3\u001b[39m\u001b[39m)\u001b[39m\n",
            "  \u001b[34;1m-\u001b[39;22m \u001b[39mDowngrading \u001b[39m\u001b[36mpillow\u001b[39m\u001b[39m (\u001b[39m\u001b[39;1m11.2.1\u001b[39;22m\u001b[39m -> \u001b[39m\u001b[39;1m9.5.0\u001b[39;22m\u001b[39m)\u001b[39m: \u001b[34mInstalling...\u001b[39m\n",
            "  \u001b[34;1m-\u001b[39;22m \u001b[39mDowngrading \u001b[39m\u001b[36mpyparsing\u001b[39m\u001b[39m (\u001b[39m\u001b[39;1m3.2.3\u001b[39;22m\u001b[39m -> \u001b[39m\u001b[39;1m3.1.4\u001b[39;22m\u001b[39m)\u001b[39m: \u001b[34mInstalling...\u001b[39m\n",
            "  \u001b[34;1m-\u001b[39;22m \u001b[39mUpdating \u001b[39m\u001b[36mwidgetsnbextension\u001b[39m\u001b[39m (\u001b[39m\u001b[39;1m3.6.10\u001b[39;22m\u001b[39m -> \u001b[39m\u001b[39;1m4.0.13\u001b[39;22m\u001b[39m)\u001b[39m: \u001b[34mInstalling...\u001b[39m\n",
            "\u001b[1A\u001b[0J  \u001b[32;1m-\u001b[39;22m \u001b[39mUpdating \u001b[39m\u001b[36mwidgetsnbextension\u001b[39m\u001b[39m (\u001b[39m\u001b[39;1m3.6.10\u001b[39;22m\u001b[39m -> \u001b[39m\u001b[32m4.0.13\u001b[39m\u001b[39m)\u001b[39m\n",
            "\u001b[2A\u001b[0J  \u001b[32;1m-\u001b[39;22m \u001b[39mUpdating \u001b[39m\u001b[36mwidgetsnbextension\u001b[39m\u001b[39m (\u001b[39m\u001b[39;1m3.6.10\u001b[39;22m\u001b[39m -> \u001b[39m\u001b[32m4.0.13\u001b[39m\u001b[39m)\u001b[39m\n",
            "\u001b[1A\u001b[0J  \u001b[32;1m-\u001b[39;22m \u001b[39mDowngrading \u001b[39m\u001b[36mpyparsing\u001b[39m\u001b[39m (\u001b[39m\u001b[39;1m3.2.3\u001b[39;22m\u001b[39m -> \u001b[39m\u001b[32m3.1.4\u001b[39m\u001b[39m)\u001b[39m\n",
            "  \u001b[32;1m-\u001b[39;22m \u001b[39mUpdating \u001b[39m\u001b[36mwidgetsnbextension\u001b[39m\u001b[39m (\u001b[39m\u001b[39;1m3.6.10\u001b[39;22m\u001b[39m -> \u001b[39m\u001b[32m4.0.13\u001b[39m\u001b[39m)\u001b[39m\n",
            "\u001b[3A\u001b[0J  \u001b[32;1m-\u001b[39;22m \u001b[39mDowngrading \u001b[39m\u001b[36mpyparsing\u001b[39m\u001b[39m (\u001b[39m\u001b[39;1m3.2.3\u001b[39;22m\u001b[39m -> \u001b[39m\u001b[32m3.1.4\u001b[39m\u001b[39m)\u001b[39m\n",
            "  \u001b[32;1m-\u001b[39;22m \u001b[39mUpdating \u001b[39m\u001b[36mwidgetsnbextension\u001b[39m\u001b[39m (\u001b[39m\u001b[39;1m3.6.10\u001b[39;22m\u001b[39m -> \u001b[39m\u001b[32m4.0.13\u001b[39m\u001b[39m)\u001b[39m\n",
            "\u001b[2A\u001b[0J  \u001b[32;1m-\u001b[39;22m \u001b[39mDowngrading \u001b[39m\u001b[36mpillow\u001b[39m\u001b[39m (\u001b[39m\u001b[39;1m11.2.1\u001b[39;22m\u001b[39m -> \u001b[39m\u001b[32m9.5.0\u001b[39m\u001b[39m)\u001b[39m\n",
            "  \u001b[32;1m-\u001b[39;22m \u001b[39mDowngrading \u001b[39m\u001b[36mpyparsing\u001b[39m\u001b[39m (\u001b[39m\u001b[39;1m3.2.3\u001b[39;22m\u001b[39m -> \u001b[39m\u001b[32m3.1.4\u001b[39m\u001b[39m)\u001b[39m\n",
            "  \u001b[32;1m-\u001b[39;22m \u001b[39mUpdating \u001b[39m\u001b[36mwidgetsnbextension\u001b[39m\u001b[39m (\u001b[39m\u001b[39;1m3.6.10\u001b[39;22m\u001b[39m -> \u001b[39m\u001b[32m4.0.13\u001b[39m\u001b[39m)\u001b[39m\n",
            "  \u001b[34;1m-\u001b[39;22m \u001b[39mDowngrading \u001b[39m\u001b[36met-xmlfile\u001b[39m\u001b[39m (\u001b[39m\u001b[39;1m2.0.0\u001b[39;22m\u001b[39m -> \u001b[39m\u001b[39;1m1.1.0\u001b[39;22m\u001b[39m)\u001b[39m: \u001b[34mPending...\u001b[39m\n",
            "  \u001b[34;1m-\u001b[39;22m \u001b[39mUpdating \u001b[39m\u001b[36mipywidgets\u001b[39m\u001b[39m (\u001b[39m\u001b[39;1m7.7.1\u001b[39;22m\u001b[39m -> \u001b[39m\u001b[39;1m8.1.5\u001b[39;22m\u001b[39m)\u001b[39m: \u001b[34mPending...\u001b[39m\n",
            "  \u001b[34;1m-\u001b[39;22m \u001b[39mDowngrading \u001b[39m\u001b[36mjoblib\u001b[39m\u001b[39m (\u001b[39m\u001b[39;1m1.4.2\u001b[39;22m\u001b[39m -> \u001b[39m\u001b[39;1m1.3.2\u001b[39;22m\u001b[39m)\u001b[39m: \u001b[34mPending...\u001b[39m\n",
            "  \u001b[34;1m-\u001b[39;22m \u001b[39mUpdating \u001b[39m\u001b[36mjupyter-console\u001b[39m\u001b[39m (\u001b[39m\u001b[39;1m6.1.0\u001b[39;22m\u001b[39m -> \u001b[39m\u001b[39;1m6.6.3\u001b[39;22m\u001b[39m)\u001b[39m: \u001b[34mPending...\u001b[39m\n",
            "  \u001b[34;1m-\u001b[39;22m \u001b[39mInstalling \u001b[39m\u001b[36mjupyterlab\u001b[39m\u001b[39m (\u001b[39m\u001b[39;1m3.6.8\u001b[39;22m\u001b[39m)\u001b[39m: \u001b[34mPending...\u001b[39m\n",
            "  \u001b[34;1m-\u001b[39;22m \u001b[39mDowngrading \u001b[39m\u001b[36mpyproj\u001b[39m\u001b[39m (\u001b[39m\u001b[39;1m3.7.1\u001b[39;22m\u001b[39m -> \u001b[39m\u001b[39;1m3.7.0\u001b[39;22m\u001b[39m)\u001b[39m: \u001b[34mPending...\u001b[39m\n",
            "\u001b[4A\u001b[0J  \u001b[34;1m-\u001b[39;22m \u001b[39mUpdating \u001b[39m\u001b[36mjupyter-console\u001b[39m\u001b[39m (\u001b[39m\u001b[39;1m6.1.0\u001b[39;22m\u001b[39m -> \u001b[39m\u001b[39;1m6.6.3\u001b[39;22m\u001b[39m)\u001b[39m: \u001b[34mPending...\u001b[39m\n",
            "  \u001b[34;1m-\u001b[39;22m \u001b[39mInstalling \u001b[39m\u001b[36mjupyterlab\u001b[39m\u001b[39m (\u001b[39m\u001b[39;1m3.6.8\u001b[39;22m\u001b[39m)\u001b[39m: \u001b[34mPending...\u001b[39m\n",
            "  \u001b[34;1m-\u001b[39;22m \u001b[39mDowngrading \u001b[39m\u001b[36mpyproj\u001b[39m\u001b[39m (\u001b[39m\u001b[39;1m3.7.1\u001b[39;22m\u001b[39m -> \u001b[39m\u001b[39;1m3.7.0\u001b[39;22m\u001b[39m)\u001b[39m: \u001b[34mPending...\u001b[39m\n",
            "\u001b[3A\u001b[0J  \u001b[34;1m-\u001b[39;22m \u001b[39mDowngrading \u001b[39m\u001b[36mjoblib\u001b[39m\u001b[39m (\u001b[39m\u001b[39;1m1.4.2\u001b[39;22m\u001b[39m -> \u001b[39m\u001b[39;1m1.3.2\u001b[39;22m\u001b[39m)\u001b[39m: \u001b[34mDownloading...\u001b[39m \u001b[39;1m0%\u001b[39;22m\n",
            "  \u001b[34;1m-\u001b[39;22m \u001b[39mUpdating \u001b[39m\u001b[36mjupyter-console\u001b[39m\u001b[39m (\u001b[39m\u001b[39;1m6.1.0\u001b[39;22m\u001b[39m -> \u001b[39m\u001b[39;1m6.6.3\u001b[39;22m\u001b[39m)\u001b[39m: \u001b[34mPending...\u001b[39m\n",
            "  \u001b[34;1m-\u001b[39;22m \u001b[39mInstalling \u001b[39m\u001b[36mjupyterlab\u001b[39m\u001b[39m (\u001b[39m\u001b[39;1m3.6.8\u001b[39;22m\u001b[39m)\u001b[39m: \u001b[34mPending...\u001b[39m\n",
            "  \u001b[34;1m-\u001b[39;22m \u001b[39mDowngrading \u001b[39m\u001b[36mpyproj\u001b[39m\u001b[39m (\u001b[39m\u001b[39;1m3.7.1\u001b[39;22m\u001b[39m -> \u001b[39m\u001b[39;1m3.7.0\u001b[39;22m\u001b[39m)\u001b[39m: \u001b[34mPending...\u001b[39m\n",
            "\u001b[6A\u001b[0J  \u001b[34;1m-\u001b[39;22m \u001b[39mUpdating \u001b[39m\u001b[36mipywidgets\u001b[39m\u001b[39m (\u001b[39m\u001b[39;1m7.7.1\u001b[39;22m\u001b[39m -> \u001b[39m\u001b[39;1m8.1.5\u001b[39;22m\u001b[39m)\u001b[39m: \u001b[34mPending...\u001b[39m\n",
            "  \u001b[34;1m-\u001b[39;22m \u001b[39mDowngrading \u001b[39m\u001b[36mjoblib\u001b[39m\u001b[39m (\u001b[39m\u001b[39;1m1.4.2\u001b[39;22m\u001b[39m -> \u001b[39m\u001b[39;1m1.3.2\u001b[39;22m\u001b[39m)\u001b[39m: \u001b[34mDownloading...\u001b[39m \u001b[39;1m0%\u001b[39;22m\n",
            "  \u001b[34;1m-\u001b[39;22m \u001b[39mUpdating \u001b[39m\u001b[36mjupyter-console\u001b[39m\u001b[39m (\u001b[39m\u001b[39;1m6.1.0\u001b[39;22m\u001b[39m -> \u001b[39m\u001b[39;1m6.6.3\u001b[39;22m\u001b[39m)\u001b[39m: \u001b[34mPending...\u001b[39m\n",
            "  \u001b[34;1m-\u001b[39;22m \u001b[39mInstalling \u001b[39m\u001b[36mjupyterlab\u001b[39m\u001b[39m (\u001b[39m\u001b[39;1m3.6.8\u001b[39;22m\u001b[39m)\u001b[39m: \u001b[34mPending...\u001b[39m\n",
            "  \u001b[34;1m-\u001b[39;22m \u001b[39mDowngrading \u001b[39m\u001b[36mpyproj\u001b[39m\u001b[39m (\u001b[39m\u001b[39;1m3.7.1\u001b[39;22m\u001b[39m -> \u001b[39m\u001b[39;1m3.7.0\u001b[39;22m\u001b[39m)\u001b[39m: \u001b[34mPending...\u001b[39m\n",
            "\u001b[5A\u001b[0J  \u001b[34;1m-\u001b[39;22m \u001b[39mDowngrading \u001b[39m\u001b[36met-xmlfile\u001b[39m\u001b[39m (\u001b[39m\u001b[39;1m2.0.0\u001b[39;22m\u001b[39m -> \u001b[39m\u001b[39;1m1.1.0\u001b[39;22m\u001b[39m)\u001b[39m: \u001b[34mDownloading...\u001b[39m \u001b[39;1m0%\u001b[39;22m\n",
            "  \u001b[34;1m-\u001b[39;22m \u001b[39mUpdating \u001b[39m\u001b[36mipywidgets\u001b[39m\u001b[39m (\u001b[39m\u001b[39;1m7.7.1\u001b[39;22m\u001b[39m -> \u001b[39m\u001b[39;1m8.1.5\u001b[39;22m\u001b[39m)\u001b[39m: \u001b[34mPending...\u001b[39m\n",
            "  \u001b[34;1m-\u001b[39;22m \u001b[39mDowngrading \u001b[39m\u001b[36mjoblib\u001b[39m\u001b[39m (\u001b[39m\u001b[39;1m1.4.2\u001b[39;22m\u001b[39m -> \u001b[39m\u001b[39;1m1.3.2\u001b[39;22m\u001b[39m)\u001b[39m: \u001b[34mDownloading...\u001b[39m \u001b[39;1m0%\u001b[39;22m\n",
            "  \u001b[34;1m-\u001b[39;22m \u001b[39mUpdating \u001b[39m\u001b[36mjupyter-console\u001b[39m\u001b[39m (\u001b[39m\u001b[39;1m6.1.0\u001b[39;22m\u001b[39m -> \u001b[39m\u001b[39;1m6.6.3\u001b[39;22m\u001b[39m)\u001b[39m: \u001b[34mPending...\u001b[39m\n",
            "  \u001b[34;1m-\u001b[39;22m \u001b[39mInstalling \u001b[39m\u001b[36mjupyterlab\u001b[39m\u001b[39m (\u001b[39m\u001b[39;1m3.6.8\u001b[39;22m\u001b[39m)\u001b[39m: \u001b[34mPending...\u001b[39m\n",
            "  \u001b[34;1m-\u001b[39;22m \u001b[39mDowngrading \u001b[39m\u001b[36mpyproj\u001b[39m\u001b[39m (\u001b[39m\u001b[39;1m3.7.1\u001b[39;22m\u001b[39m -> \u001b[39m\u001b[39;1m3.7.0\u001b[39;22m\u001b[39m)\u001b[39m: \u001b[34mPending...\u001b[39m\n",
            "\u001b[2A\u001b[0J  \u001b[34;1m-\u001b[39;22m \u001b[39mDowngrading \u001b[39m\u001b[36mpyproj\u001b[39m\u001b[39m (\u001b[39m\u001b[39;1m3.7.1\u001b[39;22m\u001b[39m -> \u001b[39m\u001b[39;1m3.7.0\u001b[39;22m\u001b[39m)\u001b[39m: \u001b[34mPending...\u001b[39m\n",
            "\u001b[1A\u001b[0J  \u001b[34;1m-\u001b[39;22m \u001b[39mInstalling \u001b[39m\u001b[36mjupyterlab\u001b[39m\u001b[39m (\u001b[39m\u001b[39;1m3.6.8\u001b[39;22m\u001b[39m)\u001b[39m: \u001b[34mDownloading...\u001b[39m \u001b[39;1m0%\u001b[39;22m\n",
            "  \u001b[34;1m-\u001b[39;22m \u001b[39mDowngrading \u001b[39m\u001b[36mpyproj\u001b[39m\u001b[39m (\u001b[39m\u001b[39;1m3.7.1\u001b[39;22m\u001b[39m -> \u001b[39m\u001b[39;1m3.7.0\u001b[39;22m\u001b[39m)\u001b[39m: \u001b[34mPending...\u001b[39m\n",
            "\u001b[3A\u001b[0J  \u001b[34;1m-\u001b[39;22m \u001b[39mInstalling \u001b[39m\u001b[36mjupyterlab\u001b[39m\u001b[39m (\u001b[39m\u001b[39;1m3.6.8\u001b[39;22m\u001b[39m)\u001b[39m: \u001b[34mDownloading...\u001b[39m \u001b[39;1m0%\u001b[39;22m\n",
            "  \u001b[34;1m-\u001b[39;22m \u001b[39mDowngrading \u001b[39m\u001b[36mpyproj\u001b[39m\u001b[39m (\u001b[39m\u001b[39;1m3.7.1\u001b[39;22m\u001b[39m -> \u001b[39m\u001b[39;1m3.7.0\u001b[39;22m\u001b[39m)\u001b[39m: \u001b[34mPending...\u001b[39m\n",
            "\u001b[2A\u001b[0J  \u001b[34;1m-\u001b[39;22m \u001b[39mUpdating \u001b[39m\u001b[36mjupyter-console\u001b[39m\u001b[39m (\u001b[39m\u001b[39;1m6.1.0\u001b[39;22m\u001b[39m -> \u001b[39m\u001b[39;1m6.6.3\u001b[39;22m\u001b[39m)\u001b[39m: \u001b[34mDownloading...\u001b[39m \u001b[39;1m0%\u001b[39;22m\n",
            "  \u001b[34;1m-\u001b[39;22m \u001b[39mInstalling \u001b[39m\u001b[36mjupyterlab\u001b[39m\u001b[39m (\u001b[39m\u001b[39;1m3.6.8\u001b[39;22m\u001b[39m)\u001b[39m: \u001b[34mDownloading...\u001b[39m \u001b[39;1m0%\u001b[39;22m\n",
            "  \u001b[34;1m-\u001b[39;22m \u001b[39mDowngrading \u001b[39m\u001b[36mpyproj\u001b[39m\u001b[39m (\u001b[39m\u001b[39;1m3.7.1\u001b[39;22m\u001b[39m -> \u001b[39m\u001b[39;1m3.7.0\u001b[39;22m\u001b[39m)\u001b[39m: \u001b[34mPending...\u001b[39m\n",
            "\u001b[5A\u001b[0J  \u001b[34;1m-\u001b[39;22m \u001b[39mDowngrading \u001b[39m\u001b[36mjoblib\u001b[39m\u001b[39m (\u001b[39m\u001b[39;1m1.4.2\u001b[39;22m\u001b[39m -> \u001b[39m\u001b[39;1m1.3.2\u001b[39;22m\u001b[39m)\u001b[39m: \u001b[34mDownloading...\u001b[39m \u001b[39;1m0%\u001b[39;22m\n",
            "  \u001b[34;1m-\u001b[39;22m \u001b[39mUpdating \u001b[39m\u001b[36mjupyter-console\u001b[39m\u001b[39m (\u001b[39m\u001b[39;1m6.1.0\u001b[39;22m\u001b[39m -> \u001b[39m\u001b[39;1m6.6.3\u001b[39;22m\u001b[39m)\u001b[39m: \u001b[34mDownloading...\u001b[39m \u001b[39;1m0%\u001b[39;22m\n",
            "  \u001b[34;1m-\u001b[39;22m \u001b[39mInstalling \u001b[39m\u001b[36mjupyterlab\u001b[39m\u001b[39m (\u001b[39m\u001b[39;1m3.6.8\u001b[39;22m\u001b[39m)\u001b[39m: \u001b[34mDownloading...\u001b[39m \u001b[39;1m0%\u001b[39;22m\n",
            "  \u001b[34;1m-\u001b[39;22m \u001b[39mDowngrading \u001b[39m\u001b[36mpyproj\u001b[39m\u001b[39m (\u001b[39m\u001b[39;1m3.7.1\u001b[39;22m\u001b[39m -> \u001b[39m\u001b[39;1m3.7.0\u001b[39;22m\u001b[39m)\u001b[39m: \u001b[34mPending...\u001b[39m\n",
            "\u001b[4A\u001b[0J  \u001b[34;1m-\u001b[39;22m \u001b[39mUpdating \u001b[39m\u001b[36mipywidgets\u001b[39m\u001b[39m (\u001b[39m\u001b[39;1m7.7.1\u001b[39;22m\u001b[39m -> \u001b[39m\u001b[39;1m8.1.5\u001b[39;22m\u001b[39m)\u001b[39m: \u001b[34mDownloading...\u001b[39m \u001b[39;1m0%\u001b[39;22m\n",
            "  \u001b[34;1m-\u001b[39;22m \u001b[39mDowngrading \u001b[39m\u001b[36mjoblib\u001b[39m\u001b[39m (\u001b[39m\u001b[39;1m1.4.2\u001b[39;22m\u001b[39m -> \u001b[39m\u001b[39;1m1.3.2\u001b[39;22m\u001b[39m)\u001b[39m: \u001b[34mDownloading...\u001b[39m \u001b[39;1m0%\u001b[39;22m\n",
            "  \u001b[34;1m-\u001b[39;22m \u001b[39mUpdating \u001b[39m\u001b[36mjupyter-console\u001b[39m\u001b[39m (\u001b[39m\u001b[39;1m6.1.0\u001b[39;22m\u001b[39m -> \u001b[39m\u001b[39;1m6.6.3\u001b[39;22m\u001b[39m)\u001b[39m: \u001b[34mDownloading...\u001b[39m \u001b[39;1m0%\u001b[39;22m\n",
            "  \u001b[34;1m-\u001b[39;22m \u001b[39mInstalling \u001b[39m\u001b[36mjupyterlab\u001b[39m\u001b[39m (\u001b[39m\u001b[39;1m3.6.8\u001b[39;22m\u001b[39m)\u001b[39m: \u001b[34mDownloading...\u001b[39m \u001b[39;1m0%\u001b[39;22m\n",
            "  \u001b[34;1m-\u001b[39;22m \u001b[39mDowngrading \u001b[39m\u001b[36mpyproj\u001b[39m\u001b[39m (\u001b[39m\u001b[39;1m3.7.1\u001b[39;22m\u001b[39m -> \u001b[39m\u001b[39;1m3.7.0\u001b[39;22m\u001b[39m)\u001b[39m: \u001b[34mPending...\u001b[39m\n",
            "\u001b[6A\u001b[0J  \u001b[34;1m-\u001b[39;22m \u001b[39mUpdating \u001b[39m\u001b[36mipywidgets\u001b[39m\u001b[39m (\u001b[39m\u001b[39;1m7.7.1\u001b[39;22m\u001b[39m -> \u001b[39m\u001b[39;1m8.1.5\u001b[39;22m\u001b[39m)\u001b[39m: \u001b[34mDownloading...\u001b[39m \u001b[39;1m0%\u001b[39;22m\n",
            "  \u001b[34;1m-\u001b[39;22m \u001b[39mDowngrading \u001b[39m\u001b[36mjoblib\u001b[39m\u001b[39m (\u001b[39m\u001b[39;1m1.4.2\u001b[39;22m\u001b[39m -> \u001b[39m\u001b[39;1m1.3.2\u001b[39;22m\u001b[39m)\u001b[39m: \u001b[34mDownloading...\u001b[39m \u001b[39;1m0%\u001b[39;22m\n",
            "  \u001b[34;1m-\u001b[39;22m \u001b[39mUpdating \u001b[39m\u001b[36mjupyter-console\u001b[39m\u001b[39m (\u001b[39m\u001b[39;1m6.1.0\u001b[39;22m\u001b[39m -> \u001b[39m\u001b[39;1m6.6.3\u001b[39;22m\u001b[39m)\u001b[39m: \u001b[34mDownloading...\u001b[39m \u001b[39;1m0%\u001b[39;22m\n",
            "  \u001b[34;1m-\u001b[39;22m \u001b[39mInstalling \u001b[39m\u001b[36mjupyterlab\u001b[39m\u001b[39m (\u001b[39m\u001b[39;1m3.6.8\u001b[39;22m\u001b[39m)\u001b[39m: \u001b[34mDownloading...\u001b[39m \u001b[39;1m0%\u001b[39;22m\n",
            "  \u001b[34;1m-\u001b[39;22m \u001b[39mDowngrading \u001b[39m\u001b[36mpyproj\u001b[39m\u001b[39m (\u001b[39m\u001b[39;1m3.7.1\u001b[39;22m\u001b[39m -> \u001b[39m\u001b[39;1m3.7.0\u001b[39;22m\u001b[39m)\u001b[39m: \u001b[34mPending...\u001b[39m\n",
            "\u001b[5A\u001b[0J  \u001b[34;1m-\u001b[39;22m \u001b[39mDowngrading \u001b[39m\u001b[36met-xmlfile\u001b[39m\u001b[39m (\u001b[39m\u001b[39;1m2.0.0\u001b[39;22m\u001b[39m -> \u001b[39m\u001b[39;1m1.1.0\u001b[39;22m\u001b[39m)\u001b[39m: \u001b[34mDownloading...\u001b[39m \u001b[39;1m100%\u001b[39;22m\n",
            "  \u001b[34;1m-\u001b[39;22m \u001b[39mUpdating \u001b[39m\u001b[36mipywidgets\u001b[39m\u001b[39m (\u001b[39m\u001b[39;1m7.7.1\u001b[39;22m\u001b[39m -> \u001b[39m\u001b[39;1m8.1.5\u001b[39;22m\u001b[39m)\u001b[39m: \u001b[34mDownloading...\u001b[39m \u001b[39;1m0%\u001b[39;22m\n",
            "  \u001b[34;1m-\u001b[39;22m \u001b[39mDowngrading \u001b[39m\u001b[36mjoblib\u001b[39m\u001b[39m (\u001b[39m\u001b[39;1m1.4.2\u001b[39;22m\u001b[39m -> \u001b[39m\u001b[39;1m1.3.2\u001b[39;22m\u001b[39m)\u001b[39m: \u001b[34mDownloading...\u001b[39m \u001b[39;1m0%\u001b[39;22m\n",
            "  \u001b[34;1m-\u001b[39;22m \u001b[39mUpdating \u001b[39m\u001b[36mjupyter-console\u001b[39m\u001b[39m (\u001b[39m\u001b[39;1m6.1.0\u001b[39;22m\u001b[39m -> \u001b[39m\u001b[39;1m6.6.3\u001b[39;22m\u001b[39m)\u001b[39m: \u001b[34mDownloading...\u001b[39m \u001b[39;1m0%\u001b[39;22m\n",
            "  \u001b[34;1m-\u001b[39;22m \u001b[39mInstalling \u001b[39m\u001b[36mjupyterlab\u001b[39m\u001b[39m (\u001b[39m\u001b[39;1m3.6.8\u001b[39;22m\u001b[39m)\u001b[39m: \u001b[34mDownloading...\u001b[39m \u001b[39;1m0%\u001b[39;22m\n",
            "  \u001b[34;1m-\u001b[39;22m \u001b[39mDowngrading \u001b[39m\u001b[36mpyproj\u001b[39m\u001b[39m (\u001b[39m\u001b[39;1m3.7.1\u001b[39;22m\u001b[39m -> \u001b[39m\u001b[39;1m3.7.0\u001b[39;22m\u001b[39m)\u001b[39m: \u001b[34mPending...\u001b[39m\n",
            "\u001b[1A\u001b[0J  \u001b[34;1m-\u001b[39;22m \u001b[39mDowngrading \u001b[39m\u001b[36mpyproj\u001b[39m\u001b[39m (\u001b[39m\u001b[39;1m3.7.1\u001b[39;22m\u001b[39m -> \u001b[39m\u001b[39;1m3.7.0\u001b[39;22m\u001b[39m)\u001b[39m: \u001b[34mDownloading...\u001b[39m \u001b[39;1m0%\u001b[39;22m\n",
            "\u001b[3A\u001b[0J  \u001b[34;1m-\u001b[39;22m \u001b[39mInstalling \u001b[39m\u001b[36mjupyterlab\u001b[39m\u001b[39m (\u001b[39m\u001b[39;1m3.6.8\u001b[39;22m\u001b[39m)\u001b[39m: \u001b[34mDownloading...\u001b[39m \u001b[39;1m0%\u001b[39;22m\n",
            "  \u001b[34;1m-\u001b[39;22m \u001b[39mDowngrading \u001b[39m\u001b[36mpyproj\u001b[39m\u001b[39m (\u001b[39m\u001b[39;1m3.7.1\u001b[39;22m\u001b[39m -> \u001b[39m\u001b[39;1m3.7.0\u001b[39;22m\u001b[39m)\u001b[39m: \u001b[34mDownloading...\u001b[39m \u001b[39;1m0%\u001b[39;22m\n",
            "\u001b[2A\u001b[0J  \u001b[34;1m-\u001b[39;22m \u001b[39mUpdating \u001b[39m\u001b[36mjupyter-console\u001b[39m\u001b[39m (\u001b[39m\u001b[39;1m6.1.0\u001b[39;22m\u001b[39m -> \u001b[39m\u001b[39;1m6.6.3\u001b[39;22m\u001b[39m)\u001b[39m: \u001b[34mDownloading...\u001b[39m \u001b[39;1m100%\u001b[39;22m\n",
            "  \u001b[34;1m-\u001b[39;22m \u001b[39mInstalling \u001b[39m\u001b[36mjupyterlab\u001b[39m\u001b[39m (\u001b[39m\u001b[39;1m3.6.8\u001b[39;22m\u001b[39m)\u001b[39m: \u001b[34mDownloading...\u001b[39m \u001b[39;1m0%\u001b[39;22m\n",
            "  \u001b[34;1m-\u001b[39;22m \u001b[39mDowngrading \u001b[39m\u001b[36mpyproj\u001b[39m\u001b[39m (\u001b[39m\u001b[39;1m3.7.1\u001b[39;22m\u001b[39m -> \u001b[39m\u001b[39;1m3.7.0\u001b[39;22m\u001b[39m)\u001b[39m: \u001b[34mDownloading...\u001b[39m \u001b[39;1m0%\u001b[39;22m\n",
            "\u001b[6A\u001b[0J  \u001b[34;1m-\u001b[39;22m \u001b[39mUpdating \u001b[39m\u001b[36mipywidgets\u001b[39m\u001b[39m (\u001b[39m\u001b[39;1m7.7.1\u001b[39;22m\u001b[39m -> \u001b[39m\u001b[39;1m8.1.5\u001b[39;22m\u001b[39m)\u001b[39m: \u001b[34mDownloading...\u001b[39m \u001b[39;1m0%\u001b[39;22m\n",
            "  \u001b[34;1m-\u001b[39;22m \u001b[39mDowngrading \u001b[39m\u001b[36mjoblib\u001b[39m\u001b[39m (\u001b[39m\u001b[39;1m1.4.2\u001b[39;22m\u001b[39m -> \u001b[39m\u001b[39;1m1.3.2\u001b[39;22m\u001b[39m)\u001b[39m: \u001b[34mDownloading...\u001b[39m \u001b[39;1m0%\u001b[39;22m\n",
            "  \u001b[34;1m-\u001b[39;22m \u001b[39mUpdating \u001b[39m\u001b[36mjupyter-console\u001b[39m\u001b[39m (\u001b[39m\u001b[39;1m6.1.0\u001b[39;22m\u001b[39m -> \u001b[39m\u001b[39;1m6.6.3\u001b[39;22m\u001b[39m)\u001b[39m: \u001b[34mDownloading...\u001b[39m \u001b[39;1m100%\u001b[39;22m\n",
            "  \u001b[34;1m-\u001b[39;22m \u001b[39mInstalling \u001b[39m\u001b[36mjupyterlab\u001b[39m\u001b[39m (\u001b[39m\u001b[39;1m3.6.8\u001b[39;22m\u001b[39m)\u001b[39m: \u001b[34mDownloading...\u001b[39m \u001b[39;1m0%\u001b[39;22m\n",
            "  \u001b[34;1m-\u001b[39;22m \u001b[39mDowngrading \u001b[39m\u001b[36mpyproj\u001b[39m\u001b[39m (\u001b[39m\u001b[39;1m3.7.1\u001b[39;22m\u001b[39m -> \u001b[39m\u001b[39;1m3.7.0\u001b[39;22m\u001b[39m)\u001b[39m: \u001b[34mDownloading...\u001b[39m \u001b[39;1m0%\u001b[39;22m\n",
            "\u001b[5A\u001b[0J  \u001b[34;1m-\u001b[39;22m \u001b[39mDowngrading \u001b[39m\u001b[36met-xmlfile\u001b[39m\u001b[39m (\u001b[39m\u001b[39;1m2.0.0\u001b[39;22m\u001b[39m -> \u001b[39m\u001b[39;1m1.1.0\u001b[39;22m\u001b[39m)\u001b[39m: \u001b[34mInstalling...\u001b[39m\n",
            "  \u001b[34;1m-\u001b[39;22m \u001b[39mUpdating \u001b[39m\u001b[36mipywidgets\u001b[39m\u001b[39m (\u001b[39m\u001b[39;1m7.7.1\u001b[39;22m\u001b[39m -> \u001b[39m\u001b[39;1m8.1.5\u001b[39;22m\u001b[39m)\u001b[39m: \u001b[34mDownloading...\u001b[39m \u001b[39;1m0%\u001b[39;22m\n",
            "  \u001b[34;1m-\u001b[39;22m \u001b[39mDowngrading \u001b[39m\u001b[36mjoblib\u001b[39m\u001b[39m (\u001b[39m\u001b[39;1m1.4.2\u001b[39;22m\u001b[39m -> \u001b[39m\u001b[39;1m1.3.2\u001b[39;22m\u001b[39m)\u001b[39m: \u001b[34mDownloading...\u001b[39m \u001b[39;1m0%\u001b[39;22m\n",
            "  \u001b[34;1m-\u001b[39;22m \u001b[39mUpdating \u001b[39m\u001b[36mjupyter-console\u001b[39m\u001b[39m (\u001b[39m\u001b[39;1m6.1.0\u001b[39;22m\u001b[39m -> \u001b[39m\u001b[39;1m6.6.3\u001b[39;22m\u001b[39m)\u001b[39m: \u001b[34mDownloading...\u001b[39m \u001b[39;1m100%\u001b[39;22m\n",
            "  \u001b[34;1m-\u001b[39;22m \u001b[39mInstalling \u001b[39m\u001b[36mjupyterlab\u001b[39m\u001b[39m (\u001b[39m\u001b[39;1m3.6.8\u001b[39;22m\u001b[39m)\u001b[39m: \u001b[34mDownloading...\u001b[39m \u001b[39;1m0%\u001b[39;22m\n",
            "  \u001b[34;1m-\u001b[39;22m \u001b[39mDowngrading \u001b[39m\u001b[36mpyproj\u001b[39m\u001b[39m (\u001b[39m\u001b[39;1m3.7.1\u001b[39;22m\u001b[39m -> \u001b[39m\u001b[39;1m3.7.0\u001b[39;22m\u001b[39m)\u001b[39m: \u001b[34mDownloading...\u001b[39m \u001b[39;1m0%\u001b[39;22m\n",
            "\u001b[3A\u001b[0J  \u001b[34;1m-\u001b[39;22m \u001b[39mInstalling \u001b[39m\u001b[36mjupyterlab\u001b[39m\u001b[39m (\u001b[39m\u001b[39;1m3.6.8\u001b[39;22m\u001b[39m)\u001b[39m: \u001b[34mDownloading...\u001b[39m \u001b[39;1m0%\u001b[39;22m\n",
            "  \u001b[34;1m-\u001b[39;22m \u001b[39mDowngrading \u001b[39m\u001b[36mpyproj\u001b[39m\u001b[39m (\u001b[39m\u001b[39;1m3.7.1\u001b[39;22m\u001b[39m -> \u001b[39m\u001b[39;1m3.7.0\u001b[39;22m\u001b[39m)\u001b[39m: \u001b[34mDownloading...\u001b[39m \u001b[39;1m0%\u001b[39;22m\n",
            "\u001b[2A\u001b[0J  \u001b[34;1m-\u001b[39;22m \u001b[39mUpdating \u001b[39m\u001b[36mjupyter-console\u001b[39m\u001b[39m (\u001b[39m\u001b[39;1m6.1.0\u001b[39;22m\u001b[39m -> \u001b[39m\u001b[39;1m6.6.3\u001b[39;22m\u001b[39m)\u001b[39m: \u001b[34mInstalling...\u001b[39m\n",
            "  \u001b[34;1m-\u001b[39;22m \u001b[39mInstalling \u001b[39m\u001b[36mjupyterlab\u001b[39m\u001b[39m (\u001b[39m\u001b[39;1m3.6.8\u001b[39;22m\u001b[39m)\u001b[39m: \u001b[34mDownloading...\u001b[39m \u001b[39;1m0%\u001b[39;22m\n",
            "  \u001b[34;1m-\u001b[39;22m \u001b[39mDowngrading \u001b[39m\u001b[36mpyproj\u001b[39m\u001b[39m (\u001b[39m\u001b[39;1m3.7.1\u001b[39;22m\u001b[39m -> \u001b[39m\u001b[39;1m3.7.0\u001b[39;22m\u001b[39m)\u001b[39m: \u001b[34mDownloading...\u001b[39m \u001b[39;1m0%\u001b[39;22m\n",
            "\u001b[5A\u001b[0J  \u001b[34;1m-\u001b[39;22m \u001b[39mDowngrading \u001b[39m\u001b[36mjoblib\u001b[39m\u001b[39m (\u001b[39m\u001b[39;1m1.4.2\u001b[39;22m\u001b[39m -> \u001b[39m\u001b[39;1m1.3.2\u001b[39;22m\u001b[39m)\u001b[39m: \u001b[34mDownloading...\u001b[39m \u001b[39;1m0%\u001b[39;22m\n",
            "  \u001b[34;1m-\u001b[39;22m \u001b[39mUpdating \u001b[39m\u001b[36mjupyter-console\u001b[39m\u001b[39m (\u001b[39m\u001b[39;1m6.1.0\u001b[39;22m\u001b[39m -> \u001b[39m\u001b[39;1m6.6.3\u001b[39;22m\u001b[39m)\u001b[39m: \u001b[34mInstalling...\u001b[39m\n",
            "  \u001b[34;1m-\u001b[39;22m \u001b[39mInstalling \u001b[39m\u001b[36mjupyterlab\u001b[39m\u001b[39m (\u001b[39m\u001b[39;1m3.6.8\u001b[39;22m\u001b[39m)\u001b[39m: \u001b[34mDownloading...\u001b[39m \u001b[39;1m0%\u001b[39;22m\n",
            "  \u001b[34;1m-\u001b[39;22m \u001b[39mDowngrading \u001b[39m\u001b[36mpyproj\u001b[39m\u001b[39m (\u001b[39m\u001b[39;1m3.7.1\u001b[39;22m\u001b[39m -> \u001b[39m\u001b[39;1m3.7.0\u001b[39;22m\u001b[39m)\u001b[39m: \u001b[34mDownloading...\u001b[39m \u001b[39;1m0%\u001b[39;22m\n",
            "\u001b[4A\u001b[0J  \u001b[34;1m-\u001b[39;22m \u001b[39mUpdating \u001b[39m\u001b[36mipywidgets\u001b[39m\u001b[39m (\u001b[39m\u001b[39;1m7.7.1\u001b[39;22m\u001b[39m -> \u001b[39m\u001b[39;1m8.1.5\u001b[39;22m\u001b[39m)\u001b[39m: \u001b[34mDownloading...\u001b[39m \u001b[39;1m100%\u001b[39;22m\n",
            "  \u001b[34;1m-\u001b[39;22m \u001b[39mDowngrading \u001b[39m\u001b[36mjoblib\u001b[39m\u001b[39m (\u001b[39m\u001b[39;1m1.4.2\u001b[39;22m\u001b[39m -> \u001b[39m\u001b[39;1m1.3.2\u001b[39;22m\u001b[39m)\u001b[39m: \u001b[34mDownloading...\u001b[39m \u001b[39;1m0%\u001b[39;22m\n",
            "  \u001b[34;1m-\u001b[39;22m \u001b[39mUpdating \u001b[39m\u001b[36mjupyter-console\u001b[39m\u001b[39m (\u001b[39m\u001b[39;1m6.1.0\u001b[39;22m\u001b[39m -> \u001b[39m\u001b[39;1m6.6.3\u001b[39;22m\u001b[39m)\u001b[39m: \u001b[34mInstalling...\u001b[39m\n",
            "  \u001b[34;1m-\u001b[39;22m \u001b[39mInstalling \u001b[39m\u001b[36mjupyterlab\u001b[39m\u001b[39m (\u001b[39m\u001b[39;1m3.6.8\u001b[39;22m\u001b[39m)\u001b[39m: \u001b[34mDownloading...\u001b[39m \u001b[39;1m0%\u001b[39;22m\n",
            "  \u001b[34;1m-\u001b[39;22m \u001b[39mDowngrading \u001b[39m\u001b[36mpyproj\u001b[39m\u001b[39m (\u001b[39m\u001b[39;1m3.7.1\u001b[39;22m\u001b[39m -> \u001b[39m\u001b[39;1m3.7.0\u001b[39;22m\u001b[39m)\u001b[39m: \u001b[34mDownloading...\u001b[39m \u001b[39;1m0%\u001b[39;22m\n",
            "\u001b[5A\u001b[0J  \u001b[34;1m-\u001b[39;22m \u001b[39mDowngrading \u001b[39m\u001b[36mjoblib\u001b[39m\u001b[39m (\u001b[39m\u001b[39;1m1.4.2\u001b[39;22m\u001b[39m -> \u001b[39m\u001b[39;1m1.3.2\u001b[39;22m\u001b[39m)\u001b[39m: \u001b[34mDownloading...\u001b[39m \u001b[39;1m0%\u001b[39;22m\n",
            "  \u001b[34;1m-\u001b[39;22m \u001b[39mUpdating \u001b[39m\u001b[36mjupyter-console\u001b[39m\u001b[39m (\u001b[39m\u001b[39;1m6.1.0\u001b[39;22m\u001b[39m -> \u001b[39m\u001b[39;1m6.6.3\u001b[39;22m\u001b[39m)\u001b[39m: \u001b[34mInstalling...\u001b[39m\n",
            "  \u001b[34;1m-\u001b[39;22m \u001b[39mInstalling \u001b[39m\u001b[36mjupyterlab\u001b[39m\u001b[39m (\u001b[39m\u001b[39;1m3.6.8\u001b[39;22m\u001b[39m)\u001b[39m: \u001b[34mDownloading...\u001b[39m \u001b[39;1m0%\u001b[39;22m\n",
            "  \u001b[34;1m-\u001b[39;22m \u001b[39mDowngrading \u001b[39m\u001b[36mpyproj\u001b[39m\u001b[39m (\u001b[39m\u001b[39;1m3.7.1\u001b[39;22m\u001b[39m -> \u001b[39m\u001b[39;1m3.7.0\u001b[39;22m\u001b[39m)\u001b[39m: \u001b[34mDownloading...\u001b[39m \u001b[39;1m0%\u001b[39;22m\n",
            "\u001b[4A\u001b[0J  \u001b[34;1m-\u001b[39;22m \u001b[39mUpdating \u001b[39m\u001b[36mipywidgets\u001b[39m\u001b[39m (\u001b[39m\u001b[39;1m7.7.1\u001b[39;22m\u001b[39m -> \u001b[39m\u001b[39;1m8.1.5\u001b[39;22m\u001b[39m)\u001b[39m: \u001b[34mInstalling...\u001b[39m\n",
            "  \u001b[34;1m-\u001b[39;22m \u001b[39mDowngrading \u001b[39m\u001b[36mjoblib\u001b[39m\u001b[39m (\u001b[39m\u001b[39;1m1.4.2\u001b[39;22m\u001b[39m -> \u001b[39m\u001b[39;1m1.3.2\u001b[39;22m\u001b[39m)\u001b[39m: \u001b[34mDownloading...\u001b[39m \u001b[39;1m0%\u001b[39;22m\n",
            "  \u001b[34;1m-\u001b[39;22m \u001b[39mUpdating \u001b[39m\u001b[36mjupyter-console\u001b[39m\u001b[39m (\u001b[39m\u001b[39;1m6.1.0\u001b[39;22m\u001b[39m -> \u001b[39m\u001b[39;1m6.6.3\u001b[39;22m\u001b[39m)\u001b[39m: \u001b[34mInstalling...\u001b[39m\n",
            "  \u001b[34;1m-\u001b[39;22m \u001b[39mInstalling \u001b[39m\u001b[36mjupyterlab\u001b[39m\u001b[39m (\u001b[39m\u001b[39;1m3.6.8\u001b[39;22m\u001b[39m)\u001b[39m: \u001b[34mDownloading...\u001b[39m \u001b[39;1m0%\u001b[39;22m\n",
            "  \u001b[34;1m-\u001b[39;22m \u001b[39mDowngrading \u001b[39m\u001b[36mpyproj\u001b[39m\u001b[39m (\u001b[39m\u001b[39;1m3.7.1\u001b[39;22m\u001b[39m -> \u001b[39m\u001b[39;1m3.7.0\u001b[39;22m\u001b[39m)\u001b[39m: \u001b[34mDownloading...\u001b[39m \u001b[39;1m0%\u001b[39;22m\n",
            "\u001b[4A\u001b[0J  \u001b[34;1m-\u001b[39;22m \u001b[39mUpdating \u001b[39m\u001b[36mjupyter-console\u001b[39m\u001b[39m (\u001b[39m\u001b[39;1m6.1.0\u001b[39;22m\u001b[39m -> \u001b[39m\u001b[39;1m6.6.3\u001b[39;22m\u001b[39m)\u001b[39m: \u001b[34mInstalling...\u001b[39m\n",
            "  \u001b[34;1m-\u001b[39;22m \u001b[39mInstalling \u001b[39m\u001b[36mjupyterlab\u001b[39m\u001b[39m (\u001b[39m\u001b[39;1m3.6.8\u001b[39;22m\u001b[39m)\u001b[39m: \u001b[34mDownloading...\u001b[39m \u001b[39;1m0%\u001b[39;22m\n",
            "  \u001b[34;1m-\u001b[39;22m \u001b[39mDowngrading \u001b[39m\u001b[36mpyproj\u001b[39m\u001b[39m (\u001b[39m\u001b[39;1m3.7.1\u001b[39;22m\u001b[39m -> \u001b[39m\u001b[39;1m3.7.0\u001b[39;22m\u001b[39m)\u001b[39m: \u001b[34mDownloading...\u001b[39m \u001b[39;1m0%\u001b[39;22m\n",
            "\u001b[3A\u001b[0J  \u001b[34;1m-\u001b[39;22m \u001b[39mDowngrading \u001b[39m\u001b[36mjoblib\u001b[39m\u001b[39m (\u001b[39m\u001b[39;1m1.4.2\u001b[39;22m\u001b[39m -> \u001b[39m\u001b[39;1m1.3.2\u001b[39;22m\u001b[39m)\u001b[39m: \u001b[34mDownloading...\u001b[39m \u001b[39;1m100%\u001b[39;22m\n",
            "  \u001b[34;1m-\u001b[39;22m \u001b[39mUpdating \u001b[39m\u001b[36mjupyter-console\u001b[39m\u001b[39m (\u001b[39m\u001b[39;1m6.1.0\u001b[39;22m\u001b[39m -> \u001b[39m\u001b[39;1m6.6.3\u001b[39;22m\u001b[39m)\u001b[39m: \u001b[34mInstalling...\u001b[39m\n",
            "  \u001b[34;1m-\u001b[39;22m \u001b[39mInstalling \u001b[39m\u001b[36mjupyterlab\u001b[39m\u001b[39m (\u001b[39m\u001b[39;1m3.6.8\u001b[39;22m\u001b[39m)\u001b[39m: \u001b[34mDownloading...\u001b[39m \u001b[39;1m0%\u001b[39;22m\n",
            "  \u001b[34;1m-\u001b[39;22m \u001b[39mDowngrading \u001b[39m\u001b[36mpyproj\u001b[39m\u001b[39m (\u001b[39m\u001b[39;1m3.7.1\u001b[39;22m\u001b[39m -> \u001b[39m\u001b[39;1m3.7.0\u001b[39;22m\u001b[39m)\u001b[39m: \u001b[34mDownloading...\u001b[39m \u001b[39;1m0%\u001b[39;22m\n",
            "\u001b[4A\u001b[0J  \u001b[34;1m-\u001b[39;22m \u001b[39mUpdating \u001b[39m\u001b[36mjupyter-console\u001b[39m\u001b[39m (\u001b[39m\u001b[39;1m6.1.0\u001b[39;22m\u001b[39m -> \u001b[39m\u001b[39;1m6.6.3\u001b[39;22m\u001b[39m)\u001b[39m: \u001b[34mInstalling...\u001b[39m\n",
            "  \u001b[34;1m-\u001b[39;22m \u001b[39mInstalling \u001b[39m\u001b[36mjupyterlab\u001b[39m\u001b[39m (\u001b[39m\u001b[39;1m3.6.8\u001b[39;22m\u001b[39m)\u001b[39m: \u001b[34mDownloading...\u001b[39m \u001b[39;1m0%\u001b[39;22m\n",
            "  \u001b[34;1m-\u001b[39;22m \u001b[39mDowngrading \u001b[39m\u001b[36mpyproj\u001b[39m\u001b[39m (\u001b[39m\u001b[39;1m3.7.1\u001b[39;22m\u001b[39m -> \u001b[39m\u001b[39;1m3.7.0\u001b[39;22m\u001b[39m)\u001b[39m: \u001b[34mDownloading...\u001b[39m \u001b[39;1m0%\u001b[39;22m\n",
            "\u001b[3A\u001b[0J  \u001b[34;1m-\u001b[39;22m \u001b[39mDowngrading \u001b[39m\u001b[36mjoblib\u001b[39m\u001b[39m (\u001b[39m\u001b[39;1m1.4.2\u001b[39;22m\u001b[39m -> \u001b[39m\u001b[39;1m1.3.2\u001b[39;22m\u001b[39m)\u001b[39m: \u001b[34mInstalling...\u001b[39m\n",
            "  \u001b[34;1m-\u001b[39;22m \u001b[39mUpdating \u001b[39m\u001b[36mjupyter-console\u001b[39m\u001b[39m (\u001b[39m\u001b[39;1m6.1.0\u001b[39;22m\u001b[39m -> \u001b[39m\u001b[39;1m6.6.3\u001b[39;22m\u001b[39m)\u001b[39m: \u001b[34mInstalling...\u001b[39m\n",
            "  \u001b[34;1m-\u001b[39;22m \u001b[39mInstalling \u001b[39m\u001b[36mjupyterlab\u001b[39m\u001b[39m (\u001b[39m\u001b[39;1m3.6.8\u001b[39;22m\u001b[39m)\u001b[39m: \u001b[34mDownloading...\u001b[39m \u001b[39;1m0%\u001b[39;22m\n",
            "  \u001b[34;1m-\u001b[39;22m \u001b[39mDowngrading \u001b[39m\u001b[36mpyproj\u001b[39m\u001b[39m (\u001b[39m\u001b[39;1m3.7.1\u001b[39;22m\u001b[39m -> \u001b[39m\u001b[39;1m3.7.0\u001b[39;22m\u001b[39m)\u001b[39m: \u001b[34mDownloading...\u001b[39m \u001b[39;1m0%\u001b[39;22m\n",
            "\u001b[2A\u001b[0J  \u001b[34;1m-\u001b[39;22m \u001b[39mDowngrading \u001b[39m\u001b[36mpyproj\u001b[39m\u001b[39m (\u001b[39m\u001b[39;1m3.7.1\u001b[39;22m\u001b[39m -> \u001b[39m\u001b[39;1m3.7.0\u001b[39;22m\u001b[39m)\u001b[39m: \u001b[34mDownloading...\u001b[39m \u001b[39;1m0%\u001b[39;22m\n",
            "\u001b[1A\u001b[0J  \u001b[34;1m-\u001b[39;22m \u001b[39mInstalling \u001b[39m\u001b[36mjupyterlab\u001b[39m\u001b[39m (\u001b[39m\u001b[39;1m3.6.8\u001b[39;22m\u001b[39m)\u001b[39m: \u001b[34mDownloading...\u001b[39m \u001b[39;1m20%\u001b[39;22m\n",
            "  \u001b[34;1m-\u001b[39;22m \u001b[39mDowngrading \u001b[39m\u001b[36mpyproj\u001b[39m\u001b[39m (\u001b[39m\u001b[39;1m3.7.1\u001b[39;22m\u001b[39m -> \u001b[39m\u001b[39;1m3.7.0\u001b[39;22m\u001b[39m)\u001b[39m: \u001b[34mDownloading...\u001b[39m \u001b[39;1m0%\u001b[39;22m\n",
            "\u001b[1A\u001b[0J  \u001b[34;1m-\u001b[39;22m \u001b[39mDowngrading \u001b[39m\u001b[36mpyproj\u001b[39m\u001b[39m (\u001b[39m\u001b[39;1m3.7.1\u001b[39;22m\u001b[39m -> \u001b[39m\u001b[39;1m3.7.0\u001b[39;22m\u001b[39m)\u001b[39m: \u001b[34mDownloading...\u001b[39m \u001b[39;1m30%\u001b[39;22m\n",
            "\u001b[2A\u001b[0J  \u001b[34;1m-\u001b[39;22m \u001b[39mDowngrading \u001b[39m\u001b[36mpyproj\u001b[39m\u001b[39m (\u001b[39m\u001b[39;1m3.7.1\u001b[39;22m\u001b[39m -> \u001b[39m\u001b[39;1m3.7.0\u001b[39;22m\u001b[39m)\u001b[39m: \u001b[34mDownloading...\u001b[39m \u001b[39;1m30%\u001b[39;22m\n",
            "\u001b[1A\u001b[0J  \u001b[34;1m-\u001b[39;22m \u001b[39mInstalling \u001b[39m\u001b[36mjupyterlab\u001b[39m\u001b[39m (\u001b[39m\u001b[39;1m3.6.8\u001b[39;22m\u001b[39m)\u001b[39m: \u001b[34mDownloading...\u001b[39m \u001b[39;1m50%\u001b[39;22m\n",
            "  \u001b[34;1m-\u001b[39;22m \u001b[39mDowngrading \u001b[39m\u001b[36mpyproj\u001b[39m\u001b[39m (\u001b[39m\u001b[39;1m3.7.1\u001b[39;22m\u001b[39m -> \u001b[39m\u001b[39;1m3.7.0\u001b[39;22m\u001b[39m)\u001b[39m: \u001b[34mDownloading...\u001b[39m \u001b[39;1m30%\u001b[39;22m\n",
            "\u001b[1A\u001b[0J  \u001b[34;1m-\u001b[39;22m \u001b[39mDowngrading \u001b[39m\u001b[36mpyproj\u001b[39m\u001b[39m (\u001b[39m\u001b[39;1m3.7.1\u001b[39;22m\u001b[39m -> \u001b[39m\u001b[39;1m3.7.0\u001b[39;22m\u001b[39m)\u001b[39m: \u001b[34mDownloading...\u001b[39m \u001b[39;1m50%\u001b[39;22m\n",
            "\u001b[1A\u001b[0J  \u001b[34;1m-\u001b[39;22m \u001b[39mDowngrading \u001b[39m\u001b[36mpyproj\u001b[39m\u001b[39m (\u001b[39m\u001b[39;1m3.7.1\u001b[39;22m\u001b[39m -> \u001b[39m\u001b[39;1m3.7.0\u001b[39;22m\u001b[39m)\u001b[39m: \u001b[34mDownloading...\u001b[39m \u001b[39;1m70%\u001b[39;22m\n",
            "\u001b[2A\u001b[0J  \u001b[34;1m-\u001b[39;22m \u001b[39mDowngrading \u001b[39m\u001b[36mpyproj\u001b[39m\u001b[39m (\u001b[39m\u001b[39;1m3.7.1\u001b[39;22m\u001b[39m -> \u001b[39m\u001b[39;1m3.7.0\u001b[39;22m\u001b[39m)\u001b[39m: \u001b[34mDownloading...\u001b[39m \u001b[39;1m70%\u001b[39;22m\n",
            "\u001b[1A\u001b[0J  \u001b[34;1m-\u001b[39;22m \u001b[39mInstalling \u001b[39m\u001b[36mjupyterlab\u001b[39m\u001b[39m (\u001b[39m\u001b[39;1m3.6.8\u001b[39;22m\u001b[39m)\u001b[39m: \u001b[34mDownloading...\u001b[39m \u001b[39;1m80%\u001b[39;22m\n",
            "  \u001b[34;1m-\u001b[39;22m \u001b[39mDowngrading \u001b[39m\u001b[36mpyproj\u001b[39m\u001b[39m (\u001b[39m\u001b[39;1m3.7.1\u001b[39;22m\u001b[39m -> \u001b[39m\u001b[39;1m3.7.0\u001b[39;22m\u001b[39m)\u001b[39m: \u001b[34mDownloading...\u001b[39m \u001b[39;1m70%\u001b[39;22m\n",
            "\u001b[1A\u001b[0J  \u001b[34;1m-\u001b[39;22m \u001b[39mDowngrading \u001b[39m\u001b[36mpyproj\u001b[39m\u001b[39m (\u001b[39m\u001b[39;1m3.7.1\u001b[39;22m\u001b[39m -> \u001b[39m\u001b[39;1m3.7.0\u001b[39;22m\u001b[39m)\u001b[39m: \u001b[34mDownloading...\u001b[39m \u001b[39;1m90%\u001b[39;22m\n",
            "\u001b[2A\u001b[0J  \u001b[34;1m-\u001b[39;22m \u001b[39mDowngrading \u001b[39m\u001b[36mpyproj\u001b[39m\u001b[39m (\u001b[39m\u001b[39;1m3.7.1\u001b[39;22m\u001b[39m -> \u001b[39m\u001b[39;1m3.7.0\u001b[39;22m\u001b[39m)\u001b[39m: \u001b[34mDownloading...\u001b[39m \u001b[39;1m90%\u001b[39;22m\n",
            "\u001b[1A\u001b[0J  \u001b[34;1m-\u001b[39;22m \u001b[39mInstalling \u001b[39m\u001b[36mjupyterlab\u001b[39m\u001b[39m (\u001b[39m\u001b[39;1m3.6.8\u001b[39;22m\u001b[39m)\u001b[39m: \u001b[34mDownloading...\u001b[39m \u001b[39;1m100%\u001b[39;22m\n",
            "  \u001b[34;1m-\u001b[39;22m \u001b[39mDowngrading \u001b[39m\u001b[36mpyproj\u001b[39m\u001b[39m (\u001b[39m\u001b[39;1m3.7.1\u001b[39;22m\u001b[39m -> \u001b[39m\u001b[39;1m3.7.0\u001b[39;22m\u001b[39m)\u001b[39m: \u001b[34mDownloading...\u001b[39m \u001b[39;1m90%\u001b[39;22m\n",
            "\u001b[1A\u001b[0J  \u001b[34;1m-\u001b[39;22m \u001b[39mDowngrading \u001b[39m\u001b[36mpyproj\u001b[39m\u001b[39m (\u001b[39m\u001b[39;1m3.7.1\u001b[39;22m\u001b[39m -> \u001b[39m\u001b[39;1m3.7.0\u001b[39;22m\u001b[39m)\u001b[39m: \u001b[34mDownloading...\u001b[39m \u001b[39;1m100%\u001b[39;22m\n",
            "\u001b[2A\u001b[0J  \u001b[34;1m-\u001b[39;22m \u001b[39mDowngrading \u001b[39m\u001b[36mpyproj\u001b[39m\u001b[39m (\u001b[39m\u001b[39;1m3.7.1\u001b[39;22m\u001b[39m -> \u001b[39m\u001b[39;1m3.7.0\u001b[39;22m\u001b[39m)\u001b[39m: \u001b[34mDownloading...\u001b[39m \u001b[39;1m100%\u001b[39;22m\n",
            "\u001b[1A\u001b[0J  \u001b[34;1m-\u001b[39;22m \u001b[39mInstalling \u001b[39m\u001b[36mjupyterlab\u001b[39m\u001b[39m (\u001b[39m\u001b[39;1m3.6.8\u001b[39;22m\u001b[39m)\u001b[39m: \u001b[34mInstalling...\u001b[39m\n",
            "  \u001b[34;1m-\u001b[39;22m \u001b[39mDowngrading \u001b[39m\u001b[36mpyproj\u001b[39m\u001b[39m (\u001b[39m\u001b[39;1m3.7.1\u001b[39;22m\u001b[39m -> \u001b[39m\u001b[39;1m3.7.0\u001b[39;22m\u001b[39m)\u001b[39m: \u001b[34mDownloading...\u001b[39m \u001b[39;1m100%\u001b[39;22m\n",
            "\u001b[1A\u001b[0J  \u001b[34;1m-\u001b[39;22m \u001b[39mDowngrading \u001b[39m\u001b[36mpyproj\u001b[39m\u001b[39m (\u001b[39m\u001b[39;1m3.7.1\u001b[39;22m\u001b[39m -> \u001b[39m\u001b[39;1m3.7.0\u001b[39;22m\u001b[39m)\u001b[39m: \u001b[34mInstalling...\u001b[39m\n",
            "\u001b[2A\u001b[0J  \u001b[34;1m-\u001b[39;22m \u001b[39mDowngrading \u001b[39m\u001b[36mpyproj\u001b[39m\u001b[39m (\u001b[39m\u001b[39;1m3.7.1\u001b[39;22m\u001b[39m -> \u001b[39m\u001b[39;1m3.7.0\u001b[39;22m\u001b[39m)\u001b[39m: \u001b[34mInstalling...\u001b[39m\n",
            "\u001b[1A\u001b[0J  \u001b[32;1m-\u001b[39;22m \u001b[39mInstalling \u001b[39m\u001b[36mjupyterlab\u001b[39m\u001b[39m (\u001b[39m\u001b[32m3.6.8\u001b[39m\u001b[39m)\u001b[39m\n",
            "  \u001b[34;1m-\u001b[39;22m \u001b[39mDowngrading \u001b[39m\u001b[36mpyproj\u001b[39m\u001b[39m (\u001b[39m\u001b[39;1m3.7.1\u001b[39;22m\u001b[39m -> \u001b[39m\u001b[39;1m3.7.0\u001b[39;22m\u001b[39m)\u001b[39m: \u001b[34mInstalling...\u001b[39m\n",
            "  \u001b[34;1m-\u001b[39;22m \u001b[39mUpdating \u001b[39m\u001b[36mrasterio\u001b[39m\u001b[39m (\u001b[39m\u001b[39;1m1.3.9\u001b[39;22m\u001b[39m -> \u001b[39m\u001b[39;1m1.4.3\u001b[39;22m\u001b[39m)\u001b[39m: \u001b[34mPending...\u001b[39m\n",
            "\u001b[1A\u001b[0J  \u001b[34;1m-\u001b[39;22m \u001b[39mUpdating \u001b[39m\u001b[36mrasterio\u001b[39m\u001b[39m (\u001b[39m\u001b[39;1m1.3.9\u001b[39;22m\u001b[39m -> \u001b[39m\u001b[39;1m1.4.3\u001b[39;22m\u001b[39m)\u001b[39m: \u001b[34mDownloading...\u001b[39m \u001b[39;1m0%\u001b[39;22m\n",
            "\u001b[1A\u001b[0J  \u001b[34;1m-\u001b[39;22m \u001b[39mUpdating \u001b[39m\u001b[36mrasterio\u001b[39m\u001b[39m (\u001b[39m\u001b[39;1m1.3.9\u001b[39;22m\u001b[39m -> \u001b[39m\u001b[39;1m1.4.3\u001b[39;22m\u001b[39m)\u001b[39m: \u001b[34mDownloading...\u001b[39m \u001b[39;1m20%\u001b[39;22m\n",
            "\u001b[1A\u001b[0J  \u001b[34;1m-\u001b[39;22m \u001b[39mUpdating \u001b[39m\u001b[36mrasterio\u001b[39m\u001b[39m (\u001b[39m\u001b[39;1m1.3.9\u001b[39;22m\u001b[39m -> \u001b[39m\u001b[39;1m1.4.3\u001b[39;22m\u001b[39m)\u001b[39m: \u001b[34mDownloading...\u001b[39m \u001b[39;1m40%\u001b[39;22m\n",
            "\u001b[1A\u001b[0J  \u001b[34;1m-\u001b[39;22m \u001b[39mUpdating \u001b[39m\u001b[36mrasterio\u001b[39m\u001b[39m (\u001b[39m\u001b[39;1m1.3.9\u001b[39;22m\u001b[39m -> \u001b[39m\u001b[39;1m1.4.3\u001b[39;22m\u001b[39m)\u001b[39m: \u001b[34mDownloading...\u001b[39m \u001b[39;1m60%\u001b[39;22m\n",
            "\u001b[1A\u001b[0J  \u001b[34;1m-\u001b[39;22m \u001b[39mUpdating \u001b[39m\u001b[36mrasterio\u001b[39m\u001b[39m (\u001b[39m\u001b[39;1m1.3.9\u001b[39;22m\u001b[39m -> \u001b[39m\u001b[39;1m1.4.3\u001b[39;22m\u001b[39m)\u001b[39m: \u001b[34mDownloading...\u001b[39m \u001b[39;1m70%\u001b[39;22m\n",
            "\u001b[1A\u001b[0J  \u001b[34;1m-\u001b[39;22m \u001b[39mUpdating \u001b[39m\u001b[36mrasterio\u001b[39m\u001b[39m (\u001b[39m\u001b[39;1m1.3.9\u001b[39;22m\u001b[39m -> \u001b[39m\u001b[39;1m1.4.3\u001b[39;22m\u001b[39m)\u001b[39m: \u001b[34mDownloading...\u001b[39m \u001b[39;1m80%\u001b[39;22m\n",
            "\u001b[1A\u001b[0J  \u001b[34;1m-\u001b[39;22m \u001b[39mUpdating \u001b[39m\u001b[36mrasterio\u001b[39m\u001b[39m (\u001b[39m\u001b[39;1m1.3.9\u001b[39;22m\u001b[39m -> \u001b[39m\u001b[39;1m1.4.3\u001b[39;22m\u001b[39m)\u001b[39m: \u001b[34mDownloading...\u001b[39m \u001b[39;1m90%\u001b[39;22m\n",
            "\u001b[1A\u001b[0J  \u001b[34;1m-\u001b[39;22m \u001b[39mUpdating \u001b[39m\u001b[36mrasterio\u001b[39m\u001b[39m (\u001b[39m\u001b[39;1m1.3.9\u001b[39;22m\u001b[39m -> \u001b[39m\u001b[39;1m1.4.3\u001b[39;22m\u001b[39m)\u001b[39m: \u001b[34mDownloading...\u001b[39m \u001b[39;1m100%\u001b[39;22m\n",
            "\u001b[1A\u001b[0J  \u001b[34;1m-\u001b[39;22m \u001b[39mUpdating \u001b[39m\u001b[36mrasterio\u001b[39m\u001b[39m (\u001b[39m\u001b[39;1m1.3.9\u001b[39;22m\u001b[39m -> \u001b[39m\u001b[39;1m1.4.3\u001b[39;22m\u001b[39m)\u001b[39m: \u001b[34mInstalling...\u001b[39m\n",
            "\u001b[7A\u001b[0J  \u001b[34;1m-\u001b[39;22m \u001b[39mUpdating \u001b[39m\u001b[36mipywidgets\u001b[39m\u001b[39m (\u001b[39m\u001b[39;1m7.7.1\u001b[39;22m\u001b[39m -> \u001b[39m\u001b[39;1m8.1.5\u001b[39;22m\u001b[39m)\u001b[39m: \u001b[34mInstalling...\u001b[39m\n",
            "  \u001b[34;1m-\u001b[39;22m \u001b[39mDowngrading \u001b[39m\u001b[36mjoblib\u001b[39m\u001b[39m (\u001b[39m\u001b[39;1m1.4.2\u001b[39;22m\u001b[39m -> \u001b[39m\u001b[39;1m1.3.2\u001b[39;22m\u001b[39m)\u001b[39m: \u001b[34mInstalling...\u001b[39m\n",
            "  \u001b[34;1m-\u001b[39;22m \u001b[39mUpdating \u001b[39m\u001b[36mjupyter-console\u001b[39m\u001b[39m (\u001b[39m\u001b[39;1m6.1.0\u001b[39;22m\u001b[39m -> \u001b[39m\u001b[39;1m6.6.3\u001b[39;22m\u001b[39m)\u001b[39m: \u001b[34mInstalling...\u001b[39m\n",
            "  \u001b[32;1m-\u001b[39;22m \u001b[39mInstalling \u001b[39m\u001b[36mjupyterlab\u001b[39m\u001b[39m (\u001b[39m\u001b[32m3.6.8\u001b[39m\u001b[39m)\u001b[39m\n",
            "  \u001b[34;1m-\u001b[39;22m \u001b[39mDowngrading \u001b[39m\u001b[36mpyproj\u001b[39m\u001b[39m (\u001b[39m\u001b[39;1m3.7.1\u001b[39;22m\u001b[39m -> \u001b[39m\u001b[39;1m3.7.0\u001b[39;22m\u001b[39m)\u001b[39m: \u001b[34mInstalling...\u001b[39m\n",
            "  \u001b[34;1m-\u001b[39;22m \u001b[39mUpdating \u001b[39m\u001b[36mrasterio\u001b[39m\u001b[39m (\u001b[39m\u001b[39;1m1.3.9\u001b[39;22m\u001b[39m -> \u001b[39m\u001b[39;1m1.4.3\u001b[39;22m\u001b[39m)\u001b[39m: \u001b[34mInstalling...\u001b[39m\n",
            "\u001b[6A\u001b[0J  \u001b[32;1m-\u001b[39;22m \u001b[39mDowngrading \u001b[39m\u001b[36met-xmlfile\u001b[39m\u001b[39m (\u001b[39m\u001b[39;1m2.0.0\u001b[39;22m\u001b[39m -> \u001b[39m\u001b[32m1.1.0\u001b[39m\u001b[39m)\u001b[39m\n",
            "  \u001b[34;1m-\u001b[39;22m \u001b[39mUpdating \u001b[39m\u001b[36mipywidgets\u001b[39m\u001b[39m (\u001b[39m\u001b[39;1m7.7.1\u001b[39;22m\u001b[39m -> \u001b[39m\u001b[39;1m8.1.5\u001b[39;22m\u001b[39m)\u001b[39m: \u001b[34mInstalling...\u001b[39m\n",
            "  \u001b[34;1m-\u001b[39;22m \u001b[39mDowngrading \u001b[39m\u001b[36mjoblib\u001b[39m\u001b[39m (\u001b[39m\u001b[39;1m1.4.2\u001b[39;22m\u001b[39m -> \u001b[39m\u001b[39;1m1.3.2\u001b[39;22m\u001b[39m)\u001b[39m: \u001b[34mInstalling...\u001b[39m\n",
            "  \u001b[34;1m-\u001b[39;22m \u001b[39mUpdating \u001b[39m\u001b[36mjupyter-console\u001b[39m\u001b[39m (\u001b[39m\u001b[39;1m6.1.0\u001b[39;22m\u001b[39m -> \u001b[39m\u001b[39;1m6.6.3\u001b[39;22m\u001b[39m)\u001b[39m: \u001b[34mInstalling...\u001b[39m\n",
            "  \u001b[32;1m-\u001b[39;22m \u001b[39mInstalling \u001b[39m\u001b[36mjupyterlab\u001b[39m\u001b[39m (\u001b[39m\u001b[32m3.6.8\u001b[39m\u001b[39m)\u001b[39m\n",
            "  \u001b[34;1m-\u001b[39;22m \u001b[39mDowngrading \u001b[39m\u001b[36mpyproj\u001b[39m\u001b[39m (\u001b[39m\u001b[39;1m3.7.1\u001b[39;22m\u001b[39m -> \u001b[39m\u001b[39;1m3.7.0\u001b[39;22m\u001b[39m)\u001b[39m: \u001b[34mInstalling...\u001b[39m\n",
            "  \u001b[34;1m-\u001b[39;22m \u001b[39mUpdating \u001b[39m\u001b[36mrasterio\u001b[39m\u001b[39m (\u001b[39m\u001b[39;1m1.3.9\u001b[39;22m\u001b[39m -> \u001b[39m\u001b[39;1m1.4.3\u001b[39;22m\u001b[39m)\u001b[39m: \u001b[34mInstalling...\u001b[39m\n",
            "  \u001b[34;1m-\u001b[39;22m \u001b[39mDowngrading \u001b[39m\u001b[36mscipy\u001b[39m\u001b[39m (\u001b[39m\u001b[39;1m1.15.2\u001b[39;22m\u001b[39m -> \u001b[39m\u001b[39;1m1.15.1\u001b[39;22m\u001b[39m)\u001b[39m: \u001b[34mPending...\u001b[39m\n",
            "\u001b[1A\u001b[0J  \u001b[34;1m-\u001b[39;22m \u001b[39mDowngrading \u001b[39m\u001b[36mscipy\u001b[39m\u001b[39m (\u001b[39m\u001b[39;1m1.15.2\u001b[39;22m\u001b[39m -> \u001b[39m\u001b[39;1m1.15.1\u001b[39;22m\u001b[39m)\u001b[39m: \u001b[34mDownloading...\u001b[39m \u001b[39;1m0%\u001b[39;22m\n",
            "\u001b[1A\u001b[0J  \u001b[34;1m-\u001b[39;22m \u001b[39mDowngrading \u001b[39m\u001b[36mscipy\u001b[39m\u001b[39m (\u001b[39m\u001b[39;1m1.15.2\u001b[39;22m\u001b[39m -> \u001b[39m\u001b[39;1m1.15.1\u001b[39;22m\u001b[39m)\u001b[39m: \u001b[34mDownloading...\u001b[39m \u001b[39;1m10%\u001b[39;22m\n",
            "\u001b[5A\u001b[0J  \u001b[32;1m-\u001b[39;22m \u001b[39mInstalling \u001b[39m\u001b[36mjupyterlab\u001b[39m\u001b[39m (\u001b[39m\u001b[32m3.6.8\u001b[39m\u001b[39m)\u001b[39m\n",
            "  \u001b[34;1m-\u001b[39;22m \u001b[39mDowngrading \u001b[39m\u001b[36mpyproj\u001b[39m\u001b[39m (\u001b[39m\u001b[39;1m3.7.1\u001b[39;22m\u001b[39m -> \u001b[39m\u001b[39;1m3.7.0\u001b[39;22m\u001b[39m)\u001b[39m: \u001b[34mInstalling...\u001b[39m\n",
            "  \u001b[34;1m-\u001b[39;22m \u001b[39mUpdating \u001b[39m\u001b[36mrasterio\u001b[39m\u001b[39m (\u001b[39m\u001b[39;1m1.3.9\u001b[39;22m\u001b[39m -> \u001b[39m\u001b[39;1m1.4.3\u001b[39;22m\u001b[39m)\u001b[39m: \u001b[34mInstalling...\u001b[39m\n",
            "  \u001b[34;1m-\u001b[39;22m \u001b[39mDowngrading \u001b[39m\u001b[36mscipy\u001b[39m\u001b[39m (\u001b[39m\u001b[39;1m1.15.2\u001b[39;22m\u001b[39m -> \u001b[39m\u001b[39;1m1.15.1\u001b[39;22m\u001b[39m)\u001b[39m: \u001b[34mDownloading...\u001b[39m \u001b[39;1m10%\u001b[39;22m\n",
            "\u001b[4A\u001b[0J  \u001b[32;1m-\u001b[39;22m \u001b[39mUpdating \u001b[39m\u001b[36mjupyter-console\u001b[39m\u001b[39m (\u001b[39m\u001b[39;1m6.1.0\u001b[39;22m\u001b[39m -> \u001b[39m\u001b[32m6.6.3\u001b[39m\u001b[39m)\u001b[39m\n",
            "  \u001b[32;1m-\u001b[39;22m \u001b[39mInstalling \u001b[39m\u001b[36mjupyterlab\u001b[39m\u001b[39m (\u001b[39m\u001b[32m3.6.8\u001b[39m\u001b[39m)\u001b[39m\n",
            "  \u001b[34;1m-\u001b[39;22m \u001b[39mDowngrading \u001b[39m\u001b[36mpyproj\u001b[39m\u001b[39m (\u001b[39m\u001b[39;1m3.7.1\u001b[39;22m\u001b[39m -> \u001b[39m\u001b[39;1m3.7.0\u001b[39;22m\u001b[39m)\u001b[39m: \u001b[34mInstalling...\u001b[39m\n",
            "  \u001b[34;1m-\u001b[39;22m \u001b[39mUpdating \u001b[39m\u001b[36mrasterio\u001b[39m\u001b[39m (\u001b[39m\u001b[39;1m1.3.9\u001b[39;22m\u001b[39m -> \u001b[39m\u001b[39;1m1.4.3\u001b[39;22m\u001b[39m)\u001b[39m: \u001b[34mInstalling...\u001b[39m\n",
            "  \u001b[34;1m-\u001b[39;22m \u001b[39mDowngrading \u001b[39m\u001b[36mscipy\u001b[39m\u001b[39m (\u001b[39m\u001b[39;1m1.15.2\u001b[39;22m\u001b[39m -> \u001b[39m\u001b[39;1m1.15.1\u001b[39;22m\u001b[39m)\u001b[39m: \u001b[34mDownloading...\u001b[39m \u001b[39;1m10%\u001b[39;22m\n",
            "  \u001b[34;1m-\u001b[39;22m \u001b[39mUpdating \u001b[39m\u001b[36mshapely\u001b[39m\u001b[39m (\u001b[39m\u001b[39;1m2.0.1\u001b[39;22m\u001b[39m -> \u001b[39m\u001b[39;1m2.0.7\u001b[39;22m\u001b[39m)\u001b[39m: \u001b[34mPending...\u001b[39m\n",
            "\u001b[1A\u001b[0J  \u001b[34;1m-\u001b[39;22m \u001b[39mUpdating \u001b[39m\u001b[36mshapely\u001b[39m\u001b[39m (\u001b[39m\u001b[39;1m2.0.1\u001b[39;22m\u001b[39m -> \u001b[39m\u001b[39;1m2.0.7\u001b[39;22m\u001b[39m)\u001b[39m: \u001b[34mDownloading...\u001b[39m \u001b[39;1m0%\u001b[39;22m\n",
            "\u001b[8A\u001b[0J  \u001b[34;1m-\u001b[39;22m \u001b[39mDowngrading \u001b[39m\u001b[36mjoblib\u001b[39m\u001b[39m (\u001b[39m\u001b[39;1m1.4.2\u001b[39;22m\u001b[39m -> \u001b[39m\u001b[39;1m1.3.2\u001b[39;22m\u001b[39m)\u001b[39m: \u001b[34mInstalling...\u001b[39m\n",
            "  \u001b[32;1m-\u001b[39;22m \u001b[39mUpdating \u001b[39m\u001b[36mjupyter-console\u001b[39m\u001b[39m (\u001b[39m\u001b[39;1m6.1.0\u001b[39;22m\u001b[39m -> \u001b[39m\u001b[32m6.6.3\u001b[39m\u001b[39m)\u001b[39m\n",
            "  \u001b[32;1m-\u001b[39;22m \u001b[39mInstalling \u001b[39m\u001b[36mjupyterlab\u001b[39m\u001b[39m (\u001b[39m\u001b[32m3.6.8\u001b[39m\u001b[39m)\u001b[39m\n",
            "  \u001b[34;1m-\u001b[39;22m \u001b[39mDowngrading \u001b[39m\u001b[36mpyproj\u001b[39m\u001b[39m (\u001b[39m\u001b[39;1m3.7.1\u001b[39;22m\u001b[39m -> \u001b[39m\u001b[39;1m3.7.0\u001b[39;22m\u001b[39m)\u001b[39m: \u001b[34mInstalling...\u001b[39m\n",
            "  \u001b[34;1m-\u001b[39;22m \u001b[39mUpdating \u001b[39m\u001b[36mrasterio\u001b[39m\u001b[39m (\u001b[39m\u001b[39;1m1.3.9\u001b[39;22m\u001b[39m -> \u001b[39m\u001b[39;1m1.4.3\u001b[39;22m\u001b[39m)\u001b[39m: \u001b[34mInstalling...\u001b[39m\n",
            "  \u001b[34;1m-\u001b[39;22m \u001b[39mDowngrading \u001b[39m\u001b[36mscipy\u001b[39m\u001b[39m (\u001b[39m\u001b[39;1m1.15.2\u001b[39;22m\u001b[39m -> \u001b[39m\u001b[39;1m1.15.1\u001b[39;22m\u001b[39m)\u001b[39m: \u001b[34mDownloading...\u001b[39m \u001b[39;1m10%\u001b[39;22m\n",
            "  \u001b[34;1m-\u001b[39;22m \u001b[39mUpdating \u001b[39m\u001b[36mshapely\u001b[39m\u001b[39m (\u001b[39m\u001b[39;1m2.0.1\u001b[39;22m\u001b[39m -> \u001b[39m\u001b[39;1m2.0.7\u001b[39;22m\u001b[39m)\u001b[39m: \u001b[34mDownloading...\u001b[39m \u001b[39;1m0%\u001b[39;22m\n",
            "\u001b[7A\u001b[0J  \u001b[32;1m-\u001b[39;22m \u001b[39mUpdating \u001b[39m\u001b[36mipywidgets\u001b[39m\u001b[39m (\u001b[39m\u001b[39;1m7.7.1\u001b[39;22m\u001b[39m -> \u001b[39m\u001b[32m8.1.5\u001b[39m\u001b[39m)\u001b[39m\n",
            "  \u001b[34;1m-\u001b[39;22m \u001b[39mDowngrading \u001b[39m\u001b[36mjoblib\u001b[39m\u001b[39m (\u001b[39m\u001b[39;1m1.4.2\u001b[39;22m\u001b[39m -> \u001b[39m\u001b[39;1m1.3.2\u001b[39;22m\u001b[39m)\u001b[39m: \u001b[34mInstalling...\u001b[39m\n",
            "  \u001b[32;1m-\u001b[39;22m \u001b[39mUpdating \u001b[39m\u001b[36mjupyter-console\u001b[39m\u001b[39m (\u001b[39m\u001b[39;1m6.1.0\u001b[39;22m\u001b[39m -> \u001b[39m\u001b[32m6.6.3\u001b[39m\u001b[39m)\u001b[39m\n",
            "  \u001b[32;1m-\u001b[39;22m \u001b[39mInstalling \u001b[39m\u001b[36mjupyterlab\u001b[39m\u001b[39m (\u001b[39m\u001b[32m3.6.8\u001b[39m\u001b[39m)\u001b[39m\n",
            "  \u001b[34;1m-\u001b[39;22m \u001b[39mDowngrading \u001b[39m\u001b[36mpyproj\u001b[39m\u001b[39m (\u001b[39m\u001b[39;1m3.7.1\u001b[39;22m\u001b[39m -> \u001b[39m\u001b[39;1m3.7.0\u001b[39;22m\u001b[39m)\u001b[39m: \u001b[34mInstalling...\u001b[39m\n",
            "  \u001b[34;1m-\u001b[39;22m \u001b[39mUpdating \u001b[39m\u001b[36mrasterio\u001b[39m\u001b[39m (\u001b[39m\u001b[39;1m1.3.9\u001b[39;22m\u001b[39m -> \u001b[39m\u001b[39;1m1.4.3\u001b[39;22m\u001b[39m)\u001b[39m: \u001b[34mInstalling...\u001b[39m\n",
            "  \u001b[34;1m-\u001b[39;22m \u001b[39mDowngrading \u001b[39m\u001b[36mscipy\u001b[39m\u001b[39m (\u001b[39m\u001b[39;1m1.15.2\u001b[39;22m\u001b[39m -> \u001b[39m\u001b[39;1m1.15.1\u001b[39;22m\u001b[39m)\u001b[39m: \u001b[34mDownloading...\u001b[39m \u001b[39;1m10%\u001b[39;22m\n",
            "  \u001b[34;1m-\u001b[39;22m \u001b[39mUpdating \u001b[39m\u001b[36mshapely\u001b[39m\u001b[39m (\u001b[39m\u001b[39;1m2.0.1\u001b[39;22m\u001b[39m -> \u001b[39m\u001b[39;1m2.0.7\u001b[39;22m\u001b[39m)\u001b[39m: \u001b[34mDownloading...\u001b[39m \u001b[39;1m0%\u001b[39;22m\n",
            "  \u001b[34;1m-\u001b[39;22m \u001b[39mDowngrading \u001b[39m\u001b[36mthreadpoolctl\u001b[39m\u001b[39m (\u001b[39m\u001b[39;1m3.6.0\u001b[39;22m\u001b[39m -> \u001b[39m\u001b[39;1m3.1.0\u001b[39;22m\u001b[39m)\u001b[39m: \u001b[34mPending...\u001b[39m\n",
            "\u001b[1A\u001b[0J  \u001b[34;1m-\u001b[39;22m \u001b[39mDowngrading \u001b[39m\u001b[36mthreadpoolctl\u001b[39m\u001b[39m (\u001b[39m\u001b[39;1m3.6.0\u001b[39;22m\u001b[39m -> \u001b[39m\u001b[39;1m3.1.0\u001b[39;22m\u001b[39m)\u001b[39m: \u001b[34mDownloading...\u001b[39m \u001b[39;1m0%\u001b[39;22m\n",
            "\u001b[2A\u001b[0J  \u001b[34;1m-\u001b[39;22m \u001b[39mDowngrading \u001b[39m\u001b[36mthreadpoolctl\u001b[39m\u001b[39m (\u001b[39m\u001b[39;1m3.6.0\u001b[39;22m\u001b[39m -> \u001b[39m\u001b[39;1m3.1.0\u001b[39;22m\u001b[39m)\u001b[39m: \u001b[34mDownloading...\u001b[39m \u001b[39;1m0%\u001b[39;22m\n",
            "\u001b[1A\u001b[0J  \u001b[34;1m-\u001b[39;22m \u001b[39mUpdating \u001b[39m\u001b[36mshapely\u001b[39m\u001b[39m (\u001b[39m\u001b[39;1m2.0.1\u001b[39;22m\u001b[39m -> \u001b[39m\u001b[39;1m2.0.7\u001b[39;22m\u001b[39m)\u001b[39m: \u001b[34mDownloading...\u001b[39m \u001b[39;1m50%\u001b[39;22m\n",
            "  \u001b[34;1m-\u001b[39;22m \u001b[39mDowngrading \u001b[39m\u001b[36mthreadpoolctl\u001b[39m\u001b[39m (\u001b[39m\u001b[39;1m3.6.0\u001b[39;22m\u001b[39m -> \u001b[39m\u001b[39;1m3.1.0\u001b[39;22m\u001b[39m)\u001b[39m: \u001b[34mDownloading...\u001b[39m \u001b[39;1m0%\u001b[39;22m\n",
            "\u001b[1A\u001b[0J  \u001b[34;1m-\u001b[39;22m \u001b[39mDowngrading \u001b[39m\u001b[36mthreadpoolctl\u001b[39m\u001b[39m (\u001b[39m\u001b[39;1m3.6.0\u001b[39;22m\u001b[39m -> \u001b[39m\u001b[39;1m3.1.0\u001b[39;22m\u001b[39m)\u001b[39m: \u001b[34mDownloading...\u001b[39m \u001b[39;1m100%\u001b[39;22m\n",
            "\u001b[1A\u001b[0J  \u001b[34;1m-\u001b[39;22m \u001b[39mDowngrading \u001b[39m\u001b[36mthreadpoolctl\u001b[39m\u001b[39m (\u001b[39m\u001b[39;1m3.6.0\u001b[39;22m\u001b[39m -> \u001b[39m\u001b[39;1m3.1.0\u001b[39;22m\u001b[39m)\u001b[39m: \u001b[34mInstalling...\u001b[39m\n",
            "\u001b[8A\u001b[0J  \u001b[32;1m-\u001b[39;22m \u001b[39mUpdating \u001b[39m\u001b[36mjupyter-console\u001b[39m\u001b[39m (\u001b[39m\u001b[39;1m6.1.0\u001b[39;22m\u001b[39m -> \u001b[39m\u001b[32m6.6.3\u001b[39m\u001b[39m)\u001b[39m\n",
            "  \u001b[32;1m-\u001b[39;22m \u001b[39mInstalling \u001b[39m\u001b[36mjupyterlab\u001b[39m\u001b[39m (\u001b[39m\u001b[32m3.6.8\u001b[39m\u001b[39m)\u001b[39m\n",
            "  \u001b[34;1m-\u001b[39;22m \u001b[39mDowngrading \u001b[39m\u001b[36mpyproj\u001b[39m\u001b[39m (\u001b[39m\u001b[39;1m3.7.1\u001b[39;22m\u001b[39m -> \u001b[39m\u001b[39;1m3.7.0\u001b[39;22m\u001b[39m)\u001b[39m: \u001b[34mInstalling...\u001b[39m\n",
            "  \u001b[34;1m-\u001b[39;22m \u001b[39mUpdating \u001b[39m\u001b[36mrasterio\u001b[39m\u001b[39m (\u001b[39m\u001b[39;1m1.3.9\u001b[39;22m\u001b[39m -> \u001b[39m\u001b[39;1m1.4.3\u001b[39;22m\u001b[39m)\u001b[39m: \u001b[34mInstalling...\u001b[39m\n",
            "  \u001b[34;1m-\u001b[39;22m \u001b[39mDowngrading \u001b[39m\u001b[36mscipy\u001b[39m\u001b[39m (\u001b[39m\u001b[39;1m1.15.2\u001b[39;22m\u001b[39m -> \u001b[39m\u001b[39;1m1.15.1\u001b[39;22m\u001b[39m)\u001b[39m: \u001b[34mDownloading...\u001b[39m \u001b[39;1m10%\u001b[39;22m\n",
            "  \u001b[34;1m-\u001b[39;22m \u001b[39mUpdating \u001b[39m\u001b[36mshapely\u001b[39m\u001b[39m (\u001b[39m\u001b[39;1m2.0.1\u001b[39;22m\u001b[39m -> \u001b[39m\u001b[39;1m2.0.7\u001b[39;22m\u001b[39m)\u001b[39m: \u001b[34mDownloading...\u001b[39m \u001b[39;1m50%\u001b[39;22m\n",
            "  \u001b[34;1m-\u001b[39;22m \u001b[39mDowngrading \u001b[39m\u001b[36mthreadpoolctl\u001b[39m\u001b[39m (\u001b[39m\u001b[39;1m3.6.0\u001b[39;22m\u001b[39m -> \u001b[39m\u001b[39;1m3.1.0\u001b[39;22m\u001b[39m)\u001b[39m: \u001b[34mInstalling...\u001b[39m\n",
            "\u001b[7A\u001b[0J  \u001b[32;1m-\u001b[39;22m \u001b[39mDowngrading \u001b[39m\u001b[36mjoblib\u001b[39m\u001b[39m (\u001b[39m\u001b[39;1m1.4.2\u001b[39;22m\u001b[39m -> \u001b[39m\u001b[32m1.3.2\u001b[39m\u001b[39m)\u001b[39m\n",
            "  \u001b[32;1m-\u001b[39;22m \u001b[39mUpdating \u001b[39m\u001b[36mjupyter-console\u001b[39m\u001b[39m (\u001b[39m\u001b[39;1m6.1.0\u001b[39;22m\u001b[39m -> \u001b[39m\u001b[32m6.6.3\u001b[39m\u001b[39m)\u001b[39m\n",
            "  \u001b[32;1m-\u001b[39;22m \u001b[39mInstalling \u001b[39m\u001b[36mjupyterlab\u001b[39m\u001b[39m (\u001b[39m\u001b[32m3.6.8\u001b[39m\u001b[39m)\u001b[39m\n",
            "  \u001b[34;1m-\u001b[39;22m \u001b[39mDowngrading \u001b[39m\u001b[36mpyproj\u001b[39m\u001b[39m (\u001b[39m\u001b[39;1m3.7.1\u001b[39;22m\u001b[39m -> \u001b[39m\u001b[39;1m3.7.0\u001b[39;22m\u001b[39m)\u001b[39m: \u001b[34mInstalling...\u001b[39m\n",
            "  \u001b[34;1m-\u001b[39;22m \u001b[39mUpdating \u001b[39m\u001b[36mrasterio\u001b[39m\u001b[39m (\u001b[39m\u001b[39;1m1.3.9\u001b[39;22m\u001b[39m -> \u001b[39m\u001b[39;1m1.4.3\u001b[39;22m\u001b[39m)\u001b[39m: \u001b[34mInstalling...\u001b[39m\n",
            "  \u001b[34;1m-\u001b[39;22m \u001b[39mDowngrading \u001b[39m\u001b[36mscipy\u001b[39m\u001b[39m (\u001b[39m\u001b[39;1m1.15.2\u001b[39;22m\u001b[39m -> \u001b[39m\u001b[39;1m1.15.1\u001b[39;22m\u001b[39m)\u001b[39m: \u001b[34mDownloading...\u001b[39m \u001b[39;1m10%\u001b[39;22m\n",
            "  \u001b[34;1m-\u001b[39;22m \u001b[39mUpdating \u001b[39m\u001b[36mshapely\u001b[39m\u001b[39m (\u001b[39m\u001b[39;1m2.0.1\u001b[39;22m\u001b[39m -> \u001b[39m\u001b[39;1m2.0.7\u001b[39;22m\u001b[39m)\u001b[39m: \u001b[34mDownloading...\u001b[39m \u001b[39;1m50%\u001b[39;22m\n",
            "  \u001b[34;1m-\u001b[39;22m \u001b[39mDowngrading \u001b[39m\u001b[36mthreadpoolctl\u001b[39m\u001b[39m (\u001b[39m\u001b[39;1m3.6.0\u001b[39;22m\u001b[39m -> \u001b[39m\u001b[39;1m3.1.0\u001b[39;22m\u001b[39m)\u001b[39m: \u001b[34mInstalling...\u001b[39m\n",
            "  \u001b[34;1m-\u001b[39;22m \u001b[39mDowngrading \u001b[39m\u001b[36mxarray\u001b[39m\u001b[39m (\u001b[39m\u001b[39;1m2023.6.0\u001b[39;22m\u001b[39m -> \u001b[39m\u001b[39;1m2023.1.0\u001b[39;22m\u001b[39m)\u001b[39m: \u001b[34mPending...\u001b[39m\n",
            "\u001b[4A\u001b[0J  \u001b[34;1m-\u001b[39;22m \u001b[39mUpdating \u001b[39m\u001b[36mshapely\u001b[39m\u001b[39m (\u001b[39m\u001b[39;1m2.0.1\u001b[39;22m\u001b[39m -> \u001b[39m\u001b[39;1m2.0.7\u001b[39;22m\u001b[39m)\u001b[39m: \u001b[34mDownloading...\u001b[39m \u001b[39;1m50%\u001b[39;22m\n",
            "  \u001b[34;1m-\u001b[39;22m \u001b[39mDowngrading \u001b[39m\u001b[36mthreadpoolctl\u001b[39m\u001b[39m (\u001b[39m\u001b[39;1m3.6.0\u001b[39;22m\u001b[39m -> \u001b[39m\u001b[39;1m3.1.0\u001b[39;22m\u001b[39m)\u001b[39m: \u001b[34mInstalling...\u001b[39m\n",
            "  \u001b[34;1m-\u001b[39;22m \u001b[39mDowngrading \u001b[39m\u001b[36mxarray\u001b[39m\u001b[39m (\u001b[39m\u001b[39;1m2023.6.0\u001b[39;22m\u001b[39m -> \u001b[39m\u001b[39;1m2023.1.0\u001b[39;22m\u001b[39m)\u001b[39m: \u001b[34mPending...\u001b[39m\n",
            "\u001b[3A\u001b[0J  \u001b[34;1m-\u001b[39;22m \u001b[39mDowngrading \u001b[39m\u001b[36mscipy\u001b[39m\u001b[39m (\u001b[39m\u001b[39;1m1.15.2\u001b[39;22m\u001b[39m -> \u001b[39m\u001b[39;1m1.15.1\u001b[39;22m\u001b[39m)\u001b[39m: \u001b[34mDownloading...\u001b[39m \u001b[39;1m20%\u001b[39;22m\n",
            "  \u001b[34;1m-\u001b[39;22m \u001b[39mUpdating \u001b[39m\u001b[36mshapely\u001b[39m\u001b[39m (\u001b[39m\u001b[39;1m2.0.1\u001b[39;22m\u001b[39m -> \u001b[39m\u001b[39;1m2.0.7\u001b[39;22m\u001b[39m)\u001b[39m: \u001b[34mDownloading...\u001b[39m \u001b[39;1m50%\u001b[39;22m\n",
            "  \u001b[34;1m-\u001b[39;22m \u001b[39mDowngrading \u001b[39m\u001b[36mthreadpoolctl\u001b[39m\u001b[39m (\u001b[39m\u001b[39;1m3.6.0\u001b[39;22m\u001b[39m -> \u001b[39m\u001b[39;1m3.1.0\u001b[39;22m\u001b[39m)\u001b[39m: \u001b[34mInstalling...\u001b[39m\n",
            "  \u001b[34;1m-\u001b[39;22m \u001b[39mDowngrading \u001b[39m\u001b[36mxarray\u001b[39m\u001b[39m (\u001b[39m\u001b[39;1m2023.6.0\u001b[39;22m\u001b[39m -> \u001b[39m\u001b[39;1m2023.1.0\u001b[39;22m\u001b[39m)\u001b[39m: \u001b[34mPending...\u001b[39m\n",
            "\u001b[1A\u001b[0J  \u001b[34;1m-\u001b[39;22m \u001b[39mDowngrading \u001b[39m\u001b[36mxarray\u001b[39m\u001b[39m (\u001b[39m\u001b[39;1m2023.6.0\u001b[39;22m\u001b[39m -> \u001b[39m\u001b[39;1m2023.1.0\u001b[39;22m\u001b[39m)\u001b[39m: \u001b[34mDownloading...\u001b[39m \u001b[39;1m0%\u001b[39;22m\n",
            "\u001b[3A\u001b[0J  \u001b[34;1m-\u001b[39;22m \u001b[39mDowngrading \u001b[39m\u001b[36mthreadpoolctl\u001b[39m\u001b[39m (\u001b[39m\u001b[39;1m3.6.0\u001b[39;22m\u001b[39m -> \u001b[39m\u001b[39;1m3.1.0\u001b[39;22m\u001b[39m)\u001b[39m: \u001b[34mInstalling...\u001b[39m\n",
            "  \u001b[34;1m-\u001b[39;22m \u001b[39mDowngrading \u001b[39m\u001b[36mxarray\u001b[39m\u001b[39m (\u001b[39m\u001b[39;1m2023.6.0\u001b[39;22m\u001b[39m -> \u001b[39m\u001b[39;1m2023.1.0\u001b[39;22m\u001b[39m)\u001b[39m: \u001b[34mDownloading...\u001b[39m \u001b[39;1m0%\u001b[39;22m\n",
            "\u001b[2A\u001b[0J  \u001b[34;1m-\u001b[39;22m \u001b[39mUpdating \u001b[39m\u001b[36mshapely\u001b[39m\u001b[39m (\u001b[39m\u001b[39;1m2.0.1\u001b[39;22m\u001b[39m -> \u001b[39m\u001b[39;1m2.0.7\u001b[39;22m\u001b[39m)\u001b[39m: \u001b[34mDownloading...\u001b[39m \u001b[39;1m100%\u001b[39;22m\n",
            "  \u001b[34;1m-\u001b[39;22m \u001b[39mDowngrading \u001b[39m\u001b[36mthreadpoolctl\u001b[39m\u001b[39m (\u001b[39m\u001b[39;1m3.6.0\u001b[39;22m\u001b[39m -> \u001b[39m\u001b[39;1m3.1.0\u001b[39;22m\u001b[39m)\u001b[39m: \u001b[34mInstalling...\u001b[39m\n",
            "  \u001b[34;1m-\u001b[39;22m \u001b[39mDowngrading \u001b[39m\u001b[36mxarray\u001b[39m\u001b[39m (\u001b[39m\u001b[39;1m2023.6.0\u001b[39;22m\u001b[39m -> \u001b[39m\u001b[39;1m2023.1.0\u001b[39;22m\u001b[39m)\u001b[39m: \u001b[34mDownloading...\u001b[39m \u001b[39;1m0%\u001b[39;22m\n",
            "\u001b[1A\u001b[0J  \u001b[34;1m-\u001b[39;22m \u001b[39mDowngrading \u001b[39m\u001b[36mxarray\u001b[39m\u001b[39m (\u001b[39m\u001b[39;1m2023.6.0\u001b[39;22m\u001b[39m -> \u001b[39m\u001b[39;1m2023.1.0\u001b[39;22m\u001b[39m)\u001b[39m: \u001b[34mDownloading...\u001b[39m \u001b[39;1m100%\u001b[39;22m\n",
            "\u001b[3A\u001b[0J  \u001b[34;1m-\u001b[39;22m \u001b[39mDowngrading \u001b[39m\u001b[36mthreadpoolctl\u001b[39m\u001b[39m (\u001b[39m\u001b[39;1m3.6.0\u001b[39;22m\u001b[39m -> \u001b[39m\u001b[39;1m3.1.0\u001b[39;22m\u001b[39m)\u001b[39m: \u001b[34mInstalling...\u001b[39m\n",
            "  \u001b[34;1m-\u001b[39;22m \u001b[39mDowngrading \u001b[39m\u001b[36mxarray\u001b[39m\u001b[39m (\u001b[39m\u001b[39;1m2023.6.0\u001b[39;22m\u001b[39m -> \u001b[39m\u001b[39;1m2023.1.0\u001b[39;22m\u001b[39m)\u001b[39m: \u001b[34mDownloading...\u001b[39m \u001b[39;1m100%\u001b[39;22m\n",
            "\u001b[2A\u001b[0J  \u001b[34;1m-\u001b[39;22m \u001b[39mUpdating \u001b[39m\u001b[36mshapely\u001b[39m\u001b[39m (\u001b[39m\u001b[39;1m2.0.1\u001b[39;22m\u001b[39m -> \u001b[39m\u001b[39;1m2.0.7\u001b[39;22m\u001b[39m)\u001b[39m: \u001b[34mInstalling...\u001b[39m\n",
            "  \u001b[34;1m-\u001b[39;22m \u001b[39mDowngrading \u001b[39m\u001b[36mthreadpoolctl\u001b[39m\u001b[39m (\u001b[39m\u001b[39;1m3.6.0\u001b[39;22m\u001b[39m -> \u001b[39m\u001b[39;1m3.1.0\u001b[39;22m\u001b[39m)\u001b[39m: \u001b[34mInstalling...\u001b[39m\n",
            "  \u001b[34;1m-\u001b[39;22m \u001b[39mDowngrading \u001b[39m\u001b[36mxarray\u001b[39m\u001b[39m (\u001b[39m\u001b[39;1m2023.6.0\u001b[39;22m\u001b[39m -> \u001b[39m\u001b[39;1m2023.1.0\u001b[39;22m\u001b[39m)\u001b[39m: \u001b[34mDownloading...\u001b[39m \u001b[39;1m100%\u001b[39;22m\n",
            "\u001b[1A\u001b[0J  \u001b[34;1m-\u001b[39;22m \u001b[39mDowngrading \u001b[39m\u001b[36mxarray\u001b[39m\u001b[39m (\u001b[39m\u001b[39;1m2023.6.0\u001b[39;22m\u001b[39m -> \u001b[39m\u001b[39;1m2023.1.0\u001b[39;22m\u001b[39m)\u001b[39m: \u001b[34mInstalling...\u001b[39m\n",
            "\u001b[4A\u001b[0J  \u001b[34;1m-\u001b[39;22m \u001b[39mUpdating \u001b[39m\u001b[36mshapely\u001b[39m\u001b[39m (\u001b[39m\u001b[39;1m2.0.1\u001b[39;22m\u001b[39m -> \u001b[39m\u001b[39;1m2.0.7\u001b[39;22m\u001b[39m)\u001b[39m: \u001b[34mInstalling...\u001b[39m\n",
            "  \u001b[34;1m-\u001b[39;22m \u001b[39mDowngrading \u001b[39m\u001b[36mthreadpoolctl\u001b[39m\u001b[39m (\u001b[39m\u001b[39;1m3.6.0\u001b[39;22m\u001b[39m -> \u001b[39m\u001b[39;1m3.1.0\u001b[39;22m\u001b[39m)\u001b[39m: \u001b[34mInstalling...\u001b[39m\n",
            "  \u001b[34;1m-\u001b[39;22m \u001b[39mDowngrading \u001b[39m\u001b[36mxarray\u001b[39m\u001b[39m (\u001b[39m\u001b[39;1m2023.6.0\u001b[39;22m\u001b[39m -> \u001b[39m\u001b[39;1m2023.1.0\u001b[39;22m\u001b[39m)\u001b[39m: \u001b[34mInstalling...\u001b[39m\n",
            "\u001b[3A\u001b[0J  \u001b[34;1m-\u001b[39;22m \u001b[39mDowngrading \u001b[39m\u001b[36mscipy\u001b[39m\u001b[39m (\u001b[39m\u001b[39;1m1.15.2\u001b[39;22m\u001b[39m -> \u001b[39m\u001b[39;1m1.15.1\u001b[39;22m\u001b[39m)\u001b[39m: \u001b[34mDownloading...\u001b[39m \u001b[39;1m30%\u001b[39;22m\n",
            "  \u001b[34;1m-\u001b[39;22m \u001b[39mUpdating \u001b[39m\u001b[36mshapely\u001b[39m\u001b[39m (\u001b[39m\u001b[39;1m2.0.1\u001b[39;22m\u001b[39m -> \u001b[39m\u001b[39;1m2.0.7\u001b[39;22m\u001b[39m)\u001b[39m: \u001b[34mInstalling...\u001b[39m\n",
            "  \u001b[34;1m-\u001b[39;22m \u001b[39mDowngrading \u001b[39m\u001b[36mthreadpoolctl\u001b[39m\u001b[39m (\u001b[39m\u001b[39;1m3.6.0\u001b[39;22m\u001b[39m -> \u001b[39m\u001b[39;1m3.1.0\u001b[39;22m\u001b[39m)\u001b[39m: \u001b[34mInstalling...\u001b[39m\n",
            "  \u001b[34;1m-\u001b[39;22m \u001b[39mDowngrading \u001b[39m\u001b[36mxarray\u001b[39m\u001b[39m (\u001b[39m\u001b[39;1m2023.6.0\u001b[39;22m\u001b[39m -> \u001b[39m\u001b[39;1m2023.1.0\u001b[39;22m\u001b[39m)\u001b[39m: \u001b[34mInstalling...\u001b[39m\n",
            "\u001b[4A\u001b[0J  \u001b[34;1m-\u001b[39;22m \u001b[39mUpdating \u001b[39m\u001b[36mshapely\u001b[39m\u001b[39m (\u001b[39m\u001b[39;1m2.0.1\u001b[39;22m\u001b[39m -> \u001b[39m\u001b[39;1m2.0.7\u001b[39;22m\u001b[39m)\u001b[39m: \u001b[34mInstalling...\u001b[39m\n",
            "  \u001b[34;1m-\u001b[39;22m \u001b[39mDowngrading \u001b[39m\u001b[36mthreadpoolctl\u001b[39m\u001b[39m (\u001b[39m\u001b[39;1m3.6.0\u001b[39;22m\u001b[39m -> \u001b[39m\u001b[39;1m3.1.0\u001b[39;22m\u001b[39m)\u001b[39m: \u001b[34mInstalling...\u001b[39m\n",
            "  \u001b[34;1m-\u001b[39;22m \u001b[39mDowngrading \u001b[39m\u001b[36mxarray\u001b[39m\u001b[39m (\u001b[39m\u001b[39;1m2023.6.0\u001b[39;22m\u001b[39m -> \u001b[39m\u001b[39;1m2023.1.0\u001b[39;22m\u001b[39m)\u001b[39m: \u001b[34mInstalling...\u001b[39m\n",
            "\u001b[3A\u001b[0J  \u001b[34;1m-\u001b[39;22m \u001b[39mDowngrading \u001b[39m\u001b[36mscipy\u001b[39m\u001b[39m (\u001b[39m\u001b[39;1m1.15.2\u001b[39;22m\u001b[39m -> \u001b[39m\u001b[39;1m1.15.1\u001b[39;22m\u001b[39m)\u001b[39m: \u001b[34mDownloading...\u001b[39m \u001b[39;1m40%\u001b[39;22m\n",
            "  \u001b[34;1m-\u001b[39;22m \u001b[39mUpdating \u001b[39m\u001b[36mshapely\u001b[39m\u001b[39m (\u001b[39m\u001b[39;1m2.0.1\u001b[39;22m\u001b[39m -> \u001b[39m\u001b[39;1m2.0.7\u001b[39;22m\u001b[39m)\u001b[39m: \u001b[34mInstalling...\u001b[39m\n",
            "  \u001b[34;1m-\u001b[39;22m \u001b[39mDowngrading \u001b[39m\u001b[36mthreadpoolctl\u001b[39m\u001b[39m (\u001b[39m\u001b[39;1m3.6.0\u001b[39;22m\u001b[39m -> \u001b[39m\u001b[39;1m3.1.0\u001b[39;22m\u001b[39m)\u001b[39m: \u001b[34mInstalling...\u001b[39m\n",
            "  \u001b[34;1m-\u001b[39;22m \u001b[39mDowngrading \u001b[39m\u001b[36mxarray\u001b[39m\u001b[39m (\u001b[39m\u001b[39;1m2023.6.0\u001b[39;22m\u001b[39m -> \u001b[39m\u001b[39;1m2023.1.0\u001b[39;22m\u001b[39m)\u001b[39m: \u001b[34mInstalling...\u001b[39m\n",
            "\u001b[4A\u001b[0J  \u001b[34;1m-\u001b[39;22m \u001b[39mUpdating \u001b[39m\u001b[36mshapely\u001b[39m\u001b[39m (\u001b[39m\u001b[39;1m2.0.1\u001b[39;22m\u001b[39m -> \u001b[39m\u001b[39;1m2.0.7\u001b[39;22m\u001b[39m)\u001b[39m: \u001b[34mInstalling...\u001b[39m\n",
            "  \u001b[34;1m-\u001b[39;22m \u001b[39mDowngrading \u001b[39m\u001b[36mthreadpoolctl\u001b[39m\u001b[39m (\u001b[39m\u001b[39;1m3.6.0\u001b[39;22m\u001b[39m -> \u001b[39m\u001b[39;1m3.1.0\u001b[39;22m\u001b[39m)\u001b[39m: \u001b[34mInstalling...\u001b[39m\n",
            "  \u001b[34;1m-\u001b[39;22m \u001b[39mDowngrading \u001b[39m\u001b[36mxarray\u001b[39m\u001b[39m (\u001b[39m\u001b[39;1m2023.6.0\u001b[39;22m\u001b[39m -> \u001b[39m\u001b[39;1m2023.1.0\u001b[39;22m\u001b[39m)\u001b[39m: \u001b[34mInstalling...\u001b[39m\n",
            "\u001b[3A\u001b[0J  \u001b[34;1m-\u001b[39;22m \u001b[39mDowngrading \u001b[39m\u001b[36mscipy\u001b[39m\u001b[39m (\u001b[39m\u001b[39;1m1.15.2\u001b[39;22m\u001b[39m -> \u001b[39m\u001b[39;1m1.15.1\u001b[39;22m\u001b[39m)\u001b[39m: \u001b[34mDownloading...\u001b[39m \u001b[39;1m50%\u001b[39;22m\n",
            "  \u001b[34;1m-\u001b[39;22m \u001b[39mUpdating \u001b[39m\u001b[36mshapely\u001b[39m\u001b[39m (\u001b[39m\u001b[39;1m2.0.1\u001b[39;22m\u001b[39m -> \u001b[39m\u001b[39;1m2.0.7\u001b[39;22m\u001b[39m)\u001b[39m: \u001b[34mInstalling...\u001b[39m\n",
            "  \u001b[34;1m-\u001b[39;22m \u001b[39mDowngrading \u001b[39m\u001b[36mthreadpoolctl\u001b[39m\u001b[39m (\u001b[39m\u001b[39;1m3.6.0\u001b[39;22m\u001b[39m -> \u001b[39m\u001b[39;1m3.1.0\u001b[39;22m\u001b[39m)\u001b[39m: \u001b[34mInstalling...\u001b[39m\n",
            "  \u001b[34;1m-\u001b[39;22m \u001b[39mDowngrading \u001b[39m\u001b[36mxarray\u001b[39m\u001b[39m (\u001b[39m\u001b[39;1m2023.6.0\u001b[39;22m\u001b[39m -> \u001b[39m\u001b[39;1m2023.1.0\u001b[39;22m\u001b[39m)\u001b[39m: \u001b[34mInstalling...\u001b[39m\n",
            "\u001b[4A\u001b[0J  \u001b[34;1m-\u001b[39;22m \u001b[39mUpdating \u001b[39m\u001b[36mshapely\u001b[39m\u001b[39m (\u001b[39m\u001b[39;1m2.0.1\u001b[39;22m\u001b[39m -> \u001b[39m\u001b[39;1m2.0.7\u001b[39;22m\u001b[39m)\u001b[39m: \u001b[34mInstalling...\u001b[39m\n",
            "  \u001b[34;1m-\u001b[39;22m \u001b[39mDowngrading \u001b[39m\u001b[36mthreadpoolctl\u001b[39m\u001b[39m (\u001b[39m\u001b[39;1m3.6.0\u001b[39;22m\u001b[39m -> \u001b[39m\u001b[39;1m3.1.0\u001b[39;22m\u001b[39m)\u001b[39m: \u001b[34mInstalling...\u001b[39m\n",
            "  \u001b[34;1m-\u001b[39;22m \u001b[39mDowngrading \u001b[39m\u001b[36mxarray\u001b[39m\u001b[39m (\u001b[39m\u001b[39;1m2023.6.0\u001b[39;22m\u001b[39m -> \u001b[39m\u001b[39;1m2023.1.0\u001b[39;22m\u001b[39m)\u001b[39m: \u001b[34mInstalling...\u001b[39m\n",
            "\u001b[3A\u001b[0J  \u001b[34;1m-\u001b[39;22m \u001b[39mDowngrading \u001b[39m\u001b[36mscipy\u001b[39m\u001b[39m (\u001b[39m\u001b[39;1m1.15.2\u001b[39;22m\u001b[39m -> \u001b[39m\u001b[39;1m1.15.1\u001b[39;22m\u001b[39m)\u001b[39m: \u001b[34mDownloading...\u001b[39m \u001b[39;1m60%\u001b[39;22m\n",
            "  \u001b[34;1m-\u001b[39;22m \u001b[39mUpdating \u001b[39m\u001b[36mshapely\u001b[39m\u001b[39m (\u001b[39m\u001b[39;1m2.0.1\u001b[39;22m\u001b[39m -> \u001b[39m\u001b[39;1m2.0.7\u001b[39;22m\u001b[39m)\u001b[39m: \u001b[34mInstalling...\u001b[39m\n",
            "  \u001b[34;1m-\u001b[39;22m \u001b[39mDowngrading \u001b[39m\u001b[36mthreadpoolctl\u001b[39m\u001b[39m (\u001b[39m\u001b[39;1m3.6.0\u001b[39;22m\u001b[39m -> \u001b[39m\u001b[39;1m3.1.0\u001b[39;22m\u001b[39m)\u001b[39m: \u001b[34mInstalling...\u001b[39m\n",
            "  \u001b[34;1m-\u001b[39;22m \u001b[39mDowngrading \u001b[39m\u001b[36mxarray\u001b[39m\u001b[39m (\u001b[39m\u001b[39;1m2023.6.0\u001b[39;22m\u001b[39m -> \u001b[39m\u001b[39;1m2023.1.0\u001b[39;22m\u001b[39m)\u001b[39m: \u001b[34mInstalling...\u001b[39m\n",
            "\u001b[4A\u001b[0J  \u001b[34;1m-\u001b[39;22m \u001b[39mUpdating \u001b[39m\u001b[36mshapely\u001b[39m\u001b[39m (\u001b[39m\u001b[39;1m2.0.1\u001b[39;22m\u001b[39m -> \u001b[39m\u001b[39;1m2.0.7\u001b[39;22m\u001b[39m)\u001b[39m: \u001b[34mInstalling...\u001b[39m\n",
            "  \u001b[34;1m-\u001b[39;22m \u001b[39mDowngrading \u001b[39m\u001b[36mthreadpoolctl\u001b[39m\u001b[39m (\u001b[39m\u001b[39;1m3.6.0\u001b[39;22m\u001b[39m -> \u001b[39m\u001b[39;1m3.1.0\u001b[39;22m\u001b[39m)\u001b[39m: \u001b[34mInstalling...\u001b[39m\n",
            "  \u001b[34;1m-\u001b[39;22m \u001b[39mDowngrading \u001b[39m\u001b[36mxarray\u001b[39m\u001b[39m (\u001b[39m\u001b[39;1m2023.6.0\u001b[39;22m\u001b[39m -> \u001b[39m\u001b[39;1m2023.1.0\u001b[39;22m\u001b[39m)\u001b[39m: \u001b[34mInstalling...\u001b[39m\n",
            "\u001b[3A\u001b[0J  \u001b[34;1m-\u001b[39;22m \u001b[39mDowngrading \u001b[39m\u001b[36mscipy\u001b[39m\u001b[39m (\u001b[39m\u001b[39;1m1.15.2\u001b[39;22m\u001b[39m -> \u001b[39m\u001b[39;1m1.15.1\u001b[39;22m\u001b[39m)\u001b[39m: \u001b[34mDownloading...\u001b[39m \u001b[39;1m70%\u001b[39;22m\n",
            "  \u001b[34;1m-\u001b[39;22m \u001b[39mUpdating \u001b[39m\u001b[36mshapely\u001b[39m\u001b[39m (\u001b[39m\u001b[39;1m2.0.1\u001b[39;22m\u001b[39m -> \u001b[39m\u001b[39;1m2.0.7\u001b[39;22m\u001b[39m)\u001b[39m: \u001b[34mInstalling...\u001b[39m\n",
            "  \u001b[34;1m-\u001b[39;22m \u001b[39mDowngrading \u001b[39m\u001b[36mthreadpoolctl\u001b[39m\u001b[39m (\u001b[39m\u001b[39;1m3.6.0\u001b[39;22m\u001b[39m -> \u001b[39m\u001b[39;1m3.1.0\u001b[39;22m\u001b[39m)\u001b[39m: \u001b[34mInstalling...\u001b[39m\n",
            "  \u001b[34;1m-\u001b[39;22m \u001b[39mDowngrading \u001b[39m\u001b[36mxarray\u001b[39m\u001b[39m (\u001b[39m\u001b[39;1m2023.6.0\u001b[39;22m\u001b[39m -> \u001b[39m\u001b[39;1m2023.1.0\u001b[39;22m\u001b[39m)\u001b[39m: \u001b[34mInstalling...\u001b[39m\n",
            "\u001b[4A\u001b[0J  \u001b[34;1m-\u001b[39;22m \u001b[39mUpdating \u001b[39m\u001b[36mshapely\u001b[39m\u001b[39m (\u001b[39m\u001b[39;1m2.0.1\u001b[39;22m\u001b[39m -> \u001b[39m\u001b[39;1m2.0.7\u001b[39;22m\u001b[39m)\u001b[39m: \u001b[34mInstalling...\u001b[39m\n",
            "  \u001b[34;1m-\u001b[39;22m \u001b[39mDowngrading \u001b[39m\u001b[36mthreadpoolctl\u001b[39m\u001b[39m (\u001b[39m\u001b[39;1m3.6.0\u001b[39;22m\u001b[39m -> \u001b[39m\u001b[39;1m3.1.0\u001b[39;22m\u001b[39m)\u001b[39m: \u001b[34mInstalling...\u001b[39m\n",
            "  \u001b[34;1m-\u001b[39;22m \u001b[39mDowngrading \u001b[39m\u001b[36mxarray\u001b[39m\u001b[39m (\u001b[39m\u001b[39;1m2023.6.0\u001b[39;22m\u001b[39m -> \u001b[39m\u001b[39;1m2023.1.0\u001b[39;22m\u001b[39m)\u001b[39m: \u001b[34mInstalling...\u001b[39m\n",
            "\u001b[3A\u001b[0J  \u001b[34;1m-\u001b[39;22m \u001b[39mDowngrading \u001b[39m\u001b[36mscipy\u001b[39m\u001b[39m (\u001b[39m\u001b[39;1m1.15.2\u001b[39;22m\u001b[39m -> \u001b[39m\u001b[39;1m1.15.1\u001b[39;22m\u001b[39m)\u001b[39m: \u001b[34mDownloading...\u001b[39m \u001b[39;1m80%\u001b[39;22m\n",
            "  \u001b[34;1m-\u001b[39;22m \u001b[39mUpdating \u001b[39m\u001b[36mshapely\u001b[39m\u001b[39m (\u001b[39m\u001b[39;1m2.0.1\u001b[39;22m\u001b[39m -> \u001b[39m\u001b[39;1m2.0.7\u001b[39;22m\u001b[39m)\u001b[39m: \u001b[34mInstalling...\u001b[39m\n",
            "  \u001b[34;1m-\u001b[39;22m \u001b[39mDowngrading \u001b[39m\u001b[36mthreadpoolctl\u001b[39m\u001b[39m (\u001b[39m\u001b[39;1m3.6.0\u001b[39;22m\u001b[39m -> \u001b[39m\u001b[39;1m3.1.0\u001b[39;22m\u001b[39m)\u001b[39m: \u001b[34mInstalling...\u001b[39m\n",
            "  \u001b[34;1m-\u001b[39;22m \u001b[39mDowngrading \u001b[39m\u001b[36mxarray\u001b[39m\u001b[39m (\u001b[39m\u001b[39;1m2023.6.0\u001b[39;22m\u001b[39m -> \u001b[39m\u001b[39;1m2023.1.0\u001b[39;22m\u001b[39m)\u001b[39m: \u001b[34mInstalling...\u001b[39m\n",
            "\u001b[4A\u001b[0J  \u001b[34;1m-\u001b[39;22m \u001b[39mUpdating \u001b[39m\u001b[36mshapely\u001b[39m\u001b[39m (\u001b[39m\u001b[39;1m2.0.1\u001b[39;22m\u001b[39m -> \u001b[39m\u001b[39;1m2.0.7\u001b[39;22m\u001b[39m)\u001b[39m: \u001b[34mInstalling...\u001b[39m\n",
            "  \u001b[34;1m-\u001b[39;22m \u001b[39mDowngrading \u001b[39m\u001b[36mthreadpoolctl\u001b[39m\u001b[39m (\u001b[39m\u001b[39;1m3.6.0\u001b[39;22m\u001b[39m -> \u001b[39m\u001b[39;1m3.1.0\u001b[39;22m\u001b[39m)\u001b[39m: \u001b[34mInstalling...\u001b[39m\n",
            "  \u001b[34;1m-\u001b[39;22m \u001b[39mDowngrading \u001b[39m\u001b[36mxarray\u001b[39m\u001b[39m (\u001b[39m\u001b[39;1m2023.6.0\u001b[39;22m\u001b[39m -> \u001b[39m\u001b[39;1m2023.1.0\u001b[39;22m\u001b[39m)\u001b[39m: \u001b[34mInstalling...\u001b[39m\n",
            "\u001b[3A\u001b[0J  \u001b[34;1m-\u001b[39;22m \u001b[39mDowngrading \u001b[39m\u001b[36mscipy\u001b[39m\u001b[39m (\u001b[39m\u001b[39;1m1.15.2\u001b[39;22m\u001b[39m -> \u001b[39m\u001b[39;1m1.15.1\u001b[39;22m\u001b[39m)\u001b[39m: \u001b[34mDownloading...\u001b[39m \u001b[39;1m90%\u001b[39;22m\n",
            "  \u001b[34;1m-\u001b[39;22m \u001b[39mUpdating \u001b[39m\u001b[36mshapely\u001b[39m\u001b[39m (\u001b[39m\u001b[39;1m2.0.1\u001b[39;22m\u001b[39m -> \u001b[39m\u001b[39;1m2.0.7\u001b[39;22m\u001b[39m)\u001b[39m: \u001b[34mInstalling...\u001b[39m\n",
            "  \u001b[34;1m-\u001b[39;22m \u001b[39mDowngrading \u001b[39m\u001b[36mthreadpoolctl\u001b[39m\u001b[39m (\u001b[39m\u001b[39;1m3.6.0\u001b[39;22m\u001b[39m -> \u001b[39m\u001b[39;1m3.1.0\u001b[39;22m\u001b[39m)\u001b[39m: \u001b[34mInstalling...\u001b[39m\n",
            "  \u001b[34;1m-\u001b[39;22m \u001b[39mDowngrading \u001b[39m\u001b[36mxarray\u001b[39m\u001b[39m (\u001b[39m\u001b[39;1m2023.6.0\u001b[39;22m\u001b[39m -> \u001b[39m\u001b[39;1m2023.1.0\u001b[39;22m\u001b[39m)\u001b[39m: \u001b[34mInstalling...\u001b[39m\n",
            "\u001b[4A\u001b[0J  \u001b[34;1m-\u001b[39;22m \u001b[39mUpdating \u001b[39m\u001b[36mshapely\u001b[39m\u001b[39m (\u001b[39m\u001b[39;1m2.0.1\u001b[39;22m\u001b[39m -> \u001b[39m\u001b[39;1m2.0.7\u001b[39;22m\u001b[39m)\u001b[39m: \u001b[34mInstalling...\u001b[39m\n",
            "  \u001b[34;1m-\u001b[39;22m \u001b[39mDowngrading \u001b[39m\u001b[36mthreadpoolctl\u001b[39m\u001b[39m (\u001b[39m\u001b[39;1m3.6.0\u001b[39;22m\u001b[39m -> \u001b[39m\u001b[39;1m3.1.0\u001b[39;22m\u001b[39m)\u001b[39m: \u001b[34mInstalling...\u001b[39m\n",
            "  \u001b[34;1m-\u001b[39;22m \u001b[39mDowngrading \u001b[39m\u001b[36mxarray\u001b[39m\u001b[39m (\u001b[39m\u001b[39;1m2023.6.0\u001b[39;22m\u001b[39m -> \u001b[39m\u001b[39;1m2023.1.0\u001b[39;22m\u001b[39m)\u001b[39m: \u001b[34mInstalling...\u001b[39m\n",
            "\u001b[3A\u001b[0J  \u001b[34;1m-\u001b[39;22m \u001b[39mDowngrading \u001b[39m\u001b[36mscipy\u001b[39m\u001b[39m (\u001b[39m\u001b[39;1m1.15.2\u001b[39;22m\u001b[39m -> \u001b[39m\u001b[39;1m1.15.1\u001b[39;22m\u001b[39m)\u001b[39m: \u001b[34mDownloading...\u001b[39m \u001b[39;1m100%\u001b[39;22m\n",
            "  \u001b[34;1m-\u001b[39;22m \u001b[39mUpdating \u001b[39m\u001b[36mshapely\u001b[39m\u001b[39m (\u001b[39m\u001b[39;1m2.0.1\u001b[39;22m\u001b[39m -> \u001b[39m\u001b[39;1m2.0.7\u001b[39;22m\u001b[39m)\u001b[39m: \u001b[34mInstalling...\u001b[39m\n",
            "  \u001b[34;1m-\u001b[39;22m \u001b[39mDowngrading \u001b[39m\u001b[36mthreadpoolctl\u001b[39m\u001b[39m (\u001b[39m\u001b[39;1m3.6.0\u001b[39;22m\u001b[39m -> \u001b[39m\u001b[39;1m3.1.0\u001b[39;22m\u001b[39m)\u001b[39m: \u001b[34mInstalling...\u001b[39m\n",
            "  \u001b[34;1m-\u001b[39;22m \u001b[39mDowngrading \u001b[39m\u001b[36mxarray\u001b[39m\u001b[39m (\u001b[39m\u001b[39;1m2023.6.0\u001b[39;22m\u001b[39m -> \u001b[39m\u001b[39;1m2023.1.0\u001b[39;22m\u001b[39m)\u001b[39m: \u001b[34mInstalling...\u001b[39m\n",
            "\u001b[4A\u001b[0J  \u001b[34;1m-\u001b[39;22m \u001b[39mUpdating \u001b[39m\u001b[36mshapely\u001b[39m\u001b[39m (\u001b[39m\u001b[39;1m2.0.1\u001b[39;22m\u001b[39m -> \u001b[39m\u001b[39;1m2.0.7\u001b[39;22m\u001b[39m)\u001b[39m: \u001b[34mInstalling...\u001b[39m\n",
            "  \u001b[34;1m-\u001b[39;22m \u001b[39mDowngrading \u001b[39m\u001b[36mthreadpoolctl\u001b[39m\u001b[39m (\u001b[39m\u001b[39;1m3.6.0\u001b[39;22m\u001b[39m -> \u001b[39m\u001b[39;1m3.1.0\u001b[39;22m\u001b[39m)\u001b[39m: \u001b[34mInstalling...\u001b[39m\n",
            "  \u001b[34;1m-\u001b[39;22m \u001b[39mDowngrading \u001b[39m\u001b[36mxarray\u001b[39m\u001b[39m (\u001b[39m\u001b[39;1m2023.6.0\u001b[39;22m\u001b[39m -> \u001b[39m\u001b[39;1m2023.1.0\u001b[39;22m\u001b[39m)\u001b[39m: \u001b[34mInstalling...\u001b[39m\n",
            "\u001b[3A\u001b[0J  \u001b[34;1m-\u001b[39;22m \u001b[39mDowngrading \u001b[39m\u001b[36mscipy\u001b[39m\u001b[39m (\u001b[39m\u001b[39;1m1.15.2\u001b[39;22m\u001b[39m -> \u001b[39m\u001b[39;1m1.15.1\u001b[39;22m\u001b[39m)\u001b[39m: \u001b[34mInstalling...\u001b[39m\n",
            "  \u001b[34;1m-\u001b[39;22m \u001b[39mUpdating \u001b[39m\u001b[36mshapely\u001b[39m\u001b[39m (\u001b[39m\u001b[39;1m2.0.1\u001b[39;22m\u001b[39m -> \u001b[39m\u001b[39;1m2.0.7\u001b[39;22m\u001b[39m)\u001b[39m: \u001b[34mInstalling...\u001b[39m\n",
            "  \u001b[34;1m-\u001b[39;22m \u001b[39mDowngrading \u001b[39m\u001b[36mthreadpoolctl\u001b[39m\u001b[39m (\u001b[39m\u001b[39;1m3.6.0\u001b[39;22m\u001b[39m -> \u001b[39m\u001b[39;1m3.1.0\u001b[39;22m\u001b[39m)\u001b[39m: \u001b[34mInstalling...\u001b[39m\n",
            "  \u001b[34;1m-\u001b[39;22m \u001b[39mDowngrading \u001b[39m\u001b[36mxarray\u001b[39m\u001b[39m (\u001b[39m\u001b[39;1m2023.6.0\u001b[39;22m\u001b[39m -> \u001b[39m\u001b[39;1m2023.1.0\u001b[39;22m\u001b[39m)\u001b[39m: \u001b[34mInstalling...\u001b[39m\n",
            "\u001b[6A\u001b[0J  \u001b[34;1m-\u001b[39;22m \u001b[39mUpdating \u001b[39m\u001b[36mrasterio\u001b[39m\u001b[39m (\u001b[39m\u001b[39;1m1.3.9\u001b[39;22m\u001b[39m -> \u001b[39m\u001b[39;1m1.4.3\u001b[39;22m\u001b[39m)\u001b[39m: \u001b[34mInstalling...\u001b[39m\n",
            "  \u001b[34;1m-\u001b[39;22m \u001b[39mDowngrading \u001b[39m\u001b[36mscipy\u001b[39m\u001b[39m (\u001b[39m\u001b[39;1m1.15.2\u001b[39;22m\u001b[39m -> \u001b[39m\u001b[39;1m1.15.1\u001b[39;22m\u001b[39m)\u001b[39m: \u001b[34mInstalling...\u001b[39m\n",
            "  \u001b[34;1m-\u001b[39;22m \u001b[39mUpdating \u001b[39m\u001b[36mshapely\u001b[39m\u001b[39m (\u001b[39m\u001b[39;1m2.0.1\u001b[39;22m\u001b[39m -> \u001b[39m\u001b[39;1m2.0.7\u001b[39;22m\u001b[39m)\u001b[39m: \u001b[34mInstalling...\u001b[39m\n",
            "  \u001b[34;1m-\u001b[39;22m \u001b[39mDowngrading \u001b[39m\u001b[36mthreadpoolctl\u001b[39m\u001b[39m (\u001b[39m\u001b[39;1m3.6.0\u001b[39;22m\u001b[39m -> \u001b[39m\u001b[39;1m3.1.0\u001b[39;22m\u001b[39m)\u001b[39m: \u001b[34mInstalling...\u001b[39m\n",
            "  \u001b[34;1m-\u001b[39;22m \u001b[39mDowngrading \u001b[39m\u001b[36mxarray\u001b[39m\u001b[39m (\u001b[39m\u001b[39;1m2023.6.0\u001b[39;22m\u001b[39m -> \u001b[39m\u001b[39;1m2023.1.0\u001b[39;22m\u001b[39m)\u001b[39m: \u001b[34mInstalling...\u001b[39m\n",
            "\u001b[5A\u001b[0J  \u001b[32;1m-\u001b[39;22m \u001b[39mDowngrading \u001b[39m\u001b[36mpyproj\u001b[39m\u001b[39m (\u001b[39m\u001b[39;1m3.7.1\u001b[39;22m\u001b[39m -> \u001b[39m\u001b[32m3.7.0\u001b[39m\u001b[39m)\u001b[39m\n",
            "  \u001b[34;1m-\u001b[39;22m \u001b[39mUpdating \u001b[39m\u001b[36mrasterio\u001b[39m\u001b[39m (\u001b[39m\u001b[39;1m1.3.9\u001b[39;22m\u001b[39m -> \u001b[39m\u001b[39;1m1.4.3\u001b[39;22m\u001b[39m)\u001b[39m: \u001b[34mInstalling...\u001b[39m\n",
            "  \u001b[34;1m-\u001b[39;22m \u001b[39mDowngrading \u001b[39m\u001b[36mscipy\u001b[39m\u001b[39m (\u001b[39m\u001b[39;1m1.15.2\u001b[39;22m\u001b[39m -> \u001b[39m\u001b[39;1m1.15.1\u001b[39;22m\u001b[39m)\u001b[39m: \u001b[34mInstalling...\u001b[39m\n",
            "  \u001b[34;1m-\u001b[39;22m \u001b[39mUpdating \u001b[39m\u001b[36mshapely\u001b[39m\u001b[39m (\u001b[39m\u001b[39;1m2.0.1\u001b[39;22m\u001b[39m -> \u001b[39m\u001b[39;1m2.0.7\u001b[39;22m\u001b[39m)\u001b[39m: \u001b[34mInstalling...\u001b[39m\n",
            "  \u001b[34;1m-\u001b[39;22m \u001b[39mDowngrading \u001b[39m\u001b[36mthreadpoolctl\u001b[39m\u001b[39m (\u001b[39m\u001b[39;1m3.6.0\u001b[39;22m\u001b[39m -> \u001b[39m\u001b[39;1m3.1.0\u001b[39;22m\u001b[39m)\u001b[39m: \u001b[34mInstalling...\u001b[39m\n",
            "  \u001b[34;1m-\u001b[39;22m \u001b[39mDowngrading \u001b[39m\u001b[36mxarray\u001b[39m\u001b[39m (\u001b[39m\u001b[39;1m2023.6.0\u001b[39;22m\u001b[39m -> \u001b[39m\u001b[39;1m2023.1.0\u001b[39;22m\u001b[39m)\u001b[39m: \u001b[34mInstalling...\u001b[39m\n",
            "\u001b[5A\u001b[0J  \u001b[34;1m-\u001b[39;22m \u001b[39mDowngrading \u001b[39m\u001b[36mscipy\u001b[39m\u001b[39m (\u001b[39m\u001b[39;1m1.15.2\u001b[39;22m\u001b[39m -> \u001b[39m\u001b[39;1m1.15.1\u001b[39;22m\u001b[39m)\u001b[39m: \u001b[34mInstalling...\u001b[39m\n",
            "  \u001b[34;1m-\u001b[39;22m \u001b[39mUpdating \u001b[39m\u001b[36mshapely\u001b[39m\u001b[39m (\u001b[39m\u001b[39;1m2.0.1\u001b[39;22m\u001b[39m -> \u001b[39m\u001b[39;1m2.0.7\u001b[39;22m\u001b[39m)\u001b[39m: \u001b[34mInstalling...\u001b[39m\n",
            "  \u001b[34;1m-\u001b[39;22m \u001b[39mDowngrading \u001b[39m\u001b[36mthreadpoolctl\u001b[39m\u001b[39m (\u001b[39m\u001b[39;1m3.6.0\u001b[39;22m\u001b[39m -> \u001b[39m\u001b[39;1m3.1.0\u001b[39;22m\u001b[39m)\u001b[39m: \u001b[34mInstalling...\u001b[39m\n",
            "  \u001b[34;1m-\u001b[39;22m \u001b[39mDowngrading \u001b[39m\u001b[36mxarray\u001b[39m\u001b[39m (\u001b[39m\u001b[39;1m2023.6.0\u001b[39;22m\u001b[39m -> \u001b[39m\u001b[39;1m2023.1.0\u001b[39;22m\u001b[39m)\u001b[39m: \u001b[34mInstalling...\u001b[39m\n",
            "\u001b[4A\u001b[0J  \u001b[32;1m-\u001b[39;22m \u001b[39mUpdating \u001b[39m\u001b[36mrasterio\u001b[39m\u001b[39m (\u001b[39m\u001b[39;1m1.3.9\u001b[39;22m\u001b[39m -> \u001b[39m\u001b[32m1.4.3\u001b[39m\u001b[39m)\u001b[39m\n",
            "  \u001b[34;1m-\u001b[39;22m \u001b[39mDowngrading \u001b[39m\u001b[36mscipy\u001b[39m\u001b[39m (\u001b[39m\u001b[39;1m1.15.2\u001b[39;22m\u001b[39m -> \u001b[39m\u001b[39;1m1.15.1\u001b[39;22m\u001b[39m)\u001b[39m: \u001b[34mInstalling...\u001b[39m\n",
            "  \u001b[34;1m-\u001b[39;22m \u001b[39mUpdating \u001b[39m\u001b[36mshapely\u001b[39m\u001b[39m (\u001b[39m\u001b[39;1m2.0.1\u001b[39;22m\u001b[39m -> \u001b[39m\u001b[39;1m2.0.7\u001b[39;22m\u001b[39m)\u001b[39m: \u001b[34mInstalling...\u001b[39m\n",
            "  \u001b[34;1m-\u001b[39;22m \u001b[39mDowngrading \u001b[39m\u001b[36mthreadpoolctl\u001b[39m\u001b[39m (\u001b[39m\u001b[39;1m3.6.0\u001b[39;22m\u001b[39m -> \u001b[39m\u001b[39;1m3.1.0\u001b[39;22m\u001b[39m)\u001b[39m: \u001b[34mInstalling...\u001b[39m\n",
            "  \u001b[34;1m-\u001b[39;22m \u001b[39mDowngrading \u001b[39m\u001b[36mxarray\u001b[39m\u001b[39m (\u001b[39m\u001b[39;1m2023.6.0\u001b[39;22m\u001b[39m -> \u001b[39m\u001b[39;1m2023.1.0\u001b[39;22m\u001b[39m)\u001b[39m: \u001b[34mInstalling...\u001b[39m\n",
            "\u001b[1A\u001b[0J  \u001b[32;1m-\u001b[39;22m \u001b[39mDowngrading \u001b[39m\u001b[36mxarray\u001b[39m\u001b[39m (\u001b[39m\u001b[39;1m2023.6.0\u001b[39;22m\u001b[39m -> \u001b[39m\u001b[32m2023.1.0\u001b[39m\u001b[39m)\u001b[39m\n",
            "\u001b[3A\u001b[0J  \u001b[34;1m-\u001b[39;22m \u001b[39mDowngrading \u001b[39m\u001b[36mthreadpoolctl\u001b[39m\u001b[39m (\u001b[39m\u001b[39;1m3.6.0\u001b[39;22m\u001b[39m -> \u001b[39m\u001b[39;1m3.1.0\u001b[39;22m\u001b[39m)\u001b[39m: \u001b[34mInstalling...\u001b[39m\n",
            "  \u001b[32;1m-\u001b[39;22m \u001b[39mDowngrading \u001b[39m\u001b[36mxarray\u001b[39m\u001b[39m (\u001b[39m\u001b[39;1m2023.6.0\u001b[39;22m\u001b[39m -> \u001b[39m\u001b[32m2023.1.0\u001b[39m\u001b[39m)\u001b[39m\n",
            "\u001b[2A\u001b[0J  \u001b[32;1m-\u001b[39;22m \u001b[39mUpdating \u001b[39m\u001b[36mshapely\u001b[39m\u001b[39m (\u001b[39m\u001b[39;1m2.0.1\u001b[39;22m\u001b[39m -> \u001b[39m\u001b[32m2.0.7\u001b[39m\u001b[39m)\u001b[39m\n",
            "  \u001b[34;1m-\u001b[39;22m \u001b[39mDowngrading \u001b[39m\u001b[36mthreadpoolctl\u001b[39m\u001b[39m (\u001b[39m\u001b[39;1m3.6.0\u001b[39;22m\u001b[39m -> \u001b[39m\u001b[39;1m3.1.0\u001b[39;22m\u001b[39m)\u001b[39m: \u001b[34mInstalling...\u001b[39m\n",
            "  \u001b[32;1m-\u001b[39;22m \u001b[39mDowngrading \u001b[39m\u001b[36mxarray\u001b[39m\u001b[39m (\u001b[39m\u001b[39;1m2023.6.0\u001b[39;22m\u001b[39m -> \u001b[39m\u001b[32m2023.1.0\u001b[39m\u001b[39m)\u001b[39m\n",
            "\u001b[2A\u001b[0J  \u001b[32;1m-\u001b[39;22m \u001b[39mDowngrading \u001b[39m\u001b[36mxarray\u001b[39m\u001b[39m (\u001b[39m\u001b[39;1m2023.6.0\u001b[39;22m\u001b[39m -> \u001b[39m\u001b[32m2023.1.0\u001b[39m\u001b[39m)\u001b[39m\n",
            "\u001b[1A\u001b[0J  \u001b[32;1m-\u001b[39;22m \u001b[39mDowngrading \u001b[39m\u001b[36mthreadpoolctl\u001b[39m\u001b[39m (\u001b[39m\u001b[39;1m3.6.0\u001b[39;22m\u001b[39m -> \u001b[39m\u001b[32m3.1.0\u001b[39m\u001b[39m)\u001b[39m\n",
            "  \u001b[32;1m-\u001b[39;22m \u001b[39mDowngrading \u001b[39m\u001b[36mxarray\u001b[39m\u001b[39m (\u001b[39m\u001b[39;1m2023.6.0\u001b[39;22m\u001b[39m -> \u001b[39m\u001b[32m2023.1.0\u001b[39m\u001b[39m)\u001b[39m\n",
            "\u001b[4A\u001b[0J  \u001b[32;1m-\u001b[39;22m \u001b[39mUpdating \u001b[39m\u001b[36mshapely\u001b[39m\u001b[39m (\u001b[39m\u001b[39;1m2.0.1\u001b[39;22m\u001b[39m -> \u001b[39m\u001b[32m2.0.7\u001b[39m\u001b[39m)\u001b[39m\n",
            "  \u001b[32;1m-\u001b[39;22m \u001b[39mDowngrading \u001b[39m\u001b[36mthreadpoolctl\u001b[39m\u001b[39m (\u001b[39m\u001b[39;1m3.6.0\u001b[39;22m\u001b[39m -> \u001b[39m\u001b[32m3.1.0\u001b[39m\u001b[39m)\u001b[39m\n",
            "  \u001b[32;1m-\u001b[39;22m \u001b[39mDowngrading \u001b[39m\u001b[36mxarray\u001b[39m\u001b[39m (\u001b[39m\u001b[39;1m2023.6.0\u001b[39;22m\u001b[39m -> \u001b[39m\u001b[32m2023.1.0\u001b[39m\u001b[39m)\u001b[39m\n",
            "\u001b[3A\u001b[0J  \u001b[32;1m-\u001b[39;22m \u001b[39mDowngrading \u001b[39m\u001b[36mscipy\u001b[39m\u001b[39m (\u001b[39m\u001b[39;1m1.15.2\u001b[39;22m\u001b[39m -> \u001b[39m\u001b[32m1.15.1\u001b[39m\u001b[39m)\u001b[39m\n",
            "  \u001b[32;1m-\u001b[39;22m \u001b[39mUpdating \u001b[39m\u001b[36mshapely\u001b[39m\u001b[39m (\u001b[39m\u001b[39;1m2.0.1\u001b[39;22m\u001b[39m -> \u001b[39m\u001b[32m2.0.7\u001b[39m\u001b[39m)\u001b[39m\n",
            "  \u001b[32;1m-\u001b[39;22m \u001b[39mDowngrading \u001b[39m\u001b[36mthreadpoolctl\u001b[39m\u001b[39m (\u001b[39m\u001b[39;1m3.6.0\u001b[39;22m\u001b[39m -> \u001b[39m\u001b[32m3.1.0\u001b[39m\u001b[39m)\u001b[39m\n",
            "  \u001b[32;1m-\u001b[39;22m \u001b[39mDowngrading \u001b[39m\u001b[36mxarray\u001b[39m\u001b[39m (\u001b[39m\u001b[39;1m2023.6.0\u001b[39;22m\u001b[39m -> \u001b[39m\u001b[32m2023.1.0\u001b[39m\u001b[39m)\u001b[39m\n",
            "  \u001b[34;1m-\u001b[39;22m \u001b[39mInstalling \u001b[39m\u001b[36mdescartes\u001b[39m\u001b[39m (\u001b[39m\u001b[39;1m1.1.0\u001b[39;22m\u001b[39m)\u001b[39m: \u001b[34mPending...\u001b[39m\n",
            "  \u001b[34;1m-\u001b[39;22m \u001b[39mDowngrading \u001b[39m\u001b[36mgeopandas\u001b[39m\u001b[39m (\u001b[39m\u001b[39;1m0.14.1\u001b[39;22m\u001b[39m -> \u001b[39m\u001b[39;1m0.13.2\u001b[39;22m\u001b[39m)\u001b[39m: \u001b[34mPending...\u001b[39m\n",
            "  \u001b[34;1m-\u001b[39;22m \u001b[39mDowngrading \u001b[39m\u001b[36mh5py\u001b[39m\u001b[39m (\u001b[39m\u001b[39;1m3.13.0\u001b[39;22m\u001b[39m -> \u001b[39m\u001b[39;1m3.12.1\u001b[39;22m\u001b[39m)\u001b[39m: \u001b[34mPending...\u001b[39m\n",
            "  \u001b[34;1m-\u001b[39;22m \u001b[39mInstalling \u001b[39m\u001b[36mjupyter\u001b[39m\u001b[39m (\u001b[39m\u001b[39;1m1.1.1\u001b[39;22m\u001b[39m)\u001b[39m: \u001b[34mPending...\u001b[39m\n",
            "  \u001b[34;1m-\u001b[39;22m \u001b[39mDowngrading \u001b[39m\u001b[36mopenpyxl\u001b[39m\u001b[39m (\u001b[39m\u001b[39;1m3.1.5\u001b[39;22m\u001b[39m -> \u001b[39m\u001b[39;1m3.1.3\u001b[39;22m\u001b[39m)\u001b[39m: \u001b[34mPending...\u001b[39m\n",
            "  \u001b[34;1m-\u001b[39;22m \u001b[39mDowngrading \u001b[39m\u001b[36mrioxarray\u001b[39m\u001b[39m (\u001b[39m\u001b[39;1m0.15.0\u001b[39;22m\u001b[39m -> \u001b[39m\u001b[39;1m0.14.1\u001b[39;22m\u001b[39m)\u001b[39m: \u001b[34mPending...\u001b[39m\n",
            "\u001b[2A\u001b[0J  \u001b[34;1m-\u001b[39;22m \u001b[39mDowngrading \u001b[39m\u001b[36mrioxarray\u001b[39m\u001b[39m (\u001b[39m\u001b[39;1m0.15.0\u001b[39;22m\u001b[39m -> \u001b[39m\u001b[39;1m0.14.1\u001b[39;22m\u001b[39m)\u001b[39m: \u001b[34mPending...\u001b[39m\n",
            "\u001b[1A\u001b[0J  \u001b[34;1m-\u001b[39;22m \u001b[39mDowngrading \u001b[39m\u001b[36mopenpyxl\u001b[39m\u001b[39m (\u001b[39m\u001b[39;1m3.1.5\u001b[39;22m\u001b[39m -> \u001b[39m\u001b[39;1m3.1.3\u001b[39;22m\u001b[39m)\u001b[39m: \u001b[34mDownloading...\u001b[39m \u001b[39;1m0%\u001b[39;22m\n",
            "  \u001b[34;1m-\u001b[39;22m \u001b[39mDowngrading \u001b[39m\u001b[36mrioxarray\u001b[39m\u001b[39m (\u001b[39m\u001b[39;1m0.15.0\u001b[39;22m\u001b[39m -> \u001b[39m\u001b[39;1m0.14.1\u001b[39;22m\u001b[39m)\u001b[39m: \u001b[34mPending...\u001b[39m\n",
            "\u001b[3A\u001b[0J  \u001b[34;1m-\u001b[39;22m \u001b[39mDowngrading \u001b[39m\u001b[36mopenpyxl\u001b[39m\u001b[39m (\u001b[39m\u001b[39;1m3.1.5\u001b[39;22m\u001b[39m -> \u001b[39m\u001b[39;1m3.1.3\u001b[39;22m\u001b[39m)\u001b[39m: \u001b[34mDownloading...\u001b[39m \u001b[39;1m0%\u001b[39;22m\n",
            "  \u001b[34;1m-\u001b[39;22m \u001b[39mDowngrading \u001b[39m\u001b[36mrioxarray\u001b[39m\u001b[39m (\u001b[39m\u001b[39;1m0.15.0\u001b[39;22m\u001b[39m -> \u001b[39m\u001b[39;1m0.14.1\u001b[39;22m\u001b[39m)\u001b[39m: \u001b[34mPending...\u001b[39m\n",
            "\u001b[2A\u001b[0J  \u001b[34;1m-\u001b[39;22m \u001b[39mInstalling \u001b[39m\u001b[36mjupyter\u001b[39m\u001b[39m (\u001b[39m\u001b[39;1m1.1.1\u001b[39;22m\u001b[39m)\u001b[39m: \u001b[34mDownloading...\u001b[39m \u001b[39;1m0%\u001b[39;22m\n",
            "  \u001b[34;1m-\u001b[39;22m \u001b[39mDowngrading \u001b[39m\u001b[36mopenpyxl\u001b[39m\u001b[39m (\u001b[39m\u001b[39;1m3.1.5\u001b[39;22m\u001b[39m -> \u001b[39m\u001b[39;1m3.1.3\u001b[39;22m\u001b[39m)\u001b[39m: \u001b[34mDownloading...\u001b[39m \u001b[39;1m0%\u001b[39;22m\n",
            "  \u001b[34;1m-\u001b[39;22m \u001b[39mDowngrading \u001b[39m\u001b[36mrioxarray\u001b[39m\u001b[39m (\u001b[39m\u001b[39;1m0.15.0\u001b[39;22m\u001b[39m -> \u001b[39m\u001b[39;1m0.14.1\u001b[39;22m\u001b[39m)\u001b[39m: \u001b[34mPending...\u001b[39m\n",
            "\u001b[3A\u001b[0J  \u001b[34;1m-\u001b[39;22m \u001b[39mDowngrading \u001b[39m\u001b[36mopenpyxl\u001b[39m\u001b[39m (\u001b[39m\u001b[39;1m3.1.5\u001b[39;22m\u001b[39m -> \u001b[39m\u001b[39;1m3.1.3\u001b[39;22m\u001b[39m)\u001b[39m: \u001b[34mDownloading...\u001b[39m \u001b[39;1m0%\u001b[39;22m\n",
            "  \u001b[34;1m-\u001b[39;22m \u001b[39mDowngrading \u001b[39m\u001b[36mrioxarray\u001b[39m\u001b[39m (\u001b[39m\u001b[39;1m0.15.0\u001b[39;22m\u001b[39m -> \u001b[39m\u001b[39;1m0.14.1\u001b[39;22m\u001b[39m)\u001b[39m: \u001b[34mPending...\u001b[39m\n",
            "\u001b[2A\u001b[0J  \u001b[34;1m-\u001b[39;22m \u001b[39mInstalling \u001b[39m\u001b[36mjupyter\u001b[39m\u001b[39m (\u001b[39m\u001b[39;1m1.1.1\u001b[39;22m\u001b[39m)\u001b[39m: \u001b[34mDownloading...\u001b[39m \u001b[39;1m100%\u001b[39;22m\n",
            "  \u001b[34;1m-\u001b[39;22m \u001b[39mDowngrading \u001b[39m\u001b[36mopenpyxl\u001b[39m\u001b[39m (\u001b[39m\u001b[39;1m3.1.5\u001b[39;22m\u001b[39m -> \u001b[39m\u001b[39;1m3.1.3\u001b[39;22m\u001b[39m)\u001b[39m: \u001b[34mDownloading...\u001b[39m \u001b[39;1m0%\u001b[39;22m\n",
            "  \u001b[34;1m-\u001b[39;22m \u001b[39mDowngrading \u001b[39m\u001b[36mrioxarray\u001b[39m\u001b[39m (\u001b[39m\u001b[39;1m0.15.0\u001b[39;22m\u001b[39m -> \u001b[39m\u001b[39;1m0.14.1\u001b[39;22m\u001b[39m)\u001b[39m: \u001b[34mPending...\u001b[39m\n",
            "\u001b[5A\u001b[0J  \u001b[34;1m-\u001b[39;22m \u001b[39mDowngrading \u001b[39m\u001b[36mh5py\u001b[39m\u001b[39m (\u001b[39m\u001b[39;1m3.13.0\u001b[39;22m\u001b[39m -> \u001b[39m\u001b[39;1m3.12.1\u001b[39;22m\u001b[39m)\u001b[39m: \u001b[34mPending...\u001b[39m\n",
            "  \u001b[34;1m-\u001b[39;22m \u001b[39mInstalling \u001b[39m\u001b[36mjupyter\u001b[39m\u001b[39m (\u001b[39m\u001b[39;1m1.1.1\u001b[39;22m\u001b[39m)\u001b[39m: \u001b[34mDownloading...\u001b[39m \u001b[39;1m100%\u001b[39;22m\n",
            "  \u001b[34;1m-\u001b[39;22m \u001b[39mDowngrading \u001b[39m\u001b[36mopenpyxl\u001b[39m\u001b[39m (\u001b[39m\u001b[39;1m3.1.5\u001b[39;22m\u001b[39m -> \u001b[39m\u001b[39;1m3.1.3\u001b[39;22m\u001b[39m)\u001b[39m: \u001b[34mDownloading...\u001b[39m \u001b[39;1m0%\u001b[39;22m\n",
            "  \u001b[34;1m-\u001b[39;22m \u001b[39mDowngrading \u001b[39m\u001b[36mrioxarray\u001b[39m\u001b[39m (\u001b[39m\u001b[39;1m0.15.0\u001b[39;22m\u001b[39m -> \u001b[39m\u001b[39;1m0.14.1\u001b[39;22m\u001b[39m)\u001b[39m: \u001b[34mPending...\u001b[39m\n",
            "\u001b[4A\u001b[0J  \u001b[34;1m-\u001b[39;22m \u001b[39mDowngrading \u001b[39m\u001b[36mgeopandas\u001b[39m\u001b[39m (\u001b[39m\u001b[39;1m0.14.1\u001b[39;22m\u001b[39m -> \u001b[39m\u001b[39;1m0.13.2\u001b[39;22m\u001b[39m)\u001b[39m: \u001b[34mDownloading...\u001b[39m \u001b[39;1m0%\u001b[39;22m\n",
            "  \u001b[34;1m-\u001b[39;22m \u001b[39mDowngrading \u001b[39m\u001b[36mh5py\u001b[39m\u001b[39m (\u001b[39m\u001b[39;1m3.13.0\u001b[39;22m\u001b[39m -> \u001b[39m\u001b[39;1m3.12.1\u001b[39;22m\u001b[39m)\u001b[39m: \u001b[34mPending...\u001b[39m\n",
            "  \u001b[34;1m-\u001b[39;22m \u001b[39mInstalling \u001b[39m\u001b[36mjupyter\u001b[39m\u001b[39m (\u001b[39m\u001b[39;1m1.1.1\u001b[39;22m\u001b[39m)\u001b[39m: \u001b[34mDownloading...\u001b[39m \u001b[39;1m100%\u001b[39;22m\n",
            "  \u001b[34;1m-\u001b[39;22m \u001b[39mDowngrading \u001b[39m\u001b[36mopenpyxl\u001b[39m\u001b[39m (\u001b[39m\u001b[39;1m3.1.5\u001b[39;22m\u001b[39m -> \u001b[39m\u001b[39;1m3.1.3\u001b[39;22m\u001b[39m)\u001b[39m: \u001b[34mDownloading...\u001b[39m \u001b[39;1m0%\u001b[39;22m\n",
            "  \u001b[34;1m-\u001b[39;22m \u001b[39mDowngrading \u001b[39m\u001b[36mrioxarray\u001b[39m\u001b[39m (\u001b[39m\u001b[39;1m0.15.0\u001b[39;22m\u001b[39m -> \u001b[39m\u001b[39;1m0.14.1\u001b[39;22m\u001b[39m)\u001b[39m: \u001b[34mPending...\u001b[39m\n",
            "\u001b[6A\u001b[0J  \u001b[34;1m-\u001b[39;22m \u001b[39mDowngrading \u001b[39m\u001b[36mgeopandas\u001b[39m\u001b[39m (\u001b[39m\u001b[39;1m0.14.1\u001b[39;22m\u001b[39m -> \u001b[39m\u001b[39;1m0.13.2\u001b[39;22m\u001b[39m)\u001b[39m: \u001b[34mDownloading...\u001b[39m \u001b[39;1m0%\u001b[39;22m\n",
            "  \u001b[34;1m-\u001b[39;22m \u001b[39mDowngrading \u001b[39m\u001b[36mh5py\u001b[39m\u001b[39m (\u001b[39m\u001b[39;1m3.13.0\u001b[39;22m\u001b[39m -> \u001b[39m\u001b[39;1m3.12.1\u001b[39;22m\u001b[39m)\u001b[39m: \u001b[34mPending...\u001b[39m\n",
            "  \u001b[34;1m-\u001b[39;22m \u001b[39mInstalling \u001b[39m\u001b[36mjupyter\u001b[39m\u001b[39m (\u001b[39m\u001b[39;1m1.1.1\u001b[39;22m\u001b[39m)\u001b[39m: \u001b[34mDownloading...\u001b[39m \u001b[39;1m100%\u001b[39;22m\n",
            "  \u001b[34;1m-\u001b[39;22m \u001b[39mDowngrading \u001b[39m\u001b[36mopenpyxl\u001b[39m\u001b[39m (\u001b[39m\u001b[39;1m3.1.5\u001b[39;22m\u001b[39m -> \u001b[39m\u001b[39;1m3.1.3\u001b[39;22m\u001b[39m)\u001b[39m: \u001b[34mDownloading...\u001b[39m \u001b[39;1m0%\u001b[39;22m\n",
            "  \u001b[34;1m-\u001b[39;22m \u001b[39mDowngrading \u001b[39m\u001b[36mrioxarray\u001b[39m\u001b[39m (\u001b[39m\u001b[39;1m0.15.0\u001b[39;22m\u001b[39m -> \u001b[39m\u001b[39;1m0.14.1\u001b[39;22m\u001b[39m)\u001b[39m: \u001b[34mPending...\u001b[39m\n",
            "\u001b[5A\u001b[0J  \u001b[34;1m-\u001b[39;22m \u001b[39mInstalling \u001b[39m\u001b[36mdescartes\u001b[39m\u001b[39m (\u001b[39m\u001b[39;1m1.1.0\u001b[39;22m\u001b[39m)\u001b[39m: \u001b[34mDownloading...\u001b[39m \u001b[39;1m0%\u001b[39;22m\n",
            "  \u001b[34;1m-\u001b[39;22m \u001b[39mDowngrading \u001b[39m\u001b[36mgeopandas\u001b[39m\u001b[39m (\u001b[39m\u001b[39;1m0.14.1\u001b[39;22m\u001b[39m -> \u001b[39m\u001b[39;1m0.13.2\u001b[39;22m\u001b[39m)\u001b[39m: \u001b[34mDownloading...\u001b[39m \u001b[39;1m0%\u001b[39;22m\n",
            "  \u001b[34;1m-\u001b[39;22m \u001b[39mDowngrading \u001b[39m\u001b[36mh5py\u001b[39m\u001b[39m (\u001b[39m\u001b[39;1m3.13.0\u001b[39;22m\u001b[39m -> \u001b[39m\u001b[39;1m3.12.1\u001b[39;22m\u001b[39m)\u001b[39m: \u001b[34mPending...\u001b[39m\n",
            "  \u001b[34;1m-\u001b[39;22m \u001b[39mInstalling \u001b[39m\u001b[36mjupyter\u001b[39m\u001b[39m (\u001b[39m\u001b[39;1m1.1.1\u001b[39;22m\u001b[39m)\u001b[39m: \u001b[34mDownloading...\u001b[39m \u001b[39;1m100%\u001b[39;22m\n",
            "  \u001b[34;1m-\u001b[39;22m \u001b[39mDowngrading \u001b[39m\u001b[36mopenpyxl\u001b[39m\u001b[39m (\u001b[39m\u001b[39;1m3.1.5\u001b[39;22m\u001b[39m -> \u001b[39m\u001b[39;1m3.1.3\u001b[39;22m\u001b[39m)\u001b[39m: \u001b[34mDownloading...\u001b[39m \u001b[39;1m0%\u001b[39;22m\n",
            "  \u001b[34;1m-\u001b[39;22m \u001b[39mDowngrading \u001b[39m\u001b[36mrioxarray\u001b[39m\u001b[39m (\u001b[39m\u001b[39;1m0.15.0\u001b[39;22m\u001b[39m -> \u001b[39m\u001b[39;1m0.14.1\u001b[39;22m\u001b[39m)\u001b[39m: \u001b[34mPending...\u001b[39m\n",
            "\u001b[6A\u001b[0J  \u001b[34;1m-\u001b[39;22m \u001b[39mDowngrading \u001b[39m\u001b[36mgeopandas\u001b[39m\u001b[39m (\u001b[39m\u001b[39;1m0.14.1\u001b[39;22m\u001b[39m -> \u001b[39m\u001b[39;1m0.13.2\u001b[39;22m\u001b[39m)\u001b[39m: \u001b[34mDownloading...\u001b[39m \u001b[39;1m0%\u001b[39;22m\n",
            "  \u001b[34;1m-\u001b[39;22m \u001b[39mDowngrading \u001b[39m\u001b[36mh5py\u001b[39m\u001b[39m (\u001b[39m\u001b[39;1m3.13.0\u001b[39;22m\u001b[39m -> \u001b[39m\u001b[39;1m3.12.1\u001b[39;22m\u001b[39m)\u001b[39m: \u001b[34mPending...\u001b[39m\n",
            "  \u001b[34;1m-\u001b[39;22m \u001b[39mInstalling \u001b[39m\u001b[36mjupyter\u001b[39m\u001b[39m (\u001b[39m\u001b[39;1m1.1.1\u001b[39;22m\u001b[39m)\u001b[39m: \u001b[34mDownloading...\u001b[39m \u001b[39;1m100%\u001b[39;22m\n",
            "  \u001b[34;1m-\u001b[39;22m \u001b[39mDowngrading \u001b[39m\u001b[36mopenpyxl\u001b[39m\u001b[39m (\u001b[39m\u001b[39;1m3.1.5\u001b[39;22m\u001b[39m -> \u001b[39m\u001b[39;1m3.1.3\u001b[39;22m\u001b[39m)\u001b[39m: \u001b[34mDownloading...\u001b[39m \u001b[39;1m0%\u001b[39;22m\n",
            "  \u001b[34;1m-\u001b[39;22m \u001b[39mDowngrading \u001b[39m\u001b[36mrioxarray\u001b[39m\u001b[39m (\u001b[39m\u001b[39;1m0.15.0\u001b[39;22m\u001b[39m -> \u001b[39m\u001b[39;1m0.14.1\u001b[39;22m\u001b[39m)\u001b[39m: \u001b[34mPending...\u001b[39m\n",
            "\u001b[5A\u001b[0J  \u001b[34;1m-\u001b[39;22m \u001b[39mInstalling \u001b[39m\u001b[36mdescartes\u001b[39m\u001b[39m (\u001b[39m\u001b[39;1m1.1.0\u001b[39;22m\u001b[39m)\u001b[39m: \u001b[34mDownloading...\u001b[39m \u001b[39;1m100%\u001b[39;22m\n",
            "  \u001b[34;1m-\u001b[39;22m \u001b[39mDowngrading \u001b[39m\u001b[36mgeopandas\u001b[39m\u001b[39m (\u001b[39m\u001b[39;1m0.14.1\u001b[39;22m\u001b[39m -> \u001b[39m\u001b[39;1m0.13.2\u001b[39;22m\u001b[39m)\u001b[39m: \u001b[34mDownloading...\u001b[39m \u001b[39;1m0%\u001b[39;22m\n",
            "  \u001b[34;1m-\u001b[39;22m \u001b[39mDowngrading \u001b[39m\u001b[36mh5py\u001b[39m\u001b[39m (\u001b[39m\u001b[39;1m3.13.0\u001b[39;22m\u001b[39m -> \u001b[39m\u001b[39;1m3.12.1\u001b[39;22m\u001b[39m)\u001b[39m: \u001b[34mPending...\u001b[39m\n",
            "  \u001b[34;1m-\u001b[39;22m \u001b[39mInstalling \u001b[39m\u001b[36mjupyter\u001b[39m\u001b[39m (\u001b[39m\u001b[39;1m1.1.1\u001b[39;22m\u001b[39m)\u001b[39m: \u001b[34mDownloading...\u001b[39m \u001b[39;1m100%\u001b[39;22m\n",
            "  \u001b[34;1m-\u001b[39;22m \u001b[39mDowngrading \u001b[39m\u001b[36mopenpyxl\u001b[39m\u001b[39m (\u001b[39m\u001b[39;1m3.1.5\u001b[39;22m\u001b[39m -> \u001b[39m\u001b[39;1m3.1.3\u001b[39;22m\u001b[39m)\u001b[39m: \u001b[34mDownloading...\u001b[39m \u001b[39;1m0%\u001b[39;22m\n",
            "  \u001b[34;1m-\u001b[39;22m \u001b[39mDowngrading \u001b[39m\u001b[36mrioxarray\u001b[39m\u001b[39m (\u001b[39m\u001b[39;1m0.15.0\u001b[39;22m\u001b[39m -> \u001b[39m\u001b[39;1m0.14.1\u001b[39;22m\u001b[39m)\u001b[39m: \u001b[34mPending...\u001b[39m\n",
            "\u001b[1A\u001b[0J  \u001b[34;1m-\u001b[39;22m \u001b[39mDowngrading \u001b[39m\u001b[36mrioxarray\u001b[39m\u001b[39m (\u001b[39m\u001b[39;1m0.15.0\u001b[39;22m\u001b[39m -> \u001b[39m\u001b[39;1m0.14.1\u001b[39;22m\u001b[39m)\u001b[39m: \u001b[34mDownloading...\u001b[39m \u001b[39;1m0%\u001b[39;22m\n",
            "\u001b[4A\u001b[0J  \u001b[34;1m-\u001b[39;22m \u001b[39mInstalling \u001b[39m\u001b[36mjupyter\u001b[39m\u001b[39m (\u001b[39m\u001b[39;1m1.1.1\u001b[39;22m\u001b[39m)\u001b[39m: \u001b[34mDownloading...\u001b[39m \u001b[39;1m100%\u001b[39;22m\n",
            "  \u001b[34;1m-\u001b[39;22m \u001b[39mDowngrading \u001b[39m\u001b[36mopenpyxl\u001b[39m\u001b[39m (\u001b[39m\u001b[39;1m3.1.5\u001b[39;22m\u001b[39m -> \u001b[39m\u001b[39;1m3.1.3\u001b[39;22m\u001b[39m)\u001b[39m: \u001b[34mDownloading...\u001b[39m \u001b[39;1m0%\u001b[39;22m\n",
            "  \u001b[34;1m-\u001b[39;22m \u001b[39mDowngrading \u001b[39m\u001b[36mrioxarray\u001b[39m\u001b[39m (\u001b[39m\u001b[39;1m0.15.0\u001b[39;22m\u001b[39m -> \u001b[39m\u001b[39;1m0.14.1\u001b[39;22m\u001b[39m)\u001b[39m: \u001b[34mDownloading...\u001b[39m \u001b[39;1m0%\u001b[39;22m\n",
            "\u001b[3A\u001b[0J  \u001b[34;1m-\u001b[39;22m \u001b[39mDowngrading \u001b[39m\u001b[36mh5py\u001b[39m\u001b[39m (\u001b[39m\u001b[39;1m3.13.0\u001b[39;22m\u001b[39m -> \u001b[39m\u001b[39;1m3.12.1\u001b[39;22m\u001b[39m)\u001b[39m: \u001b[34mDownloading...\u001b[39m \u001b[39;1m0%\u001b[39;22m\n",
            "  \u001b[34;1m-\u001b[39;22m \u001b[39mInstalling \u001b[39m\u001b[36mjupyter\u001b[39m\u001b[39m (\u001b[39m\u001b[39;1m1.1.1\u001b[39;22m\u001b[39m)\u001b[39m: \u001b[34mDownloading...\u001b[39m \u001b[39;1m100%\u001b[39;22m\n",
            "  \u001b[34;1m-\u001b[39;22m \u001b[39mDowngrading \u001b[39m\u001b[36mopenpyxl\u001b[39m\u001b[39m (\u001b[39m\u001b[39;1m3.1.5\u001b[39;22m\u001b[39m -> \u001b[39m\u001b[39;1m3.1.3\u001b[39;22m\u001b[39m)\u001b[39m: \u001b[34mDownloading...\u001b[39m \u001b[39;1m0%\u001b[39;22m\n",
            "  \u001b[34;1m-\u001b[39;22m \u001b[39mDowngrading \u001b[39m\u001b[36mrioxarray\u001b[39m\u001b[39m (\u001b[39m\u001b[39;1m0.15.0\u001b[39;22m\u001b[39m -> \u001b[39m\u001b[39;1m0.14.1\u001b[39;22m\u001b[39m)\u001b[39m: \u001b[34mDownloading...\u001b[39m \u001b[39;1m0%\u001b[39;22m\n",
            "\u001b[3A\u001b[0J  \u001b[34;1m-\u001b[39;22m \u001b[39mDowngrading \u001b[39m\u001b[36mopenpyxl\u001b[39m\u001b[39m (\u001b[39m\u001b[39;1m3.1.5\u001b[39;22m\u001b[39m -> \u001b[39m\u001b[39;1m3.1.3\u001b[39;22m\u001b[39m)\u001b[39m: \u001b[34mDownloading...\u001b[39m \u001b[39;1m0%\u001b[39;22m\n",
            "  \u001b[34;1m-\u001b[39;22m \u001b[39mDowngrading \u001b[39m\u001b[36mrioxarray\u001b[39m\u001b[39m (\u001b[39m\u001b[39;1m0.15.0\u001b[39;22m\u001b[39m -> \u001b[39m\u001b[39;1m0.14.1\u001b[39;22m\u001b[39m)\u001b[39m: \u001b[34mDownloading...\u001b[39m \u001b[39;1m0%\u001b[39;22m\n",
            "\u001b[2A\u001b[0J  \u001b[34;1m-\u001b[39;22m \u001b[39mInstalling \u001b[39m\u001b[36mjupyter\u001b[39m\u001b[39m (\u001b[39m\u001b[39;1m1.1.1\u001b[39;22m\u001b[39m)\u001b[39m: \u001b[34mInstalling...\u001b[39m\n",
            "  \u001b[34;1m-\u001b[39;22m \u001b[39mDowngrading \u001b[39m\u001b[36mopenpyxl\u001b[39m\u001b[39m (\u001b[39m\u001b[39;1m3.1.5\u001b[39;22m\u001b[39m -> \u001b[39m\u001b[39;1m3.1.3\u001b[39;22m\u001b[39m)\u001b[39m: \u001b[34mDownloading...\u001b[39m \u001b[39;1m0%\u001b[39;22m\n",
            "  \u001b[34;1m-\u001b[39;22m \u001b[39mDowngrading \u001b[39m\u001b[36mrioxarray\u001b[39m\u001b[39m (\u001b[39m\u001b[39;1m0.15.0\u001b[39;22m\u001b[39m -> \u001b[39m\u001b[39;1m0.14.1\u001b[39;22m\u001b[39m)\u001b[39m: \u001b[34mDownloading...\u001b[39m \u001b[39;1m0%\u001b[39;22m\n",
            "\u001b[3A\u001b[0J  \u001b[34;1m-\u001b[39;22m \u001b[39mDowngrading \u001b[39m\u001b[36mopenpyxl\u001b[39m\u001b[39m (\u001b[39m\u001b[39;1m3.1.5\u001b[39;22m\u001b[39m -> \u001b[39m\u001b[39;1m3.1.3\u001b[39;22m\u001b[39m)\u001b[39m: \u001b[34mDownloading...\u001b[39m \u001b[39;1m0%\u001b[39;22m\n",
            "  \u001b[34;1m-\u001b[39;22m \u001b[39mDowngrading \u001b[39m\u001b[36mrioxarray\u001b[39m\u001b[39m (\u001b[39m\u001b[39;1m0.15.0\u001b[39;22m\u001b[39m -> \u001b[39m\u001b[39;1m0.14.1\u001b[39;22m\u001b[39m)\u001b[39m: \u001b[34mDownloading...\u001b[39m \u001b[39;1m0%\u001b[39;22m\n",
            "\u001b[2A\u001b[0J  \u001b[32;1m-\u001b[39;22m \u001b[39mInstalling \u001b[39m\u001b[36mjupyter\u001b[39m\u001b[39m (\u001b[39m\u001b[32m1.1.1\u001b[39m\u001b[39m)\u001b[39m\n",
            "  \u001b[34;1m-\u001b[39;22m \u001b[39mDowngrading \u001b[39m\u001b[36mopenpyxl\u001b[39m\u001b[39m (\u001b[39m\u001b[39;1m3.1.5\u001b[39;22m\u001b[39m -> \u001b[39m\u001b[39;1m3.1.3\u001b[39;22m\u001b[39m)\u001b[39m: \u001b[34mDownloading...\u001b[39m \u001b[39;1m0%\u001b[39;22m\n",
            "  \u001b[34;1m-\u001b[39;22m \u001b[39mDowngrading \u001b[39m\u001b[36mrioxarray\u001b[39m\u001b[39m (\u001b[39m\u001b[39;1m0.15.0\u001b[39;22m\u001b[39m -> \u001b[39m\u001b[39;1m0.14.1\u001b[39;22m\u001b[39m)\u001b[39m: \u001b[34mDownloading...\u001b[39m \u001b[39;1m0%\u001b[39;22m\n",
            "\u001b[6A\u001b[0J  \u001b[34;1m-\u001b[39;22m \u001b[39mDowngrading \u001b[39m\u001b[36mgeopandas\u001b[39m\u001b[39m (\u001b[39m\u001b[39;1m0.14.1\u001b[39;22m\u001b[39m -> \u001b[39m\u001b[39;1m0.13.2\u001b[39;22m\u001b[39m)\u001b[39m: \u001b[34mDownloading...\u001b[39m \u001b[39;1m0%\u001b[39;22m\n",
            "  \u001b[34;1m-\u001b[39;22m \u001b[39mDowngrading \u001b[39m\u001b[36mh5py\u001b[39m\u001b[39m (\u001b[39m\u001b[39;1m3.13.0\u001b[39;22m\u001b[39m -> \u001b[39m\u001b[39;1m3.12.1\u001b[39;22m\u001b[39m)\u001b[39m: \u001b[34mDownloading...\u001b[39m \u001b[39;1m0%\u001b[39;22m\n",
            "  \u001b[32;1m-\u001b[39;22m \u001b[39mInstalling \u001b[39m\u001b[36mjupyter\u001b[39m\u001b[39m (\u001b[39m\u001b[32m1.1.1\u001b[39m\u001b[39m)\u001b[39m\n",
            "  \u001b[34;1m-\u001b[39;22m \u001b[39mDowngrading \u001b[39m\u001b[36mopenpyxl\u001b[39m\u001b[39m (\u001b[39m\u001b[39;1m3.1.5\u001b[39;22m\u001b[39m -> \u001b[39m\u001b[39;1m3.1.3\u001b[39;22m\u001b[39m)\u001b[39m: \u001b[34mDownloading...\u001b[39m \u001b[39;1m0%\u001b[39;22m\n",
            "  \u001b[34;1m-\u001b[39;22m \u001b[39mDowngrading \u001b[39m\u001b[36mrioxarray\u001b[39m\u001b[39m (\u001b[39m\u001b[39;1m0.15.0\u001b[39;22m\u001b[39m -> \u001b[39m\u001b[39;1m0.14.1\u001b[39;22m\u001b[39m)\u001b[39m: \u001b[34mDownloading...\u001b[39m \u001b[39;1m0%\u001b[39;22m\n",
            "\u001b[5A\u001b[0J  \u001b[34;1m-\u001b[39;22m \u001b[39mInstalling \u001b[39m\u001b[36mdescartes\u001b[39m\u001b[39m (\u001b[39m\u001b[39;1m1.1.0\u001b[39;22m\u001b[39m)\u001b[39m: \u001b[34mInstalling...\u001b[39m\n",
            "  \u001b[34;1m-\u001b[39;22m \u001b[39mDowngrading \u001b[39m\u001b[36mgeopandas\u001b[39m\u001b[39m (\u001b[39m\u001b[39;1m0.14.1\u001b[39;22m\u001b[39m -> \u001b[39m\u001b[39;1m0.13.2\u001b[39;22m\u001b[39m)\u001b[39m: \u001b[34mDownloading...\u001b[39m \u001b[39;1m0%\u001b[39;22m\n",
            "  \u001b[34;1m-\u001b[39;22m \u001b[39mDowngrading \u001b[39m\u001b[36mh5py\u001b[39m\u001b[39m (\u001b[39m\u001b[39;1m3.13.0\u001b[39;22m\u001b[39m -> \u001b[39m\u001b[39;1m3.12.1\u001b[39;22m\u001b[39m)\u001b[39m: \u001b[34mDownloading...\u001b[39m \u001b[39;1m0%\u001b[39;22m\n",
            "  \u001b[32;1m-\u001b[39;22m \u001b[39mInstalling \u001b[39m\u001b[36mjupyter\u001b[39m\u001b[39m (\u001b[39m\u001b[32m1.1.1\u001b[39m\u001b[39m)\u001b[39m\n",
            "  \u001b[34;1m-\u001b[39;22m \u001b[39mDowngrading \u001b[39m\u001b[36mopenpyxl\u001b[39m\u001b[39m (\u001b[39m\u001b[39;1m3.1.5\u001b[39;22m\u001b[39m -> \u001b[39m\u001b[39;1m3.1.3\u001b[39;22m\u001b[39m)\u001b[39m: \u001b[34mDownloading...\u001b[39m \u001b[39;1m0%\u001b[39;22m\n",
            "  \u001b[34;1m-\u001b[39;22m \u001b[39mDowngrading \u001b[39m\u001b[36mrioxarray\u001b[39m\u001b[39m (\u001b[39m\u001b[39;1m0.15.0\u001b[39;22m\u001b[39m -> \u001b[39m\u001b[39;1m0.14.1\u001b[39;22m\u001b[39m)\u001b[39m: \u001b[34mDownloading...\u001b[39m \u001b[39;1m0%\u001b[39;22m\n",
            "\u001b[1A\u001b[0J  \u001b[34;1m-\u001b[39;22m \u001b[39mDowngrading \u001b[39m\u001b[36mrioxarray\u001b[39m\u001b[39m (\u001b[39m\u001b[39;1m0.15.0\u001b[39;22m\u001b[39m -> \u001b[39m\u001b[39;1m0.14.1\u001b[39;22m\u001b[39m)\u001b[39m: \u001b[34mDownloading...\u001b[39m \u001b[39;1m100%\u001b[39;22m\n",
            "\u001b[2A\u001b[0J  \u001b[34;1m-\u001b[39;22m \u001b[39mDowngrading \u001b[39m\u001b[36mrioxarray\u001b[39m\u001b[39m (\u001b[39m\u001b[39;1m0.15.0\u001b[39;22m\u001b[39m -> \u001b[39m\u001b[39;1m0.14.1\u001b[39;22m\u001b[39m)\u001b[39m: \u001b[34mDownloading...\u001b[39m \u001b[39;1m100%\u001b[39;22m\n",
            "\u001b[1A\u001b[0J  \u001b[34;1m-\u001b[39;22m \u001b[39mDowngrading \u001b[39m\u001b[36mopenpyxl\u001b[39m\u001b[39m (\u001b[39m\u001b[39;1m3.1.5\u001b[39;22m\u001b[39m -> \u001b[39m\u001b[39;1m3.1.3\u001b[39;22m\u001b[39m)\u001b[39m: \u001b[34mDownloading...\u001b[39m \u001b[39;1m100%\u001b[39;22m\n",
            "  \u001b[34;1m-\u001b[39;22m \u001b[39mDowngrading \u001b[39m\u001b[36mrioxarray\u001b[39m\u001b[39m (\u001b[39m\u001b[39;1m0.15.0\u001b[39;22m\u001b[39m -> \u001b[39m\u001b[39;1m0.14.1\u001b[39;22m\u001b[39m)\u001b[39m: \u001b[34mDownloading...\u001b[39m \u001b[39;1m100%\u001b[39;22m\n",
            "\u001b[1A\u001b[0J  \u001b[34;1m-\u001b[39;22m \u001b[39mDowngrading \u001b[39m\u001b[36mrioxarray\u001b[39m\u001b[39m (\u001b[39m\u001b[39;1m0.15.0\u001b[39;22m\u001b[39m -> \u001b[39m\u001b[39;1m0.14.1\u001b[39;22m\u001b[39m)\u001b[39m: \u001b[34mInstalling...\u001b[39m\n",
            "  \u001b[34;1m-\u001b[39;22m \u001b[39mDowngrading \u001b[39m\u001b[36mseaborn\u001b[39m\u001b[39m (\u001b[39m\u001b[39;1m0.13.2\u001b[39;22m\u001b[39m -> \u001b[39m\u001b[39;1m0.12.2\u001b[39;22m\u001b[39m)\u001b[39m: \u001b[34mPending...\u001b[39m\n",
            "\u001b[7A\u001b[0J  \u001b[34;1m-\u001b[39;22m \u001b[39mDowngrading \u001b[39m\u001b[36mgeopandas\u001b[39m\u001b[39m (\u001b[39m\u001b[39;1m0.14.1\u001b[39;22m\u001b[39m -> \u001b[39m\u001b[39;1m0.13.2\u001b[39;22m\u001b[39m)\u001b[39m: \u001b[34mDownloading...\u001b[39m \u001b[39;1m0%\u001b[39;22m\n",
            "  \u001b[34;1m-\u001b[39;22m \u001b[39mDowngrading \u001b[39m\u001b[36mh5py\u001b[39m\u001b[39m (\u001b[39m\u001b[39;1m3.13.0\u001b[39;22m\u001b[39m -> \u001b[39m\u001b[39;1m3.12.1\u001b[39;22m\u001b[39m)\u001b[39m: \u001b[34mDownloading...\u001b[39m \u001b[39;1m0%\u001b[39;22m\n",
            "  \u001b[32;1m-\u001b[39;22m \u001b[39mInstalling \u001b[39m\u001b[36mjupyter\u001b[39m\u001b[39m (\u001b[39m\u001b[32m1.1.1\u001b[39m\u001b[39m)\u001b[39m\n",
            "  \u001b[34;1m-\u001b[39;22m \u001b[39mDowngrading \u001b[39m\u001b[36mopenpyxl\u001b[39m\u001b[39m (\u001b[39m\u001b[39;1m3.1.5\u001b[39;22m\u001b[39m -> \u001b[39m\u001b[39;1m3.1.3\u001b[39;22m\u001b[39m)\u001b[39m: \u001b[34mDownloading...\u001b[39m \u001b[39;1m100%\u001b[39;22m\n",
            "  \u001b[34;1m-\u001b[39;22m \u001b[39mDowngrading \u001b[39m\u001b[36mrioxarray\u001b[39m\u001b[39m (\u001b[39m\u001b[39;1m0.15.0\u001b[39;22m\u001b[39m -> \u001b[39m\u001b[39;1m0.14.1\u001b[39;22m\u001b[39m)\u001b[39m: \u001b[34mInstalling...\u001b[39m\n",
            "  \u001b[34;1m-\u001b[39;22m \u001b[39mDowngrading \u001b[39m\u001b[36mseaborn\u001b[39m\u001b[39m (\u001b[39m\u001b[39;1m0.13.2\u001b[39;22m\u001b[39m -> \u001b[39m\u001b[39;1m0.12.2\u001b[39;22m\u001b[39m)\u001b[39m: \u001b[34mPending...\u001b[39m\n",
            "\u001b[6A\u001b[0J  \u001b[32;1m-\u001b[39;22m \u001b[39mInstalling \u001b[39m\u001b[36mdescartes\u001b[39m\u001b[39m (\u001b[39m\u001b[32m1.1.0\u001b[39m\u001b[39m)\u001b[39m\n",
            "  \u001b[34;1m-\u001b[39;22m \u001b[39mDowngrading \u001b[39m\u001b[36mgeopandas\u001b[39m\u001b[39m (\u001b[39m\u001b[39;1m0.14.1\u001b[39;22m\u001b[39m -> \u001b[39m\u001b[39;1m0.13.2\u001b[39;22m\u001b[39m)\u001b[39m: \u001b[34mDownloading...\u001b[39m \u001b[39;1m0%\u001b[39;22m\n",
            "  \u001b[34;1m-\u001b[39;22m \u001b[39mDowngrading \u001b[39m\u001b[36mh5py\u001b[39m\u001b[39m (\u001b[39m\u001b[39;1m3.13.0\u001b[39;22m\u001b[39m -> \u001b[39m\u001b[39;1m3.12.1\u001b[39;22m\u001b[39m)\u001b[39m: \u001b[34mDownloading...\u001b[39m \u001b[39;1m0%\u001b[39;22m\n",
            "  \u001b[32;1m-\u001b[39;22m \u001b[39mInstalling \u001b[39m\u001b[36mjupyter\u001b[39m\u001b[39m (\u001b[39m\u001b[32m1.1.1\u001b[39m\u001b[39m)\u001b[39m\n",
            "  \u001b[34;1m-\u001b[39;22m \u001b[39mDowngrading \u001b[39m\u001b[36mopenpyxl\u001b[39m\u001b[39m (\u001b[39m\u001b[39;1m3.1.5\u001b[39;22m\u001b[39m -> \u001b[39m\u001b[39;1m3.1.3\u001b[39;22m\u001b[39m)\u001b[39m: \u001b[34mDownloading...\u001b[39m \u001b[39;1m100%\u001b[39;22m\n",
            "  \u001b[34;1m-\u001b[39;22m \u001b[39mDowngrading \u001b[39m\u001b[36mrioxarray\u001b[39m\u001b[39m (\u001b[39m\u001b[39;1m0.15.0\u001b[39;22m\u001b[39m -> \u001b[39m\u001b[39;1m0.14.1\u001b[39;22m\u001b[39m)\u001b[39m: \u001b[34mInstalling...\u001b[39m\n",
            "  \u001b[34;1m-\u001b[39;22m \u001b[39mDowngrading \u001b[39m\u001b[36mseaborn\u001b[39m\u001b[39m (\u001b[39m\u001b[39;1m0.13.2\u001b[39;22m\u001b[39m -> \u001b[39m\u001b[39;1m0.12.2\u001b[39;22m\u001b[39m)\u001b[39m: \u001b[34mPending...\u001b[39m\n",
            "\u001b[3A\u001b[0J  \u001b[34;1m-\u001b[39;22m \u001b[39mDowngrading \u001b[39m\u001b[36mrioxarray\u001b[39m\u001b[39m (\u001b[39m\u001b[39;1m0.15.0\u001b[39;22m\u001b[39m -> \u001b[39m\u001b[39;1m0.14.1\u001b[39;22m\u001b[39m)\u001b[39m: \u001b[34mInstalling...\u001b[39m\n",
            "  \u001b[34;1m-\u001b[39;22m \u001b[39mDowngrading \u001b[39m\u001b[36mseaborn\u001b[39m\u001b[39m (\u001b[39m\u001b[39;1m0.13.2\u001b[39;22m\u001b[39m -> \u001b[39m\u001b[39;1m0.12.2\u001b[39;22m\u001b[39m)\u001b[39m: \u001b[34mPending...\u001b[39m\n",
            "\u001b[2A\u001b[0J  \u001b[34;1m-\u001b[39;22m \u001b[39mDowngrading \u001b[39m\u001b[36mopenpyxl\u001b[39m\u001b[39m (\u001b[39m\u001b[39;1m3.1.5\u001b[39;22m\u001b[39m -> \u001b[39m\u001b[39;1m3.1.3\u001b[39;22m\u001b[39m)\u001b[39m: \u001b[34mInstalling...\u001b[39m\n",
            "  \u001b[34;1m-\u001b[39;22m \u001b[39mDowngrading \u001b[39m\u001b[36mrioxarray\u001b[39m\u001b[39m (\u001b[39m\u001b[39;1m0.15.0\u001b[39;22m\u001b[39m -> \u001b[39m\u001b[39;1m0.14.1\u001b[39;22m\u001b[39m)\u001b[39m: \u001b[34mInstalling...\u001b[39m\n",
            "  \u001b[34;1m-\u001b[39;22m \u001b[39mDowngrading \u001b[39m\u001b[36mseaborn\u001b[39m\u001b[39m (\u001b[39m\u001b[39;1m0.13.2\u001b[39;22m\u001b[39m -> \u001b[39m\u001b[39;1m0.12.2\u001b[39;22m\u001b[39m)\u001b[39m: \u001b[34mPending...\u001b[39m\n",
            "\u001b[1A\u001b[0J  \u001b[34;1m-\u001b[39;22m \u001b[39mDowngrading \u001b[39m\u001b[36mseaborn\u001b[39m\u001b[39m (\u001b[39m\u001b[39;1m0.13.2\u001b[39;22m\u001b[39m -> \u001b[39m\u001b[39;1m0.12.2\u001b[39;22m\u001b[39m)\u001b[39m: \u001b[34mDownloading...\u001b[39m \u001b[39;1m0%\u001b[39;22m\n",
            "\u001b[6A\u001b[0J  \u001b[34;1m-\u001b[39;22m \u001b[39mDowngrading \u001b[39m\u001b[36mh5py\u001b[39m\u001b[39m (\u001b[39m\u001b[39;1m3.13.0\u001b[39;22m\u001b[39m -> \u001b[39m\u001b[39;1m3.12.1\u001b[39;22m\u001b[39m)\u001b[39m: \u001b[34mDownloading...\u001b[39m \u001b[39;1m0%\u001b[39;22m\n",
            "  \u001b[32;1m-\u001b[39;22m \u001b[39mInstalling \u001b[39m\u001b[36mjupyter\u001b[39m\u001b[39m (\u001b[39m\u001b[32m1.1.1\u001b[39m\u001b[39m)\u001b[39m\n",
            "  \u001b[34;1m-\u001b[39;22m \u001b[39mDowngrading \u001b[39m\u001b[36mopenpyxl\u001b[39m\u001b[39m (\u001b[39m\u001b[39;1m3.1.5\u001b[39;22m\u001b[39m -> \u001b[39m\u001b[39;1m3.1.3\u001b[39;22m\u001b[39m)\u001b[39m: \u001b[34mInstalling...\u001b[39m\n",
            "  \u001b[34;1m-\u001b[39;22m \u001b[39mDowngrading \u001b[39m\u001b[36mrioxarray\u001b[39m\u001b[39m (\u001b[39m\u001b[39;1m0.15.0\u001b[39;22m\u001b[39m -> \u001b[39m\u001b[39;1m0.14.1\u001b[39;22m\u001b[39m)\u001b[39m: \u001b[34mInstalling...\u001b[39m\n",
            "  \u001b[34;1m-\u001b[39;22m \u001b[39mDowngrading \u001b[39m\u001b[36mseaborn\u001b[39m\u001b[39m (\u001b[39m\u001b[39;1m0.13.2\u001b[39;22m\u001b[39m -> \u001b[39m\u001b[39;1m0.12.2\u001b[39;22m\u001b[39m)\u001b[39m: \u001b[34mDownloading...\u001b[39m \u001b[39;1m0%\u001b[39;22m\n",
            "\u001b[5A\u001b[0J  \u001b[34;1m-\u001b[39;22m \u001b[39mDowngrading \u001b[39m\u001b[36mgeopandas\u001b[39m\u001b[39m (\u001b[39m\u001b[39;1m0.14.1\u001b[39;22m\u001b[39m -> \u001b[39m\u001b[39;1m0.13.2\u001b[39;22m\u001b[39m)\u001b[39m: \u001b[34mDownloading...\u001b[39m \u001b[39;1m100%\u001b[39;22m\n",
            "  \u001b[34;1m-\u001b[39;22m \u001b[39mDowngrading \u001b[39m\u001b[36mh5py\u001b[39m\u001b[39m (\u001b[39m\u001b[39;1m3.13.0\u001b[39;22m\u001b[39m -> \u001b[39m\u001b[39;1m3.12.1\u001b[39;22m\u001b[39m)\u001b[39m: \u001b[34mDownloading...\u001b[39m \u001b[39;1m0%\u001b[39;22m\n",
            "  \u001b[32;1m-\u001b[39;22m \u001b[39mInstalling \u001b[39m\u001b[36mjupyter\u001b[39m\u001b[39m (\u001b[39m\u001b[32m1.1.1\u001b[39m\u001b[39m)\u001b[39m\n",
            "  \u001b[34;1m-\u001b[39;22m \u001b[39mDowngrading \u001b[39m\u001b[36mopenpyxl\u001b[39m\u001b[39m (\u001b[39m\u001b[39;1m3.1.5\u001b[39;22m\u001b[39m -> \u001b[39m\u001b[39;1m3.1.3\u001b[39;22m\u001b[39m)\u001b[39m: \u001b[34mInstalling...\u001b[39m\n",
            "  \u001b[34;1m-\u001b[39;22m \u001b[39mDowngrading \u001b[39m\u001b[36mrioxarray\u001b[39m\u001b[39m (\u001b[39m\u001b[39;1m0.15.0\u001b[39;22m\u001b[39m -> \u001b[39m\u001b[39;1m0.14.1\u001b[39;22m\u001b[39m)\u001b[39m: \u001b[34mInstalling...\u001b[39m\n",
            "  \u001b[34;1m-\u001b[39;22m \u001b[39mDowngrading \u001b[39m\u001b[36mseaborn\u001b[39m\u001b[39m (\u001b[39m\u001b[39;1m0.13.2\u001b[39;22m\u001b[39m -> \u001b[39m\u001b[39;1m0.12.2\u001b[39;22m\u001b[39m)\u001b[39m: \u001b[34mDownloading...\u001b[39m \u001b[39;1m0%\u001b[39;22m\n",
            "\u001b[1A\u001b[0J  \u001b[34;1m-\u001b[39;22m \u001b[39mDowngrading \u001b[39m\u001b[36mseaborn\u001b[39m\u001b[39m (\u001b[39m\u001b[39;1m0.13.2\u001b[39;22m\u001b[39m -> \u001b[39m\u001b[39;1m0.12.2\u001b[39;22m\u001b[39m)\u001b[39m: \u001b[34mDownloading...\u001b[39m \u001b[39;1m100%\u001b[39;22m\n",
            "\u001b[1A\u001b[0J  \u001b[34;1m-\u001b[39;22m \u001b[39mDowngrading \u001b[39m\u001b[36mseaborn\u001b[39m\u001b[39m (\u001b[39m\u001b[39;1m0.13.2\u001b[39;22m\u001b[39m -> \u001b[39m\u001b[39;1m0.12.2\u001b[39;22m\u001b[39m)\u001b[39m: \u001b[34mInstalling...\u001b[39m\n",
            "\u001b[5A\u001b[0J  \u001b[32;1m-\u001b[39;22m \u001b[39mInstalling \u001b[39m\u001b[36mjupyter\u001b[39m\u001b[39m (\u001b[39m\u001b[32m1.1.1\u001b[39m\u001b[39m)\u001b[39m\n",
            "  \u001b[34;1m-\u001b[39;22m \u001b[39mDowngrading \u001b[39m\u001b[36mopenpyxl\u001b[39m\u001b[39m (\u001b[39m\u001b[39;1m3.1.5\u001b[39;22m\u001b[39m -> \u001b[39m\u001b[39;1m3.1.3\u001b[39;22m\u001b[39m)\u001b[39m: \u001b[34mInstalling...\u001b[39m\n",
            "  \u001b[34;1m-\u001b[39;22m \u001b[39mDowngrading \u001b[39m\u001b[36mrioxarray\u001b[39m\u001b[39m (\u001b[39m\u001b[39;1m0.15.0\u001b[39;22m\u001b[39m -> \u001b[39m\u001b[39;1m0.14.1\u001b[39;22m\u001b[39m)\u001b[39m: \u001b[34mInstalling...\u001b[39m\n",
            "  \u001b[34;1m-\u001b[39;22m \u001b[39mDowngrading \u001b[39m\u001b[36mseaborn\u001b[39m\u001b[39m (\u001b[39m\u001b[39;1m0.13.2\u001b[39;22m\u001b[39m -> \u001b[39m\u001b[39;1m0.12.2\u001b[39;22m\u001b[39m)\u001b[39m: \u001b[34mInstalling...\u001b[39m\n",
            "\u001b[4A\u001b[0J  \u001b[34;1m-\u001b[39;22m \u001b[39mDowngrading \u001b[39m\u001b[36mh5py\u001b[39m\u001b[39m (\u001b[39m\u001b[39;1m3.13.0\u001b[39;22m\u001b[39m -> \u001b[39m\u001b[39;1m3.12.1\u001b[39;22m\u001b[39m)\u001b[39m: \u001b[34mDownloading...\u001b[39m \u001b[39;1m30%\u001b[39;22m\n",
            "  \u001b[32;1m-\u001b[39;22m \u001b[39mInstalling \u001b[39m\u001b[36mjupyter\u001b[39m\u001b[39m (\u001b[39m\u001b[32m1.1.1\u001b[39m\u001b[39m)\u001b[39m\n",
            "  \u001b[34;1m-\u001b[39;22m \u001b[39mDowngrading \u001b[39m\u001b[36mopenpyxl\u001b[39m\u001b[39m (\u001b[39m\u001b[39;1m3.1.5\u001b[39;22m\u001b[39m -> \u001b[39m\u001b[39;1m3.1.3\u001b[39;22m\u001b[39m)\u001b[39m: \u001b[34mInstalling...\u001b[39m\n",
            "  \u001b[34;1m-\u001b[39;22m \u001b[39mDowngrading \u001b[39m\u001b[36mrioxarray\u001b[39m\u001b[39m (\u001b[39m\u001b[39;1m0.15.0\u001b[39;22m\u001b[39m -> \u001b[39m\u001b[39;1m0.14.1\u001b[39;22m\u001b[39m)\u001b[39m: \u001b[34mInstalling...\u001b[39m\n",
            "  \u001b[34;1m-\u001b[39;22m \u001b[39mDowngrading \u001b[39m\u001b[36mseaborn\u001b[39m\u001b[39m (\u001b[39m\u001b[39;1m0.13.2\u001b[39;22m\u001b[39m -> \u001b[39m\u001b[39;1m0.12.2\u001b[39;22m\u001b[39m)\u001b[39m: \u001b[34mInstalling...\u001b[39m\n",
            "\u001b[6A\u001b[0J  \u001b[34;1m-\u001b[39;22m \u001b[39mDowngrading \u001b[39m\u001b[36mh5py\u001b[39m\u001b[39m (\u001b[39m\u001b[39;1m3.13.0\u001b[39;22m\u001b[39m -> \u001b[39m\u001b[39;1m3.12.1\u001b[39;22m\u001b[39m)\u001b[39m: \u001b[34mDownloading...\u001b[39m \u001b[39;1m30%\u001b[39;22m\n",
            "  \u001b[32;1m-\u001b[39;22m \u001b[39mInstalling \u001b[39m\u001b[36mjupyter\u001b[39m\u001b[39m (\u001b[39m\u001b[32m1.1.1\u001b[39m\u001b[39m)\u001b[39m\n",
            "  \u001b[34;1m-\u001b[39;22m \u001b[39mDowngrading \u001b[39m\u001b[36mopenpyxl\u001b[39m\u001b[39m (\u001b[39m\u001b[39;1m3.1.5\u001b[39;22m\u001b[39m -> \u001b[39m\u001b[39;1m3.1.3\u001b[39;22m\u001b[39m)\u001b[39m: \u001b[34mInstalling...\u001b[39m\n",
            "  \u001b[34;1m-\u001b[39;22m \u001b[39mDowngrading \u001b[39m\u001b[36mrioxarray\u001b[39m\u001b[39m (\u001b[39m\u001b[39;1m0.15.0\u001b[39;22m\u001b[39m -> \u001b[39m\u001b[39;1m0.14.1\u001b[39;22m\u001b[39m)\u001b[39m: \u001b[34mInstalling...\u001b[39m\n",
            "  \u001b[34;1m-\u001b[39;22m \u001b[39mDowngrading \u001b[39m\u001b[36mseaborn\u001b[39m\u001b[39m (\u001b[39m\u001b[39;1m0.13.2\u001b[39;22m\u001b[39m -> \u001b[39m\u001b[39;1m0.12.2\u001b[39;22m\u001b[39m)\u001b[39m: \u001b[34mInstalling...\u001b[39m\n",
            "\u001b[5A\u001b[0J  \u001b[34;1m-\u001b[39;22m \u001b[39mDowngrading \u001b[39m\u001b[36mgeopandas\u001b[39m\u001b[39m (\u001b[39m\u001b[39;1m0.14.1\u001b[39;22m\u001b[39m -> \u001b[39m\u001b[39;1m0.13.2\u001b[39;22m\u001b[39m)\u001b[39m: \u001b[34mInstalling...\u001b[39m\n",
            "  \u001b[34;1m-\u001b[39;22m \u001b[39mDowngrading \u001b[39m\u001b[36mh5py\u001b[39m\u001b[39m (\u001b[39m\u001b[39;1m3.13.0\u001b[39;22m\u001b[39m -> \u001b[39m\u001b[39;1m3.12.1\u001b[39;22m\u001b[39m)\u001b[39m: \u001b[34mDownloading...\u001b[39m \u001b[39;1m30%\u001b[39;22m\n",
            "  \u001b[32;1m-\u001b[39;22m \u001b[39mInstalling \u001b[39m\u001b[36mjupyter\u001b[39m\u001b[39m (\u001b[39m\u001b[32m1.1.1\u001b[39m\u001b[39m)\u001b[39m\n",
            "  \u001b[34;1m-\u001b[39;22m \u001b[39mDowngrading \u001b[39m\u001b[36mopenpyxl\u001b[39m\u001b[39m (\u001b[39m\u001b[39;1m3.1.5\u001b[39;22m\u001b[39m -> \u001b[39m\u001b[39;1m3.1.3\u001b[39;22m\u001b[39m)\u001b[39m: \u001b[34mInstalling...\u001b[39m\n",
            "  \u001b[34;1m-\u001b[39;22m \u001b[39mDowngrading \u001b[39m\u001b[36mrioxarray\u001b[39m\u001b[39m (\u001b[39m\u001b[39;1m0.15.0\u001b[39;22m\u001b[39m -> \u001b[39m\u001b[39;1m0.14.1\u001b[39;22m\u001b[39m)\u001b[39m: \u001b[34mInstalling...\u001b[39m\n",
            "  \u001b[34;1m-\u001b[39;22m \u001b[39mDowngrading \u001b[39m\u001b[36mseaborn\u001b[39m\u001b[39m (\u001b[39m\u001b[39;1m0.13.2\u001b[39;22m\u001b[39m -> \u001b[39m\u001b[39;1m0.12.2\u001b[39;22m\u001b[39m)\u001b[39m: \u001b[34mInstalling...\u001b[39m\n",
            "\u001b[5A\u001b[0J  \u001b[32;1m-\u001b[39;22m \u001b[39mInstalling \u001b[39m\u001b[36mjupyter\u001b[39m\u001b[39m (\u001b[39m\u001b[32m1.1.1\u001b[39m\u001b[39m)\u001b[39m\n",
            "  \u001b[34;1m-\u001b[39;22m \u001b[39mDowngrading \u001b[39m\u001b[36mopenpyxl\u001b[39m\u001b[39m (\u001b[39m\u001b[39;1m3.1.5\u001b[39;22m\u001b[39m -> \u001b[39m\u001b[39;1m3.1.3\u001b[39;22m\u001b[39m)\u001b[39m: \u001b[34mInstalling...\u001b[39m\n",
            "  \u001b[34;1m-\u001b[39;22m \u001b[39mDowngrading \u001b[39m\u001b[36mrioxarray\u001b[39m\u001b[39m (\u001b[39m\u001b[39;1m0.15.0\u001b[39;22m\u001b[39m -> \u001b[39m\u001b[39;1m0.14.1\u001b[39;22m\u001b[39m)\u001b[39m: \u001b[34mInstalling...\u001b[39m\n",
            "  \u001b[34;1m-\u001b[39;22m \u001b[39mDowngrading \u001b[39m\u001b[36mseaborn\u001b[39m\u001b[39m (\u001b[39m\u001b[39;1m0.13.2\u001b[39;22m\u001b[39m -> \u001b[39m\u001b[39;1m0.12.2\u001b[39;22m\u001b[39m)\u001b[39m: \u001b[34mInstalling...\u001b[39m\n",
            "\u001b[4A\u001b[0J  \u001b[34;1m-\u001b[39;22m \u001b[39mDowngrading \u001b[39m\u001b[36mh5py\u001b[39m\u001b[39m (\u001b[39m\u001b[39;1m3.13.0\u001b[39;22m\u001b[39m -> \u001b[39m\u001b[39;1m3.12.1\u001b[39;22m\u001b[39m)\u001b[39m: \u001b[34mDownloading...\u001b[39m \u001b[39;1m60%\u001b[39;22m\n",
            "  \u001b[32;1m-\u001b[39;22m \u001b[39mInstalling \u001b[39m\u001b[36mjupyter\u001b[39m\u001b[39m (\u001b[39m\u001b[32m1.1.1\u001b[39m\u001b[39m)\u001b[39m\n",
            "  \u001b[34;1m-\u001b[39;22m \u001b[39mDowngrading \u001b[39m\u001b[36mopenpyxl\u001b[39m\u001b[39m (\u001b[39m\u001b[39;1m3.1.5\u001b[39;22m\u001b[39m -> \u001b[39m\u001b[39;1m3.1.3\u001b[39;22m\u001b[39m)\u001b[39m: \u001b[34mInstalling...\u001b[39m\n",
            "  \u001b[34;1m-\u001b[39;22m \u001b[39mDowngrading \u001b[39m\u001b[36mrioxarray\u001b[39m\u001b[39m (\u001b[39m\u001b[39;1m0.15.0\u001b[39;22m\u001b[39m -> \u001b[39m\u001b[39;1m0.14.1\u001b[39;22m\u001b[39m)\u001b[39m: \u001b[34mInstalling...\u001b[39m\n",
            "  \u001b[34;1m-\u001b[39;22m \u001b[39mDowngrading \u001b[39m\u001b[36mseaborn\u001b[39m\u001b[39m (\u001b[39m\u001b[39;1m0.13.2\u001b[39;22m\u001b[39m -> \u001b[39m\u001b[39;1m0.12.2\u001b[39;22m\u001b[39m)\u001b[39m: \u001b[34mInstalling...\u001b[39m\n",
            "\u001b[5A\u001b[0J  \u001b[32;1m-\u001b[39;22m \u001b[39mInstalling \u001b[39m\u001b[36mjupyter\u001b[39m\u001b[39m (\u001b[39m\u001b[32m1.1.1\u001b[39m\u001b[39m)\u001b[39m\n",
            "  \u001b[34;1m-\u001b[39;22m \u001b[39mDowngrading \u001b[39m\u001b[36mopenpyxl\u001b[39m\u001b[39m (\u001b[39m\u001b[39;1m3.1.5\u001b[39;22m\u001b[39m -> \u001b[39m\u001b[39;1m3.1.3\u001b[39;22m\u001b[39m)\u001b[39m: \u001b[34mInstalling...\u001b[39m\n",
            "  \u001b[34;1m-\u001b[39;22m \u001b[39mDowngrading \u001b[39m\u001b[36mrioxarray\u001b[39m\u001b[39m (\u001b[39m\u001b[39;1m0.15.0\u001b[39;22m\u001b[39m -> \u001b[39m\u001b[39;1m0.14.1\u001b[39;22m\u001b[39m)\u001b[39m: \u001b[34mInstalling...\u001b[39m\n",
            "  \u001b[34;1m-\u001b[39;22m \u001b[39mDowngrading \u001b[39m\u001b[36mseaborn\u001b[39m\u001b[39m (\u001b[39m\u001b[39;1m0.13.2\u001b[39;22m\u001b[39m -> \u001b[39m\u001b[39;1m0.12.2\u001b[39;22m\u001b[39m)\u001b[39m: \u001b[34mInstalling...\u001b[39m\n",
            "\u001b[4A\u001b[0J  \u001b[34;1m-\u001b[39;22m \u001b[39mDowngrading \u001b[39m\u001b[36mh5py\u001b[39m\u001b[39m (\u001b[39m\u001b[39;1m3.13.0\u001b[39;22m\u001b[39m -> \u001b[39m\u001b[39;1m3.12.1\u001b[39;22m\u001b[39m)\u001b[39m: \u001b[34mDownloading...\u001b[39m \u001b[39;1m90%\u001b[39;22m\n",
            "  \u001b[32;1m-\u001b[39;22m \u001b[39mInstalling \u001b[39m\u001b[36mjupyter\u001b[39m\u001b[39m (\u001b[39m\u001b[32m1.1.1\u001b[39m\u001b[39m)\u001b[39m\n",
            "  \u001b[34;1m-\u001b[39;22m \u001b[39mDowngrading \u001b[39m\u001b[36mopenpyxl\u001b[39m\u001b[39m (\u001b[39m\u001b[39;1m3.1.5\u001b[39;22m\u001b[39m -> \u001b[39m\u001b[39;1m3.1.3\u001b[39;22m\u001b[39m)\u001b[39m: \u001b[34mInstalling...\u001b[39m\n",
            "  \u001b[34;1m-\u001b[39;22m \u001b[39mDowngrading \u001b[39m\u001b[36mrioxarray\u001b[39m\u001b[39m (\u001b[39m\u001b[39;1m0.15.0\u001b[39;22m\u001b[39m -> \u001b[39m\u001b[39;1m0.14.1\u001b[39;22m\u001b[39m)\u001b[39m: \u001b[34mInstalling...\u001b[39m\n",
            "  \u001b[34;1m-\u001b[39;22m \u001b[39mDowngrading \u001b[39m\u001b[36mseaborn\u001b[39m\u001b[39m (\u001b[39m\u001b[39;1m0.13.2\u001b[39;22m\u001b[39m -> \u001b[39m\u001b[39;1m0.12.2\u001b[39;22m\u001b[39m)\u001b[39m: \u001b[34mInstalling...\u001b[39m\n",
            "\u001b[5A\u001b[0J  \u001b[32;1m-\u001b[39;22m \u001b[39mInstalling \u001b[39m\u001b[36mjupyter\u001b[39m\u001b[39m (\u001b[39m\u001b[32m1.1.1\u001b[39m\u001b[39m)\u001b[39m\n",
            "  \u001b[34;1m-\u001b[39;22m \u001b[39mDowngrading \u001b[39m\u001b[36mopenpyxl\u001b[39m\u001b[39m (\u001b[39m\u001b[39;1m3.1.5\u001b[39;22m\u001b[39m -> \u001b[39m\u001b[39;1m3.1.3\u001b[39;22m\u001b[39m)\u001b[39m: \u001b[34mInstalling...\u001b[39m\n",
            "  \u001b[34;1m-\u001b[39;22m \u001b[39mDowngrading \u001b[39m\u001b[36mrioxarray\u001b[39m\u001b[39m (\u001b[39m\u001b[39;1m0.15.0\u001b[39;22m\u001b[39m -> \u001b[39m\u001b[39;1m0.14.1\u001b[39;22m\u001b[39m)\u001b[39m: \u001b[34mInstalling...\u001b[39m\n",
            "  \u001b[34;1m-\u001b[39;22m \u001b[39mDowngrading \u001b[39m\u001b[36mseaborn\u001b[39m\u001b[39m (\u001b[39m\u001b[39;1m0.13.2\u001b[39;22m\u001b[39m -> \u001b[39m\u001b[39;1m0.12.2\u001b[39;22m\u001b[39m)\u001b[39m: \u001b[34mInstalling...\u001b[39m\n",
            "\u001b[4A\u001b[0J  \u001b[34;1m-\u001b[39;22m \u001b[39mDowngrading \u001b[39m\u001b[36mh5py\u001b[39m\u001b[39m (\u001b[39m\u001b[39;1m3.13.0\u001b[39;22m\u001b[39m -> \u001b[39m\u001b[39;1m3.12.1\u001b[39;22m\u001b[39m)\u001b[39m: \u001b[34mDownloading...\u001b[39m \u001b[39;1m100%\u001b[39;22m\n",
            "  \u001b[32;1m-\u001b[39;22m \u001b[39mInstalling \u001b[39m\u001b[36mjupyter\u001b[39m\u001b[39m (\u001b[39m\u001b[32m1.1.1\u001b[39m\u001b[39m)\u001b[39m\n",
            "  \u001b[34;1m-\u001b[39;22m \u001b[39mDowngrading \u001b[39m\u001b[36mopenpyxl\u001b[39m\u001b[39m (\u001b[39m\u001b[39;1m3.1.5\u001b[39;22m\u001b[39m -> \u001b[39m\u001b[39;1m3.1.3\u001b[39;22m\u001b[39m)\u001b[39m: \u001b[34mInstalling...\u001b[39m\n",
            "  \u001b[34;1m-\u001b[39;22m \u001b[39mDowngrading \u001b[39m\u001b[36mrioxarray\u001b[39m\u001b[39m (\u001b[39m\u001b[39;1m0.15.0\u001b[39;22m\u001b[39m -> \u001b[39m\u001b[39;1m0.14.1\u001b[39;22m\u001b[39m)\u001b[39m: \u001b[34mInstalling...\u001b[39m\n",
            "  \u001b[34;1m-\u001b[39;22m \u001b[39mDowngrading \u001b[39m\u001b[36mseaborn\u001b[39m\u001b[39m (\u001b[39m\u001b[39;1m0.13.2\u001b[39;22m\u001b[39m -> \u001b[39m\u001b[39;1m0.12.2\u001b[39;22m\u001b[39m)\u001b[39m: \u001b[34mInstalling...\u001b[39m\n",
            "\u001b[5A\u001b[0J  \u001b[32;1m-\u001b[39;22m \u001b[39mInstalling \u001b[39m\u001b[36mjupyter\u001b[39m\u001b[39m (\u001b[39m\u001b[32m1.1.1\u001b[39m\u001b[39m)\u001b[39m\n",
            "  \u001b[34;1m-\u001b[39;22m \u001b[39mDowngrading \u001b[39m\u001b[36mopenpyxl\u001b[39m\u001b[39m (\u001b[39m\u001b[39;1m3.1.5\u001b[39;22m\u001b[39m -> \u001b[39m\u001b[39;1m3.1.3\u001b[39;22m\u001b[39m)\u001b[39m: \u001b[34mInstalling...\u001b[39m\n",
            "  \u001b[34;1m-\u001b[39;22m \u001b[39mDowngrading \u001b[39m\u001b[36mrioxarray\u001b[39m\u001b[39m (\u001b[39m\u001b[39;1m0.15.0\u001b[39;22m\u001b[39m -> \u001b[39m\u001b[39;1m0.14.1\u001b[39;22m\u001b[39m)\u001b[39m: \u001b[34mInstalling...\u001b[39m\n",
            "  \u001b[34;1m-\u001b[39;22m \u001b[39mDowngrading \u001b[39m\u001b[36mseaborn\u001b[39m\u001b[39m (\u001b[39m\u001b[39;1m0.13.2\u001b[39;22m\u001b[39m -> \u001b[39m\u001b[39;1m0.12.2\u001b[39;22m\u001b[39m)\u001b[39m: \u001b[34mInstalling...\u001b[39m\n",
            "\u001b[4A\u001b[0J  \u001b[34;1m-\u001b[39;22m \u001b[39mDowngrading \u001b[39m\u001b[36mh5py\u001b[39m\u001b[39m (\u001b[39m\u001b[39;1m3.13.0\u001b[39;22m\u001b[39m -> \u001b[39m\u001b[39;1m3.12.1\u001b[39;22m\u001b[39m)\u001b[39m: \u001b[34mInstalling...\u001b[39m\n",
            "  \u001b[32;1m-\u001b[39;22m \u001b[39mInstalling \u001b[39m\u001b[36mjupyter\u001b[39m\u001b[39m (\u001b[39m\u001b[32m1.1.1\u001b[39m\u001b[39m)\u001b[39m\n",
            "  \u001b[34;1m-\u001b[39;22m \u001b[39mDowngrading \u001b[39m\u001b[36mopenpyxl\u001b[39m\u001b[39m (\u001b[39m\u001b[39;1m3.1.5\u001b[39;22m\u001b[39m -> \u001b[39m\u001b[39;1m3.1.3\u001b[39;22m\u001b[39m)\u001b[39m: \u001b[34mInstalling...\u001b[39m\n",
            "  \u001b[34;1m-\u001b[39;22m \u001b[39mDowngrading \u001b[39m\u001b[36mrioxarray\u001b[39m\u001b[39m (\u001b[39m\u001b[39;1m0.15.0\u001b[39;22m\u001b[39m -> \u001b[39m\u001b[39;1m0.14.1\u001b[39;22m\u001b[39m)\u001b[39m: \u001b[34mInstalling...\u001b[39m\n",
            "  \u001b[34;1m-\u001b[39;22m \u001b[39mDowngrading \u001b[39m\u001b[36mseaborn\u001b[39m\u001b[39m (\u001b[39m\u001b[39;1m0.13.2\u001b[39;22m\u001b[39m -> \u001b[39m\u001b[39;1m0.12.2\u001b[39;22m\u001b[39m)\u001b[39m: \u001b[34mInstalling...\u001b[39m\n",
            "\u001b[6A\u001b[0J  \u001b[34;1m-\u001b[39;22m \u001b[39mDowngrading \u001b[39m\u001b[36mh5py\u001b[39m\u001b[39m (\u001b[39m\u001b[39;1m3.13.0\u001b[39;22m\u001b[39m -> \u001b[39m\u001b[39;1m3.12.1\u001b[39;22m\u001b[39m)\u001b[39m: \u001b[34mInstalling...\u001b[39m\n",
            "  \u001b[32;1m-\u001b[39;22m \u001b[39mInstalling \u001b[39m\u001b[36mjupyter\u001b[39m\u001b[39m (\u001b[39m\u001b[32m1.1.1\u001b[39m\u001b[39m)\u001b[39m\n",
            "  \u001b[34;1m-\u001b[39;22m \u001b[39mDowngrading \u001b[39m\u001b[36mopenpyxl\u001b[39m\u001b[39m (\u001b[39m\u001b[39;1m3.1.5\u001b[39;22m\u001b[39m -> \u001b[39m\u001b[39;1m3.1.3\u001b[39;22m\u001b[39m)\u001b[39m: \u001b[34mInstalling...\u001b[39m\n",
            "  \u001b[34;1m-\u001b[39;22m \u001b[39mDowngrading \u001b[39m\u001b[36mrioxarray\u001b[39m\u001b[39m (\u001b[39m\u001b[39;1m0.15.0\u001b[39;22m\u001b[39m -> \u001b[39m\u001b[39;1m0.14.1\u001b[39;22m\u001b[39m)\u001b[39m: \u001b[34mInstalling...\u001b[39m\n",
            "  \u001b[34;1m-\u001b[39;22m \u001b[39mDowngrading \u001b[39m\u001b[36mseaborn\u001b[39m\u001b[39m (\u001b[39m\u001b[39;1m0.13.2\u001b[39;22m\u001b[39m -> \u001b[39m\u001b[39;1m0.12.2\u001b[39;22m\u001b[39m)\u001b[39m: \u001b[34mInstalling...\u001b[39m\n",
            "\u001b[5A\u001b[0J  \u001b[32;1m-\u001b[39;22m \u001b[39mDowngrading \u001b[39m\u001b[36mgeopandas\u001b[39m\u001b[39m (\u001b[39m\u001b[39;1m0.14.1\u001b[39;22m\u001b[39m -> \u001b[39m\u001b[32m0.13.2\u001b[39m\u001b[39m)\u001b[39m\n",
            "  \u001b[34;1m-\u001b[39;22m \u001b[39mDowngrading \u001b[39m\u001b[36mh5py\u001b[39m\u001b[39m (\u001b[39m\u001b[39;1m3.13.0\u001b[39;22m\u001b[39m -> \u001b[39m\u001b[39;1m3.12.1\u001b[39;22m\u001b[39m)\u001b[39m: \u001b[34mInstalling...\u001b[39m\n",
            "  \u001b[32;1m-\u001b[39;22m \u001b[39mInstalling \u001b[39m\u001b[36mjupyter\u001b[39m\u001b[39m (\u001b[39m\u001b[32m1.1.1\u001b[39m\u001b[39m)\u001b[39m\n",
            "  \u001b[34;1m-\u001b[39;22m \u001b[39mDowngrading \u001b[39m\u001b[36mopenpyxl\u001b[39m\u001b[39m (\u001b[39m\u001b[39;1m3.1.5\u001b[39;22m\u001b[39m -> \u001b[39m\u001b[39;1m3.1.3\u001b[39;22m\u001b[39m)\u001b[39m: \u001b[34mInstalling...\u001b[39m\n",
            "  \u001b[34;1m-\u001b[39;22m \u001b[39mDowngrading \u001b[39m\u001b[36mrioxarray\u001b[39m\u001b[39m (\u001b[39m\u001b[39;1m0.15.0\u001b[39;22m\u001b[39m -> \u001b[39m\u001b[39;1m0.14.1\u001b[39;22m\u001b[39m)\u001b[39m: \u001b[34mInstalling...\u001b[39m\n",
            "  \u001b[34;1m-\u001b[39;22m \u001b[39mDowngrading \u001b[39m\u001b[36mseaborn\u001b[39m\u001b[39m (\u001b[39m\u001b[39;1m0.13.2\u001b[39;22m\u001b[39m -> \u001b[39m\u001b[39;1m0.12.2\u001b[39;22m\u001b[39m)\u001b[39m: \u001b[34mInstalling...\u001b[39m\n",
            "\u001b[2A\u001b[0J  \u001b[34;1m-\u001b[39;22m \u001b[39mDowngrading \u001b[39m\u001b[36mseaborn\u001b[39m\u001b[39m (\u001b[39m\u001b[39;1m0.13.2\u001b[39;22m\u001b[39m -> \u001b[39m\u001b[39;1m0.12.2\u001b[39;22m\u001b[39m)\u001b[39m: \u001b[34mInstalling...\u001b[39m\n",
            "\u001b[1A\u001b[0J  \u001b[32;1m-\u001b[39;22m \u001b[39mDowngrading \u001b[39m\u001b[36mrioxarray\u001b[39m\u001b[39m (\u001b[39m\u001b[39;1m0.15.0\u001b[39;22m\u001b[39m -> \u001b[39m\u001b[32m0.14.1\u001b[39m\u001b[39m)\u001b[39m\n",
            "  \u001b[34;1m-\u001b[39;22m \u001b[39mDowngrading \u001b[39m\u001b[36mseaborn\u001b[39m\u001b[39m (\u001b[39m\u001b[39;1m0.13.2\u001b[39;22m\u001b[39m -> \u001b[39m\u001b[39;1m0.12.2\u001b[39;22m\u001b[39m)\u001b[39m: \u001b[34mInstalling...\u001b[39m\n",
            "\u001b[1A\u001b[0J  \u001b[32;1m-\u001b[39;22m \u001b[39mDowngrading \u001b[39m\u001b[36mseaborn\u001b[39m\u001b[39m (\u001b[39m\u001b[39;1m0.13.2\u001b[39;22m\u001b[39m -> \u001b[39m\u001b[32m0.12.2\u001b[39m\u001b[39m)\u001b[39m\n",
            "\u001b[3A\u001b[0J  \u001b[32;1m-\u001b[39;22m \u001b[39mDowngrading \u001b[39m\u001b[36mrioxarray\u001b[39m\u001b[39m (\u001b[39m\u001b[39;1m0.15.0\u001b[39;22m\u001b[39m -> \u001b[39m\u001b[32m0.14.1\u001b[39m\u001b[39m)\u001b[39m\n",
            "  \u001b[32;1m-\u001b[39;22m \u001b[39mDowngrading \u001b[39m\u001b[36mseaborn\u001b[39m\u001b[39m (\u001b[39m\u001b[39;1m0.13.2\u001b[39;22m\u001b[39m -> \u001b[39m\u001b[32m0.12.2\u001b[39m\u001b[39m)\u001b[39m\n",
            "\u001b[2A\u001b[0J  \u001b[32;1m-\u001b[39;22m \u001b[39mDowngrading \u001b[39m\u001b[36mopenpyxl\u001b[39m\u001b[39m (\u001b[39m\u001b[39;1m3.1.5\u001b[39;22m\u001b[39m -> \u001b[39m\u001b[32m3.1.3\u001b[39m\u001b[39m)\u001b[39m\n",
            "  \u001b[32;1m-\u001b[39;22m \u001b[39mDowngrading \u001b[39m\u001b[36mrioxarray\u001b[39m\u001b[39m (\u001b[39m\u001b[39;1m0.15.0\u001b[39;22m\u001b[39m -> \u001b[39m\u001b[32m0.14.1\u001b[39m\u001b[39m)\u001b[39m\n",
            "  \u001b[32;1m-\u001b[39;22m \u001b[39mDowngrading \u001b[39m\u001b[36mseaborn\u001b[39m\u001b[39m (\u001b[39m\u001b[39;1m0.13.2\u001b[39;22m\u001b[39m -> \u001b[39m\u001b[32m0.12.2\u001b[39m\u001b[39m)\u001b[39m\n",
            "\u001b[5A\u001b[0J  \u001b[32;1m-\u001b[39;22m \u001b[39mInstalling \u001b[39m\u001b[36mjupyter\u001b[39m\u001b[39m (\u001b[39m\u001b[32m1.1.1\u001b[39m\u001b[39m)\u001b[39m\n",
            "  \u001b[32;1m-\u001b[39;22m \u001b[39mDowngrading \u001b[39m\u001b[36mopenpyxl\u001b[39m\u001b[39m (\u001b[39m\u001b[39;1m3.1.5\u001b[39;22m\u001b[39m -> \u001b[39m\u001b[32m3.1.3\u001b[39m\u001b[39m)\u001b[39m\n",
            "  \u001b[32;1m-\u001b[39;22m \u001b[39mDowngrading \u001b[39m\u001b[36mrioxarray\u001b[39m\u001b[39m (\u001b[39m\u001b[39;1m0.15.0\u001b[39;22m\u001b[39m -> \u001b[39m\u001b[32m0.14.1\u001b[39m\u001b[39m)\u001b[39m\n",
            "  \u001b[32;1m-\u001b[39;22m \u001b[39mDowngrading \u001b[39m\u001b[36mseaborn\u001b[39m\u001b[39m (\u001b[39m\u001b[39;1m0.13.2\u001b[39;22m\u001b[39m -> \u001b[39m\u001b[32m0.12.2\u001b[39m\u001b[39m)\u001b[39m\n",
            "\u001b[4A\u001b[0J  \u001b[32;1m-\u001b[39;22m \u001b[39mDowngrading \u001b[39m\u001b[36mh5py\u001b[39m\u001b[39m (\u001b[39m\u001b[39;1m3.13.0\u001b[39;22m\u001b[39m -> \u001b[39m\u001b[32m3.12.1\u001b[39m\u001b[39m)\u001b[39m\n",
            "  \u001b[32;1m-\u001b[39;22m \u001b[39mInstalling \u001b[39m\u001b[36mjupyter\u001b[39m\u001b[39m (\u001b[39m\u001b[32m1.1.1\u001b[39m\u001b[39m)\u001b[39m\n",
            "  \u001b[32;1m-\u001b[39;22m \u001b[39mDowngrading \u001b[39m\u001b[36mopenpyxl\u001b[39m\u001b[39m (\u001b[39m\u001b[39;1m3.1.5\u001b[39;22m\u001b[39m -> \u001b[39m\u001b[32m3.1.3\u001b[39m\u001b[39m)\u001b[39m\n",
            "  \u001b[32;1m-\u001b[39;22m \u001b[39mDowngrading \u001b[39m\u001b[36mrioxarray\u001b[39m\u001b[39m (\u001b[39m\u001b[39;1m0.15.0\u001b[39;22m\u001b[39m -> \u001b[39m\u001b[32m0.14.1\u001b[39m\u001b[39m)\u001b[39m\n",
            "  \u001b[32;1m-\u001b[39;22m \u001b[39mDowngrading \u001b[39m\u001b[36mseaborn\u001b[39m\u001b[39m (\u001b[39m\u001b[39;1m0.13.2\u001b[39;22m\u001b[39m -> \u001b[39m\u001b[32m0.12.2\u001b[39m\u001b[39m)\u001b[39m\n"
          ]
        }
      ],
      "source": [
        "!poetry install --no-root"
      ]
    },
    {
      "cell_type": "markdown",
      "source": [
        "🧪 Ahora sí, empezamos con la parte práctica del curso\n"
      ],
      "metadata": {
        "id": "jxH_qxQKl1q_"
      }
    },
    {
      "cell_type": "markdown",
      "metadata": {
        "id": "jf668UO4kqPy"
      },
      "source": [
        "# 🛰️ Parte 1: Adquisición y preprocesamiento de datos de precipitación satelital"
      ]
    },
    {
      "cell_type": "markdown",
      "metadata": {
        "id": "4oSoT2tlkqPy"
      },
      "source": [
        "En esta sesión aprenderemos a:\n",
        "- Acceder y descargar datos de dos fuentes globales de precipitación satelital:\n",
        "  * PERSIANN-CCS (Universidad de California)\n",
        "  * IMERG-ER (NASA - misión GPM)\n",
        "- Abrir, georreferenciar y visualizar datos de precipitación satelital para una región específica."
      ]
    },
    {
      "cell_type": "markdown",
      "metadata": {
        "id": "otd0esX7kqPy"
      },
      "source": [
        "# 🧰 Software para acceder a repositorios gratuitos de datos satelitales"
      ]
    },
    {
      "cell_type": "markdown",
      "metadata": {
        "id": "eDcnmk60kqPy"
      },
      "source": [
        "<div style=\"text-align:center;\"><img style=\"width: 100%;\" src=\"https://github.com/paulmunozpauta//Curso_ML_pronostico_hidrologico/blob/main/notebooks/static/imgs/FileZilla_download.png?raw=1\"></div>"
      ]
    },
    {
      "cell_type": "markdown",
      "metadata": {
        "id": "sk2zUzCikqPy"
      },
      "source": [
        "## 🔑 Iniciar FileZilla"
      ]
    },
    {
      "cell_type": "markdown",
      "metadata": {
        "id": "wbKML_XwkqPy"
      },
      "source": [
        "<div style=\"text-align:center;\"><img style=\"width: 100%;\" src=\"https://github.com/paulmunozpauta//Curso_ML_pronostico_hidrologico/blob/main/notebooks/static/imgs/FileZilla.png?raw=1\"></div>"
      ]
    },
    {
      "cell_type": "markdown",
      "metadata": {
        "id": "GSD446S8kqPz"
      },
      "source": [
        "# 🌐 Fuente de datos PERSIANN"
      ]
    },
    {
      "cell_type": "markdown",
      "metadata": {
        "id": "btKYBE69kqPz"
      },
      "source": [
        "<div style=\"text-align:center;\"><img style=\"width: 100%;\" src=\"https://github.com/paulmunozpauta//Curso_ML_pronostico_hidrologico/blob/main/notebooks/static/imgs/PERSIANN_head.png?raw=1\"></div>"
      ]
    },
    {
      "cell_type": "markdown",
      "metadata": {
        "id": "AyblOL-CkqPz"
      },
      "source": [
        "Website: http://chrs.web.uci.edu"
      ]
    },
    {
      "cell_type": "markdown",
      "metadata": {
        "id": "BaDTfWA9kqPz"
      },
      "source": [
        "Subproductos disponibles:\n",
        "- PERSIANN\n",
        "- PERSIANN-CCS\n",
        "- PERSIANN-CDR\n",
        "- PERSIANN-IDR"
      ]
    },
    {
      "cell_type": "markdown",
      "metadata": {
        "id": "Y0X16BKykqPz"
      },
      "source": [
        "Nos enfocaremos en el subproducto con la resolución espacial/temporal más fina: **PERSIANN-CCS**.\n",
        "\n",
        "¿Qué es PERSIANN-CCS?\n",
        "\n",
        "PERSIANN-CCS utiliza imágenes satelitales para analizar las nubes y estimar la precipitación a nivel global. Fue desarrollado por la Universidad de California en Irvine.\n",
        "\n",
        "El método de estimación de precipitación es muy detallado, analizando la altura de las nubes y su cobertura. A diferencia de otros métodos, puede identificar nubes individuales y proporcionar información específica sobre ellas.\n",
        "Esto permite estimar con más precisión cuánta precipitación cae en diferentes regiones, en tiempo real y con posibilidad de descarga gratuita."
      ]
    },
    {
      "cell_type": "markdown",
      "metadata": {
        "id": "ZjsBls_TkqPz"
      },
      "source": [
        "📝 En resumen:\n",
        "- **Período de datos**: Desde 2003 hasta el presente\n",
        "- **Cobertura**: Desde 60°S hasta 60°N\n",
        "- **Resolución**: 0.04° x 0.04° (~4.4 x 4.4 km por píxel)\n",
        "- **Disponibilidad temporal**: Cada 1h, 3h, 6h, diario, mensual y anual\n",
        "- **Latencia**: Prácticamente en tiempo real (~2 hours)"
      ]
    },
    {
      "cell_type": "markdown",
      "metadata": {
        "id": "3ZNiws5GkqPz"
      },
      "source": [
        "## Connect to the PERSIANN Data Repository"
      ]
    },
    {
      "cell_type": "markdown",
      "metadata": {
        "id": "5BT8SXHnkqPz"
      },
      "source": [
        "Enter the following information:"
      ]
    },
    {
      "cell_type": "markdown",
      "metadata": {
        "id": "G3FIDezJkqPz"
      },
      "source": [
        "- **Protocol**: FTP - File Transfer Protocol  \n",
        "- **Host**: persiann.eng.uci.edu  \n",
        "- **Logon Type**: Anonymous  "
      ]
    },
    {
      "cell_type": "markdown",
      "metadata": {
        "id": "JeeRR1hIkqPz"
      },
      "source": [
        "<div style=\"text-align:center;\"><img style=\"width: 60%;\" src=\"https://github.com/paulmunozpauta/Curso_ML_pronostico_hidrologico/blob/main/notebooks/static/imgs/FTP_PERSIANN.png?raw=1\"></div>"
      ]
    },
    {
      "cell_type": "markdown",
      "metadata": {
        "id": "5Ufb05wvkqPz"
      },
      "source": [
        "Upon connecting, you will have remote access to the PERSIANN data folder."
      ]
    },
    {
      "cell_type": "markdown",
      "metadata": {
        "id": "EqoWQPmpkqPz"
      },
      "source": [
        "<div style=\"text-align:center;\"><img style=\"width: 100%;\" src=\"https://github.com/paulmunozpauta/Curso_ML_pronostico_hidrologico/blob/main/notebooks/static/imgs/Filezilla_PERSIANN_CCS.png?raw=1\"></div>"
      ]
    },
    {
      "cell_type": "markdown",
      "metadata": {
        "id": "kJrd5u0dkqPz"
      },
      "source": [
        "## Download Data from the PERSIANN-CCS Repository"
      ]
    },
    {
      "cell_type": "markdown",
      "metadata": {
        "id": "kvAwwnm3kqPz"
      },
      "source": [
        "Click derecho en la carpeta/archivo que queremos descargar en la carpeta local"
      ]
    },
    {
      "cell_type": "markdown",
      "metadata": {
        "id": "Nljl35sZkqPz"
      },
      "source": [
        "<div style=\"text-align:center;\"><img style=\"width: 100%;\" src=\"https://github.com/paulmunozpauta//Curso_ML_pronostico_hidrologico/blob/main/notebooks/static/imgs/Filezilla_local.png?raw=1\"></div>"
      ]
    },
    {
      "cell_type": "markdown",
      "metadata": {
        "id": "HBf4un9okqPz"
      },
      "source": [
        "We now have PERSIANN-CCS precipitation files."
      ]
    },
    {
      "cell_type": "markdown",
      "metadata": {
        "id": "A_CerOVhkqPz"
      },
      "source": [
        "## Visualize Data on the Platform\n",
        "\n",
        "Access the data visualization platform using the following link:\n",
        "\n",
        "[https://chrsdata.eng.uci.edu](https://chrsdata.eng.uci.edu)"
      ]
    },
    {
      "cell_type": "markdown",
      "metadata": {
        "id": "8h9Lb_EDkqPz"
      },
      "source": [
        "## Open a PERSIANN-CCS file"
      ]
    },
    {
      "cell_type": "markdown",
      "metadata": {
        "id": "As4vDKGMkqP0"
      },
      "source": [
        "Import the necessary libraries:"
      ]
    },
    {
      "cell_type": "code",
      "execution_count": 9,
      "metadata": {
        "scrolled": true,
        "id": "EN5YeHVVkqP0",
        "outputId": "1419037a-fbdc-4bfa-8de8-b4b51c1d1172",
        "colab": {
          "base_uri": "https://localhost:8080/",
          "height": 1000
        }
      },
      "outputs": [
        {
          "output_type": "error",
          "ename": "AttributeError",
          "evalue": "module 'numpy.linalg._umath_linalg' has no attribute '_ilp64'",
          "traceback": [
            "\u001b[0;31m---------------------------------------------------------------------------\u001b[0m",
            "\u001b[0;31mAttributeError\u001b[0m                            Traceback (most recent call last)",
            "\u001b[0;32m<ipython-input-9-e4d6db723ce7>\u001b[0m in \u001b[0;36m<cell line: 0>\u001b[0;34m()\u001b[0m\n\u001b[1;32m      8\u001b[0m \u001b[0;32mimport\u001b[0m \u001b[0mglob\u001b[0m\u001b[0;34m\u001b[0m\u001b[0;34m\u001b[0m\u001b[0m\n\u001b[1;32m      9\u001b[0m \u001b[0;32mimport\u001b[0m \u001b[0mrasterio\u001b[0m\u001b[0;34m\u001b[0m\u001b[0;34m\u001b[0m\u001b[0m\n\u001b[0;32m---> 10\u001b[0;31m \u001b[0;32mimport\u001b[0m \u001b[0mrioxarray\u001b[0m\u001b[0;34m\u001b[0m\u001b[0;34m\u001b[0m\u001b[0m\n\u001b[0m\u001b[1;32m     11\u001b[0m \u001b[0;32mimport\u001b[0m \u001b[0mxarray\u001b[0m \u001b[0;32mas\u001b[0m \u001b[0mxr\u001b[0m\u001b[0;34m\u001b[0m\u001b[0;34m\u001b[0m\u001b[0m\n\u001b[1;32m     12\u001b[0m \u001b[0;32mimport\u001b[0m \u001b[0mmatplotlib\u001b[0m\u001b[0;34m.\u001b[0m\u001b[0mpyplot\u001b[0m \u001b[0;32mas\u001b[0m \u001b[0mplt\u001b[0m\u001b[0;34m\u001b[0m\u001b[0;34m\u001b[0m\u001b[0m\n",
            "\u001b[0;32m/usr/local/lib/python3.11/dist-packages/rioxarray/__init__.py\u001b[0m in \u001b[0;36m<module>\u001b[0;34m\u001b[0m\n\u001b[1;32m      3\u001b[0m \u001b[0;32mimport\u001b[0m \u001b[0mimportlib\u001b[0m\u001b[0;34m.\u001b[0m\u001b[0mmetadata\u001b[0m\u001b[0;34m\u001b[0m\u001b[0;34m\u001b[0m\u001b[0m\n\u001b[1;32m      4\u001b[0m \u001b[0;34m\u001b[0m\u001b[0m\n\u001b[0;32m----> 5\u001b[0;31m \u001b[0;32mimport\u001b[0m \u001b[0mrioxarray\u001b[0m\u001b[0;34m.\u001b[0m\u001b[0mraster_array\u001b[0m  \u001b[0;31m# noqa\u001b[0m\u001b[0;34m\u001b[0m\u001b[0;34m\u001b[0m\u001b[0m\n\u001b[0m\u001b[1;32m      6\u001b[0m \u001b[0;32mimport\u001b[0m \u001b[0mrioxarray\u001b[0m\u001b[0;34m.\u001b[0m\u001b[0mraster_dataset\u001b[0m  \u001b[0;31m# noqa\u001b[0m\u001b[0;34m\u001b[0m\u001b[0;34m\u001b[0m\u001b[0m\n\u001b[1;32m      7\u001b[0m \u001b[0;32mfrom\u001b[0m \u001b[0mrioxarray\u001b[0m\u001b[0;34m.\u001b[0m\u001b[0m_io\u001b[0m \u001b[0;32mimport\u001b[0m \u001b[0mopen_rasterio\u001b[0m  \u001b[0;31m# noqa\u001b[0m\u001b[0;34m\u001b[0m\u001b[0;34m\u001b[0m\u001b[0m\n",
            "\u001b[0;32m/usr/local/lib/python3.11/dist-packages/rioxarray/raster_array.py\u001b[0m in \u001b[0;36m<module>\u001b[0;34m\u001b[0m\n\u001b[1;32m     36\u001b[0m     \u001b[0mRioXarrayError\u001b[0m\u001b[0;34m,\u001b[0m\u001b[0;34m\u001b[0m\u001b[0;34m\u001b[0m\u001b[0m\n\u001b[1;32m     37\u001b[0m )\n\u001b[0;32m---> 38\u001b[0;31m \u001b[0;32mfrom\u001b[0m \u001b[0mrioxarray\u001b[0m\u001b[0;34m.\u001b[0m\u001b[0mraster_writer\u001b[0m \u001b[0;32mimport\u001b[0m \u001b[0mRasterioWriter\u001b[0m\u001b[0;34m,\u001b[0m \u001b[0m_ensure_nodata_dtype\u001b[0m\u001b[0;34m\u001b[0m\u001b[0;34m\u001b[0m\u001b[0m\n\u001b[0m\u001b[1;32m     39\u001b[0m from rioxarray.rioxarray import (\n\u001b[1;32m     40\u001b[0m     \u001b[0mXRasterBase\u001b[0m\u001b[0;34m,\u001b[0m\u001b[0;34m\u001b[0m\u001b[0;34m\u001b[0m\u001b[0m\n",
            "\u001b[0;32m/usr/local/lib/python3.11/dist-packages/rioxarray/raster_writer.py\u001b[0m in \u001b[0;36m<module>\u001b[0;34m\u001b[0m\n\u001b[1;32m     20\u001b[0m \u001b[0;34m\u001b[0m\u001b[0m\n\u001b[1;32m     21\u001b[0m \u001b[0;32mtry\u001b[0m\u001b[0;34m:\u001b[0m\u001b[0;34m\u001b[0m\u001b[0;34m\u001b[0m\u001b[0m\n\u001b[0;32m---> 22\u001b[0;31m     \u001b[0;32mimport\u001b[0m \u001b[0mdask\u001b[0m\u001b[0;34m.\u001b[0m\u001b[0marray\u001b[0m\u001b[0;34m\u001b[0m\u001b[0;34m\u001b[0m\u001b[0m\n\u001b[0m\u001b[1;32m     23\u001b[0m     \u001b[0;32mfrom\u001b[0m \u001b[0mdask\u001b[0m \u001b[0;32mimport\u001b[0m \u001b[0mis_dask_collection\u001b[0m\u001b[0;34m\u001b[0m\u001b[0;34m\u001b[0m\u001b[0m\n\u001b[1;32m     24\u001b[0m \u001b[0;32mexcept\u001b[0m \u001b[0mImportError\u001b[0m\u001b[0;34m:\u001b[0m\u001b[0;34m\u001b[0m\u001b[0;34m\u001b[0m\u001b[0m\n",
            "\u001b[0;32m/usr/lib/python3.11/importlib/_bootstrap.py\u001b[0m in \u001b[0;36m_find_and_load\u001b[0;34m(name, import_)\u001b[0m\n",
            "\u001b[0;32m/usr/lib/python3.11/importlib/_bootstrap.py\u001b[0m in \u001b[0;36m_find_and_load_unlocked\u001b[0;34m(name, import_)\u001b[0m\n",
            "\u001b[0;32m/usr/lib/python3.11/importlib/_bootstrap.py\u001b[0m in \u001b[0;36m_load_unlocked\u001b[0;34m(spec)\u001b[0m\n",
            "\u001b[0;32m/usr/lib/python3.11/importlib/_bootstrap.py\u001b[0m in \u001b[0;36mmodule_from_spec\u001b[0;34m(spec)\u001b[0m\n",
            "\u001b[0;32m/usr/local/lib/python3.11/dist-packages/rapids_dask_dependency/dask_loader.py\u001b[0m in \u001b[0;36mcreate_module\u001b[0;34m(self, spec)\u001b[0m\n\u001b[1;32m     34\u001b[0m             \u001b[0;31m# including the internal frames, which warnings ignores).\u001b[0m\u001b[0;34m\u001b[0m\u001b[0;34m\u001b[0m\u001b[0m\n\u001b[1;32m     35\u001b[0m             \u001b[0;32mwith\u001b[0m \u001b[0mpatch_warning_stacklevel\u001b[0m\u001b[0;34m(\u001b[0m\u001b[0;36m3\u001b[0m\u001b[0;34m)\u001b[0m\u001b[0;34m:\u001b[0m\u001b[0;34m\u001b[0m\u001b[0;34m\u001b[0m\u001b[0m\n\u001b[0;32m---> 36\u001b[0;31m                 \u001b[0;32mreturn\u001b[0m \u001b[0mimportlib\u001b[0m\u001b[0;34m.\u001b[0m\u001b[0mimport_module\u001b[0m\u001b[0;34m(\u001b[0m\u001b[0mspec\u001b[0m\u001b[0;34m.\u001b[0m\u001b[0mname\u001b[0m\u001b[0;34m)\u001b[0m\u001b[0;34m\u001b[0m\u001b[0;34m\u001b[0m\u001b[0m\n\u001b[0m\u001b[1;32m     37\u001b[0m \u001b[0;34m\u001b[0m\u001b[0m\n\u001b[1;32m     38\u001b[0m     \u001b[0;32mdef\u001b[0m \u001b[0mexec_module\u001b[0m\u001b[0;34m(\u001b[0m\u001b[0mself\u001b[0m\u001b[0;34m,\u001b[0m \u001b[0m_\u001b[0m\u001b[0;34m)\u001b[0m\u001b[0;34m:\u001b[0m\u001b[0;34m\u001b[0m\u001b[0;34m\u001b[0m\u001b[0m\n",
            "\u001b[0;32m/usr/lib/python3.11/importlib/__init__.py\u001b[0m in \u001b[0;36mimport_module\u001b[0;34m(name, package)\u001b[0m\n\u001b[1;32m    124\u001b[0m                 \u001b[0;32mbreak\u001b[0m\u001b[0;34m\u001b[0m\u001b[0;34m\u001b[0m\u001b[0m\n\u001b[1;32m    125\u001b[0m             \u001b[0mlevel\u001b[0m \u001b[0;34m+=\u001b[0m \u001b[0;36m1\u001b[0m\u001b[0;34m\u001b[0m\u001b[0;34m\u001b[0m\u001b[0m\n\u001b[0;32m--> 126\u001b[0;31m     \u001b[0;32mreturn\u001b[0m \u001b[0m_bootstrap\u001b[0m\u001b[0;34m.\u001b[0m\u001b[0m_gcd_import\u001b[0m\u001b[0;34m(\u001b[0m\u001b[0mname\u001b[0m\u001b[0;34m[\u001b[0m\u001b[0mlevel\u001b[0m\u001b[0;34m:\u001b[0m\u001b[0;34m]\u001b[0m\u001b[0;34m,\u001b[0m \u001b[0mpackage\u001b[0m\u001b[0;34m,\u001b[0m \u001b[0mlevel\u001b[0m\u001b[0;34m)\u001b[0m\u001b[0;34m\u001b[0m\u001b[0;34m\u001b[0m\u001b[0m\n\u001b[0m\u001b[1;32m    127\u001b[0m \u001b[0;34m\u001b[0m\u001b[0m\n\u001b[1;32m    128\u001b[0m \u001b[0;34m\u001b[0m\u001b[0m\n",
            "\u001b[0;32m/usr/local/lib/python3.11/dist-packages/dask/array/__init__.py\u001b[0m in \u001b[0;36m<module>\u001b[0;34m\u001b[0m\n\u001b[1;32m     54\u001b[0m     )\n\u001b[1;32m     55\u001b[0m \u001b[0;34m\u001b[0m\u001b[0m\n\u001b[0;32m---> 56\u001b[0;31m     \u001b[0;32mfrom\u001b[0m \u001b[0mdask\u001b[0m\u001b[0;34m.\u001b[0m\u001b[0marray\u001b[0m \u001b[0;32mimport\u001b[0m \u001b[0mbackends\u001b[0m\u001b[0;34m,\u001b[0m \u001b[0mfft\u001b[0m\u001b[0;34m,\u001b[0m \u001b[0mlib\u001b[0m\u001b[0;34m,\u001b[0m \u001b[0mlinalg\u001b[0m\u001b[0;34m,\u001b[0m \u001b[0mma\u001b[0m\u001b[0;34m,\u001b[0m \u001b[0moverlap\u001b[0m\u001b[0;34m,\u001b[0m \u001b[0mrandom\u001b[0m\u001b[0;34m\u001b[0m\u001b[0;34m\u001b[0m\u001b[0m\n\u001b[0m\u001b[1;32m     57\u001b[0m     \u001b[0;32mfrom\u001b[0m \u001b[0mdask\u001b[0m\u001b[0;34m.\u001b[0m\u001b[0marray\u001b[0m\u001b[0;34m.\u001b[0m\u001b[0m_shuffle\u001b[0m \u001b[0;32mimport\u001b[0m \u001b[0mshuffle\u001b[0m\u001b[0;34m\u001b[0m\u001b[0;34m\u001b[0m\u001b[0m\n\u001b[1;32m     58\u001b[0m     \u001b[0;32mfrom\u001b[0m \u001b[0mdask\u001b[0m\u001b[0;34m.\u001b[0m\u001b[0marray\u001b[0m\u001b[0;34m.\u001b[0m\u001b[0mblockwise\u001b[0m \u001b[0;32mimport\u001b[0m \u001b[0matop\u001b[0m\u001b[0;34m,\u001b[0m \u001b[0mblockwise\u001b[0m\u001b[0;34m\u001b[0m\u001b[0;34m\u001b[0m\u001b[0m\n",
            "\u001b[0;32m/usr/lib/python3.11/importlib/_bootstrap.py\u001b[0m in \u001b[0;36m_find_and_load\u001b[0;34m(name, import_)\u001b[0m\n",
            "\u001b[0;32m/usr/lib/python3.11/importlib/_bootstrap.py\u001b[0m in \u001b[0;36m_find_and_load_unlocked\u001b[0;34m(name, import_)\u001b[0m\n",
            "\u001b[0;32m/usr/lib/python3.11/importlib/_bootstrap.py\u001b[0m in \u001b[0;36m_load_unlocked\u001b[0;34m(spec)\u001b[0m\n",
            "\u001b[0;32m/usr/lib/python3.11/importlib/_bootstrap.py\u001b[0m in \u001b[0;36mmodule_from_spec\u001b[0;34m(spec)\u001b[0m\n",
            "\u001b[0;32m/usr/local/lib/python3.11/dist-packages/rapids_dask_dependency/dask_loader.py\u001b[0m in \u001b[0;36mcreate_module\u001b[0;34m(self, spec)\u001b[0m\n\u001b[1;32m     34\u001b[0m             \u001b[0;31m# including the internal frames, which warnings ignores).\u001b[0m\u001b[0;34m\u001b[0m\u001b[0;34m\u001b[0m\u001b[0m\n\u001b[1;32m     35\u001b[0m             \u001b[0;32mwith\u001b[0m \u001b[0mpatch_warning_stacklevel\u001b[0m\u001b[0;34m(\u001b[0m\u001b[0;36m3\u001b[0m\u001b[0;34m)\u001b[0m\u001b[0;34m:\u001b[0m\u001b[0;34m\u001b[0m\u001b[0;34m\u001b[0m\u001b[0m\n\u001b[0;32m---> 36\u001b[0;31m                 \u001b[0;32mreturn\u001b[0m \u001b[0mimportlib\u001b[0m\u001b[0;34m.\u001b[0m\u001b[0mimport_module\u001b[0m\u001b[0;34m(\u001b[0m\u001b[0mspec\u001b[0m\u001b[0;34m.\u001b[0m\u001b[0mname\u001b[0m\u001b[0;34m)\u001b[0m\u001b[0;34m\u001b[0m\u001b[0;34m\u001b[0m\u001b[0m\n\u001b[0m\u001b[1;32m     37\u001b[0m \u001b[0;34m\u001b[0m\u001b[0m\n\u001b[1;32m     38\u001b[0m     \u001b[0;32mdef\u001b[0m \u001b[0mexec_module\u001b[0m\u001b[0;34m(\u001b[0m\u001b[0mself\u001b[0m\u001b[0;34m,\u001b[0m \u001b[0m_\u001b[0m\u001b[0;34m)\u001b[0m\u001b[0;34m:\u001b[0m\u001b[0;34m\u001b[0m\u001b[0;34m\u001b[0m\u001b[0m\n",
            "\u001b[0;32m/usr/lib/python3.11/importlib/__init__.py\u001b[0m in \u001b[0;36mimport_module\u001b[0;34m(name, package)\u001b[0m\n\u001b[1;32m    124\u001b[0m                 \u001b[0;32mbreak\u001b[0m\u001b[0;34m\u001b[0m\u001b[0;34m\u001b[0m\u001b[0m\n\u001b[1;32m    125\u001b[0m             \u001b[0mlevel\u001b[0m \u001b[0;34m+=\u001b[0m \u001b[0;36m1\u001b[0m\u001b[0;34m\u001b[0m\u001b[0;34m\u001b[0m\u001b[0m\n\u001b[0;32m--> 126\u001b[0;31m     \u001b[0;32mreturn\u001b[0m \u001b[0m_bootstrap\u001b[0m\u001b[0;34m.\u001b[0m\u001b[0m_gcd_import\u001b[0m\u001b[0;34m(\u001b[0m\u001b[0mname\u001b[0m\u001b[0;34m[\u001b[0m\u001b[0mlevel\u001b[0m\u001b[0;34m:\u001b[0m\u001b[0;34m]\u001b[0m\u001b[0;34m,\u001b[0m \u001b[0mpackage\u001b[0m\u001b[0;34m,\u001b[0m \u001b[0mlevel\u001b[0m\u001b[0;34m)\u001b[0m\u001b[0;34m\u001b[0m\u001b[0;34m\u001b[0m\u001b[0m\n\u001b[0m\u001b[1;32m    127\u001b[0m \u001b[0;34m\u001b[0m\u001b[0m\n\u001b[1;32m    128\u001b[0m \u001b[0;34m\u001b[0m\u001b[0m\n",
            "\u001b[0;32m/usr/local/lib/python3.11/dist-packages/dask/array/backends.py\u001b[0m in \u001b[0;36m<module>\u001b[0;34m\u001b[0m\n\u001b[1;32m      6\u001b[0m \u001b[0;34m\u001b[0m\u001b[0m\n\u001b[1;32m      7\u001b[0m \u001b[0;32mfrom\u001b[0m \u001b[0mdask\u001b[0m\u001b[0;34m.\u001b[0m\u001b[0marray\u001b[0m \u001b[0;32mimport\u001b[0m \u001b[0mchunk\u001b[0m\u001b[0;34m\u001b[0m\u001b[0;34m\u001b[0m\u001b[0m\n\u001b[0;32m----> 8\u001b[0;31m \u001b[0;32mfrom\u001b[0m \u001b[0mdask\u001b[0m\u001b[0;34m.\u001b[0m\u001b[0marray\u001b[0m\u001b[0;34m.\u001b[0m\u001b[0mcore\u001b[0m \u001b[0;32mimport\u001b[0m \u001b[0mArray\u001b[0m\u001b[0;34m\u001b[0m\u001b[0;34m\u001b[0m\u001b[0m\n\u001b[0m\u001b[1;32m      9\u001b[0m from dask.array.dispatch import (\n\u001b[1;32m     10\u001b[0m     \u001b[0mconcatenate_lookup\u001b[0m\u001b[0;34m,\u001b[0m\u001b[0;34m\u001b[0m\u001b[0;34m\u001b[0m\u001b[0m\n",
            "\u001b[0;32m/usr/lib/python3.11/importlib/_bootstrap.py\u001b[0m in \u001b[0;36m_find_and_load\u001b[0;34m(name, import_)\u001b[0m\n",
            "\u001b[0;32m/usr/lib/python3.11/importlib/_bootstrap.py\u001b[0m in \u001b[0;36m_find_and_load_unlocked\u001b[0;34m(name, import_)\u001b[0m\n",
            "\u001b[0;32m/usr/lib/python3.11/importlib/_bootstrap.py\u001b[0m in \u001b[0;36m_load_unlocked\u001b[0;34m(spec)\u001b[0m\n",
            "\u001b[0;32m/usr/lib/python3.11/importlib/_bootstrap.py\u001b[0m in \u001b[0;36mmodule_from_spec\u001b[0;34m(spec)\u001b[0m\n",
            "\u001b[0;32m/usr/local/lib/python3.11/dist-packages/rapids_dask_dependency/dask_loader.py\u001b[0m in \u001b[0;36mcreate_module\u001b[0;34m(self, spec)\u001b[0m\n\u001b[1;32m     34\u001b[0m             \u001b[0;31m# including the internal frames, which warnings ignores).\u001b[0m\u001b[0;34m\u001b[0m\u001b[0;34m\u001b[0m\u001b[0m\n\u001b[1;32m     35\u001b[0m             \u001b[0;32mwith\u001b[0m \u001b[0mpatch_warning_stacklevel\u001b[0m\u001b[0;34m(\u001b[0m\u001b[0;36m3\u001b[0m\u001b[0;34m)\u001b[0m\u001b[0;34m:\u001b[0m\u001b[0;34m\u001b[0m\u001b[0;34m\u001b[0m\u001b[0m\n\u001b[0;32m---> 36\u001b[0;31m                 \u001b[0;32mreturn\u001b[0m \u001b[0mimportlib\u001b[0m\u001b[0;34m.\u001b[0m\u001b[0mimport_module\u001b[0m\u001b[0;34m(\u001b[0m\u001b[0mspec\u001b[0m\u001b[0;34m.\u001b[0m\u001b[0mname\u001b[0m\u001b[0;34m)\u001b[0m\u001b[0;34m\u001b[0m\u001b[0;34m\u001b[0m\u001b[0m\n\u001b[0m\u001b[1;32m     37\u001b[0m \u001b[0;34m\u001b[0m\u001b[0m\n\u001b[1;32m     38\u001b[0m     \u001b[0;32mdef\u001b[0m \u001b[0mexec_module\u001b[0m\u001b[0;34m(\u001b[0m\u001b[0mself\u001b[0m\u001b[0;34m,\u001b[0m \u001b[0m_\u001b[0m\u001b[0;34m)\u001b[0m\u001b[0;34m:\u001b[0m\u001b[0;34m\u001b[0m\u001b[0;34m\u001b[0m\u001b[0m\n",
            "\u001b[0;32m/usr/lib/python3.11/importlib/__init__.py\u001b[0m in \u001b[0;36mimport_module\u001b[0;34m(name, package)\u001b[0m\n\u001b[1;32m    124\u001b[0m                 \u001b[0;32mbreak\u001b[0m\u001b[0;34m\u001b[0m\u001b[0;34m\u001b[0m\u001b[0m\n\u001b[1;32m    125\u001b[0m             \u001b[0mlevel\u001b[0m \u001b[0;34m+=\u001b[0m \u001b[0;36m1\u001b[0m\u001b[0;34m\u001b[0m\u001b[0;34m\u001b[0m\u001b[0m\n\u001b[0;32m--> 126\u001b[0;31m     \u001b[0;32mreturn\u001b[0m \u001b[0m_bootstrap\u001b[0m\u001b[0;34m.\u001b[0m\u001b[0m_gcd_import\u001b[0m\u001b[0;34m(\u001b[0m\u001b[0mname\u001b[0m\u001b[0;34m[\u001b[0m\u001b[0mlevel\u001b[0m\u001b[0;34m:\u001b[0m\u001b[0;34m]\u001b[0m\u001b[0;34m,\u001b[0m \u001b[0mpackage\u001b[0m\u001b[0;34m,\u001b[0m \u001b[0mlevel\u001b[0m\u001b[0;34m)\u001b[0m\u001b[0;34m\u001b[0m\u001b[0;34m\u001b[0m\u001b[0m\n\u001b[0m\u001b[1;32m    127\u001b[0m \u001b[0;34m\u001b[0m\u001b[0m\n\u001b[1;32m    128\u001b[0m \u001b[0;34m\u001b[0m\u001b[0m\n",
            "\u001b[0;32m/usr/local/lib/python3.11/dist-packages/dask/array/core.py\u001b[0m in \u001b[0;36m<module>\u001b[0;34m\u001b[0m\n\u001b[1;32m     32\u001b[0m \u001b[0;32mfrom\u001b[0m \u001b[0mdask\u001b[0m\u001b[0;34m.\u001b[0m\u001b[0marray\u001b[0m \u001b[0;32mimport\u001b[0m \u001b[0mchunk\u001b[0m\u001b[0;34m\u001b[0m\u001b[0;34m\u001b[0m\u001b[0m\n\u001b[1;32m     33\u001b[0m \u001b[0;32mfrom\u001b[0m \u001b[0mdask\u001b[0m\u001b[0;34m.\u001b[0m\u001b[0marray\u001b[0m\u001b[0;34m.\u001b[0m\u001b[0mchunk\u001b[0m \u001b[0;32mimport\u001b[0m \u001b[0mgetitem\u001b[0m\u001b[0;34m\u001b[0m\u001b[0;34m\u001b[0m\u001b[0m\n\u001b[0;32m---> 34\u001b[0;31m \u001b[0;32mfrom\u001b[0m \u001b[0mdask\u001b[0m\u001b[0;34m.\u001b[0m\u001b[0marray\u001b[0m\u001b[0;34m.\u001b[0m\u001b[0mchunk_types\u001b[0m \u001b[0;32mimport\u001b[0m \u001b[0mis_valid_array_chunk\u001b[0m\u001b[0;34m,\u001b[0m \u001b[0mis_valid_chunk_type\u001b[0m\u001b[0;34m\u001b[0m\u001b[0;34m\u001b[0m\u001b[0m\n\u001b[0m\u001b[1;32m     35\u001b[0m \u001b[0;34m\u001b[0m\u001b[0m\n\u001b[1;32m     36\u001b[0m \u001b[0;31m# Keep einsum_lookup and tensordot_lookup here for backwards compatibility\u001b[0m\u001b[0;34m\u001b[0m\u001b[0;34m\u001b[0m\u001b[0m\n",
            "\u001b[0;32m/usr/lib/python3.11/importlib/_bootstrap.py\u001b[0m in \u001b[0;36m_find_and_load\u001b[0;34m(name, import_)\u001b[0m\n",
            "\u001b[0;32m/usr/lib/python3.11/importlib/_bootstrap.py\u001b[0m in \u001b[0;36m_find_and_load_unlocked\u001b[0;34m(name, import_)\u001b[0m\n",
            "\u001b[0;32m/usr/lib/python3.11/importlib/_bootstrap.py\u001b[0m in \u001b[0;36m_load_unlocked\u001b[0;34m(spec)\u001b[0m\n",
            "\u001b[0;32m/usr/lib/python3.11/importlib/_bootstrap.py\u001b[0m in \u001b[0;36mmodule_from_spec\u001b[0;34m(spec)\u001b[0m\n",
            "\u001b[0;32m/usr/local/lib/python3.11/dist-packages/rapids_dask_dependency/dask_loader.py\u001b[0m in \u001b[0;36mcreate_module\u001b[0;34m(self, spec)\u001b[0m\n\u001b[1;32m     34\u001b[0m             \u001b[0;31m# including the internal frames, which warnings ignores).\u001b[0m\u001b[0;34m\u001b[0m\u001b[0;34m\u001b[0m\u001b[0m\n\u001b[1;32m     35\u001b[0m             \u001b[0;32mwith\u001b[0m \u001b[0mpatch_warning_stacklevel\u001b[0m\u001b[0;34m(\u001b[0m\u001b[0;36m3\u001b[0m\u001b[0;34m)\u001b[0m\u001b[0;34m:\u001b[0m\u001b[0;34m\u001b[0m\u001b[0;34m\u001b[0m\u001b[0m\n\u001b[0;32m---> 36\u001b[0;31m                 \u001b[0;32mreturn\u001b[0m \u001b[0mimportlib\u001b[0m\u001b[0;34m.\u001b[0m\u001b[0mimport_module\u001b[0m\u001b[0;34m(\u001b[0m\u001b[0mspec\u001b[0m\u001b[0;34m.\u001b[0m\u001b[0mname\u001b[0m\u001b[0;34m)\u001b[0m\u001b[0;34m\u001b[0m\u001b[0;34m\u001b[0m\u001b[0m\n\u001b[0m\u001b[1;32m     37\u001b[0m \u001b[0;34m\u001b[0m\u001b[0m\n\u001b[1;32m     38\u001b[0m     \u001b[0;32mdef\u001b[0m \u001b[0mexec_module\u001b[0m\u001b[0;34m(\u001b[0m\u001b[0mself\u001b[0m\u001b[0;34m,\u001b[0m \u001b[0m_\u001b[0m\u001b[0;34m)\u001b[0m\u001b[0;34m:\u001b[0m\u001b[0;34m\u001b[0m\u001b[0;34m\u001b[0m\u001b[0m\n",
            "\u001b[0;32m/usr/lib/python3.11/importlib/__init__.py\u001b[0m in \u001b[0;36mimport_module\u001b[0;34m(name, package)\u001b[0m\n\u001b[1;32m    124\u001b[0m                 \u001b[0;32mbreak\u001b[0m\u001b[0;34m\u001b[0m\u001b[0;34m\u001b[0m\u001b[0m\n\u001b[1;32m    125\u001b[0m             \u001b[0mlevel\u001b[0m \u001b[0;34m+=\u001b[0m \u001b[0;36m1\u001b[0m\u001b[0;34m\u001b[0m\u001b[0;34m\u001b[0m\u001b[0m\n\u001b[0;32m--> 126\u001b[0;31m     \u001b[0;32mreturn\u001b[0m \u001b[0m_bootstrap\u001b[0m\u001b[0;34m.\u001b[0m\u001b[0m_gcd_import\u001b[0m\u001b[0;34m(\u001b[0m\u001b[0mname\u001b[0m\u001b[0;34m[\u001b[0m\u001b[0mlevel\u001b[0m\u001b[0;34m:\u001b[0m\u001b[0;34m]\u001b[0m\u001b[0;34m,\u001b[0m \u001b[0mpackage\u001b[0m\u001b[0;34m,\u001b[0m \u001b[0mlevel\u001b[0m\u001b[0;34m)\u001b[0m\u001b[0;34m\u001b[0m\u001b[0;34m\u001b[0m\u001b[0m\n\u001b[0m\u001b[1;32m    127\u001b[0m \u001b[0;34m\u001b[0m\u001b[0m\n\u001b[1;32m    128\u001b[0m \u001b[0;34m\u001b[0m\u001b[0m\n",
            "\u001b[0;32m/usr/local/lib/python3.11/dist-packages/dask/array/chunk_types.py\u001b[0m in \u001b[0;36m<module>\u001b[0;34m\u001b[0m\n\u001b[1;32m    108\u001b[0m \u001b[0;34m\u001b[0m\u001b[0m\n\u001b[1;32m    109\u001b[0m \u001b[0;32mtry\u001b[0m\u001b[0;34m:\u001b[0m\u001b[0;34m\u001b[0m\u001b[0;34m\u001b[0m\u001b[0m\n\u001b[0;32m--> 110\u001b[0;31m     \u001b[0;32mimport\u001b[0m \u001b[0mcupy\u001b[0m\u001b[0;34m\u001b[0m\u001b[0;34m\u001b[0m\u001b[0m\n\u001b[0m\u001b[1;32m    111\u001b[0m \u001b[0;34m\u001b[0m\u001b[0m\n\u001b[1;32m    112\u001b[0m     \u001b[0mregister_chunk_type\u001b[0m\u001b[0;34m(\u001b[0m\u001b[0mcupy\u001b[0m\u001b[0;34m.\u001b[0m\u001b[0mndarray\u001b[0m\u001b[0;34m)\u001b[0m\u001b[0;34m\u001b[0m\u001b[0;34m\u001b[0m\u001b[0m\n",
            "\u001b[0;32m/usr/local/lib/python3.11/dist-packages/cupy/__init__.py\u001b[0m in \u001b[0;36m<module>\u001b[0;34m\u001b[0m\n\u001b[1;32m     44\u001b[0m \u001b[0;31m# `cupy.sparse` is deprecated in v8\u001b[0m\u001b[0;34m\u001b[0m\u001b[0;34m\u001b[0m\u001b[0m\n\u001b[1;32m     45\u001b[0m \u001b[0;32mfrom\u001b[0m \u001b[0mcupy\u001b[0m \u001b[0;32mimport\u001b[0m \u001b[0msparse\u001b[0m  \u001b[0;31m# NOQA\u001b[0m\u001b[0;34m\u001b[0m\u001b[0;34m\u001b[0m\u001b[0m\n\u001b[0;32m---> 46\u001b[0;31m \u001b[0;32mfrom\u001b[0m \u001b[0mcupy\u001b[0m \u001b[0;32mimport\u001b[0m \u001b[0mtesting\u001b[0m  \u001b[0;31m# NOQA  # NOQA\u001b[0m\u001b[0;34m\u001b[0m\u001b[0;34m\u001b[0m\u001b[0m\n\u001b[0m\u001b[1;32m     47\u001b[0m \u001b[0;34m\u001b[0m\u001b[0m\n\u001b[1;32m     48\u001b[0m \u001b[0;34m\u001b[0m\u001b[0m\n",
            "\u001b[0;32m/usr/local/lib/python3.11/dist-packages/cupy/testing/__init__.py\u001b[0m in \u001b[0;36m<module>\u001b[0;34m\u001b[0m\n\u001b[0;32m----> 1\u001b[0;31m \u001b[0;32mfrom\u001b[0m \u001b[0mcupy\u001b[0m\u001b[0;34m.\u001b[0m\u001b[0mtesting\u001b[0m\u001b[0;34m.\u001b[0m\u001b[0m_array\u001b[0m \u001b[0;32mimport\u001b[0m \u001b[0massert_allclose\u001b[0m  \u001b[0;31m# NOQA\u001b[0m\u001b[0;34m\u001b[0m\u001b[0;34m\u001b[0m\u001b[0m\n\u001b[0m\u001b[1;32m      2\u001b[0m \u001b[0;32mfrom\u001b[0m \u001b[0mcupy\u001b[0m\u001b[0;34m.\u001b[0m\u001b[0mtesting\u001b[0m\u001b[0;34m.\u001b[0m\u001b[0m_array\u001b[0m \u001b[0;32mimport\u001b[0m \u001b[0massert_array_almost_equal\u001b[0m  \u001b[0;31m# NOQA\u001b[0m\u001b[0;34m\u001b[0m\u001b[0;34m\u001b[0m\u001b[0m\n\u001b[1;32m      3\u001b[0m \u001b[0;32mfrom\u001b[0m \u001b[0mcupy\u001b[0m\u001b[0;34m.\u001b[0m\u001b[0mtesting\u001b[0m\u001b[0;34m.\u001b[0m\u001b[0m_array\u001b[0m \u001b[0;32mimport\u001b[0m \u001b[0massert_array_almost_equal_nulp\u001b[0m  \u001b[0;31m# NOQA\u001b[0m\u001b[0;34m\u001b[0m\u001b[0;34m\u001b[0m\u001b[0m\n\u001b[1;32m      4\u001b[0m \u001b[0;32mfrom\u001b[0m \u001b[0mcupy\u001b[0m\u001b[0;34m.\u001b[0m\u001b[0mtesting\u001b[0m\u001b[0;34m.\u001b[0m\u001b[0m_array\u001b[0m \u001b[0;32mimport\u001b[0m \u001b[0massert_array_equal\u001b[0m  \u001b[0;31m# NOQA\u001b[0m\u001b[0;34m\u001b[0m\u001b[0;34m\u001b[0m\u001b[0m\n\u001b[1;32m      5\u001b[0m \u001b[0;32mfrom\u001b[0m \u001b[0mcupy\u001b[0m\u001b[0;34m.\u001b[0m\u001b[0mtesting\u001b[0m\u001b[0;34m.\u001b[0m\u001b[0m_array\u001b[0m \u001b[0;32mimport\u001b[0m \u001b[0massert_array_less\u001b[0m  \u001b[0;31m# NOQA\u001b[0m\u001b[0;34m\u001b[0m\u001b[0;34m\u001b[0m\u001b[0m\n",
            "\u001b[0;32m/usr/local/lib/python3.11/dist-packages/cupy/testing/_array.py\u001b[0m in \u001b[0;36m<module>\u001b[0;34m\u001b[0m\n\u001b[0;32m----> 1\u001b[0;31m \u001b[0;32mimport\u001b[0m \u001b[0mnumpy\u001b[0m\u001b[0;34m.\u001b[0m\u001b[0mtesting\u001b[0m\u001b[0;34m\u001b[0m\u001b[0;34m\u001b[0m\u001b[0m\n\u001b[0m\u001b[1;32m      2\u001b[0m \u001b[0;34m\u001b[0m\u001b[0m\n\u001b[1;32m      3\u001b[0m \u001b[0;32mimport\u001b[0m \u001b[0mcupy\u001b[0m\u001b[0;34m\u001b[0m\u001b[0;34m\u001b[0m\u001b[0m\n\u001b[1;32m      4\u001b[0m \u001b[0;34m\u001b[0m\u001b[0m\n\u001b[1;32m      5\u001b[0m \u001b[0;34m\u001b[0m\u001b[0m\n",
            "\u001b[0;32m/usr/local/lib/python3.11/dist-packages/numpy/testing/__init__.py\u001b[0m in \u001b[0;36m<module>\u001b[0;34m\u001b[0m\n\u001b[1;32m      9\u001b[0m \u001b[0;34m\u001b[0m\u001b[0m\n\u001b[1;32m     10\u001b[0m \u001b[0;32mfrom\u001b[0m \u001b[0;34m.\u001b[0m \u001b[0;32mimport\u001b[0m \u001b[0m_private\u001b[0m\u001b[0;34m\u001b[0m\u001b[0;34m\u001b[0m\u001b[0m\n\u001b[0;32m---> 11\u001b[0;31m \u001b[0;32mfrom\u001b[0m \u001b[0;34m.\u001b[0m\u001b[0m_private\u001b[0m\u001b[0;34m.\u001b[0m\u001b[0mutils\u001b[0m \u001b[0;32mimport\u001b[0m \u001b[0;34m*\u001b[0m\u001b[0;34m\u001b[0m\u001b[0;34m\u001b[0m\u001b[0m\n\u001b[0m\u001b[1;32m     12\u001b[0m \u001b[0;32mfrom\u001b[0m \u001b[0;34m.\u001b[0m\u001b[0m_private\u001b[0m\u001b[0;34m.\u001b[0m\u001b[0mutils\u001b[0m \u001b[0;32mimport\u001b[0m \u001b[0;34m(\u001b[0m\u001b[0m_assert_valid_refcount\u001b[0m\u001b[0;34m,\u001b[0m \u001b[0m_gen_alignment_data\u001b[0m\u001b[0;34m)\u001b[0m\u001b[0;34m\u001b[0m\u001b[0;34m\u001b[0m\u001b[0m\n\u001b[1;32m     13\u001b[0m \u001b[0;32mfrom\u001b[0m \u001b[0;34m.\u001b[0m\u001b[0m_private\u001b[0m \u001b[0;32mimport\u001b[0m \u001b[0mextbuild\u001b[0m\u001b[0;34m\u001b[0m\u001b[0;34m\u001b[0m\u001b[0m\n",
            "\u001b[0;32m/usr/local/lib/python3.11/dist-packages/numpy/testing/_private/utils.py\u001b[0m in \u001b[0;36m<module>\u001b[0;34m\u001b[0m\n\u001b[1;32m     55\u001b[0m \u001b[0mIS_PYSTON\u001b[0m \u001b[0;34m=\u001b[0m \u001b[0mhasattr\u001b[0m\u001b[0;34m(\u001b[0m\u001b[0msys\u001b[0m\u001b[0;34m,\u001b[0m \u001b[0;34m\"pyston_version_info\"\u001b[0m\u001b[0;34m)\u001b[0m\u001b[0;34m\u001b[0m\u001b[0;34m\u001b[0m\u001b[0m\n\u001b[1;32m     56\u001b[0m \u001b[0mHAS_REFCOUNT\u001b[0m \u001b[0;34m=\u001b[0m \u001b[0mgetattr\u001b[0m\u001b[0;34m(\u001b[0m\u001b[0msys\u001b[0m\u001b[0;34m,\u001b[0m \u001b[0;34m'getrefcount'\u001b[0m\u001b[0;34m,\u001b[0m \u001b[0;32mNone\u001b[0m\u001b[0;34m)\u001b[0m \u001b[0;32mis\u001b[0m \u001b[0;32mnot\u001b[0m \u001b[0;32mNone\u001b[0m \u001b[0;32mand\u001b[0m \u001b[0;32mnot\u001b[0m \u001b[0mIS_PYSTON\u001b[0m\u001b[0;34m\u001b[0m\u001b[0;34m\u001b[0m\u001b[0m\n\u001b[0;32m---> 57\u001b[0;31m \u001b[0mHAS_LAPACK64\u001b[0m \u001b[0;34m=\u001b[0m \u001b[0mnumpy\u001b[0m\u001b[0;34m.\u001b[0m\u001b[0mlinalg\u001b[0m\u001b[0;34m.\u001b[0m\u001b[0m_umath_linalg\u001b[0m\u001b[0;34m.\u001b[0m\u001b[0m_ilp64\u001b[0m\u001b[0;34m\u001b[0m\u001b[0;34m\u001b[0m\u001b[0m\n\u001b[0m\u001b[1;32m     58\u001b[0m \u001b[0;34m\u001b[0m\u001b[0m\n\u001b[1;32m     59\u001b[0m \u001b[0m_OLD_PROMOTION\u001b[0m \u001b[0;34m=\u001b[0m \u001b[0;32mlambda\u001b[0m\u001b[0;34m:\u001b[0m \u001b[0mnp\u001b[0m\u001b[0;34m.\u001b[0m\u001b[0m_get_promotion_state\u001b[0m\u001b[0;34m(\u001b[0m\u001b[0;34m)\u001b[0m \u001b[0;34m==\u001b[0m \u001b[0;34m'legacy'\u001b[0m\u001b[0;34m\u001b[0m\u001b[0;34m\u001b[0m\u001b[0m\n",
            "\u001b[0;31mAttributeError\u001b[0m: module 'numpy.linalg._umath_linalg' has no attribute '_ilp64'"
          ]
        }
      ],
      "source": [
        "import gzip\n",
        "import descartes\n",
        "import pickle\n",
        "import numpy as np\n",
        "from shapely.geometry import mapping\n",
        "import geopandas as gpd\n",
        "import os\n",
        "import glob\n",
        "import rasterio\n",
        "import rioxarray\n",
        "import xarray as xr\n",
        "import matplotlib.pyplot as plt\n",
        "from datetime import datetime, timedelta\n",
        "import datetime\n",
        "import calendar\n",
        "import pandas as pd\n",
        "from scipy import signal\n",
        "import pickle\n",
        "import h5py\n",
        "def JulianDate_to_MMDDYYY(y,jd):\n",
        "    month = 1\n",
        "    day = 0\n",
        "    while jd - calendar.monthrange(y,month)[1] > 0 and month <= 12:\n",
        "        jd = jd - calendar.monthrange(y,month)[1]\n",
        "        month = month + 1\n",
        "    return jd, month\n",
        "\n",
        "def getLine(data, line_no):\n",
        "    n = 0\n",
        "    lastPos = -1\n",
        "    for i in range(0, len(data) - 1):\n",
        "        if data[i] == \"\\n\":\n",
        "            n = n + 1\n",
        "            if n == line_no:\n",
        "                return data[lastPos + 1:i]\n",
        "            else:\n",
        "                lastPos = i;\n",
        "\n",
        "    if(n == line_no - 1):\n",
        "        return data[lastPos + 1:]\n",
        "    return \"\""
      ]
    },
    {
      "cell_type": "markdown",
      "metadata": {
        "id": "nomhtcMSkqP0"
      },
      "source": [
        "Define the project folder where PERSIANN-CCS data is saved"
      ]
    },
    {
      "cell_type": "code",
      "execution_count": null,
      "metadata": {
        "id": "qdxdGDJCkqP0"
      },
      "outputs": [],
      "source": [
        "folder = os.getcwd()\n",
        "folder"
      ]
    },
    {
      "cell_type": "code",
      "execution_count": null,
      "metadata": {
        "id": "uC9C2f7kkqP0"
      },
      "outputs": [],
      "source": [
        "folder_files= folder+'/notebooks/data/PERSIANN-CCS/Hourly/Global/2023/'\n",
        "folder_files"
      ]
    },
    {
      "cell_type": "markdown",
      "metadata": {
        "id": "8CFN7icekqP1"
      },
      "source": [
        "Define the name of a file for reading"
      ]
    },
    {
      "cell_type": "code",
      "execution_count": null,
      "metadata": {
        "id": "hyQEgVCgkqP1"
      },
      "outputs": [],
      "source": [
        "item=folder_files+'rgccs1h2301500.bin.gz'\n",
        "item"
      ]
    },
    {
      "cell_type": "markdown",
      "source": [
        "'rgccs1h2301500.bin.gz' is a binary zipped file whose name coding indicates:\n",
        "- 1h: hourly data\n",
        "- 23: year 2023\n",
        "- 015: day 15 of the year\n",
        "- 00: data corresponding yo 00 hours (24-hour format)"
      ],
      "metadata": {
        "id": "ZY0gxuxfQW0x"
      }
    },
    {
      "cell_type": "markdown",
      "metadata": {
        "id": "dJ1ibFzGkqP1"
      },
      "source": [
        "Reading the file"
      ]
    },
    {
      "cell_type": "code",
      "execution_count": null,
      "metadata": {
        "id": "LBO0c9MpkqP1"
      },
      "outputs": [],
      "source": [
        "f = gzip.GzipFile(item)\n",
        "file_content = f.read()\n",
        "data = np.frombuffer(file_content, dtype=np.dtype('>h')).astype(float)\n",
        "data = data.reshape((3000,9000))\n",
        "data_1 = data[:,4500:]\n",
        "data_2 = data[:,:4500]\n",
        "data = np.hstack((data_1,data_2))\n",
        "data= data/100\n",
        "data[data < 0] = np.nan\n",
        "data = np.flipud(data)"
      ]
    },
    {
      "cell_type": "code",
      "execution_count": null,
      "metadata": {
        "id": "uTJmxUaSkqP1"
      },
      "outputs": [],
      "source": [
        "data"
      ]
    },
    {
      "cell_type": "markdown",
      "metadata": {
        "id": "nvAMIifCkqP1"
      },
      "source": [
        "Georeferencing the data matrix"
      ]
    },
    {
      "cell_type": "code",
      "execution_count": null,
      "metadata": {
        "id": "KGgvKRXHkqP1"
      },
      "outputs": [],
      "source": [
        "lon=np.arange(-180,180,0.04)\n",
        "lat=np.arange(60,-60,-0.04)\n",
        "data = xr.DataArray(data=data, dims=[\"lat\", \"lon\"], coords=[lat,lon])\n",
        "data.rio.set_spatial_dims(x_dim=\"lon\", y_dim=\"lat\", inplace=True)\n",
        "data"
      ]
    },
    {
      "cell_type": "markdown",
      "metadata": {
        "id": "lGH-uLMqkqP1"
      },
      "source": [
        "Plot the georeferenced global precipitation file"
      ]
    },
    {
      "cell_type": "code",
      "execution_count": null,
      "metadata": {
        "scrolled": true,
        "id": "GNGJa9RokqP1"
      },
      "outputs": [],
      "source": [
        "# Load the world map correctly\n",
        "world = gpd.read_file(gpd.datasets.get_path('naturalearth_lowres'))\n",
        "# Create figure and axis\n",
        "fig, ax = plt.subplots(figsize=(10, 10))\n",
        "# Plot world boundaries\n",
        "world.boundary.plot(ax=ax, color='white', linewidth=0.5)\n",
        "# Plot the data\n",
        "max_val = data.max()\n",
        "im = ax.imshow(data, cmap='cividis', vmin=0.1, vmax=int(max_val), extent=[-180, 180, -90, 90])\n",
        "# Set aspect ratio\n",
        "ax.set_aspect('equal')\n",
        "# Add title and labels\n",
        "plt.title(\"Global precipitation PERSIANN-CCS\")\n",
        "cbar = plt.colorbar(im, ax=ax, orientation='horizontal')\n",
        "cbar.set_label('Precipitation (mm)')\n",
        "plt.xlabel(\"Longitude\")\n",
        "plt.ylabel(\"Latitude\")\n",
        "# Show the plot\n",
        "plt.show()"
      ]
    },
    {
      "cell_type": "markdown",
      "metadata": {
        "id": "G3O8CQvTkqP2"
      },
      "source": [
        "Extract basic statistics from the data:"
      ]
    },
    {
      "cell_type": "code",
      "execution_count": null,
      "metadata": {
        "id": "45JrJhHokqP2"
      },
      "outputs": [],
      "source": [
        "print('Maximum precipitation = ',data.max().values,'mm')\n",
        "print('Average precipitation = ',data.mean().values,'mm')\n",
        "print('Minimum precipitation = ',data.min().values,'mm')"
      ]
    },
    {
      "cell_type": "markdown",
      "metadata": {
        "id": "gleFgZsvkqP2"
      },
      "source": [
        "Load the shapefile of a hydrological system:\n",
        "- For example, a mountain catchment in Ecuador, South America"
      ]
    },
    {
      "cell_type": "code",
      "execution_count": null,
      "metadata": {
        "id": "avxy9MpSkqP2"
      },
      "outputs": [],
      "source": [
        "data.rio.write_crs(\"epsg:4326\", inplace=True)\n",
        "catchment_shp_1 = gpd.read_file(folder+'/notebooks/shapefiles/Catchment_SA.shp')"
      ]
    },
    {
      "cell_type": "markdown",
      "metadata": {
        "id": "15uDSRW4kqP2"
      },
      "source": [
        "Display the catchment"
      ]
    },
    {
      "cell_type": "code",
      "execution_count": null,
      "metadata": {
        "id": "b-71aK0GkqP2"
      },
      "outputs": [],
      "source": [
        "catchment_shp_1.plot()"
      ]
    },
    {
      "cell_type": "markdown",
      "source": [],
      "metadata": {
        "id": "fdIB3Jc4S2IH"
      }
    },
    {
      "cell_type": "code",
      "source": [
        "import folium\n",
        "# Convert to WGS 84 (if needed)\n",
        "if catchment_shp_1.crs != \"EPSG:4326\":\n",
        "    catchment_shp_1 = catchment_shp_1.to_crs(epsg=4326)\n",
        "centroid = catchment_shp_1.geometry.centroid.iloc[0]\n",
        "map_center = [centroid.y, centroid.x]\n",
        "# Create a folium map centered on the catchment area\n",
        "m = folium.Map(location=map_center, zoom_start=10)\n",
        "# Add the catchment boundaries to the map\n",
        "folium.GeoJson(catchment_shp_1, name=\"Catchment\").add_to(m)\n",
        "# Display the map\n",
        "m"
      ],
      "metadata": {
        "id": "OPbpgSHzS2tG"
      },
      "execution_count": null,
      "outputs": []
    },
    {
      "cell_type": "markdown",
      "source": [
        "Area of the catchment (polygon)"
      ],
      "metadata": {
        "id": "04tORv0JPQzs"
      }
    },
    {
      "cell_type": "code",
      "source": [
        "catchment_shp_1 = catchment_shp_1.to_crs(epsg=32717)\n",
        "catchment_shp_1[\"Area_m2\"] = catchment_shp_1.geometry.area\n",
        "catchment_shp_1[\"Area_km2\"] = catchment_shp_1[\"Area_m2\"] / 1e6\n",
        "catchment_shp_1[\"Area_km2\"]"
      ],
      "metadata": {
        "id": "PfokpHnsO-h5"
      },
      "execution_count": null,
      "outputs": []
    },
    {
      "cell_type": "markdown",
      "metadata": {
        "id": "xXAoCLffkqP2"
      },
      "source": [
        "Clip the global precipitation data to the catchment"
      ]
    },
    {
      "cell_type": "code",
      "execution_count": null,
      "metadata": {
        "id": "qZUb37o-kqP2"
      },
      "outputs": [],
      "source": [
        "data_catchment_1 = data.rio.clip(catchment_shp_1.geometry.apply(mapping),catchment_shp_1.crs,all_touched=True)"
      ]
    },
    {
      "cell_type": "markdown",
      "metadata": {
        "id": "09iuTAMNkqP2"
      },
      "source": [
        "Mostrar la precipitación de la cuenca del río Tomebamba"
      ]
    },
    {
      "cell_type": "code",
      "execution_count": null,
      "metadata": {
        "id": "QajlQCtkkqP2"
      },
      "outputs": [],
      "source": [
        "fig = plt.subplots(figsize=(8,8))\n",
        "data_catchment_1.plot(cmap='Blues')\n",
        "plt.title(\"PERSIANN-CCS precipitation\")\n",
        "plt.xlabel(\"Longitude\")\n",
        "plt.ylabel(\"Latitude\")\n",
        "plt.show()"
      ]
    },
    {
      "cell_type": "markdown",
      "metadata": {
        "id": "Y13ttG6FkqP2"
      },
      "source": [
        "Basic precipitation statistics for the catchment"
      ]
    },
    {
      "cell_type": "code",
      "execution_count": null,
      "metadata": {
        "id": "nrKoCBafkqP2"
      },
      "outputs": [],
      "source": [
        "print('Maximum precipitation = ',data_catchment_1.max().values,'mm')\n",
        "print('Average precipitation= ',data_catchment_1.mean().values,'mm')\n",
        "print('Minimum precipitation = ',data_catchment_1.min().values,'mm')"
      ]
    },
    {
      "cell_type": "markdown",
      "metadata": {
        "id": "6PV5ybldkqP3"
      },
      "source": [
        "Now, for another catchment\n",
        "- Coastal catchment in Ecuador"
      ]
    },
    {
      "cell_type": "code",
      "execution_count": null,
      "metadata": {
        "id": "YsiYlPMskqP3"
      },
      "outputs": [],
      "source": [
        "catchment_shp_2 = gpd.read_file(folder+'/notebooks/shapefiles/Coastal_catchment.geojson')\n",
        "catchment_shp_2.plot()"
      ]
    },
    {
      "cell_type": "markdown",
      "source": [
        "Let's take a look at the catchment in South America"
      ],
      "metadata": {
        "id": "a1p5_fv5Stmd"
      }
    },
    {
      "cell_type": "code",
      "source": [
        "# Convert to WGS 84 (if needed)\n",
        "if catchment_shp_2.crs != \"EPSG:4326\":\n",
        "    catchment_shp_2 = catchment_shp_2.to_crs(epsg=4326)\n",
        "centroid = catchment_shp_2.geometry.centroid.iloc[0]\n",
        "map_center = [centroid.y, centroid.x]\n",
        "# Create a folium map centered on the catchment area\n",
        "m = folium.Map(location=map_center, zoom_start=10)\n",
        "# Add the catchment boundaries to the map\n",
        "folium.GeoJson(catchment_shp_2, name=\"Catchment\").add_to(m)\n",
        "# Display the map\n",
        "m"
      ],
      "metadata": {
        "id": "YI7uOwhBR8ME"
      },
      "execution_count": null,
      "outputs": []
    },
    {
      "cell_type": "markdown",
      "source": [
        "Area of the catchment (polygon)"
      ],
      "metadata": {
        "id": "kAPhOmEhPel9"
      }
    },
    {
      "cell_type": "code",
      "source": [
        "# Convert to the correct UTM Zone (update based on location), reprojection for accurate calculations\n",
        "catchment_shp_2 = catchment_shp_2.to_crs(epsg=32717)  # UTM Zone 17S (Western Ecuador)\n",
        "catchment_shp_2[\"Area_m2\"] = catchment_shp_2.geometry.area\n",
        "catchment_shp_2[\"Area_km2\"] = catchment_shp_2[\"Area_m2\"] / 1e6\n",
        "catchment_shp_2[\"Area_km2\"]"
      ],
      "metadata": {
        "id": "WR7j7W1zPfM8"
      },
      "execution_count": null,
      "outputs": []
    },
    {
      "cell_type": "markdown",
      "metadata": {
        "id": "sy1TUyx2kqP3"
      },
      "source": [
        "Clip the global precipitation data to the coastal catchment"
      ]
    },
    {
      "cell_type": "code",
      "execution_count": null,
      "metadata": {
        "scrolled": true,
        "id": "-7gud4xOkqP3"
      },
      "outputs": [],
      "source": [
        "data_catchment_2 = data.rio.clip(catchment_shp_2.geometry.apply(mapping),catchment_shp_2.crs,all_touched=True)"
      ]
    },
    {
      "cell_type": "markdown",
      "metadata": {
        "id": "r1bTv-PFkqP3"
      },
      "source": [
        "Mostrar la precipitación en la cuenca"
      ]
    },
    {
      "cell_type": "code",
      "execution_count": null,
      "metadata": {
        "id": "A_9cwWVHkqP3"
      },
      "outputs": [],
      "source": [
        "fig = plt.subplots(figsize=(8,8))\n",
        "data_catchment_2.plot(cmap='Blues')\n",
        "plt.title(\"PERSIANN-CCS precipitation\")\n",
        "plt.xlabel(\"Longitude\")\n",
        "plt.ylabel(\"Latitude\")\n",
        "plt.show()"
      ]
    },
    {
      "cell_type": "markdown",
      "metadata": {
        "id": "Ldo9o6h0kqP3"
      },
      "source": [
        "Basic precipitation statistics for the coastal catchment"
      ]
    },
    {
      "cell_type": "code",
      "execution_count": null,
      "metadata": {
        "id": "FZyYp9_BkqP3"
      },
      "outputs": [],
      "source": [
        "print('Maximum precipitation = ',data_catchment_2.max().values,'mm')\n",
        "print('Average precipitation= ',data_catchment_2.mean().values,'mm')\n",
        "print('Minimum precipitation = ',data_catchment_2.min().values,'mm')"
      ]
    },
    {
      "cell_type": "markdown",
      "metadata": {
        "id": "DWGEH6n0kqP3"
      },
      "source": [
        "**Now read all the downloaded precipitation files in the folder**"
      ]
    },
    {
      "cell_type": "markdown",
      "metadata": {
        "id": "phvYKzlokqP3"
      },
      "source": [
        "Create a list for the downloaded files"
      ]
    },
    {
      "cell_type": "code",
      "execution_count": null,
      "metadata": {
        "id": "B43NijNUkqP3"
      },
      "outputs": [],
      "source": [
        "folder_files\n",
        "file_extension = \"*.bin.gz\"\n",
        "list_of_Files = glob.glob(os.path.join(folder_files, file_extension))\n",
        "list_of_Files = [file_name for file_name in list_of_Files if not file_name.startswith('.DS_Store')]\n",
        "list_of_Files.sort()"
      ]
    },
    {
      "cell_type": "markdown",
      "metadata": {
        "id": "_Dh_VZ-PkqP3"
      },
      "source": [
        "Display the list"
      ]
    },
    {
      "cell_type": "code",
      "execution_count": null,
      "metadata": {
        "id": "BML-TORykqP3"
      },
      "outputs": [],
      "source": [
        "list_of_Files[:10]"
      ]
    },
    {
      "cell_type": "markdown",
      "metadata": {
        "id": "7eSncKJIkqP3"
      },
      "source": [
        "Read the files, one by one, and calculate the accumulated precipitation. Data  folder contains the first 15 days of January 2023"
      ]
    },
    {
      "cell_type": "code",
      "execution_count": null,
      "metadata": {
        "id": "qLfd9aHrkqP3"
      },
      "outputs": [],
      "source": [
        "data_sum = xr.DataArray(data=np.empty((3000, 9000)), dims=[\"lat\", \"lon\"])\n",
        "for index, item in enumerate(list_of_Files):\n",
        "    print(index+1, 'out of', len(list_of_Files))\n",
        "    f=gzip.GzipFile(item)\n",
        "    try:\n",
        "        file_content = f.read()\n",
        "    except (IOError, EOFError) as e:\n",
        "        continue\n",
        "    data = np.frombuffer(file_content, dtype=np.dtype('>h')).astype(float)\n",
        "    data = data.reshape((3000,9000))\n",
        "    data_1 = data[:,4500:]\n",
        "    data_2 = data[:,:4500]\n",
        "    data = np.hstack((data_1,data_2))\n",
        "    data= data/100\n",
        "    data[data < 0] = np.nan\n",
        "    data = np.flipud(data)\n",
        "    data = xr.DataArray(data=data, dims=[\"lat\", \"lon\"], coords=[lat,lon])\n",
        "    data_sum+=data"
      ]
    },
    {
      "cell_type": "code",
      "execution_count": null,
      "metadata": {
        "id": "qaAdRNBykqP3"
      },
      "outputs": [],
      "source": [
        "data_sum"
      ]
    },
    {
      "cell_type": "markdown",
      "metadata": {
        "id": "-Co9GIRckqP3"
      },
      "source": [
        "- Georeference the data\n",
        "- Clip the accumulated satellite precipitation to the catchment shapefile (Mountain catchment)"
      ]
    },
    {
      "cell_type": "code",
      "execution_count": null,
      "metadata": {
        "id": "W3rYpmZxkqP3"
      },
      "outputs": [],
      "source": [
        "data_sum.rio.set_spatial_dims(x_dim=\"lon\", y_dim=\"lat\", inplace=True)\n",
        "data_sum.rio.write_crs(\"epsg:4326\", inplace=True)\n",
        "data_catchment_1 = data_sum.rio.clip(catchment_shp_1.geometry.apply(mapping),catchment_shp_1.crs,all_touched=True)"
      ]
    },
    {
      "cell_type": "markdown",
      "metadata": {
        "id": "4ag6dEndkqP3"
      },
      "source": [
        "- Plot the data.\n",
        "- Display basic statistics."
      ]
    },
    {
      "cell_type": "code",
      "execution_count": null,
      "metadata": {
        "id": "qmVMZge7kqP3"
      },
      "outputs": [],
      "source": [
        "fig = plt.subplots(figsize=(8,8))\n",
        "plt.imshow(data_catchment_1,cmap='cividis',vmin=0.1,vmax=150)\n",
        "plt.title(\"PERSIANN-CCS precipitation\")\n",
        "plt.colorbar(label='Precipitation (mm)')\n",
        "plt.xlabel(\"Longitude\")\n",
        "plt.ylabel(\"Latitude\")\n",
        "plt.show()\n",
        "print('Maximum precipitación = ',data_catchment_1.max().values,'mm')\n",
        "print('Average precipitación = ',data_catchment_1.mean().values,'mm')\n",
        "print('Minimum precipitación = ',data_catchment_1.min().values,'mm')"
      ]
    },
    {
      "cell_type": "markdown",
      "metadata": {
        "id": "IkU70EEakqP4"
      },
      "source": [
        "Now for the coastal catchment"
      ]
    },
    {
      "cell_type": "code",
      "execution_count": null,
      "metadata": {
        "id": "AJ1uZv2ykqP4"
      },
      "outputs": [],
      "source": [
        "data_catchment_2 = data_sum.rio.clip(catchment_shp_2.geometry.apply(mapping),catchment_shp_2.crs,all_touched=True)\n",
        "fig = plt.subplots(figsize=(8,8))\n",
        "plt.imshow(data_catchment_2,cmap='cividis',vmin=0.1,vmax=150)\n",
        "plt.title(\"PERSIANN-CCS precipitation\")\n",
        "plt.colorbar(label='Precipitation (mm)')\n",
        "plt.xlabel(\"Longitude\")\n",
        "plt.ylabel(\"Latitude\")\n",
        "plt.show()\n",
        "print('Maximum precipitación = ',np.round(data_catchment_2.max().values,2),'mm')\n",
        "print('Average precipitación = ',np.round(data_catchment_2.mean().values,2),'mm')\n",
        "print('Minimum precipitación = ',np.round(data_catchment_2.min().values,2),'mm')"
      ]
    },
    {
      "cell_type": "markdown",
      "metadata": {
        "id": "t-77Gy1pkqP4"
      },
      "source": [
        "Generate a dataFrame with precipitation time series (for each pixel):\n",
        "\n",
        "- Example: In the mountain catchment, time series for January 1, 2023."
      ]
    },
    {
      "cell_type": "code",
      "execution_count": null,
      "metadata": {
        "scrolled": false,
        "id": "5htLsbjJkqP4"
      },
      "outputs": [],
      "source": [
        "dataset_list = []  # Store data frames for concatenation later\n",
        "for index, item in enumerate(list_of_Files[:24]):\n",
        "    print(index + 1, 'out of', len(list_of_Files[:24]))\n",
        "\n",
        "    try:\n",
        "        with gzip.GzipFile(item, 'rb') as f:\n",
        "            file_content = f.read()\n",
        "    except (IOError, EOFError):\n",
        "        continue  # Skip to next file if there's an error\n",
        "\n",
        "    data = np.frombuffer(file_content, dtype=np.dtype('>h')).astype(float)  # Convert to float\n",
        "    data = data.reshape((3000, 9000))\n",
        "    # Splitting and rearranging data\n",
        "    data_1 = data[:, 4500:]\n",
        "    data_2 = data[:, :4500]\n",
        "    data = np.hstack((data_1, data_2))\n",
        "    data = data / 100  # Scale values\n",
        "    data[data < 0] = np.nan  # Replace negative values with NaN\n",
        "    data = np.flipud(data)  # Flip vertically\n",
        "    # Convert to xarray DataArray\n",
        "    data = xr.DataArray(data=data, dims=[\"lat\", \"lon\"], coords=[lat, lon])\n",
        "    data.rio.set_spatial_dims(x_dim=\"lon\", y_dim=\"lat\", inplace=True)\n",
        "    data.rio.write_crs(\"epsg:4326\", inplace=True)\n",
        "    # Clip the data using the catchment shape\n",
        "    data = data.rio.clip(catchment_shp_1.geometry.apply(mapping), catchment_shp_1.crs, all_touched=True)\n",
        "    data = data.values.flatten()\n",
        "    # Extract date from filename\n",
        "    date_att = str(item)\n",
        "    year = int('20' + str(date_att[-14:-12]))\n",
        "    julian_day = int(str(date_att[-12:-9]))\n",
        "    day, month = JulianDate_to_MMDDYYY(year, julian_day)\n",
        "    hour = int(str(date_att[-9:-7]))\n",
        "    date = datetime.datetime(year, month, day, hour, 0, 0)\n",
        "    # Convert data to DataFrame\n",
        "    data = pd.DataFrame(data)\n",
        "    data = data.dropna()\n",
        "    data = data.T\n",
        "    data.index = pd.DatetimeIndex([date])  # Set datetime index\n",
        "    dataset_list.append(data)  # Append to the list\n",
        "# Concatenate all DataFrames\n",
        "if dataset_list:\n",
        "    dataset = pd.concat(dataset_list)"
      ]
    },
    {
      "cell_type": "markdown",
      "metadata": {
        "id": "XHt5ja3UkqP4"
      },
      "source": [
        "- Preprocess the information\n",
        "- Remove duplicate data"
      ]
    },
    {
      "cell_type": "code",
      "execution_count": null,
      "metadata": {
        "id": "mAvG_MDIkqP4"
      },
      "outputs": [],
      "source": [
        "dataset.shape"
      ]
    },
    {
      "cell_type": "code",
      "execution_count": null,
      "metadata": {
        "id": "b7aAp1AIkqP4"
      },
      "outputs": [],
      "source": [
        "dataset = dataset.sort_index()\n",
        "dataset = dataset[~dataset.index.duplicated(keep='first')]\n",
        "dataset"
      ]
    },
    {
      "cell_type": "markdown",
      "metadata": {
        "id": "5Q2LrKT4kqP4"
      },
      "source": [
        "Export this information in **CSV** format"
      ]
    },
    {
      "cell_type": "code",
      "execution_count": null,
      "metadata": {
        "id": "SFecNAlhkqP4"
      },
      "outputs": [],
      "source": [
        "dataset.to_csv(folder_files+\"PERSIANN-CCS_UTC_Catchment_1.csv\", index=True)"
      ]
    },
    {
      "cell_type": "markdown",
      "metadata": {
        "id": "tozWRTnPkqP4"
      },
      "source": [
        "Plot the extracted satellite precipitation"
      ]
    },
    {
      "cell_type": "code",
      "execution_count": null,
      "metadata": {
        "id": "7rBLTVoWkqP4"
      },
      "outputs": [],
      "source": [
        "fig, ax = plt.subplots(figsize=(10,5))\n",
        "dataset.plot(kind='bar', ax=ax)\n",
        "ax.legend(title='Legend Title')\n",
        "plt.ylabel('Satellite precipitation (mm)')\n",
        "plt.legend(loc='upper center', bbox_to_anchor=(0.5, -0.6), ncol=6)\n",
        "plt.show()"
      ]
    },
    {
      "cell_type": "markdown",
      "metadata": {
        "id": "ZpGfX7-PkqP4"
      },
      "source": [
        "Calculate and plot the accumulated precipitation"
      ]
    },
    {
      "cell_type": "code",
      "execution_count": null,
      "metadata": {
        "id": "noLfiy5QkqP4"
      },
      "outputs": [],
      "source": [
        "fig, ax = plt.subplots(figsize=(10,5))\n",
        "dataset.cumsum().plot(ax=ax)\n",
        "ax.legend(title='Legend Title')\n",
        "plt.ylabel('Accumulated precipitation (mm)')\n",
        "plt.legend(loc='upper center', bbox_to_anchor=(0.5, -0.3), ncol=6)\n",
        "plt.show()"
      ]
    },
    {
      "cell_type": "markdown",
      "metadata": {
        "id": "j_O7AzmdkqP4"
      },
      "source": [
        "# IMERG satellite precipitation"
      ]
    },
    {
      "cell_type": "markdown",
      "metadata": {
        "id": "3z2sz8RrkqP4"
      },
      "source": [
        "Website: [https://gpm.nasa.gov/data/imerg](https://gpm.nasa.gov/data/imerg)\n",
        "\n",
        "## Available Subproducts:\n",
        "- **Early Run**\n",
        "- **Late Run**\n",
        "- **Final Run**\n",
        "\n",
        "We will focus on the subproduct with the finest spatial/temporal resolution, **IMERG-Early Run**."
      ]
    },
    {
      "cell_type": "markdown",
      "metadata": {
        "id": "QznlZKTskqP4"
      },
      "source": [
        "## Prior registration to download IMERG data"
      ]
    },
    {
      "cell_type": "markdown",
      "metadata": {
        "id": "64GWrBPIkqP5"
      },
      "source": [
        "To access and download IMERG data, prior registration is required. Follow these steps:"
      ]
    },
    {
      "cell_type": "markdown",
      "metadata": {
        "id": "qIRqJAfekqP5"
      },
      "source": [
        "https://registration.pps.eosdis.nasa.gov/registration/newContact.html"
      ]
    },
    {
      "cell_type": "markdown",
      "metadata": {
        "id": "r2Tq2ghtkqP5"
      },
      "source": [
        "<div style=\"text-align:center;\"><img style=\"width: 100%;\" src=\"https://github.com/paulmunozpauta/Curso_ML_pronostico_hidrologico/blob/main/notebooks/static/imgs/IMERG_registration.png?raw=1\"></div>\n"
      ]
    },
    {
      "cell_type": "markdown",
      "metadata": {
        "id": "ZPXWIS2-kqP5"
      },
      "source": [
        "Once registered, confirm your account via the email verification link.  "
      ]
    },
    {
      "cell_type": "markdown",
      "metadata": {
        "id": "YPVC9DXYkqP5"
      },
      "source": [
        "## Connect to the IMERG data repository"
      ]
    },
    {
      "cell_type": "markdown",
      "metadata": {
        "id": "szHzBmHykqP5"
      },
      "source": [
        "Enter the following information to connect to the IMERG FTP server:\n",
        "\n",
        "- **Protocol:** FTP - File Transfer Protocol  \n",
        "- **Host:** `jsimpsonftps.pps.eosdis.nasa.gov`  \n",
        "- **Logon Type:** Normal  \n",
        "  - Enter your **username** and **password** from your NASA Earthdata account.\n",
        "\n",
        "Once connected, navigate to the desired directory to access IMERG data."
      ]
    },
    {
      "cell_type": "markdown",
      "metadata": {
        "id": "EmyFdyRUkqP5"
      },
      "source": [
        "<div style=\"text-align:center;\"><img style=\"width: 100%;\" src=\"https://github.com/paulmunozpauta/Curso_ML_pronostico_hidrologico/blob/main/notebooks/static/imgs/IMERG_FTP.png?raw=1\"></div>"
      ]
    },
    {
      "cell_type": "markdown",
      "metadata": {
        "id": "_ixKb46EkqP5"
      },
      "source": [
        "Upon connecting, you gain remote access to the IMERG data folder.  \n",
        "\n",
        "From here, you can navigate through the directories to locate and download the desired datasets."
      ]
    },
    {
      "cell_type": "markdown",
      "metadata": {
        "id": "ucCRYpRxkqP5"
      },
      "source": [
        "<div style=\"text-align:center;\"><img style=\"width: 100%;\" src=\"https://github.com/paulmunozpauta//Curso_ML_pronostico_hidrologico/blob/main/notebooks/static/imgs/IMERG_server.png?raw=1\"></div>"
      ]
    },
    {
      "cell_type": "markdown",
      "metadata": {
        "id": "7SZHJ46UkqP5"
      },
      "source": [
        "## Download data from the IMERG-Early Run repository\n"
      ]
    },
    {
      "cell_type": "markdown",
      "metadata": {
        "id": "DLRZh2JhkqP5"
      },
      "source": [
        "Right-click on the folder/file you want to download and select **\"Download\"** to save it to your local directory.  "
      ]
    },
    {
      "cell_type": "markdown",
      "metadata": {
        "id": "9GoaIqJjkqP5"
      },
      "source": [
        "## Open an IMERG precipitation file"
      ]
    },
    {
      "cell_type": "markdown",
      "metadata": {
        "id": "TZShKqKzkqP5"
      },
      "source": [
        "Define IMERG-ER data folder"
      ]
    },
    {
      "cell_type": "code",
      "execution_count": null,
      "metadata": {
        "id": "tTYz9MF2kqP5"
      },
      "outputs": [],
      "source": [
        "folder = os.getcwd()\n",
        "folder_files= folder+'/notebooks/data/IMERG-ER/Hourly/Global/202301/'\n",
        "folder_files"
      ]
    },
    {
      "cell_type": "markdown",
      "metadata": {
        "id": "HTMo1C9ZkqP5"
      },
      "source": [
        "Create a list of precipitation files. Data contains satellite precipittaion for January 31, 2023."
      ]
    },
    {
      "cell_type": "code",
      "execution_count": null,
      "metadata": {
        "id": "wnbb9c-2kqP5"
      },
      "outputs": [],
      "source": [
        "list_of_Files = glob.glob(folder_files + '/*H5')\n",
        "list_of_Files.sort()"
      ]
    },
    {
      "cell_type": "markdown",
      "metadata": {
        "id": "E_GVLD69kqP5"
      },
      "source": [
        "Display the list"
      ]
    },
    {
      "cell_type": "code",
      "execution_count": null,
      "metadata": {
        "id": "rDgaQmNVkqP5"
      },
      "outputs": [],
      "source": [
        "list_of_Files"
      ]
    },
    {
      "cell_type": "markdown",
      "metadata": {
        "id": "aUP3KBNkkqP5"
      },
      "source": [
        "Define the path of a file for reading."
      ]
    },
    {
      "cell_type": "code",
      "execution_count": null,
      "metadata": {
        "id": "Cu9oZikKkqP5"
      },
      "outputs": [],
      "source": [
        "item=folder_files+'3B-HHR-E.MS.MRG.3IMERG.20230131-S000000-E002959.0000.V06C.RT-H5'\n",
        "item"
      ]
    },
    {
      "cell_type": "markdown",
      "source": [
        "The name coding '3B-HHR-E.MS.MRG.3IMERG.20230131-S000000-E002959.0000.V06C.RT-H5' indicates:\n",
        "- 3B-HHR-E.MS.MRG.3IMERG: product information\n",
        "- 20230131: YearMonthDay\n",
        "- S000000: start of scan (hhmmss)\n",
        "- E002959: end of scan (hhmmss)"
      ],
      "metadata": {
        "id": "gI4_U9BXUwVi"
      }
    },
    {
      "cell_type": "markdown",
      "metadata": {
        "id": "PRgshfY1kqP5"
      },
      "source": [
        "Open a single precipitation file."
      ]
    },
    {
      "cell_type": "code",
      "execution_count": null,
      "metadata": {
        "id": "63-q1GSQkqP5"
      },
      "outputs": [],
      "source": [
        "data = h5py.File( item, 'r' )\n",
        "precip = data['/Grid/precipitationCal'][:]\n",
        "precip = np.flip( precip[0,:,:].transpose(), axis=0 )"
      ]
    },
    {
      "cell_type": "markdown",
      "metadata": {
        "id": "V-D9H7aUkqP5"
      },
      "source": [
        "Display the read data matrix."
      ]
    },
    {
      "cell_type": "code",
      "execution_count": null,
      "metadata": {
        "id": "2GKsU-mMkqP6"
      },
      "outputs": [],
      "source": [
        "precip"
      ]
    },
    {
      "cell_type": "markdown",
      "metadata": {
        "id": "pnOehe3zkqP6"
      },
      "source": [
        "Basic statistics"
      ]
    },
    {
      "cell_type": "code",
      "execution_count": null,
      "metadata": {
        "id": "JmgZfgdlkqP6"
      },
      "outputs": [],
      "source": [
        "print('Maximum precipitation = ',precip.max(),'mm')\n",
        "print('Average precipitation = ',precip.mean(),'mm')\n",
        "print('Minimum precipitation = ',precip.min(),'mm')"
      ]
    },
    {
      "cell_type": "markdown",
      "metadata": {
        "id": "haFDMo13kqP6"
      },
      "source": [
        "Display the global precipitation information."
      ]
    },
    {
      "cell_type": "code",
      "execution_count": null,
      "metadata": {
        "id": "8Wu61Xz6kqP6"
      },
      "outputs": [],
      "source": [
        "fig, ax = plt.subplots(figsize=(10, 10))\n",
        "im = ax.imshow(precip, vmin=-1, vmax=80, extent=[-180, 180, -90, 90])\n",
        "cbar = plt.colorbar(im, orientation='horizontal')\n",
        "cbar.set_label('millimeters/hour')\n",
        "for lon in np.arange(-90, 90+1, 90):\n",
        "    plt.plot((lon, lon), (-90, +90), color=\"black\", linewidth=1)\n",
        "for lat in np.arange(-60, 60+1, 30):\n",
        "    plt.plot((-180, +180), (lat, lat), color=\"black\", linewidth=1)\n",
        "plt.show()"
      ]
    },
    {
      "cell_type": "markdown",
      "metadata": {
        "id": "LYdQ4RfckqP6"
      },
      "source": [
        "Georeference and clip the global precipitation data to the mountain catchment"
      ]
    },
    {
      "cell_type": "code",
      "execution_count": null,
      "metadata": {
        "id": "7s7MDtZ_kqP6"
      },
      "outputs": [],
      "source": [
        "precip"
      ]
    },
    {
      "cell_type": "code",
      "execution_count": null,
      "metadata": {
        "id": "MZ1bcqnikqP6"
      },
      "outputs": [],
      "source": [
        "lat = data['/Grid/lat'][:]\n",
        "lon = data['/Grid/lon'][:]\n",
        "catchment_shp_1 = gpd.read_file(folder+'/notebooks/shapefiles/Catchment_SA.shp')\n",
        "data = xr.DataArray(data=precip, dims=[\"lat\", \"lon\"], coords=[lat,lon])\n",
        "data.rio.set_spatial_dims(x_dim=\"lon\", y_dim=\"lat\", inplace=True)\n",
        "data.rio.write_crs(\"epsg:4326\", inplace=True)\n",
        "data_catchment_1= data.rio.clip(catchment_shp_1.geometry.apply(mapping),catchment_shp_1.crs,all_touched=True)"
      ]
    },
    {
      "cell_type": "markdown",
      "metadata": {
        "id": "xi9Z-nHGkqP6"
      },
      "source": [
        "Plot the precipitation for the mountain catchment"
      ]
    },
    {
      "cell_type": "code",
      "execution_count": null,
      "metadata": {
        "id": "ZWA3ZTj7kqP6"
      },
      "outputs": [],
      "source": [
        "fig = plt.subplots(figsize=(8,8))\n",
        "data_catchment_1.plot(cmap='cividis',vmin=0,vmax=0.01)\n",
        "plt.title(\"IMERG-ER precipitation\")\n",
        "plt.xlabel(\"Longitude\")\n",
        "plt.ylabel(\"Latitude\")\n",
        "plt.show()"
      ]
    },
    {
      "cell_type": "markdown",
      "metadata": {
        "id": "qq8Z9XZskqP6"
      },
      "source": [
        "Basic statistics"
      ]
    },
    {
      "cell_type": "code",
      "execution_count": null,
      "metadata": {
        "id": "QqYaJJOEkqP6"
      },
      "outputs": [],
      "source": [
        "print('Maximum precipitation = ', np.round(data_catchment_1.max().values,2),'mm')\n",
        "print('Average precipitation = ', np.round(data_catchment_1.mean().values,2),'mm')\n",
        "print('Minimum precipitation = ', np.round(data_catchment_1.min().values,2),'mm')"
      ]
    },
    {
      "cell_type": "markdown",
      "metadata": {
        "id": "f5FWvu2NkqP6"
      },
      "source": [
        "Plot the precipitation for the coastal catchment"
      ]
    },
    {
      "cell_type": "code",
      "execution_count": null,
      "metadata": {
        "id": "hODvJwrvkqP6"
      },
      "outputs": [],
      "source": [
        "catchment_shp_2 = gpd.read_file(folder+'/notebooks/shapefiles/Coastal_catchment.geojson')\n",
        "data_catchment_2 = data.rio.clip(catchment_shp_2.geometry.apply(mapping),catchment_shp_2.crs,all_touched=True)\n",
        "fig = plt.subplots(figsize=(8,8))\n",
        "data_catchment_2.plot(cmap='cividis',vmin=0,vmax=5)\n",
        "plt.title(\"Precipitación Global IMERG-ER\")\n",
        "plt.xlabel(\"Longitude\")\n",
        "plt.ylabel(\"Latitude\")\n",
        "plt.show()\n",
        "print('Maximum precipitation = ', np.round(data_catchment_2.max().values,2),'mm')\n",
        "print('Average precipitation = ', np.round(data_catchment_2.mean().values,2),'mm')\n",
        "print('Minimum precipitation = ', np.round(data_catchment_2.min().values,2),'mm')"
      ]
    },
    {
      "cell_type": "markdown",
      "metadata": {
        "id": "hCh0MgNrkqP6"
      },
      "source": [
        "Read and process all IMERG-ER files. in the folder"
      ]
    },
    {
      "cell_type": "markdown",
      "metadata": {
        "id": "Zh1T36lNkqP6"
      },
      "source": [
        "Display the list"
      ]
    },
    {
      "cell_type": "code",
      "execution_count": null,
      "metadata": {
        "id": "d22kDpiPkqP6"
      },
      "outputs": [],
      "source": [
        "list_of_Files"
      ]
    },
    {
      "cell_type": "markdown",
      "metadata": {
        "id": "2em9aSWSkqP7"
      },
      "source": [
        "Accumulate precipitation"
      ]
    },
    {
      "cell_type": "code",
      "execution_count": null,
      "metadata": {
        "id": "mXxT5r8nkqP7"
      },
      "outputs": [],
      "source": [
        "data_sum = xr.DataArray(data=np.empty((1800, 3600)), dims=[\"lat\", \"lon\"])\n",
        "for index, item in enumerate(list_of_Files):\n",
        "    print(index+1, 'out of', len(list_of_Files))\n",
        "    try:\n",
        "        data = h5py.File(item, 'r')\n",
        "        precip = data['/Grid/precipitationCal'][:]\n",
        "        precip[precip < 0] = np.nan\n",
        "        precip = np.flip(precip[0,:,:].transpose(), axis=0)\n",
        "        theLats = data['Grid/lat'][:]\n",
        "        theLons = data['Grid/lon'][:]\n",
        "        x, y = np.meshgrid(theLons, theLats)\n",
        "\n",
        "        precip = xr.DataArray(precip, dims=('lat', 'lon'), coords={'lat' : theLats, 'lon' : theLons})\n",
        "\n",
        "        data_sum += precip\n",
        "\n",
        "        data.close()\n",
        "\n",
        "    except (IOError, EOFError) as e:\n",
        "        continue"
      ]
    },
    {
      "cell_type": "markdown",
      "metadata": {
        "id": "Uf3hZAVkkqP7"
      },
      "source": [
        "Plot the accumulated precipitation information for January 31, 2023."
      ]
    },
    {
      "cell_type": "code",
      "execution_count": null,
      "metadata": {
        "id": "b1dkO3-JkqP7"
      },
      "outputs": [],
      "source": [
        "fig, ax = plt.subplots(figsize=(10, 10))\n",
        "im = ax.imshow(data_sum, vmin=-1, vmax=1400, extent=[-180, 180, -90, 90])\n",
        "cbar = plt.colorbar(im, orientation='horizontal')\n",
        "cbar.set_label('millimeters/hour')\n",
        "\n",
        "for lon in np.arange(-90, 90+1, 90):\n",
        "    plt.plot((lon, lon), (-90, +90), color=\"black\", linewidth=1)\n",
        "for lat in np.arange(-60, 60+1, 30):\n",
        "    plt.plot((-180, +180), (lat, lat), color=\"black\", linewidth=1)\n",
        "\n",
        "plt.show()"
      ]
    },
    {
      "cell_type": "markdown",
      "metadata": {
        "id": "5VouLBTKkqP7"
      },
      "source": [
        "Clip that information to the mountain catchment"
      ]
    },
    {
      "cell_type": "code",
      "execution_count": null,
      "metadata": {
        "id": "DzS90lh8kqP7"
      },
      "outputs": [],
      "source": [
        "data_sum.rio.set_spatial_dims(x_dim=\"lon\", y_dim=\"lat\", inplace=True)\n",
        "data_sum.rio.write_crs(\"epsg:4326\", inplace=True)\n",
        "data_sum_catchment_1= data_sum.rio.clip(catchment_shp_1.geometry.apply(mapping),catchment_shp_1.crs,all_touched=True)\n",
        "data_sum_catchment_1"
      ]
    },
    {
      "cell_type": "code",
      "execution_count": null,
      "metadata": {
        "id": "YhBzOXRbkqP7"
      },
      "outputs": [],
      "source": [
        "fig = plt.subplots(figsize=(8,8))\n",
        "data_sum_catchment_1.plot(cmap='cividis',vmin=0,vmax=16)\n",
        "plt.title(\"IMERG-ER precipitation\")\n",
        "plt.xlabel(\"Longitude\")\n",
        "plt.ylabel(\"Latitude\")\n",
        "plt.show()\n",
        "print('Maximum precipitación = ', np.round(data_sum_catchment_1.max().values,2),'mm')\n",
        "print('Average precipitación = ', np.round(data_sum_catchment_1.mean().values,2),'mm')\n",
        "print('Minimum precipitation = ', np.round(data_sum_catchment_1.min().values,2),'mm')"
      ]
    },
    {
      "cell_type": "markdown",
      "metadata": {
        "id": "Icvtk4hnkqP7"
      },
      "source": [
        "Now for the coastal catchment"
      ]
    },
    {
      "cell_type": "code",
      "execution_count": null,
      "metadata": {
        "id": "S_0U_xO_kqP7"
      },
      "outputs": [],
      "source": [
        "data_sum = xr.DataArray(data_sum, dims=('lat', 'lon'), coords={'lat' : theLats, 'lon' : theLons})\n",
        "data_sum.rio.set_spatial_dims(x_dim=\"lon\", y_dim=\"lat\", inplace=True)\n",
        "data_sum.rio.write_crs(\"epsg:4326\", inplace=True)\n",
        "data_sum_catchment_2= data_sum.rio.clip(catchment_shp_2.geometry.apply(mapping),catchment_shp_2.crs,all_touched=True)\n",
        "fig = plt.subplots(figsize=(8,8))\n",
        "data_sum_catchment_2.plot(cmap='cividis',vmin=0,vmax=9)\n",
        "plt.title(\"IMERG-ER precipitation\")\n",
        "plt.xlabel(\"Longitude\")\n",
        "plt.ylabel(\"Latitude\")\n",
        "plt.show()\n",
        "print('Maximum precipitation = ', np.round(data_sum_catchment_2.max().values,2),'mm')\n",
        "print('Average precipitation = ', np.round(data_sum_catchment_2.mean().values,2),'mm')\n",
        "print('Minimum precipitation = ', np.round(data_sum_catchment_2.min().values,2),'mm')"
      ]
    },
    {
      "cell_type": "markdown",
      "metadata": {
        "id": "1_9pqWCckqP7"
      },
      "source": [
        "Generate a database with precipitation time series (pixels) for the mountain catchment"
      ]
    },
    {
      "cell_type": "code",
      "execution_count": null,
      "metadata": {
        "id": "bVbhgMEBkqP7"
      },
      "outputs": [],
      "source": [
        "dataset_list = []  # List to store DataFrames for concatenation later\n",
        "for index, item in enumerate(list_of_Files):\n",
        "    print(index + 1, 'out of', len(list_of_Files))\n",
        "    try:\n",
        "        with h5py.File(item, 'r') as data:\n",
        "            precip = data['/Grid/precipitationCal'][:]\n",
        "    except (IOError, EOFError):\n",
        "        continue  # Skip file if there's an error\n",
        "    precip[precip < 0] = np.nan  # Replace negative values with NaN\n",
        "    precip = np.flip(precip[0, :, :].transpose(), axis=0)  # Flip and transpose\n",
        "    # Convert to xarray DataArray\n",
        "    precip = xr.DataArray(precip, dims=('lat', 'lon'), coords={'lat': theLats, 'lon': theLons})\n",
        "    precip.rio.set_spatial_dims(x_dim=\"lon\", y_dim=\"lat\", inplace=True)\n",
        "    precip.rio.write_crs(\"epsg:4326\", inplace=True)\n",
        "    # Clip the data using the catchment shape\n",
        "    precip = precip.rio.clip(catchment_shp_1.geometry.apply(mapping), catchment_shp_1.crs, all_touched=True)\n",
        "    precip = precip.values.flatten()\n",
        "    # Extract date from filename\n",
        "    year = int(item[-40:-36])\n",
        "    month = int(item[-36:-34])\n",
        "    day = int(item[-34:-32])\n",
        "    hour = int(item[-22:-20])\n",
        "    minute = int(item[-20:-18])\n",
        "    date = datetime.datetime(year, month, day, hour, minute, 0)\n",
        "    # Convert data to DataFrame\n",
        "    data = pd.DataFrame(precip)\n",
        "    data = data.dropna()\n",
        "    data = data.T\n",
        "    data.index = pd.DatetimeIndex([date])  # Set datetime index\n",
        "    dataset_list.append(data)  # Append DataFrame to list\n",
        "# Concatenate all DataFrames at the end\n",
        "if dataset_list:\n",
        "    dataset = pd.concat(dataset_list)\n",
        "# Resample dataset, treating NaNs as zeros\n",
        "dataset = dataset.resample('h', label='right', closed='right').sum().fillna(0)"
      ]
    },
    {
      "cell_type": "markdown",
      "metadata": {
        "id": "Tkwf_ESRkqP7"
      },
      "source": [
        "Display dataframe"
      ]
    },
    {
      "cell_type": "code",
      "execution_count": null,
      "metadata": {
        "id": "YRbnF39mkqP7"
      },
      "outputs": [],
      "source": [
        "dataset"
      ]
    },
    {
      "cell_type": "markdown",
      "metadata": {
        "id": "RuO26C2_kqP7"
      },
      "source": [
        "Export the dataframe to csv"
      ]
    },
    {
      "cell_type": "code",
      "execution_count": null,
      "metadata": {
        "id": "UleJrKPEkqP7"
      },
      "outputs": [],
      "source": [
        "dataset.to_csv(folder_files+\"IMERG-ER_UTC_Catchment_1.csv\", index=True)"
      ]
    },
    {
      "cell_type": "markdown",
      "metadata": {
        "id": "4FThQ3cFkqP7"
      },
      "source": [
        "Plot the precipitation time series."
      ]
    },
    {
      "cell_type": "code",
      "execution_count": null,
      "metadata": {
        "id": "2buG2Z9akqP7"
      },
      "outputs": [],
      "source": [
        "fig, ax = plt.subplots(figsize=(10,5))\n",
        "dataset.plot(kind='bar', ax=ax)\n",
        "ax.legend(title='Legend Title')\n",
        "plt.ylabel('Precipitation_satellite (mm)')\n",
        "plt.legend(loc='upper center', bbox_to_anchor=(0.5, -0.6), ncol=7)\n",
        "plt.show()"
      ]
    },
    {
      "cell_type": "markdown",
      "metadata": {
        "id": "hg_q30t8kqP8"
      },
      "source": [
        "Plot the accumulated precipitation"
      ]
    },
    {
      "cell_type": "code",
      "execution_count": null,
      "metadata": {
        "id": "JAdxYz1-kqP8"
      },
      "outputs": [],
      "source": [
        "fig, ax = plt.subplots(figsize=(10,5))\n",
        "dataset.cumsum().plot( ax=ax)\n",
        "ax.legend(title='Legend Title')\n",
        "plt.ylabel('Precipitation_satellite (mm)')\n",
        "plt.legend(loc='upper center', bbox_to_anchor=(0.5, -0.6), ncol=7)\n",
        "plt.show()"
      ]
    },
    {
      "cell_type": "markdown",
      "metadata": {
        "id": "dKs6l3hSkqP8"
      },
      "source": [
        "Do the same for the coastal catchment"
      ]
    },
    {
      "cell_type": "code",
      "execution_count": null,
      "metadata": {
        "id": "cvdH3m4GkqP8"
      },
      "outputs": [],
      "source": [
        "dataset_list = []  # Store data frames for concatenation later\n",
        "for index, item in enumerate(list_of_Files):\n",
        "    print(index + 1, 'out of', len(list_of_Files))\n",
        "    try:\n",
        "        with h5py.File(item, 'r') as data:\n",
        "            precip = data['/Grid/precipitationCal'][:]\n",
        "    except (IOError, EOFError):\n",
        "        continue  # Skip to next file if there's an error\n",
        "    precip[precip < 0] = np.nan  # Replace negative values with NaN\n",
        "    precip = np.flip(precip[0, :, :].transpose(), axis=0)  # Flip and transpose\n",
        "    # Convert to xarray DataArray\n",
        "    precip = xr.DataArray(precip, dims=('lat', 'lon'), coords={'lat': theLats, 'lon': theLons})\n",
        "    precip.rio.set_spatial_dims(x_dim=\"lon\", y_dim=\"lat\", inplace=True)\n",
        "    precip.rio.write_crs(\"epsg:4326\", inplace=True)\n",
        "    # Clip the data using the catchment shape\n",
        "    precip = precip.rio.clip(catchment_shp_2.geometry.apply(mapping), catchment_shp_2.crs, all_touched=True)\n",
        "    precip = precip.values.flatten()\n",
        "    # Extract date from filename\n",
        "    year = int(item[-40:-36])\n",
        "    month = int(item[-36:-34])\n",
        "    day = int(item[-34:-32])\n",
        "    hour = int(item[-22:-20])\n",
        "    minute = int(item[-20:-18])\n",
        "    date = datetime.datetime(year, month, day, hour, minute, 0)\n",
        "    # Convert to DataFrame\n",
        "    data = pd.DataFrame(precip)\n",
        "    data = data.dropna()\n",
        "    data = data.T\n",
        "    data.index = pd.DatetimeIndex([date])  # Set datetime index\n",
        "    dataset_list.append(data)  # Append to the list\n",
        "# Concatenate all DataFrames\n",
        "if dataset_list:\n",
        "    dataset = pd.concat(dataset_list)\n",
        "# Resample dataset\n",
        "dataset = dataset.resample('h', label='right', closed='right').sum()"
      ]
    },
    {
      "cell_type": "markdown",
      "metadata": {
        "id": "kiFq1Z8qkqP8"
      },
      "source": [
        "Display the dataframe"
      ]
    },
    {
      "cell_type": "code",
      "execution_count": null,
      "metadata": {
        "id": "DiMrxe3zkqP8"
      },
      "outputs": [],
      "source": [
        "dataset"
      ]
    },
    {
      "cell_type": "markdown",
      "metadata": {
        "id": "ng1i9OznkqP8"
      },
      "source": [
        "Export the dataframe to csv"
      ]
    },
    {
      "cell_type": "code",
      "execution_count": null,
      "metadata": {
        "id": "KM6MQ70XkqP8"
      },
      "outputs": [],
      "source": [
        "dataset.to_csv(folder_files+\"IMERG-ER_UTC_Catchment_2.csv\", index=True)"
      ]
    },
    {
      "cell_type": "markdown",
      "metadata": {
        "id": "JlNQrZXQkqP8"
      },
      "source": [
        "Plot the precipitation time series."
      ]
    },
    {
      "cell_type": "code",
      "execution_count": null,
      "metadata": {
        "id": "EMhnVGJSkqP8"
      },
      "outputs": [],
      "source": [
        "fig, ax = plt.subplots(figsize=(10,5))\n",
        "dataset.plot(kind='bar', ax=ax)\n",
        "ax.legend(title='Legend Title')\n",
        "plt.ylabel('Precipitation_satellite (mm)')\n",
        "plt.legend(loc='upper center', bbox_to_anchor=(0.5, -0.6), ncol=9)\n",
        "plt.show()"
      ]
    },
    {
      "cell_type": "markdown",
      "metadata": {
        "id": "Iibe5hOJkqP8"
      },
      "source": [
        "Plot the accumulated precipitation"
      ]
    },
    {
      "cell_type": "code",
      "execution_count": null,
      "metadata": {
        "scrolled": true,
        "id": "m-WXZwTdkqP8"
      },
      "outputs": [],
      "source": [
        "fig, ax = plt.subplots(figsize=(10,5))\n",
        "dataset.cumsum().plot( ax=ax)\n",
        "ax.legend(title='Legend Title')\n",
        "plt.ylabel('Precipitation_satellite (mm)')\n",
        "plt.legend(loc='upper center', bbox_to_anchor=(0.5, -0.6), ncol=9)\n",
        "plt.show()"
      ]
    }
  ],
  "metadata": {
    "kernelspec": {
      "display_name": "Python 3 (ipykernel)",
      "language": "python",
      "name": "python3"
    },
    "language_info": {
      "codemirror_mode": {
        "name": "ipython",
        "version": 3
      },
      "file_extension": ".py",
      "mimetype": "text/x-python",
      "name": "python",
      "nbconvert_exporter": "python",
      "pygments_lexer": "ipython3",
      "version": "3.11.11"
    },
    "colab": {
      "provenance": []
    }
  },
  "nbformat": 4,
  "nbformat_minor": 0
}