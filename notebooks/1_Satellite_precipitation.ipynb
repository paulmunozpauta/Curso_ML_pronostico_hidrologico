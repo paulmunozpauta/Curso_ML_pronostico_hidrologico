{
  "cells": [
    {
      "cell_type": "markdown",
      "source": [
        "# Curso: Machine Learning para Pronóstico Hidrológico"
      ],
      "metadata": {
        "id": "MQsQRnesA61s"
      }
    },
    {
      "cell_type": "markdown",
      "metadata": {
        "id": "yxok-7bskqPv"
      },
      "source": [
        "<div style=\"text-align:center;\">\n",
        "    <img src=\"https://github.com/paulmunozpauta//Curso_ML_pronostico_hidrologico/blob/main/notebooks/static/imgs/Logo_course.png?raw=true\" width=\"300\">\n",
        "    <p style=\"margin-top:10px;\">\n",
        "        Contacto: paul.andres.munoz@gmail.com\n",
        "    </p>\n",
        "    <p><a href=\"https://paulmunozpauta.github.io/paulmunozpauta/index.html\" target=\"_blank\">Website personal</a></p>\n",
        "</div>\n",
        "\n",
        "\n"
      ]
    },
    {
      "cell_type": "markdown",
      "source": [
        "## ✅ Antes de comenzar: sigue estos 4 pasos para ejecutar el notebook en Google Colab\n"
      ],
      "metadata": {
        "id": "UTb7cPclBVf7"
      }
    },
    {
      "cell_type": "markdown",
      "source": [
        "Paso 1. Clona el repositorio de GitHub con los notebooks y datos del curso.\n"
      ],
      "metadata": {
        "id": "9u3BFkcilU51"
      }
    },
    {
      "cell_type": "code",
      "source": [
        "!git clone -- https://github.com/paulmunozpauta/Curso_ML_pronostico_hidrologico.git"
      ],
      "metadata": {
        "id": "QC5sdmsJkrm-"
      },
      "execution_count": null,
      "outputs": []
    },
    {
      "cell_type": "markdown",
      "source": [
        "Paso 2. Accede a la carpeta clonada.\n"
      ],
      "metadata": {
        "id": "LyG9P-Uu_qEi"
      }
    },
    {
      "cell_type": "code",
      "source": [
        "ls"
      ],
      "metadata": {
        "id": "gcw9i_9yQ6oX"
      },
      "execution_count": null,
      "outputs": []
    },
    {
      "cell_type": "code",
      "source": [
        "%cd Curso_ML_pronostico_hidrologico"
      ],
      "metadata": {
        "id": "86fWT58GkyF8"
      },
      "execution_count": null,
      "outputs": []
    },
    {
      "cell_type": "code",
      "execution_count": null,
      "metadata": {
        "id": "uevmoKhHkqPx"
      },
      "outputs": [],
      "source": [
        "ls"
      ]
    },
    {
      "cell_type": "markdown",
      "source": [
        "Paso 3. Configura el entorno para ejecutar el código del curso.\n"
      ],
      "metadata": {
        "id": "In8RPfUmlbBz"
      }
    },
    {
      "cell_type": "code",
      "source": [
        "# Resolver un conflicto con Colab, nueva versión de numpy\n",
        "!pip uninstall -y numpy\n",
        "# Instalar las versiones de numpy para el curso\n",
        "!pip install numpy==1.24.4"
      ],
      "metadata": {
        "id": "q6B8BCYsLQGQ"
      },
      "execution_count": null,
      "outputs": []
    },
    {
      "cell_type": "code",
      "execution_count": null,
      "metadata": {
        "id": "f9UbABMYkqPx"
      },
      "outputs": [],
      "source": [
        "# Install Poetry\n",
        "!pip install poetry\n",
        "# Disable virtual environment creation (needed for Colab)\n",
        "!poetry config virtualenvs.create false"
      ]
    },
    {
      "cell_type": "markdown",
      "source": [
        "🔁 Si la sesión se reinicia, repite los pasos 2 y 3.\n",
        "➡️ Si no, continúa con el paso 4.\n"
      ],
      "metadata": {
        "id": "VW4i_6hSlSNY"
      }
    },
    {
      "cell_type": "markdown",
      "source": [
        "Paso 4. Instala los paquetes necesarios para el curso.\n"
      ],
      "metadata": {
        "id": "66WCH0wJlv9G"
      }
    },
    {
      "cell_type": "code",
      "source": [
        "%cd Curso_ML_pronostico_hidrologico\n",
        "!poetry lock\n"
      ],
      "metadata": {
        "id": "x4tkd1Qag1jS"
      },
      "execution_count": null,
      "outputs": []
    },
    {
      "cell_type": "code",
      "execution_count": null,
      "metadata": {
        "id": "8uKlbfCykqPx"
      },
      "outputs": [],
      "source": [
        "!poetry install --no-root"
      ]
    },
    {
      "cell_type": "markdown",
      "source": [
        "🧪 Ahora sí, empezamos con la parte práctica del curso\n"
      ],
      "metadata": {
        "id": "jxH_qxQKl1q_"
      }
    },
    {
      "cell_type": "markdown",
      "metadata": {
        "id": "jf668UO4kqPy"
      },
      "source": [
        "# 🛰️ Parte 1: Adquisición y preprocesamiento de datos de precipitación satelital"
      ]
    },
    {
      "cell_type": "markdown",
      "metadata": {
        "id": "4oSoT2tlkqPy"
      },
      "source": [
        "En esta sesión aprenderemos a:\n",
        "- Acceder y descargar datos de dos fuentes globales de precipitación satelital:\n",
        "  * PERSIANN-CCS (Universidad de California)\n",
        "  * IMERG-ER (NASA - misión GPM)\n",
        "- Abrir, georreferenciar y visualizar datos de precipitación satelital para una región específica."
      ]
    },
    {
      "cell_type": "markdown",
      "metadata": {
        "id": "otd0esX7kqPy"
      },
      "source": [
        "# 🧰 Software para acceder a repositorios gratuitos de datos satelitales"
      ]
    },
    {
      "cell_type": "markdown",
      "source": [
        "## Descargar el software\n",
        "https://filezilla-project.org/download.php?type=client"
      ],
      "metadata": {
        "id": "rdNm9WT3gIzx"
      }
    },
    {
      "cell_type": "markdown",
      "metadata": {
        "id": "eDcnmk60kqPy"
      },
      "source": [
        "<div style=\"text-align:center;\"><img style=\"width: 100%;\" src=\"https://github.com/paulmunozpauta//Curso_ML_pronostico_hidrologico/blob/main/notebooks/static/imgs/FileZilla_download.png?raw=1\"></div>"
      ]
    },
    {
      "cell_type": "markdown",
      "metadata": {
        "id": "sk2zUzCikqPy"
      },
      "source": [
        "## 🔑 Iniciar FileZilla"
      ]
    },
    {
      "cell_type": "markdown",
      "metadata": {
        "id": "wbKML_XwkqPy"
      },
      "source": [
        "<div style=\"text-align:center;\"><img style=\"width: 100%;\" src=\"https://github.com/paulmunozpauta//Curso_ML_pronostico_hidrologico/blob/main/notebooks/static/imgs/FileZilla.png?raw=1\"></div>"
      ]
    },
    {
      "cell_type": "markdown",
      "metadata": {
        "id": "GSD446S8kqPz"
      },
      "source": [
        "# 🌐 Fuente de datos PERSIANN"
      ]
    },
    {
      "cell_type": "markdown",
      "metadata": {
        "id": "btKYBE69kqPz"
      },
      "source": [
        "<div style=\"text-align:center;\"><img style=\"width: 100%;\" src=\"https://github.com/paulmunozpauta//Curso_ML_pronostico_hidrologico/blob/main/notebooks/static/imgs/PERSIANN_head.png?raw=1\"></div>"
      ]
    },
    {
      "cell_type": "markdown",
      "metadata": {
        "id": "AyblOL-CkqPz"
      },
      "source": [
        "Website: http://chrs.web.uci.edu"
      ]
    },
    {
      "cell_type": "markdown",
      "metadata": {
        "id": "BaDTfWA9kqPz"
      },
      "source": [
        "Subproductos disponibles:\n",
        "- PERSIANN\n",
        "- PERSIANN-CCS\n",
        "- PERSIANN-CDR\n",
        "- PERSIANN-IDR"
      ]
    },
    {
      "cell_type": "markdown",
      "metadata": {
        "id": "Y0X16BKykqPz"
      },
      "source": [
        "Nos enfocaremos en el subproducto con la resolución espacial/temporal más fina: **PERSIANN-CCS**.\n",
        "\n",
        "¿Qué es PERSIANN-CCS?\n",
        "\n",
        "PERSIANN-CCS utiliza imágenes satelitales para analizar las nubes y estimar la precipitación a nivel global. Fue desarrollado por la Universidad de California en Irvine.\n",
        "\n",
        "El método de estimación de precipitación es muy detallado, analizando la altura de las nubes y su cobertura. A diferencia de otros métodos, puede identificar nubes individuales y proporcionar información específica sobre ellas.\n",
        "Esto permite estimar con más precisión cuánta precipitación cae en diferentes regiones, en tiempo real y con posibilidad de descarga gratuita."
      ]
    },
    {
      "cell_type": "markdown",
      "metadata": {
        "id": "ZjsBls_TkqPz"
      },
      "source": [
        "📝 En resumen:\n",
        "- **Período de datos**: Desde 2003 hasta el presente\n",
        "- **Cobertura**: Desde 60°S hasta 60°N\n",
        "- **Resolución**: 0.04° x 0.04° (~4.4 x 4.4 km por píxel)\n",
        "- **Disponibilidad temporal**: Cada 1h, 3h, 6h, diario, mensual y anual\n",
        "- **Latencia**: Prácticamente en tiempo real (~2 hours)"
      ]
    },
    {
      "cell_type": "markdown",
      "source": [
        "## Visualizar datos en la plataforma\n",
        "Accede a la plataforma de visualización de datos usando el siguiente enlace:\n",
        "[https://chrsdata.eng.uci.edu](https://chrsdata.eng.uci.edu)"
      ],
      "metadata": {
        "id": "m4toepOohVWn"
      }
    },
    {
      "cell_type": "markdown",
      "metadata": {
        "id": "3ZNiws5GkqPz"
      },
      "source": [
        "## Conectar al repositorio PERSIANN Data"
      ]
    },
    {
      "cell_type": "markdown",
      "metadata": {
        "id": "5BT8SXHnkqPz"
      },
      "source": [
        "Ingresar la siguiente información:"
      ]
    },
    {
      "cell_type": "markdown",
      "metadata": {
        "id": "G3FIDezJkqPz"
      },
      "source": [
        "- **Protocol**: FTP - File Transfer Protocol  \n",
        "- **Host**: persiann.eng.uci.edu  \n",
        "- **Logon Type**: Anonymous  "
      ]
    },
    {
      "cell_type": "markdown",
      "metadata": {
        "id": "JeeRR1hIkqPz"
      },
      "source": [
        "<div style=\"text-align:center;\"><img style=\"width: 60%;\" src=\"https://github.com/paulmunozpauta/Curso_ML_pronostico_hidrologico/blob/main/notebooks/static/imgs/FTP_PERSIANN.png?raw=1\"></div>"
      ]
    },
    {
      "cell_type": "markdown",
      "metadata": {
        "id": "5Ufb05wvkqPz"
      },
      "source": [
        "Una vez conectado, tendrás acceso remoto a la carpeta de datos PERSIANN.\n",
        "\n"
      ]
    },
    {
      "cell_type": "markdown",
      "metadata": {
        "id": "EqoWQPmpkqPz"
      },
      "source": [
        "<div style=\"text-align:center;\"><img style=\"width: 100%;\" src=\"https://github.com/paulmunozpauta/Curso_ML_pronostico_hidrologico/blob/main/notebooks/static/imgs/Filezilla_PERSIANN_CCS.png?raw=1\"></div>"
      ]
    },
    {
      "cell_type": "markdown",
      "metadata": {
        "id": "kJrd5u0dkqPz"
      },
      "source": [
        "## Descargar datos del repositorio PERSIANN-CCS\n",
        "\n",
        "\n",
        "\n",
        "\n",
        "\n",
        "\n",
        "\n"
      ]
    },
    {
      "cell_type": "markdown",
      "metadata": {
        "id": "kvAwwnm3kqPz"
      },
      "source": [
        "Click derecho en la carpeta/archivo que queremos descargar en la carpeta local"
      ]
    },
    {
      "cell_type": "markdown",
      "metadata": {
        "id": "Nljl35sZkqPz"
      },
      "source": [
        "<div style=\"text-align:center;\"><img style=\"width: 100%;\" src=\"https://github.com/paulmunozpauta//Curso_ML_pronostico_hidrologico/blob/main/notebooks/static/imgs/Filezilla_local.png?raw=1\"></div>"
      ]
    },
    {
      "cell_type": "markdown",
      "metadata": {
        "id": "HBf4un9okqPz"
      },
      "source": [
        "Ahora tenemos los archivos de precipitación PERSIANN-CCS.\n",
        "\n",
        "\n",
        "\n",
        "\n",
        "\n",
        "\n",
        "\n"
      ]
    },
    {
      "cell_type": "markdown",
      "metadata": {
        "id": "8h9Lb_EDkqPz"
      },
      "source": [
        "## Abrir un archivo PERSIANN-CCS\n",
        "\n",
        "\n",
        "\n",
        "\n",
        "\n",
        "\n",
        "\n"
      ]
    },
    {
      "cell_type": "markdown",
      "metadata": {
        "id": "As4vDKGMkqP0"
      },
      "source": [
        "*Importar* las librerías necesarias:\n",
        "\n",
        "\n",
        "\n",
        "\n",
        "\n",
        "\n",
        "\n"
      ]
    },
    {
      "cell_type": "code",
      "execution_count": null,
      "metadata": {
        "scrolled": true,
        "id": "EN5YeHVVkqP0"
      },
      "outputs": [],
      "source": [
        "import gzip\n",
        "import descartes\n",
        "import pickle\n",
        "import numpy as np\n",
        "from shapely.geometry import mapping\n",
        "import geopandas as gpd\n",
        "import os\n",
        "import glob\n",
        "import rasterio\n",
        "import rioxarray\n",
        "import xarray as xr\n",
        "import matplotlib.pyplot as plt\n",
        "from datetime import datetime, timedelta\n",
        "import datetime\n",
        "import calendar\n",
        "import pandas as pd\n",
        "from scipy import signal\n",
        "import pickle\n",
        "import h5py\n",
        "def JulianDate_to_MMDDYYY(y,jd):\n",
        "    month = 1\n",
        "    day = 0\n",
        "    while jd - calendar.monthrange(y,month)[1] > 0 and month <= 12:\n",
        "        jd = jd - calendar.monthrange(y,month)[1]\n",
        "        month = month + 1\n",
        "    return jd, month\n",
        "\n",
        "def getLine(data, line_no):\n",
        "    n = 0\n",
        "    lastPos = -1\n",
        "    for i in range(0, len(data) - 1):\n",
        "        if data[i] == \"\\n\":\n",
        "            n = n + 1\n",
        "            if n == line_no:\n",
        "                return data[lastPos + 1:i]\n",
        "            else:\n",
        "                lastPos = i;\n",
        "\n",
        "    if(n == line_no - 1):\n",
        "        return data[lastPos + 1:]\n",
        "    return \"\""
      ]
    },
    {
      "cell_type": "markdown",
      "metadata": {
        "id": "nomhtcMSkqP0"
      },
      "source": [
        "Define la carpeta del proyecto donde se guardan los datos de PERSIANN-CCS.\n",
        "\n",
        "\n",
        "\n",
        "\n",
        "\n",
        "\n",
        "\n",
        "\n",
        "\n"
      ]
    },
    {
      "cell_type": "code",
      "execution_count": null,
      "metadata": {
        "id": "qdxdGDJCkqP0"
      },
      "outputs": [],
      "source": [
        "folder = os.getcwd()\n",
        "folder"
      ]
    },
    {
      "cell_type": "code",
      "execution_count": null,
      "metadata": {
        "id": "uC9C2f7kkqP0"
      },
      "outputs": [],
      "source": [
        "folder_files= folder+'/notebooks/data/PERSIANN-CCS/Hourly/Global/2023/'\n",
        "folder_files"
      ]
    },
    {
      "cell_type": "markdown",
      "metadata": {
        "id": "8CFN7icekqP1"
      },
      "source": [
        "Define el nombre de un archivo para su lectura"
      ]
    },
    {
      "cell_type": "code",
      "execution_count": null,
      "metadata": {
        "id": "hyQEgVCgkqP1"
      },
      "outputs": [],
      "source": [
        "item=folder_files+'rgccs1h2301500.bin.gz'\n",
        "item"
      ]
    },
    {
      "cell_type": "markdown",
      "source": [
        "'rgccs1h2301500.bin.gz' es un archivo binario comprimido cuyo nombre codifica lo siguiente:\n",
        "\n",
        "**1h**: datos horarios\n",
        "\n",
        "**23**: año 2023\n",
        "\n",
        "**015**: día 15 del año\n",
        "\n",
        "**00**: datos correspondientes a las 00 horas (formato de 24 horas)"
      ],
      "metadata": {
        "id": "ZY0gxuxfQW0x"
      }
    },
    {
      "cell_type": "markdown",
      "metadata": {
        "id": "dJ1ibFzGkqP1"
      },
      "source": [
        "Leer el archivo"
      ]
    },
    {
      "cell_type": "code",
      "execution_count": null,
      "metadata": {
        "id": "LBO0c9MpkqP1"
      },
      "outputs": [],
      "source": [
        "f = gzip.GzipFile(item)\n",
        "file_content = f.read()\n",
        "data = np.frombuffer(file_content, dtype=np.dtype('>h')).astype(float)\n",
        "data = data.reshape((3000,9000))\n",
        "data_1 = data[:,4500:]\n",
        "data_2 = data[:,:4500]\n",
        "data = np.hstack((data_1,data_2))\n",
        "data= data/100\n",
        "data[data < 0] = np.nan\n",
        "data = np.flipud(data)"
      ]
    },
    {
      "cell_type": "code",
      "execution_count": null,
      "metadata": {
        "id": "uTJmxUaSkqP1"
      },
      "outputs": [],
      "source": [
        "data"
      ]
    },
    {
      "cell_type": "markdown",
      "metadata": {
        "id": "nvAMIifCkqP1"
      },
      "source": [
        "Georreferenciación de la matriz de datos.\n",
        "\n",
        "\n",
        "\n",
        "\n",
        "\n",
        "\n",
        "\n"
      ]
    },
    {
      "cell_type": "code",
      "execution_count": null,
      "metadata": {
        "id": "KGgvKRXHkqP1"
      },
      "outputs": [],
      "source": [
        "lon=np.arange(-180,180,0.04)\n",
        "lat=np.arange(60,-60,-0.04)\n",
        "data = xr.DataArray(data=data, dims=[\"lat\", \"lon\"], coords=[lat,lon])\n",
        "data.rio.set_spatial_dims(x_dim=\"lon\", y_dim=\"lat\", inplace=True)\n",
        "data"
      ]
    },
    {
      "cell_type": "markdown",
      "metadata": {
        "id": "lGH-uLMqkqP1"
      },
      "source": [
        "Graficar el archivo de precipitación global georreferenciado.\n",
        "\n",
        "\n",
        "\n",
        "\n",
        "\n",
        "\n",
        "\n"
      ]
    },
    {
      "cell_type": "code",
      "execution_count": null,
      "metadata": {
        "scrolled": true,
        "id": "GNGJa9RokqP1"
      },
      "outputs": [],
      "source": [
        "# Load the world map correctly\n",
        "world = gpd.read_file(gpd.datasets.get_path('naturalearth_lowres'))\n",
        "# Create figure and axis\n",
        "fig, ax = plt.subplots(figsize=(10, 10))\n",
        "# Plot world boundaries\n",
        "world.boundary.plot(ax=ax, color='white', linewidth=0.5)\n",
        "# Plot the data\n",
        "max_val = data.max()\n",
        "im = ax.imshow(data, cmap='cividis', vmin=0.1, vmax=int(max_val), extent=[-180, 180, -90, 90])\n",
        "# Set aspect ratio\n",
        "ax.set_aspect('equal')\n",
        "# Add title and labels\n",
        "plt.title(\"Global precipitation PERSIANN-CCS\")\n",
        "cbar = plt.colorbar(im, ax=ax, orientation='horizontal')\n",
        "cbar.set_label('Precipitation (mm)')\n",
        "plt.xlabel(\"Longitude\")\n",
        "plt.ylabel(\"Latitude\")\n",
        "# Show the plot\n",
        "plt.show()"
      ]
    },
    {
      "cell_type": "markdown",
      "metadata": {
        "id": "G3O8CQvTkqP2"
      },
      "source": [
        "Extraer estadísticas básicas de los datos"
      ]
    },
    {
      "cell_type": "code",
      "execution_count": null,
      "metadata": {
        "id": "45JrJhHokqP2"
      },
      "outputs": [],
      "source": [
        "print('Maximum precipitation = ',data.max().values,'mm')\n",
        "print('Average precipitation = ',data.mean().values,'mm')\n",
        "print('Minimum precipitation = ',data.min().values,'mm')"
      ]
    },
    {
      "cell_type": "markdown",
      "metadata": {
        "id": "gleFgZsvkqP2"
      },
      "source": [
        "Cargar el shapefile de un sistema hidrológico:\n",
        "- Por ejemplo, una cuenca montañosa en Ecuador, Sudamérica"
      ]
    },
    {
      "cell_type": "code",
      "execution_count": null,
      "metadata": {
        "id": "avxy9MpSkqP2"
      },
      "outputs": [],
      "source": [
        "data.rio.write_crs(\"epsg:4326\", inplace=True)\n",
        "catchment_shp_1 = gpd.read_file(folder+'/notebooks/shapefiles/Catchment_SA.shp')"
      ]
    },
    {
      "cell_type": "markdown",
      "metadata": {
        "id": "15uDSRW4kqP2"
      },
      "source": [
        "Mostrar la cuenca"
      ]
    },
    {
      "cell_type": "code",
      "execution_count": null,
      "metadata": {
        "id": "b-71aK0GkqP2"
      },
      "outputs": [],
      "source": [
        "catchment_shp_1.plot()"
      ]
    },
    {
      "cell_type": "code",
      "source": [
        "import folium\n",
        "# Convert to WGS 84 (if needed)\n",
        "if catchment_shp_1.crs != \"EPSG:4326\":\n",
        "    catchment_shp_1 = catchment_shp_1.to_crs(epsg=4326)\n",
        "centroid = catchment_shp_1.geometry.centroid.iloc[0]\n",
        "map_center = [centroid.y, centroid.x]\n",
        "# Create a folium map centered on the catchment area\n",
        "m = folium.Map(location=map_center, zoom_start=10)\n",
        "# Add the catchment boundaries to the map\n",
        "folium.GeoJson(catchment_shp_1, name=\"Catchment\").add_to(m)\n",
        "# Display the map\n",
        "m"
      ],
      "metadata": {
        "id": "OPbpgSHzS2tG"
      },
      "execution_count": null,
      "outputs": []
    },
    {
      "cell_type": "markdown",
      "source": [
        "Área de la cuenca (polígono).\n",
        "\n",
        "\n",
        "\n",
        "\n",
        "\n",
        "\n",
        "\n"
      ],
      "metadata": {
        "id": "04tORv0JPQzs"
      }
    },
    {
      "cell_type": "code",
      "source": [
        "catchment_shp_1 = catchment_shp_1.to_crs(epsg=32717)\n",
        "catchment_shp_1[\"Area_m2\"] = catchment_shp_1.geometry.area\n",
        "catchment_shp_1[\"Area_km2\"] = catchment_shp_1[\"Area_m2\"] / 1e6\n",
        "catchment_shp_1[\"Area_km2\"]"
      ],
      "metadata": {
        "id": "PfokpHnsO-h5"
      },
      "execution_count": null,
      "outputs": []
    },
    {
      "cell_type": "markdown",
      "metadata": {
        "id": "xXAoCLffkqP2"
      },
      "source": [
        "Recortar los datos de precipitación global a la cuenca\n",
        "\n",
        "\n",
        "\n",
        "\n",
        "\n",
        "\n",
        "\n"
      ]
    },
    {
      "cell_type": "code",
      "execution_count": null,
      "metadata": {
        "id": "qZUb37o-kqP2"
      },
      "outputs": [],
      "source": [
        "data_catchment_1 = data.rio.clip(catchment_shp_1.geometry.apply(mapping),catchment_shp_1.crs,all_touched=True)"
      ]
    },
    {
      "cell_type": "markdown",
      "metadata": {
        "id": "09iuTAMNkqP2"
      },
      "source": [
        "Mostrar la precipitación de la cuenca de montaña"
      ]
    },
    {
      "cell_type": "code",
      "execution_count": null,
      "metadata": {
        "id": "QajlQCtkkqP2"
      },
      "outputs": [],
      "source": [
        "fig = plt.subplots(figsize=(8,8))\n",
        "data_catchment_1.plot(cmap='Blues')\n",
        "plt.title(\"PERSIANN-CCS precipitation\")\n",
        "plt.xlabel(\"Longitude\")\n",
        "plt.ylabel(\"Latitude\")\n",
        "plt.show()"
      ]
    },
    {
      "cell_type": "markdown",
      "metadata": {
        "id": "Y13ttG6FkqP2"
      },
      "source": [
        "Estadísticas básicas de precipitación para la cuenca\n",
        "\n",
        "\n",
        "\n",
        "\n",
        "\n",
        "\n",
        "\n"
      ]
    },
    {
      "cell_type": "code",
      "execution_count": null,
      "metadata": {
        "id": "nrKoCBafkqP2"
      },
      "outputs": [],
      "source": [
        "print('Maximum precipitation = ',data_catchment_1.max().values,'mm')\n",
        "print('Average precipitation= ',data_catchment_1.mean().values,'mm')\n",
        "print('Minimum precipitation = ',data_catchment_1.min().values,'mm')"
      ]
    },
    {
      "cell_type": "markdown",
      "metadata": {
        "id": "6PV5ybldkqP3"
      },
      "source": [
        "Ahora, para otra cuenca\n",
        "- Cuenca costera en Ecuador."
      ]
    },
    {
      "cell_type": "code",
      "execution_count": null,
      "metadata": {
        "id": "YsiYlPMskqP3"
      },
      "outputs": [],
      "source": [
        "catchment_shp_2 = gpd.read_file(folder+'/notebooks/shapefiles/Coastal_catchment.geojson')\n",
        "catchment_shp_2.plot()"
      ]
    },
    {
      "cell_type": "markdown",
      "source": [
        "Echemos un vistazo a la cuenca en Sudamérica."
      ],
      "metadata": {
        "id": "a1p5_fv5Stmd"
      }
    },
    {
      "cell_type": "code",
      "source": [
        "# Convert to WGS 84 (if needed)\n",
        "if catchment_shp_2.crs != \"EPSG:4326\":\n",
        "    catchment_shp_2 = catchment_shp_2.to_crs(epsg=4326)\n",
        "centroid = catchment_shp_2.geometry.centroid.iloc[0]\n",
        "map_center = [centroid.y, centroid.x]\n",
        "# Create a folium map centered on the catchment area\n",
        "m = folium.Map(location=map_center, zoom_start=10)\n",
        "# Add the catchment boundaries to the map\n",
        "folium.GeoJson(catchment_shp_2, name=\"Catchment\").add_to(m)\n",
        "# Display the map\n",
        "m"
      ],
      "metadata": {
        "id": "YI7uOwhBR8ME"
      },
      "execution_count": null,
      "outputs": []
    },
    {
      "cell_type": "markdown",
      "source": [
        "Área de la cuenca (polígono)"
      ],
      "metadata": {
        "id": "kAPhOmEhPel9"
      }
    },
    {
      "cell_type": "code",
      "source": [
        "# Convert to the correct UTM Zone (update based on location), reprojection for accurate calculations\n",
        "catchment_shp_2 = catchment_shp_2.to_crs(epsg=32717)  # UTM Zone 17S (Western Ecuador)\n",
        "catchment_shp_2[\"Area_m2\"] = catchment_shp_2.geometry.area\n",
        "catchment_shp_2[\"Area_km2\"] = catchment_shp_2[\"Area_m2\"] / 1e6\n",
        "catchment_shp_2[\"Area_km2\"]"
      ],
      "metadata": {
        "id": "WR7j7W1zPfM8"
      },
      "execution_count": null,
      "outputs": []
    },
    {
      "cell_type": "markdown",
      "metadata": {
        "id": "sy1TUyx2kqP3"
      },
      "source": [
        "Recortar los datos de precipitación global a la cuenca costera\n",
        "\n",
        "\n",
        "\n",
        "\n",
        "\n",
        "\n",
        "\n"
      ]
    },
    {
      "cell_type": "code",
      "execution_count": null,
      "metadata": {
        "scrolled": true,
        "id": "-7gud4xOkqP3"
      },
      "outputs": [],
      "source": [
        "data_catchment_2 = data.rio.clip(catchment_shp_2.geometry.apply(mapping),catchment_shp_2.crs,all_touched=True)"
      ]
    },
    {
      "cell_type": "markdown",
      "metadata": {
        "id": "r1bTv-PFkqP3"
      },
      "source": [
        "Mostrar la precipitación en la cuenca"
      ]
    },
    {
      "cell_type": "code",
      "execution_count": null,
      "metadata": {
        "id": "A_9cwWVHkqP3"
      },
      "outputs": [],
      "source": [
        "fig = plt.subplots(figsize=(8,8))\n",
        "data_catchment_2.plot(cmap='Blues')\n",
        "plt.title(\"PERSIANN-CCS precipitation\")\n",
        "plt.xlabel(\"Longitude\")\n",
        "plt.ylabel(\"Latitude\")\n",
        "plt.show()"
      ]
    },
    {
      "cell_type": "markdown",
      "metadata": {
        "id": "Ldo9o6h0kqP3"
      },
      "source": [
        "Estadísticas básicas de precipitación para la cuenca costera"
      ]
    },
    {
      "cell_type": "code",
      "execution_count": null,
      "metadata": {
        "id": "FZyYp9_BkqP3"
      },
      "outputs": [],
      "source": [
        "print('Maximum precipitation = ',data_catchment_2.max().values,'mm')\n",
        "print('Average precipitation= ',data_catchment_2.mean().values,'mm')\n",
        "print('Minimum precipitation = ',data_catchment_2.min().values,'mm')"
      ]
    },
    {
      "cell_type": "markdown",
      "metadata": {
        "id": "DWGEH6n0kqP3"
      },
      "source": [
        "**Ahora lee todos los archivos de precipitación descargados en la carpeta**"
      ]
    },
    {
      "cell_type": "markdown",
      "metadata": {
        "id": "phvYKzlokqP3"
      },
      "source": [
        "Crear una lista de los archivos descargados\n",
        "\n",
        "\n",
        "\n",
        "\n",
        "\n",
        "\n",
        "\n"
      ]
    },
    {
      "cell_type": "code",
      "execution_count": null,
      "metadata": {
        "id": "B43NijNUkqP3"
      },
      "outputs": [],
      "source": [
        "folder_files\n",
        "file_extension = \"*.bin.gz\"\n",
        "list_of_Files = glob.glob(os.path.join(folder_files, file_extension))\n",
        "list_of_Files = [file_name for file_name in list_of_Files if not file_name.startswith('.DS_Store')]\n",
        "list_of_Files.sort()"
      ]
    },
    {
      "cell_type": "markdown",
      "metadata": {
        "id": "_Dh_VZ-PkqP3"
      },
      "source": [
        "Mostrar la lista"
      ]
    },
    {
      "cell_type": "code",
      "execution_count": null,
      "metadata": {
        "id": "BML-TORykqP3"
      },
      "outputs": [],
      "source": [
        "list_of_Files[:10]"
      ]
    },
    {
      "cell_type": "markdown",
      "metadata": {
        "id": "7eSncKJIkqP3"
      },
      "source": [
        "Leer los archivos, uno por uno, y calcular la precipitación acumulada. La carpeta de datos contiene los primeros 15 días de enero de 2023"
      ]
    },
    {
      "cell_type": "code",
      "execution_count": null,
      "metadata": {
        "id": "qLfd9aHrkqP3"
      },
      "outputs": [],
      "source": [
        "data_sum = xr.DataArray(data=np.empty((3000, 9000)), dims=[\"lat\", \"lon\"])\n",
        "for index, item in enumerate(list_of_Files):\n",
        "    print(index+1, 'out of', len(list_of_Files))\n",
        "    f=gzip.GzipFile(item)\n",
        "    try:\n",
        "        file_content = f.read()\n",
        "    except (IOError, EOFError) as e:\n",
        "        continue\n",
        "    data = np.frombuffer(file_content, dtype=np.dtype('>h')).astype(float)\n",
        "    data = data.reshape((3000,9000))\n",
        "    data_1 = data[:,4500:]\n",
        "    data_2 = data[:,:4500]\n",
        "    data = np.hstack((data_1,data_2))\n",
        "    data= data/100\n",
        "    data[data < 0] = np.nan\n",
        "    data = np.flipud(data)\n",
        "    data = xr.DataArray(data=data, dims=[\"lat\", \"lon\"], coords=[lat,lon])\n",
        "    data_sum+=data"
      ]
    },
    {
      "cell_type": "code",
      "execution_count": null,
      "metadata": {
        "id": "qaAdRNBykqP3"
      },
      "outputs": [],
      "source": [
        "data_sum"
      ]
    },
    {
      "cell_type": "markdown",
      "metadata": {
        "id": "-Co9GIRckqP3"
      },
      "source": [
        "Georreferenciar los datos\n",
        "\n",
        "Recortar la precipitación satelital acumulada al shapefile de la cuenca (cuenca montañosa)."
      ]
    },
    {
      "cell_type": "code",
      "execution_count": null,
      "metadata": {
        "id": "W3rYpmZxkqP3"
      },
      "outputs": [],
      "source": [
        "data_sum.rio.set_spatial_dims(x_dim=\"lon\", y_dim=\"lat\", inplace=True)\n",
        "data_sum.rio.write_crs(\"epsg:4326\", inplace=True)\n",
        "data_catchment_1 = data_sum.rio.clip(catchment_shp_1.geometry.apply(mapping),catchment_shp_1.crs,all_touched=True)"
      ]
    },
    {
      "cell_type": "markdown",
      "metadata": {
        "id": "4ag6dEndkqP3"
      },
      "source": [
        "Graficar los datos.\n",
        "\n",
        "Mostrar estadísticas básicas."
      ]
    },
    {
      "cell_type": "code",
      "execution_count": null,
      "metadata": {
        "id": "qmVMZge7kqP3"
      },
      "outputs": [],
      "source": [
        "fig = plt.subplots(figsize=(8,8))\n",
        "plt.imshow(data_catchment_1,cmap='cividis',vmin=0.1,vmax=150)\n",
        "plt.title(\"PERSIANN-CCS precipitation\")\n",
        "plt.colorbar(label='Precipitation (mm)')\n",
        "plt.xlabel(\"Longitude\")\n",
        "plt.ylabel(\"Latitude\")\n",
        "plt.show()\n",
        "print('Maximum precipitación = ',data_catchment_1.max().values,'mm')\n",
        "print('Average precipitación = ',data_catchment_1.mean().values,'mm')\n",
        "print('Minimum precipitación = ',data_catchment_1.min().values,'mm')"
      ]
    },
    {
      "cell_type": "markdown",
      "metadata": {
        "id": "IkU70EEakqP4"
      },
      "source": [
        "Ahora para la cuenca costera\n",
        "\n"
      ]
    },
    {
      "cell_type": "code",
      "execution_count": null,
      "metadata": {
        "id": "AJ1uZv2ykqP4"
      },
      "outputs": [],
      "source": [
        "data_catchment_2 = data_sum.rio.clip(catchment_shp_2.geometry.apply(mapping),catchment_shp_2.crs,all_touched=True)\n",
        "fig = plt.subplots(figsize=(8,8))\n",
        "plt.imshow(data_catchment_2,cmap='cividis',vmin=0.1,vmax=150)\n",
        "plt.title(\"PERSIANN-CCS precipitation\")\n",
        "plt.colorbar(label='Precipitation (mm)')\n",
        "plt.xlabel(\"Longitude\")\n",
        "plt.ylabel(\"Latitude\")\n",
        "plt.show()\n",
        "print('Maximum precipitación = ',np.round(data_catchment_2.max().values,2),'mm')\n",
        "print('Average precipitación = ',np.round(data_catchment_2.mean().values,2),'mm')\n",
        "print('Minimum precipitación = ',np.round(data_catchment_2.min().values,2),'mm')"
      ]
    },
    {
      "cell_type": "markdown",
      "metadata": {
        "id": "t-77Gy1pkqP4"
      },
      "source": [
        "## Generar un DataFrame con series temporales de precipitación (para cada píxel):\n",
        "\n",
        "Ejemplo: En la cuenca de montaña, series temporales para el 1 de enero de 2023."
      ]
    },
    {
      "cell_type": "code",
      "execution_count": null,
      "metadata": {
        "scrolled": false,
        "id": "5htLsbjJkqP4"
      },
      "outputs": [],
      "source": [
        "dataset_list = []  # Store data frames for concatenation later\n",
        "for index, item in enumerate(list_of_Files[:24]):\n",
        "    print(index + 1, 'out of', len(list_of_Files[:24]))\n",
        "\n",
        "    try:\n",
        "        with gzip.GzipFile(item, 'rb') as f:\n",
        "            file_content = f.read()\n",
        "    except (IOError, EOFError):\n",
        "        continue  # Skip to next file if there's an error\n",
        "\n",
        "    data = np.frombuffer(file_content, dtype=np.dtype('>h')).astype(float)  # Convert to float\n",
        "    data = data.reshape((3000, 9000))\n",
        "    # Splitting and rearranging data\n",
        "    data_1 = data[:, 4500:]\n",
        "    data_2 = data[:, :4500]\n",
        "    data = np.hstack((data_1, data_2))\n",
        "    data = data / 100  # Scale values\n",
        "    data[data < 0] = np.nan  # Replace negative values with NaN\n",
        "    data = np.flipud(data)  # Flip vertically\n",
        "    # Convert to xarray DataArray\n",
        "    data = xr.DataArray(data=data, dims=[\"lat\", \"lon\"], coords=[lat, lon])\n",
        "    data.rio.set_spatial_dims(x_dim=\"lon\", y_dim=\"lat\", inplace=True)\n",
        "    data.rio.write_crs(\"epsg:4326\", inplace=True)\n",
        "    # Clip the data using the catchment shape\n",
        "    data = data.rio.clip(catchment_shp_1.geometry.apply(mapping), catchment_shp_1.crs, all_touched=True)\n",
        "    data = data.values.flatten()\n",
        "    # Extract date from filename\n",
        "    date_att = str(item)\n",
        "    year = int('20' + str(date_att[-14:-12]))\n",
        "    julian_day = int(str(date_att[-12:-9]))\n",
        "    day, month = JulianDate_to_MMDDYYY(year, julian_day)\n",
        "    hour = int(str(date_att[-9:-7]))\n",
        "    date = datetime.datetime(year, month, day, hour, 0, 0)\n",
        "    # Convert data to DataFrame\n",
        "    data = pd.DataFrame(data)\n",
        "    data = data.dropna()\n",
        "    data = data.T\n",
        "    data.index = pd.DatetimeIndex([date])  # Set datetime index\n",
        "    dataset_list.append(data)  # Append to the list\n",
        "# Concatenate all DataFrames\n",
        "if dataset_list:\n",
        "    dataset = pd.concat(dataset_list)"
      ]
    },
    {
      "cell_type": "markdown",
      "metadata": {
        "id": "XHt5ja3UkqP4"
      },
      "source": [
        "Preprocesar la información\n",
        "\n",
        "Eliminar datos duplicados"
      ]
    },
    {
      "cell_type": "code",
      "execution_count": null,
      "metadata": {
        "id": "mAvG_MDIkqP4"
      },
      "outputs": [],
      "source": [
        "dataset.shape"
      ]
    },
    {
      "cell_type": "code",
      "execution_count": null,
      "metadata": {
        "id": "b7aAp1AIkqP4"
      },
      "outputs": [],
      "source": [
        "dataset = dataset.sort_index()\n",
        "dataset = dataset[~dataset.index.duplicated(keep='first')]\n",
        "dataset"
      ]
    },
    {
      "cell_type": "markdown",
      "metadata": {
        "id": "5Q2LrKT4kqP4"
      },
      "source": [
        "\n",
        "Exportar esta información en formato CSV.\n",
        "\n",
        "\n",
        "\n"
      ]
    },
    {
      "cell_type": "code",
      "execution_count": null,
      "metadata": {
        "id": "SFecNAlhkqP4"
      },
      "outputs": [],
      "source": [
        "dataset.to_csv(folder_files+\"PERSIANN-CCS_UTC_Catchment_1.csv\", index=True)"
      ]
    },
    {
      "cell_type": "markdown",
      "metadata": {
        "id": "tozWRTnPkqP4"
      },
      "source": [
        "Graficar la precipitación satelital extraída.\n",
        "\n",
        "\n",
        "\n",
        "\n"
      ]
    },
    {
      "cell_type": "code",
      "execution_count": null,
      "metadata": {
        "id": "7rBLTVoWkqP4"
      },
      "outputs": [],
      "source": [
        "fig, ax = plt.subplots(figsize=(10,5))\n",
        "dataset.plot(kind='bar', ax=ax)\n",
        "ax.legend(title='Legend Title')\n",
        "plt.ylabel('Satellite precipitation (mm)')\n",
        "plt.legend(loc='upper center', bbox_to_anchor=(0.5, -0.6), ncol=6)\n",
        "plt.show()"
      ]
    },
    {
      "cell_type": "markdown",
      "metadata": {
        "id": "ZpGfX7-PkqP4"
      },
      "source": [
        "Calcular y graficar la precipitación acumulada.\n",
        "\n",
        "\n",
        "\n",
        "\n",
        "\n",
        "\n",
        "\n"
      ]
    },
    {
      "cell_type": "code",
      "execution_count": null,
      "metadata": {
        "id": "noLfiy5QkqP4"
      },
      "outputs": [],
      "source": [
        "fig, ax = plt.subplots(figsize=(10,5))\n",
        "dataset.cumsum().plot(ax=ax)\n",
        "ax.legend(title='Legend Title')\n",
        "plt.ylabel('Accumulated precipitation (mm)')\n",
        "plt.legend(loc='upper center', bbox_to_anchor=(0.5, -0.3), ncol=6)\n",
        "plt.show()"
      ]
    },
    {
      "cell_type": "markdown",
      "source": [
        "## Ejercicio: Generar un DataFrame con series temporales de precipitación (para cada píxel) para la cuenca en la zona costera"
      ],
      "metadata": {
        "id": "C5qwpMZdmdNs"
      }
    },
    {
      "cell_type": "code",
      "source": [],
      "metadata": {
        "id": "m3JJ439WnhzS"
      },
      "execution_count": null,
      "outputs": []
    },
    {
      "cell_type": "code",
      "source": [],
      "metadata": {
        "id": "00j1lf5RnhtQ"
      },
      "execution_count": null,
      "outputs": []
    },
    {
      "cell_type": "markdown",
      "metadata": {
        "id": "j_O7AzmdkqP4"
      },
      "source": [
        "# Precipitación satelital IMERG."
      ]
    },
    {
      "cell_type": "markdown",
      "metadata": {
        "id": "3z2sz8RrkqP4"
      },
      "source": [
        "Sitio web: https://gpm.nasa.gov/data/imerg\n",
        "\n",
        "## Subproductos disponibles:\n",
        "\n",
        "- Early Run\n",
        "- Late Run\n",
        "- Final Run\n",
        "\n",
        "Nos enfocaremos en el subproducto con la resolución espacial/temporal más fina, IMERG-Early Run."
      ]
    },
    {
      "cell_type": "markdown",
      "source": [
        "Visualización de datos on-line\n",
        "https://giovanni.gsfc.nasa.gov/giovanni/"
      ],
      "metadata": {
        "id": "V43BezIhoIlY"
      }
    },
    {
      "cell_type": "markdown",
      "metadata": {
        "id": "QznlZKTskqP4"
      },
      "source": [
        "## Registro previo para descargar datos IMERG."
      ]
    },
    {
      "cell_type": "markdown",
      "metadata": {
        "id": "64GWrBPIkqP5"
      },
      "source": [
        "Para acceder y descargar datos IMERG, se requiere un registro previo. Sigue estos pasos:"
      ]
    },
    {
      "cell_type": "markdown",
      "metadata": {
        "id": "qIRqJAfekqP5"
      },
      "source": [
        "https://registration.pps.eosdis.nasa.gov/registration/newContact.html"
      ]
    },
    {
      "cell_type": "markdown",
      "metadata": {
        "id": "r2Tq2ghtkqP5"
      },
      "source": [
        "<div style=\"text-align:center;\"><img style=\"width: 100%;\" src=\"https://github.com/paulmunozpauta/Curso_ML_pronostico_hidrologico/blob/main/notebooks/static/imgs/IMERG_registration.png?raw=1\"></div>\n"
      ]
    },
    {
      "cell_type": "markdown",
      "metadata": {
        "id": "ZPXWIS2-kqP5"
      },
      "source": [
        "Una vez registrado, confirma tu cuenta mediante el enlace de verificación enviado por correo electrónico."
      ]
    },
    {
      "cell_type": "markdown",
      "metadata": {
        "id": "YPVC9DXYkqP5"
      },
      "source": [
        "## Conectarse al repositorio de datos IMERG."
      ]
    },
    {
      "cell_type": "markdown",
      "metadata": {
        "id": "szHzBmHykqP5"
      },
      "source": [
        "Ingresa la siguiente información para conectarte al servidor FTP de IMERG:\n",
        "\n",
        "- Protocolo: FTP - Protocolo de Transferencia de Archivos\n",
        "\n",
        "- Host: jsimpsonftps.pps.eosdis.nasa.gov\n",
        "\n",
        "- Tipo de inicio de sesión: Normal\n",
        "\n",
        "- Ingresa tu nombre de usuario y contraseña(igual al correo) de tu cuenta de NASA Earthdata.\n",
        "\n",
        "Una vez conectado, navega hasta el directorio deseado para acceder a los datos IMERG"
      ]
    },
    {
      "cell_type": "markdown",
      "metadata": {
        "id": "EmyFdyRUkqP5"
      },
      "source": [
        "<div style=\"text-align:center;\"><img style=\"width: 100%;\" src=\"https://github.com/paulmunozpauta/Curso_ML_pronostico_hidrologico/blob/main/notebooks/static/imgs/IMERG_FTP.png?raw=1\"></div>"
      ]
    },
    {
      "cell_type": "markdown",
      "metadata": {
        "id": "_ixKb46EkqP5"
      },
      "source": [
        "Al conectarte, obtienes acceso remoto a la carpeta de datos IMERG.\n",
        "Desde allí, puedes navegar por los directorios para localizar y descargar los conjuntos de datos deseados."
      ]
    },
    {
      "cell_type": "markdown",
      "metadata": {
        "id": "ucCRYpRxkqP5"
      },
      "source": [
        "<div style=\"text-align:center;\"><img style=\"width: 100%;\" src=\"https://github.com/paulmunozpauta//Curso_ML_pronostico_hidrologico/blob/main/notebooks/static/imgs/IMERG_server.png?raw=1\"></div>"
      ]
    },
    {
      "cell_type": "markdown",
      "metadata": {
        "id": "7SZHJ46UkqP5"
      },
      "source": [
        "## Descargar datos del repositorio IMERG-Early Run\n"
      ]
    },
    {
      "cell_type": "markdown",
      "metadata": {
        "id": "DLRZh2JhkqP5"
      },
      "source": [
        "Haz clic derecho sobre la carpeta o archivo que deseas descargar y selecciona \"Download\" para guardarlo en tu directorio local.  "
      ]
    },
    {
      "cell_type": "markdown",
      "metadata": {
        "id": "9GoaIqJjkqP5"
      },
      "source": [
        "## Abrir un archivo de precipitación IMERG."
      ]
    },
    {
      "cell_type": "markdown",
      "metadata": {
        "id": "TZShKqKzkqP5"
      },
      "source": [
        "Definir la carpeta de datos IMERG-ER"
      ]
    },
    {
      "cell_type": "code",
      "execution_count": null,
      "metadata": {
        "id": "tTYz9MF2kqP5"
      },
      "outputs": [],
      "source": [
        "folder = os.getcwd()\n",
        "folder_files= folder+'/notebooks/data/IMERG-ER/Hourly/Global/202301/'\n",
        "folder_files"
      ]
    },
    {
      "cell_type": "markdown",
      "metadata": {
        "id": "HTMo1C9ZkqP5"
      },
      "source": [
        "Crear una lista de archivos de precipitación. Los datos contienen precipitación satelital del 31 de enero de 2023."
      ]
    },
    {
      "cell_type": "code",
      "execution_count": null,
      "metadata": {
        "id": "wnbb9c-2kqP5"
      },
      "outputs": [],
      "source": [
        "list_of_Files = glob.glob(folder_files + '/*H5')\n",
        "list_of_Files.sort()"
      ]
    },
    {
      "cell_type": "markdown",
      "metadata": {
        "id": "E_GVLD69kqP5"
      },
      "source": [
        "Mostrar la lista"
      ]
    },
    {
      "cell_type": "code",
      "execution_count": null,
      "metadata": {
        "id": "rDgaQmNVkqP5"
      },
      "outputs": [],
      "source": [
        "list_of_Files"
      ]
    },
    {
      "cell_type": "markdown",
      "metadata": {
        "id": "aUP3KBNkkqP5"
      },
      "source": [
        "Definir la ruta de un archivo para su lectura.\n",
        "\n",
        "\n",
        "\n",
        "\n",
        "\n",
        "\n",
        "\n"
      ]
    },
    {
      "cell_type": "code",
      "execution_count": null,
      "metadata": {
        "id": "Cu9oZikKkqP5"
      },
      "outputs": [],
      "source": [
        "item=folder_files+'3B-HHR-E.MS.MRG.3IMERG.20230131-S000000-E002959.0000.V06C.RT-H5'\n",
        "item"
      ]
    },
    {
      "cell_type": "markdown",
      "source": [
        "La codificación del nombre '3B-HHR-E.MS.MRG.3IMERG.20230131-S000000-E002959.0000.V06C.RT-H5' indica:\n",
        "\n",
        "- 3B-HHR-E.MS.MRG.3IMERG: información del producto\n",
        "\n",
        "- 20230131: AñoMesDía\n",
        "\n",
        "- S000000: inicio del escaneo (hhmmss)\n",
        "\n",
        "- E002959: fin del escaneo (hhmmss)"
      ],
      "metadata": {
        "id": "gI4_U9BXUwVi"
      }
    },
    {
      "cell_type": "markdown",
      "metadata": {
        "id": "PRgshfY1kqP5"
      },
      "source": [
        "Abrir un único archivo de precipitación.\n",
        "\n",
        "\n",
        "\n",
        "\n",
        "\n",
        "\n",
        "\n"
      ]
    },
    {
      "cell_type": "code",
      "execution_count": null,
      "metadata": {
        "id": "63-q1GSQkqP5"
      },
      "outputs": [],
      "source": [
        "data = h5py.File( item, 'r' )\n",
        "precip = data['/Grid/precipitationCal'][:]\n",
        "precip = np.flip( precip[0,:,:].transpose(), axis=0 )"
      ]
    },
    {
      "cell_type": "markdown",
      "metadata": {
        "id": "V-D9H7aUkqP5"
      },
      "source": [
        "Mostrar la matriz de datos leída..\n",
        "\n",
        "\n",
        "\n",
        "\n",
        "\n",
        "\n",
        "\n"
      ]
    },
    {
      "cell_type": "code",
      "execution_count": null,
      "metadata": {
        "id": "2GKsU-mMkqP6"
      },
      "outputs": [],
      "source": [
        "precip"
      ]
    },
    {
      "cell_type": "markdown",
      "metadata": {
        "id": "pnOehe3zkqP6"
      },
      "source": [
        "Estadísticas básicas.\n",
        "\n",
        "\n",
        "\n",
        "\n",
        "\n",
        "\n",
        "\n"
      ]
    },
    {
      "cell_type": "code",
      "execution_count": null,
      "metadata": {
        "id": "JmgZfgdlkqP6"
      },
      "outputs": [],
      "source": [
        "print('Maximum precipitation = ',precip.max(),'mm')\n",
        "print('Average precipitation = ',precip.mean(),'mm')\n",
        "print('Minimum precipitation = ',precip.min(),'mm')"
      ]
    },
    {
      "cell_type": "markdown",
      "metadata": {
        "id": "haFDMo13kqP6"
      },
      "source": [
        "Mostrar la información de precipitación global.\n",
        "\n",
        "\n",
        "\n",
        "\n",
        "\n",
        "\n",
        "\n"
      ]
    },
    {
      "cell_type": "code",
      "execution_count": null,
      "metadata": {
        "id": "8Wu61Xz6kqP6"
      },
      "outputs": [],
      "source": [
        "fig, ax = plt.subplots(figsize=(10, 10))\n",
        "im = ax.imshow(precip, vmin=-1, vmax=80, extent=[-180, 180, -90, 90])\n",
        "cbar = plt.colorbar(im, orientation='horizontal')\n",
        "cbar.set_label('millimeters/hour')\n",
        "for lon in np.arange(-90, 90+1, 90):\n",
        "    plt.plot((lon, lon), (-90, +90), color=\"black\", linewidth=1)\n",
        "for lat in np.arange(-60, 60+1, 30):\n",
        "    plt.plot((-180, +180), (lat, lat), color=\"black\", linewidth=1)\n",
        "plt.show()"
      ]
    },
    {
      "cell_type": "markdown",
      "metadata": {
        "id": "LYdQ4RfckqP6"
      },
      "source": [
        "Georreferenciar y recortar los datos de precipitación global a la cuenca montañosa.\n",
        "\n",
        "\n",
        "\n",
        "\n",
        "\n",
        "\n",
        "\n"
      ]
    },
    {
      "cell_type": "code",
      "execution_count": null,
      "metadata": {
        "id": "7s7MDtZ_kqP6"
      },
      "outputs": [],
      "source": [
        "precip"
      ]
    },
    {
      "cell_type": "code",
      "execution_count": null,
      "metadata": {
        "id": "MZ1bcqnikqP6"
      },
      "outputs": [],
      "source": [
        "lat = data['/Grid/lat'][:]\n",
        "lon = data['/Grid/lon'][:]\n",
        "catchment_shp_1 = gpd.read_file(folder+'/notebooks/shapefiles/Catchment_SA.shp')\n",
        "data = xr.DataArray(data=precip, dims=[\"lat\", \"lon\"], coords=[lat,lon])\n",
        "data.rio.set_spatial_dims(x_dim=\"lon\", y_dim=\"lat\", inplace=True)\n",
        "data.rio.write_crs(\"epsg:4326\", inplace=True)\n",
        "data_catchment_1= data.rio.clip(catchment_shp_1.geometry.apply(mapping),catchment_shp_1.crs,all_touched=True)"
      ]
    },
    {
      "cell_type": "markdown",
      "metadata": {
        "id": "xi9Z-nHGkqP6"
      },
      "source": [
        "Graficar la precipitación para la cuenca montañosa.\n",
        "\n",
        "\n",
        "\n",
        "\n",
        "\n",
        "\n",
        "\n"
      ]
    },
    {
      "cell_type": "code",
      "execution_count": null,
      "metadata": {
        "id": "ZWA3ZTj7kqP6"
      },
      "outputs": [],
      "source": [
        "fig = plt.subplots(figsize=(8,8))\n",
        "data_catchment_1.plot(cmap='cividis',vmin=0,vmax=0.01)\n",
        "plt.title(\"IMERG-ER precipitation\")\n",
        "plt.xlabel(\"Longitude\")\n",
        "plt.ylabel(\"Latitude\")\n",
        "plt.show()"
      ]
    },
    {
      "cell_type": "markdown",
      "metadata": {
        "id": "qq8Z9XZskqP6"
      },
      "source": [
        "Estadísticas básicas.\n",
        "\n",
        "\n",
        "\n",
        "\n",
        "\n",
        "\n",
        "\n"
      ]
    },
    {
      "cell_type": "code",
      "execution_count": null,
      "metadata": {
        "id": "QqYaJJOEkqP6"
      },
      "outputs": [],
      "source": [
        "print('Maximum precipitation = ', np.round(data_catchment_1.max().values,2),'mm')\n",
        "print('Average precipitation = ', np.round(data_catchment_1.mean().values,2),'mm')\n",
        "print('Minimum precipitation = ', np.round(data_catchment_1.min().values,2),'mm')"
      ]
    },
    {
      "cell_type": "markdown",
      "metadata": {
        "id": "f5FWvu2NkqP6"
      },
      "source": [
        "Graficar la precipitación para la cuenca costera.\n",
        "\n",
        "\n",
        "\n",
        "\n",
        "\n",
        "\n",
        "\n"
      ]
    },
    {
      "cell_type": "code",
      "source": [
        "catchment_shp_2 = gpd.read_file(folder+'/notebooks/shapefiles/Coastal_catchment.geojson')\n"
      ],
      "metadata": {
        "id": "QNP5YDiqQbw_"
      },
      "execution_count": null,
      "outputs": []
    },
    {
      "cell_type": "code",
      "source": [
        "data"
      ],
      "metadata": {
        "id": "OYJ18kmVQgEL"
      },
      "execution_count": null,
      "outputs": []
    },
    {
      "cell_type": "code",
      "source": [
        "data_catchment_2 = data.rio.clip(catchment_shp_2.geometry.apply(mapping),catchment_shp_2.crs,all_touched=True)\n"
      ],
      "metadata": {
        "id": "sCY3aJ5hQeZ4"
      },
      "execution_count": null,
      "outputs": []
    },
    {
      "cell_type": "code",
      "execution_count": null,
      "metadata": {
        "id": "hODvJwrvkqP6"
      },
      "outputs": [],
      "source": [
        "fig = plt.subplots(figsize=(8,8))\n",
        "data_catchment_2.plot(cmap='cividis',vmin=0,vmax=5)\n",
        "plt.title(\"Precipitación Global IMERG-ER\")\n",
        "plt.xlabel(\"Longitude\")\n",
        "plt.ylabel(\"Latitude\")\n",
        "plt.show()\n",
        "print('Maximum precipitation = ', np.round(data_catchment_2.max().values,2),'mm')\n",
        "print('Average precipitation = ', np.round(data_catchment_2.mean().values,2),'mm')\n",
        "print('Minimum precipitation = ', np.round(data_catchment_2.min().values,2),'mm')"
      ]
    },
    {
      "cell_type": "markdown",
      "metadata": {
        "id": "hCh0MgNrkqP6"
      },
      "source": [
        "Leer y procesar todos los archivos IMERG-ER en la carpeta.\n",
        "\n",
        "\n",
        "\n",
        "\n",
        "\n",
        "\n",
        "\n"
      ]
    },
    {
      "cell_type": "markdown",
      "metadata": {
        "id": "Zh1T36lNkqP6"
      },
      "source": [
        "Mostrar la lista"
      ]
    },
    {
      "cell_type": "code",
      "execution_count": null,
      "metadata": {
        "id": "d22kDpiPkqP6"
      },
      "outputs": [],
      "source": [
        "list_of_Files"
      ]
    },
    {
      "cell_type": "markdown",
      "metadata": {
        "id": "2em9aSWSkqP7"
      },
      "source": [
        "Acumular precipitación.\n",
        "\n",
        "\n",
        "\n",
        "\n",
        "\n",
        "\n",
        "\n"
      ]
    },
    {
      "cell_type": "code",
      "execution_count": null,
      "metadata": {
        "id": "mXxT5r8nkqP7"
      },
      "outputs": [],
      "source": [
        "data_sum = xr.DataArray(data=np.empty((1800, 3600)), dims=[\"lat\", \"lon\"])\n",
        "for index, item in enumerate(list_of_Files):\n",
        "    print(index+1, 'out of', len(list_of_Files))\n",
        "    try:\n",
        "        data = h5py.File(item, 'r')\n",
        "        precip = data['/Grid/precipitationCal'][:]\n",
        "        precip[precip < 0] = np.nan\n",
        "        precip = np.flip(precip[0,:,:].transpose(), axis=0)\n",
        "        theLats = data['Grid/lat'][:]\n",
        "        theLons = data['Grid/lon'][:]\n",
        "        x, y = np.meshgrid(theLons, theLats)\n",
        "\n",
        "        precip = xr.DataArray(precip, dims=('lat', 'lon'), coords={'lat' : theLats, 'lon' : theLons})\n",
        "\n",
        "        data_sum += precip\n",
        "\n",
        "        data.close()\n",
        "\n",
        "    except (IOError, EOFError) as e:\n",
        "        continue"
      ]
    },
    {
      "cell_type": "markdown",
      "metadata": {
        "id": "Uf3hZAVkkqP7"
      },
      "source": [
        "Graficar la información de precipitación acumulada del 31 de enero de 2023.\n",
        "\n",
        "\n",
        "\n",
        "\n",
        "\n",
        "\n",
        "\n"
      ]
    },
    {
      "cell_type": "code",
      "execution_count": null,
      "metadata": {
        "id": "b1dkO3-JkqP7"
      },
      "outputs": [],
      "source": [
        "fig, ax = plt.subplots(figsize=(10, 10))\n",
        "im = ax.imshow(data_sum, vmin=-1, vmax=1400, extent=[-180, 180, -90, 90])\n",
        "cbar = plt.colorbar(im, orientation='horizontal')\n",
        "cbar.set_label('millimeters/hour')\n",
        "\n",
        "for lon in np.arange(-90, 90+1, 90):\n",
        "    plt.plot((lon, lon), (-90, +90), color=\"black\", linewidth=1)\n",
        "for lat in np.arange(-60, 60+1, 30):\n",
        "    plt.plot((-180, +180), (lat, lat), color=\"black\", linewidth=1)\n",
        "\n",
        "plt.show()"
      ]
    },
    {
      "cell_type": "markdown",
      "metadata": {
        "id": "5VouLBTKkqP7"
      },
      "source": [
        "Recortar esa información a la cuenca montañosa.\n"
      ]
    },
    {
      "cell_type": "code",
      "execution_count": null,
      "metadata": {
        "id": "DzS90lh8kqP7"
      },
      "outputs": [],
      "source": [
        "data_sum.rio.set_spatial_dims(x_dim=\"lon\", y_dim=\"lat\", inplace=True)\n",
        "data_sum.rio.write_crs(\"epsg:4326\", inplace=True)\n",
        "data_sum_catchment_1= data_sum.rio.clip(catchment_shp_1.geometry.apply(mapping),catchment_shp_1.crs,all_touched=True)\n",
        "data_sum_catchment_1"
      ]
    },
    {
      "cell_type": "code",
      "execution_count": null,
      "metadata": {
        "id": "YhBzOXRbkqP7"
      },
      "outputs": [],
      "source": [
        "fig = plt.subplots(figsize=(8,8))\n",
        "data_sum_catchment_1.plot(cmap='cividis',vmin=0,vmax=16)\n",
        "plt.title(\"IMERG-ER precipitation\")\n",
        "plt.xlabel(\"Longitude\")\n",
        "plt.ylabel(\"Latitude\")\n",
        "plt.show()\n",
        "print('Maximum precipitación = ', np.round(data_sum_catchment_1.max().values,2),'mm')\n",
        "print('Average precipitación = ', np.round(data_sum_catchment_1.mean().values,2),'mm')\n",
        "print('Minimum precipitation = ', np.round(data_sum_catchment_1.min().values,2),'mm')"
      ]
    },
    {
      "cell_type": "markdown",
      "metadata": {
        "id": "Icvtk4hnkqP7"
      },
      "source": [
        "Ahora para la cuenca costera.\n",
        "\n",
        "\n",
        "\n",
        "\n",
        "\n",
        "\n",
        "\n"
      ]
    },
    {
      "cell_type": "code",
      "execution_count": null,
      "metadata": {
        "id": "S_0U_xO_kqP7"
      },
      "outputs": [],
      "source": [
        "data_sum = xr.DataArray(data_sum, dims=('lat', 'lon'), coords={'lat' : theLats, 'lon' : theLons})\n",
        "data_sum.rio.set_spatial_dims(x_dim=\"lon\", y_dim=\"lat\", inplace=True)\n",
        "data_sum.rio.write_crs(\"epsg:4326\", inplace=True)\n",
        "data_sum_catchment_2= data_sum.rio.clip(catchment_shp_2.geometry.apply(mapping),catchment_shp_2.crs,all_touched=True)\n",
        "fig = plt.subplots(figsize=(8,8))\n",
        "data_sum_catchment_2.plot(cmap='cividis',vmin=0,vmax=9)\n",
        "plt.title(\"IMERG-ER precipitation\")\n",
        "plt.xlabel(\"Longitude\")\n",
        "plt.ylabel(\"Latitude\")\n",
        "plt.show()\n",
        "print('Maximum precipitation = ', np.round(data_sum_catchment_2.max().values,2),'mm')\n",
        "print('Average precipitation = ', np.round(data_sum_catchment_2.mean().values,2),'mm')\n",
        "print('Minimum precipitation = ', np.round(data_sum_catchment_2.min().values,2),'mm')"
      ]
    },
    {
      "cell_type": "markdown",
      "metadata": {
        "id": "1_9pqWCckqP7"
      },
      "source": [
        "Generar una base de datos con series temporales de precipitación (píxeles) para la cuenca montañosa.\n",
        "\n",
        "\n",
        "\n"
      ]
    },
    {
      "cell_type": "code",
      "execution_count": null,
      "metadata": {
        "id": "bVbhgMEBkqP7"
      },
      "outputs": [],
      "source": [
        "dataset_list = []  # List to store DataFrames for concatenation later\n",
        "for index, item in enumerate(list_of_Files):\n",
        "    print(index + 1, 'out of', len(list_of_Files))\n",
        "    try:\n",
        "        with h5py.File(item, 'r') as data:\n",
        "            precip = data['/Grid/precipitationCal'][:]\n",
        "    except (IOError, EOFError):\n",
        "        continue  # Skip file if there's an error\n",
        "    precip[precip < 0] = np.nan  # Replace negative values with NaN\n",
        "    precip = np.flip(precip[0, :, :].transpose(), axis=0)  # Flip and transpose\n",
        "    # Convert to xarray DataArray\n",
        "    precip = xr.DataArray(precip, dims=('lat', 'lon'), coords={'lat': theLats, 'lon': theLons})\n",
        "    precip.rio.set_spatial_dims(x_dim=\"lon\", y_dim=\"lat\", inplace=True)\n",
        "    precip.rio.write_crs(\"epsg:4326\", inplace=True)\n",
        "    # Clip the data using the catchment shape\n",
        "    precip = precip.rio.clip(catchment_shp_1.geometry.apply(mapping), catchment_shp_1.crs, all_touched=True)\n",
        "    precip = precip.values.flatten()\n",
        "    # Extract date from filename\n",
        "    year = int(item[-40:-36])\n",
        "    month = int(item[-36:-34])\n",
        "    day = int(item[-34:-32])\n",
        "    hour = int(item[-22:-20])\n",
        "    minute = int(item[-20:-18])\n",
        "    date = datetime.datetime(year, month, day, hour, minute, 0)\n",
        "    # Convert data to DataFrame\n",
        "    data = pd.DataFrame(precip)\n",
        "    data = data.dropna()\n",
        "    data = data.T\n",
        "    data.index = pd.DatetimeIndex([date])  # Set datetime index\n",
        "    dataset_list.append(data)  # Append DataFrame to list\n",
        "# Concatenate all DataFrames at the end\n",
        "if dataset_list:\n",
        "    dataset = pd.concat(dataset_list)\n",
        "# Resample dataset, treating NaNs as zeros\n",
        "dataset = dataset.resample('h', label='right', closed='right').sum().fillna(0)"
      ]
    },
    {
      "cell_type": "markdown",
      "metadata": {
        "id": "Tkwf_ESRkqP7"
      },
      "source": [
        "Mostrar dataframe"
      ]
    },
    {
      "cell_type": "code",
      "execution_count": null,
      "metadata": {
        "id": "YRbnF39mkqP7"
      },
      "outputs": [],
      "source": [
        "dataset"
      ]
    },
    {
      "cell_type": "markdown",
      "metadata": {
        "id": "RuO26C2_kqP7"
      },
      "source": [
        "Exportar el dataframe a CSV.\n",
        "\n",
        "\n",
        "\n",
        "\n",
        "\n",
        "\n",
        "\n"
      ]
    },
    {
      "cell_type": "code",
      "execution_count": null,
      "metadata": {
        "id": "UleJrKPEkqP7"
      },
      "outputs": [],
      "source": [
        "dataset.to_csv(folder_files+\"IMERG-ER_UTC_Catchment_1.csv\", index=True)"
      ]
    },
    {
      "cell_type": "markdown",
      "metadata": {
        "id": "4FThQ3cFkqP7"
      },
      "source": [
        "Graficar la serie temporal de precipitación.\n",
        "\n",
        "\n",
        "\n",
        "\n",
        "\n",
        "\n",
        "\n"
      ]
    },
    {
      "cell_type": "code",
      "execution_count": null,
      "metadata": {
        "id": "2buG2Z9akqP7"
      },
      "outputs": [],
      "source": [
        "fig, ax = plt.subplots(figsize=(10,5))\n",
        "dataset.plot(kind='bar', ax=ax)\n",
        "ax.legend(title='Legend Title')\n",
        "plt.ylabel('Precipitation_satellite (mm)')\n",
        "plt.legend(loc='upper center', bbox_to_anchor=(0.5, -0.6), ncol=7)\n",
        "plt.show()"
      ]
    },
    {
      "cell_type": "markdown",
      "metadata": {
        "id": "hg_q30t8kqP8"
      },
      "source": [
        "Graficar la precipitación acumulada.\n",
        "\n",
        "\n",
        "\n",
        "\n",
        "\n",
        "\n",
        "\n"
      ]
    },
    {
      "cell_type": "code",
      "execution_count": null,
      "metadata": {
        "id": "JAdxYz1-kqP8"
      },
      "outputs": [],
      "source": [
        "fig, ax = plt.subplots(figsize=(10,5))\n",
        "dataset.cumsum().plot( ax=ax)\n",
        "ax.legend(title='Legend Title')\n",
        "plt.ylabel('Precipitation_satellite (mm)')\n",
        "plt.legend(loc='upper center', bbox_to_anchor=(0.5, -0.6), ncol=7)\n",
        "plt.show()"
      ]
    },
    {
      "cell_type": "markdown",
      "metadata": {
        "id": "dKs6l3hSkqP8"
      },
      "source": [
        "## Ejercicio: Hacer lo mismo para la cuenca costera.\n",
        "\n",
        "\n",
        "\n",
        "\n",
        "\n",
        "\n",
        "\n"
      ]
    },
    {
      "cell_type": "markdown",
      "source": [
        "Generar una base de datos con series temporales de precipitación (píxeles) para la cuenca montañosa."
      ],
      "metadata": {
        "id": "qDhOUXKvrdPv"
      }
    },
    {
      "cell_type": "code",
      "execution_count": null,
      "metadata": {
        "id": "cvdH3m4GkqP8"
      },
      "outputs": [],
      "source": []
    },
    {
      "cell_type": "markdown",
      "metadata": {
        "id": "kiFq1Z8qkqP8"
      },
      "source": [
        "Mostrar el dataframe"
      ]
    },
    {
      "cell_type": "code",
      "execution_count": null,
      "metadata": {
        "id": "DiMrxe3zkqP8"
      },
      "outputs": [],
      "source": []
    },
    {
      "cell_type": "markdown",
      "metadata": {
        "id": "ng1i9OznkqP8"
      },
      "source": [
        "Exportar el dataframe a CSV.\n",
        "\n",
        "\n",
        "\n",
        "\n",
        "\n",
        "\n",
        "\n"
      ]
    },
    {
      "cell_type": "code",
      "execution_count": null,
      "metadata": {
        "id": "KM6MQ70XkqP8"
      },
      "outputs": [],
      "source": []
    },
    {
      "cell_type": "markdown",
      "metadata": {
        "id": "JlNQrZXQkqP8"
      },
      "source": [
        "Graficar la serie temporal de precipitación.\n",
        "\n",
        "\n",
        "\n",
        "\n",
        "\n",
        "\n",
        "\n"
      ]
    },
    {
      "cell_type": "code",
      "execution_count": null,
      "metadata": {
        "id": "EMhnVGJSkqP8"
      },
      "outputs": [],
      "source": []
    },
    {
      "cell_type": "markdown",
      "metadata": {
        "id": "Iibe5hOJkqP8"
      },
      "source": [
        "Graficar la precipitación acumulada.\n",
        "\n",
        "\n",
        "\n",
        "\n",
        "\n",
        "\n",
        "\n"
      ]
    },
    {
      "cell_type": "code",
      "execution_count": null,
      "metadata": {
        "scrolled": true,
        "id": "m-WXZwTdkqP8"
      },
      "outputs": [],
      "source": []
    }
  ],
  "metadata": {
    "kernelspec": {
      "display_name": "Python 3 (ipykernel)",
      "language": "python",
      "name": "python3"
    },
    "language_info": {
      "codemirror_mode": {
        "name": "ipython",
        "version": 3
      },
      "file_extension": ".py",
      "mimetype": "text/x-python",
      "name": "python",
      "nbconvert_exporter": "python",
      "pygments_lexer": "ipython3",
      "version": "3.11.11"
    },
    "colab": {
      "provenance": []
    }
  },
  "nbformat": 4,
  "nbformat_minor": 0
}